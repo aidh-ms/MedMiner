{
 "cells": [
  {
   "cell_type": "code",
   "execution_count": null,
   "metadata": {},
   "outputs": [],
   "source": [
    "from pathlib import Path\n",
    "\n",
    "from medminer.data import Document\n",
    "from medminer.utils.models import DefaultModel\n",
    "from medminer.task.boolean import BooleanTask\n",
    "\n",
    "base_path = Path.cwd().parent"
   ]
  },
  {
   "cell_type": "code",
   "execution_count": null,
   "metadata": {},
   "outputs": [],
   "source": [
    "docs = []\n",
    "for file in (base_path / \"data\" / \"pre_medications\").glob(\"*.txt\"):\n",
    "    with open(file, \"r\") as f:\n",
    "        docs.append(Document(file.stem, f.read()))\n",
    "\n",
    "task = BooleanTask(\n",
    "    DefaultModel().model, base_dir=base_path / \"examples\" / \"results\",\n",
    "    boolean_query=\"return all patients which where given antibiotics\",\n",
    ")\n",
    "\n",
    "for doc in docs:\n",
    "    task.run(doc.content)"
   ]
  },
  {
   "cell_type": "code",
   "execution_count": null,
   "metadata": {},
   "outputs": [],
   "source": [
    "docs = []\n",
    "for file in (base_path / \"data\" / \"medical_history\").glob(\"*.txt\"):\n",
    "    with open(file, \"r\") as f:\n",
    "        docs.append(Document(file.stem, f.read()))\n",
    "\n",
    "for file in (base_path / \"data\" / \"icu_diagnoses\").glob(\"*.txt\"):\n",
    "    with open(file, \"r\") as f:\n",
    "        docs.append(Document(file.stem, f.read()))\n",
    "        \n",
    "task = BooleanTask(\n",
    "    DefaultModel().model, base_dir=base_path / \"examples\" / \"results\",\n",
    "    boolean_query=\"return all patients diagnosed with diabetes\",\n",
    ")\n",
    "\n",
    "for doc in docs:\n",
    "    task.run(doc.content)"
   ]
  },
  {
   "cell_type": "code",
   "execution_count": null,
   "metadata": {},
   "outputs": [],
   "source": [
    "docs = []\n",
    "for file in (base_path / \"data\" / \"icu_course\").glob(\"*.txt\"):\n",
    "    with open(file, \"r\") as f:\n",
    "        docs.append(Document(file.stem, f.read()))\n",
    "\n",
    "task = BooleanTask(\n",
    "    DefaultModel().model, base_dir=base_path / \"examples\" / \"results\",\n",
    "    boolean_query=\"return all patients which were intubated\",\n",
    ")\n",
    "\n",
    "for doc in docs:\n",
    "    task.run(doc.content)"
   ]
  },
  {
   "cell_type": "code",
   "execution_count": null,
   "metadata": {},
   "outputs": [],
   "source": []
  }
 ],
 "metadata": {
  "kernelspec": {
   "display_name": ".venv",
   "language": "python",
   "name": "python3"
  },
  "language_info": {
   "codemirror_mode": {
    "name": "ipython",
    "version": 3
   },
   "file_extension": ".py",
   "mimetype": "text/x-python",
   "name": "python",
   "nbconvert_exporter": "python",
   "pygments_lexer": "ipython3",
   "version": "3.13.3"
  }
 },
 "nbformat": 4,
 "nbformat_minor": 2
}
