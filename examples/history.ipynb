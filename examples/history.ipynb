{
 "cells": [
  {
   "cell_type": "code",
   "execution_count": null,
   "metadata": {},
   "outputs": [],
   "source": [
    "import os\n",
    "from smolagents import AzureOpenAIServerModel\n",
    "\n",
    "model = AzureOpenAIServerModel(\n",
    "    model_id=os.environ.get(\"AZURE_OPENAI_MODEL\", \"\"),\n",
    "    azure_endpoint=os.environ.get(\"AZURE_OPENAI_ENDPOINT\", \"\"),\n",
    "    api_key=os.environ.get(\"AZURE_OPENAI_API_KEY\", \"\"),\n",
    "    api_version=os.environ.get(\"OPENAI_API_VERSION\", \"\")\n",
    ")"
   ]
  },
  {
   "cell_type": "code",
   "execution_count": null,
   "metadata": {},
   "outputs": [],
   "source": [
    "from pathlib import Path\n",
    "from medminer.data import Document\n",
    "\n",
    "docs = []\n",
    "for file in (Path.cwd().parent / \"data\" / \"medical_history\").glob(\"*.txt\"):\n",
    "    with open(file, \"r\") as f:\n",
    "        docs.append(Document(file.stem, f.read()))\n",
    "\n",
    "for file in (Path.cwd().parent / \"data\" / \"icu_diagnoses\").glob(\"*.txt\"):\n",
    "    with open(file, \"r\") as f:\n",
    "        docs.append(Document(file.stem, f.read()))"
   ]
  },
  {
   "cell_type": "code",
   "execution_count": null,
   "metadata": {},
   "outputs": [],
   "source": [
    "from medminer.utils.models import DefaultModel\n",
    "from medminer.task.history import HistoryTask\n",
    "\n",
    "task = HistoryTask(DefaultModel().model)\n",
    "\n",
    "for doc in docs:\n",
    "    task.run(doc.content)"
   ]
  }
 ],
 "metadata": {
  "kernelspec": {
   "display_name": ".venv",
   "language": "python",
   "name": "python3"
  },
  "language_info": {
   "codemirror_mode": {
    "name": "ipython",
    "version": 3
   },
   "file_extension": ".py",
   "mimetype": "text/x-python",
   "name": "python",
   "nbconvert_exporter": "python",
   "pygments_lexer": "ipython3",
   "version": "3.13.0"
  }
 },
 "nbformat": 4,
 "nbformat_minor": 2
}
