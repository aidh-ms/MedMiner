{
 "cells": [
  {
   "cell_type": "code",
   "execution_count": null,
   "metadata": {},
   "outputs": [],
   "source": [
    "from pathlib import Path\n",
    "from medminer.utils.data import Document\n",
    "\n",
    "base_path = Path.cwd().parent\n",
    "\n",
    "docs = []\n",
    "for file in (base_path / \"data\" / \"medical_history\").glob(\"*.txt\"):\n",
    "    with open(file, \"r\") as f:\n",
    "        docs.append(Document(file.stem, f.read()))\n",
    "\n",
    "for file in (base_path / \"data\" / \"icu_diagnoses\").glob(\"*.txt\"):\n",
    "    with open(file, \"r\") as f:\n",
    "        docs.append(Document(file.stem, f.read()))"
   ]
  },
  {
   "cell_type": "code",
   "execution_count": null,
   "metadata": {},
   "outputs": [],
   "source": [
    "import os\n",
    "\n",
    "from medminer.utils.models import DefaultModel\n",
    "from medminer.task.history import HistoryTask\n",
    "\n",
    "CLIENT_ID = os.getenv(\"ICD_CLIENT_ID\", \"\")\n",
    "CLIENT_SECRET = os.getenv(\"ICD_CLIENT_SECRET\", \"\")\n",
    "\n",
    "task = HistoryTask(\n",
    "    DefaultModel().model, \n",
    "    base_dir=base_path / \"examples\" / \"results\", \n",
    "    icd_client_id=CLIENT_ID, \n",
    "    icd_client_secret=CLIENT_SECRET\n",
    ")\n",
    "\n",
    "for doc in docs:\n",
    "    task.run(doc.content)"
   ]
  },
  {
   "cell_type": "code",
   "execution_count": null,
   "metadata": {},
   "outputs": [],
   "source": []
  }
 ],
 "metadata": {
  "kernelspec": {
   "display_name": ".venv",
   "language": "python",
   "name": "python3"
  },
  "language_info": {
   "codemirror_mode": {
    "name": "ipython",
    "version": 3
   },
   "file_extension": ".py",
   "mimetype": "text/x-python",
   "name": "python",
   "nbconvert_exporter": "python",
   "pygments_lexer": "ipython3",
   "version": "3.13.3"
  }
 },
 "nbformat": 4,
 "nbformat_minor": 2
}
