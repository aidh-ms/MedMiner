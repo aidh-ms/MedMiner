{
 "cells": [
  {
   "cell_type": "code",
   "execution_count": 1,
   "metadata": {},
   "outputs": [],
   "source": [
    "import os\n",
    "from smolagents import AzureOpenAIServerModel, TransformersModel\n",
    "\n",
    "MODE = 'azure'  # or 'azure'\n",
    "if MODE == 'azure':\n",
    "    model = AzureOpenAIServerModel(\n",
    "        model_id=os.environ.get(\"AZURE_OPENAI_MODEL\", \"\"),\n",
    "        azure_endpoint=os.environ.get(\"AZURE_OPENAI_ENDPOINT\", \"\"),\n",
    "        api_key=os.environ.get(\"AZURE_OPENAI_API_KEY\", \"\"),\n",
    "        api_version=os.environ.get(\"OPENAI_API_VERSION\", \"\")\n",
    "    )\n",
    "if MODE == 'local':\n",
    "    model = TransformersModel(\n",
    "        model_id=\"Qwen/Qwen2.5-Coder-32B-Instruct\",\n",
    "        device=\"cuda\" if os.environ.get(\"CUDA_VISIBLE_DEVICES\", \"\") else \"cpu\",\n",
    "        max_length=512,\n",
    "        temperature=0.7,\n",
    "        top_p=0.9,\n",
    "        top_k=50\n",
    "    )"
   ]
  },
  {
   "cell_type": "code",
   "execution_count": 2,
   "metadata": {},
   "outputs": [],
   "source": [
    "from pathlib import Path\n",
    "from medminer.data import Document\n",
    "\n",
    "docs = []\n",
    "for file in (Path.cwd().parent / \"data\" / \"pre_medications\").glob(\"*.txt\"):\n",
    "    with open(file, \"r\") as f:\n",
    "        docs.append(Document(file.stem, f.read()))"
   ]
  },
  {
   "cell_type": "code",
   "execution_count": 3,
   "metadata": {},
   "outputs": [
    {
     "data": {
      "text/html": [
       "<pre style=\"white-space:pre;overflow-x:auto;line-height:normal;font-family:Menlo,'DejaVu Sans Mono',consolas,'Courier New',monospace\"><span style=\"color: #d4b702; text-decoration-color: #d4b702\">╭──────────────────────────────────────────────────── </span><span style=\"color: #d4b702; text-decoration-color: #d4b702; font-weight: bold\">New run</span><span style=\"color: #d4b702; text-decoration-color: #d4b702\"> ────────────────────────────────────────────────────╮</span>\n",
       "<span style=\"color: #d4b702; text-decoration-color: #d4b702\">│</span>                                                                                                                 <span style=\"color: #d4b702; text-decoration-color: #d4b702\">│</span>\n",
       "<span style=\"color: #d4b702; text-decoration-color: #d4b702\">│</span> <span style=\"font-weight: bold\">Task name: medication</span>                                                                                           <span style=\"color: #d4b702; text-decoration-color: #d4b702\">│</span>\n",
       "<span style=\"color: #d4b702; text-decoration-color: #d4b702\">│</span> <span style=\"font-weight: bold\">Prompt: </span>                                                                                                        <span style=\"color: #d4b702; text-decoration-color: #d4b702\">│</span>\n",
       "<span style=\"color: #d4b702; text-decoration-color: #d4b702\">│</span> <span style=\"font-weight: bold\">    Given a list of medications, save all medications for the patient as csv.</span>                                   <span style=\"color: #d4b702; text-decoration-color: #d4b702\">│</span>\n",
       "<span style=\"color: #d4b702; text-decoration-color: #d4b702\">│</span> <span style=\"font-weight: bold\">    To complete the task make the following steps:</span>                                                              <span style=\"color: #d4b702; text-decoration-color: #d4b702\">│</span>\n",
       "<span style=\"color: #d4b702; text-decoration-color: #d4b702\">│</span> <span style=\"font-weight: bold\">    1. extract all information defined in the columns below from the document. Infer the </span>                       <span style=\"color: #d4b702; text-decoration-color: #d4b702\">│</span>\n",
       "<span style=\"color: #d4b702; text-decoration-color: #d4b702\">│</span> <span style=\"font-weight: bold\">medication_name_corrected column.</span>                                                                               <span style=\"color: #d4b702; text-decoration-color: #d4b702\">│</span>\n",
       "<span style=\"color: #d4b702; text-decoration-color: #d4b702\">│</span> <span style=\"font-weight: bold\">    2. get the RXCUI for all medications. Use the corrected name of the medications.</span>                            <span style=\"color: #d4b702; text-decoration-color: #d4b702\">│</span>\n",
       "<span style=\"color: #d4b702; text-decoration-color: #d4b702\">│</span> <span style=\"font-weight: bold\">    3. get the ATC code for all medications. Use the rxcui of the medications.</span>                                  <span style=\"color: #d4b702; text-decoration-color: #d4b702\">│</span>\n",
       "<span style=\"color: #d4b702; text-decoration-color: #d4b702\">│</span> <span style=\"font-weight: bold\">    4. save the medication information as csv with the columns defined below.</span>                                   <span style=\"color: #d4b702; text-decoration-color: #d4b702\">│</span>\n",
       "<span style=\"color: #d4b702; text-decoration-color: #d4b702\">│</span>                                                                                                                 <span style=\"color: #d4b702; text-decoration-color: #d4b702\">│</span>\n",
       "<span style=\"color: #d4b702; text-decoration-color: #d4b702\">│</span> <span style=\"font-weight: bold\">    Columns:</span>                                                                                                    <span style=\"color: #d4b702; text-decoration-color: #d4b702\">│</span>\n",
       "<span style=\"color: #d4b702; text-decoration-color: #d4b702\">│</span> <span style=\"font-weight: bold\">    - patient_id: The patient ID.</span>                                                                               <span style=\"color: #d4b702; text-decoration-color: #d4b702\">│</span>\n",
       "<span style=\"color: #d4b702; text-decoration-color: #d4b702\">│</span> <span style=\"font-weight: bold\">    - medication_name: The name of the medication in the document without dose, unit or additional information.</span> <span style=\"color: #d4b702; text-decoration-color: #d4b702\">│</span>\n",
       "<span style=\"color: #d4b702; text-decoration-color: #d4b702\">│</span> <span style=\"font-weight: bold\">    - medication_name_corrected: Use the following format \"Brand name or medication name (active ingredient)\". </span> <span style=\"color: #d4b702; text-decoration-color: #d4b702\">│</span>\n",
       "<span style=\"color: #d4b702; text-decoration-color: #d4b702\">│</span> <span style=\"font-weight: bold\">e.g. \"Aspirin (acetylsalicylic acid)\".</span>                                                                          <span style=\"color: #d4b702; text-decoration-color: #d4b702\">│</span>\n",
       "<span style=\"color: #d4b702; text-decoration-color: #d4b702\">│</span> <span style=\"font-weight: bold\">    - dose: The dose of the medication. this sould only contain the numeric value.</span>                              <span style=\"color: #d4b702; text-decoration-color: #d4b702\">│</span>\n",
       "<span style=\"color: #d4b702; text-decoration-color: #d4b702\">│</span> <span style=\"font-weight: bold\">    - unit: The unit of the dose (e.g. ml, mg, ...). if not applicable, write an empty string.</span>                  <span style=\"color: #d4b702; text-decoration-color: #d4b702\">│</span>\n",
       "<span style=\"color: #d4b702; text-decoration-color: #d4b702\">│</span> <span style=\"font-weight: bold\">    - dosage_morning: The dose in the morning. if not applicable, write a 0.</span>                                    <span style=\"color: #d4b702; text-decoration-color: #d4b702\">│</span>\n",
       "<span style=\"color: #d4b702; text-decoration-color: #d4b702\">│</span> <span style=\"font-weight: bold\">    - dosage_noon: The dose in the noon. if not applicable, write a 0.</span>                                          <span style=\"color: #d4b702; text-decoration-color: #d4b702\">│</span>\n",
       "<span style=\"color: #d4b702; text-decoration-color: #d4b702\">│</span> <span style=\"font-weight: bold\">    - dosage_evening: The dose in the evening. if not applicable, write a 0.</span>                                    <span style=\"color: #d4b702; text-decoration-color: #d4b702\">│</span>\n",
       "<span style=\"color: #d4b702; text-decoration-color: #d4b702\">│</span> <span style=\"font-weight: bold\">    - dosage_night: The dose in the night. if not applicable, write a 0.</span>                                        <span style=\"color: #d4b702; text-decoration-color: #d4b702\">│</span>\n",
       "<span style=\"color: #d4b702; text-decoration-color: #d4b702\">│</span> <span style=\"font-weight: bold\">    - dosage_information: Additional information about the dosage. if not applicable, write an empty string.</span>    <span style=\"color: #d4b702; text-decoration-color: #d4b702\">│</span>\n",
       "<span style=\"color: #d4b702; text-decoration-color: #d4b702\">│</span> <span style=\"font-weight: bold\">    - rxcui: The RXCUI of the medication. if not applicable, write an empty string.</span>                             <span style=\"color: #d4b702; text-decoration-color: #d4b702\">│</span>\n",
       "<span style=\"color: #d4b702; text-decoration-color: #d4b702\">│</span> <span style=\"font-weight: bold\">    - atc_id: The ATC code of the medication. if not applicable, write an empty string.</span>                         <span style=\"color: #d4b702; text-decoration-color: #d4b702\">│</span>\n",
       "<span style=\"color: #d4b702; text-decoration-color: #d4b702\">│</span> <span style=\"font-weight: bold\">    - atc_name: The name of the ATC code. if not applicable, write an empty string.</span>                             <span style=\"color: #d4b702; text-decoration-color: #d4b702\">│</span>\n",
       "<span style=\"color: #d4b702; text-decoration-color: #d4b702\">│</span> <span style=\"font-weight: bold\">    - atc_type: The type of the ATC code. if not applicable, write an empty string.</span>                             <span style=\"color: #d4b702; text-decoration-color: #d4b702\">│</span>\n",
       "<span style=\"color: #d4b702; text-decoration-color: #d4b702\">│</span>                                                                                                                 <span style=\"color: #d4b702; text-decoration-color: #d4b702\">│</span>\n",
       "<span style=\"color: #d4b702; text-decoration-color: #d4b702\">│</span>                                                                                                                 <span style=\"color: #d4b702; text-decoration-color: #d4b702\">│</span>\n",
       "<span style=\"color: #d4b702; text-decoration-color: #d4b702\">│</span> <span style=\"font-weight: bold\">--------------------------------------------------------------------------------</span>                                <span style=\"color: #d4b702; text-decoration-color: #d4b702\">│</span>\n",
       "<span style=\"color: #d4b702; text-decoration-color: #d4b702\">│</span> <span style=\"font-weight: bold\">Data: </span>                                                                                                          <span style=\"color: #d4b702; text-decoration-color: #d4b702\">│</span>\n",
       "<span style=\"color: #d4b702; text-decoration-color: #d4b702\">│</span> <span style=\"font-weight: bold\">    Patiend: 4</span>                                                                                                  <span style=\"color: #d4b702; text-decoration-color: #d4b702\">│</span>\n",
       "<span style=\"color: #d4b702; text-decoration-color: #d4b702\">│</span> <span style=\"font-weight: bold\">    \"</span>                                                                                                           <span style=\"color: #d4b702; text-decoration-color: #d4b702\">│</span>\n",
       "<span style=\"color: #d4b702; text-decoration-color: #d4b702\">│</span> <span style=\"font-weight: bold\">    Pantoprazol 40 mg  0-0-1</span>                                                                                    <span style=\"color: #d4b702; text-decoration-color: #d4b702\">│</span>\n",
       "<span style=\"color: #d4b702; text-decoration-color: #d4b702\">│</span> <span style=\"font-weight: bold\">    \\</span>                                                                                                           <span style=\"color: #d4b702; text-decoration-color: #d4b702\">│</span>\n",
       "<span style=\"color: #d4b702; text-decoration-color: #d4b702\">│</span> <span style=\"font-weight: bold\">    HCT 25 mg   1-0-0</span>                                                                                           <span style=\"color: #d4b702; text-decoration-color: #d4b702\">│</span>\n",
       "<span style=\"color: #d4b702; text-decoration-color: #d4b702\">│</span> <span style=\"font-weight: bold\">    \\</span>                                                                                                           <span style=\"color: #d4b702; text-decoration-color: #d4b702\">│</span>\n",
       "<span style=\"color: #d4b702; text-decoration-color: #d4b702\">│</span> <span style=\"font-weight: bold\">    Bisoprolol 5 mg   1-0-0</span>                                                                                     <span style=\"color: #d4b702; text-decoration-color: #d4b702\">│</span>\n",
       "<span style=\"color: #d4b702; text-decoration-color: #d4b702\">│</span> <span style=\"font-weight: bold\">    \\</span>                                                                                                           <span style=\"color: #d4b702; text-decoration-color: #d4b702\">│</span>\n",
       "<span style=\"color: #d4b702; text-decoration-color: #d4b702\">│</span> <span style=\"font-weight: bold\">    Ramipril 5 mg   1-0-0</span>                                                                                       <span style=\"color: #d4b702; text-decoration-color: #d4b702\">│</span>\n",
       "<span style=\"color: #d4b702; text-decoration-color: #d4b702\">│</span> <span style=\"font-weight: bold\">    \\</span>                                                                                                           <span style=\"color: #d4b702; text-decoration-color: #d4b702\">│</span>\n",
       "<span style=\"color: #d4b702; text-decoration-color: #d4b702\">│</span> <span style=\"font-weight: bold\">    Torasemid 10 mg   1-0-0</span>                                                                                     <span style=\"color: #d4b702; text-decoration-color: #d4b702\">│</span>\n",
       "<span style=\"color: #d4b702; text-decoration-color: #d4b702\">│</span> <span style=\"font-weight: bold\">    \\</span>                                                                                                           <span style=\"color: #d4b702; text-decoration-color: #d4b702\">│</span>\n",
       "<span style=\"color: #d4b702; text-decoration-color: #d4b702\">│</span> <span style=\"font-weight: bold\">    Clopidogrel 75 mg   1-0-0</span>                                                                                   <span style=\"color: #d4b702; text-decoration-color: #d4b702\">│</span>\n",
       "<span style=\"color: #d4b702; text-decoration-color: #d4b702\">│</span> <span style=\"font-weight: bold\">    \\</span>                                                                                                           <span style=\"color: #d4b702; text-decoration-color: #d4b702\">│</span>\n",
       "<span style=\"color: #d4b702; text-decoration-color: #d4b702\">│</span> <span style=\"font-weight: bold\">    ASS 100  1-0-0</span>                                                                                              <span style=\"color: #d4b702; text-decoration-color: #d4b702\">│</span>\n",
       "<span style=\"color: #d4b702; text-decoration-color: #d4b702\">│</span> <span style=\"font-weight: bold\">    \\</span>                                                                                                           <span style=\"color: #d4b702; text-decoration-color: #d4b702\">│</span>\n",
       "<span style=\"color: #d4b702; text-decoration-color: #d4b702\">│</span> <span style=\"font-weight: bold\">    Macumar nach INR\"</span>                                                                                           <span style=\"color: #d4b702; text-decoration-color: #d4b702\">│</span>\n",
       "<span style=\"color: #d4b702; text-decoration-color: #d4b702\">│</span>                                                                                                                 <span style=\"color: #d4b702; text-decoration-color: #d4b702\">│</span>\n",
       "<span style=\"color: #d4b702; text-decoration-color: #d4b702\">╰─ AzureOpenAIServerModel - gpt-4o ───────────────────────────────────────────────────────────────────────────────╯</span>\n",
       "</pre>\n"
      ],
      "text/plain": [
       "\u001b[38;2;212;183;2m╭─\u001b[0m\u001b[38;2;212;183;2m───────────────────────────────────────────────────\u001b[0m\u001b[38;2;212;183;2m \u001b[0m\u001b[1;38;2;212;183;2mNew run\u001b[0m\u001b[38;2;212;183;2m \u001b[0m\u001b[38;2;212;183;2m───────────────────────────────────────────────────\u001b[0m\u001b[38;2;212;183;2m─╮\u001b[0m\n",
       "\u001b[38;2;212;183;2m│\u001b[0m                                                                                                                 \u001b[38;2;212;183;2m│\u001b[0m\n",
       "\u001b[38;2;212;183;2m│\u001b[0m \u001b[1mTask name: medication\u001b[0m                                                                                           \u001b[38;2;212;183;2m│\u001b[0m\n",
       "\u001b[38;2;212;183;2m│\u001b[0m \u001b[1mPrompt: \u001b[0m                                                                                                        \u001b[38;2;212;183;2m│\u001b[0m\n",
       "\u001b[38;2;212;183;2m│\u001b[0m \u001b[1m    Given a list of medications, save all medications for the patient as csv.\u001b[0m                                   \u001b[38;2;212;183;2m│\u001b[0m\n",
       "\u001b[38;2;212;183;2m│\u001b[0m \u001b[1m    To complete the task make the following steps:\u001b[0m                                                              \u001b[38;2;212;183;2m│\u001b[0m\n",
       "\u001b[38;2;212;183;2m│\u001b[0m \u001b[1m    1. extract all information defined in the columns below from the document. Infer the \u001b[0m                       \u001b[38;2;212;183;2m│\u001b[0m\n",
       "\u001b[38;2;212;183;2m│\u001b[0m \u001b[1mmedication_name_corrected column.\u001b[0m                                                                               \u001b[38;2;212;183;2m│\u001b[0m\n",
       "\u001b[38;2;212;183;2m│\u001b[0m \u001b[1m    2. get the RXCUI for all medications. Use the corrected name of the medications.\u001b[0m                            \u001b[38;2;212;183;2m│\u001b[0m\n",
       "\u001b[38;2;212;183;2m│\u001b[0m \u001b[1m    3. get the ATC code for all medications. Use the rxcui of the medications.\u001b[0m                                  \u001b[38;2;212;183;2m│\u001b[0m\n",
       "\u001b[38;2;212;183;2m│\u001b[0m \u001b[1m    4. save the medication information as csv with the columns defined below.\u001b[0m                                   \u001b[38;2;212;183;2m│\u001b[0m\n",
       "\u001b[38;2;212;183;2m│\u001b[0m                                                                                                                 \u001b[38;2;212;183;2m│\u001b[0m\n",
       "\u001b[38;2;212;183;2m│\u001b[0m \u001b[1m    Columns:\u001b[0m                                                                                                    \u001b[38;2;212;183;2m│\u001b[0m\n",
       "\u001b[38;2;212;183;2m│\u001b[0m \u001b[1m    - patient_id: The patient ID.\u001b[0m                                                                               \u001b[38;2;212;183;2m│\u001b[0m\n",
       "\u001b[38;2;212;183;2m│\u001b[0m \u001b[1m    - medication_name: The name of the medication in the document without dose, unit or additional information.\u001b[0m \u001b[38;2;212;183;2m│\u001b[0m\n",
       "\u001b[38;2;212;183;2m│\u001b[0m \u001b[1m    - medication_name_corrected: Use the following format \"Brand name or medication name (active ingredient)\". \u001b[0m \u001b[38;2;212;183;2m│\u001b[0m\n",
       "\u001b[38;2;212;183;2m│\u001b[0m \u001b[1me.g. \"Aspirin (acetylsalicylic acid)\".\u001b[0m                                                                          \u001b[38;2;212;183;2m│\u001b[0m\n",
       "\u001b[38;2;212;183;2m│\u001b[0m \u001b[1m    - dose: The dose of the medication. this sould only contain the numeric value.\u001b[0m                              \u001b[38;2;212;183;2m│\u001b[0m\n",
       "\u001b[38;2;212;183;2m│\u001b[0m \u001b[1m    - unit: The unit of the dose (e.g. ml, mg, ...). if not applicable, write an empty string.\u001b[0m                  \u001b[38;2;212;183;2m│\u001b[0m\n",
       "\u001b[38;2;212;183;2m│\u001b[0m \u001b[1m    - dosage_morning: The dose in the morning. if not applicable, write a 0.\u001b[0m                                    \u001b[38;2;212;183;2m│\u001b[0m\n",
       "\u001b[38;2;212;183;2m│\u001b[0m \u001b[1m    - dosage_noon: The dose in the noon. if not applicable, write a 0.\u001b[0m                                          \u001b[38;2;212;183;2m│\u001b[0m\n",
       "\u001b[38;2;212;183;2m│\u001b[0m \u001b[1m    - dosage_evening: The dose in the evening. if not applicable, write a 0.\u001b[0m                                    \u001b[38;2;212;183;2m│\u001b[0m\n",
       "\u001b[38;2;212;183;2m│\u001b[0m \u001b[1m    - dosage_night: The dose in the night. if not applicable, write a 0.\u001b[0m                                        \u001b[38;2;212;183;2m│\u001b[0m\n",
       "\u001b[38;2;212;183;2m│\u001b[0m \u001b[1m    - dosage_information: Additional information about the dosage. if not applicable, write an empty string.\u001b[0m    \u001b[38;2;212;183;2m│\u001b[0m\n",
       "\u001b[38;2;212;183;2m│\u001b[0m \u001b[1m    - rxcui: The RXCUI of the medication. if not applicable, write an empty string.\u001b[0m                             \u001b[38;2;212;183;2m│\u001b[0m\n",
       "\u001b[38;2;212;183;2m│\u001b[0m \u001b[1m    - atc_id: The ATC code of the medication. if not applicable, write an empty string.\u001b[0m                         \u001b[38;2;212;183;2m│\u001b[0m\n",
       "\u001b[38;2;212;183;2m│\u001b[0m \u001b[1m    - atc_name: The name of the ATC code. if not applicable, write an empty string.\u001b[0m                             \u001b[38;2;212;183;2m│\u001b[0m\n",
       "\u001b[38;2;212;183;2m│\u001b[0m \u001b[1m    - atc_type: The type of the ATC code. if not applicable, write an empty string.\u001b[0m                             \u001b[38;2;212;183;2m│\u001b[0m\n",
       "\u001b[38;2;212;183;2m│\u001b[0m                                                                                                                 \u001b[38;2;212;183;2m│\u001b[0m\n",
       "\u001b[38;2;212;183;2m│\u001b[0m                                                                                                                 \u001b[38;2;212;183;2m│\u001b[0m\n",
       "\u001b[38;2;212;183;2m│\u001b[0m \u001b[1m--------------------------------------------------------------------------------\u001b[0m                                \u001b[38;2;212;183;2m│\u001b[0m\n",
       "\u001b[38;2;212;183;2m│\u001b[0m \u001b[1mData: \u001b[0m                                                                                                          \u001b[38;2;212;183;2m│\u001b[0m\n",
       "\u001b[38;2;212;183;2m│\u001b[0m \u001b[1m    Patiend: 4\u001b[0m                                                                                                  \u001b[38;2;212;183;2m│\u001b[0m\n",
       "\u001b[38;2;212;183;2m│\u001b[0m \u001b[1m    \"\u001b[0m                                                                                                           \u001b[38;2;212;183;2m│\u001b[0m\n",
       "\u001b[38;2;212;183;2m│\u001b[0m \u001b[1m    Pantoprazol 40 mg  0-0-1\u001b[0m                                                                                    \u001b[38;2;212;183;2m│\u001b[0m\n",
       "\u001b[38;2;212;183;2m│\u001b[0m \u001b[1m    \\\u001b[0m                                                                                                           \u001b[38;2;212;183;2m│\u001b[0m\n",
       "\u001b[38;2;212;183;2m│\u001b[0m \u001b[1m    HCT 25 mg   1-0-0\u001b[0m                                                                                           \u001b[38;2;212;183;2m│\u001b[0m\n",
       "\u001b[38;2;212;183;2m│\u001b[0m \u001b[1m    \\\u001b[0m                                                                                                           \u001b[38;2;212;183;2m│\u001b[0m\n",
       "\u001b[38;2;212;183;2m│\u001b[0m \u001b[1m    Bisoprolol 5 mg   1-0-0\u001b[0m                                                                                     \u001b[38;2;212;183;2m│\u001b[0m\n",
       "\u001b[38;2;212;183;2m│\u001b[0m \u001b[1m    \\\u001b[0m                                                                                                           \u001b[38;2;212;183;2m│\u001b[0m\n",
       "\u001b[38;2;212;183;2m│\u001b[0m \u001b[1m    Ramipril 5 mg   1-0-0\u001b[0m                                                                                       \u001b[38;2;212;183;2m│\u001b[0m\n",
       "\u001b[38;2;212;183;2m│\u001b[0m \u001b[1m    \\\u001b[0m                                                                                                           \u001b[38;2;212;183;2m│\u001b[0m\n",
       "\u001b[38;2;212;183;2m│\u001b[0m \u001b[1m    Torasemid 10 mg   1-0-0\u001b[0m                                                                                     \u001b[38;2;212;183;2m│\u001b[0m\n",
       "\u001b[38;2;212;183;2m│\u001b[0m \u001b[1m    \\\u001b[0m                                                                                                           \u001b[38;2;212;183;2m│\u001b[0m\n",
       "\u001b[38;2;212;183;2m│\u001b[0m \u001b[1m    Clopidogrel 75 mg   1-0-0\u001b[0m                                                                                   \u001b[38;2;212;183;2m│\u001b[0m\n",
       "\u001b[38;2;212;183;2m│\u001b[0m \u001b[1m    \\\u001b[0m                                                                                                           \u001b[38;2;212;183;2m│\u001b[0m\n",
       "\u001b[38;2;212;183;2m│\u001b[0m \u001b[1m    ASS 100  1-0-0\u001b[0m                                                                                              \u001b[38;2;212;183;2m│\u001b[0m\n",
       "\u001b[38;2;212;183;2m│\u001b[0m \u001b[1m    \\\u001b[0m                                                                                                           \u001b[38;2;212;183;2m│\u001b[0m\n",
       "\u001b[38;2;212;183;2m│\u001b[0m \u001b[1m    Macumar nach INR\"\u001b[0m                                                                                           \u001b[38;2;212;183;2m│\u001b[0m\n",
       "\u001b[38;2;212;183;2m│\u001b[0m                                                                                                                 \u001b[38;2;212;183;2m│\u001b[0m\n",
       "\u001b[38;2;212;183;2m╰─\u001b[0m\u001b[38;2;212;183;2m AzureOpenAIServerModel - gpt-4o \u001b[0m\u001b[38;2;212;183;2m──────────────────────────────────────────────────────────────────────────────\u001b[0m\u001b[38;2;212;183;2m─╯\u001b[0m\n"
      ]
     },
     "metadata": {},
     "output_type": "display_data"
    },
    {
     "data": {
      "text/html": [
       "<pre style=\"white-space:pre;overflow-x:auto;line-height:normal;font-family:Menlo,'DejaVu Sans Mono',consolas,'Courier New',monospace\"><span style=\"color: #d4b702; text-decoration-color: #d4b702\">━━━━━━━━━━━━━━━━━━━━━━━━━━━━━━━━━━━━━━━━━━━━━━━━━━━━━ </span><span style=\"font-weight: bold\">Step </span><span style=\"color: #008080; text-decoration-color: #008080; font-weight: bold\">1</span><span style=\"color: #d4b702; text-decoration-color: #d4b702\"> ━━━━━━━━━━━━━━━━━━━━━━━━━━━━━━━━━━━━━━━━━━━━━━━━━━━━━━</span>\n",
       "</pre>\n"
      ],
      "text/plain": [
       "\u001b[38;2;212;183;2m━━━━━━━━━━━━━━━━━━━━━━━━━━━━━━━━━━━━━━━━━━━━━━━━━━━━━ \u001b[0m\u001b[1mStep \u001b[0m\u001b[1;36m1\u001b[0m\u001b[38;2;212;183;2m ━━━━━━━━━━━━━━━━━━━━━━━━━━━━━━━━━━━━━━━━━━━━━━━━━━━━━━\u001b[0m\n"
      ]
     },
     "metadata": {},
     "output_type": "display_data"
    },
    {
     "data": {
      "text/html": [
       "<pre style=\"white-space:pre;overflow-x:auto;line-height:normal;font-family:Menlo,'DejaVu Sans Mono',consolas,'Courier New',monospace\">╭─────────────────────────────────────────────────────────────────────────────────────────────────────────────────╮\n",
       "│ Calling tool: 'extract_medication_data' with arguments: {'data': [{'patient_id': 4, 'medication_name':          │\n",
       "│ 'Pantoprazol', 'medication_name_corrected': 'Pantoprazol (pantoprazole)', 'dose': 40, 'unit': 'mg',             │\n",
       "│ 'dosage_morning': 0, 'dosage_noon': 0, 'dosage_evening': 1, 'dosage_night': 0, 'dosage_information': ''},       │\n",
       "│ {'patient_id': 4, 'medication_name': 'HCT', 'medication_name_corrected': 'HCT (hydrochlorothiazide)', 'dose':   │\n",
       "│ 25, 'unit': 'mg', 'dosage_morning': 1, 'dosage_noon': 0, 'dosage_evening': 0, 'dosage_night': 0,                │\n",
       "│ 'dosage_information': ''}, {'patient_id': 4, 'medication_name': 'Bisoprolol', 'medication_name_corrected':      │\n",
       "│ 'Bisoprolol (bisoprolol)', 'dose': 5, 'unit': 'mg', 'dosage_morning': 1, 'dosage_noon': 0, 'dosage_evening': 0, │\n",
       "│ 'dosage_night': 0, 'dosage_information': ''}, {'patient_id': 4, 'medication_name': 'Ramipril',                  │\n",
       "│ 'medication_name_corrected': 'Ramipril (ramipril)', 'dose': 5, 'unit': 'mg', 'dosage_morning': 1,               │\n",
       "│ 'dosage_noon': 0, 'dosage_evening': 0, 'dosage_night': 0, 'dosage_information': ''}, {'patient_id': 4,          │\n",
       "│ 'medication_name': 'Torasemid', 'medication_name_corrected': 'Torasemid (torasemide)', 'dose': 10, 'unit':      │\n",
       "│ 'mg', 'dosage_morning': 1, 'dosage_noon': 0, 'dosage_evening': 0, 'dosage_night': 0, 'dosage_information': ''}, │\n",
       "│ {'patient_id': 4, 'medication_name': 'Clopidogrel', 'medication_name_corrected': 'Clopidogrel (clopidogrel)',   │\n",
       "│ 'dose': 75, 'unit': 'mg', 'dosage_morning': 1, 'dosage_noon': 0, 'dosage_evening': 0, 'dosage_night': 0,        │\n",
       "│ 'dosage_information': ''}, {'patient_id': 4, 'medication_name': 'ASS', 'medication_name_corrected': 'ASS        │\n",
       "│ (acetylsalicylic acid)', 'dose': 100, 'unit': '', 'dosage_morning': 1, 'dosage_noon': 0, 'dosage_evening': 0,   │\n",
       "│ 'dosage_night': 0, 'dosage_information': ''}, {'patient_id': 4, 'medication_name': 'Macumar',                   │\n",
       "│ 'medication_name_corrected': 'Macumar (phenprocoumon)', 'dose': 0, 'unit': '', 'dosage_morning': 0,             │\n",
       "│ 'dosage_noon': 0, 'dosage_evening': 0, 'dosage_night': 0, 'dosage_information': 'nach INR'}]}                   │\n",
       "╰─────────────────────────────────────────────────────────────────────────────────────────────────────────────────╯\n",
       "</pre>\n"
      ],
      "text/plain": [
       "╭─────────────────────────────────────────────────────────────────────────────────────────────────────────────────╮\n",
       "│ Calling tool: 'extract_medication_data' with arguments: {'data': [{'patient_id': 4, 'medication_name':          │\n",
       "│ 'Pantoprazol', 'medication_name_corrected': 'Pantoprazol (pantoprazole)', 'dose': 40, 'unit': 'mg',             │\n",
       "│ 'dosage_morning': 0, 'dosage_noon': 0, 'dosage_evening': 1, 'dosage_night': 0, 'dosage_information': ''},       │\n",
       "│ {'patient_id': 4, 'medication_name': 'HCT', 'medication_name_corrected': 'HCT (hydrochlorothiazide)', 'dose':   │\n",
       "│ 25, 'unit': 'mg', 'dosage_morning': 1, 'dosage_noon': 0, 'dosage_evening': 0, 'dosage_night': 0,                │\n",
       "│ 'dosage_information': ''}, {'patient_id': 4, 'medication_name': 'Bisoprolol', 'medication_name_corrected':      │\n",
       "│ 'Bisoprolol (bisoprolol)', 'dose': 5, 'unit': 'mg', 'dosage_morning': 1, 'dosage_noon': 0, 'dosage_evening': 0, │\n",
       "│ 'dosage_night': 0, 'dosage_information': ''}, {'patient_id': 4, 'medication_name': 'Ramipril',                  │\n",
       "│ 'medication_name_corrected': 'Ramipril (ramipril)', 'dose': 5, 'unit': 'mg', 'dosage_morning': 1,               │\n",
       "│ 'dosage_noon': 0, 'dosage_evening': 0, 'dosage_night': 0, 'dosage_information': ''}, {'patient_id': 4,          │\n",
       "│ 'medication_name': 'Torasemid', 'medication_name_corrected': 'Torasemid (torasemide)', 'dose': 10, 'unit':      │\n",
       "│ 'mg', 'dosage_morning': 1, 'dosage_noon': 0, 'dosage_evening': 0, 'dosage_night': 0, 'dosage_information': ''}, │\n",
       "│ {'patient_id': 4, 'medication_name': 'Clopidogrel', 'medication_name_corrected': 'Clopidogrel (clopidogrel)',   │\n",
       "│ 'dose': 75, 'unit': 'mg', 'dosage_morning': 1, 'dosage_noon': 0, 'dosage_evening': 0, 'dosage_night': 0,        │\n",
       "│ 'dosage_information': ''}, {'patient_id': 4, 'medication_name': 'ASS', 'medication_name_corrected': 'ASS        │\n",
       "│ (acetylsalicylic acid)', 'dose': 100, 'unit': '', 'dosage_morning': 1, 'dosage_noon': 0, 'dosage_evening': 0,   │\n",
       "│ 'dosage_night': 0, 'dosage_information': ''}, {'patient_id': 4, 'medication_name': 'Macumar',                   │\n",
       "│ 'medication_name_corrected': 'Macumar (phenprocoumon)', 'dose': 0, 'unit': '', 'dosage_morning': 0,             │\n",
       "│ 'dosage_noon': 0, 'dosage_evening': 0, 'dosage_night': 0, 'dosage_information': 'nach INR'}]}                   │\n",
       "╰─────────────────────────────────────────────────────────────────────────────────────────────────────────────────╯\n"
      ]
     },
     "metadata": {},
     "output_type": "display_data"
    },
    {
     "data": {
      "text/html": [
       "<pre style=\"white-space:pre;overflow-x:auto;line-height:normal;font-family:Menlo,'DejaVu Sans Mono',consolas,'Courier New',monospace\">Observations: |<span style=\"font-weight: bold\">{</span><span style=\"color: #008000; text-decoration-color: #008000\">'patient_id'</span>: <span style=\"color: #008080; text-decoration-color: #008080; font-weight: bold\">4</span>, <span style=\"color: #008000; text-decoration-color: #008000\">'medication_name'</span>: <span style=\"color: #008000; text-decoration-color: #008000\">'Pantoprazol'</span>, <span style=\"color: #008000; text-decoration-color: #008000\">'medication_name_corrected'</span>: <span style=\"color: #008000; text-decoration-color: #008000\">'Pantoprazol </span>\n",
       "<span style=\"color: #008000; text-decoration-color: #008000\">(pantoprazole)'</span>, <span style=\"color: #008000; text-decoration-color: #008000\">'dose'</span>: <span style=\"color: #008080; text-decoration-color: #008080; font-weight: bold\">40</span>, <span style=\"color: #008000; text-decoration-color: #008000\">'unit'</span>: <span style=\"color: #008000; text-decoration-color: #008000\">'mg'</span>, <span style=\"color: #008000; text-decoration-color: #008000\">'dosage_morning'</span>: <span style=\"color: #008080; text-decoration-color: #008080; font-weight: bold\">0</span>, <span style=\"color: #008000; text-decoration-color: #008000\">'dosage_noon'</span>: <span style=\"color: #008080; text-decoration-color: #008080; font-weight: bold\">0</span>, <span style=\"color: #008000; text-decoration-color: #008000\">'dosage_evening'</span>: <span style=\"color: #008080; text-decoration-color: #008080; font-weight: bold\">1</span>, \n",
       "<span style=\"color: #008000; text-decoration-color: #008000\">'dosage_night'</span>: <span style=\"color: #008080; text-decoration-color: #008080; font-weight: bold\">0</span>, <span style=\"color: #008000; text-decoration-color: #008000\">'dosage_information'</span>: <span style=\"color: #008000; text-decoration-color: #008000\">''</span><span style=\"font-weight: bold\">}</span>, <span style=\"font-weight: bold\">{</span><span style=\"color: #008000; text-decoration-color: #008000\">'patient_id'</span>: <span style=\"color: #008080; text-decoration-color: #008080; font-weight: bold\">4</span>, <span style=\"color: #008000; text-decoration-color: #008000\">'medication_name'</span>: <span style=\"color: #008000; text-decoration-color: #008000\">'HCT'</span>, \n",
       "<span style=\"color: #008000; text-decoration-color: #008000\">'medication_name_corrected'</span>: <span style=\"color: #008000; text-decoration-color: #008000\">'HCT (hydrochlorothiazide)'</span>, <span style=\"color: #008000; text-decoration-color: #008000\">'dose'</span>: <span style=\"color: #008080; text-decoration-color: #008080; font-weight: bold\">25</span>, <span style=\"color: #008000; text-decoration-color: #008000\">'unit'</span>: <span style=\"color: #008000; text-decoration-color: #008000\">'mg'</span>, <span style=\"color: #008000; text-decoration-color: #008000\">'dosage_morning'</span>: <span style=\"color: #008080; text-decoration-color: #008080; font-weight: bold\">1</span>, \n",
       "<span style=\"color: #008000; text-decoration-color: #008000\">'dosage_noon'</span>: <span style=\"color: #008080; text-decoration-color: #008080; font-weight: bold\">0</span>, <span style=\"color: #008000; text-decoration-color: #008000\">'dosage_evening'</span>: <span style=\"color: #008080; text-decoration-color: #008080; font-weight: bold\">0</span>, <span style=\"color: #008000; text-decoration-color: #008000\">'dosage_night'</span>: <span style=\"color: #008080; text-decoration-color: #008080; font-weight: bold\">0</span>, <span style=\"color: #008000; text-decoration-color: #008000\">'dosage_information'</span>: <span style=\"color: #008000; text-decoration-color: #008000\">''</span><span style=\"font-weight: bold\">}</span>, <span style=\"font-weight: bold\">{</span><span style=\"color: #008000; text-decoration-color: #008000\">'patient_id'</span>: <span style=\"color: #008080; text-decoration-color: #008080; font-weight: bold\">4</span>, \n",
       "<span style=\"color: #008000; text-decoration-color: #008000\">'medication_name'</span>: <span style=\"color: #008000; text-decoration-color: #008000\">'Bisoprolol'</span>, <span style=\"color: #008000; text-decoration-color: #008000\">'medication_name_corrected'</span>: <span style=\"color: #008000; text-decoration-color: #008000\">'Bisoprolol (bisoprolol)'</span>, <span style=\"color: #008000; text-decoration-color: #008000\">'dose'</span>: <span style=\"color: #008080; text-decoration-color: #008080; font-weight: bold\">5</span>, <span style=\"color: #008000; text-decoration-color: #008000\">'unit'</span>: <span style=\"color: #008000; text-decoration-color: #008000\">'mg'</span>, \n",
       "<span style=\"color: #008000; text-decoration-color: #008000\">'dosage_morning'</span>: <span style=\"color: #008080; text-decoration-color: #008080; font-weight: bold\">1</span>, <span style=\"color: #008000; text-decoration-color: #008000\">'dosage_noon'</span>: <span style=\"color: #008080; text-decoration-color: #008080; font-weight: bold\">0</span>, <span style=\"color: #008000; text-decoration-color: #008000\">'dosage_evening'</span>: <span style=\"color: #008080; text-decoration-color: #008080; font-weight: bold\">0</span>, <span style=\"color: #008000; text-decoration-color: #008000\">'dosage_night'</span>: <span style=\"color: #008080; text-decoration-color: #008080; font-weight: bold\">0</span>, <span style=\"color: #008000; text-decoration-color: #008000\">'dosage_information'</span>: <span style=\"color: #008000; text-decoration-color: #008000\">''</span><span style=\"font-weight: bold\">}</span>, \n",
       "<span style=\"font-weight: bold\">{</span><span style=\"color: #008000; text-decoration-color: #008000\">'patient_id'</span>: <span style=\"color: #008080; text-decoration-color: #008080; font-weight: bold\">4</span>, <span style=\"color: #008000; text-decoration-color: #008000\">'medication_name'</span>: <span style=\"color: #008000; text-decoration-color: #008000\">'Ramipril'</span>, <span style=\"color: #008000; text-decoration-color: #008000\">'medication_name_corrected'</span>: <span style=\"color: #008000; text-decoration-color: #008000\">'Ramipril (ramipril)'</span>, <span style=\"color: #008000; text-decoration-color: #008000\">'dose'</span>: <span style=\"color: #008080; text-decoration-color: #008080; font-weight: bold\">5</span>, \n",
       "<span style=\"color: #008000; text-decoration-color: #008000\">'unit'</span>: <span style=\"color: #008000; text-decoration-color: #008000\">'mg'</span>, <span style=\"color: #008000; text-decoration-color: #008000\">'dosage_morning'</span>: <span style=\"color: #008080; text-decoration-color: #008080; font-weight: bold\">1</span>, <span style=\"color: #008000; text-decoration-color: #008000\">'dosage_noon'</span>: <span style=\"color: #008080; text-decoration-color: #008080; font-weight: bold\">0</span>, <span style=\"color: #008000; text-decoration-color: #008000\">'dosage_evening'</span>: <span style=\"color: #008080; text-decoration-color: #008080; font-weight: bold\">0</span>, <span style=\"color: #008000; text-decoration-color: #008000\">'dosage_night'</span>: <span style=\"color: #008080; text-decoration-color: #008080; font-weight: bold\">0</span>, <span style=\"color: #008000; text-decoration-color: #008000\">'dosage_information'</span>: \n",
       "<span style=\"color: #008000; text-decoration-color: #008000\">''</span><span style=\"font-weight: bold\">}</span>, <span style=\"font-weight: bold\">{</span><span style=\"color: #008000; text-decoration-color: #008000\">'patient_id'</span>: <span style=\"color: #008080; text-decoration-color: #008080; font-weight: bold\">4</span>, <span style=\"color: #008000; text-decoration-color: #008000\">'medication_name'</span>: <span style=\"color: #008000; text-decoration-color: #008000\">'Torasemid'</span>, <span style=\"color: #008000; text-decoration-color: #008000\">'medication_name_corrected'</span>: <span style=\"color: #008000; text-decoration-color: #008000\">'Torasemid (torasemide)'</span>, \n",
       "<span style=\"color: #008000; text-decoration-color: #008000\">'dose'</span>: <span style=\"color: #008080; text-decoration-color: #008080; font-weight: bold\">10</span>, <span style=\"color: #008000; text-decoration-color: #008000\">'unit'</span>: <span style=\"color: #008000; text-decoration-color: #008000\">'mg'</span>, <span style=\"color: #008000; text-decoration-color: #008000\">'dosage_morning'</span>: <span style=\"color: #008080; text-decoration-color: #008080; font-weight: bold\">1</span>, <span style=\"color: #008000; text-decoration-color: #008000\">'dosage_noon'</span>: <span style=\"color: #008080; text-decoration-color: #008080; font-weight: bold\">0</span>, <span style=\"color: #008000; text-decoration-color: #008000\">'dosage_evening'</span>: <span style=\"color: #008080; text-decoration-color: #008080; font-weight: bold\">0</span>, <span style=\"color: #008000; text-decoration-color: #008000\">'dosage_night'</span>: <span style=\"color: #008080; text-decoration-color: #008080; font-weight: bold\">0</span>, \n",
       "<span style=\"color: #008000; text-decoration-color: #008000\">'dosage_information'</span>: <span style=\"color: #008000; text-decoration-color: #008000\">''</span><span style=\"font-weight: bold\">}</span>, <span style=\"font-weight: bold\">{</span><span style=\"color: #008000; text-decoration-color: #008000\">'patient_id'</span>: <span style=\"color: #008080; text-decoration-color: #008080; font-weight: bold\">4</span>, <span style=\"color: #008000; text-decoration-color: #008000\">'medication_name'</span>: <span style=\"color: #008000; text-decoration-color: #008000\">'Clopidogrel'</span>, <span style=\"color: #008000; text-decoration-color: #008000\">'medication_name_corrected'</span>: \n",
       "<span style=\"color: #008000; text-decoration-color: #008000\">'Clopidogrel (clopidogrel)'</span>, <span style=\"color: #008000; text-decoration-color: #008000\">'dose'</span>: <span style=\"color: #008080; text-decoration-color: #008080; font-weight: bold\">75</span>, <span style=\"color: #008000; text-decoration-color: #008000\">'unit'</span>: <span style=\"color: #008000; text-decoration-color: #008000\">'mg'</span>, <span style=\"color: #008000; text-decoration-color: #008000\">'dosage_morning'</span>: <span style=\"color: #008080; text-decoration-color: #008080; font-weight: bold\">1</span>, <span style=\"color: #008000; text-decoration-color: #008000\">'dosage_noon'</span>: <span style=\"color: #008080; text-decoration-color: #008080; font-weight: bold\">0</span>, <span style=\"color: #008000; text-decoration-color: #008000\">'dosage_evening'</span>: <span style=\"color: #008080; text-decoration-color: #008080; font-weight: bold\">0</span>, \n",
       "<span style=\"color: #008000; text-decoration-color: #008000\">'dosage_night'</span>: <span style=\"color: #008080; text-decoration-color: #008080; font-weight: bold\">0</span>, <span style=\"color: #008000; text-decoration-color: #008000\">'dosage_information'</span>: <span style=\"color: #008000; text-decoration-color: #008000\">''</span><span style=\"font-weight: bold\">}</span>, <span style=\"font-weight: bold\">{</span><span style=\"color: #008000; text-decoration-color: #008000\">'patient_id'</span>: <span style=\"color: #008080; text-decoration-color: #008080; font-weight: bold\">4</span>, <span style=\"color: #008000; text-decoration-color: #008000\">'medication_name'</span>: <span style=\"color: #008000; text-decoration-color: #008000\">'ASS'</span>, \n",
       "<span style=\"color: #008000; text-decoration-color: #008000\">'medication_name_corrected'</span>: <span style=\"color: #008000; text-decoration-color: #008000\">'ASS (acetylsalicylic acid)'</span>, <span style=\"color: #008000; text-decoration-color: #008000\">'dose'</span>: <span style=\"color: #008080; text-decoration-color: #008080; font-weight: bold\">100</span>, <span style=\"color: #008000; text-decoration-color: #008000\">'unit'</span>: <span style=\"color: #008000; text-decoration-color: #008000\">''</span>, <span style=\"color: #008000; text-decoration-color: #008000\">'dosage_morning'</span>: <span style=\"color: #008080; text-decoration-color: #008080; font-weight: bold\">1</span>, \n",
       "<span style=\"color: #008000; text-decoration-color: #008000\">'dosage_noon'</span>: <span style=\"color: #008080; text-decoration-color: #008080; font-weight: bold\">0</span>, <span style=\"color: #008000; text-decoration-color: #008000\">'dosage_evening'</span>: <span style=\"color: #008080; text-decoration-color: #008080; font-weight: bold\">0</span>, <span style=\"color: #008000; text-decoration-color: #008000\">'dosage_night'</span>: <span style=\"color: #008080; text-decoration-color: #008080; font-weight: bold\">0</span>, <span style=\"color: #008000; text-decoration-color: #008000\">'dosage_information'</span>: <span style=\"color: #008000; text-decoration-color: #008000\">''</span><span style=\"font-weight: bold\">}</span>, <span style=\"font-weight: bold\">{</span><span style=\"color: #008000; text-decoration-color: #008000\">'patient_id'</span>: <span style=\"color: #008080; text-decoration-color: #008080; font-weight: bold\">4</span>, \n",
       "<span style=\"color: #008000; text-decoration-color: #008000\">'medication_name'</span>: <span style=\"color: #008000; text-decoration-color: #008000\">'Macumar'</span>, <span style=\"color: #008000; text-decoration-color: #008000\">'medication_name_corrected'</span>: <span style=\"color: #008000; text-decoration-color: #008000\">'Macumar (phenprocoumon)'</span>, <span style=\"color: #008000; text-decoration-color: #008000\">'dose'</span>: <span style=\"color: #008080; text-decoration-color: #008080; font-weight: bold\">0</span>, <span style=\"color: #008000; text-decoration-color: #008000\">'unit'</span>: <span style=\"color: #008000; text-decoration-color: #008000\">''</span>, \n",
       "<span style=\"color: #008000; text-decoration-color: #008000\">'dosage_morning'</span>: <span style=\"color: #008080; text-decoration-color: #008080; font-weight: bold\">0</span>, <span style=\"color: #008000; text-decoration-color: #008000\">'dosage_noon'</span>: <span style=\"color: #008080; text-decoration-color: #008080; font-weight: bold\">0</span>, <span style=\"color: #008000; text-decoration-color: #008000\">'dosage_evening'</span>: <span style=\"color: #008080; text-decoration-color: #008080; font-weight: bold\">0</span>, <span style=\"color: #008000; text-decoration-color: #008000\">'dosage_night'</span>: <span style=\"color: #008080; text-decoration-color: #008080; font-weight: bold\">0</span>, <span style=\"color: #008000; text-decoration-color: #008000\">'dosage_information'</span>: <span style=\"color: #008000; text-decoration-color: #008000\">'nach INR'</span><span style=\"font-weight: bold\">}]</span>\n",
       "</pre>\n"
      ],
      "text/plain": [
       "Observations: |\u001b[1m{\u001b[0m\u001b[32m'patient_id'\u001b[0m: \u001b[1;36m4\u001b[0m, \u001b[32m'medication_name'\u001b[0m: \u001b[32m'Pantoprazol'\u001b[0m, \u001b[32m'medication_name_corrected'\u001b[0m: \u001b[32m'Pantoprazol \u001b[0m\n",
       "\u001b[32m(\u001b[0m\u001b[32mpantoprazole\u001b[0m\u001b[32m)\u001b[0m\u001b[32m'\u001b[0m, \u001b[32m'dose'\u001b[0m: \u001b[1;36m40\u001b[0m, \u001b[32m'unit'\u001b[0m: \u001b[32m'mg'\u001b[0m, \u001b[32m'dosage_morning'\u001b[0m: \u001b[1;36m0\u001b[0m, \u001b[32m'dosage_noon'\u001b[0m: \u001b[1;36m0\u001b[0m, \u001b[32m'dosage_evening'\u001b[0m: \u001b[1;36m1\u001b[0m, \n",
       "\u001b[32m'dosage_night'\u001b[0m: \u001b[1;36m0\u001b[0m, \u001b[32m'dosage_information'\u001b[0m: \u001b[32m''\u001b[0m\u001b[1m}\u001b[0m, \u001b[1m{\u001b[0m\u001b[32m'patient_id'\u001b[0m: \u001b[1;36m4\u001b[0m, \u001b[32m'medication_name'\u001b[0m: \u001b[32m'HCT'\u001b[0m, \n",
       "\u001b[32m'medication_name_corrected'\u001b[0m: \u001b[32m'HCT \u001b[0m\u001b[32m(\u001b[0m\u001b[32mhydrochlorothiazide\u001b[0m\u001b[32m)\u001b[0m\u001b[32m'\u001b[0m, \u001b[32m'dose'\u001b[0m: \u001b[1;36m25\u001b[0m, \u001b[32m'unit'\u001b[0m: \u001b[32m'mg'\u001b[0m, \u001b[32m'dosage_morning'\u001b[0m: \u001b[1;36m1\u001b[0m, \n",
       "\u001b[32m'dosage_noon'\u001b[0m: \u001b[1;36m0\u001b[0m, \u001b[32m'dosage_evening'\u001b[0m: \u001b[1;36m0\u001b[0m, \u001b[32m'dosage_night'\u001b[0m: \u001b[1;36m0\u001b[0m, \u001b[32m'dosage_information'\u001b[0m: \u001b[32m''\u001b[0m\u001b[1m}\u001b[0m, \u001b[1m{\u001b[0m\u001b[32m'patient_id'\u001b[0m: \u001b[1;36m4\u001b[0m, \n",
       "\u001b[32m'medication_name'\u001b[0m: \u001b[32m'Bisoprolol'\u001b[0m, \u001b[32m'medication_name_corrected'\u001b[0m: \u001b[32m'Bisoprolol \u001b[0m\u001b[32m(\u001b[0m\u001b[32mbisoprolol\u001b[0m\u001b[32m)\u001b[0m\u001b[32m'\u001b[0m, \u001b[32m'dose'\u001b[0m: \u001b[1;36m5\u001b[0m, \u001b[32m'unit'\u001b[0m: \u001b[32m'mg'\u001b[0m, \n",
       "\u001b[32m'dosage_morning'\u001b[0m: \u001b[1;36m1\u001b[0m, \u001b[32m'dosage_noon'\u001b[0m: \u001b[1;36m0\u001b[0m, \u001b[32m'dosage_evening'\u001b[0m: \u001b[1;36m0\u001b[0m, \u001b[32m'dosage_night'\u001b[0m: \u001b[1;36m0\u001b[0m, \u001b[32m'dosage_information'\u001b[0m: \u001b[32m''\u001b[0m\u001b[1m}\u001b[0m, \n",
       "\u001b[1m{\u001b[0m\u001b[32m'patient_id'\u001b[0m: \u001b[1;36m4\u001b[0m, \u001b[32m'medication_name'\u001b[0m: \u001b[32m'Ramipril'\u001b[0m, \u001b[32m'medication_name_corrected'\u001b[0m: \u001b[32m'Ramipril \u001b[0m\u001b[32m(\u001b[0m\u001b[32mramipril\u001b[0m\u001b[32m)\u001b[0m\u001b[32m'\u001b[0m, \u001b[32m'dose'\u001b[0m: \u001b[1;36m5\u001b[0m, \n",
       "\u001b[32m'unit'\u001b[0m: \u001b[32m'mg'\u001b[0m, \u001b[32m'dosage_morning'\u001b[0m: \u001b[1;36m1\u001b[0m, \u001b[32m'dosage_noon'\u001b[0m: \u001b[1;36m0\u001b[0m, \u001b[32m'dosage_evening'\u001b[0m: \u001b[1;36m0\u001b[0m, \u001b[32m'dosage_night'\u001b[0m: \u001b[1;36m0\u001b[0m, \u001b[32m'dosage_information'\u001b[0m: \n",
       "\u001b[32m''\u001b[0m\u001b[1m}\u001b[0m, \u001b[1m{\u001b[0m\u001b[32m'patient_id'\u001b[0m: \u001b[1;36m4\u001b[0m, \u001b[32m'medication_name'\u001b[0m: \u001b[32m'Torasemid'\u001b[0m, \u001b[32m'medication_name_corrected'\u001b[0m: \u001b[32m'Torasemid \u001b[0m\u001b[32m(\u001b[0m\u001b[32mtorasemide\u001b[0m\u001b[32m)\u001b[0m\u001b[32m'\u001b[0m, \n",
       "\u001b[32m'dose'\u001b[0m: \u001b[1;36m10\u001b[0m, \u001b[32m'unit'\u001b[0m: \u001b[32m'mg'\u001b[0m, \u001b[32m'dosage_morning'\u001b[0m: \u001b[1;36m1\u001b[0m, \u001b[32m'dosage_noon'\u001b[0m: \u001b[1;36m0\u001b[0m, \u001b[32m'dosage_evening'\u001b[0m: \u001b[1;36m0\u001b[0m, \u001b[32m'dosage_night'\u001b[0m: \u001b[1;36m0\u001b[0m, \n",
       "\u001b[32m'dosage_information'\u001b[0m: \u001b[32m''\u001b[0m\u001b[1m}\u001b[0m, \u001b[1m{\u001b[0m\u001b[32m'patient_id'\u001b[0m: \u001b[1;36m4\u001b[0m, \u001b[32m'medication_name'\u001b[0m: \u001b[32m'Clopidogrel'\u001b[0m, \u001b[32m'medication_name_corrected'\u001b[0m: \n",
       "\u001b[32m'Clopidogrel \u001b[0m\u001b[32m(\u001b[0m\u001b[32mclopidogrel\u001b[0m\u001b[32m)\u001b[0m\u001b[32m'\u001b[0m, \u001b[32m'dose'\u001b[0m: \u001b[1;36m75\u001b[0m, \u001b[32m'unit'\u001b[0m: \u001b[32m'mg'\u001b[0m, \u001b[32m'dosage_morning'\u001b[0m: \u001b[1;36m1\u001b[0m, \u001b[32m'dosage_noon'\u001b[0m: \u001b[1;36m0\u001b[0m, \u001b[32m'dosage_evening'\u001b[0m: \u001b[1;36m0\u001b[0m, \n",
       "\u001b[32m'dosage_night'\u001b[0m: \u001b[1;36m0\u001b[0m, \u001b[32m'dosage_information'\u001b[0m: \u001b[32m''\u001b[0m\u001b[1m}\u001b[0m, \u001b[1m{\u001b[0m\u001b[32m'patient_id'\u001b[0m: \u001b[1;36m4\u001b[0m, \u001b[32m'medication_name'\u001b[0m: \u001b[32m'ASS'\u001b[0m, \n",
       "\u001b[32m'medication_name_corrected'\u001b[0m: \u001b[32m'ASS \u001b[0m\u001b[32m(\u001b[0m\u001b[32macetylsalicylic acid\u001b[0m\u001b[32m)\u001b[0m\u001b[32m'\u001b[0m, \u001b[32m'dose'\u001b[0m: \u001b[1;36m100\u001b[0m, \u001b[32m'unit'\u001b[0m: \u001b[32m''\u001b[0m, \u001b[32m'dosage_morning'\u001b[0m: \u001b[1;36m1\u001b[0m, \n",
       "\u001b[32m'dosage_noon'\u001b[0m: \u001b[1;36m0\u001b[0m, \u001b[32m'dosage_evening'\u001b[0m: \u001b[1;36m0\u001b[0m, \u001b[32m'dosage_night'\u001b[0m: \u001b[1;36m0\u001b[0m, \u001b[32m'dosage_information'\u001b[0m: \u001b[32m''\u001b[0m\u001b[1m}\u001b[0m, \u001b[1m{\u001b[0m\u001b[32m'patient_id'\u001b[0m: \u001b[1;36m4\u001b[0m, \n",
       "\u001b[32m'medication_name'\u001b[0m: \u001b[32m'Macumar'\u001b[0m, \u001b[32m'medication_name_corrected'\u001b[0m: \u001b[32m'Macumar \u001b[0m\u001b[32m(\u001b[0m\u001b[32mphenprocoumon\u001b[0m\u001b[32m)\u001b[0m\u001b[32m'\u001b[0m, \u001b[32m'dose'\u001b[0m: \u001b[1;36m0\u001b[0m, \u001b[32m'unit'\u001b[0m: \u001b[32m''\u001b[0m, \n",
       "\u001b[32m'dosage_morning'\u001b[0m: \u001b[1;36m0\u001b[0m, \u001b[32m'dosage_noon'\u001b[0m: \u001b[1;36m0\u001b[0m, \u001b[32m'dosage_evening'\u001b[0m: \u001b[1;36m0\u001b[0m, \u001b[32m'dosage_night'\u001b[0m: \u001b[1;36m0\u001b[0m, \u001b[32m'dosage_information'\u001b[0m: \u001b[32m'nach INR'\u001b[0m\u001b[1m}\u001b[0m\u001b[1m]\u001b[0m\n"
      ]
     },
     "metadata": {},
     "output_type": "display_data"
    },
    {
     "data": {
      "text/html": [
       "<pre style=\"white-space:pre;overflow-x:auto;line-height:normal;font-family:Menlo,'DejaVu Sans Mono',consolas,'Courier New',monospace\"><span style=\"color: #7f7f7f; text-decoration-color: #7f7f7f\">[Step 1: Duration 10.69 seconds| Input tokens: 2,043 | Output tokens: 582]</span>\n",
       "</pre>\n"
      ],
      "text/plain": [
       "\u001b[2m[Step 1: Duration 10.69 seconds| Input tokens: 2,043 | Output tokens: 582]\u001b[0m\n"
      ]
     },
     "metadata": {},
     "output_type": "display_data"
    },
    {
     "data": {
      "text/html": [
       "<pre style=\"white-space:pre;overflow-x:auto;line-height:normal;font-family:Menlo,'DejaVu Sans Mono',consolas,'Courier New',monospace\"><span style=\"color: #d4b702; text-decoration-color: #d4b702\">━━━━━━━━━━━━━━━━━━━━━━━━━━━━━━━━━━━━━━━━━━━━━━━━━━━━━ </span><span style=\"font-weight: bold\">Step </span><span style=\"color: #008080; text-decoration-color: #008080; font-weight: bold\">2</span><span style=\"color: #d4b702; text-decoration-color: #d4b702\"> ━━━━━━━━━━━━━━━━━━━━━━━━━━━━━━━━━━━━━━━━━━━━━━━━━━━━━━</span>\n",
       "</pre>\n"
      ],
      "text/plain": [
       "\u001b[38;2;212;183;2m━━━━━━━━━━━━━━━━━━━━━━━━━━━━━━━━━━━━━━━━━━━━━━━━━━━━━ \u001b[0m\u001b[1mStep \u001b[0m\u001b[1;36m2\u001b[0m\u001b[38;2;212;183;2m ━━━━━━━━━━━━━━━━━━━━━━━━━━━━━━━━━━━━━━━━━━━━━━━━━━━━━━\u001b[0m\n"
      ]
     },
     "metadata": {},
     "output_type": "display_data"
    },
    {
     "data": {
      "text/html": [
       "<pre style=\"white-space:pre;overflow-x:auto;line-height:normal;font-family:Menlo,'DejaVu Sans Mono',consolas,'Courier New',monospace\">╭─────────────────────────────────────────────────────────────────────────────────────────────────────────────────╮\n",
       "│ Calling tool: 'get_rxcui' with arguments: {'medication_names': ['Pantoprazol (pantoprazole)', 'HCT              │\n",
       "│ (hydrochlorothiazide)', 'Bisoprolol (bisoprolol)', 'Ramipril (ramipril)', 'Torasemid (torasemide)',             │\n",
       "│ 'Clopidogrel (clopidogrel)', 'ASS (acetylsalicylic acid)', 'Macumar (phenprocoumon)']}                          │\n",
       "╰─────────────────────────────────────────────────────────────────────────────────────────────────────────────────╯\n",
       "</pre>\n"
      ],
      "text/plain": [
       "╭─────────────────────────────────────────────────────────────────────────────────────────────────────────────────╮\n",
       "│ Calling tool: 'get_rxcui' with arguments: {'medication_names': ['Pantoprazol (pantoprazole)', 'HCT              │\n",
       "│ (hydrochlorothiazide)', 'Bisoprolol (bisoprolol)', 'Ramipril (ramipril)', 'Torasemid (torasemide)',             │\n",
       "│ 'Clopidogrel (clopidogrel)', 'ASS (acetylsalicylic acid)', 'Macumar (phenprocoumon)']}                          │\n",
       "╰─────────────────────────────────────────────────────────────────────────────────────────────────────────────────╯\n"
      ]
     },
     "metadata": {},
     "output_type": "display_data"
    },
    {
     "data": {
      "text/html": [
       "<pre style=\"white-space:pre;overflow-x:auto;line-height:normal;font-family:Menlo,'DejaVu Sans Mono',consolas,'Courier New',monospace\">Observations: <span style=\"font-weight: bold\">{</span><span style=\"color: #008000; text-decoration-color: #008000\">'Pantoprazol (pantoprazole)'</span>: <span style=\"font-weight: bold\">{</span><span style=\"color: #008000; text-decoration-color: #008000\">'40790'</span>: |<span style=\"color: #008000; text-decoration-color: #008000\">'GS'</span>, <span style=\"color: #008000; text-decoration-color: #008000\">'VANDF'</span>, <span style=\"color: #008000; text-decoration-color: #008000\">'MMSL'</span>, <span style=\"color: #008000; text-decoration-color: #008000\">'NDDF'</span>, <span style=\"color: #008000; text-decoration-color: #008000\">'RXNORM'</span>, <span style=\"color: #008000; text-decoration-color: #008000\">'ATC'</span>, \n",
       "<span style=\"color: #008000; text-decoration-color: #008000\">'DRUGBANK'</span><span style=\"font-weight: bold\">]}</span>, <span style=\"color: #008000; text-decoration-color: #008000\">'HCT (hydrochlorothiazide)'</span>: <span style=\"font-weight: bold\">{</span><span style=\"color: #008000; text-decoration-color: #008000\">'5487'</span>: |<span style=\"color: #008000; text-decoration-color: #008000\">'USP'</span>, <span style=\"color: #008000; text-decoration-color: #008000\">'GS'</span>, <span style=\"color: #008000; text-decoration-color: #008000\">'RXNORM'</span>, <span style=\"color: #008000; text-decoration-color: #008000\">'MMSL'</span>, <span style=\"color: #008000; text-decoration-color: #008000\">'VANDF'</span>, <span style=\"color: #008000; text-decoration-color: #008000\">'NDDF'</span>, <span style=\"color: #008000; text-decoration-color: #008000\">'ATC'</span>, \n",
       "<span style=\"color: #008000; text-decoration-color: #008000\">'DRUGBANK'</span>, <span style=\"color: #008000; text-decoration-color: #008000\">'MMSL'</span><span style=\"font-weight: bold\">]}</span>, <span style=\"color: #008000; text-decoration-color: #008000\">'Bisoprolol (bisoprolol)'</span>: <span style=\"font-weight: bold\">{</span><span style=\"color: #008000; text-decoration-color: #008000\">'19484'</span>: |<span style=\"color: #008000; text-decoration-color: #008000\">'GS'</span>, <span style=\"color: #008000; text-decoration-color: #008000\">'RXNORM'</span>, <span style=\"color: #008000; text-decoration-color: #008000\">'VANDF'</span>, <span style=\"color: #008000; text-decoration-color: #008000\">'NDDF'</span>, <span style=\"color: #008000; text-decoration-color: #008000\">'ATC'</span>, <span style=\"color: #008000; text-decoration-color: #008000\">'DRUGBANK'</span><span style=\"font-weight: bold\">]}</span>, \n",
       "<span style=\"color: #008000; text-decoration-color: #008000\">'Ramipril (ramipril)'</span>: <span style=\"font-weight: bold\">{</span><span style=\"color: #008000; text-decoration-color: #008000\">'35296'</span>: |<span style=\"color: #008000; text-decoration-color: #008000\">'USP'</span>, <span style=\"color: #008000; text-decoration-color: #008000\">'GS'</span>, <span style=\"color: #008000; text-decoration-color: #008000\">'RXNORM'</span>, <span style=\"color: #008000; text-decoration-color: #008000\">'VANDF'</span>, <span style=\"color: #008000; text-decoration-color: #008000\">'MMSL'</span>, <span style=\"color: #008000; text-decoration-color: #008000\">'NDDF'</span>, <span style=\"color: #008000; text-decoration-color: #008000\">'MMSL'</span>, <span style=\"color: #008000; text-decoration-color: #008000\">'ATC'</span>, <span style=\"color: #008000; text-decoration-color: #008000\">'DRUGBANK'</span><span style=\"font-weight: bold\">]}</span>, \n",
       "<span style=\"color: #008000; text-decoration-color: #008000\">'Torasemid (torasemide)'</span>: <span style=\"font-weight: bold\">{</span><span style=\"color: #008000; text-decoration-color: #008000\">'38413'</span>: |<span style=\"color: #008000; text-decoration-color: #008000\">'ATC'</span>, <span style=\"color: #008000; text-decoration-color: #008000\">'DRUGBANK'</span><span style=\"font-weight: bold\">]}</span>, <span style=\"color: #008000; text-decoration-color: #008000\">'Clopidogrel (clopidogrel)'</span>: <span style=\"font-weight: bold\">{</span><span style=\"color: #008000; text-decoration-color: #008000\">'32968'</span>: |<span style=\"color: #008000; text-decoration-color: #008000\">'GS'</span>, <span style=\"color: #008000; text-decoration-color: #008000\">'VANDF'</span>, \n",
       "<span style=\"color: #008000; text-decoration-color: #008000\">'NDDF'</span>, <span style=\"color: #008000; text-decoration-color: #008000\">'MMSL'</span>, <span style=\"color: #008000; text-decoration-color: #008000\">'RXNORM'</span>, <span style=\"color: #008000; text-decoration-color: #008000\">'ATC'</span>, <span style=\"color: #008000; text-decoration-color: #008000\">'DRUGBANK'</span><span style=\"font-weight: bold\">]}</span>, <span style=\"color: #008000; text-decoration-color: #008000\">'ASS (acetylsalicylic acid)'</span>: <span style=\"font-weight: bold\">{</span><span style=\"color: #008000; text-decoration-color: #008000\">'1191'</span>: |<span style=\"color: #008000; text-decoration-color: #008000\">'MMSL'</span>, <span style=\"color: #008000; text-decoration-color: #008000\">'ATC'</span>, <span style=\"color: #008000; text-decoration-color: #008000\">'ATC'</span>, <span style=\"color: #008000; text-decoration-color: #008000\">'ATC'</span>,\n",
       "<span style=\"color: #008000; text-decoration-color: #008000\">'DRUGBANK'</span><span style=\"font-weight: bold\">]}</span>, <span style=\"color: #008000; text-decoration-color: #008000\">'Macumar (phenprocoumon)'</span>: <span style=\"font-weight: bold\">{</span><span style=\"color: #008000; text-decoration-color: #008000\">'8150'</span>: |<span style=\"color: #008000; text-decoration-color: #008000\">'RXNORM'</span>, <span style=\"color: #008000; text-decoration-color: #008000\">'VANDF'</span>, <span style=\"color: #008000; text-decoration-color: #008000\">'ATC'</span>, <span style=\"color: #008000; text-decoration-color: #008000\">'NDDF'</span>, <span style=\"color: #008000; text-decoration-color: #008000\">'DRUGBANK'</span><span style=\"font-weight: bold\">]}}</span>\n",
       "</pre>\n"
      ],
      "text/plain": [
       "Observations: \u001b[1m{\u001b[0m\u001b[32m'Pantoprazol \u001b[0m\u001b[32m(\u001b[0m\u001b[32mpantoprazole\u001b[0m\u001b[32m)\u001b[0m\u001b[32m'\u001b[0m: \u001b[1m{\u001b[0m\u001b[32m'40790'\u001b[0m: |\u001b[32m'GS'\u001b[0m, \u001b[32m'VANDF'\u001b[0m, \u001b[32m'MMSL'\u001b[0m, \u001b[32m'NDDF'\u001b[0m, \u001b[32m'RXNORM'\u001b[0m, \u001b[32m'ATC'\u001b[0m, \n",
       "\u001b[32m'DRUGBANK'\u001b[0m\u001b[1m]\u001b[0m\u001b[1m}\u001b[0m, \u001b[32m'HCT \u001b[0m\u001b[32m(\u001b[0m\u001b[32mhydrochlorothiazide\u001b[0m\u001b[32m)\u001b[0m\u001b[32m'\u001b[0m: \u001b[1m{\u001b[0m\u001b[32m'5487'\u001b[0m: |\u001b[32m'USP'\u001b[0m, \u001b[32m'GS'\u001b[0m, \u001b[32m'RXNORM'\u001b[0m, \u001b[32m'MMSL'\u001b[0m, \u001b[32m'VANDF'\u001b[0m, \u001b[32m'NDDF'\u001b[0m, \u001b[32m'ATC'\u001b[0m, \n",
       "\u001b[32m'DRUGBANK'\u001b[0m, \u001b[32m'MMSL'\u001b[0m\u001b[1m]\u001b[0m\u001b[1m}\u001b[0m, \u001b[32m'Bisoprolol \u001b[0m\u001b[32m(\u001b[0m\u001b[32mbisoprolol\u001b[0m\u001b[32m)\u001b[0m\u001b[32m'\u001b[0m: \u001b[1m{\u001b[0m\u001b[32m'19484'\u001b[0m: |\u001b[32m'GS'\u001b[0m, \u001b[32m'RXNORM'\u001b[0m, \u001b[32m'VANDF'\u001b[0m, \u001b[32m'NDDF'\u001b[0m, \u001b[32m'ATC'\u001b[0m, \u001b[32m'DRUGBANK'\u001b[0m\u001b[1m]\u001b[0m\u001b[1m}\u001b[0m, \n",
       "\u001b[32m'Ramipril \u001b[0m\u001b[32m(\u001b[0m\u001b[32mramipril\u001b[0m\u001b[32m)\u001b[0m\u001b[32m'\u001b[0m: \u001b[1m{\u001b[0m\u001b[32m'35296'\u001b[0m: |\u001b[32m'USP'\u001b[0m, \u001b[32m'GS'\u001b[0m, \u001b[32m'RXNORM'\u001b[0m, \u001b[32m'VANDF'\u001b[0m, \u001b[32m'MMSL'\u001b[0m, \u001b[32m'NDDF'\u001b[0m, \u001b[32m'MMSL'\u001b[0m, \u001b[32m'ATC'\u001b[0m, \u001b[32m'DRUGBANK'\u001b[0m\u001b[1m]\u001b[0m\u001b[1m}\u001b[0m, \n",
       "\u001b[32m'Torasemid \u001b[0m\u001b[32m(\u001b[0m\u001b[32mtorasemide\u001b[0m\u001b[32m)\u001b[0m\u001b[32m'\u001b[0m: \u001b[1m{\u001b[0m\u001b[32m'38413'\u001b[0m: |\u001b[32m'ATC'\u001b[0m, \u001b[32m'DRUGBANK'\u001b[0m\u001b[1m]\u001b[0m\u001b[1m}\u001b[0m, \u001b[32m'Clopidogrel \u001b[0m\u001b[32m(\u001b[0m\u001b[32mclopidogrel\u001b[0m\u001b[32m)\u001b[0m\u001b[32m'\u001b[0m: \u001b[1m{\u001b[0m\u001b[32m'32968'\u001b[0m: |\u001b[32m'GS'\u001b[0m, \u001b[32m'VANDF'\u001b[0m, \n",
       "\u001b[32m'NDDF'\u001b[0m, \u001b[32m'MMSL'\u001b[0m, \u001b[32m'RXNORM'\u001b[0m, \u001b[32m'ATC'\u001b[0m, \u001b[32m'DRUGBANK'\u001b[0m\u001b[1m]\u001b[0m\u001b[1m}\u001b[0m, \u001b[32m'ASS \u001b[0m\u001b[32m(\u001b[0m\u001b[32macetylsalicylic acid\u001b[0m\u001b[32m)\u001b[0m\u001b[32m'\u001b[0m: \u001b[1m{\u001b[0m\u001b[32m'1191'\u001b[0m: |\u001b[32m'MMSL'\u001b[0m, \u001b[32m'ATC'\u001b[0m, \u001b[32m'ATC'\u001b[0m, \u001b[32m'ATC'\u001b[0m,\n",
       "\u001b[32m'DRUGBANK'\u001b[0m\u001b[1m]\u001b[0m\u001b[1m}\u001b[0m, \u001b[32m'Macumar \u001b[0m\u001b[32m(\u001b[0m\u001b[32mphenprocoumon\u001b[0m\u001b[32m)\u001b[0m\u001b[32m'\u001b[0m: \u001b[1m{\u001b[0m\u001b[32m'8150'\u001b[0m: |\u001b[32m'RXNORM'\u001b[0m, \u001b[32m'VANDF'\u001b[0m, \u001b[32m'ATC'\u001b[0m, \u001b[32m'NDDF'\u001b[0m, \u001b[32m'DRUGBANK'\u001b[0m\u001b[1m]\u001b[0m\u001b[1m}\u001b[0m\u001b[1m}\u001b[0m\n"
      ]
     },
     "metadata": {},
     "output_type": "display_data"
    },
    {
     "data": {
      "text/html": [
       "<pre style=\"white-space:pre;overflow-x:auto;line-height:normal;font-family:Menlo,'DejaVu Sans Mono',consolas,'Courier New',monospace\"><span style=\"color: #7f7f7f; text-decoration-color: #7f7f7f\">[Step 2: Duration 2.73 seconds| Input tokens: 5,596 | Output tokens: 680]</span>\n",
       "</pre>\n"
      ],
      "text/plain": [
       "\u001b[2m[Step 2: Duration 2.73 seconds| Input tokens: 5,596 | Output tokens: 680]\u001b[0m\n"
      ]
     },
     "metadata": {},
     "output_type": "display_data"
    },
    {
     "data": {
      "text/html": [
       "<pre style=\"white-space:pre;overflow-x:auto;line-height:normal;font-family:Menlo,'DejaVu Sans Mono',consolas,'Courier New',monospace\"><span style=\"color: #d4b702; text-decoration-color: #d4b702\">━━━━━━━━━━━━━━━━━━━━━━━━━━━━━━━━━━━━━━━━━━━━━━━━━━━━━ </span><span style=\"font-weight: bold\">Step </span><span style=\"color: #008080; text-decoration-color: #008080; font-weight: bold\">3</span><span style=\"color: #d4b702; text-decoration-color: #d4b702\"> ━━━━━━━━━━━━━━━━━━━━━━━━━━━━━━━━━━━━━━━━━━━━━━━━━━━━━━</span>\n",
       "</pre>\n"
      ],
      "text/plain": [
       "\u001b[38;2;212;183;2m━━━━━━━━━━━━━━━━━━━━━━━━━━━━━━━━━━━━━━━━━━━━━━━━━━━━━ \u001b[0m\u001b[1mStep \u001b[0m\u001b[1;36m3\u001b[0m\u001b[38;2;212;183;2m ━━━━━━━━━━━━━━━━━━━━━━━━━━━━━━━━━━━━━━━━━━━━━━━━━━━━━━\u001b[0m\n"
      ]
     },
     "metadata": {},
     "output_type": "display_data"
    },
    {
     "data": {
      "text/html": [
       "<pre style=\"white-space:pre;overflow-x:auto;line-height:normal;font-family:Menlo,'DejaVu Sans Mono',consolas,'Courier New',monospace\">╭─────────────────────────────────────────────────────────────────────────────────────────────────────────────────╮\n",
       "│ Calling tool: 'get_atc' with arguments: {'rxcuis': ['40790', '5487', '19484', '35296', '38413', '32968',        │\n",
       "│ '1191', '8150']}                                                                                                │\n",
       "╰─────────────────────────────────────────────────────────────────────────────────────────────────────────────────╯\n",
       "</pre>\n"
      ],
      "text/plain": [
       "╭─────────────────────────────────────────────────────────────────────────────────────────────────────────────────╮\n",
       "│ Calling tool: 'get_atc' with arguments: {'rxcuis': ['40790', '5487', '19484', '35296', '38413', '32968',        │\n",
       "│ '1191', '8150']}                                                                                                │\n",
       "╰─────────────────────────────────────────────────────────────────────────────────────────────────────────────────╯\n"
      ]
     },
     "metadata": {},
     "output_type": "display_data"
    },
    {
     "data": {
      "text/html": [
       "<pre style=\"white-space:pre;overflow-x:auto;line-height:normal;font-family:Menlo,'DejaVu Sans Mono',consolas,'Courier New',monospace\">Observations: <span style=\"font-weight: bold\">{</span><span style=\"color: #008000; text-decoration-color: #008000\">'40790'</span>: <span style=\"font-weight: bold\">{</span><span style=\"color: #008000; text-decoration-color: #008000\">'atc_id'</span>: <span style=\"color: #008000; text-decoration-color: #008000\">'A02BC'</span>, <span style=\"color: #008000; text-decoration-color: #008000\">'atc_name'</span>: <span style=\"color: #008000; text-decoration-color: #008000\">'Proton pump inhibitors'</span>, <span style=\"color: #008000; text-decoration-color: #008000\">'atc_type'</span>: <span style=\"color: #008000; text-decoration-color: #008000\">'ATC1-4'</span><span style=\"font-weight: bold\">}</span>, <span style=\"color: #008000; text-decoration-color: #008000\">'5487'</span>: \n",
       "<span style=\"font-weight: bold\">{</span><span style=\"color: #008000; text-decoration-color: #008000\">'atc_id'</span>: <span style=\"color: #008000; text-decoration-color: #008000\">'C09DX'</span>, <span style=\"color: #008000; text-decoration-color: #008000\">'atc_name'</span>: <span style=\"color: #008000; text-decoration-color: #008000\">'Angiotensin II receptor blockers (ARBs), other combinations'</span>, <span style=\"color: #008000; text-decoration-color: #008000\">'atc_type'</span>: \n",
       "<span style=\"color: #008000; text-decoration-color: #008000\">'ATC1-4'</span><span style=\"font-weight: bold\">}</span>, <span style=\"color: #008000; text-decoration-color: #008000\">'19484'</span>: <span style=\"font-weight: bold\">{</span><span style=\"color: #008000; text-decoration-color: #008000\">'atc_id'</span>: <span style=\"color: #008000; text-decoration-color: #008000\">'C07AB'</span>, <span style=\"color: #008000; text-decoration-color: #008000\">'atc_name'</span>: <span style=\"color: #008000; text-decoration-color: #008000\">'Beta blocking agents, selective'</span>, <span style=\"color: #008000; text-decoration-color: #008000\">'atc_type'</span>: <span style=\"color: #008000; text-decoration-color: #008000\">'ATC1-4'</span><span style=\"font-weight: bold\">}</span>, \n",
       "<span style=\"color: #008000; text-decoration-color: #008000\">'35296'</span>: <span style=\"font-weight: bold\">{</span><span style=\"color: #008000; text-decoration-color: #008000\">'atc_id'</span>: <span style=\"color: #008000; text-decoration-color: #008000\">'C09AA'</span>, <span style=\"color: #008000; text-decoration-color: #008000\">'atc_name'</span>: <span style=\"color: #008000; text-decoration-color: #008000\">'ACE inhibitors, plain'</span>, <span style=\"color: #008000; text-decoration-color: #008000\">'atc_type'</span>: <span style=\"color: #008000; text-decoration-color: #008000\">'ATC1-4'</span><span style=\"font-weight: bold\">}</span>, <span style=\"color: #008000; text-decoration-color: #008000\">'38413'</span>: <span style=\"font-weight: bold\">{</span><span style=\"color: #008000; text-decoration-color: #008000\">'atc_id'</span>: \n",
       "<span style=\"color: #008000; text-decoration-color: #008000\">'C03CA'</span>, <span style=\"color: #008000; text-decoration-color: #008000\">'atc_name'</span>: <span style=\"color: #008000; text-decoration-color: #008000\">'Sulfonamides, plain'</span>, <span style=\"color: #008000; text-decoration-color: #008000\">'atc_type'</span>: <span style=\"color: #008000; text-decoration-color: #008000\">'ATC1-4'</span><span style=\"font-weight: bold\">}</span>, <span style=\"color: #008000; text-decoration-color: #008000\">'32968'</span>: <span style=\"font-weight: bold\">{</span><span style=\"color: #008000; text-decoration-color: #008000\">'atc_id'</span>: <span style=\"color: #008000; text-decoration-color: #008000\">'B01AC'</span>, <span style=\"color: #008000; text-decoration-color: #008000\">'atc_name'</span>: \n",
       "<span style=\"color: #008000; text-decoration-color: #008000\">'Platelet aggregation inhibitors excl. heparin'</span>, <span style=\"color: #008000; text-decoration-color: #008000\">'atc_type'</span>: <span style=\"color: #008000; text-decoration-color: #008000\">'ATC1-4'</span><span style=\"font-weight: bold\">}</span>, <span style=\"color: #008000; text-decoration-color: #008000\">'1191'</span>: <span style=\"font-weight: bold\">{</span><span style=\"color: #008000; text-decoration-color: #008000\">'atc_id'</span>: <span style=\"color: #008000; text-decoration-color: #008000\">'N02BA'</span>, <span style=\"color: #008000; text-decoration-color: #008000\">'atc_name'</span>: \n",
       "<span style=\"color: #008000; text-decoration-color: #008000\">'Salicylic acid and derivatives'</span>, <span style=\"color: #008000; text-decoration-color: #008000\">'atc_type'</span>: <span style=\"color: #008000; text-decoration-color: #008000\">'ATC1-4'</span><span style=\"font-weight: bold\">}</span>, <span style=\"color: #008000; text-decoration-color: #008000\">'8150'</span>: <span style=\"font-weight: bold\">{</span><span style=\"color: #008000; text-decoration-color: #008000\">'atc_id'</span>: <span style=\"color: #008000; text-decoration-color: #008000\">'B01AA'</span>, <span style=\"color: #008000; text-decoration-color: #008000\">'atc_name'</span>: <span style=\"color: #008000; text-decoration-color: #008000\">'Vitamin K </span>\n",
       "<span style=\"color: #008000; text-decoration-color: #008000\">antagonists'</span>, <span style=\"color: #008000; text-decoration-color: #008000\">'atc_type'</span>: <span style=\"color: #008000; text-decoration-color: #008000\">'ATC1-4'</span><span style=\"font-weight: bold\">}}</span>\n",
       "</pre>\n"
      ],
      "text/plain": [
       "Observations: \u001b[1m{\u001b[0m\u001b[32m'40790'\u001b[0m: \u001b[1m{\u001b[0m\u001b[32m'atc_id'\u001b[0m: \u001b[32m'A02BC'\u001b[0m, \u001b[32m'atc_name'\u001b[0m: \u001b[32m'Proton pump inhibitors'\u001b[0m, \u001b[32m'atc_type'\u001b[0m: \u001b[32m'ATC1-4'\u001b[0m\u001b[1m}\u001b[0m, \u001b[32m'5487'\u001b[0m: \n",
       "\u001b[1m{\u001b[0m\u001b[32m'atc_id'\u001b[0m: \u001b[32m'C09DX'\u001b[0m, \u001b[32m'atc_name'\u001b[0m: \u001b[32m'Angiotensin II receptor blockers \u001b[0m\u001b[32m(\u001b[0m\u001b[32mARBs\u001b[0m\u001b[32m)\u001b[0m\u001b[32m, other combinations'\u001b[0m, \u001b[32m'atc_type'\u001b[0m: \n",
       "\u001b[32m'ATC1-4'\u001b[0m\u001b[1m}\u001b[0m, \u001b[32m'19484'\u001b[0m: \u001b[1m{\u001b[0m\u001b[32m'atc_id'\u001b[0m: \u001b[32m'C07AB'\u001b[0m, \u001b[32m'atc_name'\u001b[0m: \u001b[32m'Beta blocking agents, selective'\u001b[0m, \u001b[32m'atc_type'\u001b[0m: \u001b[32m'ATC1-4'\u001b[0m\u001b[1m}\u001b[0m, \n",
       "\u001b[32m'35296'\u001b[0m: \u001b[1m{\u001b[0m\u001b[32m'atc_id'\u001b[0m: \u001b[32m'C09AA'\u001b[0m, \u001b[32m'atc_name'\u001b[0m: \u001b[32m'ACE inhibitors, plain'\u001b[0m, \u001b[32m'atc_type'\u001b[0m: \u001b[32m'ATC1-4'\u001b[0m\u001b[1m}\u001b[0m, \u001b[32m'38413'\u001b[0m: \u001b[1m{\u001b[0m\u001b[32m'atc_id'\u001b[0m: \n",
       "\u001b[32m'C03CA'\u001b[0m, \u001b[32m'atc_name'\u001b[0m: \u001b[32m'Sulfonamides, plain'\u001b[0m, \u001b[32m'atc_type'\u001b[0m: \u001b[32m'ATC1-4'\u001b[0m\u001b[1m}\u001b[0m, \u001b[32m'32968'\u001b[0m: \u001b[1m{\u001b[0m\u001b[32m'atc_id'\u001b[0m: \u001b[32m'B01AC'\u001b[0m, \u001b[32m'atc_name'\u001b[0m: \n",
       "\u001b[32m'Platelet aggregation inhibitors excl. heparin'\u001b[0m, \u001b[32m'atc_type'\u001b[0m: \u001b[32m'ATC1-4'\u001b[0m\u001b[1m}\u001b[0m, \u001b[32m'1191'\u001b[0m: \u001b[1m{\u001b[0m\u001b[32m'atc_id'\u001b[0m: \u001b[32m'N02BA'\u001b[0m, \u001b[32m'atc_name'\u001b[0m: \n",
       "\u001b[32m'Salicylic acid and derivatives'\u001b[0m, \u001b[32m'atc_type'\u001b[0m: \u001b[32m'ATC1-4'\u001b[0m\u001b[1m}\u001b[0m, \u001b[32m'8150'\u001b[0m: \u001b[1m{\u001b[0m\u001b[32m'atc_id'\u001b[0m: \u001b[32m'B01AA'\u001b[0m, \u001b[32m'atc_name'\u001b[0m: \u001b[32m'Vitamin K \u001b[0m\n",
       "\u001b[32mantagonists'\u001b[0m, \u001b[32m'atc_type'\u001b[0m: \u001b[32m'ATC1-4'\u001b[0m\u001b[1m}\u001b[0m\u001b[1m}\u001b[0m\n"
      ]
     },
     "metadata": {},
     "output_type": "display_data"
    },
    {
     "data": {
      "text/html": [
       "<pre style=\"white-space:pre;overflow-x:auto;line-height:normal;font-family:Menlo,'DejaVu Sans Mono',consolas,'Courier New',monospace\"><span style=\"color: #7f7f7f; text-decoration-color: #7f7f7f\">[Step 3: Duration 50.36 seconds| Input tokens: 9,657 | Output tokens: 735]</span>\n",
       "</pre>\n"
      ],
      "text/plain": [
       "\u001b[2m[Step 3: Duration 50.36 seconds| Input tokens: 9,657 | Output tokens: 735]\u001b[0m\n"
      ]
     },
     "metadata": {},
     "output_type": "display_data"
    },
    {
     "data": {
      "text/html": [
       "<pre style=\"white-space:pre;overflow-x:auto;line-height:normal;font-family:Menlo,'DejaVu Sans Mono',consolas,'Courier New',monospace\"><span style=\"color: #d4b702; text-decoration-color: #d4b702\">━━━━━━━━━━━━━━━━━━━━━━━━━━━━━━━━━━━━━━━━━━━━━━━━━━━━━ </span><span style=\"font-weight: bold\">Step </span><span style=\"color: #008080; text-decoration-color: #008080; font-weight: bold\">4</span><span style=\"color: #d4b702; text-decoration-color: #d4b702\"> ━━━━━━━━━━━━━━━━━━━━━━━━━━━━━━━━━━━━━━━━━━━━━━━━━━━━━━</span>\n",
       "</pre>\n"
      ],
      "text/plain": [
       "\u001b[38;2;212;183;2m━━━━━━━━━━━━━━━━━━━━━━━━━━━━━━━━━━━━━━━━━━━━━━━━━━━━━ \u001b[0m\u001b[1mStep \u001b[0m\u001b[1;36m4\u001b[0m\u001b[38;2;212;183;2m ━━━━━━━━━━━━━━━━━━━━━━━━━━━━━━━━━━━━━━━━━━━━━━━━━━━━━━\u001b[0m\n"
      ]
     },
     "metadata": {},
     "output_type": "display_data"
    },
    {
     "data": {
      "text/html": [
       "<pre style=\"white-space:pre;overflow-x:auto;line-height:normal;font-family:Menlo,'DejaVu Sans Mono',consolas,'Courier New',monospace\">╭─────────────────────────────────────────────────────────────────────────────────────────────────────────────────╮\n",
       "│ Calling tool: 'save_csv' with arguments: {'task_name': 'medication', 'data': [{'patient_id': 4,                 │\n",
       "│ 'medication_name': 'Pantoprazol', 'medication_name_corrected': 'Pantoprazol (pantoprazole)', 'dose': 40,        │\n",
       "│ 'unit': 'mg', 'dosage_morning': 0, 'dosage_noon': 0, 'dosage_evening': 1, 'dosage_night': 0,                    │\n",
       "│ 'dosage_information': '', 'rxcui': '40790', 'atc_id': 'A02BC', 'atc_name': 'Proton pump inhibitors',            │\n",
       "│ 'atc_type': 'ATC1-4'}, {'patient_id': 4, 'medication_name': 'HCT', 'medication_name_corrected': 'HCT            │\n",
       "│ (hydrochlorothiazide)', 'dose': 25, 'unit': 'mg', 'dosage_morning': 1, 'dosage_noon': 0, 'dosage_evening': 0,   │\n",
       "│ 'dosage_night': 0, 'dosage_information': '', 'rxcui': '5487', 'atc_id': 'C09DX', 'atc_name': 'Angiotensin II    │\n",
       "│ receptor blockers (ARBs), other combinations', 'atc_type': 'ATC1-4'}, {'patient_id': 4, 'medication_name':      │\n",
       "│ 'Bisoprolol', 'medication_name_corrected': 'Bisoprolol (bisoprolol)', 'dose': 5, 'unit': 'mg',                  │\n",
       "│ 'dosage_morning': 1, 'dosage_noon': 0, 'dosage_evening': 0, 'dosage_night': 0, 'dosage_information': '',        │\n",
       "│ 'rxcui': '19484', 'atc_id': 'C07AB', 'atc_name': 'Beta blocking agents, selective', 'atc_type': 'ATC1-4'},      │\n",
       "│ {'patient_id': 4, 'medication_name': 'Ramipril', 'medication_name_corrected': 'Ramipril (ramipril)', 'dose': 5, │\n",
       "│ 'unit': 'mg', 'dosage_morning': 1, 'dosage_noon': 0, 'dosage_evening': 0, 'dosage_night': 0,                    │\n",
       "│ 'dosage_information': '', 'rxcui': '35296', 'atc_id': 'C09AA', 'atc_name': 'ACE inhibitors, plain', 'atc_type': │\n",
       "│ 'ATC1-4'}, {'patient_id': 4, 'medication_name': 'Torasemid', 'medication_name_corrected': 'Torasemid            │\n",
       "│ (torasemide)', 'dose': 10, 'unit': 'mg', 'dosage_morning': 1, 'dosage_noon': 0, 'dosage_evening': 0,            │\n",
       "│ 'dosage_night': 0, 'dosage_information': '', 'rxcui': '38413', 'atc_id': 'C03CA', 'atc_name': 'Sulfonamides,    │\n",
       "│ plain', 'atc_type': 'ATC1-4'}, {'patient_id': 4, 'medication_name': 'Clopidogrel', 'medication_name_corrected': │\n",
       "│ 'Clopidogrel (clopidogrel)', 'dose': 75, 'unit': 'mg', 'dosage_morning': 1, 'dosage_noon': 0, 'dosage_evening': │\n",
       "│ 0, 'dosage_night': 0, 'dosage_information': '', 'rxcui': '32968', 'atc_id': 'B01AC', 'atc_name': 'Platelet      │\n",
       "│ aggregation inhibitors excl. heparin', 'atc_type': 'ATC1-4'}, {'patient_id': 4, 'medication_name': 'ASS',       │\n",
       "│ 'medication_name_corrected': 'ASS (acetylsalicylic acid)', 'dose': 100, 'unit': '', 'dosage_morning': 1,        │\n",
       "│ 'dosage_noon': 0, 'dosage_evening': 0, 'dosage_night': 0, 'dosage_information': '', 'rxcui': '1191', 'atc_id':  │\n",
       "│ 'N02BA', 'atc_name': 'Salicylic acid and derivatives', 'atc_type': 'ATC1-4'}, {'patient_id': 4,                 │\n",
       "│ 'medication_name': 'Macumar', 'medication_name_corrected': 'Macumar (phenprocoumon)', 'dose': 0, 'unit': '',    │\n",
       "│ 'dosage_morning': 0, 'dosage_noon': 0, 'dosage_evening': 0, 'dosage_night': 0, 'dosage_information': 'nach      │\n",
       "│ INR', 'rxcui': '8150', 'atc_id': 'B01AA', 'atc_name': 'Vitamin K antagonists', 'atc_type': 'ATC1-4'}]}          │\n",
       "╰─────────────────────────────────────────────────────────────────────────────────────────────────────────────────╯\n",
       "</pre>\n"
      ],
      "text/plain": [
       "╭─────────────────────────────────────────────────────────────────────────────────────────────────────────────────╮\n",
       "│ Calling tool: 'save_csv' with arguments: {'task_name': 'medication', 'data': [{'patient_id': 4,                 │\n",
       "│ 'medication_name': 'Pantoprazol', 'medication_name_corrected': 'Pantoprazol (pantoprazole)', 'dose': 40,        │\n",
       "│ 'unit': 'mg', 'dosage_morning': 0, 'dosage_noon': 0, 'dosage_evening': 1, 'dosage_night': 0,                    │\n",
       "│ 'dosage_information': '', 'rxcui': '40790', 'atc_id': 'A02BC', 'atc_name': 'Proton pump inhibitors',            │\n",
       "│ 'atc_type': 'ATC1-4'}, {'patient_id': 4, 'medication_name': 'HCT', 'medication_name_corrected': 'HCT            │\n",
       "│ (hydrochlorothiazide)', 'dose': 25, 'unit': 'mg', 'dosage_morning': 1, 'dosage_noon': 0, 'dosage_evening': 0,   │\n",
       "│ 'dosage_night': 0, 'dosage_information': '', 'rxcui': '5487', 'atc_id': 'C09DX', 'atc_name': 'Angiotensin II    │\n",
       "│ receptor blockers (ARBs), other combinations', 'atc_type': 'ATC1-4'}, {'patient_id': 4, 'medication_name':      │\n",
       "│ 'Bisoprolol', 'medication_name_corrected': 'Bisoprolol (bisoprolol)', 'dose': 5, 'unit': 'mg',                  │\n",
       "│ 'dosage_morning': 1, 'dosage_noon': 0, 'dosage_evening': 0, 'dosage_night': 0, 'dosage_information': '',        │\n",
       "│ 'rxcui': '19484', 'atc_id': 'C07AB', 'atc_name': 'Beta blocking agents, selective', 'atc_type': 'ATC1-4'},      │\n",
       "│ {'patient_id': 4, 'medication_name': 'Ramipril', 'medication_name_corrected': 'Ramipril (ramipril)', 'dose': 5, │\n",
       "│ 'unit': 'mg', 'dosage_morning': 1, 'dosage_noon': 0, 'dosage_evening': 0, 'dosage_night': 0,                    │\n",
       "│ 'dosage_information': '', 'rxcui': '35296', 'atc_id': 'C09AA', 'atc_name': 'ACE inhibitors, plain', 'atc_type': │\n",
       "│ 'ATC1-4'}, {'patient_id': 4, 'medication_name': 'Torasemid', 'medication_name_corrected': 'Torasemid            │\n",
       "│ (torasemide)', 'dose': 10, 'unit': 'mg', 'dosage_morning': 1, 'dosage_noon': 0, 'dosage_evening': 0,            │\n",
       "│ 'dosage_night': 0, 'dosage_information': '', 'rxcui': '38413', 'atc_id': 'C03CA', 'atc_name': 'Sulfonamides,    │\n",
       "│ plain', 'atc_type': 'ATC1-4'}, {'patient_id': 4, 'medication_name': 'Clopidogrel', 'medication_name_corrected': │\n",
       "│ 'Clopidogrel (clopidogrel)', 'dose': 75, 'unit': 'mg', 'dosage_morning': 1, 'dosage_noon': 0, 'dosage_evening': │\n",
       "│ 0, 'dosage_night': 0, 'dosage_information': '', 'rxcui': '32968', 'atc_id': 'B01AC', 'atc_name': 'Platelet      │\n",
       "│ aggregation inhibitors excl. heparin', 'atc_type': 'ATC1-4'}, {'patient_id': 4, 'medication_name': 'ASS',       │\n",
       "│ 'medication_name_corrected': 'ASS (acetylsalicylic acid)', 'dose': 100, 'unit': '', 'dosage_morning': 1,        │\n",
       "│ 'dosage_noon': 0, 'dosage_evening': 0, 'dosage_night': 0, 'dosage_information': '', 'rxcui': '1191', 'atc_id':  │\n",
       "│ 'N02BA', 'atc_name': 'Salicylic acid and derivatives', 'atc_type': 'ATC1-4'}, {'patient_id': 4,                 │\n",
       "│ 'medication_name': 'Macumar', 'medication_name_corrected': 'Macumar (phenprocoumon)', 'dose': 0, 'unit': '',    │\n",
       "│ 'dosage_morning': 0, 'dosage_noon': 0, 'dosage_evening': 0, 'dosage_night': 0, 'dosage_information': 'nach      │\n",
       "│ INR', 'rxcui': '8150', 'atc_id': 'B01AA', 'atc_name': 'Vitamin K antagonists', 'atc_type': 'ATC1-4'}]}          │\n",
       "╰─────────────────────────────────────────────────────────────────────────────────────────────────────────────────╯\n"
      ]
     },
     "metadata": {},
     "output_type": "display_data"
    },
    {
     "data": {
      "text/html": [
       "<pre style=\"white-space:pre;overflow-x:auto;line-height:normal;font-family:Menlo,'DejaVu Sans Mono',consolas,'Courier New',monospace\">Observations: Saved data for task medication to <span style=\"color: #800080; text-decoration-color: #800080\">/workspaces/examples/result/</span><span style=\"color: #ff00ff; text-decoration-color: #ff00ff\">medication.csv</span>\n",
       "</pre>\n"
      ],
      "text/plain": [
       "Observations: Saved data for task medication to \u001b[35m/workspaces/examples/result/\u001b[0m\u001b[95mmedication.csv\u001b[0m\n"
      ]
     },
     "metadata": {},
     "output_type": "display_data"
    },
    {
     "data": {
      "text/html": [
       "<pre style=\"white-space:pre;overflow-x:auto;line-height:normal;font-family:Menlo,'DejaVu Sans Mono',consolas,'Courier New',monospace\"><span style=\"color: #7f7f7f; text-decoration-color: #7f7f7f\">[Step 4: Duration 21.50 seconds| Input tokens: 14,148 | Output tokens: 1,597]</span>\n",
       "</pre>\n"
      ],
      "text/plain": [
       "\u001b[2m[Step 4: Duration 21.50 seconds| Input tokens: 14,148 | Output tokens: 1,597]\u001b[0m\n"
      ]
     },
     "metadata": {},
     "output_type": "display_data"
    },
    {
     "data": {
      "text/html": [
       "<pre style=\"white-space:pre;overflow-x:auto;line-height:normal;font-family:Menlo,'DejaVu Sans Mono',consolas,'Courier New',monospace\"><span style=\"color: #d4b702; text-decoration-color: #d4b702\">━━━━━━━━━━━━━━━━━━━━━━━━━━━━━━━━━━━━━━━━━━━━━━━━━━━━━ </span><span style=\"font-weight: bold\">Step </span><span style=\"color: #008080; text-decoration-color: #008080; font-weight: bold\">5</span><span style=\"color: #d4b702; text-decoration-color: #d4b702\"> ━━━━━━━━━━━━━━━━━━━━━━━━━━━━━━━━━━━━━━━━━━━━━━━━━━━━━━</span>\n",
       "</pre>\n"
      ],
      "text/plain": [
       "\u001b[38;2;212;183;2m━━━━━━━━━━━━━━━━━━━━━━━━━━━━━━━━━━━━━━━━━━━━━━━━━━━━━ \u001b[0m\u001b[1mStep \u001b[0m\u001b[1;36m5\u001b[0m\u001b[38;2;212;183;2m ━━━━━━━━━━━━━━━━━━━━━━━━━━━━━━━━━━━━━━━━━━━━━━━━━━━━━━\u001b[0m\n"
      ]
     },
     "metadata": {},
     "output_type": "display_data"
    },
    {
     "data": {
      "text/html": [
       "<pre style=\"white-space:pre;overflow-x:auto;line-height:normal;font-family:Menlo,'DejaVu Sans Mono',consolas,'Courier New',monospace\">╭─────────────────────────────────────────────────────────────────────────────────────────────────────────────────╮\n",
       "│ Calling tool: 'final_answer' with arguments: {'answer': 'The medication information for patient 4 has been      │\n",
       "│ successfully saved as a CSV file at /workspaces/examples/result/medication.csv.'}                               │\n",
       "╰─────────────────────────────────────────────────────────────────────────────────────────────────────────────────╯\n",
       "</pre>\n"
      ],
      "text/plain": [
       "╭─────────────────────────────────────────────────────────────────────────────────────────────────────────────────╮\n",
       "│ Calling tool: 'final_answer' with arguments: {'answer': 'The medication information for patient 4 has been      │\n",
       "│ successfully saved as a CSV file at /workspaces/examples/result/medication.csv.'}                               │\n",
       "╰─────────────────────────────────────────────────────────────────────────────────────────────────────────────────╯\n"
      ]
     },
     "metadata": {},
     "output_type": "display_data"
    },
    {
     "data": {
      "text/html": [
       "<pre style=\"white-space:pre;overflow-x:auto;line-height:normal;font-family:Menlo,'DejaVu Sans Mono',consolas,'Courier New',monospace\"><span style=\"color: #d4b702; text-decoration-color: #d4b702; font-weight: bold\">Final answer: The medication information for patient 4 has been successfully saved as a CSV file at </span>\n",
       "<span style=\"color: #d4b702; text-decoration-color: #d4b702; font-weight: bold\">/workspaces/examples/result/medication.csv.</span>\n",
       "</pre>\n"
      ],
      "text/plain": [
       "\u001b[1;38;2;212;183;2mFinal answer: The medication information for patient 4 has been successfully saved as a CSV file at \u001b[0m\n",
       "\u001b[1;38;2;212;183;2m/workspaces/examples/result/medication.csv.\u001b[0m\n"
      ]
     },
     "metadata": {},
     "output_type": "display_data"
    },
    {
     "data": {
      "text/html": [
       "<pre style=\"white-space:pre;overflow-x:auto;line-height:normal;font-family:Menlo,'DejaVu Sans Mono',consolas,'Courier New',monospace\"><span style=\"color: #7f7f7f; text-decoration-color: #7f7f7f\">[Step 5: Duration 47.44 seconds| Input tokens: 19,801 | Output tokens: 1,635]</span>\n",
       "</pre>\n"
      ],
      "text/plain": [
       "\u001b[2m[Step 5: Duration 47.44 seconds| Input tokens: 19,801 | Output tokens: 1,635]\u001b[0m\n"
      ]
     },
     "metadata": {},
     "output_type": "display_data"
    }
   ],
   "source": [
    "from medminer.task.medication import medication_task\n",
    "\n",
    "for doc in docs[:1]:\n",
    "    medication_task.run(model, doc.content)"
   ]
  }
 ],
 "metadata": {
  "kernelspec": {
   "display_name": ".venv",
   "language": "python",
   "name": "python3"
  },
  "language_info": {
   "codemirror_mode": {
    "name": "ipython",
    "version": 3
   },
   "file_extension": ".py",
   "mimetype": "text/x-python",
   "name": "python",
   "nbconvert_exporter": "python",
   "pygments_lexer": "ipython3",
   "version": "3.13.2"
  }
 },
 "nbformat": 4,
 "nbformat_minor": 2
}
