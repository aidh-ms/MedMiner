{
 "cells": [
  {
   "cell_type": "code",
   "execution_count": null,
   "metadata": {},
   "outputs": [],
   "source": [
    "import os\n",
    "from smolagents import AzureOpenAIServerModel, TransformersModel\n",
    "\n",
    "MODE = 'local'  # or 'azure'\n",
    "if MODE == 'azure':\n",
    "    model = AzureOpenAIServerModel(\n",
    "        model_id=os.environ.get(\"AZURE_OPENAI_MODEL\", \"\"),\n",
    "        azure_endpoint=os.environ.get(\"AZURE_OPENAI_ENDPOINT\", \"\"),\n",
    "        api_key=os.environ.get(\"AZURE_OPENAI_API_KEY\", \"\"),\n",
    "        api_version=os.environ.get(\"OPENAI_API_VERSION\", \"\")\n",
    "    )\n",
    "if MODE == 'local':\n",
    "    model = TransformersModel(\n",
    "        model_id=\"Qwen/Qwen2.5-Coder-32B-Instruct\",\n",
    "        device=\"cuda\" if os.environ.get(\"CUDA_VISIBLE_DEVICES\", \"\") else \"cpu\",\n",
    "        max_length=512,\n",
    "        temperature=0.7,\n",
    "        top_p=0.9,\n",
    "        top_k=50\n",
    "    )"
   ]
  },
  {
   "cell_type": "code",
   "execution_count": 11,
   "metadata": {},
   "outputs": [],
   "source": [
    "from pathlib import Path\n",
    "from medminer.data import Document\n",
    "\n",
    "docs = []\n",
    "for file in (Path.cwd().parent / \"data\" / \"pre_medications\").glob(\"*.txt\"):\n",
    "    with open(file, \"r\") as f:\n",
    "        docs.append(Document(file.stem, f.read()))"
   ]
  },
  {
   "cell_type": "code",
   "execution_count": 3,
   "metadata": {},
   "outputs": [],
   "source": [
    "from medminer.task.medication import medication_task\n",
    "\n",
    "for doc in docs[:1]:\n",
    "    medication_task.run(model, doc.content)"
   ]
  }
 ],
 "metadata": {
  "kernelspec": {
   "display_name": ".venv",
   "language": "python",
   "name": "python3"
  },
  "language_info": {
   "codemirror_mode": {
    "name": "ipython",
    "version": 3
   },
   "file_extension": ".py",
   "mimetype": "text/x-python",
   "name": "python",
   "nbconvert_exporter": "python",
   "pygments_lexer": "ipython3",
   "version": "3.13.0"
  }
 },
 "nbformat": 4,
 "nbformat_minor": 2
}
