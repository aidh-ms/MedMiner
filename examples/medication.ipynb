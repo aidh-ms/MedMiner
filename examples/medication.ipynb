{
 "cells": [
  {
   "cell_type": "code",
   "execution_count": 1,
   "metadata": {},
   "outputs": [],
   "source": [
    "import os\n",
    "from smolagents import AzureOpenAIServerModel, TransformersModel\n",
    "\n",
    "MODE = 'azure'  # or 'azure'\n",
    "if MODE == 'azure':\n",
    "    model = AzureOpenAIServerModel(\n",
    "        model_id=os.environ.get(\"AZURE_OPENAI_MODEL\", \"\"),\n",
    "        azure_endpoint=os.environ.get(\"AZURE_OPENAI_ENDPOINT\", \"\"),\n",
    "        api_key=os.environ.get(\"AZURE_OPENAI_API_KEY\", \"\"),\n",
    "        api_version=os.environ.get(\"OPENAI_API_VERSION\", \"\")\n",
    "    )\n",
    "if MODE == 'local':\n",
    "    model = TransformersModel(\n",
    "        model_id=\"Qwen/Qwen2.5-Coder-32B-Instruct\",\n",
    "    )"
   ]
  },
  {
   "cell_type": "code",
   "execution_count": 2,
   "metadata": {},
   "outputs": [],
   "source": [
    "from pathlib import Path\n",
    "from medminer.data import Document\n",
    "\n",
    "docs = []\n",
    "for file in (Path.cwd().parent / \"data\" / \"pre_medications\").glob(\"*.txt\"):\n",
    "    with open(file, \"r\") as f:\n",
    "        docs.append(Document(file.stem, f.read()))"
   ]
  },
  {
   "cell_type": "code",
   "execution_count": null,
   "metadata": {},
   "outputs": [
    {
     "data": {
      "text/html": [
       "<pre style=\"white-space:pre;overflow-x:auto;line-height:normal;font-family:Menlo,'DejaVu Sans Mono',consolas,'Courier New',monospace\"><span style=\"color: #d4b702; text-decoration-color: #d4b702\">╭──────────────────────────────────────────────────── </span><span style=\"color: #d4b702; text-decoration-color: #d4b702; font-weight: bold\">New run</span><span style=\"color: #d4b702; text-decoration-color: #d4b702\"> ────────────────────────────────────────────────────╮</span>\n",
       "<span style=\"color: #d4b702; text-decoration-color: #d4b702\">│</span>                                                                                                                 <span style=\"color: #d4b702; text-decoration-color: #d4b702\">│</span>\n",
       "<span style=\"color: #d4b702; text-decoration-color: #d4b702\">│</span> <span style=\"font-weight: bold\">Task name: medication</span>                                                                                           <span style=\"color: #d4b702; text-decoration-color: #d4b702\">│</span>\n",
       "<span style=\"color: #d4b702; text-decoration-color: #d4b702\">│</span> <span style=\"font-weight: bold\">Prompt: </span>                                                                                                        <span style=\"color: #d4b702; text-decoration-color: #d4b702\">│</span>\n",
       "<span style=\"color: #d4b702; text-decoration-color: #d4b702\">│</span> <span style=\"font-weight: bold\">    Given a list of medications, save all medications for the patient as csv. The medications can be in any </span>    <span style=\"color: #d4b702; text-decoration-color: #d4b702\">│</span>\n",
       "<span style=\"color: #d4b702; text-decoration-color: #d4b702\">│</span> <span style=\"font-weight: bold\">language. The medications are usually in the format of a list of medications, with dosage and unit as well as </span>  <span style=\"color: #d4b702; text-decoration-color: #d4b702\">│</span>\n",
       "<span style=\"color: #d4b702; text-decoration-color: #d4b702\">│</span> <span style=\"font-weight: bold\">their dosage timings (e.g. 1-0-1-0 for moring and evening but not noon or night). Every medication should have </span> <span style=\"color: #d4b702; text-decoration-color: #d4b702\">│</span>\n",
       "<span style=\"color: #d4b702; text-decoration-color: #d4b702\">│</span> <span style=\"font-weight: bold\">a single row, if there are multiple medications that can be extracted from a single piece of text, e.g. a </span>      <span style=\"color: #d4b702; text-decoration-color: #d4b702\">│</span>\n",
       "<span style=\"color: #d4b702; text-decoration-color: #d4b702\">│</span> <span style=\"font-weight: bold\">combined medication, split them up. These are the steps you should follow to complete the task:</span>                 <span style=\"color: #d4b702; text-decoration-color: #d4b702\">│</span>\n",
       "<span style=\"color: #d4b702; text-decoration-color: #d4b702\">│</span>                                                                                                                 <span style=\"color: #d4b702; text-decoration-color: #d4b702\">│</span>\n",
       "<span style=\"color: #d4b702; text-decoration-color: #d4b702\">│</span> <span style=\"font-weight: bold\">    To complete the task make the following steps:</span>                                                              <span style=\"color: #d4b702; text-decoration-color: #d4b702\">│</span>\n",
       "<span style=\"color: #d4b702; text-decoration-color: #d4b702\">│</span> <span style=\"font-weight: bold\">    1. Extract the medications from the text. The medication can be in any language. This is the </span>               <span style=\"color: #d4b702; text-decoration-color: #d4b702\">│</span>\n",
       "<span style=\"color: #d4b702; text-decoration-color: #d4b702\">│</span> <span style=\"font-weight: bold\">medication_reference column.</span>                                                                                    <span style=\"color: #d4b702; text-decoration-color: #d4b702\">│</span>\n",
       "<span style=\"color: #d4b702; text-decoration-color: #d4b702\">│</span> <span style=\"font-weight: bold\">    2. If the medication name is not in english, translate it to english and infer the medication_translated </span>   <span style=\"color: #d4b702; text-decoration-color: #d4b702\">│</span>\n",
       "<span style=\"color: #d4b702; text-decoration-color: #d4b702\">│</span> <span style=\"font-weight: bold\">column. Correct any misspellings in the process. Use the following format \"Brand name or medication name </span>       <span style=\"color: #d4b702; text-decoration-color: #d4b702\">│</span>\n",
       "<span style=\"color: #d4b702; text-decoration-color: #d4b702\">│</span> <span style=\"font-weight: bold\">(active ingredient)\". e.g. \"Aspirin (acetylsalicylic acid)\".</span>                                                    <span style=\"color: #d4b702; text-decoration-color: #d4b702\">│</span>\n",
       "<span style=\"color: #d4b702; text-decoration-color: #d4b702\">│</span> <span style=\"font-weight: bold\">    3. Extract the active ingredient of the medication and loose everything that is not relevant. This is the </span>  <span style=\"color: #d4b702; text-decoration-color: #d4b702\">│</span>\n",
       "<span style=\"color: #d4b702; text-decoration-color: #d4b702\">│</span> <span style=\"font-weight: bold\">active_ingredient column.</span>                                                                                       <span style=\"color: #d4b702; text-decoration-color: #d4b702\">│</span>\n",
       "<span style=\"color: #d4b702; text-decoration-color: #d4b702\">│</span> <span style=\"font-weight: bold\">    4. Extract the dose of the medication. This should only contain the numeric value. This is the dose column.</span> <span style=\"color: #d4b702; text-decoration-color: #d4b702\">│</span>\n",
       "<span style=\"color: #d4b702; text-decoration-color: #d4b702\">│</span> <span style=\"font-weight: bold\">    5. Extract the unit of the dose (e.g. ml, mg, ...). If possible, use mg. If not applicable, write an empty </span> <span style=\"color: #d4b702; text-decoration-color: #d4b702\">│</span>\n",
       "<span style=\"color: #d4b702; text-decoration-color: #d4b702\">│</span> <span style=\"font-weight: bold\">string. This is the unit column.</span>                                                                                <span style=\"color: #d4b702; text-decoration-color: #d4b702\">│</span>\n",
       "<span style=\"color: #d4b702; text-decoration-color: #d4b702\">│</span> <span style=\"font-weight: bold\">    6. Extract the dosage timings of the medication. This is the dosage_morning, dosage_noon, dosage_evening </span>   <span style=\"color: #d4b702; text-decoration-color: #d4b702\">│</span>\n",
       "<span style=\"color: #d4b702; text-decoration-color: #d4b702\">│</span> <span style=\"font-weight: bold\">and dosage_night columns. If you see that the patient is not taking a medication at a certain time point, write</span> <span style=\"color: #d4b702; text-decoration-color: #d4b702\">│</span>\n",
       "<span style=\"color: #d4b702; text-decoration-color: #d4b702\">│</span> <span style=\"font-weight: bold\">a 0. If you are unsure or missing the information, leave empty.</span>                                                 <span style=\"color: #d4b702; text-decoration-color: #d4b702\">│</span>\n",
       "<span style=\"color: #d4b702; text-decoration-color: #d4b702\">│</span> <span style=\"font-weight: bold\">    7. Extract the dosage information of the medication. This is the dosage_information column. You can write </span>  <span style=\"color: #d4b702; text-decoration-color: #d4b702\">│</span>\n",
       "<span style=\"color: #d4b702; text-decoration-color: #d4b702\">│</span> <span style=\"font-weight: bold\">any further information here that does not fit the description before. If you see an indication that this might</span> <span style=\"color: #d4b702; text-decoration-color: #d4b702\">│</span>\n",
       "<span style=\"color: #d4b702; text-decoration-color: #d4b702\">│</span> <span style=\"font-weight: bold\">be a medication that is taken \"as needed\" write \"as needed\" here. If you weren't able to infer a medication </span>    <span style=\"color: #d4b702; text-decoration-color: #d4b702\">│</span>\n",
       "<span style=\"color: #d4b702; text-decoration-color: #d4b702\">│</span> <span style=\"font-weight: bold\">schedule in the task before, write \"schedule unkown\". If not applicable, write an empty string.</span>                 <span style=\"color: #d4b702; text-decoration-color: #d4b702\">│</span>\n",
       "<span style=\"color: #d4b702; text-decoration-color: #d4b702\">│</span> <span style=\"font-weight: bold\">    8. get the RXCUI for all medications. Use the active ingredient of the medications. If there are multiple </span>  <span style=\"color: #d4b702; text-decoration-color: #d4b702\">│</span>\n",
       "<span style=\"color: #d4b702; text-decoration-color: #d4b702\">│</span> <span style=\"font-weight: bold\">RXCUI codes, choose the one that fits the best to the translated medication. Usually, the first candidate with </span> <span style=\"color: #d4b702; text-decoration-color: #d4b702\">│</span>\n",
       "<span style=\"color: #d4b702; text-decoration-color: #d4b702\">│</span> <span style=\"font-weight: bold\">a score of 1 is the best choice, but you can decide otherwise if you have reasonable grounds for another </span>       <span style=\"color: #d4b702; text-decoration-color: #d4b702\">│</span>\n",
       "<span style=\"color: #d4b702; text-decoration-color: #d4b702\">│</span> <span style=\"font-weight: bold\">decision. If there are no codes, write an empty string.</span>                                                         <span style=\"color: #d4b702; text-decoration-color: #d4b702\">│</span>\n",
       "<span style=\"color: #d4b702; text-decoration-color: #d4b702\">│</span> <span style=\"font-weight: bold\">    9. get the ATC code for all medications. Use the rxcui of the medications.</span>                                  <span style=\"color: #d4b702; text-decoration-color: #d4b702\">│</span>\n",
       "<span style=\"color: #d4b702; text-decoration-color: #d4b702\">│</span> <span style=\"font-weight: bold\">    10. save the medication information as csv with the columns defined below.</span>                                  <span style=\"color: #d4b702; text-decoration-color: #d4b702\">│</span>\n",
       "<span style=\"color: #d4b702; text-decoration-color: #d4b702\">│</span>                                                                                                                 <span style=\"color: #d4b702; text-decoration-color: #d4b702\">│</span>\n",
       "<span style=\"color: #d4b702; text-decoration-color: #d4b702\">│</span> <span style=\"font-weight: bold\">    Example 1:</span>                                                                                                  <span style=\"color: #d4b702; text-decoration-color: #d4b702\">│</span>\n",
       "<span style=\"color: #d4b702; text-decoration-color: #d4b702\">│</span> <span style=\"font-weight: bold\">    Input: \"Aspirin 100mg 1-0-1-0\"</span>                                                                              <span style=\"color: #d4b702; text-decoration-color: #d4b702\">│</span>\n",
       "<span style=\"color: #d4b702; text-decoration-color: #d4b702\">│</span> <span style=\"font-weight: bold\">    Output: [</span>                                                                                                   <span style=\"color: #d4b702; text-decoration-color: #d4b702\">│</span>\n",
       "<span style=\"color: #d4b702; text-decoration-color: #d4b702\">│</span> <span style=\"font-weight: bold\">        {\"patient_id\": 1, \"medication_reference\": \"Aspirin 100mg\", \"medication_name\": \"Aspirin\", </span>               <span style=\"color: #d4b702; text-decoration-color: #d4b702\">│</span>\n",
       "<span style=\"color: #d4b702; text-decoration-color: #d4b702\">│</span> <span style=\"font-weight: bold\">\"medication_translated\": \"Aspirin (acetylsalicylic acid)\", \"active_ingredient\": \"acetylsalicylic acid\", \"dose\":</span> <span style=\"color: #d4b702; text-decoration-color: #d4b702\">│</span>\n",
       "<span style=\"color: #d4b702; text-decoration-color: #d4b702\">│</span> <span style=\"font-weight: bold\">100, \"unit\": \"mg\", \"dosage_morning\": 1, \"dosage_noon\": 0, \"dosage_evening\": 1, \"dosage_night\": 0, </span>              <span style=\"color: #d4b702; text-decoration-color: #d4b702\">│</span>\n",
       "<span style=\"color: #d4b702; text-decoration-color: #d4b702\">│</span> <span style=\"font-weight: bold\">\"dosage_information\": \"\", \"rxcui\": \"\", \"atc_id\": \"\", \"atc_name\": \"\", \"atc_type\": \"\"}</span>                            <span style=\"color: #d4b702; text-decoration-color: #d4b702\">│</span>\n",
       "<span style=\"color: #d4b702; text-decoration-color: #d4b702\">│</span> <span style=\"font-weight: bold\">    \\]</span>                                                                                                          <span style=\"color: #d4b702; text-decoration-color: #d4b702\">│</span>\n",
       "<span style=\"color: #d4b702; text-decoration-color: #d4b702\">│</span> <span style=\"font-weight: bold\">    Example 2:</span>                                                                                                  <span style=\"color: #d4b702; text-decoration-color: #d4b702\">│</span>\n",
       "<span style=\"color: #d4b702; text-decoration-color: #d4b702\">│</span> <span style=\"font-weight: bold\">    Input: \"Paracetamol 500mg 1-0-0-0\"</span>                                                                          <span style=\"color: #d4b702; text-decoration-color: #d4b702\">│</span>\n",
       "<span style=\"color: #d4b702; text-decoration-color: #d4b702\">│</span> <span style=\"font-weight: bold\">    Output: [</span>                                                                                                   <span style=\"color: #d4b702; text-decoration-color: #d4b702\">│</span>\n",
       "<span style=\"color: #d4b702; text-decoration-color: #d4b702\">│</span> <span style=\"font-weight: bold\">        {\"patient_id\": 2, \"medication_reference\": \"Paracetamol 500mg\", \"medication_name\": \"Paracetamol\", </span>       <span style=\"color: #d4b702; text-decoration-color: #d4b702\">│</span>\n",
       "<span style=\"color: #d4b702; text-decoration-color: #d4b702\">│</span> <span style=\"font-weight: bold\">\"medication_translated\": \"Paracetamol (acetaminophen)\", \"active_ingredient\": \"acetaminophen\", \"dose\": 500, </span>     <span style=\"color: #d4b702; text-decoration-color: #d4b702\">│</span>\n",
       "<span style=\"color: #d4b702; text-decoration-color: #d4b702\">│</span> <span style=\"font-weight: bold\">\"unit\": \"mg\", \"dosage_morning\": 1, \"dosage_noon\": 0, \"dosage_evening\": 0, \"dosage_night\": 0, </span>                   <span style=\"color: #d4b702; text-decoration-color: #d4b702\">│</span>\n",
       "<span style=\"color: #d4b702; text-decoration-color: #d4b702\">│</span> <span style=\"font-weight: bold\">\"dosage_information\": \"\", \"rxcui\": \"\", \"atc_id\": \"\", \"atc_name\": \"\", \"atc_type\": \"\"}</span>                            <span style=\"color: #d4b702; text-decoration-color: #d4b702\">│</span>\n",
       "<span style=\"color: #d4b702; text-decoration-color: #d4b702\">│</span> <span style=\"font-weight: bold\">    \\]</span>                                                                                                          <span style=\"color: #d4b702; text-decoration-color: #d4b702\">│</span>\n",
       "<span style=\"color: #d4b702; text-decoration-color: #d4b702\">│</span> <span style=\"font-weight: bold\">    Example 3:</span>                                                                                                  <span style=\"color: #d4b702; text-decoration-color: #d4b702\">│</span>\n",
       "<span style=\"color: #d4b702; text-decoration-color: #d4b702\">│</span> <span style=\"font-weight: bold\">    Input: \"Ibuprofen 400mg 1-1-0-0\"</span>                                                                            <span style=\"color: #d4b702; text-decoration-color: #d4b702\">│</span>\n",
       "<span style=\"color: #d4b702; text-decoration-color: #d4b702\">│</span> <span style=\"font-weight: bold\">    Output: [</span>                                                                                                   <span style=\"color: #d4b702; text-decoration-color: #d4b702\">│</span>\n",
       "<span style=\"color: #d4b702; text-decoration-color: #d4b702\">│</span> <span style=\"font-weight: bold\">        {\"patient_id\": 3, \"medication_reference\": \"Ibuprofen 400mg\", \"medication_name\": \"Ibuprofen\", </span>           <span style=\"color: #d4b702; text-decoration-color: #d4b702\">│</span>\n",
       "<span style=\"color: #d4b702; text-decoration-color: #d4b702\">│</span> <span style=\"font-weight: bold\">\"medication_translated\": \"Ibuprofen (ibuprofen)\", \"active_ingredient\": \"ibuprofen\", \"dose\": 400, \"unit\": \"mg\", </span> <span style=\"color: #d4b702; text-decoration-color: #d4b702\">│</span>\n",
       "<span style=\"color: #d4b702; text-decoration-color: #d4b702\">│</span> <span style=\"font-weight: bold\">\"dosage_morning\": 1, \"dosage_noon\": 1, \"dosage_evening\": 0, \"dosage_night\": 0, \"dosage_information\": \"\", </span>       <span style=\"color: #d4b702; text-decoration-color: #d4b702\">│</span>\n",
       "<span style=\"color: #d4b702; text-decoration-color: #d4b702\">│</span> <span style=\"font-weight: bold\">\"rxcui\": \"\", \"atc_id\": \"\", \"atc_name\": \"\", \"atc_type\": \"\"}</span>                                                      <span style=\"color: #d4b702; text-decoration-color: #d4b702\">│</span>\n",
       "<span style=\"color: #d4b702; text-decoration-color: #d4b702\">│</span> <span style=\"font-weight: bold\">    \\]</span>                                                                                                          <span style=\"color: #d4b702; text-decoration-color: #d4b702\">│</span>\n",
       "<span style=\"color: #d4b702; text-decoration-color: #d4b702\">│</span> <span style=\"font-weight: bold\">    Example 4:</span>                                                                                                  <span style=\"color: #d4b702; text-decoration-color: #d4b702\">│</span>\n",
       "<span style=\"color: #d4b702; text-decoration-color: #d4b702\">│</span> <span style=\"font-weight: bold\">    Input: \"Piperacillin/Tazobactam 1g/1g 1-0-1-0\"</span>                                                              <span style=\"color: #d4b702; text-decoration-color: #d4b702\">│</span>\n",
       "<span style=\"color: #d4b702; text-decoration-color: #d4b702\">│</span> <span style=\"font-weight: bold\">    Output: [</span>                                                                                                   <span style=\"color: #d4b702; text-decoration-color: #d4b702\">│</span>\n",
       "<span style=\"color: #d4b702; text-decoration-color: #d4b702\">│</span> <span style=\"font-weight: bold\">        {\"patient_id\": 4, \"medication_reference\": \"Piperacillin/Tazobactam 1g/1g\", \"medication_name\": </span>          <span style=\"color: #d4b702; text-decoration-color: #d4b702\">│</span>\n",
       "<span style=\"color: #d4b702; text-decoration-color: #d4b702\">│</span> <span style=\"font-weight: bold\">\"Piperacillin\", \"medication_translated\": \"Piperacillin (piperacillin)\", \"active_ingredient\": \"piperacillin\", </span>   <span style=\"color: #d4b702; text-decoration-color: #d4b702\">│</span>\n",
       "<span style=\"color: #d4b702; text-decoration-color: #d4b702\">│</span> <span style=\"font-weight: bold\">\"dose\": 1000, \"unit\": \"mg\", \"dosage_morning\": 1, \"dosage_noon\": 0, \"dosage_evening\": 1, \"dosage_night\": 0, </span>     <span style=\"color: #d4b702; text-decoration-color: #d4b702\">│</span>\n",
       "<span style=\"color: #d4b702; text-decoration-color: #d4b702\">│</span> <span style=\"font-weight: bold\">\"dosage_information\": \"\", \"rxcui\": \"\", \"atc_id\": \"\", \"atc_name\": \"\", \"atc_type\": \"\"},</span>                           <span style=\"color: #d4b702; text-decoration-color: #d4b702\">│</span>\n",
       "<span style=\"color: #d4b702; text-decoration-color: #d4b702\">│</span> <span style=\"font-weight: bold\">        {\"patient_id\": 4, \"medication_reference\": \"Piperacillin/Tazobactam 1g/1g\", \"medication_name\": </span>          <span style=\"color: #d4b702; text-decoration-color: #d4b702\">│</span>\n",
       "<span style=\"color: #d4b702; text-decoration-color: #d4b702\">│</span> <span style=\"font-weight: bold\">\"Tazobactam\", \"medication_translated\": \"Tazobactam (tazobactam)\", \"active_ingredient\": \"tazobactam\", \"dose\": </span>   <span style=\"color: #d4b702; text-decoration-color: #d4b702\">│</span>\n",
       "<span style=\"color: #d4b702; text-decoration-color: #d4b702\">│</span> <span style=\"font-weight: bold\">1000, \"unit\": \"mg\", \"dosage_morning\": 1, \"dosage_noon\": 0, \"dosage_evening\": 1, \"dosage_night\": 0, </span>             <span style=\"color: #d4b702; text-decoration-color: #d4b702\">│</span>\n",
       "<span style=\"color: #d4b702; text-decoration-color: #d4b702\">│</span> <span style=\"font-weight: bold\">\"dosage_information\": \"\", \"rxcui\": \"\", \"atc_id\": \"\", \"atc_name\": \"\", \"atc_type\": \"\"}</span>                            <span style=\"color: #d4b702; text-decoration-color: #d4b702\">│</span>\n",
       "<span style=\"color: #d4b702; text-decoration-color: #d4b702\">│</span> <span style=\"font-weight: bold\">    \\]</span>                                                                                                          <span style=\"color: #d4b702; text-decoration-color: #d4b702\">│</span>\n",
       "<span style=\"color: #d4b702; text-decoration-color: #d4b702\">│</span> <span style=\"font-weight: bold\">    Example 5:</span>                                                                                                  <span style=\"color: #d4b702; text-decoration-color: #d4b702\">│</span>\n",
       "<span style=\"color: #d4b702; text-decoration-color: #d4b702\">│</span> <span style=\"font-weight: bold\">    Input: \"Tilidin 5mg bB\"</span>                                                                                     <span style=\"color: #d4b702; text-decoration-color: #d4b702\">│</span>\n",
       "<span style=\"color: #d4b702; text-decoration-color: #d4b702\">│</span> <span style=\"font-weight: bold\">    Output: [</span>                                                                                                   <span style=\"color: #d4b702; text-decoration-color: #d4b702\">│</span>\n",
       "<span style=\"color: #d4b702; text-decoration-color: #d4b702\">│</span> <span style=\"font-weight: bold\">        {\"patient_id\": 5, \"medication_reference\": \"Tilidin 5mg bB\", \"medication_name\": \"Tilidin\", </span>              <span style=\"color: #d4b702; text-decoration-color: #d4b702\">│</span>\n",
       "<span style=\"color: #d4b702; text-decoration-color: #d4b702\">│</span> <span style=\"font-weight: bold\">\"medication_translated\": \"Tilidin (tilidine)\", \"active_ingredient\": \"tilidine\", \"dose\": 5, \"unit\": \"mg\", </span>       <span style=\"color: #d4b702; text-decoration-color: #d4b702\">│</span>\n",
       "<span style=\"color: #d4b702; text-decoration-color: #d4b702\">│</span> <span style=\"font-weight: bold\">\"dosage_morning\": 0, \"dosage_noon\": 0, \"dosage_evening\": 0, \"dosage_night\": 0, \"dosage_information\": \"as </span>       <span style=\"color: #d4b702; text-decoration-color: #d4b702\">│</span>\n",
       "<span style=\"color: #d4b702; text-decoration-color: #d4b702\">│</span> <span style=\"font-weight: bold\">needed\", \"rxcui\": \"\", \"atc_id\": \"\", \"atc_name\": \"\", \"atc_type\": \"\"}</span>                                             <span style=\"color: #d4b702; text-decoration-color: #d4b702\">│</span>\n",
       "<span style=\"color: #d4b702; text-decoration-color: #d4b702\">│</span> <span style=\"font-weight: bold\">    \\]</span>                                                                                                          <span style=\"color: #d4b702; text-decoration-color: #d4b702\">│</span>\n",
       "<span style=\"color: #d4b702; text-decoration-color: #d4b702\">│</span> <span style=\"font-weight: bold\">    Example 6:</span>                                                                                                  <span style=\"color: #d4b702; text-decoration-color: #d4b702\">│</span>\n",
       "<span style=\"color: #d4b702; text-decoration-color: #d4b702\">│</span> <span style=\"font-weight: bold\">    Input: \"Amlodipin 5mg\"</span>                                                                                      <span style=\"color: #d4b702; text-decoration-color: #d4b702\">│</span>\n",
       "<span style=\"color: #d4b702; text-decoration-color: #d4b702\">│</span> <span style=\"font-weight: bold\">    Output: [</span>                                                                                                   <span style=\"color: #d4b702; text-decoration-color: #d4b702\">│</span>\n",
       "<span style=\"color: #d4b702; text-decoration-color: #d4b702\">│</span> <span style=\"font-weight: bold\">        {\"patient_id\": 6, \"medication_reference\": \"Amlodipin 5mg\", \"medication_name\": \"Amlodipin\", </span>             <span style=\"color: #d4b702; text-decoration-color: #d4b702\">│</span>\n",
       "<span style=\"color: #d4b702; text-decoration-color: #d4b702\">│</span> <span style=\"font-weight: bold\">\"medication_translated\": \"Amlodipine (amlodipine)\", \"active_ingredient\": \"amlodipine\", \"dose\": 5, \"unit\": \"mg\",</span> <span style=\"color: #d4b702; text-decoration-color: #d4b702\">│</span>\n",
       "<span style=\"color: #d4b702; text-decoration-color: #d4b702\">│</span> <span style=\"font-weight: bold\">\"dosage_morning\": np.nan, \"dosage_noon\": np.nan, \"dosage_evening\": np.nan, \"dosage_night\": np.nan, </span>             <span style=\"color: #d4b702; text-decoration-color: #d4b702\">│</span>\n",
       "<span style=\"color: #d4b702; text-decoration-color: #d4b702\">│</span> <span style=\"font-weight: bold\">\"dosage_information\": \"schedule unkown\", \"rxcui\": \"\", \"atc_id\": \"\", \"atc_name\": \"\", \"atc_type\": \"\"}</span>             <span style=\"color: #d4b702; text-decoration-color: #d4b702\">│</span>\n",
       "<span style=\"color: #d4b702; text-decoration-color: #d4b702\">│</span> <span style=\"font-weight: bold\">    \\]</span>                                                                                                          <span style=\"color: #d4b702; text-decoration-color: #d4b702\">│</span>\n",
       "<span style=\"color: #d4b702; text-decoration-color: #d4b702\">│</span>                                                                                                                 <span style=\"color: #d4b702; text-decoration-color: #d4b702\">│</span>\n",
       "<span style=\"color: #d4b702; text-decoration-color: #d4b702\">│</span> <span style=\"font-weight: bold\">    Columns:</span>                                                                                                    <span style=\"color: #d4b702; text-decoration-color: #d4b702\">│</span>\n",
       "<span style=\"color: #d4b702; text-decoration-color: #d4b702\">│</span> <span style=\"font-weight: bold\">    - patient_id: The patient ID.</span>                                                                               <span style=\"color: #d4b702; text-decoration-color: #d4b702\">│</span>\n",
       "<span style=\"color: #d4b702; text-decoration-color: #d4b702\">│</span> <span style=\"font-weight: bold\">    - medication_reference: The medication name in the document.</span>                                                <span style=\"color: #d4b702; text-decoration-color: #d4b702\">│</span>\n",
       "<span style=\"color: #d4b702; text-decoration-color: #d4b702\">│</span> <span style=\"font-weight: bold\">    - medication_name: The name of the medication in the document without dose, unit or additional information.</span> <span style=\"color: #d4b702; text-decoration-color: #d4b702\">│</span>\n",
       "<span style=\"color: #d4b702; text-decoration-color: #d4b702\">│</span> <span style=\"font-weight: bold\">    - medication_translated: The corrected name of the medication, translated to english. Use the following </span>    <span style=\"color: #d4b702; text-decoration-color: #d4b702\">│</span>\n",
       "<span style=\"color: #d4b702; text-decoration-color: #d4b702\">│</span> <span style=\"font-weight: bold\">format \"Brand name or medication name (active ingredient)\". e.g. \"Aspirin (acetylsalicylic acid)\".</span>              <span style=\"color: #d4b702; text-decoration-color: #d4b702\">│</span>\n",
       "<span style=\"color: #d4b702; text-decoration-color: #d4b702\">│</span> <span style=\"font-weight: bold\">    - active_ingredient: The active ingredient of the medication. if not applicable, write an empty string.</span>     <span style=\"color: #d4b702; text-decoration-color: #d4b702\">│</span>\n",
       "<span style=\"color: #d4b702; text-decoration-color: #d4b702\">│</span> <span style=\"font-weight: bold\">    - dose: The dose of the medication. this sould only contain the numeric value.</span>                              <span style=\"color: #d4b702; text-decoration-color: #d4b702\">│</span>\n",
       "<span style=\"color: #d4b702; text-decoration-color: #d4b702\">│</span> <span style=\"font-weight: bold\">    - unit: The unit of the dose (e.g. ml, mg, ...). if not applicable, write an empty string.</span>                  <span style=\"color: #d4b702; text-decoration-color: #d4b702\">│</span>\n",
       "<span style=\"color: #d4b702; text-decoration-color: #d4b702\">│</span> <span style=\"font-weight: bold\">    - dosage_morning: The dose in the morning. if not applicable, write a 0.</span>                                    <span style=\"color: #d4b702; text-decoration-color: #d4b702\">│</span>\n",
       "<span style=\"color: #d4b702; text-decoration-color: #d4b702\">│</span> <span style=\"font-weight: bold\">    - dosage_noon: The dose in the noon. if not applicable, write a 0.</span>                                          <span style=\"color: #d4b702; text-decoration-color: #d4b702\">│</span>\n",
       "<span style=\"color: #d4b702; text-decoration-color: #d4b702\">│</span> <span style=\"font-weight: bold\">    - dosage_evening: The dose in the evening. if not applicable, write a 0.</span>                                    <span style=\"color: #d4b702; text-decoration-color: #d4b702\">│</span>\n",
       "<span style=\"color: #d4b702; text-decoration-color: #d4b702\">│</span> <span style=\"font-weight: bold\">    - dosage_night: The dose in the night. if not applicable, write a 0.</span>                                        <span style=\"color: #d4b702; text-decoration-color: #d4b702\">│</span>\n",
       "<span style=\"color: #d4b702; text-decoration-color: #d4b702\">│</span> <span style=\"font-weight: bold\">    - dosage_information: Additional information about the dosage. if not applicable, write an empty string.</span>    <span style=\"color: #d4b702; text-decoration-color: #d4b702\">│</span>\n",
       "<span style=\"color: #d4b702; text-decoration-color: #d4b702\">│</span> <span style=\"font-weight: bold\">    - rxcui: The RXCUI of the medication. if not applicable, write an empty string.</span>                             <span style=\"color: #d4b702; text-decoration-color: #d4b702\">│</span>\n",
       "<span style=\"color: #d4b702; text-decoration-color: #d4b702\">│</span> <span style=\"font-weight: bold\">    - atc_id: The ATC code of the medication. if not applicable, write an empty string.</span>                         <span style=\"color: #d4b702; text-decoration-color: #d4b702\">│</span>\n",
       "<span style=\"color: #d4b702; text-decoration-color: #d4b702\">│</span> <span style=\"font-weight: bold\">    - atc_name: The name of the ATC code. if not applicable, write an empty string.</span>                             <span style=\"color: #d4b702; text-decoration-color: #d4b702\">│</span>\n",
       "<span style=\"color: #d4b702; text-decoration-color: #d4b702\">│</span> <span style=\"font-weight: bold\">    - atc_type: The type of the ATC code. if not applicable, write an empty string.</span>                             <span style=\"color: #d4b702; text-decoration-color: #d4b702\">│</span>\n",
       "<span style=\"color: #d4b702; text-decoration-color: #d4b702\">│</span>                                                                                                                 <span style=\"color: #d4b702; text-decoration-color: #d4b702\">│</span>\n",
       "<span style=\"color: #d4b702; text-decoration-color: #d4b702\">│</span>                                                                                                                 <span style=\"color: #d4b702; text-decoration-color: #d4b702\">│</span>\n",
       "<span style=\"color: #d4b702; text-decoration-color: #d4b702\">│</span> <span style=\"font-weight: bold\">--------------------------------------------------------------------------------</span>                                <span style=\"color: #d4b702; text-decoration-color: #d4b702\">│</span>\n",
       "<span style=\"color: #d4b702; text-decoration-color: #d4b702\">│</span> <span style=\"font-weight: bold\">Data: </span>                                                                                                          <span style=\"color: #d4b702; text-decoration-color: #d4b702\">│</span>\n",
       "<span style=\"color: #d4b702; text-decoration-color: #d4b702\">│</span> <span style=\"font-weight: bold\">    Patient: 5</span>                                                                                                  <span style=\"color: #d4b702; text-decoration-color: #d4b702\">│</span>\n",
       "<span style=\"color: #d4b702; text-decoration-color: #d4b702\">│</span> <span style=\"font-weight: bold\">    \"Amlodipin 10mg   1-0-0</span>                                                                                     <span style=\"color: #d4b702; text-decoration-color: #d4b702\">│</span>\n",
       "<span style=\"color: #d4b702; text-decoration-color: #d4b702\">│</span> <span style=\"font-weight: bold\">    \\</span>                                                                                                           <span style=\"color: #d4b702; text-decoration-color: #d4b702\">│</span>\n",
       "<span style=\"color: #d4b702; text-decoration-color: #d4b702\">│</span> <span style=\"font-weight: bold\">    Bisoprolol 10mg   1-0-0</span>                                                                                     <span style=\"color: #d4b702; text-decoration-color: #d4b702\">│</span>\n",
       "<span style=\"color: #d4b702; text-decoration-color: #d4b702\">│</span> <span style=\"font-weight: bold\">    \\</span>                                                                                                           <span style=\"color: #d4b702; text-decoration-color: #d4b702\">│</span>\n",
       "<span style=\"color: #d4b702; text-decoration-color: #d4b702\">│</span> <span style=\"font-weight: bold\">    Lisinopril 30mg     1-0-0</span>                                                                                   <span style=\"color: #d4b702; text-decoration-color: #d4b702\">│</span>\n",
       "<span style=\"color: #d4b702; text-decoration-color: #d4b702\">│</span> <span style=\"font-weight: bold\">    \\</span>                                                                                                           <span style=\"color: #d4b702; text-decoration-color: #d4b702\">│</span>\n",
       "<span style=\"color: #d4b702; text-decoration-color: #d4b702\">│</span> <span style=\"font-weight: bold\">    Torasemid 10mg   1-0-0</span>                                                                                      <span style=\"color: #d4b702; text-decoration-color: #d4b702\">│</span>\n",
       "<span style=\"color: #d4b702; text-decoration-color: #d4b702\">│</span> <span style=\"font-weight: bold\">    \\</span>                                                                                                           <span style=\"color: #d4b702; text-decoration-color: #d4b702\">│</span>\n",
       "<span style=\"color: #d4b702; text-decoration-color: #d4b702\">│</span> <span style=\"font-weight: bold\">    Midazolam b.B.</span>                                                                                              <span style=\"color: #d4b702; text-decoration-color: #d4b702\">│</span>\n",
       "<span style=\"color: #d4b702; text-decoration-color: #d4b702\">│</span> <span style=\"font-weight: bold\">    \\</span>                                                                                                           <span style=\"color: #d4b702; text-decoration-color: #d4b702\">│</span>\n",
       "<span style=\"color: #d4b702; text-decoration-color: #d4b702\">│</span> <span style=\"font-weight: bold\">    Simvastatin 20mg  0-0-1</span>                                                                                     <span style=\"color: #d4b702; text-decoration-color: #d4b702\">│</span>\n",
       "<span style=\"color: #d4b702; text-decoration-color: #d4b702\">│</span> <span style=\"font-weight: bold\">    \\</span>                                                                                                           <span style=\"color: #d4b702; text-decoration-color: #d4b702\">│</span>\n",
       "<span style=\"color: #d4b702; text-decoration-color: #d4b702\">│</span> <span style=\"font-weight: bold\">    Ampicillin/Sulbactam 4,5g 1-1-1-1\"</span>                                                                          <span style=\"color: #d4b702; text-decoration-color: #d4b702\">│</span>\n",
       "<span style=\"color: #d4b702; text-decoration-color: #d4b702\">│</span>                                                                                                                 <span style=\"color: #d4b702; text-decoration-color: #d4b702\">│</span>\n",
       "<span style=\"color: #d4b702; text-decoration-color: #d4b702\">╰─ AzureOpenAIServerModel - gpt-4o ───────────────────────────────────────────────────────────────────────────────╯</span>\n",
       "</pre>\n"
      ],
      "text/plain": [
       "\u001b[38;2;212;183;2m╭─\u001b[0m\u001b[38;2;212;183;2m───────────────────────────────────────────────────\u001b[0m\u001b[38;2;212;183;2m \u001b[0m\u001b[1;38;2;212;183;2mNew run\u001b[0m\u001b[38;2;212;183;2m \u001b[0m\u001b[38;2;212;183;2m───────────────────────────────────────────────────\u001b[0m\u001b[38;2;212;183;2m─╮\u001b[0m\n",
       "\u001b[38;2;212;183;2m│\u001b[0m                                                                                                                 \u001b[38;2;212;183;2m│\u001b[0m\n",
       "\u001b[38;2;212;183;2m│\u001b[0m \u001b[1mTask name: medication\u001b[0m                                                                                           \u001b[38;2;212;183;2m│\u001b[0m\n",
       "\u001b[38;2;212;183;2m│\u001b[0m \u001b[1mPrompt: \u001b[0m                                                                                                        \u001b[38;2;212;183;2m│\u001b[0m\n",
       "\u001b[38;2;212;183;2m│\u001b[0m \u001b[1m    Given a list of medications, save all medications for the patient as csv. The medications can be in any \u001b[0m    \u001b[38;2;212;183;2m│\u001b[0m\n",
       "\u001b[38;2;212;183;2m│\u001b[0m \u001b[1mlanguage. The medications are usually in the format of a list of medications, with dosage and unit as well as \u001b[0m  \u001b[38;2;212;183;2m│\u001b[0m\n",
       "\u001b[38;2;212;183;2m│\u001b[0m \u001b[1mtheir dosage timings (e.g. 1-0-1-0 for moring and evening but not noon or night). Every medication should have \u001b[0m \u001b[38;2;212;183;2m│\u001b[0m\n",
       "\u001b[38;2;212;183;2m│\u001b[0m \u001b[1ma single row, if there are multiple medications that can be extracted from a single piece of text, e.g. a \u001b[0m      \u001b[38;2;212;183;2m│\u001b[0m\n",
       "\u001b[38;2;212;183;2m│\u001b[0m \u001b[1mcombined medication, split them up. These are the steps you should follow to complete the task:\u001b[0m                 \u001b[38;2;212;183;2m│\u001b[0m\n",
       "\u001b[38;2;212;183;2m│\u001b[0m                                                                                                                 \u001b[38;2;212;183;2m│\u001b[0m\n",
       "\u001b[38;2;212;183;2m│\u001b[0m \u001b[1m    To complete the task make the following steps:\u001b[0m                                                              \u001b[38;2;212;183;2m│\u001b[0m\n",
       "\u001b[38;2;212;183;2m│\u001b[0m \u001b[1m    1. Extract the medications from the text. The medication can be in any language. This is the \u001b[0m               \u001b[38;2;212;183;2m│\u001b[0m\n",
       "\u001b[38;2;212;183;2m│\u001b[0m \u001b[1mmedication_reference column.\u001b[0m                                                                                    \u001b[38;2;212;183;2m│\u001b[0m\n",
       "\u001b[38;2;212;183;2m│\u001b[0m \u001b[1m    2. If the medication name is not in english, translate it to english and infer the medication_translated \u001b[0m   \u001b[38;2;212;183;2m│\u001b[0m\n",
       "\u001b[38;2;212;183;2m│\u001b[0m \u001b[1mcolumn. Correct any misspellings in the process. Use the following format \"Brand name or medication name \u001b[0m       \u001b[38;2;212;183;2m│\u001b[0m\n",
       "\u001b[38;2;212;183;2m│\u001b[0m \u001b[1m(active ingredient)\". e.g. \"Aspirin (acetylsalicylic acid)\".\u001b[0m                                                    \u001b[38;2;212;183;2m│\u001b[0m\n",
       "\u001b[38;2;212;183;2m│\u001b[0m \u001b[1m    3. Extract the active ingredient of the medication and loose everything that is not relevant. This is the \u001b[0m  \u001b[38;2;212;183;2m│\u001b[0m\n",
       "\u001b[38;2;212;183;2m│\u001b[0m \u001b[1mactive_ingredient column.\u001b[0m                                                                                       \u001b[38;2;212;183;2m│\u001b[0m\n",
       "\u001b[38;2;212;183;2m│\u001b[0m \u001b[1m    4. Extract the dose of the medication. This should only contain the numeric value. This is the dose column.\u001b[0m \u001b[38;2;212;183;2m│\u001b[0m\n",
       "\u001b[38;2;212;183;2m│\u001b[0m \u001b[1m    5. Extract the unit of the dose (e.g. ml, mg, ...). If possible, use mg. If not applicable, write an empty \u001b[0m \u001b[38;2;212;183;2m│\u001b[0m\n",
       "\u001b[38;2;212;183;2m│\u001b[0m \u001b[1mstring. This is the unit column.\u001b[0m                                                                                \u001b[38;2;212;183;2m│\u001b[0m\n",
       "\u001b[38;2;212;183;2m│\u001b[0m \u001b[1m    6. Extract the dosage timings of the medication. This is the dosage_morning, dosage_noon, dosage_evening \u001b[0m   \u001b[38;2;212;183;2m│\u001b[0m\n",
       "\u001b[38;2;212;183;2m│\u001b[0m \u001b[1mand dosage_night columns. If you see that the patient is not taking a medication at a certain time point, write\u001b[0m \u001b[38;2;212;183;2m│\u001b[0m\n",
       "\u001b[38;2;212;183;2m│\u001b[0m \u001b[1ma 0. If you are unsure or missing the information, leave empty.\u001b[0m                                                 \u001b[38;2;212;183;2m│\u001b[0m\n",
       "\u001b[38;2;212;183;2m│\u001b[0m \u001b[1m    7. Extract the dosage information of the medication. This is the dosage_information column. You can write \u001b[0m  \u001b[38;2;212;183;2m│\u001b[0m\n",
       "\u001b[38;2;212;183;2m│\u001b[0m \u001b[1many further information here that does not fit the description before. If you see an indication that this might\u001b[0m \u001b[38;2;212;183;2m│\u001b[0m\n",
       "\u001b[38;2;212;183;2m│\u001b[0m \u001b[1mbe a medication that is taken \"as needed\" write \"as needed\" here. If you weren't able to infer a medication \u001b[0m    \u001b[38;2;212;183;2m│\u001b[0m\n",
       "\u001b[38;2;212;183;2m│\u001b[0m \u001b[1mschedule in the task before, write \"schedule unkown\". If not applicable, write an empty string.\u001b[0m                 \u001b[38;2;212;183;2m│\u001b[0m\n",
       "\u001b[38;2;212;183;2m│\u001b[0m \u001b[1m    8. get the RXCUI for all medications. Use the active ingredient of the medications. If there are multiple \u001b[0m  \u001b[38;2;212;183;2m│\u001b[0m\n",
       "\u001b[38;2;212;183;2m│\u001b[0m \u001b[1mRXCUI codes, choose the one that fits the best to the translated medication. Usually, the first candidate with \u001b[0m \u001b[38;2;212;183;2m│\u001b[0m\n",
       "\u001b[38;2;212;183;2m│\u001b[0m \u001b[1ma score of 1 is the best choice, but you can decide otherwise if you have reasonable grounds for another \u001b[0m       \u001b[38;2;212;183;2m│\u001b[0m\n",
       "\u001b[38;2;212;183;2m│\u001b[0m \u001b[1mdecision. If there are no codes, write an empty string.\u001b[0m                                                         \u001b[38;2;212;183;2m│\u001b[0m\n",
       "\u001b[38;2;212;183;2m│\u001b[0m \u001b[1m    9. get the ATC code for all medications. Use the rxcui of the medications.\u001b[0m                                  \u001b[38;2;212;183;2m│\u001b[0m\n",
       "\u001b[38;2;212;183;2m│\u001b[0m \u001b[1m    10. save the medication information as csv with the columns defined below.\u001b[0m                                  \u001b[38;2;212;183;2m│\u001b[0m\n",
       "\u001b[38;2;212;183;2m│\u001b[0m                                                                                                                 \u001b[38;2;212;183;2m│\u001b[0m\n",
       "\u001b[38;2;212;183;2m│\u001b[0m \u001b[1m    Example 1:\u001b[0m                                                                                                  \u001b[38;2;212;183;2m│\u001b[0m\n",
       "\u001b[38;2;212;183;2m│\u001b[0m \u001b[1m    Input: \"Aspirin 100mg 1-0-1-0\"\u001b[0m                                                                              \u001b[38;2;212;183;2m│\u001b[0m\n",
       "\u001b[38;2;212;183;2m│\u001b[0m \u001b[1m    Output: [\u001b[0m                                                                                                   \u001b[38;2;212;183;2m│\u001b[0m\n",
       "\u001b[38;2;212;183;2m│\u001b[0m \u001b[1m        {\"patient_id\": 1, \"medication_reference\": \"Aspirin 100mg\", \"medication_name\": \"Aspirin\", \u001b[0m               \u001b[38;2;212;183;2m│\u001b[0m\n",
       "\u001b[38;2;212;183;2m│\u001b[0m \u001b[1m\"medication_translated\": \"Aspirin (acetylsalicylic acid)\", \"active_ingredient\": \"acetylsalicylic acid\", \"dose\":\u001b[0m \u001b[38;2;212;183;2m│\u001b[0m\n",
       "\u001b[38;2;212;183;2m│\u001b[0m \u001b[1m100, \"unit\": \"mg\", \"dosage_morning\": 1, \"dosage_noon\": 0, \"dosage_evening\": 1, \"dosage_night\": 0, \u001b[0m              \u001b[38;2;212;183;2m│\u001b[0m\n",
       "\u001b[38;2;212;183;2m│\u001b[0m \u001b[1m\"dosage_information\": \"\", \"rxcui\": \"\", \"atc_id\": \"\", \"atc_name\": \"\", \"atc_type\": \"\"}\u001b[0m                            \u001b[38;2;212;183;2m│\u001b[0m\n",
       "\u001b[38;2;212;183;2m│\u001b[0m \u001b[1m    \\]\u001b[0m                                                                                                          \u001b[38;2;212;183;2m│\u001b[0m\n",
       "\u001b[38;2;212;183;2m│\u001b[0m \u001b[1m    Example 2:\u001b[0m                                                                                                  \u001b[38;2;212;183;2m│\u001b[0m\n",
       "\u001b[38;2;212;183;2m│\u001b[0m \u001b[1m    Input: \"Paracetamol 500mg 1-0-0-0\"\u001b[0m                                                                          \u001b[38;2;212;183;2m│\u001b[0m\n",
       "\u001b[38;2;212;183;2m│\u001b[0m \u001b[1m    Output: [\u001b[0m                                                                                                   \u001b[38;2;212;183;2m│\u001b[0m\n",
       "\u001b[38;2;212;183;2m│\u001b[0m \u001b[1m        {\"patient_id\": 2, \"medication_reference\": \"Paracetamol 500mg\", \"medication_name\": \"Paracetamol\", \u001b[0m       \u001b[38;2;212;183;2m│\u001b[0m\n",
       "\u001b[38;2;212;183;2m│\u001b[0m \u001b[1m\"medication_translated\": \"Paracetamol (acetaminophen)\", \"active_ingredient\": \"acetaminophen\", \"dose\": 500, \u001b[0m     \u001b[38;2;212;183;2m│\u001b[0m\n",
       "\u001b[38;2;212;183;2m│\u001b[0m \u001b[1m\"unit\": \"mg\", \"dosage_morning\": 1, \"dosage_noon\": 0, \"dosage_evening\": 0, \"dosage_night\": 0, \u001b[0m                   \u001b[38;2;212;183;2m│\u001b[0m\n",
       "\u001b[38;2;212;183;2m│\u001b[0m \u001b[1m\"dosage_information\": \"\", \"rxcui\": \"\", \"atc_id\": \"\", \"atc_name\": \"\", \"atc_type\": \"\"}\u001b[0m                            \u001b[38;2;212;183;2m│\u001b[0m\n",
       "\u001b[38;2;212;183;2m│\u001b[0m \u001b[1m    \\]\u001b[0m                                                                                                          \u001b[38;2;212;183;2m│\u001b[0m\n",
       "\u001b[38;2;212;183;2m│\u001b[0m \u001b[1m    Example 3:\u001b[0m                                                                                                  \u001b[38;2;212;183;2m│\u001b[0m\n",
       "\u001b[38;2;212;183;2m│\u001b[0m \u001b[1m    Input: \"Ibuprofen 400mg 1-1-0-0\"\u001b[0m                                                                            \u001b[38;2;212;183;2m│\u001b[0m\n",
       "\u001b[38;2;212;183;2m│\u001b[0m \u001b[1m    Output: [\u001b[0m                                                                                                   \u001b[38;2;212;183;2m│\u001b[0m\n",
       "\u001b[38;2;212;183;2m│\u001b[0m \u001b[1m        {\"patient_id\": 3, \"medication_reference\": \"Ibuprofen 400mg\", \"medication_name\": \"Ibuprofen\", \u001b[0m           \u001b[38;2;212;183;2m│\u001b[0m\n",
       "\u001b[38;2;212;183;2m│\u001b[0m \u001b[1m\"medication_translated\": \"Ibuprofen (ibuprofen)\", \"active_ingredient\": \"ibuprofen\", \"dose\": 400, \"unit\": \"mg\", \u001b[0m \u001b[38;2;212;183;2m│\u001b[0m\n",
       "\u001b[38;2;212;183;2m│\u001b[0m \u001b[1m\"dosage_morning\": 1, \"dosage_noon\": 1, \"dosage_evening\": 0, \"dosage_night\": 0, \"dosage_information\": \"\", \u001b[0m       \u001b[38;2;212;183;2m│\u001b[0m\n",
       "\u001b[38;2;212;183;2m│\u001b[0m \u001b[1m\"rxcui\": \"\", \"atc_id\": \"\", \"atc_name\": \"\", \"atc_type\": \"\"}\u001b[0m                                                      \u001b[38;2;212;183;2m│\u001b[0m\n",
       "\u001b[38;2;212;183;2m│\u001b[0m \u001b[1m    \\]\u001b[0m                                                                                                          \u001b[38;2;212;183;2m│\u001b[0m\n",
       "\u001b[38;2;212;183;2m│\u001b[0m \u001b[1m    Example 4:\u001b[0m                                                                                                  \u001b[38;2;212;183;2m│\u001b[0m\n",
       "\u001b[38;2;212;183;2m│\u001b[0m \u001b[1m    Input: \"Piperacillin/Tazobactam 1g/1g 1-0-1-0\"\u001b[0m                                                              \u001b[38;2;212;183;2m│\u001b[0m\n",
       "\u001b[38;2;212;183;2m│\u001b[0m \u001b[1m    Output: [\u001b[0m                                                                                                   \u001b[38;2;212;183;2m│\u001b[0m\n",
       "\u001b[38;2;212;183;2m│\u001b[0m \u001b[1m        {\"patient_id\": 4, \"medication_reference\": \"Piperacillin/Tazobactam 1g/1g\", \"medication_name\": \u001b[0m          \u001b[38;2;212;183;2m│\u001b[0m\n",
       "\u001b[38;2;212;183;2m│\u001b[0m \u001b[1m\"Piperacillin\", \"medication_translated\": \"Piperacillin (piperacillin)\", \"active_ingredient\": \"piperacillin\", \u001b[0m   \u001b[38;2;212;183;2m│\u001b[0m\n",
       "\u001b[38;2;212;183;2m│\u001b[0m \u001b[1m\"dose\": 1000, \"unit\": \"mg\", \"dosage_morning\": 1, \"dosage_noon\": 0, \"dosage_evening\": 1, \"dosage_night\": 0, \u001b[0m     \u001b[38;2;212;183;2m│\u001b[0m\n",
       "\u001b[38;2;212;183;2m│\u001b[0m \u001b[1m\"dosage_information\": \"\", \"rxcui\": \"\", \"atc_id\": \"\", \"atc_name\": \"\", \"atc_type\": \"\"},\u001b[0m                           \u001b[38;2;212;183;2m│\u001b[0m\n",
       "\u001b[38;2;212;183;2m│\u001b[0m \u001b[1m        {\"patient_id\": 4, \"medication_reference\": \"Piperacillin/Tazobactam 1g/1g\", \"medication_name\": \u001b[0m          \u001b[38;2;212;183;2m│\u001b[0m\n",
       "\u001b[38;2;212;183;2m│\u001b[0m \u001b[1m\"Tazobactam\", \"medication_translated\": \"Tazobactam (tazobactam)\", \"active_ingredient\": \"tazobactam\", \"dose\": \u001b[0m   \u001b[38;2;212;183;2m│\u001b[0m\n",
       "\u001b[38;2;212;183;2m│\u001b[0m \u001b[1m1000, \"unit\": \"mg\", \"dosage_morning\": 1, \"dosage_noon\": 0, \"dosage_evening\": 1, \"dosage_night\": 0, \u001b[0m             \u001b[38;2;212;183;2m│\u001b[0m\n",
       "\u001b[38;2;212;183;2m│\u001b[0m \u001b[1m\"dosage_information\": \"\", \"rxcui\": \"\", \"atc_id\": \"\", \"atc_name\": \"\", \"atc_type\": \"\"}\u001b[0m                            \u001b[38;2;212;183;2m│\u001b[0m\n",
       "\u001b[38;2;212;183;2m│\u001b[0m \u001b[1m    \\]\u001b[0m                                                                                                          \u001b[38;2;212;183;2m│\u001b[0m\n",
       "\u001b[38;2;212;183;2m│\u001b[0m \u001b[1m    Example 5:\u001b[0m                                                                                                  \u001b[38;2;212;183;2m│\u001b[0m\n",
       "\u001b[38;2;212;183;2m│\u001b[0m \u001b[1m    Input: \"Tilidin 5mg bB\"\u001b[0m                                                                                     \u001b[38;2;212;183;2m│\u001b[0m\n",
       "\u001b[38;2;212;183;2m│\u001b[0m \u001b[1m    Output: [\u001b[0m                                                                                                   \u001b[38;2;212;183;2m│\u001b[0m\n",
       "\u001b[38;2;212;183;2m│\u001b[0m \u001b[1m        {\"patient_id\": 5, \"medication_reference\": \"Tilidin 5mg bB\", \"medication_name\": \"Tilidin\", \u001b[0m              \u001b[38;2;212;183;2m│\u001b[0m\n",
       "\u001b[38;2;212;183;2m│\u001b[0m \u001b[1m\"medication_translated\": \"Tilidin (tilidine)\", \"active_ingredient\": \"tilidine\", \"dose\": 5, \"unit\": \"mg\", \u001b[0m       \u001b[38;2;212;183;2m│\u001b[0m\n",
       "\u001b[38;2;212;183;2m│\u001b[0m \u001b[1m\"dosage_morning\": 0, \"dosage_noon\": 0, \"dosage_evening\": 0, \"dosage_night\": 0, \"dosage_information\": \"as \u001b[0m       \u001b[38;2;212;183;2m│\u001b[0m\n",
       "\u001b[38;2;212;183;2m│\u001b[0m \u001b[1mneeded\", \"rxcui\": \"\", \"atc_id\": \"\", \"atc_name\": \"\", \"atc_type\": \"\"}\u001b[0m                                             \u001b[38;2;212;183;2m│\u001b[0m\n",
       "\u001b[38;2;212;183;2m│\u001b[0m \u001b[1m    \\]\u001b[0m                                                                                                          \u001b[38;2;212;183;2m│\u001b[0m\n",
       "\u001b[38;2;212;183;2m│\u001b[0m \u001b[1m    Example 6:\u001b[0m                                                                                                  \u001b[38;2;212;183;2m│\u001b[0m\n",
       "\u001b[38;2;212;183;2m│\u001b[0m \u001b[1m    Input: \"Amlodipin 5mg\"\u001b[0m                                                                                      \u001b[38;2;212;183;2m│\u001b[0m\n",
       "\u001b[38;2;212;183;2m│\u001b[0m \u001b[1m    Output: [\u001b[0m                                                                                                   \u001b[38;2;212;183;2m│\u001b[0m\n",
       "\u001b[38;2;212;183;2m│\u001b[0m \u001b[1m        {\"patient_id\": 6, \"medication_reference\": \"Amlodipin 5mg\", \"medication_name\": \"Amlodipin\", \u001b[0m             \u001b[38;2;212;183;2m│\u001b[0m\n",
       "\u001b[38;2;212;183;2m│\u001b[0m \u001b[1m\"medication_translated\": \"Amlodipine (amlodipine)\", \"active_ingredient\": \"amlodipine\", \"dose\": 5, \"unit\": \"mg\",\u001b[0m \u001b[38;2;212;183;2m│\u001b[0m\n",
       "\u001b[38;2;212;183;2m│\u001b[0m \u001b[1m\"dosage_morning\": np.nan, \"dosage_noon\": np.nan, \"dosage_evening\": np.nan, \"dosage_night\": np.nan, \u001b[0m             \u001b[38;2;212;183;2m│\u001b[0m\n",
       "\u001b[38;2;212;183;2m│\u001b[0m \u001b[1m\"dosage_information\": \"schedule unkown\", \"rxcui\": \"\", \"atc_id\": \"\", \"atc_name\": \"\", \"atc_type\": \"\"}\u001b[0m             \u001b[38;2;212;183;2m│\u001b[0m\n",
       "\u001b[38;2;212;183;2m│\u001b[0m \u001b[1m    \\]\u001b[0m                                                                                                          \u001b[38;2;212;183;2m│\u001b[0m\n",
       "\u001b[38;2;212;183;2m│\u001b[0m                                                                                                                 \u001b[38;2;212;183;2m│\u001b[0m\n",
       "\u001b[38;2;212;183;2m│\u001b[0m \u001b[1m    Columns:\u001b[0m                                                                                                    \u001b[38;2;212;183;2m│\u001b[0m\n",
       "\u001b[38;2;212;183;2m│\u001b[0m \u001b[1m    - patient_id: The patient ID.\u001b[0m                                                                               \u001b[38;2;212;183;2m│\u001b[0m\n",
       "\u001b[38;2;212;183;2m│\u001b[0m \u001b[1m    - medication_reference: The medication name in the document.\u001b[0m                                                \u001b[38;2;212;183;2m│\u001b[0m\n",
       "\u001b[38;2;212;183;2m│\u001b[0m \u001b[1m    - medication_name: The name of the medication in the document without dose, unit or additional information.\u001b[0m \u001b[38;2;212;183;2m│\u001b[0m\n",
       "\u001b[38;2;212;183;2m│\u001b[0m \u001b[1m    - medication_translated: The corrected name of the medication, translated to english. Use the following \u001b[0m    \u001b[38;2;212;183;2m│\u001b[0m\n",
       "\u001b[38;2;212;183;2m│\u001b[0m \u001b[1mformat \"Brand name or medication name (active ingredient)\". e.g. \"Aspirin (acetylsalicylic acid)\".\u001b[0m              \u001b[38;2;212;183;2m│\u001b[0m\n",
       "\u001b[38;2;212;183;2m│\u001b[0m \u001b[1m    - active_ingredient: The active ingredient of the medication. if not applicable, write an empty string.\u001b[0m     \u001b[38;2;212;183;2m│\u001b[0m\n",
       "\u001b[38;2;212;183;2m│\u001b[0m \u001b[1m    - dose: The dose of the medication. this sould only contain the numeric value.\u001b[0m                              \u001b[38;2;212;183;2m│\u001b[0m\n",
       "\u001b[38;2;212;183;2m│\u001b[0m \u001b[1m    - unit: The unit of the dose (e.g. ml, mg, ...). if not applicable, write an empty string.\u001b[0m                  \u001b[38;2;212;183;2m│\u001b[0m\n",
       "\u001b[38;2;212;183;2m│\u001b[0m \u001b[1m    - dosage_morning: The dose in the morning. if not applicable, write a 0.\u001b[0m                                    \u001b[38;2;212;183;2m│\u001b[0m\n",
       "\u001b[38;2;212;183;2m│\u001b[0m \u001b[1m    - dosage_noon: The dose in the noon. if not applicable, write a 0.\u001b[0m                                          \u001b[38;2;212;183;2m│\u001b[0m\n",
       "\u001b[38;2;212;183;2m│\u001b[0m \u001b[1m    - dosage_evening: The dose in the evening. if not applicable, write a 0.\u001b[0m                                    \u001b[38;2;212;183;2m│\u001b[0m\n",
       "\u001b[38;2;212;183;2m│\u001b[0m \u001b[1m    - dosage_night: The dose in the night. if not applicable, write a 0.\u001b[0m                                        \u001b[38;2;212;183;2m│\u001b[0m\n",
       "\u001b[38;2;212;183;2m│\u001b[0m \u001b[1m    - dosage_information: Additional information about the dosage. if not applicable, write an empty string.\u001b[0m    \u001b[38;2;212;183;2m│\u001b[0m\n",
       "\u001b[38;2;212;183;2m│\u001b[0m \u001b[1m    - rxcui: The RXCUI of the medication. if not applicable, write an empty string.\u001b[0m                             \u001b[38;2;212;183;2m│\u001b[0m\n",
       "\u001b[38;2;212;183;2m│\u001b[0m \u001b[1m    - atc_id: The ATC code of the medication. if not applicable, write an empty string.\u001b[0m                         \u001b[38;2;212;183;2m│\u001b[0m\n",
       "\u001b[38;2;212;183;2m│\u001b[0m \u001b[1m    - atc_name: The name of the ATC code. if not applicable, write an empty string.\u001b[0m                             \u001b[38;2;212;183;2m│\u001b[0m\n",
       "\u001b[38;2;212;183;2m│\u001b[0m \u001b[1m    - atc_type: The type of the ATC code. if not applicable, write an empty string.\u001b[0m                             \u001b[38;2;212;183;2m│\u001b[0m\n",
       "\u001b[38;2;212;183;2m│\u001b[0m                                                                                                                 \u001b[38;2;212;183;2m│\u001b[0m\n",
       "\u001b[38;2;212;183;2m│\u001b[0m                                                                                                                 \u001b[38;2;212;183;2m│\u001b[0m\n",
       "\u001b[38;2;212;183;2m│\u001b[0m \u001b[1m--------------------------------------------------------------------------------\u001b[0m                                \u001b[38;2;212;183;2m│\u001b[0m\n",
       "\u001b[38;2;212;183;2m│\u001b[0m \u001b[1mData: \u001b[0m                                                                                                          \u001b[38;2;212;183;2m│\u001b[0m\n",
       "\u001b[38;2;212;183;2m│\u001b[0m \u001b[1m    Patient: 5\u001b[0m                                                                                                  \u001b[38;2;212;183;2m│\u001b[0m\n",
       "\u001b[38;2;212;183;2m│\u001b[0m \u001b[1m    \"Amlodipin 10mg   1-0-0\u001b[0m                                                                                     \u001b[38;2;212;183;2m│\u001b[0m\n",
       "\u001b[38;2;212;183;2m│\u001b[0m \u001b[1m    \\\u001b[0m                                                                                                           \u001b[38;2;212;183;2m│\u001b[0m\n",
       "\u001b[38;2;212;183;2m│\u001b[0m \u001b[1m    Bisoprolol 10mg   1-0-0\u001b[0m                                                                                     \u001b[38;2;212;183;2m│\u001b[0m\n",
       "\u001b[38;2;212;183;2m│\u001b[0m \u001b[1m    \\\u001b[0m                                                                                                           \u001b[38;2;212;183;2m│\u001b[0m\n",
       "\u001b[38;2;212;183;2m│\u001b[0m \u001b[1m    Lisinopril 30mg     1-0-0\u001b[0m                                                                                   \u001b[38;2;212;183;2m│\u001b[0m\n",
       "\u001b[38;2;212;183;2m│\u001b[0m \u001b[1m    \\\u001b[0m                                                                                                           \u001b[38;2;212;183;2m│\u001b[0m\n",
       "\u001b[38;2;212;183;2m│\u001b[0m \u001b[1m    Torasemid 10mg   1-0-0\u001b[0m                                                                                      \u001b[38;2;212;183;2m│\u001b[0m\n",
       "\u001b[38;2;212;183;2m│\u001b[0m \u001b[1m    \\\u001b[0m                                                                                                           \u001b[38;2;212;183;2m│\u001b[0m\n",
       "\u001b[38;2;212;183;2m│\u001b[0m \u001b[1m    Midazolam b.B.\u001b[0m                                                                                              \u001b[38;2;212;183;2m│\u001b[0m\n",
       "\u001b[38;2;212;183;2m│\u001b[0m \u001b[1m    \\\u001b[0m                                                                                                           \u001b[38;2;212;183;2m│\u001b[0m\n",
       "\u001b[38;2;212;183;2m│\u001b[0m \u001b[1m    Simvastatin 20mg  0-0-1\u001b[0m                                                                                     \u001b[38;2;212;183;2m│\u001b[0m\n",
       "\u001b[38;2;212;183;2m│\u001b[0m \u001b[1m    \\\u001b[0m                                                                                                           \u001b[38;2;212;183;2m│\u001b[0m\n",
       "\u001b[38;2;212;183;2m│\u001b[0m \u001b[1m    Ampicillin/Sulbactam 4,5g 1-1-1-1\"\u001b[0m                                                                          \u001b[38;2;212;183;2m│\u001b[0m\n",
       "\u001b[38;2;212;183;2m│\u001b[0m                                                                                                                 \u001b[38;2;212;183;2m│\u001b[0m\n",
       "\u001b[38;2;212;183;2m╰─\u001b[0m\u001b[38;2;212;183;2m AzureOpenAIServerModel - gpt-4o \u001b[0m\u001b[38;2;212;183;2m──────────────────────────────────────────────────────────────────────────────\u001b[0m\u001b[38;2;212;183;2m─╯\u001b[0m\n"
      ]
     },
     "metadata": {},
     "output_type": "display_data"
    },
    {
     "data": {
      "text/html": [
       "<pre style=\"white-space:pre;overflow-x:auto;line-height:normal;font-family:Menlo,'DejaVu Sans Mono',consolas,'Courier New',monospace\"><span style=\"color: #d4b702; text-decoration-color: #d4b702\">━━━━━━━━━━━━━━━━━━━━━━━━━━━━━━━━━━━━━━━━━━━━━━━━━━━━━ </span><span style=\"font-weight: bold\">Step </span><span style=\"color: #008080; text-decoration-color: #008080; font-weight: bold\">1</span><span style=\"color: #d4b702; text-decoration-color: #d4b702\"> ━━━━━━━━━━━━━━━━━━━━━━━━━━━━━━━━━━━━━━━━━━━━━━━━━━━━━━</span>\n",
       "</pre>\n"
      ],
      "text/plain": [
       "\u001b[38;2;212;183;2m━━━━━━━━━━━━━━━━━━━━━━━━━━━━━━━━━━━━━━━━━━━━━━━━━━━━━ \u001b[0m\u001b[1mStep \u001b[0m\u001b[1;36m1\u001b[0m\u001b[38;2;212;183;2m ━━━━━━━━━━━━━━━━━━━━━━━━━━━━━━━━━━━━━━━━━━━━━━━━━━━━━━\u001b[0m\n"
      ]
     },
     "metadata": {},
     "output_type": "display_data"
    },
    {
     "data": {
      "text/html": [
       "<pre style=\"white-space:pre;overflow-x:auto;line-height:normal;font-family:Menlo,'DejaVu Sans Mono',consolas,'Courier New',monospace\">╭─────────────────────────────────────────────────────────────────────────────────────────────────────────────────╮\n",
       "│ Calling tool: 'extract_medication_data' with arguments: {'data': [{'patient_id': 5, 'medication_name':          │\n",
       "│ 'Amlodipin', 'medication_name_corrected': 'Amlodipine (amlodipine)', 'dose': 10, 'unit': 'mg',                  │\n",
       "│ 'dosage_morning': 1, 'dosage_noon': 0, 'dosage_evening': 0, 'dosage_night': 0, 'dosage_information': ''},       │\n",
       "│ {'patient_id': 5, 'medication_name': 'Bisoprolol', 'medication_name_corrected': 'Bisoprolol (bisoprolol)',      │\n",
       "│ 'dose': 10, 'unit': 'mg', 'dosage_morning': 1, 'dosage_noon': 0, 'dosage_evening': 0, 'dosage_night': 0,        │\n",
       "│ 'dosage_information': ''}, {'patient_id': 5, 'medication_name': 'Lisinopril', 'medication_name_corrected':      │\n",
       "│ 'Lisinopril (lisinopril)', 'dose': 30, 'unit': 'mg', 'dosage_morning': 1, 'dosage_noon': 0, 'dosage_evening':   │\n",
       "│ 0, 'dosage_night': 0, 'dosage_information': ''}, {'patient_id': 5, 'medication_name': 'Torasemid',              │\n",
       "│ 'medication_name_corrected': 'Torasemide (torasemide)', 'dose': 10, 'unit': 'mg', 'dosage_morning': 1,          │\n",
       "│ 'dosage_noon': 0, 'dosage_evening': 0, 'dosage_night': 0, 'dosage_information': ''}, {'patient_id': 5,          │\n",
       "│ 'medication_name': 'Midazolam', 'medication_name_corrected': 'Midazolam (midazolam)', 'dose': 0, 'unit': '',    │\n",
       "│ 'dosage_morning': 0, 'dosage_noon': 0, 'dosage_evening': 0, 'dosage_night': 0, 'dosage_information': 'as        │\n",
       "│ needed'}, {'patient_id': 5, 'medication_name': 'Simvastatin', 'medication_name_corrected': 'Simvastatin         │\n",
       "│ (simvastatin)', 'dose': 20, 'unit': 'mg', 'dosage_morning': 0, 'dosage_noon': 0, 'dosage_evening': 1,           │\n",
       "│ 'dosage_night': 0, 'dosage_information': ''}, {'patient_id': 5, 'medication_name': 'Ampicillin',                │\n",
       "│ 'medication_name_corrected': 'Ampicillin (ampicillin)', 'dose': 4500, 'unit': 'mg', 'dosage_morning': 1,        │\n",
       "│ 'dosage_noon': 1, 'dosage_evening': 1, 'dosage_night': 1, 'dosage_information': ''}, {'patient_id': 5,          │\n",
       "│ 'medication_name': 'Sulbactam', 'medication_name_corrected': 'Sulbactam (sulbactam)', 'dose': 4500, 'unit':     │\n",
       "│ 'mg', 'dosage_morning': 1, 'dosage_noon': 1, 'dosage_evening': 1, 'dosage_night': 1, 'dosage_information':      │\n",
       "│ ''}]}                                                                                                           │\n",
       "╰─────────────────────────────────────────────────────────────────────────────────────────────────────────────────╯\n",
       "</pre>\n"
      ],
      "text/plain": [
       "╭─────────────────────────────────────────────────────────────────────────────────────────────────────────────────╮\n",
       "│ Calling tool: 'extract_medication_data' with arguments: {'data': [{'patient_id': 5, 'medication_name':          │\n",
       "│ 'Amlodipin', 'medication_name_corrected': 'Amlodipine (amlodipine)', 'dose': 10, 'unit': 'mg',                  │\n",
       "│ 'dosage_morning': 1, 'dosage_noon': 0, 'dosage_evening': 0, 'dosage_night': 0, 'dosage_information': ''},       │\n",
       "│ {'patient_id': 5, 'medication_name': 'Bisoprolol', 'medication_name_corrected': 'Bisoprolol (bisoprolol)',      │\n",
       "│ 'dose': 10, 'unit': 'mg', 'dosage_morning': 1, 'dosage_noon': 0, 'dosage_evening': 0, 'dosage_night': 0,        │\n",
       "│ 'dosage_information': ''}, {'patient_id': 5, 'medication_name': 'Lisinopril', 'medication_name_corrected':      │\n",
       "│ 'Lisinopril (lisinopril)', 'dose': 30, 'unit': 'mg', 'dosage_morning': 1, 'dosage_noon': 0, 'dosage_evening':   │\n",
       "│ 0, 'dosage_night': 0, 'dosage_information': ''}, {'patient_id': 5, 'medication_name': 'Torasemid',              │\n",
       "│ 'medication_name_corrected': 'Torasemide (torasemide)', 'dose': 10, 'unit': 'mg', 'dosage_morning': 1,          │\n",
       "│ 'dosage_noon': 0, 'dosage_evening': 0, 'dosage_night': 0, 'dosage_information': ''}, {'patient_id': 5,          │\n",
       "│ 'medication_name': 'Midazolam', 'medication_name_corrected': 'Midazolam (midazolam)', 'dose': 0, 'unit': '',    │\n",
       "│ 'dosage_morning': 0, 'dosage_noon': 0, 'dosage_evening': 0, 'dosage_night': 0, 'dosage_information': 'as        │\n",
       "│ needed'}, {'patient_id': 5, 'medication_name': 'Simvastatin', 'medication_name_corrected': 'Simvastatin         │\n",
       "│ (simvastatin)', 'dose': 20, 'unit': 'mg', 'dosage_morning': 0, 'dosage_noon': 0, 'dosage_evening': 1,           │\n",
       "│ 'dosage_night': 0, 'dosage_information': ''}, {'patient_id': 5, 'medication_name': 'Ampicillin',                │\n",
       "│ 'medication_name_corrected': 'Ampicillin (ampicillin)', 'dose': 4500, 'unit': 'mg', 'dosage_morning': 1,        │\n",
       "│ 'dosage_noon': 1, 'dosage_evening': 1, 'dosage_night': 1, 'dosage_information': ''}, {'patient_id': 5,          │\n",
       "│ 'medication_name': 'Sulbactam', 'medication_name_corrected': 'Sulbactam (sulbactam)', 'dose': 4500, 'unit':     │\n",
       "│ 'mg', 'dosage_morning': 1, 'dosage_noon': 1, 'dosage_evening': 1, 'dosage_night': 1, 'dosage_information':      │\n",
       "│ ''}]}                                                                                                           │\n",
       "╰─────────────────────────────────────────────────────────────────────────────────────────────────────────────────╯\n"
      ]
     },
     "metadata": {},
     "output_type": "display_data"
    },
    {
     "data": {
      "text/html": [
       "<pre style=\"white-space:pre;overflow-x:auto;line-height:normal;font-family:Menlo,'DejaVu Sans Mono',consolas,'Courier New',monospace\">Observations: |<span style=\"font-weight: bold\">{</span><span style=\"color: #008000; text-decoration-color: #008000\">'patient_id'</span>: <span style=\"color: #008080; text-decoration-color: #008080; font-weight: bold\">5</span>, <span style=\"color: #008000; text-decoration-color: #008000\">'medication_name'</span>: <span style=\"color: #008000; text-decoration-color: #008000\">'Amlodipin'</span>, <span style=\"color: #008000; text-decoration-color: #008000\">'medication_name_corrected'</span>: <span style=\"color: #008000; text-decoration-color: #008000\">'Amlodipine </span>\n",
       "<span style=\"color: #008000; text-decoration-color: #008000\">(amlodipine)'</span>, <span style=\"color: #008000; text-decoration-color: #008000\">'dose'</span>: <span style=\"color: #008080; text-decoration-color: #008080; font-weight: bold\">10</span>, <span style=\"color: #008000; text-decoration-color: #008000\">'unit'</span>: <span style=\"color: #008000; text-decoration-color: #008000\">'mg'</span>, <span style=\"color: #008000; text-decoration-color: #008000\">'dosage_morning'</span>: <span style=\"color: #008080; text-decoration-color: #008080; font-weight: bold\">1</span>, <span style=\"color: #008000; text-decoration-color: #008000\">'dosage_noon'</span>: <span style=\"color: #008080; text-decoration-color: #008080; font-weight: bold\">0</span>, <span style=\"color: #008000; text-decoration-color: #008000\">'dosage_evening'</span>: <span style=\"color: #008080; text-decoration-color: #008080; font-weight: bold\">0</span>, \n",
       "<span style=\"color: #008000; text-decoration-color: #008000\">'dosage_night'</span>: <span style=\"color: #008080; text-decoration-color: #008080; font-weight: bold\">0</span>, <span style=\"color: #008000; text-decoration-color: #008000\">'dosage_information'</span>: <span style=\"color: #008000; text-decoration-color: #008000\">''</span><span style=\"font-weight: bold\">}</span>, <span style=\"font-weight: bold\">{</span><span style=\"color: #008000; text-decoration-color: #008000\">'patient_id'</span>: <span style=\"color: #008080; text-decoration-color: #008080; font-weight: bold\">5</span>, <span style=\"color: #008000; text-decoration-color: #008000\">'medication_name'</span>: <span style=\"color: #008000; text-decoration-color: #008000\">'Bisoprolol'</span>, \n",
       "<span style=\"color: #008000; text-decoration-color: #008000\">'medication_name_corrected'</span>: <span style=\"color: #008000; text-decoration-color: #008000\">'Bisoprolol (bisoprolol)'</span>, <span style=\"color: #008000; text-decoration-color: #008000\">'dose'</span>: <span style=\"color: #008080; text-decoration-color: #008080; font-weight: bold\">10</span>, <span style=\"color: #008000; text-decoration-color: #008000\">'unit'</span>: <span style=\"color: #008000; text-decoration-color: #008000\">'mg'</span>, <span style=\"color: #008000; text-decoration-color: #008000\">'dosage_morning'</span>: <span style=\"color: #008080; text-decoration-color: #008080; font-weight: bold\">1</span>, \n",
       "<span style=\"color: #008000; text-decoration-color: #008000\">'dosage_noon'</span>: <span style=\"color: #008080; text-decoration-color: #008080; font-weight: bold\">0</span>, <span style=\"color: #008000; text-decoration-color: #008000\">'dosage_evening'</span>: <span style=\"color: #008080; text-decoration-color: #008080; font-weight: bold\">0</span>, <span style=\"color: #008000; text-decoration-color: #008000\">'dosage_night'</span>: <span style=\"color: #008080; text-decoration-color: #008080; font-weight: bold\">0</span>, <span style=\"color: #008000; text-decoration-color: #008000\">'dosage_information'</span>: <span style=\"color: #008000; text-decoration-color: #008000\">''</span><span style=\"font-weight: bold\">}</span>, <span style=\"font-weight: bold\">{</span><span style=\"color: #008000; text-decoration-color: #008000\">'patient_id'</span>: <span style=\"color: #008080; text-decoration-color: #008080; font-weight: bold\">5</span>, \n",
       "<span style=\"color: #008000; text-decoration-color: #008000\">'medication_name'</span>: <span style=\"color: #008000; text-decoration-color: #008000\">'Lisinopril'</span>, <span style=\"color: #008000; text-decoration-color: #008000\">'medication_name_corrected'</span>: <span style=\"color: #008000; text-decoration-color: #008000\">'Lisinopril (lisinopril)'</span>, <span style=\"color: #008000; text-decoration-color: #008000\">'dose'</span>: <span style=\"color: #008080; text-decoration-color: #008080; font-weight: bold\">30</span>, <span style=\"color: #008000; text-decoration-color: #008000\">'unit'</span>: <span style=\"color: #008000; text-decoration-color: #008000\">'mg'</span>, \n",
       "<span style=\"color: #008000; text-decoration-color: #008000\">'dosage_morning'</span>: <span style=\"color: #008080; text-decoration-color: #008080; font-weight: bold\">1</span>, <span style=\"color: #008000; text-decoration-color: #008000\">'dosage_noon'</span>: <span style=\"color: #008080; text-decoration-color: #008080; font-weight: bold\">0</span>, <span style=\"color: #008000; text-decoration-color: #008000\">'dosage_evening'</span>: <span style=\"color: #008080; text-decoration-color: #008080; font-weight: bold\">0</span>, <span style=\"color: #008000; text-decoration-color: #008000\">'dosage_night'</span>: <span style=\"color: #008080; text-decoration-color: #008080; font-weight: bold\">0</span>, <span style=\"color: #008000; text-decoration-color: #008000\">'dosage_information'</span>: <span style=\"color: #008000; text-decoration-color: #008000\">''</span><span style=\"font-weight: bold\">}</span>, \n",
       "<span style=\"font-weight: bold\">{</span><span style=\"color: #008000; text-decoration-color: #008000\">'patient_id'</span>: <span style=\"color: #008080; text-decoration-color: #008080; font-weight: bold\">5</span>, <span style=\"color: #008000; text-decoration-color: #008000\">'medication_name'</span>: <span style=\"color: #008000; text-decoration-color: #008000\">'Torasemid'</span>, <span style=\"color: #008000; text-decoration-color: #008000\">'medication_name_corrected'</span>: <span style=\"color: #008000; text-decoration-color: #008000\">'Torasemide (torasemide)'</span>, <span style=\"color: #008000; text-decoration-color: #008000\">'dose'</span>: \n",
       "<span style=\"color: #008080; text-decoration-color: #008080; font-weight: bold\">10</span>, <span style=\"color: #008000; text-decoration-color: #008000\">'unit'</span>: <span style=\"color: #008000; text-decoration-color: #008000\">'mg'</span>, <span style=\"color: #008000; text-decoration-color: #008000\">'dosage_morning'</span>: <span style=\"color: #008080; text-decoration-color: #008080; font-weight: bold\">1</span>, <span style=\"color: #008000; text-decoration-color: #008000\">'dosage_noon'</span>: <span style=\"color: #008080; text-decoration-color: #008080; font-weight: bold\">0</span>, <span style=\"color: #008000; text-decoration-color: #008000\">'dosage_evening'</span>: <span style=\"color: #008080; text-decoration-color: #008080; font-weight: bold\">0</span>, <span style=\"color: #008000; text-decoration-color: #008000\">'dosage_night'</span>: <span style=\"color: #008080; text-decoration-color: #008080; font-weight: bold\">0</span>, \n",
       "<span style=\"color: #008000; text-decoration-color: #008000\">'dosage_information'</span>: <span style=\"color: #008000; text-decoration-color: #008000\">''</span><span style=\"font-weight: bold\">}</span>, <span style=\"font-weight: bold\">{</span><span style=\"color: #008000; text-decoration-color: #008000\">'patient_id'</span>: <span style=\"color: #008080; text-decoration-color: #008080; font-weight: bold\">5</span>, <span style=\"color: #008000; text-decoration-color: #008000\">'medication_name'</span>: <span style=\"color: #008000; text-decoration-color: #008000\">'Midazolam'</span>, <span style=\"color: #008000; text-decoration-color: #008000\">'medication_name_corrected'</span>: \n",
       "<span style=\"color: #008000; text-decoration-color: #008000\">'Midazolam (midazolam)'</span>, <span style=\"color: #008000; text-decoration-color: #008000\">'dose'</span>: <span style=\"color: #008080; text-decoration-color: #008080; font-weight: bold\">0</span>, <span style=\"color: #008000; text-decoration-color: #008000\">'unit'</span>: <span style=\"color: #008000; text-decoration-color: #008000\">''</span>, <span style=\"color: #008000; text-decoration-color: #008000\">'dosage_morning'</span>: <span style=\"color: #008080; text-decoration-color: #008080; font-weight: bold\">0</span>, <span style=\"color: #008000; text-decoration-color: #008000\">'dosage_noon'</span>: <span style=\"color: #008080; text-decoration-color: #008080; font-weight: bold\">0</span>, <span style=\"color: #008000; text-decoration-color: #008000\">'dosage_evening'</span>: <span style=\"color: #008080; text-decoration-color: #008080; font-weight: bold\">0</span>, \n",
       "<span style=\"color: #008000; text-decoration-color: #008000\">'dosage_night'</span>: <span style=\"color: #008080; text-decoration-color: #008080; font-weight: bold\">0</span>, <span style=\"color: #008000; text-decoration-color: #008000\">'dosage_information'</span>: <span style=\"color: #008000; text-decoration-color: #008000\">'as needed'</span><span style=\"font-weight: bold\">}</span>, <span style=\"font-weight: bold\">{</span><span style=\"color: #008000; text-decoration-color: #008000\">'patient_id'</span>: <span style=\"color: #008080; text-decoration-color: #008080; font-weight: bold\">5</span>, <span style=\"color: #008000; text-decoration-color: #008000\">'medication_name'</span>: <span style=\"color: #008000; text-decoration-color: #008000\">'Simvastatin'</span>, \n",
       "<span style=\"color: #008000; text-decoration-color: #008000\">'medication_name_corrected'</span>: <span style=\"color: #008000; text-decoration-color: #008000\">'Simvastatin (simvastatin)'</span>, <span style=\"color: #008000; text-decoration-color: #008000\">'dose'</span>: <span style=\"color: #008080; text-decoration-color: #008080; font-weight: bold\">20</span>, <span style=\"color: #008000; text-decoration-color: #008000\">'unit'</span>: <span style=\"color: #008000; text-decoration-color: #008000\">'mg'</span>, <span style=\"color: #008000; text-decoration-color: #008000\">'dosage_morning'</span>: <span style=\"color: #008080; text-decoration-color: #008080; font-weight: bold\">0</span>, \n",
       "<span style=\"color: #008000; text-decoration-color: #008000\">'dosage_noon'</span>: <span style=\"color: #008080; text-decoration-color: #008080; font-weight: bold\">0</span>, <span style=\"color: #008000; text-decoration-color: #008000\">'dosage_evening'</span>: <span style=\"color: #008080; text-decoration-color: #008080; font-weight: bold\">1</span>, <span style=\"color: #008000; text-decoration-color: #008000\">'dosage_night'</span>: <span style=\"color: #008080; text-decoration-color: #008080; font-weight: bold\">0</span>, <span style=\"color: #008000; text-decoration-color: #008000\">'dosage_information'</span>: <span style=\"color: #008000; text-decoration-color: #008000\">''</span><span style=\"font-weight: bold\">}</span>, <span style=\"font-weight: bold\">{</span><span style=\"color: #008000; text-decoration-color: #008000\">'patient_id'</span>: <span style=\"color: #008080; text-decoration-color: #008080; font-weight: bold\">5</span>, \n",
       "<span style=\"color: #008000; text-decoration-color: #008000\">'medication_name'</span>: <span style=\"color: #008000; text-decoration-color: #008000\">'Ampicillin'</span>, <span style=\"color: #008000; text-decoration-color: #008000\">'medication_name_corrected'</span>: <span style=\"color: #008000; text-decoration-color: #008000\">'Ampicillin (ampicillin)'</span>, <span style=\"color: #008000; text-decoration-color: #008000\">'dose'</span>: <span style=\"color: #008080; text-decoration-color: #008080; font-weight: bold\">4500</span>, <span style=\"color: #008000; text-decoration-color: #008000\">'unit'</span>: \n",
       "<span style=\"color: #008000; text-decoration-color: #008000\">'mg'</span>, <span style=\"color: #008000; text-decoration-color: #008000\">'dosage_morning'</span>: <span style=\"color: #008080; text-decoration-color: #008080; font-weight: bold\">1</span>, <span style=\"color: #008000; text-decoration-color: #008000\">'dosage_noon'</span>: <span style=\"color: #008080; text-decoration-color: #008080; font-weight: bold\">1</span>, <span style=\"color: #008000; text-decoration-color: #008000\">'dosage_evening'</span>: <span style=\"color: #008080; text-decoration-color: #008080; font-weight: bold\">1</span>, <span style=\"color: #008000; text-decoration-color: #008000\">'dosage_night'</span>: <span style=\"color: #008080; text-decoration-color: #008080; font-weight: bold\">1</span>, <span style=\"color: #008000; text-decoration-color: #008000\">'dosage_information'</span>: <span style=\"color: #008000; text-decoration-color: #008000\">''</span><span style=\"font-weight: bold\">}</span>, \n",
       "<span style=\"font-weight: bold\">{</span><span style=\"color: #008000; text-decoration-color: #008000\">'patient_id'</span>: <span style=\"color: #008080; text-decoration-color: #008080; font-weight: bold\">5</span>, <span style=\"color: #008000; text-decoration-color: #008000\">'medication_name'</span>: <span style=\"color: #008000; text-decoration-color: #008000\">'Sulbactam'</span>, <span style=\"color: #008000; text-decoration-color: #008000\">'medication_name_corrected'</span>: <span style=\"color: #008000; text-decoration-color: #008000\">'Sulbactam (sulbactam)'</span>, <span style=\"color: #008000; text-decoration-color: #008000\">'dose'</span>: \n",
       "<span style=\"color: #008080; text-decoration-color: #008080; font-weight: bold\">4500</span>, <span style=\"color: #008000; text-decoration-color: #008000\">'unit'</span>: <span style=\"color: #008000; text-decoration-color: #008000\">'mg'</span>, <span style=\"color: #008000; text-decoration-color: #008000\">'dosage_morning'</span>: <span style=\"color: #008080; text-decoration-color: #008080; font-weight: bold\">1</span>, <span style=\"color: #008000; text-decoration-color: #008000\">'dosage_noon'</span>: <span style=\"color: #008080; text-decoration-color: #008080; font-weight: bold\">1</span>, <span style=\"color: #008000; text-decoration-color: #008000\">'dosage_evening'</span>: <span style=\"color: #008080; text-decoration-color: #008080; font-weight: bold\">1</span>, <span style=\"color: #008000; text-decoration-color: #008000\">'dosage_night'</span>: <span style=\"color: #008080; text-decoration-color: #008080; font-weight: bold\">1</span>, \n",
       "<span style=\"color: #008000; text-decoration-color: #008000\">'dosage_information'</span>: <span style=\"color: #008000; text-decoration-color: #008000\">''</span><span style=\"font-weight: bold\">}]</span>\n",
       "</pre>\n"
      ],
      "text/plain": [
       "Observations: |\u001b[1m{\u001b[0m\u001b[32m'patient_id'\u001b[0m: \u001b[1;36m5\u001b[0m, \u001b[32m'medication_name'\u001b[0m: \u001b[32m'Amlodipin'\u001b[0m, \u001b[32m'medication_name_corrected'\u001b[0m: \u001b[32m'Amlodipine \u001b[0m\n",
       "\u001b[32m(\u001b[0m\u001b[32mamlodipine\u001b[0m\u001b[32m)\u001b[0m\u001b[32m'\u001b[0m, \u001b[32m'dose'\u001b[0m: \u001b[1;36m10\u001b[0m, \u001b[32m'unit'\u001b[0m: \u001b[32m'mg'\u001b[0m, \u001b[32m'dosage_morning'\u001b[0m: \u001b[1;36m1\u001b[0m, \u001b[32m'dosage_noon'\u001b[0m: \u001b[1;36m0\u001b[0m, \u001b[32m'dosage_evening'\u001b[0m: \u001b[1;36m0\u001b[0m, \n",
       "\u001b[32m'dosage_night'\u001b[0m: \u001b[1;36m0\u001b[0m, \u001b[32m'dosage_information'\u001b[0m: \u001b[32m''\u001b[0m\u001b[1m}\u001b[0m, \u001b[1m{\u001b[0m\u001b[32m'patient_id'\u001b[0m: \u001b[1;36m5\u001b[0m, \u001b[32m'medication_name'\u001b[0m: \u001b[32m'Bisoprolol'\u001b[0m, \n",
       "\u001b[32m'medication_name_corrected'\u001b[0m: \u001b[32m'Bisoprolol \u001b[0m\u001b[32m(\u001b[0m\u001b[32mbisoprolol\u001b[0m\u001b[32m)\u001b[0m\u001b[32m'\u001b[0m, \u001b[32m'dose'\u001b[0m: \u001b[1;36m10\u001b[0m, \u001b[32m'unit'\u001b[0m: \u001b[32m'mg'\u001b[0m, \u001b[32m'dosage_morning'\u001b[0m: \u001b[1;36m1\u001b[0m, \n",
       "\u001b[32m'dosage_noon'\u001b[0m: \u001b[1;36m0\u001b[0m, \u001b[32m'dosage_evening'\u001b[0m: \u001b[1;36m0\u001b[0m, \u001b[32m'dosage_night'\u001b[0m: \u001b[1;36m0\u001b[0m, \u001b[32m'dosage_information'\u001b[0m: \u001b[32m''\u001b[0m\u001b[1m}\u001b[0m, \u001b[1m{\u001b[0m\u001b[32m'patient_id'\u001b[0m: \u001b[1;36m5\u001b[0m, \n",
       "\u001b[32m'medication_name'\u001b[0m: \u001b[32m'Lisinopril'\u001b[0m, \u001b[32m'medication_name_corrected'\u001b[0m: \u001b[32m'Lisinopril \u001b[0m\u001b[32m(\u001b[0m\u001b[32mlisinopril\u001b[0m\u001b[32m)\u001b[0m\u001b[32m'\u001b[0m, \u001b[32m'dose'\u001b[0m: \u001b[1;36m30\u001b[0m, \u001b[32m'unit'\u001b[0m: \u001b[32m'mg'\u001b[0m, \n",
       "\u001b[32m'dosage_morning'\u001b[0m: \u001b[1;36m1\u001b[0m, \u001b[32m'dosage_noon'\u001b[0m: \u001b[1;36m0\u001b[0m, \u001b[32m'dosage_evening'\u001b[0m: \u001b[1;36m0\u001b[0m, \u001b[32m'dosage_night'\u001b[0m: \u001b[1;36m0\u001b[0m, \u001b[32m'dosage_information'\u001b[0m: \u001b[32m''\u001b[0m\u001b[1m}\u001b[0m, \n",
       "\u001b[1m{\u001b[0m\u001b[32m'patient_id'\u001b[0m: \u001b[1;36m5\u001b[0m, \u001b[32m'medication_name'\u001b[0m: \u001b[32m'Torasemid'\u001b[0m, \u001b[32m'medication_name_corrected'\u001b[0m: \u001b[32m'Torasemide \u001b[0m\u001b[32m(\u001b[0m\u001b[32mtorasemide\u001b[0m\u001b[32m)\u001b[0m\u001b[32m'\u001b[0m, \u001b[32m'dose'\u001b[0m: \n",
       "\u001b[1;36m10\u001b[0m, \u001b[32m'unit'\u001b[0m: \u001b[32m'mg'\u001b[0m, \u001b[32m'dosage_morning'\u001b[0m: \u001b[1;36m1\u001b[0m, \u001b[32m'dosage_noon'\u001b[0m: \u001b[1;36m0\u001b[0m, \u001b[32m'dosage_evening'\u001b[0m: \u001b[1;36m0\u001b[0m, \u001b[32m'dosage_night'\u001b[0m: \u001b[1;36m0\u001b[0m, \n",
       "\u001b[32m'dosage_information'\u001b[0m: \u001b[32m''\u001b[0m\u001b[1m}\u001b[0m, \u001b[1m{\u001b[0m\u001b[32m'patient_id'\u001b[0m: \u001b[1;36m5\u001b[0m, \u001b[32m'medication_name'\u001b[0m: \u001b[32m'Midazolam'\u001b[0m, \u001b[32m'medication_name_corrected'\u001b[0m: \n",
       "\u001b[32m'Midazolam \u001b[0m\u001b[32m(\u001b[0m\u001b[32mmidazolam\u001b[0m\u001b[32m)\u001b[0m\u001b[32m'\u001b[0m, \u001b[32m'dose'\u001b[0m: \u001b[1;36m0\u001b[0m, \u001b[32m'unit'\u001b[0m: \u001b[32m''\u001b[0m, \u001b[32m'dosage_morning'\u001b[0m: \u001b[1;36m0\u001b[0m, \u001b[32m'dosage_noon'\u001b[0m: \u001b[1;36m0\u001b[0m, \u001b[32m'dosage_evening'\u001b[0m: \u001b[1;36m0\u001b[0m, \n",
       "\u001b[32m'dosage_night'\u001b[0m: \u001b[1;36m0\u001b[0m, \u001b[32m'dosage_information'\u001b[0m: \u001b[32m'as needed'\u001b[0m\u001b[1m}\u001b[0m, \u001b[1m{\u001b[0m\u001b[32m'patient_id'\u001b[0m: \u001b[1;36m5\u001b[0m, \u001b[32m'medication_name'\u001b[0m: \u001b[32m'Simvastatin'\u001b[0m, \n",
       "\u001b[32m'medication_name_corrected'\u001b[0m: \u001b[32m'Simvastatin \u001b[0m\u001b[32m(\u001b[0m\u001b[32msimvastatin\u001b[0m\u001b[32m)\u001b[0m\u001b[32m'\u001b[0m, \u001b[32m'dose'\u001b[0m: \u001b[1;36m20\u001b[0m, \u001b[32m'unit'\u001b[0m: \u001b[32m'mg'\u001b[0m, \u001b[32m'dosage_morning'\u001b[0m: \u001b[1;36m0\u001b[0m, \n",
       "\u001b[32m'dosage_noon'\u001b[0m: \u001b[1;36m0\u001b[0m, \u001b[32m'dosage_evening'\u001b[0m: \u001b[1;36m1\u001b[0m, \u001b[32m'dosage_night'\u001b[0m: \u001b[1;36m0\u001b[0m, \u001b[32m'dosage_information'\u001b[0m: \u001b[32m''\u001b[0m\u001b[1m}\u001b[0m, \u001b[1m{\u001b[0m\u001b[32m'patient_id'\u001b[0m: \u001b[1;36m5\u001b[0m, \n",
       "\u001b[32m'medication_name'\u001b[0m: \u001b[32m'Ampicillin'\u001b[0m, \u001b[32m'medication_name_corrected'\u001b[0m: \u001b[32m'Ampicillin \u001b[0m\u001b[32m(\u001b[0m\u001b[32mampicillin\u001b[0m\u001b[32m)\u001b[0m\u001b[32m'\u001b[0m, \u001b[32m'dose'\u001b[0m: \u001b[1;36m4500\u001b[0m, \u001b[32m'unit'\u001b[0m: \n",
       "\u001b[32m'mg'\u001b[0m, \u001b[32m'dosage_morning'\u001b[0m: \u001b[1;36m1\u001b[0m, \u001b[32m'dosage_noon'\u001b[0m: \u001b[1;36m1\u001b[0m, \u001b[32m'dosage_evening'\u001b[0m: \u001b[1;36m1\u001b[0m, \u001b[32m'dosage_night'\u001b[0m: \u001b[1;36m1\u001b[0m, \u001b[32m'dosage_information'\u001b[0m: \u001b[32m''\u001b[0m\u001b[1m}\u001b[0m, \n",
       "\u001b[1m{\u001b[0m\u001b[32m'patient_id'\u001b[0m: \u001b[1;36m5\u001b[0m, \u001b[32m'medication_name'\u001b[0m: \u001b[32m'Sulbactam'\u001b[0m, \u001b[32m'medication_name_corrected'\u001b[0m: \u001b[32m'Sulbactam \u001b[0m\u001b[32m(\u001b[0m\u001b[32msulbactam\u001b[0m\u001b[32m)\u001b[0m\u001b[32m'\u001b[0m, \u001b[32m'dose'\u001b[0m: \n",
       "\u001b[1;36m4500\u001b[0m, \u001b[32m'unit'\u001b[0m: \u001b[32m'mg'\u001b[0m, \u001b[32m'dosage_morning'\u001b[0m: \u001b[1;36m1\u001b[0m, \u001b[32m'dosage_noon'\u001b[0m: \u001b[1;36m1\u001b[0m, \u001b[32m'dosage_evening'\u001b[0m: \u001b[1;36m1\u001b[0m, \u001b[32m'dosage_night'\u001b[0m: \u001b[1;36m1\u001b[0m, \n",
       "\u001b[32m'dosage_information'\u001b[0m: \u001b[32m''\u001b[0m\u001b[1m}\u001b[0m\u001b[1m]\u001b[0m\n"
      ]
     },
     "metadata": {},
     "output_type": "display_data"
    },
    {
     "data": {
      "text/html": [
       "<pre style=\"white-space:pre;overflow-x:auto;line-height:normal;font-family:Menlo,'DejaVu Sans Mono',consolas,'Courier New',monospace\"><span style=\"color: #7f7f7f; text-decoration-color: #7f7f7f\">[Step 1: Duration 7.32 seconds| Input tokens: 3,713 | Output tokens: 592]</span>\n",
       "</pre>\n"
      ],
      "text/plain": [
       "\u001b[2m[Step 1: Duration 7.32 seconds| Input tokens: 3,713 | Output tokens: 592]\u001b[0m\n"
      ]
     },
     "metadata": {},
     "output_type": "display_data"
    },
    {
     "data": {
      "text/html": [
       "<pre style=\"white-space:pre;overflow-x:auto;line-height:normal;font-family:Menlo,'DejaVu Sans Mono',consolas,'Courier New',monospace\"><span style=\"color: #d4b702; text-decoration-color: #d4b702\">━━━━━━━━━━━━━━━━━━━━━━━━━━━━━━━━━━━━━━━━━━━━━━━━━━━━━ </span><span style=\"font-weight: bold\">Step </span><span style=\"color: #008080; text-decoration-color: #008080; font-weight: bold\">2</span><span style=\"color: #d4b702; text-decoration-color: #d4b702\"> ━━━━━━━━━━━━━━━━━━━━━━━━━━━━━━━━━━━━━━━━━━━━━━━━━━━━━━</span>\n",
       "</pre>\n"
      ],
      "text/plain": [
       "\u001b[38;2;212;183;2m━━━━━━━━━━━━━━━━━━━━━━━━━━━━━━━━━━━━━━━━━━━━━━━━━━━━━ \u001b[0m\u001b[1mStep \u001b[0m\u001b[1;36m2\u001b[0m\u001b[38;2;212;183;2m ━━━━━━━━━━━━━━━━━━━━━━━━━━━━━━━━━━━━━━━━━━━━━━━━━━━━━━\u001b[0m\n"
      ]
     },
     "metadata": {},
     "output_type": "display_data"
    },
    {
     "data": {
      "text/html": [
       "<pre style=\"white-space:pre;overflow-x:auto;line-height:normal;font-family:Menlo,'DejaVu Sans Mono',consolas,'Courier New',monospace\">╭─────────────────────────────────────────────────────────────────────────────────────────────────────────────────╮\n",
       "│ Calling tool: 'get_rxcui' with arguments: {'medication_names': ['Amlodipine (amlodipine)', 'Bisoprolol          │\n",
       "│ (bisoprolol)', 'Lisinopril (lisinopril)', 'Torasemide (torasemide)', 'Midazolam (midazolam)', 'Simvastatin      │\n",
       "│ (simvastatin)', 'Ampicillin (ampicillin)', 'Sulbactam (sulbactam)']}                                            │\n",
       "╰─────────────────────────────────────────────────────────────────────────────────────────────────────────────────╯\n",
       "</pre>\n"
      ],
      "text/plain": [
       "╭─────────────────────────────────────────────────────────────────────────────────────────────────────────────────╮\n",
       "│ Calling tool: 'get_rxcui' with arguments: {'medication_names': ['Amlodipine (amlodipine)', 'Bisoprolol          │\n",
       "│ (bisoprolol)', 'Lisinopril (lisinopril)', 'Torasemide (torasemide)', 'Midazolam (midazolam)', 'Simvastatin      │\n",
       "│ (simvastatin)', 'Ampicillin (ampicillin)', 'Sulbactam (sulbactam)']}                                            │\n",
       "╰─────────────────────────────────────────────────────────────────────────────────────────────────────────────────╯\n"
      ]
     },
     "metadata": {},
     "output_type": "display_data"
    },
    {
     "data": {
      "text/html": [
       "<pre style=\"white-space:pre;overflow-x:auto;line-height:normal;font-family:Menlo,'DejaVu Sans Mono',consolas,'Courier New',monospace\">Observations: <span style=\"font-weight: bold\">{</span><span style=\"color: #008000; text-decoration-color: #008000\">'Amlodipine (amlodipine)'</span>: <span style=\"font-weight: bold\">{</span><span style=\"color: #008000; text-decoration-color: #008000\">'17767'</span>: |<span style=\"color: #008000; text-decoration-color: #008000\">'GS'</span>, <span style=\"color: #008000; text-decoration-color: #008000\">'RXNORM'</span>, <span style=\"color: #008000; text-decoration-color: #008000\">'VANDF'</span>, <span style=\"color: #008000; text-decoration-color: #008000\">'MMSL'</span>, <span style=\"color: #008000; text-decoration-color: #008000\">'NDDF'</span>, <span style=\"color: #008000; text-decoration-color: #008000\">'ATC'</span>, <span style=\"color: #008000; text-decoration-color: #008000\">'MMSL'</span>, \n",
       "<span style=\"color: #008000; text-decoration-color: #008000\">'DRUGBANK'</span><span style=\"font-weight: bold\">]}</span>, <span style=\"color: #008000; text-decoration-color: #008000\">'Bisoprolol (bisoprolol)'</span>: <span style=\"font-weight: bold\">{</span><span style=\"color: #008000; text-decoration-color: #008000\">'19484'</span>: |<span style=\"color: #008000; text-decoration-color: #008000\">'GS'</span>, <span style=\"color: #008000; text-decoration-color: #008000\">'RXNORM'</span>, <span style=\"color: #008000; text-decoration-color: #008000\">'VANDF'</span>, <span style=\"color: #008000; text-decoration-color: #008000\">'NDDF'</span>, <span style=\"color: #008000; text-decoration-color: #008000\">'ATC'</span>, <span style=\"color: #008000; text-decoration-color: #008000\">'DRUGBANK'</span><span style=\"font-weight: bold\">]}</span>, \n",
       "<span style=\"color: #008000; text-decoration-color: #008000\">'Lisinopril (lisinopril)'</span>: <span style=\"font-weight: bold\">{</span><span style=\"color: #008000; text-decoration-color: #008000\">'29046'</span>: |<span style=\"color: #008000; text-decoration-color: #008000\">'USP'</span>, <span style=\"color: #008000; text-decoration-color: #008000\">'GS'</span>, <span style=\"color: #008000; text-decoration-color: #008000\">'RXNORM'</span>, <span style=\"color: #008000; text-decoration-color: #008000\">'VANDF'</span>, <span style=\"color: #008000; text-decoration-color: #008000\">'NDDF'</span>, <span style=\"color: #008000; text-decoration-color: #008000\">'MMSL'</span>, <span style=\"color: #008000; text-decoration-color: #008000\">'MMSL'</span>, <span style=\"color: #008000; text-decoration-color: #008000\">'ATC'</span>, <span style=\"color: #008000; text-decoration-color: #008000\">'DRUGBANK'</span><span style=\"font-weight: bold\">]}</span>, \n",
       "<span style=\"color: #008000; text-decoration-color: #008000\">'Torasemide (torasemide)'</span>: <span style=\"font-weight: bold\">{</span><span style=\"color: #008000; text-decoration-color: #008000\">'38413'</span>: |<span style=\"color: #008000; text-decoration-color: #008000\">'ATC'</span>, <span style=\"color: #008000; text-decoration-color: #008000\">'DRUGBANK'</span><span style=\"font-weight: bold\">]}</span>, <span style=\"color: #008000; text-decoration-color: #008000\">'Midazolam (midazolam)'</span>: <span style=\"font-weight: bold\">{</span><span style=\"color: #008000; text-decoration-color: #008000\">'6960'</span>: |<span style=\"color: #008000; text-decoration-color: #008000\">'USP'</span>, <span style=\"color: #008000; text-decoration-color: #008000\">'GS'</span>, \n",
       "<span style=\"color: #008000; text-decoration-color: #008000\">'RXNORM'</span>, <span style=\"color: #008000; text-decoration-color: #008000\">'VANDF'</span>, <span style=\"color: #008000; text-decoration-color: #008000\">'MMSL'</span>, <span style=\"color: #008000; text-decoration-color: #008000\">'MMSL'</span>, <span style=\"color: #008000; text-decoration-color: #008000\">'NDDF'</span>, <span style=\"color: #008000; text-decoration-color: #008000\">'ATC'</span>, <span style=\"color: #008000; text-decoration-color: #008000\">'DRUGBANK'</span><span style=\"font-weight: bold\">]}</span>, <span style=\"color: #008000; text-decoration-color: #008000\">'Simvastatin (simvastatin)'</span>: <span style=\"font-weight: bold\">{</span><span style=\"color: #008000; text-decoration-color: #008000\">'36567'</span>: |<span style=\"color: #008000; text-decoration-color: #008000\">'USP'</span>, \n",
       "<span style=\"color: #008000; text-decoration-color: #008000\">'GS'</span>, <span style=\"color: #008000; text-decoration-color: #008000\">'RXNORM'</span>, <span style=\"color: #008000; text-decoration-color: #008000\">'VANDF'</span>, <span style=\"color: #008000; text-decoration-color: #008000\">'MMSL'</span>, <span style=\"color: #008000; text-decoration-color: #008000\">'NDDF'</span>, <span style=\"color: #008000; text-decoration-color: #008000\">'MMSL'</span>, <span style=\"color: #008000; text-decoration-color: #008000\">'ATC'</span>, <span style=\"color: #008000; text-decoration-color: #008000\">'DRUGBANK'</span><span style=\"font-weight: bold\">]}</span>, <span style=\"color: #008000; text-decoration-color: #008000\">'Ampicillin (ampicillin)'</span>: <span style=\"font-weight: bold\">{</span><span style=\"color: #008000; text-decoration-color: #008000\">'733'</span>: |<span style=\"color: #008000; text-decoration-color: #008000\">'USP'</span>, \n",
       "<span style=\"color: #008000; text-decoration-color: #008000\">'GS'</span>, <span style=\"color: #008000; text-decoration-color: #008000\">'RXNORM'</span>, <span style=\"color: #008000; text-decoration-color: #008000\">'VANDF'</span>, <span style=\"color: #008000; text-decoration-color: #008000\">'MMSL'</span>, <span style=\"color: #008000; text-decoration-color: #008000\">'NDDF'</span>, <span style=\"color: #008000; text-decoration-color: #008000\">'ATC'</span>, <span style=\"color: #008000; text-decoration-color: #008000\">'ATC'</span>, <span style=\"color: #008000; text-decoration-color: #008000\">'DRUGBANK'</span><span style=\"font-weight: bold\">]}</span>, <span style=\"color: #008000; text-decoration-color: #008000\">'Sulbactam (sulbactam)'</span>: <span style=\"font-weight: bold\">{</span><span style=\"color: #008000; text-decoration-color: #008000\">'10167'</span>: |<span style=\"color: #008000; text-decoration-color: #008000\">'GS'</span>, \n",
       "<span style=\"color: #008000; text-decoration-color: #008000\">'RXNORM'</span>, <span style=\"color: #008000; text-decoration-color: #008000\">'VANDF'</span>, <span style=\"color: #008000; text-decoration-color: #008000\">'ATC'</span>, <span style=\"color: #008000; text-decoration-color: #008000\">'NDDF'</span>, <span style=\"color: #008000; text-decoration-color: #008000\">'DRUGBANK'</span><span style=\"font-weight: bold\">]}}</span>\n",
       "</pre>\n"
      ],
      "text/plain": [
       "Observations: \u001b[1m{\u001b[0m\u001b[32m'Amlodipine \u001b[0m\u001b[32m(\u001b[0m\u001b[32mamlodipine\u001b[0m\u001b[32m)\u001b[0m\u001b[32m'\u001b[0m: \u001b[1m{\u001b[0m\u001b[32m'17767'\u001b[0m: |\u001b[32m'GS'\u001b[0m, \u001b[32m'RXNORM'\u001b[0m, \u001b[32m'VANDF'\u001b[0m, \u001b[32m'MMSL'\u001b[0m, \u001b[32m'NDDF'\u001b[0m, \u001b[32m'ATC'\u001b[0m, \u001b[32m'MMSL'\u001b[0m, \n",
       "\u001b[32m'DRUGBANK'\u001b[0m\u001b[1m]\u001b[0m\u001b[1m}\u001b[0m, \u001b[32m'Bisoprolol \u001b[0m\u001b[32m(\u001b[0m\u001b[32mbisoprolol\u001b[0m\u001b[32m)\u001b[0m\u001b[32m'\u001b[0m: \u001b[1m{\u001b[0m\u001b[32m'19484'\u001b[0m: |\u001b[32m'GS'\u001b[0m, \u001b[32m'RXNORM'\u001b[0m, \u001b[32m'VANDF'\u001b[0m, \u001b[32m'NDDF'\u001b[0m, \u001b[32m'ATC'\u001b[0m, \u001b[32m'DRUGBANK'\u001b[0m\u001b[1m]\u001b[0m\u001b[1m}\u001b[0m, \n",
       "\u001b[32m'Lisinopril \u001b[0m\u001b[32m(\u001b[0m\u001b[32mlisinopril\u001b[0m\u001b[32m)\u001b[0m\u001b[32m'\u001b[0m: \u001b[1m{\u001b[0m\u001b[32m'29046'\u001b[0m: |\u001b[32m'USP'\u001b[0m, \u001b[32m'GS'\u001b[0m, \u001b[32m'RXNORM'\u001b[0m, \u001b[32m'VANDF'\u001b[0m, \u001b[32m'NDDF'\u001b[0m, \u001b[32m'MMSL'\u001b[0m, \u001b[32m'MMSL'\u001b[0m, \u001b[32m'ATC'\u001b[0m, \u001b[32m'DRUGBANK'\u001b[0m\u001b[1m]\u001b[0m\u001b[1m}\u001b[0m, \n",
       "\u001b[32m'Torasemide \u001b[0m\u001b[32m(\u001b[0m\u001b[32mtorasemide\u001b[0m\u001b[32m)\u001b[0m\u001b[32m'\u001b[0m: \u001b[1m{\u001b[0m\u001b[32m'38413'\u001b[0m: |\u001b[32m'ATC'\u001b[0m, \u001b[32m'DRUGBANK'\u001b[0m\u001b[1m]\u001b[0m\u001b[1m}\u001b[0m, \u001b[32m'Midazolam \u001b[0m\u001b[32m(\u001b[0m\u001b[32mmidazolam\u001b[0m\u001b[32m)\u001b[0m\u001b[32m'\u001b[0m: \u001b[1m{\u001b[0m\u001b[32m'6960'\u001b[0m: |\u001b[32m'USP'\u001b[0m, \u001b[32m'GS'\u001b[0m, \n",
       "\u001b[32m'RXNORM'\u001b[0m, \u001b[32m'VANDF'\u001b[0m, \u001b[32m'MMSL'\u001b[0m, \u001b[32m'MMSL'\u001b[0m, \u001b[32m'NDDF'\u001b[0m, \u001b[32m'ATC'\u001b[0m, \u001b[32m'DRUGBANK'\u001b[0m\u001b[1m]\u001b[0m\u001b[1m}\u001b[0m, \u001b[32m'Simvastatin \u001b[0m\u001b[32m(\u001b[0m\u001b[32msimvastatin\u001b[0m\u001b[32m)\u001b[0m\u001b[32m'\u001b[0m: \u001b[1m{\u001b[0m\u001b[32m'36567'\u001b[0m: |\u001b[32m'USP'\u001b[0m, \n",
       "\u001b[32m'GS'\u001b[0m, \u001b[32m'RXNORM'\u001b[0m, \u001b[32m'VANDF'\u001b[0m, \u001b[32m'MMSL'\u001b[0m, \u001b[32m'NDDF'\u001b[0m, \u001b[32m'MMSL'\u001b[0m, \u001b[32m'ATC'\u001b[0m, \u001b[32m'DRUGBANK'\u001b[0m\u001b[1m]\u001b[0m\u001b[1m}\u001b[0m, \u001b[32m'Ampicillin \u001b[0m\u001b[32m(\u001b[0m\u001b[32mampicillin\u001b[0m\u001b[32m)\u001b[0m\u001b[32m'\u001b[0m: \u001b[1m{\u001b[0m\u001b[32m'733'\u001b[0m: |\u001b[32m'USP'\u001b[0m, \n",
       "\u001b[32m'GS'\u001b[0m, \u001b[32m'RXNORM'\u001b[0m, \u001b[32m'VANDF'\u001b[0m, \u001b[32m'MMSL'\u001b[0m, \u001b[32m'NDDF'\u001b[0m, \u001b[32m'ATC'\u001b[0m, \u001b[32m'ATC'\u001b[0m, \u001b[32m'DRUGBANK'\u001b[0m\u001b[1m]\u001b[0m\u001b[1m}\u001b[0m, \u001b[32m'Sulbactam \u001b[0m\u001b[32m(\u001b[0m\u001b[32msulbactam\u001b[0m\u001b[32m)\u001b[0m\u001b[32m'\u001b[0m: \u001b[1m{\u001b[0m\u001b[32m'10167'\u001b[0m: |\u001b[32m'GS'\u001b[0m, \n",
       "\u001b[32m'RXNORM'\u001b[0m, \u001b[32m'VANDF'\u001b[0m, \u001b[32m'ATC'\u001b[0m, \u001b[32m'NDDF'\u001b[0m, \u001b[32m'DRUGBANK'\u001b[0m\u001b[1m]\u001b[0m\u001b[1m}\u001b[0m\u001b[1m}\u001b[0m\n"
      ]
     },
     "metadata": {},
     "output_type": "display_data"
    },
    {
     "data": {
      "text/html": [
       "<pre style=\"white-space:pre;overflow-x:auto;line-height:normal;font-family:Menlo,'DejaVu Sans Mono',consolas,'Courier New',monospace\"><span style=\"color: #7f7f7f; text-decoration-color: #7f7f7f\">[Step 2: Duration 2.75 seconds| Input tokens: 8,956 | Output tokens: 691]</span>\n",
       "</pre>\n"
      ],
      "text/plain": [
       "\u001b[2m[Step 2: Duration 2.75 seconds| Input tokens: 8,956 | Output tokens: 691]\u001b[0m\n"
      ]
     },
     "metadata": {},
     "output_type": "display_data"
    },
    {
     "data": {
      "text/html": [
       "<pre style=\"white-space:pre;overflow-x:auto;line-height:normal;font-family:Menlo,'DejaVu Sans Mono',consolas,'Courier New',monospace\"><span style=\"color: #d4b702; text-decoration-color: #d4b702\">━━━━━━━━━━━━━━━━━━━━━━━━━━━━━━━━━━━━━━━━━━━━━━━━━━━━━ </span><span style=\"font-weight: bold\">Step </span><span style=\"color: #008080; text-decoration-color: #008080; font-weight: bold\">3</span><span style=\"color: #d4b702; text-decoration-color: #d4b702\"> ━━━━━━━━━━━━━━━━━━━━━━━━━━━━━━━━━━━━━━━━━━━━━━━━━━━━━━</span>\n",
       "</pre>\n"
      ],
      "text/plain": [
       "\u001b[38;2;212;183;2m━━━━━━━━━━━━━━━━━━━━━━━━━━━━━━━━━━━━━━━━━━━━━━━━━━━━━ \u001b[0m\u001b[1mStep \u001b[0m\u001b[1;36m3\u001b[0m\u001b[38;2;212;183;2m ━━━━━━━━━━━━━━━━━━━━━━━━━━━━━━━━━━━━━━━━━━━━━━━━━━━━━━\u001b[0m\n"
      ]
     },
     "metadata": {},
     "output_type": "display_data"
    },
    {
     "data": {
      "text/html": [
       "<pre style=\"white-space:pre;overflow-x:auto;line-height:normal;font-family:Menlo,'DejaVu Sans Mono',consolas,'Courier New',monospace\">╭─────────────────────────────────────────────────────────────────────────────────────────────────────────────────╮\n",
       "│ Calling tool: 'get_atc' with arguments: {'rxcuis': ['17767', '19484', '29046', '38413', '6960', '36567', '733', │\n",
       "│ '10167']}                                                                                                       │\n",
       "╰─────────────────────────────────────────────────────────────────────────────────────────────────────────────────╯\n",
       "</pre>\n"
      ],
      "text/plain": [
       "╭─────────────────────────────────────────────────────────────────────────────────────────────────────────────────╮\n",
       "│ Calling tool: 'get_atc' with arguments: {'rxcuis': ['17767', '19484', '29046', '38413', '6960', '36567', '733', │\n",
       "│ '10167']}                                                                                                       │\n",
       "╰─────────────────────────────────────────────────────────────────────────────────────────────────────────────────╯\n"
      ]
     },
     "metadata": {},
     "output_type": "display_data"
    },
    {
     "data": {
      "text/html": [
       "<pre style=\"white-space:pre;overflow-x:auto;line-height:normal;font-family:Menlo,'DejaVu Sans Mono',consolas,'Courier New',monospace\">Observations: <span style=\"font-weight: bold\">{</span><span style=\"color: #008000; text-decoration-color: #008000\">'17767'</span>: <span style=\"font-weight: bold\">{</span><span style=\"color: #008000; text-decoration-color: #008000\">'atc_id'</span>: <span style=\"color: #008000; text-decoration-color: #008000\">'C09DX'</span>, <span style=\"color: #008000; text-decoration-color: #008000\">'atc_name'</span>: <span style=\"color: #008000; text-decoration-color: #008000\">'Angiotensin II receptor blockers (ARBs), other </span>\n",
       "<span style=\"color: #008000; text-decoration-color: #008000\">combinations'</span>, <span style=\"color: #008000; text-decoration-color: #008000\">'atc_type'</span>: <span style=\"color: #008000; text-decoration-color: #008000\">'ATC1-4'</span><span style=\"font-weight: bold\">}</span>, <span style=\"color: #008000; text-decoration-color: #008000\">'19484'</span>: <span style=\"font-weight: bold\">{</span><span style=\"color: #008000; text-decoration-color: #008000\">'atc_id'</span>: <span style=\"color: #008000; text-decoration-color: #008000\">'C07AB'</span>, <span style=\"color: #008000; text-decoration-color: #008000\">'atc_name'</span>: <span style=\"color: #008000; text-decoration-color: #008000\">'Beta blocking agents, selective'</span>, \n",
       "<span style=\"color: #008000; text-decoration-color: #008000\">'atc_type'</span>: <span style=\"color: #008000; text-decoration-color: #008000\">'ATC1-4'</span><span style=\"font-weight: bold\">}</span>, <span style=\"color: #008000; text-decoration-color: #008000\">'29046'</span>: <span style=\"font-weight: bold\">{</span><span style=\"color: #008000; text-decoration-color: #008000\">'atc_id'</span>: <span style=\"color: #008000; text-decoration-color: #008000\">'C09AA'</span>, <span style=\"color: #008000; text-decoration-color: #008000\">'atc_name'</span>: <span style=\"color: #008000; text-decoration-color: #008000\">'ACE inhibitors, plain'</span>, <span style=\"color: #008000; text-decoration-color: #008000\">'atc_type'</span>: <span style=\"color: #008000; text-decoration-color: #008000\">'ATC1-4'</span><span style=\"font-weight: bold\">}</span>, \n",
       "<span style=\"color: #008000; text-decoration-color: #008000\">'38413'</span>: <span style=\"font-weight: bold\">{</span><span style=\"color: #008000; text-decoration-color: #008000\">'atc_id'</span>: <span style=\"color: #008000; text-decoration-color: #008000\">'C03CA'</span>, <span style=\"color: #008000; text-decoration-color: #008000\">'atc_name'</span>: <span style=\"color: #008000; text-decoration-color: #008000\">'Sulfonamides, plain'</span>, <span style=\"color: #008000; text-decoration-color: #008000\">'atc_type'</span>: <span style=\"color: #008000; text-decoration-color: #008000\">'ATC1-4'</span><span style=\"font-weight: bold\">}</span>, <span style=\"color: #008000; text-decoration-color: #008000\">'6960'</span>: <span style=\"font-weight: bold\">{</span><span style=\"color: #008000; text-decoration-color: #008000\">'atc_id'</span>: <span style=\"color: #008000; text-decoration-color: #008000\">'N05CD'</span>, \n",
       "<span style=\"color: #008000; text-decoration-color: #008000\">'atc_name'</span>: <span style=\"color: #008000; text-decoration-color: #008000\">'Benzodiazepine derivatives'</span>, <span style=\"color: #008000; text-decoration-color: #008000\">'atc_type'</span>: <span style=\"color: #008000; text-decoration-color: #008000\">'ATC1-4'</span><span style=\"font-weight: bold\">}</span>, <span style=\"color: #008000; text-decoration-color: #008000\">'36567'</span>: <span style=\"font-weight: bold\">{</span><span style=\"color: #008000; text-decoration-color: #008000\">'atc_id'</span>: <span style=\"color: #008000; text-decoration-color: #008000\">'C10AA'</span>, <span style=\"color: #008000; text-decoration-color: #008000\">'atc_name'</span>: <span style=\"color: #008000; text-decoration-color: #008000\">'HMG CoA </span>\n",
       "<span style=\"color: #008000; text-decoration-color: #008000\">reductase inhibitors'</span>, <span style=\"color: #008000; text-decoration-color: #008000\">'atc_type'</span>: <span style=\"color: #008000; text-decoration-color: #008000\">'ATC1-4'</span><span style=\"font-weight: bold\">}</span>, <span style=\"color: #008000; text-decoration-color: #008000\">'733'</span>: <span style=\"font-weight: bold\">{</span><span style=\"color: #008000; text-decoration-color: #008000\">'atc_id'</span>: <span style=\"color: #008000; text-decoration-color: #008000\">'J01CR'</span>, <span style=\"color: #008000; text-decoration-color: #008000\">'atc_name'</span>: <span style=\"color: #008000; text-decoration-color: #008000\">'Combinations of penicillins, </span>\n",
       "<span style=\"color: #008000; text-decoration-color: #008000\">incl. beta-lactamase inhibitors'</span>, <span style=\"color: #008000; text-decoration-color: #008000\">'atc_type'</span>: <span style=\"color: #008000; text-decoration-color: #008000\">'ATC1-4'</span><span style=\"font-weight: bold\">}</span>, <span style=\"color: #008000; text-decoration-color: #008000\">'10167'</span>: <span style=\"font-weight: bold\">{</span><span style=\"color: #008000; text-decoration-color: #008000\">'atc_id'</span>: <span style=\"color: #008000; text-decoration-color: #008000\">'J01CR'</span>, <span style=\"color: #008000; text-decoration-color: #008000\">'atc_name'</span>: <span style=\"color: #008000; text-decoration-color: #008000\">'Combinations of </span>\n",
       "<span style=\"color: #008000; text-decoration-color: #008000\">penicillins, incl. beta-lactamase inhibitors'</span>, <span style=\"color: #008000; text-decoration-color: #008000\">'atc_type'</span>: <span style=\"color: #008000; text-decoration-color: #008000\">'ATC1-4'</span><span style=\"font-weight: bold\">}}</span>\n",
       "</pre>\n"
      ],
      "text/plain": [
       "Observations: \u001b[1m{\u001b[0m\u001b[32m'17767'\u001b[0m: \u001b[1m{\u001b[0m\u001b[32m'atc_id'\u001b[0m: \u001b[32m'C09DX'\u001b[0m, \u001b[32m'atc_name'\u001b[0m: \u001b[32m'Angiotensin II receptor blockers \u001b[0m\u001b[32m(\u001b[0m\u001b[32mARBs\u001b[0m\u001b[32m)\u001b[0m\u001b[32m, other \u001b[0m\n",
       "\u001b[32mcombinations'\u001b[0m, \u001b[32m'atc_type'\u001b[0m: \u001b[32m'ATC1-4'\u001b[0m\u001b[1m}\u001b[0m, \u001b[32m'19484'\u001b[0m: \u001b[1m{\u001b[0m\u001b[32m'atc_id'\u001b[0m: \u001b[32m'C07AB'\u001b[0m, \u001b[32m'atc_name'\u001b[0m: \u001b[32m'Beta blocking agents, selective'\u001b[0m, \n",
       "\u001b[32m'atc_type'\u001b[0m: \u001b[32m'ATC1-4'\u001b[0m\u001b[1m}\u001b[0m, \u001b[32m'29046'\u001b[0m: \u001b[1m{\u001b[0m\u001b[32m'atc_id'\u001b[0m: \u001b[32m'C09AA'\u001b[0m, \u001b[32m'atc_name'\u001b[0m: \u001b[32m'ACE inhibitors, plain'\u001b[0m, \u001b[32m'atc_type'\u001b[0m: \u001b[32m'ATC1-4'\u001b[0m\u001b[1m}\u001b[0m, \n",
       "\u001b[32m'38413'\u001b[0m: \u001b[1m{\u001b[0m\u001b[32m'atc_id'\u001b[0m: \u001b[32m'C03CA'\u001b[0m, \u001b[32m'atc_name'\u001b[0m: \u001b[32m'Sulfonamides, plain'\u001b[0m, \u001b[32m'atc_type'\u001b[0m: \u001b[32m'ATC1-4'\u001b[0m\u001b[1m}\u001b[0m, \u001b[32m'6960'\u001b[0m: \u001b[1m{\u001b[0m\u001b[32m'atc_id'\u001b[0m: \u001b[32m'N05CD'\u001b[0m, \n",
       "\u001b[32m'atc_name'\u001b[0m: \u001b[32m'Benzodiazepine derivatives'\u001b[0m, \u001b[32m'atc_type'\u001b[0m: \u001b[32m'ATC1-4'\u001b[0m\u001b[1m}\u001b[0m, \u001b[32m'36567'\u001b[0m: \u001b[1m{\u001b[0m\u001b[32m'atc_id'\u001b[0m: \u001b[32m'C10AA'\u001b[0m, \u001b[32m'atc_name'\u001b[0m: \u001b[32m'HMG CoA \u001b[0m\n",
       "\u001b[32mreductase inhibitors'\u001b[0m, \u001b[32m'atc_type'\u001b[0m: \u001b[32m'ATC1-4'\u001b[0m\u001b[1m}\u001b[0m, \u001b[32m'733'\u001b[0m: \u001b[1m{\u001b[0m\u001b[32m'atc_id'\u001b[0m: \u001b[32m'J01CR'\u001b[0m, \u001b[32m'atc_name'\u001b[0m: \u001b[32m'Combinations of penicillins, \u001b[0m\n",
       "\u001b[32mincl. beta-lactamase inhibitors'\u001b[0m, \u001b[32m'atc_type'\u001b[0m: \u001b[32m'ATC1-4'\u001b[0m\u001b[1m}\u001b[0m, \u001b[32m'10167'\u001b[0m: \u001b[1m{\u001b[0m\u001b[32m'atc_id'\u001b[0m: \u001b[32m'J01CR'\u001b[0m, \u001b[32m'atc_name'\u001b[0m: \u001b[32m'Combinations of \u001b[0m\n",
       "\u001b[32mpenicillins, incl. beta-lactamase inhibitors'\u001b[0m, \u001b[32m'atc_type'\u001b[0m: \u001b[32m'ATC1-4'\u001b[0m\u001b[1m}\u001b[0m\u001b[1m}\u001b[0m\n"
      ]
     },
     "metadata": {},
     "output_type": "display_data"
    },
    {
     "data": {
      "text/html": [
       "<pre style=\"white-space:pre;overflow-x:auto;line-height:normal;font-family:Menlo,'DejaVu Sans Mono',consolas,'Courier New',monospace\"><span style=\"color: #7f7f7f; text-decoration-color: #7f7f7f\">[Step 3: Duration 2.11 seconds| Input tokens: 14,742 | Output tokens: 747]</span>\n",
       "</pre>\n"
      ],
      "text/plain": [
       "\u001b[2m[Step 3: Duration 2.11 seconds| Input tokens: 14,742 | Output tokens: 747]\u001b[0m\n"
      ]
     },
     "metadata": {},
     "output_type": "display_data"
    },
    {
     "data": {
      "text/html": [
       "<pre style=\"white-space:pre;overflow-x:auto;line-height:normal;font-family:Menlo,'DejaVu Sans Mono',consolas,'Courier New',monospace\"><span style=\"color: #d4b702; text-decoration-color: #d4b702\">━━━━━━━━━━━━━━━━━━━━━━━━━━━━━━━━━━━━━━━━━━━━━━━━━━━━━ </span><span style=\"font-weight: bold\">Step </span><span style=\"color: #008080; text-decoration-color: #008080; font-weight: bold\">4</span><span style=\"color: #d4b702; text-decoration-color: #d4b702\"> ━━━━━━━━━━━━━━━━━━━━━━━━━━━━━━━━━━━━━━━━━━━━━━━━━━━━━━</span>\n",
       "</pre>\n"
      ],
      "text/plain": [
       "\u001b[38;2;212;183;2m━━━━━━━━━━━━━━━━━━━━━━━━━━━━━━━━━━━━━━━━━━━━━━━━━━━━━ \u001b[0m\u001b[1mStep \u001b[0m\u001b[1;36m4\u001b[0m\u001b[38;2;212;183;2m ━━━━━━━━━━━━━━━━━━━━━━━━━━━━━━━━━━━━━━━━━━━━━━━━━━━━━━\u001b[0m\n"
      ]
     },
     "metadata": {},
     "output_type": "display_data"
    },
    {
     "data": {
      "text/html": [
       "<pre style=\"white-space:pre;overflow-x:auto;line-height:normal;font-family:Menlo,'DejaVu Sans Mono',consolas,'Courier New',monospace\">╭─────────────────────────────────────────────────────────────────────────────────────────────────────────────────╮\n",
       "│ Calling tool: 'save_csv' with arguments: {'task_name': 'medication', 'data': [{'patient_id': 5,                 │\n",
       "│ 'medication_reference': 'Amlodipin 10mg', 'medication_name': 'Amlodipin', 'medication_translated': 'Amlodipine  │\n",
       "│ (amlodipine)', 'active_ingredient': 'amlodipine', 'dose': 10, 'unit': 'mg', 'dosage_morning': 1, 'dosage_noon': │\n",
       "│ 0, 'dosage_evening': 0, 'dosage_night': 0, 'dosage_information': '', 'rxcui': '17767', 'atc_id': 'C09DX',       │\n",
       "│ 'atc_name': 'Angiotensin II receptor blockers (ARBs), other combinations', 'atc_type': 'ATC1-4'},               │\n",
       "│ {'patient_id': 5, 'medication_reference': 'Bisoprolol 10mg', 'medication_name': 'Bisoprolol',                   │\n",
       "│ 'medication_translated': 'Bisoprolol (bisoprolol)', 'active_ingredient': 'bisoprolol', 'dose': 10, 'unit':      │\n",
       "│ 'mg', 'dosage_morning': 1, 'dosage_noon': 0, 'dosage_evening': 0, 'dosage_night': 0, 'dosage_information': '',  │\n",
       "│ 'rxcui': '19484', 'atc_id': 'C07AB', 'atc_name': 'Beta blocking agents, selective', 'atc_type': 'ATC1-4'},      │\n",
       "│ {'patient_id': 5, 'medication_reference': 'Lisinopril 30mg', 'medication_name': 'Lisinopril',                   │\n",
       "│ 'medication_translated': 'Lisinopril (lisinopril)', 'active_ingredient': 'lisinopril', 'dose': 30, 'unit':      │\n",
       "│ 'mg', 'dosage_morning': 1, 'dosage_noon': 0, 'dosage_evening': 0, 'dosage_night': 0, 'dosage_information': '',  │\n",
       "│ 'rxcui': '29046', 'atc_id': 'C09AA', 'atc_name': 'ACE inhibitors, plain', 'atc_type': 'ATC1-4'}, {'patient_id': │\n",
       "│ 5, 'medication_reference': 'Torasemid 10mg', 'medication_name': 'Torasemid', 'medication_translated':           │\n",
       "│ 'Torasemide (torasemide)', 'active_ingredient': 'torasemide', 'dose': 10, 'unit': 'mg', 'dosage_morning': 1,    │\n",
       "│ 'dosage_noon': 0, 'dosage_evening': 0, 'dosage_night': 0, 'dosage_information': '', 'rxcui': '38413', 'atc_id': │\n",
       "│ 'C03CA', 'atc_name': 'Sulfonamides, plain', 'atc_type': 'ATC1-4'}, {'patient_id': 5, 'medication_reference':    │\n",
       "│ 'Midazolam b.B.', 'medication_name': 'Midazolam', 'medication_translated': 'Midazolam (midazolam)',             │\n",
       "│ 'active_ingredient': 'midazolam', 'dose': 0, 'unit': '', 'dosage_morning': 0, 'dosage_noon': 0,                 │\n",
       "│ 'dosage_evening': 0, 'dosage_night': 0, 'dosage_information': 'as needed', 'rxcui': '6960', 'atc_id': 'N05CD',  │\n",
       "│ 'atc_name': 'Benzodiazepine derivatives', 'atc_type': 'ATC1-4'}, {'patient_id': 5, 'medication_reference':      │\n",
       "│ 'Simvastatin 20mg', 'medication_name': 'Simvastatin', 'medication_translated': 'Simvastatin (simvastatin)',     │\n",
       "│ 'active_ingredient': 'simvastatin', 'dose': 20, 'unit': 'mg', 'dosage_morning': 0, 'dosage_noon': 0,            │\n",
       "│ 'dosage_evening': 1, 'dosage_night': 0, 'dosage_information': '', 'rxcui': '36567', 'atc_id': 'C10AA',          │\n",
       "│ 'atc_name': 'HMG CoA reductase inhibitors', 'atc_type': 'ATC1-4'}, {'patient_id': 5, 'medication_reference':    │\n",
       "│ 'Ampicillin/Sulbactam 4,5g', 'medication_name': 'Ampicillin', 'medication_translated': 'Ampicillin              │\n",
       "│ (ampicillin)', 'active_ingredient': 'ampicillin', 'dose': 4500, 'unit': 'mg', 'dosage_morning': 1,              │\n",
       "│ 'dosage_noon': 1, 'dosage_evening': 1, 'dosage_night': 1, 'dosage_information': '', 'rxcui': '733', 'atc_id':   │\n",
       "│ 'J01CR', 'atc_name': 'Combinations of penicillins, incl. beta-lactamase inhibitors', 'atc_type': 'ATC1-4'},     │\n",
       "│ {'patient_id': 5, 'medication_reference': 'Ampicillin/Sulbactam 4,5g', 'medication_name': 'Sulbactam',          │\n",
       "│ 'medication_translated': 'Sulbactam (sulbactam)', 'active_ingredient': 'sulbactam', 'dose': 4500, 'unit': 'mg', │\n",
       "│ 'dosage_morning': 1, 'dosage_noon': 1, 'dosage_evening': 1, 'dosage_night': 1, 'dosage_information': '',        │\n",
       "│ 'rxcui': '10167', 'atc_id': 'J01CR', 'atc_name': 'Combinations of penicillins, incl. beta-lactamase             │\n",
       "│ inhibitors', 'atc_type': 'ATC1-4'}]}                                                                            │\n",
       "╰─────────────────────────────────────────────────────────────────────────────────────────────────────────────────╯\n",
       "</pre>\n"
      ],
      "text/plain": [
       "╭─────────────────────────────────────────────────────────────────────────────────────────────────────────────────╮\n",
       "│ Calling tool: 'save_csv' with arguments: {'task_name': 'medication', 'data': [{'patient_id': 5,                 │\n",
       "│ 'medication_reference': 'Amlodipin 10mg', 'medication_name': 'Amlodipin', 'medication_translated': 'Amlodipine  │\n",
       "│ (amlodipine)', 'active_ingredient': 'amlodipine', 'dose': 10, 'unit': 'mg', 'dosage_morning': 1, 'dosage_noon': │\n",
       "│ 0, 'dosage_evening': 0, 'dosage_night': 0, 'dosage_information': '', 'rxcui': '17767', 'atc_id': 'C09DX',       │\n",
       "│ 'atc_name': 'Angiotensin II receptor blockers (ARBs), other combinations', 'atc_type': 'ATC1-4'},               │\n",
       "│ {'patient_id': 5, 'medication_reference': 'Bisoprolol 10mg', 'medication_name': 'Bisoprolol',                   │\n",
       "│ 'medication_translated': 'Bisoprolol (bisoprolol)', 'active_ingredient': 'bisoprolol', 'dose': 10, 'unit':      │\n",
       "│ 'mg', 'dosage_morning': 1, 'dosage_noon': 0, 'dosage_evening': 0, 'dosage_night': 0, 'dosage_information': '',  │\n",
       "│ 'rxcui': '19484', 'atc_id': 'C07AB', 'atc_name': 'Beta blocking agents, selective', 'atc_type': 'ATC1-4'},      │\n",
       "│ {'patient_id': 5, 'medication_reference': 'Lisinopril 30mg', 'medication_name': 'Lisinopril',                   │\n",
       "│ 'medication_translated': 'Lisinopril (lisinopril)', 'active_ingredient': 'lisinopril', 'dose': 30, 'unit':      │\n",
       "│ 'mg', 'dosage_morning': 1, 'dosage_noon': 0, 'dosage_evening': 0, 'dosage_night': 0, 'dosage_information': '',  │\n",
       "│ 'rxcui': '29046', 'atc_id': 'C09AA', 'atc_name': 'ACE inhibitors, plain', 'atc_type': 'ATC1-4'}, {'patient_id': │\n",
       "│ 5, 'medication_reference': 'Torasemid 10mg', 'medication_name': 'Torasemid', 'medication_translated':           │\n",
       "│ 'Torasemide (torasemide)', 'active_ingredient': 'torasemide', 'dose': 10, 'unit': 'mg', 'dosage_morning': 1,    │\n",
       "│ 'dosage_noon': 0, 'dosage_evening': 0, 'dosage_night': 0, 'dosage_information': '', 'rxcui': '38413', 'atc_id': │\n",
       "│ 'C03CA', 'atc_name': 'Sulfonamides, plain', 'atc_type': 'ATC1-4'}, {'patient_id': 5, 'medication_reference':    │\n",
       "│ 'Midazolam b.B.', 'medication_name': 'Midazolam', 'medication_translated': 'Midazolam (midazolam)',             │\n",
       "│ 'active_ingredient': 'midazolam', 'dose': 0, 'unit': '', 'dosage_morning': 0, 'dosage_noon': 0,                 │\n",
       "│ 'dosage_evening': 0, 'dosage_night': 0, 'dosage_information': 'as needed', 'rxcui': '6960', 'atc_id': 'N05CD',  │\n",
       "│ 'atc_name': 'Benzodiazepine derivatives', 'atc_type': 'ATC1-4'}, {'patient_id': 5, 'medication_reference':      │\n",
       "│ 'Simvastatin 20mg', 'medication_name': 'Simvastatin', 'medication_translated': 'Simvastatin (simvastatin)',     │\n",
       "│ 'active_ingredient': 'simvastatin', 'dose': 20, 'unit': 'mg', 'dosage_morning': 0, 'dosage_noon': 0,            │\n",
       "│ 'dosage_evening': 1, 'dosage_night': 0, 'dosage_information': '', 'rxcui': '36567', 'atc_id': 'C10AA',          │\n",
       "│ 'atc_name': 'HMG CoA reductase inhibitors', 'atc_type': 'ATC1-4'}, {'patient_id': 5, 'medication_reference':    │\n",
       "│ 'Ampicillin/Sulbactam 4,5g', 'medication_name': 'Ampicillin', 'medication_translated': 'Ampicillin              │\n",
       "│ (ampicillin)', 'active_ingredient': 'ampicillin', 'dose': 4500, 'unit': 'mg', 'dosage_morning': 1,              │\n",
       "│ 'dosage_noon': 1, 'dosage_evening': 1, 'dosage_night': 1, 'dosage_information': '', 'rxcui': '733', 'atc_id':   │\n",
       "│ 'J01CR', 'atc_name': 'Combinations of penicillins, incl. beta-lactamase inhibitors', 'atc_type': 'ATC1-4'},     │\n",
       "│ {'patient_id': 5, 'medication_reference': 'Ampicillin/Sulbactam 4,5g', 'medication_name': 'Sulbactam',          │\n",
       "│ 'medication_translated': 'Sulbactam (sulbactam)', 'active_ingredient': 'sulbactam', 'dose': 4500, 'unit': 'mg', │\n",
       "│ 'dosage_morning': 1, 'dosage_noon': 1, 'dosage_evening': 1, 'dosage_night': 1, 'dosage_information': '',        │\n",
       "│ 'rxcui': '10167', 'atc_id': 'J01CR', 'atc_name': 'Combinations of penicillins, incl. beta-lactamase             │\n",
       "│ inhibitors', 'atc_type': 'ATC1-4'}]}                                                                            │\n",
       "╰─────────────────────────────────────────────────────────────────────────────────────────────────────────────────╯\n"
      ]
     },
     "metadata": {},
     "output_type": "display_data"
    },
    {
     "data": {
      "text/html": [
       "<pre style=\"white-space:pre;overflow-x:auto;line-height:normal;font-family:Menlo,'DejaVu Sans Mono',consolas,'Courier New',monospace\">Observations: Saved data for task medication to \n",
       "<span style=\"color: #800080; text-decoration-color: #800080\">/Users/christian/Projects/aidh-ms/MedMiner/examples/result/</span><span style=\"color: #ff00ff; text-decoration-color: #ff00ff\">medication.csv</span>\n",
       "</pre>\n"
      ],
      "text/plain": [
       "Observations: Saved data for task medication to \n",
       "\u001b[35m/Users/christian/Projects/aidh-ms/MedMiner/examples/result/\u001b[0m\u001b[95mmedication.csv\u001b[0m\n"
      ]
     },
     "metadata": {},
     "output_type": "display_data"
    },
    {
     "data": {
      "text/html": [
       "<pre style=\"white-space:pre;overflow-x:auto;line-height:normal;font-family:Menlo,'DejaVu Sans Mono',consolas,'Courier New',monospace\"><span style=\"color: #7f7f7f; text-decoration-color: #7f7f7f\">[Step 4: Duration 8.08 seconds| Input tokens: 20,982 | Output tokens: 1,804]</span>\n",
       "</pre>\n"
      ],
      "text/plain": [
       "\u001b[2m[Step 4: Duration 8.08 seconds| Input tokens: 20,982 | Output tokens: 1,804]\u001b[0m\n"
      ]
     },
     "metadata": {},
     "output_type": "display_data"
    },
    {
     "data": {
      "text/html": [
       "<pre style=\"white-space:pre;overflow-x:auto;line-height:normal;font-family:Menlo,'DejaVu Sans Mono',consolas,'Courier New',monospace\"><span style=\"color: #d4b702; text-decoration-color: #d4b702\">━━━━━━━━━━━━━━━━━━━━━━━━━━━━━━━━━━━━━━━━━━━━━━━━━━━━━ </span><span style=\"font-weight: bold\">Step </span><span style=\"color: #008080; text-decoration-color: #008080; font-weight: bold\">5</span><span style=\"color: #d4b702; text-decoration-color: #d4b702\"> ━━━━━━━━━━━━━━━━━━━━━━━━━━━━━━━━━━━━━━━━━━━━━━━━━━━━━━</span>\n",
       "</pre>\n"
      ],
      "text/plain": [
       "\u001b[38;2;212;183;2m━━━━━━━━━━━━━━━━━━━━━━━━━━━━━━━━━━━━━━━━━━━━━━━━━━━━━ \u001b[0m\u001b[1mStep \u001b[0m\u001b[1;36m5\u001b[0m\u001b[38;2;212;183;2m ━━━━━━━━━━━━━━━━━━━━━━━━━━━━━━━━━━━━━━━━━━━━━━━━━━━━━━\u001b[0m\n"
      ]
     },
     "metadata": {},
     "output_type": "display_data"
    },
    {
     "data": {
      "text/html": [
       "<pre style=\"white-space:pre;overflow-x:auto;line-height:normal;font-family:Menlo,'DejaVu Sans Mono',consolas,'Courier New',monospace\">╭─────────────────────────────────────────────────────────────────────────────────────────────────────────────────╮\n",
       "│ Calling tool: 'final_answer' with arguments: {'answer': 'The medication data has been successfully extracted,   │\n",
       "│ processed, and saved as a CSV file to                                                                           │\n",
       "│ /Users/christian/Projects/aidh-ms/MedMiner/examples/result/medication.csv.'}                                    │\n",
       "╰─────────────────────────────────────────────────────────────────────────────────────────────────────────────────╯\n",
       "</pre>\n"
      ],
      "text/plain": [
       "╭─────────────────────────────────────────────────────────────────────────────────────────────────────────────────╮\n",
       "│ Calling tool: 'final_answer' with arguments: {'answer': 'The medication data has been successfully extracted,   │\n",
       "│ processed, and saved as a CSV file to                                                                           │\n",
       "│ /Users/christian/Projects/aidh-ms/MedMiner/examples/result/medication.csv.'}                                    │\n",
       "╰─────────────────────────────────────────────────────────────────────────────────────────────────────────────────╯\n"
      ]
     },
     "metadata": {},
     "output_type": "display_data"
    },
    {
     "data": {
      "text/html": [
       "<pre style=\"white-space:pre;overflow-x:auto;line-height:normal;font-family:Menlo,'DejaVu Sans Mono',consolas,'Courier New',monospace\"><span style=\"color: #d4b702; text-decoration-color: #d4b702; font-weight: bold\">Final answer: The medication data has been successfully extracted, processed, and saved as a CSV file to </span>\n",
       "<span style=\"color: #d4b702; text-decoration-color: #d4b702; font-weight: bold\">/Users/christian/Projects/aidh-ms/MedMiner/examples/result/medication.csv.</span>\n",
       "</pre>\n"
      ],
      "text/plain": [
       "\u001b[1;38;2;212;183;2mFinal answer: The medication data has been successfully extracted, processed, and saved as a CSV file to \u001b[0m\n",
       "\u001b[1;38;2;212;183;2m/Users/christian/Projects/aidh-ms/MedMiner/examples/result/medication.csv.\u001b[0m\n"
      ]
     },
     "metadata": {},
     "output_type": "display_data"
    },
    {
     "data": {
      "text/html": [
       "<pre style=\"white-space:pre;overflow-x:auto;line-height:normal;font-family:Menlo,'DejaVu Sans Mono',consolas,'Courier New',monospace\"><span style=\"color: #7f7f7f; text-decoration-color: #7f7f7f\">[Step 5: Duration 0.70 seconds| Input tokens: 28,625 | Output tokens: 1,855]</span>\n",
       "</pre>\n"
      ],
      "text/plain": [
       "\u001b[2m[Step 5: Duration 0.70 seconds| Input tokens: 28,625 | Output tokens: 1,855]\u001b[0m\n"
      ]
     },
     "metadata": {},
     "output_type": "display_data"
    },
    {
     "data": {
      "text/html": [
       "<pre style=\"white-space:pre;overflow-x:auto;line-height:normal;font-family:Menlo,'DejaVu Sans Mono',consolas,'Courier New',monospace\"><span style=\"color: #d4b702; text-decoration-color: #d4b702\">╭──────────────────────────────────────────────────── </span><span style=\"color: #d4b702; text-decoration-color: #d4b702; font-weight: bold\">New run</span><span style=\"color: #d4b702; text-decoration-color: #d4b702\"> ────────────────────────────────────────────────────╮</span>\n",
       "<span style=\"color: #d4b702; text-decoration-color: #d4b702\">│</span>                                                                                                                 <span style=\"color: #d4b702; text-decoration-color: #d4b702\">│</span>\n",
       "<span style=\"color: #d4b702; text-decoration-color: #d4b702\">│</span> <span style=\"font-weight: bold\">Task name: medication</span>                                                                                           <span style=\"color: #d4b702; text-decoration-color: #d4b702\">│</span>\n",
       "<span style=\"color: #d4b702; text-decoration-color: #d4b702\">│</span> <span style=\"font-weight: bold\">Prompt: </span>                                                                                                        <span style=\"color: #d4b702; text-decoration-color: #d4b702\">│</span>\n",
       "<span style=\"color: #d4b702; text-decoration-color: #d4b702\">│</span> <span style=\"font-weight: bold\">    Given a list of medications, save all medications for the patient as csv. The medications can be in any </span>    <span style=\"color: #d4b702; text-decoration-color: #d4b702\">│</span>\n",
       "<span style=\"color: #d4b702; text-decoration-color: #d4b702\">│</span> <span style=\"font-weight: bold\">language. The medications are usually in the format of a list of medications, with dosage and unit as well as </span>  <span style=\"color: #d4b702; text-decoration-color: #d4b702\">│</span>\n",
       "<span style=\"color: #d4b702; text-decoration-color: #d4b702\">│</span> <span style=\"font-weight: bold\">their dosage timings (e.g. 1-0-1-0 for moring and evening but not noon or night). Every medication should have </span> <span style=\"color: #d4b702; text-decoration-color: #d4b702\">│</span>\n",
       "<span style=\"color: #d4b702; text-decoration-color: #d4b702\">│</span> <span style=\"font-weight: bold\">a single row, if there are multiple medications that can be extracted from a single piece of text, e.g. a </span>      <span style=\"color: #d4b702; text-decoration-color: #d4b702\">│</span>\n",
       "<span style=\"color: #d4b702; text-decoration-color: #d4b702\">│</span> <span style=\"font-weight: bold\">combined medication, split them up. These are the steps you should follow to complete the task:</span>                 <span style=\"color: #d4b702; text-decoration-color: #d4b702\">│</span>\n",
       "<span style=\"color: #d4b702; text-decoration-color: #d4b702\">│</span>                                                                                                                 <span style=\"color: #d4b702; text-decoration-color: #d4b702\">│</span>\n",
       "<span style=\"color: #d4b702; text-decoration-color: #d4b702\">│</span> <span style=\"font-weight: bold\">    To complete the task make the following steps:</span>                                                              <span style=\"color: #d4b702; text-decoration-color: #d4b702\">│</span>\n",
       "<span style=\"color: #d4b702; text-decoration-color: #d4b702\">│</span> <span style=\"font-weight: bold\">    1. Extract the medications from the text. The medication can be in any language. This is the </span>               <span style=\"color: #d4b702; text-decoration-color: #d4b702\">│</span>\n",
       "<span style=\"color: #d4b702; text-decoration-color: #d4b702\">│</span> <span style=\"font-weight: bold\">medication_reference column.</span>                                                                                    <span style=\"color: #d4b702; text-decoration-color: #d4b702\">│</span>\n",
       "<span style=\"color: #d4b702; text-decoration-color: #d4b702\">│</span> <span style=\"font-weight: bold\">    2. If the medication name is not in english, translate it to english and infer the medication_translated </span>   <span style=\"color: #d4b702; text-decoration-color: #d4b702\">│</span>\n",
       "<span style=\"color: #d4b702; text-decoration-color: #d4b702\">│</span> <span style=\"font-weight: bold\">column. Correct any misspellings in the process. Use the following format \"Brand name or medication name </span>       <span style=\"color: #d4b702; text-decoration-color: #d4b702\">│</span>\n",
       "<span style=\"color: #d4b702; text-decoration-color: #d4b702\">│</span> <span style=\"font-weight: bold\">(active ingredient)\". e.g. \"Aspirin (acetylsalicylic acid)\".</span>                                                    <span style=\"color: #d4b702; text-decoration-color: #d4b702\">│</span>\n",
       "<span style=\"color: #d4b702; text-decoration-color: #d4b702\">│</span> <span style=\"font-weight: bold\">    3. Extract the active ingredient of the medication and loose everything that is not relevant. This is the </span>  <span style=\"color: #d4b702; text-decoration-color: #d4b702\">│</span>\n",
       "<span style=\"color: #d4b702; text-decoration-color: #d4b702\">│</span> <span style=\"font-weight: bold\">active_ingredient column.</span>                                                                                       <span style=\"color: #d4b702; text-decoration-color: #d4b702\">│</span>\n",
       "<span style=\"color: #d4b702; text-decoration-color: #d4b702\">│</span> <span style=\"font-weight: bold\">    4. Extract the dose of the medication. This should only contain the numeric value. This is the dose column.</span> <span style=\"color: #d4b702; text-decoration-color: #d4b702\">│</span>\n",
       "<span style=\"color: #d4b702; text-decoration-color: #d4b702\">│</span> <span style=\"font-weight: bold\">    5. Extract the unit of the dose (e.g. ml, mg, ...). If possible, use mg. If not applicable, write an empty </span> <span style=\"color: #d4b702; text-decoration-color: #d4b702\">│</span>\n",
       "<span style=\"color: #d4b702; text-decoration-color: #d4b702\">│</span> <span style=\"font-weight: bold\">string. This is the unit column.</span>                                                                                <span style=\"color: #d4b702; text-decoration-color: #d4b702\">│</span>\n",
       "<span style=\"color: #d4b702; text-decoration-color: #d4b702\">│</span> <span style=\"font-weight: bold\">    6. Extract the dosage timings of the medication. This is the dosage_morning, dosage_noon, dosage_evening </span>   <span style=\"color: #d4b702; text-decoration-color: #d4b702\">│</span>\n",
       "<span style=\"color: #d4b702; text-decoration-color: #d4b702\">│</span> <span style=\"font-weight: bold\">and dosage_night columns. If you see that the patient is not taking a medication at a certain time point, write</span> <span style=\"color: #d4b702; text-decoration-color: #d4b702\">│</span>\n",
       "<span style=\"color: #d4b702; text-decoration-color: #d4b702\">│</span> <span style=\"font-weight: bold\">a 0. If you are unsure or missing the information, leave empty.</span>                                                 <span style=\"color: #d4b702; text-decoration-color: #d4b702\">│</span>\n",
       "<span style=\"color: #d4b702; text-decoration-color: #d4b702\">│</span> <span style=\"font-weight: bold\">    7. Extract the dosage information of the medication. This is the dosage_information column. You can write </span>  <span style=\"color: #d4b702; text-decoration-color: #d4b702\">│</span>\n",
       "<span style=\"color: #d4b702; text-decoration-color: #d4b702\">│</span> <span style=\"font-weight: bold\">any further information here that does not fit the description before. If you see an indication that this might</span> <span style=\"color: #d4b702; text-decoration-color: #d4b702\">│</span>\n",
       "<span style=\"color: #d4b702; text-decoration-color: #d4b702\">│</span> <span style=\"font-weight: bold\">be a medication that is taken \"as needed\" write \"as needed\" here. If you weren't able to infer a medication </span>    <span style=\"color: #d4b702; text-decoration-color: #d4b702\">│</span>\n",
       "<span style=\"color: #d4b702; text-decoration-color: #d4b702\">│</span> <span style=\"font-weight: bold\">schedule in the task before, write \"schedule unkown\". If not applicable, write an empty string.</span>                 <span style=\"color: #d4b702; text-decoration-color: #d4b702\">│</span>\n",
       "<span style=\"color: #d4b702; text-decoration-color: #d4b702\">│</span> <span style=\"font-weight: bold\">    8. get the RXCUI for all medications. Use the active ingredient of the medications. If there are multiple </span>  <span style=\"color: #d4b702; text-decoration-color: #d4b702\">│</span>\n",
       "<span style=\"color: #d4b702; text-decoration-color: #d4b702\">│</span> <span style=\"font-weight: bold\">RXCUI codes, choose the one that fits the best to the translated medication. Usually, the first candidate with </span> <span style=\"color: #d4b702; text-decoration-color: #d4b702\">│</span>\n",
       "<span style=\"color: #d4b702; text-decoration-color: #d4b702\">│</span> <span style=\"font-weight: bold\">a score of 1 is the best choice, but you can decide otherwise if you have reasonable grounds for another </span>       <span style=\"color: #d4b702; text-decoration-color: #d4b702\">│</span>\n",
       "<span style=\"color: #d4b702; text-decoration-color: #d4b702\">│</span> <span style=\"font-weight: bold\">decision. If there are no codes, write an empty string.</span>                                                         <span style=\"color: #d4b702; text-decoration-color: #d4b702\">│</span>\n",
       "<span style=\"color: #d4b702; text-decoration-color: #d4b702\">│</span> <span style=\"font-weight: bold\">    9. get the ATC code for all medications. Use the rxcui of the medications.</span>                                  <span style=\"color: #d4b702; text-decoration-color: #d4b702\">│</span>\n",
       "<span style=\"color: #d4b702; text-decoration-color: #d4b702\">│</span> <span style=\"font-weight: bold\">    10. save the medication information as csv with the columns defined below.</span>                                  <span style=\"color: #d4b702; text-decoration-color: #d4b702\">│</span>\n",
       "<span style=\"color: #d4b702; text-decoration-color: #d4b702\">│</span>                                                                                                                 <span style=\"color: #d4b702; text-decoration-color: #d4b702\">│</span>\n",
       "<span style=\"color: #d4b702; text-decoration-color: #d4b702\">│</span> <span style=\"font-weight: bold\">    Example 1:</span>                                                                                                  <span style=\"color: #d4b702; text-decoration-color: #d4b702\">│</span>\n",
       "<span style=\"color: #d4b702; text-decoration-color: #d4b702\">│</span> <span style=\"font-weight: bold\">    Input: \"Aspirin 100mg 1-0-1-0\"</span>                                                                              <span style=\"color: #d4b702; text-decoration-color: #d4b702\">│</span>\n",
       "<span style=\"color: #d4b702; text-decoration-color: #d4b702\">│</span> <span style=\"font-weight: bold\">    Output: [</span>                                                                                                   <span style=\"color: #d4b702; text-decoration-color: #d4b702\">│</span>\n",
       "<span style=\"color: #d4b702; text-decoration-color: #d4b702\">│</span> <span style=\"font-weight: bold\">        {\"patient_id\": 1, \"medication_reference\": \"Aspirin 100mg\", \"medication_name\": \"Aspirin\", </span>               <span style=\"color: #d4b702; text-decoration-color: #d4b702\">│</span>\n",
       "<span style=\"color: #d4b702; text-decoration-color: #d4b702\">│</span> <span style=\"font-weight: bold\">\"medication_translated\": \"Aspirin (acetylsalicylic acid)\", \"active_ingredient\": \"acetylsalicylic acid\", \"dose\":</span> <span style=\"color: #d4b702; text-decoration-color: #d4b702\">│</span>\n",
       "<span style=\"color: #d4b702; text-decoration-color: #d4b702\">│</span> <span style=\"font-weight: bold\">100, \"unit\": \"mg\", \"dosage_morning\": 1, \"dosage_noon\": 0, \"dosage_evening\": 1, \"dosage_night\": 0, </span>              <span style=\"color: #d4b702; text-decoration-color: #d4b702\">│</span>\n",
       "<span style=\"color: #d4b702; text-decoration-color: #d4b702\">│</span> <span style=\"font-weight: bold\">\"dosage_information\": \"\", \"rxcui\": \"\", \"atc_id\": \"\", \"atc_name\": \"\", \"atc_type\": \"\"}</span>                            <span style=\"color: #d4b702; text-decoration-color: #d4b702\">│</span>\n",
       "<span style=\"color: #d4b702; text-decoration-color: #d4b702\">│</span> <span style=\"font-weight: bold\">    \\]</span>                                                                                                          <span style=\"color: #d4b702; text-decoration-color: #d4b702\">│</span>\n",
       "<span style=\"color: #d4b702; text-decoration-color: #d4b702\">│</span> <span style=\"font-weight: bold\">    Example 2:</span>                                                                                                  <span style=\"color: #d4b702; text-decoration-color: #d4b702\">│</span>\n",
       "<span style=\"color: #d4b702; text-decoration-color: #d4b702\">│</span> <span style=\"font-weight: bold\">    Input: \"Paracetamol 500mg 1-0-0-0\"</span>                                                                          <span style=\"color: #d4b702; text-decoration-color: #d4b702\">│</span>\n",
       "<span style=\"color: #d4b702; text-decoration-color: #d4b702\">│</span> <span style=\"font-weight: bold\">    Output: [</span>                                                                                                   <span style=\"color: #d4b702; text-decoration-color: #d4b702\">│</span>\n",
       "<span style=\"color: #d4b702; text-decoration-color: #d4b702\">│</span> <span style=\"font-weight: bold\">        {\"patient_id\": 2, \"medication_reference\": \"Paracetamol 500mg\", \"medication_name\": \"Paracetamol\", </span>       <span style=\"color: #d4b702; text-decoration-color: #d4b702\">│</span>\n",
       "<span style=\"color: #d4b702; text-decoration-color: #d4b702\">│</span> <span style=\"font-weight: bold\">\"medication_translated\": \"Paracetamol (acetaminophen)\", \"active_ingredient\": \"acetaminophen\", \"dose\": 500, </span>     <span style=\"color: #d4b702; text-decoration-color: #d4b702\">│</span>\n",
       "<span style=\"color: #d4b702; text-decoration-color: #d4b702\">│</span> <span style=\"font-weight: bold\">\"unit\": \"mg\", \"dosage_morning\": 1, \"dosage_noon\": 0, \"dosage_evening\": 0, \"dosage_night\": 0, </span>                   <span style=\"color: #d4b702; text-decoration-color: #d4b702\">│</span>\n",
       "<span style=\"color: #d4b702; text-decoration-color: #d4b702\">│</span> <span style=\"font-weight: bold\">\"dosage_information\": \"\", \"rxcui\": \"\", \"atc_id\": \"\", \"atc_name\": \"\", \"atc_type\": \"\"}</span>                            <span style=\"color: #d4b702; text-decoration-color: #d4b702\">│</span>\n",
       "<span style=\"color: #d4b702; text-decoration-color: #d4b702\">│</span> <span style=\"font-weight: bold\">    \\]</span>                                                                                                          <span style=\"color: #d4b702; text-decoration-color: #d4b702\">│</span>\n",
       "<span style=\"color: #d4b702; text-decoration-color: #d4b702\">│</span> <span style=\"font-weight: bold\">    Example 3:</span>                                                                                                  <span style=\"color: #d4b702; text-decoration-color: #d4b702\">│</span>\n",
       "<span style=\"color: #d4b702; text-decoration-color: #d4b702\">│</span> <span style=\"font-weight: bold\">    Input: \"Ibuprofen 400mg 1-1-0-0\"</span>                                                                            <span style=\"color: #d4b702; text-decoration-color: #d4b702\">│</span>\n",
       "<span style=\"color: #d4b702; text-decoration-color: #d4b702\">│</span> <span style=\"font-weight: bold\">    Output: [</span>                                                                                                   <span style=\"color: #d4b702; text-decoration-color: #d4b702\">│</span>\n",
       "<span style=\"color: #d4b702; text-decoration-color: #d4b702\">│</span> <span style=\"font-weight: bold\">        {\"patient_id\": 3, \"medication_reference\": \"Ibuprofen 400mg\", \"medication_name\": \"Ibuprofen\", </span>           <span style=\"color: #d4b702; text-decoration-color: #d4b702\">│</span>\n",
       "<span style=\"color: #d4b702; text-decoration-color: #d4b702\">│</span> <span style=\"font-weight: bold\">\"medication_translated\": \"Ibuprofen (ibuprofen)\", \"active_ingredient\": \"ibuprofen\", \"dose\": 400, \"unit\": \"mg\", </span> <span style=\"color: #d4b702; text-decoration-color: #d4b702\">│</span>\n",
       "<span style=\"color: #d4b702; text-decoration-color: #d4b702\">│</span> <span style=\"font-weight: bold\">\"dosage_morning\": 1, \"dosage_noon\": 1, \"dosage_evening\": 0, \"dosage_night\": 0, \"dosage_information\": \"\", </span>       <span style=\"color: #d4b702; text-decoration-color: #d4b702\">│</span>\n",
       "<span style=\"color: #d4b702; text-decoration-color: #d4b702\">│</span> <span style=\"font-weight: bold\">\"rxcui\": \"\", \"atc_id\": \"\", \"atc_name\": \"\", \"atc_type\": \"\"}</span>                                                      <span style=\"color: #d4b702; text-decoration-color: #d4b702\">│</span>\n",
       "<span style=\"color: #d4b702; text-decoration-color: #d4b702\">│</span> <span style=\"font-weight: bold\">    \\]</span>                                                                                                          <span style=\"color: #d4b702; text-decoration-color: #d4b702\">│</span>\n",
       "<span style=\"color: #d4b702; text-decoration-color: #d4b702\">│</span> <span style=\"font-weight: bold\">    Example 4:</span>                                                                                                  <span style=\"color: #d4b702; text-decoration-color: #d4b702\">│</span>\n",
       "<span style=\"color: #d4b702; text-decoration-color: #d4b702\">│</span> <span style=\"font-weight: bold\">    Input: \"Piperacillin/Tazobactam 1g/1g 1-0-1-0\"</span>                                                              <span style=\"color: #d4b702; text-decoration-color: #d4b702\">│</span>\n",
       "<span style=\"color: #d4b702; text-decoration-color: #d4b702\">│</span> <span style=\"font-weight: bold\">    Output: [</span>                                                                                                   <span style=\"color: #d4b702; text-decoration-color: #d4b702\">│</span>\n",
       "<span style=\"color: #d4b702; text-decoration-color: #d4b702\">│</span> <span style=\"font-weight: bold\">        {\"patient_id\": 4, \"medication_reference\": \"Piperacillin/Tazobactam 1g/1g\", \"medication_name\": </span>          <span style=\"color: #d4b702; text-decoration-color: #d4b702\">│</span>\n",
       "<span style=\"color: #d4b702; text-decoration-color: #d4b702\">│</span> <span style=\"font-weight: bold\">\"Piperacillin\", \"medication_translated\": \"Piperacillin (piperacillin)\", \"active_ingredient\": \"piperacillin\", </span>   <span style=\"color: #d4b702; text-decoration-color: #d4b702\">│</span>\n",
       "<span style=\"color: #d4b702; text-decoration-color: #d4b702\">│</span> <span style=\"font-weight: bold\">\"dose\": 1000, \"unit\": \"mg\", \"dosage_morning\": 1, \"dosage_noon\": 0, \"dosage_evening\": 1, \"dosage_night\": 0, </span>     <span style=\"color: #d4b702; text-decoration-color: #d4b702\">│</span>\n",
       "<span style=\"color: #d4b702; text-decoration-color: #d4b702\">│</span> <span style=\"font-weight: bold\">\"dosage_information\": \"\", \"rxcui\": \"\", \"atc_id\": \"\", \"atc_name\": \"\", \"atc_type\": \"\"},</span>                           <span style=\"color: #d4b702; text-decoration-color: #d4b702\">│</span>\n",
       "<span style=\"color: #d4b702; text-decoration-color: #d4b702\">│</span> <span style=\"font-weight: bold\">        {\"patient_id\": 4, \"medication_reference\": \"Piperacillin/Tazobactam 1g/1g\", \"medication_name\": </span>          <span style=\"color: #d4b702; text-decoration-color: #d4b702\">│</span>\n",
       "<span style=\"color: #d4b702; text-decoration-color: #d4b702\">│</span> <span style=\"font-weight: bold\">\"Tazobactam\", \"medication_translated\": \"Tazobactam (tazobactam)\", \"active_ingredient\": \"tazobactam\", \"dose\": </span>   <span style=\"color: #d4b702; text-decoration-color: #d4b702\">│</span>\n",
       "<span style=\"color: #d4b702; text-decoration-color: #d4b702\">│</span> <span style=\"font-weight: bold\">1000, \"unit\": \"mg\", \"dosage_morning\": 1, \"dosage_noon\": 0, \"dosage_evening\": 1, \"dosage_night\": 0, </span>             <span style=\"color: #d4b702; text-decoration-color: #d4b702\">│</span>\n",
       "<span style=\"color: #d4b702; text-decoration-color: #d4b702\">│</span> <span style=\"font-weight: bold\">\"dosage_information\": \"\", \"rxcui\": \"\", \"atc_id\": \"\", \"atc_name\": \"\", \"atc_type\": \"\"}</span>                            <span style=\"color: #d4b702; text-decoration-color: #d4b702\">│</span>\n",
       "<span style=\"color: #d4b702; text-decoration-color: #d4b702\">│</span> <span style=\"font-weight: bold\">    \\]</span>                                                                                                          <span style=\"color: #d4b702; text-decoration-color: #d4b702\">│</span>\n",
       "<span style=\"color: #d4b702; text-decoration-color: #d4b702\">│</span> <span style=\"font-weight: bold\">    Example 5:</span>                                                                                                  <span style=\"color: #d4b702; text-decoration-color: #d4b702\">│</span>\n",
       "<span style=\"color: #d4b702; text-decoration-color: #d4b702\">│</span> <span style=\"font-weight: bold\">    Input: \"Tilidin 5mg bB\"</span>                                                                                     <span style=\"color: #d4b702; text-decoration-color: #d4b702\">│</span>\n",
       "<span style=\"color: #d4b702; text-decoration-color: #d4b702\">│</span> <span style=\"font-weight: bold\">    Output: [</span>                                                                                                   <span style=\"color: #d4b702; text-decoration-color: #d4b702\">│</span>\n",
       "<span style=\"color: #d4b702; text-decoration-color: #d4b702\">│</span> <span style=\"font-weight: bold\">        {\"patient_id\": 5, \"medication_reference\": \"Tilidin 5mg bB\", \"medication_name\": \"Tilidin\", </span>              <span style=\"color: #d4b702; text-decoration-color: #d4b702\">│</span>\n",
       "<span style=\"color: #d4b702; text-decoration-color: #d4b702\">│</span> <span style=\"font-weight: bold\">\"medication_translated\": \"Tilidin (tilidine)\", \"active_ingredient\": \"tilidine\", \"dose\": 5, \"unit\": \"mg\", </span>       <span style=\"color: #d4b702; text-decoration-color: #d4b702\">│</span>\n",
       "<span style=\"color: #d4b702; text-decoration-color: #d4b702\">│</span> <span style=\"font-weight: bold\">\"dosage_morning\": 0, \"dosage_noon\": 0, \"dosage_evening\": 0, \"dosage_night\": 0, \"dosage_information\": \"as </span>       <span style=\"color: #d4b702; text-decoration-color: #d4b702\">│</span>\n",
       "<span style=\"color: #d4b702; text-decoration-color: #d4b702\">│</span> <span style=\"font-weight: bold\">needed\", \"rxcui\": \"\", \"atc_id\": \"\", \"atc_name\": \"\", \"atc_type\": \"\"}</span>                                             <span style=\"color: #d4b702; text-decoration-color: #d4b702\">│</span>\n",
       "<span style=\"color: #d4b702; text-decoration-color: #d4b702\">│</span> <span style=\"font-weight: bold\">    \\]</span>                                                                                                          <span style=\"color: #d4b702; text-decoration-color: #d4b702\">│</span>\n",
       "<span style=\"color: #d4b702; text-decoration-color: #d4b702\">│</span> <span style=\"font-weight: bold\">    Example 6:</span>                                                                                                  <span style=\"color: #d4b702; text-decoration-color: #d4b702\">│</span>\n",
       "<span style=\"color: #d4b702; text-decoration-color: #d4b702\">│</span> <span style=\"font-weight: bold\">    Input: \"Amlodipin 5mg\"</span>                                                                                      <span style=\"color: #d4b702; text-decoration-color: #d4b702\">│</span>\n",
       "<span style=\"color: #d4b702; text-decoration-color: #d4b702\">│</span> <span style=\"font-weight: bold\">    Output: [</span>                                                                                                   <span style=\"color: #d4b702; text-decoration-color: #d4b702\">│</span>\n",
       "<span style=\"color: #d4b702; text-decoration-color: #d4b702\">│</span> <span style=\"font-weight: bold\">        {\"patient_id\": 6, \"medication_reference\": \"Amlodipin 5mg\", \"medication_name\": \"Amlodipin\", </span>             <span style=\"color: #d4b702; text-decoration-color: #d4b702\">│</span>\n",
       "<span style=\"color: #d4b702; text-decoration-color: #d4b702\">│</span> <span style=\"font-weight: bold\">\"medication_translated\": \"Amlodipine (amlodipine)\", \"active_ingredient\": \"amlodipine\", \"dose\": 5, \"unit\": \"mg\",</span> <span style=\"color: #d4b702; text-decoration-color: #d4b702\">│</span>\n",
       "<span style=\"color: #d4b702; text-decoration-color: #d4b702\">│</span> <span style=\"font-weight: bold\">\"dosage_morning\": np.nan, \"dosage_noon\": np.nan, \"dosage_evening\": np.nan, \"dosage_night\": np.nan, </span>             <span style=\"color: #d4b702; text-decoration-color: #d4b702\">│</span>\n",
       "<span style=\"color: #d4b702; text-decoration-color: #d4b702\">│</span> <span style=\"font-weight: bold\">\"dosage_information\": \"schedule unkown\", \"rxcui\": \"\", \"atc_id\": \"\", \"atc_name\": \"\", \"atc_type\": \"\"}</span>             <span style=\"color: #d4b702; text-decoration-color: #d4b702\">│</span>\n",
       "<span style=\"color: #d4b702; text-decoration-color: #d4b702\">│</span> <span style=\"font-weight: bold\">    \\]</span>                                                                                                          <span style=\"color: #d4b702; text-decoration-color: #d4b702\">│</span>\n",
       "<span style=\"color: #d4b702; text-decoration-color: #d4b702\">│</span>                                                                                                                 <span style=\"color: #d4b702; text-decoration-color: #d4b702\">│</span>\n",
       "<span style=\"color: #d4b702; text-decoration-color: #d4b702\">│</span> <span style=\"font-weight: bold\">    Columns:</span>                                                                                                    <span style=\"color: #d4b702; text-decoration-color: #d4b702\">│</span>\n",
       "<span style=\"color: #d4b702; text-decoration-color: #d4b702\">│</span> <span style=\"font-weight: bold\">    - patient_id: The patient ID.</span>                                                                               <span style=\"color: #d4b702; text-decoration-color: #d4b702\">│</span>\n",
       "<span style=\"color: #d4b702; text-decoration-color: #d4b702\">│</span> <span style=\"font-weight: bold\">    - medication_reference: The medication name in the document.</span>                                                <span style=\"color: #d4b702; text-decoration-color: #d4b702\">│</span>\n",
       "<span style=\"color: #d4b702; text-decoration-color: #d4b702\">│</span> <span style=\"font-weight: bold\">    - medication_name: The name of the medication in the document without dose, unit or additional information.</span> <span style=\"color: #d4b702; text-decoration-color: #d4b702\">│</span>\n",
       "<span style=\"color: #d4b702; text-decoration-color: #d4b702\">│</span> <span style=\"font-weight: bold\">    - medication_translated: The corrected name of the medication, translated to english. Use the following </span>    <span style=\"color: #d4b702; text-decoration-color: #d4b702\">│</span>\n",
       "<span style=\"color: #d4b702; text-decoration-color: #d4b702\">│</span> <span style=\"font-weight: bold\">format \"Brand name or medication name (active ingredient)\". e.g. \"Aspirin (acetylsalicylic acid)\".</span>              <span style=\"color: #d4b702; text-decoration-color: #d4b702\">│</span>\n",
       "<span style=\"color: #d4b702; text-decoration-color: #d4b702\">│</span> <span style=\"font-weight: bold\">    - active_ingredient: The active ingredient of the medication. if not applicable, write an empty string.</span>     <span style=\"color: #d4b702; text-decoration-color: #d4b702\">│</span>\n",
       "<span style=\"color: #d4b702; text-decoration-color: #d4b702\">│</span> <span style=\"font-weight: bold\">    - dose: The dose of the medication. this sould only contain the numeric value.</span>                              <span style=\"color: #d4b702; text-decoration-color: #d4b702\">│</span>\n",
       "<span style=\"color: #d4b702; text-decoration-color: #d4b702\">│</span> <span style=\"font-weight: bold\">    - unit: The unit of the dose (e.g. ml, mg, ...). if not applicable, write an empty string.</span>                  <span style=\"color: #d4b702; text-decoration-color: #d4b702\">│</span>\n",
       "<span style=\"color: #d4b702; text-decoration-color: #d4b702\">│</span> <span style=\"font-weight: bold\">    - dosage_morning: The dose in the morning. if not applicable, write a 0.</span>                                    <span style=\"color: #d4b702; text-decoration-color: #d4b702\">│</span>\n",
       "<span style=\"color: #d4b702; text-decoration-color: #d4b702\">│</span> <span style=\"font-weight: bold\">    - dosage_noon: The dose in the noon. if not applicable, write a 0.</span>                                          <span style=\"color: #d4b702; text-decoration-color: #d4b702\">│</span>\n",
       "<span style=\"color: #d4b702; text-decoration-color: #d4b702\">│</span> <span style=\"font-weight: bold\">    - dosage_evening: The dose in the evening. if not applicable, write a 0.</span>                                    <span style=\"color: #d4b702; text-decoration-color: #d4b702\">│</span>\n",
       "<span style=\"color: #d4b702; text-decoration-color: #d4b702\">│</span> <span style=\"font-weight: bold\">    - dosage_night: The dose in the night. if not applicable, write a 0.</span>                                        <span style=\"color: #d4b702; text-decoration-color: #d4b702\">│</span>\n",
       "<span style=\"color: #d4b702; text-decoration-color: #d4b702\">│</span> <span style=\"font-weight: bold\">    - dosage_information: Additional information about the dosage. if not applicable, write an empty string.</span>    <span style=\"color: #d4b702; text-decoration-color: #d4b702\">│</span>\n",
       "<span style=\"color: #d4b702; text-decoration-color: #d4b702\">│</span> <span style=\"font-weight: bold\">    - rxcui: The RXCUI of the medication. if not applicable, write an empty string.</span>                             <span style=\"color: #d4b702; text-decoration-color: #d4b702\">│</span>\n",
       "<span style=\"color: #d4b702; text-decoration-color: #d4b702\">│</span> <span style=\"font-weight: bold\">    - atc_id: The ATC code of the medication. if not applicable, write an empty string.</span>                         <span style=\"color: #d4b702; text-decoration-color: #d4b702\">│</span>\n",
       "<span style=\"color: #d4b702; text-decoration-color: #d4b702\">│</span> <span style=\"font-weight: bold\">    - atc_name: The name of the ATC code. if not applicable, write an empty string.</span>                             <span style=\"color: #d4b702; text-decoration-color: #d4b702\">│</span>\n",
       "<span style=\"color: #d4b702; text-decoration-color: #d4b702\">│</span> <span style=\"font-weight: bold\">    - atc_type: The type of the ATC code. if not applicable, write an empty string.</span>                             <span style=\"color: #d4b702; text-decoration-color: #d4b702\">│</span>\n",
       "<span style=\"color: #d4b702; text-decoration-color: #d4b702\">│</span>                                                                                                                 <span style=\"color: #d4b702; text-decoration-color: #d4b702\">│</span>\n",
       "<span style=\"color: #d4b702; text-decoration-color: #d4b702\">│</span>                                                                                                                 <span style=\"color: #d4b702; text-decoration-color: #d4b702\">│</span>\n",
       "<span style=\"color: #d4b702; text-decoration-color: #d4b702\">│</span> <span style=\"font-weight: bold\">--------------------------------------------------------------------------------</span>                                <span style=\"color: #d4b702; text-decoration-color: #d4b702\">│</span>\n",
       "<span style=\"color: #d4b702; text-decoration-color: #d4b702\">│</span> <span style=\"font-weight: bold\">Data: </span>                                                                                                          <span style=\"color: #d4b702; text-decoration-color: #d4b702\">│</span>\n",
       "<span style=\"color: #d4b702; text-decoration-color: #d4b702\">│</span> <span style=\"font-weight: bold\">    Patient: 4</span>                                                                                                  <span style=\"color: #d4b702; text-decoration-color: #d4b702\">│</span>\n",
       "<span style=\"color: #d4b702; text-decoration-color: #d4b702\">│</span> <span style=\"font-weight: bold\">    \"</span>                                                                                                           <span style=\"color: #d4b702; text-decoration-color: #d4b702\">│</span>\n",
       "<span style=\"color: #d4b702; text-decoration-color: #d4b702\">│</span> <span style=\"font-weight: bold\">    Pantoprazol 40 mg  0-0-1</span>                                                                                    <span style=\"color: #d4b702; text-decoration-color: #d4b702\">│</span>\n",
       "<span style=\"color: #d4b702; text-decoration-color: #d4b702\">│</span> <span style=\"font-weight: bold\">    \\</span>                                                                                                           <span style=\"color: #d4b702; text-decoration-color: #d4b702\">│</span>\n",
       "<span style=\"color: #d4b702; text-decoration-color: #d4b702\">│</span> <span style=\"font-weight: bold\">    HCT 25 mg   1-0-0</span>                                                                                           <span style=\"color: #d4b702; text-decoration-color: #d4b702\">│</span>\n",
       "<span style=\"color: #d4b702; text-decoration-color: #d4b702\">│</span> <span style=\"font-weight: bold\">    \\</span>                                                                                                           <span style=\"color: #d4b702; text-decoration-color: #d4b702\">│</span>\n",
       "<span style=\"color: #d4b702; text-decoration-color: #d4b702\">│</span> <span style=\"font-weight: bold\">    Bisoprolol 5 mg   1-0-0</span>                                                                                     <span style=\"color: #d4b702; text-decoration-color: #d4b702\">│</span>\n",
       "<span style=\"color: #d4b702; text-decoration-color: #d4b702\">│</span> <span style=\"font-weight: bold\">    \\</span>                                                                                                           <span style=\"color: #d4b702; text-decoration-color: #d4b702\">│</span>\n",
       "<span style=\"color: #d4b702; text-decoration-color: #d4b702\">│</span> <span style=\"font-weight: bold\">    Ramipril 5 mg   1-0-0</span>                                                                                       <span style=\"color: #d4b702; text-decoration-color: #d4b702\">│</span>\n",
       "<span style=\"color: #d4b702; text-decoration-color: #d4b702\">│</span> <span style=\"font-weight: bold\">    \\</span>                                                                                                           <span style=\"color: #d4b702; text-decoration-color: #d4b702\">│</span>\n",
       "<span style=\"color: #d4b702; text-decoration-color: #d4b702\">│</span> <span style=\"font-weight: bold\">    Torasemid 10 mg   1-0-0</span>                                                                                     <span style=\"color: #d4b702; text-decoration-color: #d4b702\">│</span>\n",
       "<span style=\"color: #d4b702; text-decoration-color: #d4b702\">│</span> <span style=\"font-weight: bold\">    \\</span>                                                                                                           <span style=\"color: #d4b702; text-decoration-color: #d4b702\">│</span>\n",
       "<span style=\"color: #d4b702; text-decoration-color: #d4b702\">│</span> <span style=\"font-weight: bold\">    Clopidogrel 75 mg   1-0-0</span>                                                                                   <span style=\"color: #d4b702; text-decoration-color: #d4b702\">│</span>\n",
       "<span style=\"color: #d4b702; text-decoration-color: #d4b702\">│</span> <span style=\"font-weight: bold\">    \\</span>                                                                                                           <span style=\"color: #d4b702; text-decoration-color: #d4b702\">│</span>\n",
       "<span style=\"color: #d4b702; text-decoration-color: #d4b702\">│</span> <span style=\"font-weight: bold\">    ASS 100  1-0-0</span>                                                                                              <span style=\"color: #d4b702; text-decoration-color: #d4b702\">│</span>\n",
       "<span style=\"color: #d4b702; text-decoration-color: #d4b702\">│</span> <span style=\"font-weight: bold\">    \\</span>                                                                                                           <span style=\"color: #d4b702; text-decoration-color: #d4b702\">│</span>\n",
       "<span style=\"color: #d4b702; text-decoration-color: #d4b702\">│</span> <span style=\"font-weight: bold\">    Macumar nach INR\"</span>                                                                                           <span style=\"color: #d4b702; text-decoration-color: #d4b702\">│</span>\n",
       "<span style=\"color: #d4b702; text-decoration-color: #d4b702\">│</span>                                                                                                                 <span style=\"color: #d4b702; text-decoration-color: #d4b702\">│</span>\n",
       "<span style=\"color: #d4b702; text-decoration-color: #d4b702\">╰─ AzureOpenAIServerModel - gpt-4o ───────────────────────────────────────────────────────────────────────────────╯</span>\n",
       "</pre>\n"
      ],
      "text/plain": [
       "\u001b[38;2;212;183;2m╭─\u001b[0m\u001b[38;2;212;183;2m───────────────────────────────────────────────────\u001b[0m\u001b[38;2;212;183;2m \u001b[0m\u001b[1;38;2;212;183;2mNew run\u001b[0m\u001b[38;2;212;183;2m \u001b[0m\u001b[38;2;212;183;2m───────────────────────────────────────────────────\u001b[0m\u001b[38;2;212;183;2m─╮\u001b[0m\n",
       "\u001b[38;2;212;183;2m│\u001b[0m                                                                                                                 \u001b[38;2;212;183;2m│\u001b[0m\n",
       "\u001b[38;2;212;183;2m│\u001b[0m \u001b[1mTask name: medication\u001b[0m                                                                                           \u001b[38;2;212;183;2m│\u001b[0m\n",
       "\u001b[38;2;212;183;2m│\u001b[0m \u001b[1mPrompt: \u001b[0m                                                                                                        \u001b[38;2;212;183;2m│\u001b[0m\n",
       "\u001b[38;2;212;183;2m│\u001b[0m \u001b[1m    Given a list of medications, save all medications for the patient as csv. The medications can be in any \u001b[0m    \u001b[38;2;212;183;2m│\u001b[0m\n",
       "\u001b[38;2;212;183;2m│\u001b[0m \u001b[1mlanguage. The medications are usually in the format of a list of medications, with dosage and unit as well as \u001b[0m  \u001b[38;2;212;183;2m│\u001b[0m\n",
       "\u001b[38;2;212;183;2m│\u001b[0m \u001b[1mtheir dosage timings (e.g. 1-0-1-0 for moring and evening but not noon or night). Every medication should have \u001b[0m \u001b[38;2;212;183;2m│\u001b[0m\n",
       "\u001b[38;2;212;183;2m│\u001b[0m \u001b[1ma single row, if there are multiple medications that can be extracted from a single piece of text, e.g. a \u001b[0m      \u001b[38;2;212;183;2m│\u001b[0m\n",
       "\u001b[38;2;212;183;2m│\u001b[0m \u001b[1mcombined medication, split them up. These are the steps you should follow to complete the task:\u001b[0m                 \u001b[38;2;212;183;2m│\u001b[0m\n",
       "\u001b[38;2;212;183;2m│\u001b[0m                                                                                                                 \u001b[38;2;212;183;2m│\u001b[0m\n",
       "\u001b[38;2;212;183;2m│\u001b[0m \u001b[1m    To complete the task make the following steps:\u001b[0m                                                              \u001b[38;2;212;183;2m│\u001b[0m\n",
       "\u001b[38;2;212;183;2m│\u001b[0m \u001b[1m    1. Extract the medications from the text. The medication can be in any language. This is the \u001b[0m               \u001b[38;2;212;183;2m│\u001b[0m\n",
       "\u001b[38;2;212;183;2m│\u001b[0m \u001b[1mmedication_reference column.\u001b[0m                                                                                    \u001b[38;2;212;183;2m│\u001b[0m\n",
       "\u001b[38;2;212;183;2m│\u001b[0m \u001b[1m    2. If the medication name is not in english, translate it to english and infer the medication_translated \u001b[0m   \u001b[38;2;212;183;2m│\u001b[0m\n",
       "\u001b[38;2;212;183;2m│\u001b[0m \u001b[1mcolumn. Correct any misspellings in the process. Use the following format \"Brand name or medication name \u001b[0m       \u001b[38;2;212;183;2m│\u001b[0m\n",
       "\u001b[38;2;212;183;2m│\u001b[0m \u001b[1m(active ingredient)\". e.g. \"Aspirin (acetylsalicylic acid)\".\u001b[0m                                                    \u001b[38;2;212;183;2m│\u001b[0m\n",
       "\u001b[38;2;212;183;2m│\u001b[0m \u001b[1m    3. Extract the active ingredient of the medication and loose everything that is not relevant. This is the \u001b[0m  \u001b[38;2;212;183;2m│\u001b[0m\n",
       "\u001b[38;2;212;183;2m│\u001b[0m \u001b[1mactive_ingredient column.\u001b[0m                                                                                       \u001b[38;2;212;183;2m│\u001b[0m\n",
       "\u001b[38;2;212;183;2m│\u001b[0m \u001b[1m    4. Extract the dose of the medication. This should only contain the numeric value. This is the dose column.\u001b[0m \u001b[38;2;212;183;2m│\u001b[0m\n",
       "\u001b[38;2;212;183;2m│\u001b[0m \u001b[1m    5. Extract the unit of the dose (e.g. ml, mg, ...). If possible, use mg. If not applicable, write an empty \u001b[0m \u001b[38;2;212;183;2m│\u001b[0m\n",
       "\u001b[38;2;212;183;2m│\u001b[0m \u001b[1mstring. This is the unit column.\u001b[0m                                                                                \u001b[38;2;212;183;2m│\u001b[0m\n",
       "\u001b[38;2;212;183;2m│\u001b[0m \u001b[1m    6. Extract the dosage timings of the medication. This is the dosage_morning, dosage_noon, dosage_evening \u001b[0m   \u001b[38;2;212;183;2m│\u001b[0m\n",
       "\u001b[38;2;212;183;2m│\u001b[0m \u001b[1mand dosage_night columns. If you see that the patient is not taking a medication at a certain time point, write\u001b[0m \u001b[38;2;212;183;2m│\u001b[0m\n",
       "\u001b[38;2;212;183;2m│\u001b[0m \u001b[1ma 0. If you are unsure or missing the information, leave empty.\u001b[0m                                                 \u001b[38;2;212;183;2m│\u001b[0m\n",
       "\u001b[38;2;212;183;2m│\u001b[0m \u001b[1m    7. Extract the dosage information of the medication. This is the dosage_information column. You can write \u001b[0m  \u001b[38;2;212;183;2m│\u001b[0m\n",
       "\u001b[38;2;212;183;2m│\u001b[0m \u001b[1many further information here that does not fit the description before. If you see an indication that this might\u001b[0m \u001b[38;2;212;183;2m│\u001b[0m\n",
       "\u001b[38;2;212;183;2m│\u001b[0m \u001b[1mbe a medication that is taken \"as needed\" write \"as needed\" here. If you weren't able to infer a medication \u001b[0m    \u001b[38;2;212;183;2m│\u001b[0m\n",
       "\u001b[38;2;212;183;2m│\u001b[0m \u001b[1mschedule in the task before, write \"schedule unkown\". If not applicable, write an empty string.\u001b[0m                 \u001b[38;2;212;183;2m│\u001b[0m\n",
       "\u001b[38;2;212;183;2m│\u001b[0m \u001b[1m    8. get the RXCUI for all medications. Use the active ingredient of the medications. If there are multiple \u001b[0m  \u001b[38;2;212;183;2m│\u001b[0m\n",
       "\u001b[38;2;212;183;2m│\u001b[0m \u001b[1mRXCUI codes, choose the one that fits the best to the translated medication. Usually, the first candidate with \u001b[0m \u001b[38;2;212;183;2m│\u001b[0m\n",
       "\u001b[38;2;212;183;2m│\u001b[0m \u001b[1ma score of 1 is the best choice, but you can decide otherwise if you have reasonable grounds for another \u001b[0m       \u001b[38;2;212;183;2m│\u001b[0m\n",
       "\u001b[38;2;212;183;2m│\u001b[0m \u001b[1mdecision. If there are no codes, write an empty string.\u001b[0m                                                         \u001b[38;2;212;183;2m│\u001b[0m\n",
       "\u001b[38;2;212;183;2m│\u001b[0m \u001b[1m    9. get the ATC code for all medications. Use the rxcui of the medications.\u001b[0m                                  \u001b[38;2;212;183;2m│\u001b[0m\n",
       "\u001b[38;2;212;183;2m│\u001b[0m \u001b[1m    10. save the medication information as csv with the columns defined below.\u001b[0m                                  \u001b[38;2;212;183;2m│\u001b[0m\n",
       "\u001b[38;2;212;183;2m│\u001b[0m                                                                                                                 \u001b[38;2;212;183;2m│\u001b[0m\n",
       "\u001b[38;2;212;183;2m│\u001b[0m \u001b[1m    Example 1:\u001b[0m                                                                                                  \u001b[38;2;212;183;2m│\u001b[0m\n",
       "\u001b[38;2;212;183;2m│\u001b[0m \u001b[1m    Input: \"Aspirin 100mg 1-0-1-0\"\u001b[0m                                                                              \u001b[38;2;212;183;2m│\u001b[0m\n",
       "\u001b[38;2;212;183;2m│\u001b[0m \u001b[1m    Output: [\u001b[0m                                                                                                   \u001b[38;2;212;183;2m│\u001b[0m\n",
       "\u001b[38;2;212;183;2m│\u001b[0m \u001b[1m        {\"patient_id\": 1, \"medication_reference\": \"Aspirin 100mg\", \"medication_name\": \"Aspirin\", \u001b[0m               \u001b[38;2;212;183;2m│\u001b[0m\n",
       "\u001b[38;2;212;183;2m│\u001b[0m \u001b[1m\"medication_translated\": \"Aspirin (acetylsalicylic acid)\", \"active_ingredient\": \"acetylsalicylic acid\", \"dose\":\u001b[0m \u001b[38;2;212;183;2m│\u001b[0m\n",
       "\u001b[38;2;212;183;2m│\u001b[0m \u001b[1m100, \"unit\": \"mg\", \"dosage_morning\": 1, \"dosage_noon\": 0, \"dosage_evening\": 1, \"dosage_night\": 0, \u001b[0m              \u001b[38;2;212;183;2m│\u001b[0m\n",
       "\u001b[38;2;212;183;2m│\u001b[0m \u001b[1m\"dosage_information\": \"\", \"rxcui\": \"\", \"atc_id\": \"\", \"atc_name\": \"\", \"atc_type\": \"\"}\u001b[0m                            \u001b[38;2;212;183;2m│\u001b[0m\n",
       "\u001b[38;2;212;183;2m│\u001b[0m \u001b[1m    \\]\u001b[0m                                                                                                          \u001b[38;2;212;183;2m│\u001b[0m\n",
       "\u001b[38;2;212;183;2m│\u001b[0m \u001b[1m    Example 2:\u001b[0m                                                                                                  \u001b[38;2;212;183;2m│\u001b[0m\n",
       "\u001b[38;2;212;183;2m│\u001b[0m \u001b[1m    Input: \"Paracetamol 500mg 1-0-0-0\"\u001b[0m                                                                          \u001b[38;2;212;183;2m│\u001b[0m\n",
       "\u001b[38;2;212;183;2m│\u001b[0m \u001b[1m    Output: [\u001b[0m                                                                                                   \u001b[38;2;212;183;2m│\u001b[0m\n",
       "\u001b[38;2;212;183;2m│\u001b[0m \u001b[1m        {\"patient_id\": 2, \"medication_reference\": \"Paracetamol 500mg\", \"medication_name\": \"Paracetamol\", \u001b[0m       \u001b[38;2;212;183;2m│\u001b[0m\n",
       "\u001b[38;2;212;183;2m│\u001b[0m \u001b[1m\"medication_translated\": \"Paracetamol (acetaminophen)\", \"active_ingredient\": \"acetaminophen\", \"dose\": 500, \u001b[0m     \u001b[38;2;212;183;2m│\u001b[0m\n",
       "\u001b[38;2;212;183;2m│\u001b[0m \u001b[1m\"unit\": \"mg\", \"dosage_morning\": 1, \"dosage_noon\": 0, \"dosage_evening\": 0, \"dosage_night\": 0, \u001b[0m                   \u001b[38;2;212;183;2m│\u001b[0m\n",
       "\u001b[38;2;212;183;2m│\u001b[0m \u001b[1m\"dosage_information\": \"\", \"rxcui\": \"\", \"atc_id\": \"\", \"atc_name\": \"\", \"atc_type\": \"\"}\u001b[0m                            \u001b[38;2;212;183;2m│\u001b[0m\n",
       "\u001b[38;2;212;183;2m│\u001b[0m \u001b[1m    \\]\u001b[0m                                                                                                          \u001b[38;2;212;183;2m│\u001b[0m\n",
       "\u001b[38;2;212;183;2m│\u001b[0m \u001b[1m    Example 3:\u001b[0m                                                                                                  \u001b[38;2;212;183;2m│\u001b[0m\n",
       "\u001b[38;2;212;183;2m│\u001b[0m \u001b[1m    Input: \"Ibuprofen 400mg 1-1-0-0\"\u001b[0m                                                                            \u001b[38;2;212;183;2m│\u001b[0m\n",
       "\u001b[38;2;212;183;2m│\u001b[0m \u001b[1m    Output: [\u001b[0m                                                                                                   \u001b[38;2;212;183;2m│\u001b[0m\n",
       "\u001b[38;2;212;183;2m│\u001b[0m \u001b[1m        {\"patient_id\": 3, \"medication_reference\": \"Ibuprofen 400mg\", \"medication_name\": \"Ibuprofen\", \u001b[0m           \u001b[38;2;212;183;2m│\u001b[0m\n",
       "\u001b[38;2;212;183;2m│\u001b[0m \u001b[1m\"medication_translated\": \"Ibuprofen (ibuprofen)\", \"active_ingredient\": \"ibuprofen\", \"dose\": 400, \"unit\": \"mg\", \u001b[0m \u001b[38;2;212;183;2m│\u001b[0m\n",
       "\u001b[38;2;212;183;2m│\u001b[0m \u001b[1m\"dosage_morning\": 1, \"dosage_noon\": 1, \"dosage_evening\": 0, \"dosage_night\": 0, \"dosage_information\": \"\", \u001b[0m       \u001b[38;2;212;183;2m│\u001b[0m\n",
       "\u001b[38;2;212;183;2m│\u001b[0m \u001b[1m\"rxcui\": \"\", \"atc_id\": \"\", \"atc_name\": \"\", \"atc_type\": \"\"}\u001b[0m                                                      \u001b[38;2;212;183;2m│\u001b[0m\n",
       "\u001b[38;2;212;183;2m│\u001b[0m \u001b[1m    \\]\u001b[0m                                                                                                          \u001b[38;2;212;183;2m│\u001b[0m\n",
       "\u001b[38;2;212;183;2m│\u001b[0m \u001b[1m    Example 4:\u001b[0m                                                                                                  \u001b[38;2;212;183;2m│\u001b[0m\n",
       "\u001b[38;2;212;183;2m│\u001b[0m \u001b[1m    Input: \"Piperacillin/Tazobactam 1g/1g 1-0-1-0\"\u001b[0m                                                              \u001b[38;2;212;183;2m│\u001b[0m\n",
       "\u001b[38;2;212;183;2m│\u001b[0m \u001b[1m    Output: [\u001b[0m                                                                                                   \u001b[38;2;212;183;2m│\u001b[0m\n",
       "\u001b[38;2;212;183;2m│\u001b[0m \u001b[1m        {\"patient_id\": 4, \"medication_reference\": \"Piperacillin/Tazobactam 1g/1g\", \"medication_name\": \u001b[0m          \u001b[38;2;212;183;2m│\u001b[0m\n",
       "\u001b[38;2;212;183;2m│\u001b[0m \u001b[1m\"Piperacillin\", \"medication_translated\": \"Piperacillin (piperacillin)\", \"active_ingredient\": \"piperacillin\", \u001b[0m   \u001b[38;2;212;183;2m│\u001b[0m\n",
       "\u001b[38;2;212;183;2m│\u001b[0m \u001b[1m\"dose\": 1000, \"unit\": \"mg\", \"dosage_morning\": 1, \"dosage_noon\": 0, \"dosage_evening\": 1, \"dosage_night\": 0, \u001b[0m     \u001b[38;2;212;183;2m│\u001b[0m\n",
       "\u001b[38;2;212;183;2m│\u001b[0m \u001b[1m\"dosage_information\": \"\", \"rxcui\": \"\", \"atc_id\": \"\", \"atc_name\": \"\", \"atc_type\": \"\"},\u001b[0m                           \u001b[38;2;212;183;2m│\u001b[0m\n",
       "\u001b[38;2;212;183;2m│\u001b[0m \u001b[1m        {\"patient_id\": 4, \"medication_reference\": \"Piperacillin/Tazobactam 1g/1g\", \"medication_name\": \u001b[0m          \u001b[38;2;212;183;2m│\u001b[0m\n",
       "\u001b[38;2;212;183;2m│\u001b[0m \u001b[1m\"Tazobactam\", \"medication_translated\": \"Tazobactam (tazobactam)\", \"active_ingredient\": \"tazobactam\", \"dose\": \u001b[0m   \u001b[38;2;212;183;2m│\u001b[0m\n",
       "\u001b[38;2;212;183;2m│\u001b[0m \u001b[1m1000, \"unit\": \"mg\", \"dosage_morning\": 1, \"dosage_noon\": 0, \"dosage_evening\": 1, \"dosage_night\": 0, \u001b[0m             \u001b[38;2;212;183;2m│\u001b[0m\n",
       "\u001b[38;2;212;183;2m│\u001b[0m \u001b[1m\"dosage_information\": \"\", \"rxcui\": \"\", \"atc_id\": \"\", \"atc_name\": \"\", \"atc_type\": \"\"}\u001b[0m                            \u001b[38;2;212;183;2m│\u001b[0m\n",
       "\u001b[38;2;212;183;2m│\u001b[0m \u001b[1m    \\]\u001b[0m                                                                                                          \u001b[38;2;212;183;2m│\u001b[0m\n",
       "\u001b[38;2;212;183;2m│\u001b[0m \u001b[1m    Example 5:\u001b[0m                                                                                                  \u001b[38;2;212;183;2m│\u001b[0m\n",
       "\u001b[38;2;212;183;2m│\u001b[0m \u001b[1m    Input: \"Tilidin 5mg bB\"\u001b[0m                                                                                     \u001b[38;2;212;183;2m│\u001b[0m\n",
       "\u001b[38;2;212;183;2m│\u001b[0m \u001b[1m    Output: [\u001b[0m                                                                                                   \u001b[38;2;212;183;2m│\u001b[0m\n",
       "\u001b[38;2;212;183;2m│\u001b[0m \u001b[1m        {\"patient_id\": 5, \"medication_reference\": \"Tilidin 5mg bB\", \"medication_name\": \"Tilidin\", \u001b[0m              \u001b[38;2;212;183;2m│\u001b[0m\n",
       "\u001b[38;2;212;183;2m│\u001b[0m \u001b[1m\"medication_translated\": \"Tilidin (tilidine)\", \"active_ingredient\": \"tilidine\", \"dose\": 5, \"unit\": \"mg\", \u001b[0m       \u001b[38;2;212;183;2m│\u001b[0m\n",
       "\u001b[38;2;212;183;2m│\u001b[0m \u001b[1m\"dosage_morning\": 0, \"dosage_noon\": 0, \"dosage_evening\": 0, \"dosage_night\": 0, \"dosage_information\": \"as \u001b[0m       \u001b[38;2;212;183;2m│\u001b[0m\n",
       "\u001b[38;2;212;183;2m│\u001b[0m \u001b[1mneeded\", \"rxcui\": \"\", \"atc_id\": \"\", \"atc_name\": \"\", \"atc_type\": \"\"}\u001b[0m                                             \u001b[38;2;212;183;2m│\u001b[0m\n",
       "\u001b[38;2;212;183;2m│\u001b[0m \u001b[1m    \\]\u001b[0m                                                                                                          \u001b[38;2;212;183;2m│\u001b[0m\n",
       "\u001b[38;2;212;183;2m│\u001b[0m \u001b[1m    Example 6:\u001b[0m                                                                                                  \u001b[38;2;212;183;2m│\u001b[0m\n",
       "\u001b[38;2;212;183;2m│\u001b[0m \u001b[1m    Input: \"Amlodipin 5mg\"\u001b[0m                                                                                      \u001b[38;2;212;183;2m│\u001b[0m\n",
       "\u001b[38;2;212;183;2m│\u001b[0m \u001b[1m    Output: [\u001b[0m                                                                                                   \u001b[38;2;212;183;2m│\u001b[0m\n",
       "\u001b[38;2;212;183;2m│\u001b[0m \u001b[1m        {\"patient_id\": 6, \"medication_reference\": \"Amlodipin 5mg\", \"medication_name\": \"Amlodipin\", \u001b[0m             \u001b[38;2;212;183;2m│\u001b[0m\n",
       "\u001b[38;2;212;183;2m│\u001b[0m \u001b[1m\"medication_translated\": \"Amlodipine (amlodipine)\", \"active_ingredient\": \"amlodipine\", \"dose\": 5, \"unit\": \"mg\",\u001b[0m \u001b[38;2;212;183;2m│\u001b[0m\n",
       "\u001b[38;2;212;183;2m│\u001b[0m \u001b[1m\"dosage_morning\": np.nan, \"dosage_noon\": np.nan, \"dosage_evening\": np.nan, \"dosage_night\": np.nan, \u001b[0m             \u001b[38;2;212;183;2m│\u001b[0m\n",
       "\u001b[38;2;212;183;2m│\u001b[0m \u001b[1m\"dosage_information\": \"schedule unkown\", \"rxcui\": \"\", \"atc_id\": \"\", \"atc_name\": \"\", \"atc_type\": \"\"}\u001b[0m             \u001b[38;2;212;183;2m│\u001b[0m\n",
       "\u001b[38;2;212;183;2m│\u001b[0m \u001b[1m    \\]\u001b[0m                                                                                                          \u001b[38;2;212;183;2m│\u001b[0m\n",
       "\u001b[38;2;212;183;2m│\u001b[0m                                                                                                                 \u001b[38;2;212;183;2m│\u001b[0m\n",
       "\u001b[38;2;212;183;2m│\u001b[0m \u001b[1m    Columns:\u001b[0m                                                                                                    \u001b[38;2;212;183;2m│\u001b[0m\n",
       "\u001b[38;2;212;183;2m│\u001b[0m \u001b[1m    - patient_id: The patient ID.\u001b[0m                                                                               \u001b[38;2;212;183;2m│\u001b[0m\n",
       "\u001b[38;2;212;183;2m│\u001b[0m \u001b[1m    - medication_reference: The medication name in the document.\u001b[0m                                                \u001b[38;2;212;183;2m│\u001b[0m\n",
       "\u001b[38;2;212;183;2m│\u001b[0m \u001b[1m    - medication_name: The name of the medication in the document without dose, unit or additional information.\u001b[0m \u001b[38;2;212;183;2m│\u001b[0m\n",
       "\u001b[38;2;212;183;2m│\u001b[0m \u001b[1m    - medication_translated: The corrected name of the medication, translated to english. Use the following \u001b[0m    \u001b[38;2;212;183;2m│\u001b[0m\n",
       "\u001b[38;2;212;183;2m│\u001b[0m \u001b[1mformat \"Brand name or medication name (active ingredient)\". e.g. \"Aspirin (acetylsalicylic acid)\".\u001b[0m              \u001b[38;2;212;183;2m│\u001b[0m\n",
       "\u001b[38;2;212;183;2m│\u001b[0m \u001b[1m    - active_ingredient: The active ingredient of the medication. if not applicable, write an empty string.\u001b[0m     \u001b[38;2;212;183;2m│\u001b[0m\n",
       "\u001b[38;2;212;183;2m│\u001b[0m \u001b[1m    - dose: The dose of the medication. this sould only contain the numeric value.\u001b[0m                              \u001b[38;2;212;183;2m│\u001b[0m\n",
       "\u001b[38;2;212;183;2m│\u001b[0m \u001b[1m    - unit: The unit of the dose (e.g. ml, mg, ...). if not applicable, write an empty string.\u001b[0m                  \u001b[38;2;212;183;2m│\u001b[0m\n",
       "\u001b[38;2;212;183;2m│\u001b[0m \u001b[1m    - dosage_morning: The dose in the morning. if not applicable, write a 0.\u001b[0m                                    \u001b[38;2;212;183;2m│\u001b[0m\n",
       "\u001b[38;2;212;183;2m│\u001b[0m \u001b[1m    - dosage_noon: The dose in the noon. if not applicable, write a 0.\u001b[0m                                          \u001b[38;2;212;183;2m│\u001b[0m\n",
       "\u001b[38;2;212;183;2m│\u001b[0m \u001b[1m    - dosage_evening: The dose in the evening. if not applicable, write a 0.\u001b[0m                                    \u001b[38;2;212;183;2m│\u001b[0m\n",
       "\u001b[38;2;212;183;2m│\u001b[0m \u001b[1m    - dosage_night: The dose in the night. if not applicable, write a 0.\u001b[0m                                        \u001b[38;2;212;183;2m│\u001b[0m\n",
       "\u001b[38;2;212;183;2m│\u001b[0m \u001b[1m    - dosage_information: Additional information about the dosage. if not applicable, write an empty string.\u001b[0m    \u001b[38;2;212;183;2m│\u001b[0m\n",
       "\u001b[38;2;212;183;2m│\u001b[0m \u001b[1m    - rxcui: The RXCUI of the medication. if not applicable, write an empty string.\u001b[0m                             \u001b[38;2;212;183;2m│\u001b[0m\n",
       "\u001b[38;2;212;183;2m│\u001b[0m \u001b[1m    - atc_id: The ATC code of the medication. if not applicable, write an empty string.\u001b[0m                         \u001b[38;2;212;183;2m│\u001b[0m\n",
       "\u001b[38;2;212;183;2m│\u001b[0m \u001b[1m    - atc_name: The name of the ATC code. if not applicable, write an empty string.\u001b[0m                             \u001b[38;2;212;183;2m│\u001b[0m\n",
       "\u001b[38;2;212;183;2m│\u001b[0m \u001b[1m    - atc_type: The type of the ATC code. if not applicable, write an empty string.\u001b[0m                             \u001b[38;2;212;183;2m│\u001b[0m\n",
       "\u001b[38;2;212;183;2m│\u001b[0m                                                                                                                 \u001b[38;2;212;183;2m│\u001b[0m\n",
       "\u001b[38;2;212;183;2m│\u001b[0m                                                                                                                 \u001b[38;2;212;183;2m│\u001b[0m\n",
       "\u001b[38;2;212;183;2m│\u001b[0m \u001b[1m--------------------------------------------------------------------------------\u001b[0m                                \u001b[38;2;212;183;2m│\u001b[0m\n",
       "\u001b[38;2;212;183;2m│\u001b[0m \u001b[1mData: \u001b[0m                                                                                                          \u001b[38;2;212;183;2m│\u001b[0m\n",
       "\u001b[38;2;212;183;2m│\u001b[0m \u001b[1m    Patient: 4\u001b[0m                                                                                                  \u001b[38;2;212;183;2m│\u001b[0m\n",
       "\u001b[38;2;212;183;2m│\u001b[0m \u001b[1m    \"\u001b[0m                                                                                                           \u001b[38;2;212;183;2m│\u001b[0m\n",
       "\u001b[38;2;212;183;2m│\u001b[0m \u001b[1m    Pantoprazol 40 mg  0-0-1\u001b[0m                                                                                    \u001b[38;2;212;183;2m│\u001b[0m\n",
       "\u001b[38;2;212;183;2m│\u001b[0m \u001b[1m    \\\u001b[0m                                                                                                           \u001b[38;2;212;183;2m│\u001b[0m\n",
       "\u001b[38;2;212;183;2m│\u001b[0m \u001b[1m    HCT 25 mg   1-0-0\u001b[0m                                                                                           \u001b[38;2;212;183;2m│\u001b[0m\n",
       "\u001b[38;2;212;183;2m│\u001b[0m \u001b[1m    \\\u001b[0m                                                                                                           \u001b[38;2;212;183;2m│\u001b[0m\n",
       "\u001b[38;2;212;183;2m│\u001b[0m \u001b[1m    Bisoprolol 5 mg   1-0-0\u001b[0m                                                                                     \u001b[38;2;212;183;2m│\u001b[0m\n",
       "\u001b[38;2;212;183;2m│\u001b[0m \u001b[1m    \\\u001b[0m                                                                                                           \u001b[38;2;212;183;2m│\u001b[0m\n",
       "\u001b[38;2;212;183;2m│\u001b[0m \u001b[1m    Ramipril 5 mg   1-0-0\u001b[0m                                                                                       \u001b[38;2;212;183;2m│\u001b[0m\n",
       "\u001b[38;2;212;183;2m│\u001b[0m \u001b[1m    \\\u001b[0m                                                                                                           \u001b[38;2;212;183;2m│\u001b[0m\n",
       "\u001b[38;2;212;183;2m│\u001b[0m \u001b[1m    Torasemid 10 mg   1-0-0\u001b[0m                                                                                     \u001b[38;2;212;183;2m│\u001b[0m\n",
       "\u001b[38;2;212;183;2m│\u001b[0m \u001b[1m    \\\u001b[0m                                                                                                           \u001b[38;2;212;183;2m│\u001b[0m\n",
       "\u001b[38;2;212;183;2m│\u001b[0m \u001b[1m    Clopidogrel 75 mg   1-0-0\u001b[0m                                                                                   \u001b[38;2;212;183;2m│\u001b[0m\n",
       "\u001b[38;2;212;183;2m│\u001b[0m \u001b[1m    \\\u001b[0m                                                                                                           \u001b[38;2;212;183;2m│\u001b[0m\n",
       "\u001b[38;2;212;183;2m│\u001b[0m \u001b[1m    ASS 100  1-0-0\u001b[0m                                                                                              \u001b[38;2;212;183;2m│\u001b[0m\n",
       "\u001b[38;2;212;183;2m│\u001b[0m \u001b[1m    \\\u001b[0m                                                                                                           \u001b[38;2;212;183;2m│\u001b[0m\n",
       "\u001b[38;2;212;183;2m│\u001b[0m \u001b[1m    Macumar nach INR\"\u001b[0m                                                                                           \u001b[38;2;212;183;2m│\u001b[0m\n",
       "\u001b[38;2;212;183;2m│\u001b[0m                                                                                                                 \u001b[38;2;212;183;2m│\u001b[0m\n",
       "\u001b[38;2;212;183;2m╰─\u001b[0m\u001b[38;2;212;183;2m AzureOpenAIServerModel - gpt-4o \u001b[0m\u001b[38;2;212;183;2m──────────────────────────────────────────────────────────────────────────────\u001b[0m\u001b[38;2;212;183;2m─╯\u001b[0m\n"
      ]
     },
     "metadata": {},
     "output_type": "display_data"
    },
    {
     "data": {
      "text/html": [
       "<pre style=\"white-space:pre;overflow-x:auto;line-height:normal;font-family:Menlo,'DejaVu Sans Mono',consolas,'Courier New',monospace\"><span style=\"color: #d4b702; text-decoration-color: #d4b702\">━━━━━━━━━━━━━━━━━━━━━━━━━━━━━━━━━━━━━━━━━━━━━━━━━━━━━ </span><span style=\"font-weight: bold\">Step </span><span style=\"color: #008080; text-decoration-color: #008080; font-weight: bold\">1</span><span style=\"color: #d4b702; text-decoration-color: #d4b702\"> ━━━━━━━━━━━━━━━━━━━━━━━━━━━━━━━━━━━━━━━━━━━━━━━━━━━━━━</span>\n",
       "</pre>\n"
      ],
      "text/plain": [
       "\u001b[38;2;212;183;2m━━━━━━━━━━━━━━━━━━━━━━━━━━━━━━━━━━━━━━━━━━━━━━━━━━━━━ \u001b[0m\u001b[1mStep \u001b[0m\u001b[1;36m1\u001b[0m\u001b[38;2;212;183;2m ━━━━━━━━━━━━━━━━━━━━━━━━━━━━━━━━━━━━━━━━━━━━━━━━━━━━━━\u001b[0m\n"
      ]
     },
     "metadata": {},
     "output_type": "display_data"
    },
    {
     "data": {
      "text/html": [
       "<pre style=\"white-space:pre;overflow-x:auto;line-height:normal;font-family:Menlo,'DejaVu Sans Mono',consolas,'Courier New',monospace\">╭─────────────────────────────────────────────────────────────────────────────────────────────────────────────────╮\n",
       "│ Calling tool: 'extract_medication_data' with arguments: {'data': [{'patient_id': 4, 'medication_name':          │\n",
       "│ 'Pantoprazol', 'medication_name_corrected': 'Pantoprazole (pantoprazole)', 'dose': 40, 'unit': 'mg',            │\n",
       "│ 'dosage_morning': 0, 'dosage_noon': 0, 'dosage_evening': 1, 'dosage_night': 0, 'dosage_information': ''},       │\n",
       "│ {'patient_id': 4, 'medication_name': 'HCT', 'medication_name_corrected': 'HCT (hydrochlorothiazide)', 'dose':   │\n",
       "│ 25, 'unit': 'mg', 'dosage_morning': 1, 'dosage_noon': 0, 'dosage_evening': 0, 'dosage_night': 0,                │\n",
       "│ 'dosage_information': ''}, {'patient_id': 4, 'medication_name': 'Bisoprolol', 'medication_name_corrected':      │\n",
       "│ 'Bisoprolol (bisoprolol)', 'dose': 5, 'unit': 'mg', 'dosage_morning': 1, 'dosage_noon': 0, 'dosage_evening': 0, │\n",
       "│ 'dosage_night': 0, 'dosage_information': ''}, {'patient_id': 4, 'medication_name': 'Ramipril',                  │\n",
       "│ 'medication_name_corrected': 'Ramipril (ramipril)', 'dose': 5, 'unit': 'mg', 'dosage_morning': 1,               │\n",
       "│ 'dosage_noon': 0, 'dosage_evening': 0, 'dosage_night': 0, 'dosage_information': ''}, {'patient_id': 4,          │\n",
       "│ 'medication_name': 'Torasemid', 'medication_name_corrected': 'Torasemide (torasemide)', 'dose': 10, 'unit':     │\n",
       "│ 'mg', 'dosage_morning': 1, 'dosage_noon': 0, 'dosage_evening': 0, 'dosage_night': 0, 'dosage_information': ''}, │\n",
       "│ {'patient_id': 4, 'medication_name': 'Clopidogrel', 'medication_name_corrected': 'Clopidogrel (clopidogrel)',   │\n",
       "│ 'dose': 75, 'unit': 'mg', 'dosage_morning': 1, 'dosage_noon': 0, 'dosage_evening': 0, 'dosage_night': 0,        │\n",
       "│ 'dosage_information': ''}, {'patient_id': 4, 'medication_name': 'ASS', 'medication_name_corrected': 'Aspirin    │\n",
       "│ (acetylsalicylic acid)', 'dose': 100, 'unit': 'mg', 'dosage_morning': 1, 'dosage_noon': 0, 'dosage_evening': 0, │\n",
       "│ 'dosage_night': 0, 'dosage_information': ''}, {'patient_id': 4, 'medication_name': 'Macumar',                   │\n",
       "│ 'medication_name_corrected': 'Macumar (phenprocoumon)', 'dose': 0, 'unit': '', 'dosage_morning': 0,             │\n",
       "│ 'dosage_noon': 0, 'dosage_evening': 0, 'dosage_night': 0, 'dosage_information': 'schedule unknown'}]}           │\n",
       "╰─────────────────────────────────────────────────────────────────────────────────────────────────────────────────╯\n",
       "</pre>\n"
      ],
      "text/plain": [
       "╭─────────────────────────────────────────────────────────────────────────────────────────────────────────────────╮\n",
       "│ Calling tool: 'extract_medication_data' with arguments: {'data': [{'patient_id': 4, 'medication_name':          │\n",
       "│ 'Pantoprazol', 'medication_name_corrected': 'Pantoprazole (pantoprazole)', 'dose': 40, 'unit': 'mg',            │\n",
       "│ 'dosage_morning': 0, 'dosage_noon': 0, 'dosage_evening': 1, 'dosage_night': 0, 'dosage_information': ''},       │\n",
       "│ {'patient_id': 4, 'medication_name': 'HCT', 'medication_name_corrected': 'HCT (hydrochlorothiazide)', 'dose':   │\n",
       "│ 25, 'unit': 'mg', 'dosage_morning': 1, 'dosage_noon': 0, 'dosage_evening': 0, 'dosage_night': 0,                │\n",
       "│ 'dosage_information': ''}, {'patient_id': 4, 'medication_name': 'Bisoprolol', 'medication_name_corrected':      │\n",
       "│ 'Bisoprolol (bisoprolol)', 'dose': 5, 'unit': 'mg', 'dosage_morning': 1, 'dosage_noon': 0, 'dosage_evening': 0, │\n",
       "│ 'dosage_night': 0, 'dosage_information': ''}, {'patient_id': 4, 'medication_name': 'Ramipril',                  │\n",
       "│ 'medication_name_corrected': 'Ramipril (ramipril)', 'dose': 5, 'unit': 'mg', 'dosage_morning': 1,               │\n",
       "│ 'dosage_noon': 0, 'dosage_evening': 0, 'dosage_night': 0, 'dosage_information': ''}, {'patient_id': 4,          │\n",
       "│ 'medication_name': 'Torasemid', 'medication_name_corrected': 'Torasemide (torasemide)', 'dose': 10, 'unit':     │\n",
       "│ 'mg', 'dosage_morning': 1, 'dosage_noon': 0, 'dosage_evening': 0, 'dosage_night': 0, 'dosage_information': ''}, │\n",
       "│ {'patient_id': 4, 'medication_name': 'Clopidogrel', 'medication_name_corrected': 'Clopidogrel (clopidogrel)',   │\n",
       "│ 'dose': 75, 'unit': 'mg', 'dosage_morning': 1, 'dosage_noon': 0, 'dosage_evening': 0, 'dosage_night': 0,        │\n",
       "│ 'dosage_information': ''}, {'patient_id': 4, 'medication_name': 'ASS', 'medication_name_corrected': 'Aspirin    │\n",
       "│ (acetylsalicylic acid)', 'dose': 100, 'unit': 'mg', 'dosage_morning': 1, 'dosage_noon': 0, 'dosage_evening': 0, │\n",
       "│ 'dosage_night': 0, 'dosage_information': ''}, {'patient_id': 4, 'medication_name': 'Macumar',                   │\n",
       "│ 'medication_name_corrected': 'Macumar (phenprocoumon)', 'dose': 0, 'unit': '', 'dosage_morning': 0,             │\n",
       "│ 'dosage_noon': 0, 'dosage_evening': 0, 'dosage_night': 0, 'dosage_information': 'schedule unknown'}]}           │\n",
       "╰─────────────────────────────────────────────────────────────────────────────────────────────────────────────────╯\n"
      ]
     },
     "metadata": {},
     "output_type": "display_data"
    },
    {
     "data": {
      "text/html": [
       "<pre style=\"white-space:pre;overflow-x:auto;line-height:normal;font-family:Menlo,'DejaVu Sans Mono',consolas,'Courier New',monospace\">Observations: |<span style=\"font-weight: bold\">{</span><span style=\"color: #008000; text-decoration-color: #008000\">'patient_id'</span>: <span style=\"color: #008080; text-decoration-color: #008080; font-weight: bold\">4</span>, <span style=\"color: #008000; text-decoration-color: #008000\">'medication_name'</span>: <span style=\"color: #008000; text-decoration-color: #008000\">'Pantoprazol'</span>, <span style=\"color: #008000; text-decoration-color: #008000\">'medication_name_corrected'</span>: <span style=\"color: #008000; text-decoration-color: #008000\">'Pantoprazole </span>\n",
       "<span style=\"color: #008000; text-decoration-color: #008000\">(pantoprazole)'</span>, <span style=\"color: #008000; text-decoration-color: #008000\">'dose'</span>: <span style=\"color: #008080; text-decoration-color: #008080; font-weight: bold\">40</span>, <span style=\"color: #008000; text-decoration-color: #008000\">'unit'</span>: <span style=\"color: #008000; text-decoration-color: #008000\">'mg'</span>, <span style=\"color: #008000; text-decoration-color: #008000\">'dosage_morning'</span>: <span style=\"color: #008080; text-decoration-color: #008080; font-weight: bold\">0</span>, <span style=\"color: #008000; text-decoration-color: #008000\">'dosage_noon'</span>: <span style=\"color: #008080; text-decoration-color: #008080; font-weight: bold\">0</span>, <span style=\"color: #008000; text-decoration-color: #008000\">'dosage_evening'</span>: <span style=\"color: #008080; text-decoration-color: #008080; font-weight: bold\">1</span>, \n",
       "<span style=\"color: #008000; text-decoration-color: #008000\">'dosage_night'</span>: <span style=\"color: #008080; text-decoration-color: #008080; font-weight: bold\">0</span>, <span style=\"color: #008000; text-decoration-color: #008000\">'dosage_information'</span>: <span style=\"color: #008000; text-decoration-color: #008000\">''</span><span style=\"font-weight: bold\">}</span>, <span style=\"font-weight: bold\">{</span><span style=\"color: #008000; text-decoration-color: #008000\">'patient_id'</span>: <span style=\"color: #008080; text-decoration-color: #008080; font-weight: bold\">4</span>, <span style=\"color: #008000; text-decoration-color: #008000\">'medication_name'</span>: <span style=\"color: #008000; text-decoration-color: #008000\">'HCT'</span>, \n",
       "<span style=\"color: #008000; text-decoration-color: #008000\">'medication_name_corrected'</span>: <span style=\"color: #008000; text-decoration-color: #008000\">'HCT (hydrochlorothiazide)'</span>, <span style=\"color: #008000; text-decoration-color: #008000\">'dose'</span>: <span style=\"color: #008080; text-decoration-color: #008080; font-weight: bold\">25</span>, <span style=\"color: #008000; text-decoration-color: #008000\">'unit'</span>: <span style=\"color: #008000; text-decoration-color: #008000\">'mg'</span>, <span style=\"color: #008000; text-decoration-color: #008000\">'dosage_morning'</span>: <span style=\"color: #008080; text-decoration-color: #008080; font-weight: bold\">1</span>, \n",
       "<span style=\"color: #008000; text-decoration-color: #008000\">'dosage_noon'</span>: <span style=\"color: #008080; text-decoration-color: #008080; font-weight: bold\">0</span>, <span style=\"color: #008000; text-decoration-color: #008000\">'dosage_evening'</span>: <span style=\"color: #008080; text-decoration-color: #008080; font-weight: bold\">0</span>, <span style=\"color: #008000; text-decoration-color: #008000\">'dosage_night'</span>: <span style=\"color: #008080; text-decoration-color: #008080; font-weight: bold\">0</span>, <span style=\"color: #008000; text-decoration-color: #008000\">'dosage_information'</span>: <span style=\"color: #008000; text-decoration-color: #008000\">''</span><span style=\"font-weight: bold\">}</span>, <span style=\"font-weight: bold\">{</span><span style=\"color: #008000; text-decoration-color: #008000\">'patient_id'</span>: <span style=\"color: #008080; text-decoration-color: #008080; font-weight: bold\">4</span>, \n",
       "<span style=\"color: #008000; text-decoration-color: #008000\">'medication_name'</span>: <span style=\"color: #008000; text-decoration-color: #008000\">'Bisoprolol'</span>, <span style=\"color: #008000; text-decoration-color: #008000\">'medication_name_corrected'</span>: <span style=\"color: #008000; text-decoration-color: #008000\">'Bisoprolol (bisoprolol)'</span>, <span style=\"color: #008000; text-decoration-color: #008000\">'dose'</span>: <span style=\"color: #008080; text-decoration-color: #008080; font-weight: bold\">5</span>, <span style=\"color: #008000; text-decoration-color: #008000\">'unit'</span>: <span style=\"color: #008000; text-decoration-color: #008000\">'mg'</span>, \n",
       "<span style=\"color: #008000; text-decoration-color: #008000\">'dosage_morning'</span>: <span style=\"color: #008080; text-decoration-color: #008080; font-weight: bold\">1</span>, <span style=\"color: #008000; text-decoration-color: #008000\">'dosage_noon'</span>: <span style=\"color: #008080; text-decoration-color: #008080; font-weight: bold\">0</span>, <span style=\"color: #008000; text-decoration-color: #008000\">'dosage_evening'</span>: <span style=\"color: #008080; text-decoration-color: #008080; font-weight: bold\">0</span>, <span style=\"color: #008000; text-decoration-color: #008000\">'dosage_night'</span>: <span style=\"color: #008080; text-decoration-color: #008080; font-weight: bold\">0</span>, <span style=\"color: #008000; text-decoration-color: #008000\">'dosage_information'</span>: <span style=\"color: #008000; text-decoration-color: #008000\">''</span><span style=\"font-weight: bold\">}</span>, \n",
       "<span style=\"font-weight: bold\">{</span><span style=\"color: #008000; text-decoration-color: #008000\">'patient_id'</span>: <span style=\"color: #008080; text-decoration-color: #008080; font-weight: bold\">4</span>, <span style=\"color: #008000; text-decoration-color: #008000\">'medication_name'</span>: <span style=\"color: #008000; text-decoration-color: #008000\">'Ramipril'</span>, <span style=\"color: #008000; text-decoration-color: #008000\">'medication_name_corrected'</span>: <span style=\"color: #008000; text-decoration-color: #008000\">'Ramipril (ramipril)'</span>, <span style=\"color: #008000; text-decoration-color: #008000\">'dose'</span>: <span style=\"color: #008080; text-decoration-color: #008080; font-weight: bold\">5</span>, \n",
       "<span style=\"color: #008000; text-decoration-color: #008000\">'unit'</span>: <span style=\"color: #008000; text-decoration-color: #008000\">'mg'</span>, <span style=\"color: #008000; text-decoration-color: #008000\">'dosage_morning'</span>: <span style=\"color: #008080; text-decoration-color: #008080; font-weight: bold\">1</span>, <span style=\"color: #008000; text-decoration-color: #008000\">'dosage_noon'</span>: <span style=\"color: #008080; text-decoration-color: #008080; font-weight: bold\">0</span>, <span style=\"color: #008000; text-decoration-color: #008000\">'dosage_evening'</span>: <span style=\"color: #008080; text-decoration-color: #008080; font-weight: bold\">0</span>, <span style=\"color: #008000; text-decoration-color: #008000\">'dosage_night'</span>: <span style=\"color: #008080; text-decoration-color: #008080; font-weight: bold\">0</span>, <span style=\"color: #008000; text-decoration-color: #008000\">'dosage_information'</span>: \n",
       "<span style=\"color: #008000; text-decoration-color: #008000\">''</span><span style=\"font-weight: bold\">}</span>, <span style=\"font-weight: bold\">{</span><span style=\"color: #008000; text-decoration-color: #008000\">'patient_id'</span>: <span style=\"color: #008080; text-decoration-color: #008080; font-weight: bold\">4</span>, <span style=\"color: #008000; text-decoration-color: #008000\">'medication_name'</span>: <span style=\"color: #008000; text-decoration-color: #008000\">'Torasemid'</span>, <span style=\"color: #008000; text-decoration-color: #008000\">'medication_name_corrected'</span>: <span style=\"color: #008000; text-decoration-color: #008000\">'Torasemide (torasemide)'</span>, \n",
       "<span style=\"color: #008000; text-decoration-color: #008000\">'dose'</span>: <span style=\"color: #008080; text-decoration-color: #008080; font-weight: bold\">10</span>, <span style=\"color: #008000; text-decoration-color: #008000\">'unit'</span>: <span style=\"color: #008000; text-decoration-color: #008000\">'mg'</span>, <span style=\"color: #008000; text-decoration-color: #008000\">'dosage_morning'</span>: <span style=\"color: #008080; text-decoration-color: #008080; font-weight: bold\">1</span>, <span style=\"color: #008000; text-decoration-color: #008000\">'dosage_noon'</span>: <span style=\"color: #008080; text-decoration-color: #008080; font-weight: bold\">0</span>, <span style=\"color: #008000; text-decoration-color: #008000\">'dosage_evening'</span>: <span style=\"color: #008080; text-decoration-color: #008080; font-weight: bold\">0</span>, <span style=\"color: #008000; text-decoration-color: #008000\">'dosage_night'</span>: <span style=\"color: #008080; text-decoration-color: #008080; font-weight: bold\">0</span>, \n",
       "<span style=\"color: #008000; text-decoration-color: #008000\">'dosage_information'</span>: <span style=\"color: #008000; text-decoration-color: #008000\">''</span><span style=\"font-weight: bold\">}</span>, <span style=\"font-weight: bold\">{</span><span style=\"color: #008000; text-decoration-color: #008000\">'patient_id'</span>: <span style=\"color: #008080; text-decoration-color: #008080; font-weight: bold\">4</span>, <span style=\"color: #008000; text-decoration-color: #008000\">'medication_name'</span>: <span style=\"color: #008000; text-decoration-color: #008000\">'Clopidogrel'</span>, <span style=\"color: #008000; text-decoration-color: #008000\">'medication_name_corrected'</span>: \n",
       "<span style=\"color: #008000; text-decoration-color: #008000\">'Clopidogrel (clopidogrel)'</span>, <span style=\"color: #008000; text-decoration-color: #008000\">'dose'</span>: <span style=\"color: #008080; text-decoration-color: #008080; font-weight: bold\">75</span>, <span style=\"color: #008000; text-decoration-color: #008000\">'unit'</span>: <span style=\"color: #008000; text-decoration-color: #008000\">'mg'</span>, <span style=\"color: #008000; text-decoration-color: #008000\">'dosage_morning'</span>: <span style=\"color: #008080; text-decoration-color: #008080; font-weight: bold\">1</span>, <span style=\"color: #008000; text-decoration-color: #008000\">'dosage_noon'</span>: <span style=\"color: #008080; text-decoration-color: #008080; font-weight: bold\">0</span>, <span style=\"color: #008000; text-decoration-color: #008000\">'dosage_evening'</span>: <span style=\"color: #008080; text-decoration-color: #008080; font-weight: bold\">0</span>, \n",
       "<span style=\"color: #008000; text-decoration-color: #008000\">'dosage_night'</span>: <span style=\"color: #008080; text-decoration-color: #008080; font-weight: bold\">0</span>, <span style=\"color: #008000; text-decoration-color: #008000\">'dosage_information'</span>: <span style=\"color: #008000; text-decoration-color: #008000\">''</span><span style=\"font-weight: bold\">}</span>, <span style=\"font-weight: bold\">{</span><span style=\"color: #008000; text-decoration-color: #008000\">'patient_id'</span>: <span style=\"color: #008080; text-decoration-color: #008080; font-weight: bold\">4</span>, <span style=\"color: #008000; text-decoration-color: #008000\">'medication_name'</span>: <span style=\"color: #008000; text-decoration-color: #008000\">'ASS'</span>, \n",
       "<span style=\"color: #008000; text-decoration-color: #008000\">'medication_name_corrected'</span>: <span style=\"color: #008000; text-decoration-color: #008000\">'Aspirin (acetylsalicylic acid)'</span>, <span style=\"color: #008000; text-decoration-color: #008000\">'dose'</span>: <span style=\"color: #008080; text-decoration-color: #008080; font-weight: bold\">100</span>, <span style=\"color: #008000; text-decoration-color: #008000\">'unit'</span>: <span style=\"color: #008000; text-decoration-color: #008000\">'mg'</span>, <span style=\"color: #008000; text-decoration-color: #008000\">'dosage_morning'</span>: <span style=\"color: #008080; text-decoration-color: #008080; font-weight: bold\">1</span>, \n",
       "<span style=\"color: #008000; text-decoration-color: #008000\">'dosage_noon'</span>: <span style=\"color: #008080; text-decoration-color: #008080; font-weight: bold\">0</span>, <span style=\"color: #008000; text-decoration-color: #008000\">'dosage_evening'</span>: <span style=\"color: #008080; text-decoration-color: #008080; font-weight: bold\">0</span>, <span style=\"color: #008000; text-decoration-color: #008000\">'dosage_night'</span>: <span style=\"color: #008080; text-decoration-color: #008080; font-weight: bold\">0</span>, <span style=\"color: #008000; text-decoration-color: #008000\">'dosage_information'</span>: <span style=\"color: #008000; text-decoration-color: #008000\">''</span><span style=\"font-weight: bold\">}</span>, <span style=\"font-weight: bold\">{</span><span style=\"color: #008000; text-decoration-color: #008000\">'patient_id'</span>: <span style=\"color: #008080; text-decoration-color: #008080; font-weight: bold\">4</span>, \n",
       "<span style=\"color: #008000; text-decoration-color: #008000\">'medication_name'</span>: <span style=\"color: #008000; text-decoration-color: #008000\">'Macumar'</span>, <span style=\"color: #008000; text-decoration-color: #008000\">'medication_name_corrected'</span>: <span style=\"color: #008000; text-decoration-color: #008000\">'Macumar (phenprocoumon)'</span>, <span style=\"color: #008000; text-decoration-color: #008000\">'dose'</span>: <span style=\"color: #008080; text-decoration-color: #008080; font-weight: bold\">0</span>, <span style=\"color: #008000; text-decoration-color: #008000\">'unit'</span>: <span style=\"color: #008000; text-decoration-color: #008000\">''</span>, \n",
       "<span style=\"color: #008000; text-decoration-color: #008000\">'dosage_morning'</span>: <span style=\"color: #008080; text-decoration-color: #008080; font-weight: bold\">0</span>, <span style=\"color: #008000; text-decoration-color: #008000\">'dosage_noon'</span>: <span style=\"color: #008080; text-decoration-color: #008080; font-weight: bold\">0</span>, <span style=\"color: #008000; text-decoration-color: #008000\">'dosage_evening'</span>: <span style=\"color: #008080; text-decoration-color: #008080; font-weight: bold\">0</span>, <span style=\"color: #008000; text-decoration-color: #008000\">'dosage_night'</span>: <span style=\"color: #008080; text-decoration-color: #008080; font-weight: bold\">0</span>, <span style=\"color: #008000; text-decoration-color: #008000\">'dosage_information'</span>: <span style=\"color: #008000; text-decoration-color: #008000\">'schedule </span>\n",
       "<span style=\"color: #008000; text-decoration-color: #008000\">unknown'</span><span style=\"font-weight: bold\">}]</span>\n",
       "</pre>\n"
      ],
      "text/plain": [
       "Observations: |\u001b[1m{\u001b[0m\u001b[32m'patient_id'\u001b[0m: \u001b[1;36m4\u001b[0m, \u001b[32m'medication_name'\u001b[0m: \u001b[32m'Pantoprazol'\u001b[0m, \u001b[32m'medication_name_corrected'\u001b[0m: \u001b[32m'Pantoprazole \u001b[0m\n",
       "\u001b[32m(\u001b[0m\u001b[32mpantoprazole\u001b[0m\u001b[32m)\u001b[0m\u001b[32m'\u001b[0m, \u001b[32m'dose'\u001b[0m: \u001b[1;36m40\u001b[0m, \u001b[32m'unit'\u001b[0m: \u001b[32m'mg'\u001b[0m, \u001b[32m'dosage_morning'\u001b[0m: \u001b[1;36m0\u001b[0m, \u001b[32m'dosage_noon'\u001b[0m: \u001b[1;36m0\u001b[0m, \u001b[32m'dosage_evening'\u001b[0m: \u001b[1;36m1\u001b[0m, \n",
       "\u001b[32m'dosage_night'\u001b[0m: \u001b[1;36m0\u001b[0m, \u001b[32m'dosage_information'\u001b[0m: \u001b[32m''\u001b[0m\u001b[1m}\u001b[0m, \u001b[1m{\u001b[0m\u001b[32m'patient_id'\u001b[0m: \u001b[1;36m4\u001b[0m, \u001b[32m'medication_name'\u001b[0m: \u001b[32m'HCT'\u001b[0m, \n",
       "\u001b[32m'medication_name_corrected'\u001b[0m: \u001b[32m'HCT \u001b[0m\u001b[32m(\u001b[0m\u001b[32mhydrochlorothiazide\u001b[0m\u001b[32m)\u001b[0m\u001b[32m'\u001b[0m, \u001b[32m'dose'\u001b[0m: \u001b[1;36m25\u001b[0m, \u001b[32m'unit'\u001b[0m: \u001b[32m'mg'\u001b[0m, \u001b[32m'dosage_morning'\u001b[0m: \u001b[1;36m1\u001b[0m, \n",
       "\u001b[32m'dosage_noon'\u001b[0m: \u001b[1;36m0\u001b[0m, \u001b[32m'dosage_evening'\u001b[0m: \u001b[1;36m0\u001b[0m, \u001b[32m'dosage_night'\u001b[0m: \u001b[1;36m0\u001b[0m, \u001b[32m'dosage_information'\u001b[0m: \u001b[32m''\u001b[0m\u001b[1m}\u001b[0m, \u001b[1m{\u001b[0m\u001b[32m'patient_id'\u001b[0m: \u001b[1;36m4\u001b[0m, \n",
       "\u001b[32m'medication_name'\u001b[0m: \u001b[32m'Bisoprolol'\u001b[0m, \u001b[32m'medication_name_corrected'\u001b[0m: \u001b[32m'Bisoprolol \u001b[0m\u001b[32m(\u001b[0m\u001b[32mbisoprolol\u001b[0m\u001b[32m)\u001b[0m\u001b[32m'\u001b[0m, \u001b[32m'dose'\u001b[0m: \u001b[1;36m5\u001b[0m, \u001b[32m'unit'\u001b[0m: \u001b[32m'mg'\u001b[0m, \n",
       "\u001b[32m'dosage_morning'\u001b[0m: \u001b[1;36m1\u001b[0m, \u001b[32m'dosage_noon'\u001b[0m: \u001b[1;36m0\u001b[0m, \u001b[32m'dosage_evening'\u001b[0m: \u001b[1;36m0\u001b[0m, \u001b[32m'dosage_night'\u001b[0m: \u001b[1;36m0\u001b[0m, \u001b[32m'dosage_information'\u001b[0m: \u001b[32m''\u001b[0m\u001b[1m}\u001b[0m, \n",
       "\u001b[1m{\u001b[0m\u001b[32m'patient_id'\u001b[0m: \u001b[1;36m4\u001b[0m, \u001b[32m'medication_name'\u001b[0m: \u001b[32m'Ramipril'\u001b[0m, \u001b[32m'medication_name_corrected'\u001b[0m: \u001b[32m'Ramipril \u001b[0m\u001b[32m(\u001b[0m\u001b[32mramipril\u001b[0m\u001b[32m)\u001b[0m\u001b[32m'\u001b[0m, \u001b[32m'dose'\u001b[0m: \u001b[1;36m5\u001b[0m, \n",
       "\u001b[32m'unit'\u001b[0m: \u001b[32m'mg'\u001b[0m, \u001b[32m'dosage_morning'\u001b[0m: \u001b[1;36m1\u001b[0m, \u001b[32m'dosage_noon'\u001b[0m: \u001b[1;36m0\u001b[0m, \u001b[32m'dosage_evening'\u001b[0m: \u001b[1;36m0\u001b[0m, \u001b[32m'dosage_night'\u001b[0m: \u001b[1;36m0\u001b[0m, \u001b[32m'dosage_information'\u001b[0m: \n",
       "\u001b[32m''\u001b[0m\u001b[1m}\u001b[0m, \u001b[1m{\u001b[0m\u001b[32m'patient_id'\u001b[0m: \u001b[1;36m4\u001b[0m, \u001b[32m'medication_name'\u001b[0m: \u001b[32m'Torasemid'\u001b[0m, \u001b[32m'medication_name_corrected'\u001b[0m: \u001b[32m'Torasemide \u001b[0m\u001b[32m(\u001b[0m\u001b[32mtorasemide\u001b[0m\u001b[32m)\u001b[0m\u001b[32m'\u001b[0m, \n",
       "\u001b[32m'dose'\u001b[0m: \u001b[1;36m10\u001b[0m, \u001b[32m'unit'\u001b[0m: \u001b[32m'mg'\u001b[0m, \u001b[32m'dosage_morning'\u001b[0m: \u001b[1;36m1\u001b[0m, \u001b[32m'dosage_noon'\u001b[0m: \u001b[1;36m0\u001b[0m, \u001b[32m'dosage_evening'\u001b[0m: \u001b[1;36m0\u001b[0m, \u001b[32m'dosage_night'\u001b[0m: \u001b[1;36m0\u001b[0m, \n",
       "\u001b[32m'dosage_information'\u001b[0m: \u001b[32m''\u001b[0m\u001b[1m}\u001b[0m, \u001b[1m{\u001b[0m\u001b[32m'patient_id'\u001b[0m: \u001b[1;36m4\u001b[0m, \u001b[32m'medication_name'\u001b[0m: \u001b[32m'Clopidogrel'\u001b[0m, \u001b[32m'medication_name_corrected'\u001b[0m: \n",
       "\u001b[32m'Clopidogrel \u001b[0m\u001b[32m(\u001b[0m\u001b[32mclopidogrel\u001b[0m\u001b[32m)\u001b[0m\u001b[32m'\u001b[0m, \u001b[32m'dose'\u001b[0m: \u001b[1;36m75\u001b[0m, \u001b[32m'unit'\u001b[0m: \u001b[32m'mg'\u001b[0m, \u001b[32m'dosage_morning'\u001b[0m: \u001b[1;36m1\u001b[0m, \u001b[32m'dosage_noon'\u001b[0m: \u001b[1;36m0\u001b[0m, \u001b[32m'dosage_evening'\u001b[0m: \u001b[1;36m0\u001b[0m, \n",
       "\u001b[32m'dosage_night'\u001b[0m: \u001b[1;36m0\u001b[0m, \u001b[32m'dosage_information'\u001b[0m: \u001b[32m''\u001b[0m\u001b[1m}\u001b[0m, \u001b[1m{\u001b[0m\u001b[32m'patient_id'\u001b[0m: \u001b[1;36m4\u001b[0m, \u001b[32m'medication_name'\u001b[0m: \u001b[32m'ASS'\u001b[0m, \n",
       "\u001b[32m'medication_name_corrected'\u001b[0m: \u001b[32m'Aspirin \u001b[0m\u001b[32m(\u001b[0m\u001b[32macetylsalicylic acid\u001b[0m\u001b[32m)\u001b[0m\u001b[32m'\u001b[0m, \u001b[32m'dose'\u001b[0m: \u001b[1;36m100\u001b[0m, \u001b[32m'unit'\u001b[0m: \u001b[32m'mg'\u001b[0m, \u001b[32m'dosage_morning'\u001b[0m: \u001b[1;36m1\u001b[0m, \n",
       "\u001b[32m'dosage_noon'\u001b[0m: \u001b[1;36m0\u001b[0m, \u001b[32m'dosage_evening'\u001b[0m: \u001b[1;36m0\u001b[0m, \u001b[32m'dosage_night'\u001b[0m: \u001b[1;36m0\u001b[0m, \u001b[32m'dosage_information'\u001b[0m: \u001b[32m''\u001b[0m\u001b[1m}\u001b[0m, \u001b[1m{\u001b[0m\u001b[32m'patient_id'\u001b[0m: \u001b[1;36m4\u001b[0m, \n",
       "\u001b[32m'medication_name'\u001b[0m: \u001b[32m'Macumar'\u001b[0m, \u001b[32m'medication_name_corrected'\u001b[0m: \u001b[32m'Macumar \u001b[0m\u001b[32m(\u001b[0m\u001b[32mphenprocoumon\u001b[0m\u001b[32m)\u001b[0m\u001b[32m'\u001b[0m, \u001b[32m'dose'\u001b[0m: \u001b[1;36m0\u001b[0m, \u001b[32m'unit'\u001b[0m: \u001b[32m''\u001b[0m, \n",
       "\u001b[32m'dosage_morning'\u001b[0m: \u001b[1;36m0\u001b[0m, \u001b[32m'dosage_noon'\u001b[0m: \u001b[1;36m0\u001b[0m, \u001b[32m'dosage_evening'\u001b[0m: \u001b[1;36m0\u001b[0m, \u001b[32m'dosage_night'\u001b[0m: \u001b[1;36m0\u001b[0m, \u001b[32m'dosage_information'\u001b[0m: \u001b[32m'schedule \u001b[0m\n",
       "\u001b[32munknown'\u001b[0m\u001b[1m}\u001b[0m\u001b[1m]\u001b[0m\n"
      ]
     },
     "metadata": {},
     "output_type": "display_data"
    },
    {
     "data": {
      "text/html": [
       "<pre style=\"white-space:pre;overflow-x:auto;line-height:normal;font-family:Menlo,'DejaVu Sans Mono',consolas,'Courier New',monospace\"><span style=\"color: #7f7f7f; text-decoration-color: #7f7f7f\">[Step 1: Duration 6.48 seconds| Input tokens: 3,718 | Output tokens: 588]</span>\n",
       "</pre>\n"
      ],
      "text/plain": [
       "\u001b[2m[Step 1: Duration 6.48 seconds| Input tokens: 3,718 | Output tokens: 588]\u001b[0m\n"
      ]
     },
     "metadata": {},
     "output_type": "display_data"
    },
    {
     "data": {
      "text/html": [
       "<pre style=\"white-space:pre;overflow-x:auto;line-height:normal;font-family:Menlo,'DejaVu Sans Mono',consolas,'Courier New',monospace\"><span style=\"color: #d4b702; text-decoration-color: #d4b702\">━━━━━━━━━━━━━━━━━━━━━━━━━━━━━━━━━━━━━━━━━━━━━━━━━━━━━ </span><span style=\"font-weight: bold\">Step </span><span style=\"color: #008080; text-decoration-color: #008080; font-weight: bold\">2</span><span style=\"color: #d4b702; text-decoration-color: #d4b702\"> ━━━━━━━━━━━━━━━━━━━━━━━━━━━━━━━━━━━━━━━━━━━━━━━━━━━━━━</span>\n",
       "</pre>\n"
      ],
      "text/plain": [
       "\u001b[38;2;212;183;2m━━━━━━━━━━━━━━━━━━━━━━━━━━━━━━━━━━━━━━━━━━━━━━━━━━━━━ \u001b[0m\u001b[1mStep \u001b[0m\u001b[1;36m2\u001b[0m\u001b[38;2;212;183;2m ━━━━━━━━━━━━━━━━━━━━━━━━━━━━━━━━━━━━━━━━━━━━━━━━━━━━━━\u001b[0m\n"
      ]
     },
     "metadata": {},
     "output_type": "display_data"
    },
    {
     "data": {
      "text/html": [
       "<pre style=\"white-space:pre;overflow-x:auto;line-height:normal;font-family:Menlo,'DejaVu Sans Mono',consolas,'Courier New',monospace\">╭─────────────────────────────────────────────────────────────────────────────────────────────────────────────────╮\n",
       "│ Calling tool: 'get_rxcui' with arguments: {'medication_names': ['Pantoprazole (pantoprazole)', 'HCT             │\n",
       "│ (hydrochlorothiazide)', 'Bisoprolol (bisoprolol)', 'Ramipril (ramipril)', 'Torasemide (torasemide)',            │\n",
       "│ 'Clopidogrel (clopidogrel)', 'Aspirin (acetylsalicylic acid)', 'Macumar (phenprocoumon)']}                      │\n",
       "╰─────────────────────────────────────────────────────────────────────────────────────────────────────────────────╯\n",
       "</pre>\n"
      ],
      "text/plain": [
       "╭─────────────────────────────────────────────────────────────────────────────────────────────────────────────────╮\n",
       "│ Calling tool: 'get_rxcui' with arguments: {'medication_names': ['Pantoprazole (pantoprazole)', 'HCT             │\n",
       "│ (hydrochlorothiazide)', 'Bisoprolol (bisoprolol)', 'Ramipril (ramipril)', 'Torasemide (torasemide)',            │\n",
       "│ 'Clopidogrel (clopidogrel)', 'Aspirin (acetylsalicylic acid)', 'Macumar (phenprocoumon)']}                      │\n",
       "╰─────────────────────────────────────────────────────────────────────────────────────────────────────────────────╯\n"
      ]
     },
     "metadata": {},
     "output_type": "display_data"
    },
    {
     "data": {
      "text/html": [
       "<pre style=\"white-space:pre;overflow-x:auto;line-height:normal;font-family:Menlo,'DejaVu Sans Mono',consolas,'Courier New',monospace\">Observations: <span style=\"font-weight: bold\">{</span><span style=\"color: #008000; text-decoration-color: #008000\">'Pantoprazole (pantoprazole)'</span>: <span style=\"font-weight: bold\">{</span><span style=\"color: #008000; text-decoration-color: #008000\">'40790'</span>: |<span style=\"color: #008000; text-decoration-color: #008000\">'GS'</span>, <span style=\"color: #008000; text-decoration-color: #008000\">'VANDF'</span>, <span style=\"color: #008000; text-decoration-color: #008000\">'MMSL'</span>, <span style=\"color: #008000; text-decoration-color: #008000\">'NDDF'</span>, <span style=\"color: #008000; text-decoration-color: #008000\">'RXNORM'</span>, <span style=\"color: #008000; text-decoration-color: #008000\">'ATC'</span>, \n",
       "<span style=\"color: #008000; text-decoration-color: #008000\">'DRUGBANK'</span><span style=\"font-weight: bold\">]}</span>, <span style=\"color: #008000; text-decoration-color: #008000\">'HCT (hydrochlorothiazide)'</span>: <span style=\"font-weight: bold\">{</span><span style=\"color: #008000; text-decoration-color: #008000\">'5487'</span>: |<span style=\"color: #008000; text-decoration-color: #008000\">'USP'</span>, <span style=\"color: #008000; text-decoration-color: #008000\">'GS'</span>, <span style=\"color: #008000; text-decoration-color: #008000\">'RXNORM'</span>, <span style=\"color: #008000; text-decoration-color: #008000\">'MMSL'</span>, <span style=\"color: #008000; text-decoration-color: #008000\">'VANDF'</span>, <span style=\"color: #008000; text-decoration-color: #008000\">'NDDF'</span>, <span style=\"color: #008000; text-decoration-color: #008000\">'ATC'</span>, \n",
       "<span style=\"color: #008000; text-decoration-color: #008000\">'DRUGBANK'</span>, <span style=\"color: #008000; text-decoration-color: #008000\">'MMSL'</span><span style=\"font-weight: bold\">]}</span>, <span style=\"color: #008000; text-decoration-color: #008000\">'Bisoprolol (bisoprolol)'</span>: <span style=\"font-weight: bold\">{</span><span style=\"color: #008000; text-decoration-color: #008000\">'19484'</span>: |<span style=\"color: #008000; text-decoration-color: #008000\">'GS'</span>, <span style=\"color: #008000; text-decoration-color: #008000\">'RXNORM'</span>, <span style=\"color: #008000; text-decoration-color: #008000\">'VANDF'</span>, <span style=\"color: #008000; text-decoration-color: #008000\">'NDDF'</span>, <span style=\"color: #008000; text-decoration-color: #008000\">'ATC'</span>, <span style=\"color: #008000; text-decoration-color: #008000\">'DRUGBANK'</span><span style=\"font-weight: bold\">]}</span>, \n",
       "<span style=\"color: #008000; text-decoration-color: #008000\">'Ramipril (ramipril)'</span>: <span style=\"font-weight: bold\">{</span><span style=\"color: #008000; text-decoration-color: #008000\">'35296'</span>: |<span style=\"color: #008000; text-decoration-color: #008000\">'USP'</span>, <span style=\"color: #008000; text-decoration-color: #008000\">'GS'</span>, <span style=\"color: #008000; text-decoration-color: #008000\">'RXNORM'</span>, <span style=\"color: #008000; text-decoration-color: #008000\">'VANDF'</span>, <span style=\"color: #008000; text-decoration-color: #008000\">'MMSL'</span>, <span style=\"color: #008000; text-decoration-color: #008000\">'NDDF'</span>, <span style=\"color: #008000; text-decoration-color: #008000\">'MMSL'</span>, <span style=\"color: #008000; text-decoration-color: #008000\">'ATC'</span>, <span style=\"color: #008000; text-decoration-color: #008000\">'DRUGBANK'</span><span style=\"font-weight: bold\">]}</span>, \n",
       "<span style=\"color: #008000; text-decoration-color: #008000\">'Torasemide (torasemide)'</span>: <span style=\"font-weight: bold\">{</span><span style=\"color: #008000; text-decoration-color: #008000\">'38413'</span>: |<span style=\"color: #008000; text-decoration-color: #008000\">'ATC'</span>, <span style=\"color: #008000; text-decoration-color: #008000\">'DRUGBANK'</span><span style=\"font-weight: bold\">]}</span>, <span style=\"color: #008000; text-decoration-color: #008000\">'Clopidogrel (clopidogrel)'</span>: <span style=\"font-weight: bold\">{</span><span style=\"color: #008000; text-decoration-color: #008000\">'32968'</span>: |<span style=\"color: #008000; text-decoration-color: #008000\">'GS'</span>, <span style=\"color: #008000; text-decoration-color: #008000\">'VANDF'</span>, \n",
       "<span style=\"color: #008000; text-decoration-color: #008000\">'NDDF'</span>, <span style=\"color: #008000; text-decoration-color: #008000\">'MMSL'</span>, <span style=\"color: #008000; text-decoration-color: #008000\">'RXNORM'</span>, <span style=\"color: #008000; text-decoration-color: #008000\">'ATC'</span>, <span style=\"color: #008000; text-decoration-color: #008000\">'DRUGBANK'</span><span style=\"font-weight: bold\">]}</span>, <span style=\"color: #008000; text-decoration-color: #008000\">'Aspirin (acetylsalicylic acid)'</span>: <span style=\"font-weight: bold\">{</span><span style=\"color: #008000; text-decoration-color: #008000\">'1191'</span>: |<span style=\"color: #008000; text-decoration-color: #008000\">'MMSL'</span>, <span style=\"color: #008000; text-decoration-color: #008000\">'ATC'</span>, <span style=\"color: #008000; text-decoration-color: #008000\">'ATC'</span>, \n",
       "<span style=\"color: #008000; text-decoration-color: #008000\">'ATC'</span>, <span style=\"color: #008000; text-decoration-color: #008000\">'DRUGBANK'</span><span style=\"font-weight: bold\">]}</span>, <span style=\"color: #008000; text-decoration-color: #008000\">'Macumar (phenprocoumon)'</span>: <span style=\"font-weight: bold\">{</span><span style=\"color: #008000; text-decoration-color: #008000\">'8150'</span>: |<span style=\"color: #008000; text-decoration-color: #008000\">'RXNORM'</span>, <span style=\"color: #008000; text-decoration-color: #008000\">'VANDF'</span>, <span style=\"color: #008000; text-decoration-color: #008000\">'ATC'</span>, <span style=\"color: #008000; text-decoration-color: #008000\">'NDDF'</span>, <span style=\"color: #008000; text-decoration-color: #008000\">'DRUGBANK'</span><span style=\"font-weight: bold\">]}}</span>\n",
       "</pre>\n"
      ],
      "text/plain": [
       "Observations: \u001b[1m{\u001b[0m\u001b[32m'Pantoprazole \u001b[0m\u001b[32m(\u001b[0m\u001b[32mpantoprazole\u001b[0m\u001b[32m)\u001b[0m\u001b[32m'\u001b[0m: \u001b[1m{\u001b[0m\u001b[32m'40790'\u001b[0m: |\u001b[32m'GS'\u001b[0m, \u001b[32m'VANDF'\u001b[0m, \u001b[32m'MMSL'\u001b[0m, \u001b[32m'NDDF'\u001b[0m, \u001b[32m'RXNORM'\u001b[0m, \u001b[32m'ATC'\u001b[0m, \n",
       "\u001b[32m'DRUGBANK'\u001b[0m\u001b[1m]\u001b[0m\u001b[1m}\u001b[0m, \u001b[32m'HCT \u001b[0m\u001b[32m(\u001b[0m\u001b[32mhydrochlorothiazide\u001b[0m\u001b[32m)\u001b[0m\u001b[32m'\u001b[0m: \u001b[1m{\u001b[0m\u001b[32m'5487'\u001b[0m: |\u001b[32m'USP'\u001b[0m, \u001b[32m'GS'\u001b[0m, \u001b[32m'RXNORM'\u001b[0m, \u001b[32m'MMSL'\u001b[0m, \u001b[32m'VANDF'\u001b[0m, \u001b[32m'NDDF'\u001b[0m, \u001b[32m'ATC'\u001b[0m, \n",
       "\u001b[32m'DRUGBANK'\u001b[0m, \u001b[32m'MMSL'\u001b[0m\u001b[1m]\u001b[0m\u001b[1m}\u001b[0m, \u001b[32m'Bisoprolol \u001b[0m\u001b[32m(\u001b[0m\u001b[32mbisoprolol\u001b[0m\u001b[32m)\u001b[0m\u001b[32m'\u001b[0m: \u001b[1m{\u001b[0m\u001b[32m'19484'\u001b[0m: |\u001b[32m'GS'\u001b[0m, \u001b[32m'RXNORM'\u001b[0m, \u001b[32m'VANDF'\u001b[0m, \u001b[32m'NDDF'\u001b[0m, \u001b[32m'ATC'\u001b[0m, \u001b[32m'DRUGBANK'\u001b[0m\u001b[1m]\u001b[0m\u001b[1m}\u001b[0m, \n",
       "\u001b[32m'Ramipril \u001b[0m\u001b[32m(\u001b[0m\u001b[32mramipril\u001b[0m\u001b[32m)\u001b[0m\u001b[32m'\u001b[0m: \u001b[1m{\u001b[0m\u001b[32m'35296'\u001b[0m: |\u001b[32m'USP'\u001b[0m, \u001b[32m'GS'\u001b[0m, \u001b[32m'RXNORM'\u001b[0m, \u001b[32m'VANDF'\u001b[0m, \u001b[32m'MMSL'\u001b[0m, \u001b[32m'NDDF'\u001b[0m, \u001b[32m'MMSL'\u001b[0m, \u001b[32m'ATC'\u001b[0m, \u001b[32m'DRUGBANK'\u001b[0m\u001b[1m]\u001b[0m\u001b[1m}\u001b[0m, \n",
       "\u001b[32m'Torasemide \u001b[0m\u001b[32m(\u001b[0m\u001b[32mtorasemide\u001b[0m\u001b[32m)\u001b[0m\u001b[32m'\u001b[0m: \u001b[1m{\u001b[0m\u001b[32m'38413'\u001b[0m: |\u001b[32m'ATC'\u001b[0m, \u001b[32m'DRUGBANK'\u001b[0m\u001b[1m]\u001b[0m\u001b[1m}\u001b[0m, \u001b[32m'Clopidogrel \u001b[0m\u001b[32m(\u001b[0m\u001b[32mclopidogrel\u001b[0m\u001b[32m)\u001b[0m\u001b[32m'\u001b[0m: \u001b[1m{\u001b[0m\u001b[32m'32968'\u001b[0m: |\u001b[32m'GS'\u001b[0m, \u001b[32m'VANDF'\u001b[0m, \n",
       "\u001b[32m'NDDF'\u001b[0m, \u001b[32m'MMSL'\u001b[0m, \u001b[32m'RXNORM'\u001b[0m, \u001b[32m'ATC'\u001b[0m, \u001b[32m'DRUGBANK'\u001b[0m\u001b[1m]\u001b[0m\u001b[1m}\u001b[0m, \u001b[32m'Aspirin \u001b[0m\u001b[32m(\u001b[0m\u001b[32macetylsalicylic acid\u001b[0m\u001b[32m)\u001b[0m\u001b[32m'\u001b[0m: \u001b[1m{\u001b[0m\u001b[32m'1191'\u001b[0m: |\u001b[32m'MMSL'\u001b[0m, \u001b[32m'ATC'\u001b[0m, \u001b[32m'ATC'\u001b[0m, \n",
       "\u001b[32m'ATC'\u001b[0m, \u001b[32m'DRUGBANK'\u001b[0m\u001b[1m]\u001b[0m\u001b[1m}\u001b[0m, \u001b[32m'Macumar \u001b[0m\u001b[32m(\u001b[0m\u001b[32mphenprocoumon\u001b[0m\u001b[32m)\u001b[0m\u001b[32m'\u001b[0m: \u001b[1m{\u001b[0m\u001b[32m'8150'\u001b[0m: |\u001b[32m'RXNORM'\u001b[0m, \u001b[32m'VANDF'\u001b[0m, \u001b[32m'ATC'\u001b[0m, \u001b[32m'NDDF'\u001b[0m, \u001b[32m'DRUGBANK'\u001b[0m\u001b[1m]\u001b[0m\u001b[1m}\u001b[0m\u001b[1m}\u001b[0m\n"
      ]
     },
     "metadata": {},
     "output_type": "display_data"
    },
    {
     "data": {
      "text/html": [
       "<pre style=\"white-space:pre;overflow-x:auto;line-height:normal;font-family:Menlo,'DejaVu Sans Mono',consolas,'Courier New',monospace\"><span style=\"color: #7f7f7f; text-decoration-color: #7f7f7f\">[Step 2: Duration 2.85 seconds| Input tokens: 8,958 | Output tokens: 690]</span>\n",
       "</pre>\n"
      ],
      "text/plain": [
       "\u001b[2m[Step 2: Duration 2.85 seconds| Input tokens: 8,958 | Output tokens: 690]\u001b[0m\n"
      ]
     },
     "metadata": {},
     "output_type": "display_data"
    },
    {
     "data": {
      "text/html": [
       "<pre style=\"white-space:pre;overflow-x:auto;line-height:normal;font-family:Menlo,'DejaVu Sans Mono',consolas,'Courier New',monospace\"><span style=\"color: #d4b702; text-decoration-color: #d4b702\">━━━━━━━━━━━━━━━━━━━━━━━━━━━━━━━━━━━━━━━━━━━━━━━━━━━━━ </span><span style=\"font-weight: bold\">Step </span><span style=\"color: #008080; text-decoration-color: #008080; font-weight: bold\">3</span><span style=\"color: #d4b702; text-decoration-color: #d4b702\"> ━━━━━━━━━━━━━━━━━━━━━━━━━━━━━━━━━━━━━━━━━━━━━━━━━━━━━━</span>\n",
       "</pre>\n"
      ],
      "text/plain": [
       "\u001b[38;2;212;183;2m━━━━━━━━━━━━━━━━━━━━━━━━━━━━━━━━━━━━━━━━━━━━━━━━━━━━━ \u001b[0m\u001b[1mStep \u001b[0m\u001b[1;36m3\u001b[0m\u001b[38;2;212;183;2m ━━━━━━━━━━━━━━━━━━━━━━━━━━━━━━━━━━━━━━━━━━━━━━━━━━━━━━\u001b[0m\n"
      ]
     },
     "metadata": {},
     "output_type": "display_data"
    },
    {
     "data": {
      "text/html": [
       "<pre style=\"white-space:pre;overflow-x:auto;line-height:normal;font-family:Menlo,'DejaVu Sans Mono',consolas,'Courier New',monospace\">╭─────────────────────────────────────────────────────────────────────────────────────────────────────────────────╮\n",
       "│ Calling tool: 'get_atc' with arguments: {'rxcuis': ['40790', '5487', '19484', '35296', '38413', '32968',        │\n",
       "│ '1191', '8150']}                                                                                                │\n",
       "╰─────────────────────────────────────────────────────────────────────────────────────────────────────────────────╯\n",
       "</pre>\n"
      ],
      "text/plain": [
       "╭─────────────────────────────────────────────────────────────────────────────────────────────────────────────────╮\n",
       "│ Calling tool: 'get_atc' with arguments: {'rxcuis': ['40790', '5487', '19484', '35296', '38413', '32968',        │\n",
       "│ '1191', '8150']}                                                                                                │\n",
       "╰─────────────────────────────────────────────────────────────────────────────────────────────────────────────────╯\n"
      ]
     },
     "metadata": {},
     "output_type": "display_data"
    },
    {
     "data": {
      "text/html": [
       "<pre style=\"white-space:pre;overflow-x:auto;line-height:normal;font-family:Menlo,'DejaVu Sans Mono',consolas,'Courier New',monospace\">Observations: <span style=\"font-weight: bold\">{</span><span style=\"color: #008000; text-decoration-color: #008000\">'40790'</span>: <span style=\"font-weight: bold\">{</span><span style=\"color: #008000; text-decoration-color: #008000\">'atc_id'</span>: <span style=\"color: #008000; text-decoration-color: #008000\">'A02BC'</span>, <span style=\"color: #008000; text-decoration-color: #008000\">'atc_name'</span>: <span style=\"color: #008000; text-decoration-color: #008000\">'Proton pump inhibitors'</span>, <span style=\"color: #008000; text-decoration-color: #008000\">'atc_type'</span>: <span style=\"color: #008000; text-decoration-color: #008000\">'ATC1-4'</span><span style=\"font-weight: bold\">}</span>, <span style=\"color: #008000; text-decoration-color: #008000\">'5487'</span>: \n",
       "<span style=\"font-weight: bold\">{</span><span style=\"color: #008000; text-decoration-color: #008000\">'atc_id'</span>: <span style=\"color: #008000; text-decoration-color: #008000\">'C09DX'</span>, <span style=\"color: #008000; text-decoration-color: #008000\">'atc_name'</span>: <span style=\"color: #008000; text-decoration-color: #008000\">'Angiotensin II receptor blockers (ARBs), other combinations'</span>, <span style=\"color: #008000; text-decoration-color: #008000\">'atc_type'</span>: \n",
       "<span style=\"color: #008000; text-decoration-color: #008000\">'ATC1-4'</span><span style=\"font-weight: bold\">}</span>, <span style=\"color: #008000; text-decoration-color: #008000\">'19484'</span>: <span style=\"font-weight: bold\">{</span><span style=\"color: #008000; text-decoration-color: #008000\">'atc_id'</span>: <span style=\"color: #008000; text-decoration-color: #008000\">'C07AB'</span>, <span style=\"color: #008000; text-decoration-color: #008000\">'atc_name'</span>: <span style=\"color: #008000; text-decoration-color: #008000\">'Beta blocking agents, selective'</span>, <span style=\"color: #008000; text-decoration-color: #008000\">'atc_type'</span>: <span style=\"color: #008000; text-decoration-color: #008000\">'ATC1-4'</span><span style=\"font-weight: bold\">}</span>, \n",
       "<span style=\"color: #008000; text-decoration-color: #008000\">'35296'</span>: <span style=\"font-weight: bold\">{</span><span style=\"color: #008000; text-decoration-color: #008000\">'atc_id'</span>: <span style=\"color: #008000; text-decoration-color: #008000\">'C09AA'</span>, <span style=\"color: #008000; text-decoration-color: #008000\">'atc_name'</span>: <span style=\"color: #008000; text-decoration-color: #008000\">'ACE inhibitors, plain'</span>, <span style=\"color: #008000; text-decoration-color: #008000\">'atc_type'</span>: <span style=\"color: #008000; text-decoration-color: #008000\">'ATC1-4'</span><span style=\"font-weight: bold\">}</span>, <span style=\"color: #008000; text-decoration-color: #008000\">'38413'</span>: <span style=\"font-weight: bold\">{</span><span style=\"color: #008000; text-decoration-color: #008000\">'atc_id'</span>: \n",
       "<span style=\"color: #008000; text-decoration-color: #008000\">'C03CA'</span>, <span style=\"color: #008000; text-decoration-color: #008000\">'atc_name'</span>: <span style=\"color: #008000; text-decoration-color: #008000\">'Sulfonamides, plain'</span>, <span style=\"color: #008000; text-decoration-color: #008000\">'atc_type'</span>: <span style=\"color: #008000; text-decoration-color: #008000\">'ATC1-4'</span><span style=\"font-weight: bold\">}</span>, <span style=\"color: #008000; text-decoration-color: #008000\">'32968'</span>: <span style=\"font-weight: bold\">{</span><span style=\"color: #008000; text-decoration-color: #008000\">'atc_id'</span>: <span style=\"color: #008000; text-decoration-color: #008000\">'B01AC'</span>, <span style=\"color: #008000; text-decoration-color: #008000\">'atc_name'</span>: \n",
       "<span style=\"color: #008000; text-decoration-color: #008000\">'Platelet aggregation inhibitors excl. heparin'</span>, <span style=\"color: #008000; text-decoration-color: #008000\">'atc_type'</span>: <span style=\"color: #008000; text-decoration-color: #008000\">'ATC1-4'</span><span style=\"font-weight: bold\">}</span>, <span style=\"color: #008000; text-decoration-color: #008000\">'1191'</span>: <span style=\"font-weight: bold\">{</span><span style=\"color: #008000; text-decoration-color: #008000\">'atc_id'</span>: <span style=\"color: #008000; text-decoration-color: #008000\">'N02BA'</span>, <span style=\"color: #008000; text-decoration-color: #008000\">'atc_name'</span>: \n",
       "<span style=\"color: #008000; text-decoration-color: #008000\">'Salicylic acid and derivatives'</span>, <span style=\"color: #008000; text-decoration-color: #008000\">'atc_type'</span>: <span style=\"color: #008000; text-decoration-color: #008000\">'ATC1-4'</span><span style=\"font-weight: bold\">}</span>, <span style=\"color: #008000; text-decoration-color: #008000\">'8150'</span>: <span style=\"font-weight: bold\">{</span><span style=\"color: #008000; text-decoration-color: #008000\">'atc_id'</span>: <span style=\"color: #008000; text-decoration-color: #008000\">'B01AA'</span>, <span style=\"color: #008000; text-decoration-color: #008000\">'atc_name'</span>: <span style=\"color: #008000; text-decoration-color: #008000\">'Vitamin K </span>\n",
       "<span style=\"color: #008000; text-decoration-color: #008000\">antagonists'</span>, <span style=\"color: #008000; text-decoration-color: #008000\">'atc_type'</span>: <span style=\"color: #008000; text-decoration-color: #008000\">'ATC1-4'</span><span style=\"font-weight: bold\">}}</span>\n",
       "</pre>\n"
      ],
      "text/plain": [
       "Observations: \u001b[1m{\u001b[0m\u001b[32m'40790'\u001b[0m: \u001b[1m{\u001b[0m\u001b[32m'atc_id'\u001b[0m: \u001b[32m'A02BC'\u001b[0m, \u001b[32m'atc_name'\u001b[0m: \u001b[32m'Proton pump inhibitors'\u001b[0m, \u001b[32m'atc_type'\u001b[0m: \u001b[32m'ATC1-4'\u001b[0m\u001b[1m}\u001b[0m, \u001b[32m'5487'\u001b[0m: \n",
       "\u001b[1m{\u001b[0m\u001b[32m'atc_id'\u001b[0m: \u001b[32m'C09DX'\u001b[0m, \u001b[32m'atc_name'\u001b[0m: \u001b[32m'Angiotensin II receptor blockers \u001b[0m\u001b[32m(\u001b[0m\u001b[32mARBs\u001b[0m\u001b[32m)\u001b[0m\u001b[32m, other combinations'\u001b[0m, \u001b[32m'atc_type'\u001b[0m: \n",
       "\u001b[32m'ATC1-4'\u001b[0m\u001b[1m}\u001b[0m, \u001b[32m'19484'\u001b[0m: \u001b[1m{\u001b[0m\u001b[32m'atc_id'\u001b[0m: \u001b[32m'C07AB'\u001b[0m, \u001b[32m'atc_name'\u001b[0m: \u001b[32m'Beta blocking agents, selective'\u001b[0m, \u001b[32m'atc_type'\u001b[0m: \u001b[32m'ATC1-4'\u001b[0m\u001b[1m}\u001b[0m, \n",
       "\u001b[32m'35296'\u001b[0m: \u001b[1m{\u001b[0m\u001b[32m'atc_id'\u001b[0m: \u001b[32m'C09AA'\u001b[0m, \u001b[32m'atc_name'\u001b[0m: \u001b[32m'ACE inhibitors, plain'\u001b[0m, \u001b[32m'atc_type'\u001b[0m: \u001b[32m'ATC1-4'\u001b[0m\u001b[1m}\u001b[0m, \u001b[32m'38413'\u001b[0m: \u001b[1m{\u001b[0m\u001b[32m'atc_id'\u001b[0m: \n",
       "\u001b[32m'C03CA'\u001b[0m, \u001b[32m'atc_name'\u001b[0m: \u001b[32m'Sulfonamides, plain'\u001b[0m, \u001b[32m'atc_type'\u001b[0m: \u001b[32m'ATC1-4'\u001b[0m\u001b[1m}\u001b[0m, \u001b[32m'32968'\u001b[0m: \u001b[1m{\u001b[0m\u001b[32m'atc_id'\u001b[0m: \u001b[32m'B01AC'\u001b[0m, \u001b[32m'atc_name'\u001b[0m: \n",
       "\u001b[32m'Platelet aggregation inhibitors excl. heparin'\u001b[0m, \u001b[32m'atc_type'\u001b[0m: \u001b[32m'ATC1-4'\u001b[0m\u001b[1m}\u001b[0m, \u001b[32m'1191'\u001b[0m: \u001b[1m{\u001b[0m\u001b[32m'atc_id'\u001b[0m: \u001b[32m'N02BA'\u001b[0m, \u001b[32m'atc_name'\u001b[0m: \n",
       "\u001b[32m'Salicylic acid and derivatives'\u001b[0m, \u001b[32m'atc_type'\u001b[0m: \u001b[32m'ATC1-4'\u001b[0m\u001b[1m}\u001b[0m, \u001b[32m'8150'\u001b[0m: \u001b[1m{\u001b[0m\u001b[32m'atc_id'\u001b[0m: \u001b[32m'B01AA'\u001b[0m, \u001b[32m'atc_name'\u001b[0m: \u001b[32m'Vitamin K \u001b[0m\n",
       "\u001b[32mantagonists'\u001b[0m, \u001b[32m'atc_type'\u001b[0m: \u001b[32m'ATC1-4'\u001b[0m\u001b[1m}\u001b[0m\u001b[1m}\u001b[0m\n"
      ]
     },
     "metadata": {},
     "output_type": "display_data"
    },
    {
     "data": {
      "text/html": [
       "<pre style=\"white-space:pre;overflow-x:auto;line-height:normal;font-family:Menlo,'DejaVu Sans Mono',consolas,'Courier New',monospace\"><span style=\"color: #7f7f7f; text-decoration-color: #7f7f7f\">[Step 3: Duration 2.29 seconds| Input tokens: 14,714 | Output tokens: 747]</span>\n",
       "</pre>\n"
      ],
      "text/plain": [
       "\u001b[2m[Step 3: Duration 2.29 seconds| Input tokens: 14,714 | Output tokens: 747]\u001b[0m\n"
      ]
     },
     "metadata": {},
     "output_type": "display_data"
    },
    {
     "data": {
      "text/html": [
       "<pre style=\"white-space:pre;overflow-x:auto;line-height:normal;font-family:Menlo,'DejaVu Sans Mono',consolas,'Courier New',monospace\"><span style=\"color: #d4b702; text-decoration-color: #d4b702\">━━━━━━━━━━━━━━━━━━━━━━━━━━━━━━━━━━━━━━━━━━━━━━━━━━━━━ </span><span style=\"font-weight: bold\">Step </span><span style=\"color: #008080; text-decoration-color: #008080; font-weight: bold\">4</span><span style=\"color: #d4b702; text-decoration-color: #d4b702\"> ━━━━━━━━━━━━━━━━━━━━━━━━━━━━━━━━━━━━━━━━━━━━━━━━━━━━━━</span>\n",
       "</pre>\n"
      ],
      "text/plain": [
       "\u001b[38;2;212;183;2m━━━━━━━━━━━━━━━━━━━━━━━━━━━━━━━━━━━━━━━━━━━━━━━━━━━━━ \u001b[0m\u001b[1mStep \u001b[0m\u001b[1;36m4\u001b[0m\u001b[38;2;212;183;2m ━━━━━━━━━━━━━━━━━━━━━━━━━━━━━━━━━━━━━━━━━━━━━━━━━━━━━━\u001b[0m\n"
      ]
     },
     "metadata": {},
     "output_type": "display_data"
    },
    {
     "data": {
      "text/html": [
       "<pre style=\"white-space:pre;overflow-x:auto;line-height:normal;font-family:Menlo,'DejaVu Sans Mono',consolas,'Courier New',monospace\">╭─────────────────────────────────────────────────────────────────────────────────────────────────────────────────╮\n",
       "│ Calling tool: 'save_csv' with arguments: {'task_name': 'medication', 'data': [{'patient_id': 4,                 │\n",
       "│ 'medication_reference': 'Pantoprazol 40 mg  0-0-1', 'medication_name': 'Pantoprazol', 'medication_translated':  │\n",
       "│ 'Pantoprazole (pantoprazole)', 'active_ingredient': 'pantoprazole', 'dose': 40, 'unit': 'mg', 'dosage_morning': │\n",
       "│ 0, 'dosage_noon': 0, 'dosage_evening': 1, 'dosage_night': 0, 'dosage_information': '', 'rxcui': '40790',        │\n",
       "│ 'atc_id': 'A02BC', 'atc_name': 'Proton pump inhibitors', 'atc_type': 'ATC1-4'}, {'patient_id': 4,               │\n",
       "│ 'medication_reference': 'HCT 25 mg   1-0-0', 'medication_name': 'HCT', 'medication_translated': 'HCT            │\n",
       "│ (hydrochlorothiazide)', 'active_ingredient': 'hydrochlorothiazide', 'dose': 25, 'unit': 'mg', 'dosage_morning': │\n",
       "│ 1, 'dosage_noon': 0, 'dosage_evening': 0, 'dosage_night': 0, 'dosage_information': '', 'rxcui': '5487',         │\n",
       "│ 'atc_id': 'C09DX', 'atc_name': 'Angiotensin II receptor blockers (ARBs), other combinations', 'atc_type':       │\n",
       "│ 'ATC1-4'}, {'patient_id': 4, 'medication_reference': 'Bisoprolol 5 mg   1-0-0', 'medication_name':              │\n",
       "│ 'Bisoprolol', 'medication_translated': 'Bisoprolol (bisoprolol)', 'active_ingredient': 'bisoprolol', 'dose': 5, │\n",
       "│ 'unit': 'mg', 'dosage_morning': 1, 'dosage_noon': 0, 'dosage_evening': 0, 'dosage_night': 0,                    │\n",
       "│ 'dosage_information': '', 'rxcui': '19484', 'atc_id': 'C07AB', 'atc_name': 'Beta blocking agents, selective',   │\n",
       "│ 'atc_type': 'ATC1-4'}, {'patient_id': 4, 'medication_reference': 'Ramipril 5 mg   1-0-0', 'medication_name':    │\n",
       "│ 'Ramipril', 'medication_translated': 'Ramipril (ramipril)', 'active_ingredient': 'ramipril', 'dose': 5, 'unit': │\n",
       "│ 'mg', 'dosage_morning': 1, 'dosage_noon': 0, 'dosage_evening': 0, 'dosage_night': 0, 'dosage_information': '',  │\n",
       "│ 'rxcui': '35296', 'atc_id': 'C09AA', 'atc_name': 'ACE inhibitors, plain', 'atc_type': 'ATC1-4'}, {'patient_id': │\n",
       "│ 4, 'medication_reference': 'Torasemid 10 mg   1-0-0', 'medication_name': 'Torasemid', 'medication_translated':  │\n",
       "│ 'Torasemide (torasemide)', 'active_ingredient': 'torasemide', 'dose': 10, 'unit': 'mg', 'dosage_morning': 1,    │\n",
       "│ 'dosage_noon': 0, 'dosage_evening': 0, 'dosage_night': 0, 'dosage_information': '', 'rxcui': '38413', 'atc_id': │\n",
       "│ 'C03CA', 'atc_name': 'Sulfonamides, plain', 'atc_type': 'ATC1-4'}, {'patient_id': 4, 'medication_reference':    │\n",
       "│ 'Clopidogrel 75 mg   1-0-0', 'medication_name': 'Clopidogrel', 'medication_translated': 'Clopidogrel            │\n",
       "│ (clopidogrel)', 'active_ingredient': 'clopidogrel', 'dose': 75, 'unit': 'mg', 'dosage_morning': 1,              │\n",
       "│ 'dosage_noon': 0, 'dosage_evening': 0, 'dosage_night': 0, 'dosage_information': '', 'rxcui': '32968', 'atc_id': │\n",
       "│ 'B01AC', 'atc_name': 'Platelet aggregation inhibitors excl. heparin', 'atc_type': 'ATC1-4'}, {'patient_id': 4,  │\n",
       "│ 'medication_reference': 'ASS 100  1-0-0', 'medication_name': 'ASS', 'medication_translated': 'Aspirin           │\n",
       "│ (acetylsalicylic acid)', 'active_ingredient': 'acetylsalicylic acid', 'dose': 100, 'unit': 'mg',                │\n",
       "│ 'dosage_morning': 1, 'dosage_noon': 0, 'dosage_evening': 0, 'dosage_night': 0, 'dosage_information': '',        │\n",
       "│ 'rxcui': '1191', 'atc_id': 'N02BA', 'atc_name': 'Salicylic acid and derivatives', 'atc_type': 'ATC1-4'},        │\n",
       "│ {'patient_id': 4, 'medication_reference': 'Macumar nach INR', 'medication_name': 'Macumar',                     │\n",
       "│ 'medication_translated': 'Macumar (phenprocoumon)', 'active_ingredient': 'phenprocoumon', 'dose': 0, 'unit':    │\n",
       "│ '', 'dosage_morning': 0, 'dosage_noon': 0, 'dosage_evening': 0, 'dosage_night': 0, 'dosage_information':        │\n",
       "│ 'schedule unknown', 'rxcui': '8150', 'atc_id': 'B01AA', 'atc_name': 'Vitamin K antagonists', 'atc_type':        │\n",
       "│ 'ATC1-4'}]}                                                                                                     │\n",
       "╰─────────────────────────────────────────────────────────────────────────────────────────────────────────────────╯\n",
       "</pre>\n"
      ],
      "text/plain": [
       "╭─────────────────────────────────────────────────────────────────────────────────────────────────────────────────╮\n",
       "│ Calling tool: 'save_csv' with arguments: {'task_name': 'medication', 'data': [{'patient_id': 4,                 │\n",
       "│ 'medication_reference': 'Pantoprazol 40 mg  0-0-1', 'medication_name': 'Pantoprazol', 'medication_translated':  │\n",
       "│ 'Pantoprazole (pantoprazole)', 'active_ingredient': 'pantoprazole', 'dose': 40, 'unit': 'mg', 'dosage_morning': │\n",
       "│ 0, 'dosage_noon': 0, 'dosage_evening': 1, 'dosage_night': 0, 'dosage_information': '', 'rxcui': '40790',        │\n",
       "│ 'atc_id': 'A02BC', 'atc_name': 'Proton pump inhibitors', 'atc_type': 'ATC1-4'}, {'patient_id': 4,               │\n",
       "│ 'medication_reference': 'HCT 25 mg   1-0-0', 'medication_name': 'HCT', 'medication_translated': 'HCT            │\n",
       "│ (hydrochlorothiazide)', 'active_ingredient': 'hydrochlorothiazide', 'dose': 25, 'unit': 'mg', 'dosage_morning': │\n",
       "│ 1, 'dosage_noon': 0, 'dosage_evening': 0, 'dosage_night': 0, 'dosage_information': '', 'rxcui': '5487',         │\n",
       "│ 'atc_id': 'C09DX', 'atc_name': 'Angiotensin II receptor blockers (ARBs), other combinations', 'atc_type':       │\n",
       "│ 'ATC1-4'}, {'patient_id': 4, 'medication_reference': 'Bisoprolol 5 mg   1-0-0', 'medication_name':              │\n",
       "│ 'Bisoprolol', 'medication_translated': 'Bisoprolol (bisoprolol)', 'active_ingredient': 'bisoprolol', 'dose': 5, │\n",
       "│ 'unit': 'mg', 'dosage_morning': 1, 'dosage_noon': 0, 'dosage_evening': 0, 'dosage_night': 0,                    │\n",
       "│ 'dosage_information': '', 'rxcui': '19484', 'atc_id': 'C07AB', 'atc_name': 'Beta blocking agents, selective',   │\n",
       "│ 'atc_type': 'ATC1-4'}, {'patient_id': 4, 'medication_reference': 'Ramipril 5 mg   1-0-0', 'medication_name':    │\n",
       "│ 'Ramipril', 'medication_translated': 'Ramipril (ramipril)', 'active_ingredient': 'ramipril', 'dose': 5, 'unit': │\n",
       "│ 'mg', 'dosage_morning': 1, 'dosage_noon': 0, 'dosage_evening': 0, 'dosage_night': 0, 'dosage_information': '',  │\n",
       "│ 'rxcui': '35296', 'atc_id': 'C09AA', 'atc_name': 'ACE inhibitors, plain', 'atc_type': 'ATC1-4'}, {'patient_id': │\n",
       "│ 4, 'medication_reference': 'Torasemid 10 mg   1-0-0', 'medication_name': 'Torasemid', 'medication_translated':  │\n",
       "│ 'Torasemide (torasemide)', 'active_ingredient': 'torasemide', 'dose': 10, 'unit': 'mg', 'dosage_morning': 1,    │\n",
       "│ 'dosage_noon': 0, 'dosage_evening': 0, 'dosage_night': 0, 'dosage_information': '', 'rxcui': '38413', 'atc_id': │\n",
       "│ 'C03CA', 'atc_name': 'Sulfonamides, plain', 'atc_type': 'ATC1-4'}, {'patient_id': 4, 'medication_reference':    │\n",
       "│ 'Clopidogrel 75 mg   1-0-0', 'medication_name': 'Clopidogrel', 'medication_translated': 'Clopidogrel            │\n",
       "│ (clopidogrel)', 'active_ingredient': 'clopidogrel', 'dose': 75, 'unit': 'mg', 'dosage_morning': 1,              │\n",
       "│ 'dosage_noon': 0, 'dosage_evening': 0, 'dosage_night': 0, 'dosage_information': '', 'rxcui': '32968', 'atc_id': │\n",
       "│ 'B01AC', 'atc_name': 'Platelet aggregation inhibitors excl. heparin', 'atc_type': 'ATC1-4'}, {'patient_id': 4,  │\n",
       "│ 'medication_reference': 'ASS 100  1-0-0', 'medication_name': 'ASS', 'medication_translated': 'Aspirin           │\n",
       "│ (acetylsalicylic acid)', 'active_ingredient': 'acetylsalicylic acid', 'dose': 100, 'unit': 'mg',                │\n",
       "│ 'dosage_morning': 1, 'dosage_noon': 0, 'dosage_evening': 0, 'dosage_night': 0, 'dosage_information': '',        │\n",
       "│ 'rxcui': '1191', 'atc_id': 'N02BA', 'atc_name': 'Salicylic acid and derivatives', 'atc_type': 'ATC1-4'},        │\n",
       "│ {'patient_id': 4, 'medication_reference': 'Macumar nach INR', 'medication_name': 'Macumar',                     │\n",
       "│ 'medication_translated': 'Macumar (phenprocoumon)', 'active_ingredient': 'phenprocoumon', 'dose': 0, 'unit':    │\n",
       "│ '', 'dosage_morning': 0, 'dosage_noon': 0, 'dosage_evening': 0, 'dosage_night': 0, 'dosage_information':        │\n",
       "│ 'schedule unknown', 'rxcui': '8150', 'atc_id': 'B01AA', 'atc_name': 'Vitamin K antagonists', 'atc_type':        │\n",
       "│ 'ATC1-4'}]}                                                                                                     │\n",
       "╰─────────────────────────────────────────────────────────────────────────────────────────────────────────────────╯\n"
      ]
     },
     "metadata": {},
     "output_type": "display_data"
    },
    {
     "data": {
      "text/html": [
       "<pre style=\"white-space:pre;overflow-x:auto;line-height:normal;font-family:Menlo,'DejaVu Sans Mono',consolas,'Courier New',monospace\">Observations: Saved data for task medication to \n",
       "<span style=\"color: #800080; text-decoration-color: #800080\">/Users/christian/Projects/aidh-ms/MedMiner/examples/result/</span><span style=\"color: #ff00ff; text-decoration-color: #ff00ff\">medication.csv</span>\n",
       "</pre>\n"
      ],
      "text/plain": [
       "Observations: Saved data for task medication to \n",
       "\u001b[35m/Users/christian/Projects/aidh-ms/MedMiner/examples/result/\u001b[0m\u001b[95mmedication.csv\u001b[0m\n"
      ]
     },
     "metadata": {},
     "output_type": "display_data"
    },
    {
     "data": {
      "text/html": [
       "<pre style=\"white-space:pre;overflow-x:auto;line-height:normal;font-family:Menlo,'DejaVu Sans Mono',consolas,'Courier New',monospace\"><span style=\"color: #7f7f7f; text-decoration-color: #7f7f7f\">[Step 4: Duration 11.13 seconds| Input tokens: 20,904 | Output tokens: 1,816]</span>\n",
       "</pre>\n"
      ],
      "text/plain": [
       "\u001b[2m[Step 4: Duration 11.13 seconds| Input tokens: 20,904 | Output tokens: 1,816]\u001b[0m\n"
      ]
     },
     "metadata": {},
     "output_type": "display_data"
    },
    {
     "data": {
      "text/html": [
       "<pre style=\"white-space:pre;overflow-x:auto;line-height:normal;font-family:Menlo,'DejaVu Sans Mono',consolas,'Courier New',monospace\"><span style=\"color: #d4b702; text-decoration-color: #d4b702\">━━━━━━━━━━━━━━━━━━━━━━━━━━━━━━━━━━━━━━━━━━━━━━━━━━━━━ </span><span style=\"font-weight: bold\">Step </span><span style=\"color: #008080; text-decoration-color: #008080; font-weight: bold\">5</span><span style=\"color: #d4b702; text-decoration-color: #d4b702\"> ━━━━━━━━━━━━━━━━━━━━━━━━━━━━━━━━━━━━━━━━━━━━━━━━━━━━━━</span>\n",
       "</pre>\n"
      ],
      "text/plain": [
       "\u001b[38;2;212;183;2m━━━━━━━━━━━━━━━━━━━━━━━━━━━━━━━━━━━━━━━━━━━━━━━━━━━━━ \u001b[0m\u001b[1mStep \u001b[0m\u001b[1;36m5\u001b[0m\u001b[38;2;212;183;2m ━━━━━━━━━━━━━━━━━━━━━━━━━━━━━━━━━━━━━━━━━━━━━━━━━━━━━━\u001b[0m\n"
      ]
     },
     "metadata": {},
     "output_type": "display_data"
    },
    {
     "data": {
      "text/html": [
       "<pre style=\"white-space:pre;overflow-x:auto;line-height:normal;font-family:Menlo,'DejaVu Sans Mono',consolas,'Courier New',monospace\">╭─────────────────────────────────────────────────────────────────────────────────────────────────────────────────╮\n",
       "│ Calling tool: 'final_answer' with arguments: {'answer': \"Medications have been successfully saved as a CSV file │\n",
       "│ at '/Users/christian/Projects/aidh-ms/MedMiner/examples/result/medication.csv'.\"}                               │\n",
       "╰─────────────────────────────────────────────────────────────────────────────────────────────────────────────────╯\n",
       "</pre>\n"
      ],
      "text/plain": [
       "╭─────────────────────────────────────────────────────────────────────────────────────────────────────────────────╮\n",
       "│ Calling tool: 'final_answer' with arguments: {'answer': \"Medications have been successfully saved as a CSV file │\n",
       "│ at '/Users/christian/Projects/aidh-ms/MedMiner/examples/result/medication.csv'.\"}                               │\n",
       "╰─────────────────────────────────────────────────────────────────────────────────────────────────────────────────╯\n"
      ]
     },
     "metadata": {},
     "output_type": "display_data"
    },
    {
     "data": {
      "text/html": [
       "<pre style=\"white-space:pre;overflow-x:auto;line-height:normal;font-family:Menlo,'DejaVu Sans Mono',consolas,'Courier New',monospace\"><span style=\"color: #d4b702; text-decoration-color: #d4b702; font-weight: bold\">Final answer: Medications have been successfully saved as a CSV file at </span>\n",
       "<span style=\"color: #d4b702; text-decoration-color: #d4b702; font-weight: bold\">'/Users/christian/Projects/aidh-ms/MedMiner/examples/result/medication.csv'.</span>\n",
       "</pre>\n"
      ],
      "text/plain": [
       "\u001b[1;38;2;212;183;2mFinal answer: Medications have been successfully saved as a CSV file at \u001b[0m\n",
       "\u001b[1;38;2;212;183;2m'/Users/christian/Projects/aidh-ms/MedMiner/examples/result/medication.csv'.\u001b[0m\n"
      ]
     },
     "metadata": {},
     "output_type": "display_data"
    },
    {
     "data": {
      "text/html": [
       "<pre style=\"white-space:pre;overflow-x:auto;line-height:normal;font-family:Menlo,'DejaVu Sans Mono',consolas,'Courier New',monospace\"><span style=\"color: #7f7f7f; text-decoration-color: #7f7f7f\">[Step 5: Duration 18.11 seconds| Input tokens: 28,505 | Output tokens: 1,862]</span>\n",
       "</pre>\n"
      ],
      "text/plain": [
       "\u001b[2m[Step 5: Duration 18.11 seconds| Input tokens: 28,505 | Output tokens: 1,862]\u001b[0m\n"
      ]
     },
     "metadata": {},
     "output_type": "display_data"
    },
    {
     "data": {
      "text/html": [
       "<pre style=\"white-space:pre;overflow-x:auto;line-height:normal;font-family:Menlo,'DejaVu Sans Mono',consolas,'Courier New',monospace\"><span style=\"color: #d4b702; text-decoration-color: #d4b702\">╭──────────────────────────────────────────────────── </span><span style=\"color: #d4b702; text-decoration-color: #d4b702; font-weight: bold\">New run</span><span style=\"color: #d4b702; text-decoration-color: #d4b702\"> ────────────────────────────────────────────────────╮</span>\n",
       "<span style=\"color: #d4b702; text-decoration-color: #d4b702\">│</span>                                                                                                                 <span style=\"color: #d4b702; text-decoration-color: #d4b702\">│</span>\n",
       "<span style=\"color: #d4b702; text-decoration-color: #d4b702\">│</span> <span style=\"font-weight: bold\">Task name: medication</span>                                                                                           <span style=\"color: #d4b702; text-decoration-color: #d4b702\">│</span>\n",
       "<span style=\"color: #d4b702; text-decoration-color: #d4b702\">│</span> <span style=\"font-weight: bold\">Prompt: </span>                                                                                                        <span style=\"color: #d4b702; text-decoration-color: #d4b702\">│</span>\n",
       "<span style=\"color: #d4b702; text-decoration-color: #d4b702\">│</span> <span style=\"font-weight: bold\">    Given a list of medications, save all medications for the patient as csv. The medications can be in any </span>    <span style=\"color: #d4b702; text-decoration-color: #d4b702\">│</span>\n",
       "<span style=\"color: #d4b702; text-decoration-color: #d4b702\">│</span> <span style=\"font-weight: bold\">language. The medications are usually in the format of a list of medications, with dosage and unit as well as </span>  <span style=\"color: #d4b702; text-decoration-color: #d4b702\">│</span>\n",
       "<span style=\"color: #d4b702; text-decoration-color: #d4b702\">│</span> <span style=\"font-weight: bold\">their dosage timings (e.g. 1-0-1-0 for moring and evening but not noon or night). Every medication should have </span> <span style=\"color: #d4b702; text-decoration-color: #d4b702\">│</span>\n",
       "<span style=\"color: #d4b702; text-decoration-color: #d4b702\">│</span> <span style=\"font-weight: bold\">a single row, if there are multiple medications that can be extracted from a single piece of text, e.g. a </span>      <span style=\"color: #d4b702; text-decoration-color: #d4b702\">│</span>\n",
       "<span style=\"color: #d4b702; text-decoration-color: #d4b702\">│</span> <span style=\"font-weight: bold\">combined medication, split them up. These are the steps you should follow to complete the task:</span>                 <span style=\"color: #d4b702; text-decoration-color: #d4b702\">│</span>\n",
       "<span style=\"color: #d4b702; text-decoration-color: #d4b702\">│</span>                                                                                                                 <span style=\"color: #d4b702; text-decoration-color: #d4b702\">│</span>\n",
       "<span style=\"color: #d4b702; text-decoration-color: #d4b702\">│</span> <span style=\"font-weight: bold\">    To complete the task make the following steps:</span>                                                              <span style=\"color: #d4b702; text-decoration-color: #d4b702\">│</span>\n",
       "<span style=\"color: #d4b702; text-decoration-color: #d4b702\">│</span> <span style=\"font-weight: bold\">    1. Extract the medications from the text. The medication can be in any language. This is the </span>               <span style=\"color: #d4b702; text-decoration-color: #d4b702\">│</span>\n",
       "<span style=\"color: #d4b702; text-decoration-color: #d4b702\">│</span> <span style=\"font-weight: bold\">medication_reference column.</span>                                                                                    <span style=\"color: #d4b702; text-decoration-color: #d4b702\">│</span>\n",
       "<span style=\"color: #d4b702; text-decoration-color: #d4b702\">│</span> <span style=\"font-weight: bold\">    2. If the medication name is not in english, translate it to english and infer the medication_translated </span>   <span style=\"color: #d4b702; text-decoration-color: #d4b702\">│</span>\n",
       "<span style=\"color: #d4b702; text-decoration-color: #d4b702\">│</span> <span style=\"font-weight: bold\">column. Correct any misspellings in the process. Use the following format \"Brand name or medication name </span>       <span style=\"color: #d4b702; text-decoration-color: #d4b702\">│</span>\n",
       "<span style=\"color: #d4b702; text-decoration-color: #d4b702\">│</span> <span style=\"font-weight: bold\">(active ingredient)\". e.g. \"Aspirin (acetylsalicylic acid)\".</span>                                                    <span style=\"color: #d4b702; text-decoration-color: #d4b702\">│</span>\n",
       "<span style=\"color: #d4b702; text-decoration-color: #d4b702\">│</span> <span style=\"font-weight: bold\">    3. Extract the active ingredient of the medication and loose everything that is not relevant. This is the </span>  <span style=\"color: #d4b702; text-decoration-color: #d4b702\">│</span>\n",
       "<span style=\"color: #d4b702; text-decoration-color: #d4b702\">│</span> <span style=\"font-weight: bold\">active_ingredient column.</span>                                                                                       <span style=\"color: #d4b702; text-decoration-color: #d4b702\">│</span>\n",
       "<span style=\"color: #d4b702; text-decoration-color: #d4b702\">│</span> <span style=\"font-weight: bold\">    4. Extract the dose of the medication. This should only contain the numeric value. This is the dose column.</span> <span style=\"color: #d4b702; text-decoration-color: #d4b702\">│</span>\n",
       "<span style=\"color: #d4b702; text-decoration-color: #d4b702\">│</span> <span style=\"font-weight: bold\">    5. Extract the unit of the dose (e.g. ml, mg, ...). If possible, use mg. If not applicable, write an empty </span> <span style=\"color: #d4b702; text-decoration-color: #d4b702\">│</span>\n",
       "<span style=\"color: #d4b702; text-decoration-color: #d4b702\">│</span> <span style=\"font-weight: bold\">string. This is the unit column.</span>                                                                                <span style=\"color: #d4b702; text-decoration-color: #d4b702\">│</span>\n",
       "<span style=\"color: #d4b702; text-decoration-color: #d4b702\">│</span> <span style=\"font-weight: bold\">    6. Extract the dosage timings of the medication. This is the dosage_morning, dosage_noon, dosage_evening </span>   <span style=\"color: #d4b702; text-decoration-color: #d4b702\">│</span>\n",
       "<span style=\"color: #d4b702; text-decoration-color: #d4b702\">│</span> <span style=\"font-weight: bold\">and dosage_night columns. If you see that the patient is not taking a medication at a certain time point, write</span> <span style=\"color: #d4b702; text-decoration-color: #d4b702\">│</span>\n",
       "<span style=\"color: #d4b702; text-decoration-color: #d4b702\">│</span> <span style=\"font-weight: bold\">a 0. If you are unsure or missing the information, leave empty.</span>                                                 <span style=\"color: #d4b702; text-decoration-color: #d4b702\">│</span>\n",
       "<span style=\"color: #d4b702; text-decoration-color: #d4b702\">│</span> <span style=\"font-weight: bold\">    7. Extract the dosage information of the medication. This is the dosage_information column. You can write </span>  <span style=\"color: #d4b702; text-decoration-color: #d4b702\">│</span>\n",
       "<span style=\"color: #d4b702; text-decoration-color: #d4b702\">│</span> <span style=\"font-weight: bold\">any further information here that does not fit the description before. If you see an indication that this might</span> <span style=\"color: #d4b702; text-decoration-color: #d4b702\">│</span>\n",
       "<span style=\"color: #d4b702; text-decoration-color: #d4b702\">│</span> <span style=\"font-weight: bold\">be a medication that is taken \"as needed\" write \"as needed\" here. If you weren't able to infer a medication </span>    <span style=\"color: #d4b702; text-decoration-color: #d4b702\">│</span>\n",
       "<span style=\"color: #d4b702; text-decoration-color: #d4b702\">│</span> <span style=\"font-weight: bold\">schedule in the task before, write \"schedule unkown\". If not applicable, write an empty string.</span>                 <span style=\"color: #d4b702; text-decoration-color: #d4b702\">│</span>\n",
       "<span style=\"color: #d4b702; text-decoration-color: #d4b702\">│</span> <span style=\"font-weight: bold\">    8. get the RXCUI for all medications. Use the active ingredient of the medications. If there are multiple </span>  <span style=\"color: #d4b702; text-decoration-color: #d4b702\">│</span>\n",
       "<span style=\"color: #d4b702; text-decoration-color: #d4b702\">│</span> <span style=\"font-weight: bold\">RXCUI codes, choose the one that fits the best to the translated medication. Usually, the first candidate with </span> <span style=\"color: #d4b702; text-decoration-color: #d4b702\">│</span>\n",
       "<span style=\"color: #d4b702; text-decoration-color: #d4b702\">│</span> <span style=\"font-weight: bold\">a score of 1 is the best choice, but you can decide otherwise if you have reasonable grounds for another </span>       <span style=\"color: #d4b702; text-decoration-color: #d4b702\">│</span>\n",
       "<span style=\"color: #d4b702; text-decoration-color: #d4b702\">│</span> <span style=\"font-weight: bold\">decision. If there are no codes, write an empty string.</span>                                                         <span style=\"color: #d4b702; text-decoration-color: #d4b702\">│</span>\n",
       "<span style=\"color: #d4b702; text-decoration-color: #d4b702\">│</span> <span style=\"font-weight: bold\">    9. get the ATC code for all medications. Use the rxcui of the medications.</span>                                  <span style=\"color: #d4b702; text-decoration-color: #d4b702\">│</span>\n",
       "<span style=\"color: #d4b702; text-decoration-color: #d4b702\">│</span> <span style=\"font-weight: bold\">    10. save the medication information as csv with the columns defined below.</span>                                  <span style=\"color: #d4b702; text-decoration-color: #d4b702\">│</span>\n",
       "<span style=\"color: #d4b702; text-decoration-color: #d4b702\">│</span>                                                                                                                 <span style=\"color: #d4b702; text-decoration-color: #d4b702\">│</span>\n",
       "<span style=\"color: #d4b702; text-decoration-color: #d4b702\">│</span> <span style=\"font-weight: bold\">    Example 1:</span>                                                                                                  <span style=\"color: #d4b702; text-decoration-color: #d4b702\">│</span>\n",
       "<span style=\"color: #d4b702; text-decoration-color: #d4b702\">│</span> <span style=\"font-weight: bold\">    Input: \"Aspirin 100mg 1-0-1-0\"</span>                                                                              <span style=\"color: #d4b702; text-decoration-color: #d4b702\">│</span>\n",
       "<span style=\"color: #d4b702; text-decoration-color: #d4b702\">│</span> <span style=\"font-weight: bold\">    Output: [</span>                                                                                                   <span style=\"color: #d4b702; text-decoration-color: #d4b702\">│</span>\n",
       "<span style=\"color: #d4b702; text-decoration-color: #d4b702\">│</span> <span style=\"font-weight: bold\">        {\"patient_id\": 1, \"medication_reference\": \"Aspirin 100mg\", \"medication_name\": \"Aspirin\", </span>               <span style=\"color: #d4b702; text-decoration-color: #d4b702\">│</span>\n",
       "<span style=\"color: #d4b702; text-decoration-color: #d4b702\">│</span> <span style=\"font-weight: bold\">\"medication_translated\": \"Aspirin (acetylsalicylic acid)\", \"active_ingredient\": \"acetylsalicylic acid\", \"dose\":</span> <span style=\"color: #d4b702; text-decoration-color: #d4b702\">│</span>\n",
       "<span style=\"color: #d4b702; text-decoration-color: #d4b702\">│</span> <span style=\"font-weight: bold\">100, \"unit\": \"mg\", \"dosage_morning\": 1, \"dosage_noon\": 0, \"dosage_evening\": 1, \"dosage_night\": 0, </span>              <span style=\"color: #d4b702; text-decoration-color: #d4b702\">│</span>\n",
       "<span style=\"color: #d4b702; text-decoration-color: #d4b702\">│</span> <span style=\"font-weight: bold\">\"dosage_information\": \"\", \"rxcui\": \"\", \"atc_id\": \"\", \"atc_name\": \"\", \"atc_type\": \"\"}</span>                            <span style=\"color: #d4b702; text-decoration-color: #d4b702\">│</span>\n",
       "<span style=\"color: #d4b702; text-decoration-color: #d4b702\">│</span> <span style=\"font-weight: bold\">    \\]</span>                                                                                                          <span style=\"color: #d4b702; text-decoration-color: #d4b702\">│</span>\n",
       "<span style=\"color: #d4b702; text-decoration-color: #d4b702\">│</span> <span style=\"font-weight: bold\">    Example 2:</span>                                                                                                  <span style=\"color: #d4b702; text-decoration-color: #d4b702\">│</span>\n",
       "<span style=\"color: #d4b702; text-decoration-color: #d4b702\">│</span> <span style=\"font-weight: bold\">    Input: \"Paracetamol 500mg 1-0-0-0\"</span>                                                                          <span style=\"color: #d4b702; text-decoration-color: #d4b702\">│</span>\n",
       "<span style=\"color: #d4b702; text-decoration-color: #d4b702\">│</span> <span style=\"font-weight: bold\">    Output: [</span>                                                                                                   <span style=\"color: #d4b702; text-decoration-color: #d4b702\">│</span>\n",
       "<span style=\"color: #d4b702; text-decoration-color: #d4b702\">│</span> <span style=\"font-weight: bold\">        {\"patient_id\": 2, \"medication_reference\": \"Paracetamol 500mg\", \"medication_name\": \"Paracetamol\", </span>       <span style=\"color: #d4b702; text-decoration-color: #d4b702\">│</span>\n",
       "<span style=\"color: #d4b702; text-decoration-color: #d4b702\">│</span> <span style=\"font-weight: bold\">\"medication_translated\": \"Paracetamol (acetaminophen)\", \"active_ingredient\": \"acetaminophen\", \"dose\": 500, </span>     <span style=\"color: #d4b702; text-decoration-color: #d4b702\">│</span>\n",
       "<span style=\"color: #d4b702; text-decoration-color: #d4b702\">│</span> <span style=\"font-weight: bold\">\"unit\": \"mg\", \"dosage_morning\": 1, \"dosage_noon\": 0, \"dosage_evening\": 0, \"dosage_night\": 0, </span>                   <span style=\"color: #d4b702; text-decoration-color: #d4b702\">│</span>\n",
       "<span style=\"color: #d4b702; text-decoration-color: #d4b702\">│</span> <span style=\"font-weight: bold\">\"dosage_information\": \"\", \"rxcui\": \"\", \"atc_id\": \"\", \"atc_name\": \"\", \"atc_type\": \"\"}</span>                            <span style=\"color: #d4b702; text-decoration-color: #d4b702\">│</span>\n",
       "<span style=\"color: #d4b702; text-decoration-color: #d4b702\">│</span> <span style=\"font-weight: bold\">    \\]</span>                                                                                                          <span style=\"color: #d4b702; text-decoration-color: #d4b702\">│</span>\n",
       "<span style=\"color: #d4b702; text-decoration-color: #d4b702\">│</span> <span style=\"font-weight: bold\">    Example 3:</span>                                                                                                  <span style=\"color: #d4b702; text-decoration-color: #d4b702\">│</span>\n",
       "<span style=\"color: #d4b702; text-decoration-color: #d4b702\">│</span> <span style=\"font-weight: bold\">    Input: \"Ibuprofen 400mg 1-1-0-0\"</span>                                                                            <span style=\"color: #d4b702; text-decoration-color: #d4b702\">│</span>\n",
       "<span style=\"color: #d4b702; text-decoration-color: #d4b702\">│</span> <span style=\"font-weight: bold\">    Output: [</span>                                                                                                   <span style=\"color: #d4b702; text-decoration-color: #d4b702\">│</span>\n",
       "<span style=\"color: #d4b702; text-decoration-color: #d4b702\">│</span> <span style=\"font-weight: bold\">        {\"patient_id\": 3, \"medication_reference\": \"Ibuprofen 400mg\", \"medication_name\": \"Ibuprofen\", </span>           <span style=\"color: #d4b702; text-decoration-color: #d4b702\">│</span>\n",
       "<span style=\"color: #d4b702; text-decoration-color: #d4b702\">│</span> <span style=\"font-weight: bold\">\"medication_translated\": \"Ibuprofen (ibuprofen)\", \"active_ingredient\": \"ibuprofen\", \"dose\": 400, \"unit\": \"mg\", </span> <span style=\"color: #d4b702; text-decoration-color: #d4b702\">│</span>\n",
       "<span style=\"color: #d4b702; text-decoration-color: #d4b702\">│</span> <span style=\"font-weight: bold\">\"dosage_morning\": 1, \"dosage_noon\": 1, \"dosage_evening\": 0, \"dosage_night\": 0, \"dosage_information\": \"\", </span>       <span style=\"color: #d4b702; text-decoration-color: #d4b702\">│</span>\n",
       "<span style=\"color: #d4b702; text-decoration-color: #d4b702\">│</span> <span style=\"font-weight: bold\">\"rxcui\": \"\", \"atc_id\": \"\", \"atc_name\": \"\", \"atc_type\": \"\"}</span>                                                      <span style=\"color: #d4b702; text-decoration-color: #d4b702\">│</span>\n",
       "<span style=\"color: #d4b702; text-decoration-color: #d4b702\">│</span> <span style=\"font-weight: bold\">    \\]</span>                                                                                                          <span style=\"color: #d4b702; text-decoration-color: #d4b702\">│</span>\n",
       "<span style=\"color: #d4b702; text-decoration-color: #d4b702\">│</span> <span style=\"font-weight: bold\">    Example 4:</span>                                                                                                  <span style=\"color: #d4b702; text-decoration-color: #d4b702\">│</span>\n",
       "<span style=\"color: #d4b702; text-decoration-color: #d4b702\">│</span> <span style=\"font-weight: bold\">    Input: \"Piperacillin/Tazobactam 1g/1g 1-0-1-0\"</span>                                                              <span style=\"color: #d4b702; text-decoration-color: #d4b702\">│</span>\n",
       "<span style=\"color: #d4b702; text-decoration-color: #d4b702\">│</span> <span style=\"font-weight: bold\">    Output: [</span>                                                                                                   <span style=\"color: #d4b702; text-decoration-color: #d4b702\">│</span>\n",
       "<span style=\"color: #d4b702; text-decoration-color: #d4b702\">│</span> <span style=\"font-weight: bold\">        {\"patient_id\": 4, \"medication_reference\": \"Piperacillin/Tazobactam 1g/1g\", \"medication_name\": </span>          <span style=\"color: #d4b702; text-decoration-color: #d4b702\">│</span>\n",
       "<span style=\"color: #d4b702; text-decoration-color: #d4b702\">│</span> <span style=\"font-weight: bold\">\"Piperacillin\", \"medication_translated\": \"Piperacillin (piperacillin)\", \"active_ingredient\": \"piperacillin\", </span>   <span style=\"color: #d4b702; text-decoration-color: #d4b702\">│</span>\n",
       "<span style=\"color: #d4b702; text-decoration-color: #d4b702\">│</span> <span style=\"font-weight: bold\">\"dose\": 1000, \"unit\": \"mg\", \"dosage_morning\": 1, \"dosage_noon\": 0, \"dosage_evening\": 1, \"dosage_night\": 0, </span>     <span style=\"color: #d4b702; text-decoration-color: #d4b702\">│</span>\n",
       "<span style=\"color: #d4b702; text-decoration-color: #d4b702\">│</span> <span style=\"font-weight: bold\">\"dosage_information\": \"\", \"rxcui\": \"\", \"atc_id\": \"\", \"atc_name\": \"\", \"atc_type\": \"\"},</span>                           <span style=\"color: #d4b702; text-decoration-color: #d4b702\">│</span>\n",
       "<span style=\"color: #d4b702; text-decoration-color: #d4b702\">│</span> <span style=\"font-weight: bold\">        {\"patient_id\": 4, \"medication_reference\": \"Piperacillin/Tazobactam 1g/1g\", \"medication_name\": </span>          <span style=\"color: #d4b702; text-decoration-color: #d4b702\">│</span>\n",
       "<span style=\"color: #d4b702; text-decoration-color: #d4b702\">│</span> <span style=\"font-weight: bold\">\"Tazobactam\", \"medication_translated\": \"Tazobactam (tazobactam)\", \"active_ingredient\": \"tazobactam\", \"dose\": </span>   <span style=\"color: #d4b702; text-decoration-color: #d4b702\">│</span>\n",
       "<span style=\"color: #d4b702; text-decoration-color: #d4b702\">│</span> <span style=\"font-weight: bold\">1000, \"unit\": \"mg\", \"dosage_morning\": 1, \"dosage_noon\": 0, \"dosage_evening\": 1, \"dosage_night\": 0, </span>             <span style=\"color: #d4b702; text-decoration-color: #d4b702\">│</span>\n",
       "<span style=\"color: #d4b702; text-decoration-color: #d4b702\">│</span> <span style=\"font-weight: bold\">\"dosage_information\": \"\", \"rxcui\": \"\", \"atc_id\": \"\", \"atc_name\": \"\", \"atc_type\": \"\"}</span>                            <span style=\"color: #d4b702; text-decoration-color: #d4b702\">│</span>\n",
       "<span style=\"color: #d4b702; text-decoration-color: #d4b702\">│</span> <span style=\"font-weight: bold\">    \\]</span>                                                                                                          <span style=\"color: #d4b702; text-decoration-color: #d4b702\">│</span>\n",
       "<span style=\"color: #d4b702; text-decoration-color: #d4b702\">│</span> <span style=\"font-weight: bold\">    Example 5:</span>                                                                                                  <span style=\"color: #d4b702; text-decoration-color: #d4b702\">│</span>\n",
       "<span style=\"color: #d4b702; text-decoration-color: #d4b702\">│</span> <span style=\"font-weight: bold\">    Input: \"Tilidin 5mg bB\"</span>                                                                                     <span style=\"color: #d4b702; text-decoration-color: #d4b702\">│</span>\n",
       "<span style=\"color: #d4b702; text-decoration-color: #d4b702\">│</span> <span style=\"font-weight: bold\">    Output: [</span>                                                                                                   <span style=\"color: #d4b702; text-decoration-color: #d4b702\">│</span>\n",
       "<span style=\"color: #d4b702; text-decoration-color: #d4b702\">│</span> <span style=\"font-weight: bold\">        {\"patient_id\": 5, \"medication_reference\": \"Tilidin 5mg bB\", \"medication_name\": \"Tilidin\", </span>              <span style=\"color: #d4b702; text-decoration-color: #d4b702\">│</span>\n",
       "<span style=\"color: #d4b702; text-decoration-color: #d4b702\">│</span> <span style=\"font-weight: bold\">\"medication_translated\": \"Tilidin (tilidine)\", \"active_ingredient\": \"tilidine\", \"dose\": 5, \"unit\": \"mg\", </span>       <span style=\"color: #d4b702; text-decoration-color: #d4b702\">│</span>\n",
       "<span style=\"color: #d4b702; text-decoration-color: #d4b702\">│</span> <span style=\"font-weight: bold\">\"dosage_morning\": 0, \"dosage_noon\": 0, \"dosage_evening\": 0, \"dosage_night\": 0, \"dosage_information\": \"as </span>       <span style=\"color: #d4b702; text-decoration-color: #d4b702\">│</span>\n",
       "<span style=\"color: #d4b702; text-decoration-color: #d4b702\">│</span> <span style=\"font-weight: bold\">needed\", \"rxcui\": \"\", \"atc_id\": \"\", \"atc_name\": \"\", \"atc_type\": \"\"}</span>                                             <span style=\"color: #d4b702; text-decoration-color: #d4b702\">│</span>\n",
       "<span style=\"color: #d4b702; text-decoration-color: #d4b702\">│</span> <span style=\"font-weight: bold\">    \\]</span>                                                                                                          <span style=\"color: #d4b702; text-decoration-color: #d4b702\">│</span>\n",
       "<span style=\"color: #d4b702; text-decoration-color: #d4b702\">│</span> <span style=\"font-weight: bold\">    Example 6:</span>                                                                                                  <span style=\"color: #d4b702; text-decoration-color: #d4b702\">│</span>\n",
       "<span style=\"color: #d4b702; text-decoration-color: #d4b702\">│</span> <span style=\"font-weight: bold\">    Input: \"Amlodipin 5mg\"</span>                                                                                      <span style=\"color: #d4b702; text-decoration-color: #d4b702\">│</span>\n",
       "<span style=\"color: #d4b702; text-decoration-color: #d4b702\">│</span> <span style=\"font-weight: bold\">    Output: [</span>                                                                                                   <span style=\"color: #d4b702; text-decoration-color: #d4b702\">│</span>\n",
       "<span style=\"color: #d4b702; text-decoration-color: #d4b702\">│</span> <span style=\"font-weight: bold\">        {\"patient_id\": 6, \"medication_reference\": \"Amlodipin 5mg\", \"medication_name\": \"Amlodipin\", </span>             <span style=\"color: #d4b702; text-decoration-color: #d4b702\">│</span>\n",
       "<span style=\"color: #d4b702; text-decoration-color: #d4b702\">│</span> <span style=\"font-weight: bold\">\"medication_translated\": \"Amlodipine (amlodipine)\", \"active_ingredient\": \"amlodipine\", \"dose\": 5, \"unit\": \"mg\",</span> <span style=\"color: #d4b702; text-decoration-color: #d4b702\">│</span>\n",
       "<span style=\"color: #d4b702; text-decoration-color: #d4b702\">│</span> <span style=\"font-weight: bold\">\"dosage_morning\": np.nan, \"dosage_noon\": np.nan, \"dosage_evening\": np.nan, \"dosage_night\": np.nan, </span>             <span style=\"color: #d4b702; text-decoration-color: #d4b702\">│</span>\n",
       "<span style=\"color: #d4b702; text-decoration-color: #d4b702\">│</span> <span style=\"font-weight: bold\">\"dosage_information\": \"schedule unkown\", \"rxcui\": \"\", \"atc_id\": \"\", \"atc_name\": \"\", \"atc_type\": \"\"}</span>             <span style=\"color: #d4b702; text-decoration-color: #d4b702\">│</span>\n",
       "<span style=\"color: #d4b702; text-decoration-color: #d4b702\">│</span> <span style=\"font-weight: bold\">    \\]</span>                                                                                                          <span style=\"color: #d4b702; text-decoration-color: #d4b702\">│</span>\n",
       "<span style=\"color: #d4b702; text-decoration-color: #d4b702\">│</span>                                                                                                                 <span style=\"color: #d4b702; text-decoration-color: #d4b702\">│</span>\n",
       "<span style=\"color: #d4b702; text-decoration-color: #d4b702\">│</span> <span style=\"font-weight: bold\">    Columns:</span>                                                                                                    <span style=\"color: #d4b702; text-decoration-color: #d4b702\">│</span>\n",
       "<span style=\"color: #d4b702; text-decoration-color: #d4b702\">│</span> <span style=\"font-weight: bold\">    - patient_id: The patient ID.</span>                                                                               <span style=\"color: #d4b702; text-decoration-color: #d4b702\">│</span>\n",
       "<span style=\"color: #d4b702; text-decoration-color: #d4b702\">│</span> <span style=\"font-weight: bold\">    - medication_reference: The medication name in the document.</span>                                                <span style=\"color: #d4b702; text-decoration-color: #d4b702\">│</span>\n",
       "<span style=\"color: #d4b702; text-decoration-color: #d4b702\">│</span> <span style=\"font-weight: bold\">    - medication_name: The name of the medication in the document without dose, unit or additional information.</span> <span style=\"color: #d4b702; text-decoration-color: #d4b702\">│</span>\n",
       "<span style=\"color: #d4b702; text-decoration-color: #d4b702\">│</span> <span style=\"font-weight: bold\">    - medication_translated: The corrected name of the medication, translated to english. Use the following </span>    <span style=\"color: #d4b702; text-decoration-color: #d4b702\">│</span>\n",
       "<span style=\"color: #d4b702; text-decoration-color: #d4b702\">│</span> <span style=\"font-weight: bold\">format \"Brand name or medication name (active ingredient)\". e.g. \"Aspirin (acetylsalicylic acid)\".</span>              <span style=\"color: #d4b702; text-decoration-color: #d4b702\">│</span>\n",
       "<span style=\"color: #d4b702; text-decoration-color: #d4b702\">│</span> <span style=\"font-weight: bold\">    - active_ingredient: The active ingredient of the medication. if not applicable, write an empty string.</span>     <span style=\"color: #d4b702; text-decoration-color: #d4b702\">│</span>\n",
       "<span style=\"color: #d4b702; text-decoration-color: #d4b702\">│</span> <span style=\"font-weight: bold\">    - dose: The dose of the medication. this sould only contain the numeric value.</span>                              <span style=\"color: #d4b702; text-decoration-color: #d4b702\">│</span>\n",
       "<span style=\"color: #d4b702; text-decoration-color: #d4b702\">│</span> <span style=\"font-weight: bold\">    - unit: The unit of the dose (e.g. ml, mg, ...). if not applicable, write an empty string.</span>                  <span style=\"color: #d4b702; text-decoration-color: #d4b702\">│</span>\n",
       "<span style=\"color: #d4b702; text-decoration-color: #d4b702\">│</span> <span style=\"font-weight: bold\">    - dosage_morning: The dose in the morning. if not applicable, write a 0.</span>                                    <span style=\"color: #d4b702; text-decoration-color: #d4b702\">│</span>\n",
       "<span style=\"color: #d4b702; text-decoration-color: #d4b702\">│</span> <span style=\"font-weight: bold\">    - dosage_noon: The dose in the noon. if not applicable, write a 0.</span>                                          <span style=\"color: #d4b702; text-decoration-color: #d4b702\">│</span>\n",
       "<span style=\"color: #d4b702; text-decoration-color: #d4b702\">│</span> <span style=\"font-weight: bold\">    - dosage_evening: The dose in the evening. if not applicable, write a 0.</span>                                    <span style=\"color: #d4b702; text-decoration-color: #d4b702\">│</span>\n",
       "<span style=\"color: #d4b702; text-decoration-color: #d4b702\">│</span> <span style=\"font-weight: bold\">    - dosage_night: The dose in the night. if not applicable, write a 0.</span>                                        <span style=\"color: #d4b702; text-decoration-color: #d4b702\">│</span>\n",
       "<span style=\"color: #d4b702; text-decoration-color: #d4b702\">│</span> <span style=\"font-weight: bold\">    - dosage_information: Additional information about the dosage. if not applicable, write an empty string.</span>    <span style=\"color: #d4b702; text-decoration-color: #d4b702\">│</span>\n",
       "<span style=\"color: #d4b702; text-decoration-color: #d4b702\">│</span> <span style=\"font-weight: bold\">    - rxcui: The RXCUI of the medication. if not applicable, write an empty string.</span>                             <span style=\"color: #d4b702; text-decoration-color: #d4b702\">│</span>\n",
       "<span style=\"color: #d4b702; text-decoration-color: #d4b702\">│</span> <span style=\"font-weight: bold\">    - atc_id: The ATC code of the medication. if not applicable, write an empty string.</span>                         <span style=\"color: #d4b702; text-decoration-color: #d4b702\">│</span>\n",
       "<span style=\"color: #d4b702; text-decoration-color: #d4b702\">│</span> <span style=\"font-weight: bold\">    - atc_name: The name of the ATC code. if not applicable, write an empty string.</span>                             <span style=\"color: #d4b702; text-decoration-color: #d4b702\">│</span>\n",
       "<span style=\"color: #d4b702; text-decoration-color: #d4b702\">│</span> <span style=\"font-weight: bold\">    - atc_type: The type of the ATC code. if not applicable, write an empty string.</span>                             <span style=\"color: #d4b702; text-decoration-color: #d4b702\">│</span>\n",
       "<span style=\"color: #d4b702; text-decoration-color: #d4b702\">│</span>                                                                                                                 <span style=\"color: #d4b702; text-decoration-color: #d4b702\">│</span>\n",
       "<span style=\"color: #d4b702; text-decoration-color: #d4b702\">│</span>                                                                                                                 <span style=\"color: #d4b702; text-decoration-color: #d4b702\">│</span>\n",
       "<span style=\"color: #d4b702; text-decoration-color: #d4b702\">│</span> <span style=\"font-weight: bold\">--------------------------------------------------------------------------------</span>                                <span style=\"color: #d4b702; text-decoration-color: #d4b702\">│</span>\n",
       "<span style=\"color: #d4b702; text-decoration-color: #d4b702\">│</span> <span style=\"font-weight: bold\">Data: </span>                                                                                                          <span style=\"color: #d4b702; text-decoration-color: #d4b702\">│</span>\n",
       "<span style=\"color: #d4b702; text-decoration-color: #d4b702\">│</span> <span style=\"font-weight: bold\">    Patient: 6</span>                                                                                                  <span style=\"color: #d4b702; text-decoration-color: #d4b702\">│</span>\n",
       "<span style=\"color: #d4b702; text-decoration-color: #d4b702\">│</span> <span style=\"font-weight: bold\">    Bisoprolol 5mg</span>                                                                                              <span style=\"color: #d4b702; text-decoration-color: #d4b702\">│</span>\n",
       "<span style=\"color: #d4b702; text-decoration-color: #d4b702\">│</span> <span style=\"font-weight: bold\">    Amlodipin 5mg</span>                                                                                               <span style=\"color: #d4b702; text-decoration-color: #d4b702\">│</span>\n",
       "<span style=\"color: #d4b702; text-decoration-color: #d4b702\">│</span> <span style=\"font-weight: bold\">    Ramipril 10mg</span>                                                                                               <span style=\"color: #d4b702; text-decoration-color: #d4b702\">│</span>\n",
       "<span style=\"color: #d4b702; text-decoration-color: #d4b702\">│</span>                                                                                                                 <span style=\"color: #d4b702; text-decoration-color: #d4b702\">│</span>\n",
       "<span style=\"color: #d4b702; text-decoration-color: #d4b702\">╰─ AzureOpenAIServerModel - gpt-4o ───────────────────────────────────────────────────────────────────────────────╯</span>\n",
       "</pre>\n"
      ],
      "text/plain": [
       "\u001b[38;2;212;183;2m╭─\u001b[0m\u001b[38;2;212;183;2m───────────────────────────────────────────────────\u001b[0m\u001b[38;2;212;183;2m \u001b[0m\u001b[1;38;2;212;183;2mNew run\u001b[0m\u001b[38;2;212;183;2m \u001b[0m\u001b[38;2;212;183;2m───────────────────────────────────────────────────\u001b[0m\u001b[38;2;212;183;2m─╮\u001b[0m\n",
       "\u001b[38;2;212;183;2m│\u001b[0m                                                                                                                 \u001b[38;2;212;183;2m│\u001b[0m\n",
       "\u001b[38;2;212;183;2m│\u001b[0m \u001b[1mTask name: medication\u001b[0m                                                                                           \u001b[38;2;212;183;2m│\u001b[0m\n",
       "\u001b[38;2;212;183;2m│\u001b[0m \u001b[1mPrompt: \u001b[0m                                                                                                        \u001b[38;2;212;183;2m│\u001b[0m\n",
       "\u001b[38;2;212;183;2m│\u001b[0m \u001b[1m    Given a list of medications, save all medications for the patient as csv. The medications can be in any \u001b[0m    \u001b[38;2;212;183;2m│\u001b[0m\n",
       "\u001b[38;2;212;183;2m│\u001b[0m \u001b[1mlanguage. The medications are usually in the format of a list of medications, with dosage and unit as well as \u001b[0m  \u001b[38;2;212;183;2m│\u001b[0m\n",
       "\u001b[38;2;212;183;2m│\u001b[0m \u001b[1mtheir dosage timings (e.g. 1-0-1-0 for moring and evening but not noon or night). Every medication should have \u001b[0m \u001b[38;2;212;183;2m│\u001b[0m\n",
       "\u001b[38;2;212;183;2m│\u001b[0m \u001b[1ma single row, if there are multiple medications that can be extracted from a single piece of text, e.g. a \u001b[0m      \u001b[38;2;212;183;2m│\u001b[0m\n",
       "\u001b[38;2;212;183;2m│\u001b[0m \u001b[1mcombined medication, split them up. These are the steps you should follow to complete the task:\u001b[0m                 \u001b[38;2;212;183;2m│\u001b[0m\n",
       "\u001b[38;2;212;183;2m│\u001b[0m                                                                                                                 \u001b[38;2;212;183;2m│\u001b[0m\n",
       "\u001b[38;2;212;183;2m│\u001b[0m \u001b[1m    To complete the task make the following steps:\u001b[0m                                                              \u001b[38;2;212;183;2m│\u001b[0m\n",
       "\u001b[38;2;212;183;2m│\u001b[0m \u001b[1m    1. Extract the medications from the text. The medication can be in any language. This is the \u001b[0m               \u001b[38;2;212;183;2m│\u001b[0m\n",
       "\u001b[38;2;212;183;2m│\u001b[0m \u001b[1mmedication_reference column.\u001b[0m                                                                                    \u001b[38;2;212;183;2m│\u001b[0m\n",
       "\u001b[38;2;212;183;2m│\u001b[0m \u001b[1m    2. If the medication name is not in english, translate it to english and infer the medication_translated \u001b[0m   \u001b[38;2;212;183;2m│\u001b[0m\n",
       "\u001b[38;2;212;183;2m│\u001b[0m \u001b[1mcolumn. Correct any misspellings in the process. Use the following format \"Brand name or medication name \u001b[0m       \u001b[38;2;212;183;2m│\u001b[0m\n",
       "\u001b[38;2;212;183;2m│\u001b[0m \u001b[1m(active ingredient)\". e.g. \"Aspirin (acetylsalicylic acid)\".\u001b[0m                                                    \u001b[38;2;212;183;2m│\u001b[0m\n",
       "\u001b[38;2;212;183;2m│\u001b[0m \u001b[1m    3. Extract the active ingredient of the medication and loose everything that is not relevant. This is the \u001b[0m  \u001b[38;2;212;183;2m│\u001b[0m\n",
       "\u001b[38;2;212;183;2m│\u001b[0m \u001b[1mactive_ingredient column.\u001b[0m                                                                                       \u001b[38;2;212;183;2m│\u001b[0m\n",
       "\u001b[38;2;212;183;2m│\u001b[0m \u001b[1m    4. Extract the dose of the medication. This should only contain the numeric value. This is the dose column.\u001b[0m \u001b[38;2;212;183;2m│\u001b[0m\n",
       "\u001b[38;2;212;183;2m│\u001b[0m \u001b[1m    5. Extract the unit of the dose (e.g. ml, mg, ...). If possible, use mg. If not applicable, write an empty \u001b[0m \u001b[38;2;212;183;2m│\u001b[0m\n",
       "\u001b[38;2;212;183;2m│\u001b[0m \u001b[1mstring. This is the unit column.\u001b[0m                                                                                \u001b[38;2;212;183;2m│\u001b[0m\n",
       "\u001b[38;2;212;183;2m│\u001b[0m \u001b[1m    6. Extract the dosage timings of the medication. This is the dosage_morning, dosage_noon, dosage_evening \u001b[0m   \u001b[38;2;212;183;2m│\u001b[0m\n",
       "\u001b[38;2;212;183;2m│\u001b[0m \u001b[1mand dosage_night columns. If you see that the patient is not taking a medication at a certain time point, write\u001b[0m \u001b[38;2;212;183;2m│\u001b[0m\n",
       "\u001b[38;2;212;183;2m│\u001b[0m \u001b[1ma 0. If you are unsure or missing the information, leave empty.\u001b[0m                                                 \u001b[38;2;212;183;2m│\u001b[0m\n",
       "\u001b[38;2;212;183;2m│\u001b[0m \u001b[1m    7. Extract the dosage information of the medication. This is the dosage_information column. You can write \u001b[0m  \u001b[38;2;212;183;2m│\u001b[0m\n",
       "\u001b[38;2;212;183;2m│\u001b[0m \u001b[1many further information here that does not fit the description before. If you see an indication that this might\u001b[0m \u001b[38;2;212;183;2m│\u001b[0m\n",
       "\u001b[38;2;212;183;2m│\u001b[0m \u001b[1mbe a medication that is taken \"as needed\" write \"as needed\" here. If you weren't able to infer a medication \u001b[0m    \u001b[38;2;212;183;2m│\u001b[0m\n",
       "\u001b[38;2;212;183;2m│\u001b[0m \u001b[1mschedule in the task before, write \"schedule unkown\". If not applicable, write an empty string.\u001b[0m                 \u001b[38;2;212;183;2m│\u001b[0m\n",
       "\u001b[38;2;212;183;2m│\u001b[0m \u001b[1m    8. get the RXCUI for all medications. Use the active ingredient of the medications. If there are multiple \u001b[0m  \u001b[38;2;212;183;2m│\u001b[0m\n",
       "\u001b[38;2;212;183;2m│\u001b[0m \u001b[1mRXCUI codes, choose the one that fits the best to the translated medication. Usually, the first candidate with \u001b[0m \u001b[38;2;212;183;2m│\u001b[0m\n",
       "\u001b[38;2;212;183;2m│\u001b[0m \u001b[1ma score of 1 is the best choice, but you can decide otherwise if you have reasonable grounds for another \u001b[0m       \u001b[38;2;212;183;2m│\u001b[0m\n",
       "\u001b[38;2;212;183;2m│\u001b[0m \u001b[1mdecision. If there are no codes, write an empty string.\u001b[0m                                                         \u001b[38;2;212;183;2m│\u001b[0m\n",
       "\u001b[38;2;212;183;2m│\u001b[0m \u001b[1m    9. get the ATC code for all medications. Use the rxcui of the medications.\u001b[0m                                  \u001b[38;2;212;183;2m│\u001b[0m\n",
       "\u001b[38;2;212;183;2m│\u001b[0m \u001b[1m    10. save the medication information as csv with the columns defined below.\u001b[0m                                  \u001b[38;2;212;183;2m│\u001b[0m\n",
       "\u001b[38;2;212;183;2m│\u001b[0m                                                                                                                 \u001b[38;2;212;183;2m│\u001b[0m\n",
       "\u001b[38;2;212;183;2m│\u001b[0m \u001b[1m    Example 1:\u001b[0m                                                                                                  \u001b[38;2;212;183;2m│\u001b[0m\n",
       "\u001b[38;2;212;183;2m│\u001b[0m \u001b[1m    Input: \"Aspirin 100mg 1-0-1-0\"\u001b[0m                                                                              \u001b[38;2;212;183;2m│\u001b[0m\n",
       "\u001b[38;2;212;183;2m│\u001b[0m \u001b[1m    Output: [\u001b[0m                                                                                                   \u001b[38;2;212;183;2m│\u001b[0m\n",
       "\u001b[38;2;212;183;2m│\u001b[0m \u001b[1m        {\"patient_id\": 1, \"medication_reference\": \"Aspirin 100mg\", \"medication_name\": \"Aspirin\", \u001b[0m               \u001b[38;2;212;183;2m│\u001b[0m\n",
       "\u001b[38;2;212;183;2m│\u001b[0m \u001b[1m\"medication_translated\": \"Aspirin (acetylsalicylic acid)\", \"active_ingredient\": \"acetylsalicylic acid\", \"dose\":\u001b[0m \u001b[38;2;212;183;2m│\u001b[0m\n",
       "\u001b[38;2;212;183;2m│\u001b[0m \u001b[1m100, \"unit\": \"mg\", \"dosage_morning\": 1, \"dosage_noon\": 0, \"dosage_evening\": 1, \"dosage_night\": 0, \u001b[0m              \u001b[38;2;212;183;2m│\u001b[0m\n",
       "\u001b[38;2;212;183;2m│\u001b[0m \u001b[1m\"dosage_information\": \"\", \"rxcui\": \"\", \"atc_id\": \"\", \"atc_name\": \"\", \"atc_type\": \"\"}\u001b[0m                            \u001b[38;2;212;183;2m│\u001b[0m\n",
       "\u001b[38;2;212;183;2m│\u001b[0m \u001b[1m    \\]\u001b[0m                                                                                                          \u001b[38;2;212;183;2m│\u001b[0m\n",
       "\u001b[38;2;212;183;2m│\u001b[0m \u001b[1m    Example 2:\u001b[0m                                                                                                  \u001b[38;2;212;183;2m│\u001b[0m\n",
       "\u001b[38;2;212;183;2m│\u001b[0m \u001b[1m    Input: \"Paracetamol 500mg 1-0-0-0\"\u001b[0m                                                                          \u001b[38;2;212;183;2m│\u001b[0m\n",
       "\u001b[38;2;212;183;2m│\u001b[0m \u001b[1m    Output: [\u001b[0m                                                                                                   \u001b[38;2;212;183;2m│\u001b[0m\n",
       "\u001b[38;2;212;183;2m│\u001b[0m \u001b[1m        {\"patient_id\": 2, \"medication_reference\": \"Paracetamol 500mg\", \"medication_name\": \"Paracetamol\", \u001b[0m       \u001b[38;2;212;183;2m│\u001b[0m\n",
       "\u001b[38;2;212;183;2m│\u001b[0m \u001b[1m\"medication_translated\": \"Paracetamol (acetaminophen)\", \"active_ingredient\": \"acetaminophen\", \"dose\": 500, \u001b[0m     \u001b[38;2;212;183;2m│\u001b[0m\n",
       "\u001b[38;2;212;183;2m│\u001b[0m \u001b[1m\"unit\": \"mg\", \"dosage_morning\": 1, \"dosage_noon\": 0, \"dosage_evening\": 0, \"dosage_night\": 0, \u001b[0m                   \u001b[38;2;212;183;2m│\u001b[0m\n",
       "\u001b[38;2;212;183;2m│\u001b[0m \u001b[1m\"dosage_information\": \"\", \"rxcui\": \"\", \"atc_id\": \"\", \"atc_name\": \"\", \"atc_type\": \"\"}\u001b[0m                            \u001b[38;2;212;183;2m│\u001b[0m\n",
       "\u001b[38;2;212;183;2m│\u001b[0m \u001b[1m    \\]\u001b[0m                                                                                                          \u001b[38;2;212;183;2m│\u001b[0m\n",
       "\u001b[38;2;212;183;2m│\u001b[0m \u001b[1m    Example 3:\u001b[0m                                                                                                  \u001b[38;2;212;183;2m│\u001b[0m\n",
       "\u001b[38;2;212;183;2m│\u001b[0m \u001b[1m    Input: \"Ibuprofen 400mg 1-1-0-0\"\u001b[0m                                                                            \u001b[38;2;212;183;2m│\u001b[0m\n",
       "\u001b[38;2;212;183;2m│\u001b[0m \u001b[1m    Output: [\u001b[0m                                                                                                   \u001b[38;2;212;183;2m│\u001b[0m\n",
       "\u001b[38;2;212;183;2m│\u001b[0m \u001b[1m        {\"patient_id\": 3, \"medication_reference\": \"Ibuprofen 400mg\", \"medication_name\": \"Ibuprofen\", \u001b[0m           \u001b[38;2;212;183;2m│\u001b[0m\n",
       "\u001b[38;2;212;183;2m│\u001b[0m \u001b[1m\"medication_translated\": \"Ibuprofen (ibuprofen)\", \"active_ingredient\": \"ibuprofen\", \"dose\": 400, \"unit\": \"mg\", \u001b[0m \u001b[38;2;212;183;2m│\u001b[0m\n",
       "\u001b[38;2;212;183;2m│\u001b[0m \u001b[1m\"dosage_morning\": 1, \"dosage_noon\": 1, \"dosage_evening\": 0, \"dosage_night\": 0, \"dosage_information\": \"\", \u001b[0m       \u001b[38;2;212;183;2m│\u001b[0m\n",
       "\u001b[38;2;212;183;2m│\u001b[0m \u001b[1m\"rxcui\": \"\", \"atc_id\": \"\", \"atc_name\": \"\", \"atc_type\": \"\"}\u001b[0m                                                      \u001b[38;2;212;183;2m│\u001b[0m\n",
       "\u001b[38;2;212;183;2m│\u001b[0m \u001b[1m    \\]\u001b[0m                                                                                                          \u001b[38;2;212;183;2m│\u001b[0m\n",
       "\u001b[38;2;212;183;2m│\u001b[0m \u001b[1m    Example 4:\u001b[0m                                                                                                  \u001b[38;2;212;183;2m│\u001b[0m\n",
       "\u001b[38;2;212;183;2m│\u001b[0m \u001b[1m    Input: \"Piperacillin/Tazobactam 1g/1g 1-0-1-0\"\u001b[0m                                                              \u001b[38;2;212;183;2m│\u001b[0m\n",
       "\u001b[38;2;212;183;2m│\u001b[0m \u001b[1m    Output: [\u001b[0m                                                                                                   \u001b[38;2;212;183;2m│\u001b[0m\n",
       "\u001b[38;2;212;183;2m│\u001b[0m \u001b[1m        {\"patient_id\": 4, \"medication_reference\": \"Piperacillin/Tazobactam 1g/1g\", \"medication_name\": \u001b[0m          \u001b[38;2;212;183;2m│\u001b[0m\n",
       "\u001b[38;2;212;183;2m│\u001b[0m \u001b[1m\"Piperacillin\", \"medication_translated\": \"Piperacillin (piperacillin)\", \"active_ingredient\": \"piperacillin\", \u001b[0m   \u001b[38;2;212;183;2m│\u001b[0m\n",
       "\u001b[38;2;212;183;2m│\u001b[0m \u001b[1m\"dose\": 1000, \"unit\": \"mg\", \"dosage_morning\": 1, \"dosage_noon\": 0, \"dosage_evening\": 1, \"dosage_night\": 0, \u001b[0m     \u001b[38;2;212;183;2m│\u001b[0m\n",
       "\u001b[38;2;212;183;2m│\u001b[0m \u001b[1m\"dosage_information\": \"\", \"rxcui\": \"\", \"atc_id\": \"\", \"atc_name\": \"\", \"atc_type\": \"\"},\u001b[0m                           \u001b[38;2;212;183;2m│\u001b[0m\n",
       "\u001b[38;2;212;183;2m│\u001b[0m \u001b[1m        {\"patient_id\": 4, \"medication_reference\": \"Piperacillin/Tazobactam 1g/1g\", \"medication_name\": \u001b[0m          \u001b[38;2;212;183;2m│\u001b[0m\n",
       "\u001b[38;2;212;183;2m│\u001b[0m \u001b[1m\"Tazobactam\", \"medication_translated\": \"Tazobactam (tazobactam)\", \"active_ingredient\": \"tazobactam\", \"dose\": \u001b[0m   \u001b[38;2;212;183;2m│\u001b[0m\n",
       "\u001b[38;2;212;183;2m│\u001b[0m \u001b[1m1000, \"unit\": \"mg\", \"dosage_morning\": 1, \"dosage_noon\": 0, \"dosage_evening\": 1, \"dosage_night\": 0, \u001b[0m             \u001b[38;2;212;183;2m│\u001b[0m\n",
       "\u001b[38;2;212;183;2m│\u001b[0m \u001b[1m\"dosage_information\": \"\", \"rxcui\": \"\", \"atc_id\": \"\", \"atc_name\": \"\", \"atc_type\": \"\"}\u001b[0m                            \u001b[38;2;212;183;2m│\u001b[0m\n",
       "\u001b[38;2;212;183;2m│\u001b[0m \u001b[1m    \\]\u001b[0m                                                                                                          \u001b[38;2;212;183;2m│\u001b[0m\n",
       "\u001b[38;2;212;183;2m│\u001b[0m \u001b[1m    Example 5:\u001b[0m                                                                                                  \u001b[38;2;212;183;2m│\u001b[0m\n",
       "\u001b[38;2;212;183;2m│\u001b[0m \u001b[1m    Input: \"Tilidin 5mg bB\"\u001b[0m                                                                                     \u001b[38;2;212;183;2m│\u001b[0m\n",
       "\u001b[38;2;212;183;2m│\u001b[0m \u001b[1m    Output: [\u001b[0m                                                                                                   \u001b[38;2;212;183;2m│\u001b[0m\n",
       "\u001b[38;2;212;183;2m│\u001b[0m \u001b[1m        {\"patient_id\": 5, \"medication_reference\": \"Tilidin 5mg bB\", \"medication_name\": \"Tilidin\", \u001b[0m              \u001b[38;2;212;183;2m│\u001b[0m\n",
       "\u001b[38;2;212;183;2m│\u001b[0m \u001b[1m\"medication_translated\": \"Tilidin (tilidine)\", \"active_ingredient\": \"tilidine\", \"dose\": 5, \"unit\": \"mg\", \u001b[0m       \u001b[38;2;212;183;2m│\u001b[0m\n",
       "\u001b[38;2;212;183;2m│\u001b[0m \u001b[1m\"dosage_morning\": 0, \"dosage_noon\": 0, \"dosage_evening\": 0, \"dosage_night\": 0, \"dosage_information\": \"as \u001b[0m       \u001b[38;2;212;183;2m│\u001b[0m\n",
       "\u001b[38;2;212;183;2m│\u001b[0m \u001b[1mneeded\", \"rxcui\": \"\", \"atc_id\": \"\", \"atc_name\": \"\", \"atc_type\": \"\"}\u001b[0m                                             \u001b[38;2;212;183;2m│\u001b[0m\n",
       "\u001b[38;2;212;183;2m│\u001b[0m \u001b[1m    \\]\u001b[0m                                                                                                          \u001b[38;2;212;183;2m│\u001b[0m\n",
       "\u001b[38;2;212;183;2m│\u001b[0m \u001b[1m    Example 6:\u001b[0m                                                                                                  \u001b[38;2;212;183;2m│\u001b[0m\n",
       "\u001b[38;2;212;183;2m│\u001b[0m \u001b[1m    Input: \"Amlodipin 5mg\"\u001b[0m                                                                                      \u001b[38;2;212;183;2m│\u001b[0m\n",
       "\u001b[38;2;212;183;2m│\u001b[0m \u001b[1m    Output: [\u001b[0m                                                                                                   \u001b[38;2;212;183;2m│\u001b[0m\n",
       "\u001b[38;2;212;183;2m│\u001b[0m \u001b[1m        {\"patient_id\": 6, \"medication_reference\": \"Amlodipin 5mg\", \"medication_name\": \"Amlodipin\", \u001b[0m             \u001b[38;2;212;183;2m│\u001b[0m\n",
       "\u001b[38;2;212;183;2m│\u001b[0m \u001b[1m\"medication_translated\": \"Amlodipine (amlodipine)\", \"active_ingredient\": \"amlodipine\", \"dose\": 5, \"unit\": \"mg\",\u001b[0m \u001b[38;2;212;183;2m│\u001b[0m\n",
       "\u001b[38;2;212;183;2m│\u001b[0m \u001b[1m\"dosage_morning\": np.nan, \"dosage_noon\": np.nan, \"dosage_evening\": np.nan, \"dosage_night\": np.nan, \u001b[0m             \u001b[38;2;212;183;2m│\u001b[0m\n",
       "\u001b[38;2;212;183;2m│\u001b[0m \u001b[1m\"dosage_information\": \"schedule unkown\", \"rxcui\": \"\", \"atc_id\": \"\", \"atc_name\": \"\", \"atc_type\": \"\"}\u001b[0m             \u001b[38;2;212;183;2m│\u001b[0m\n",
       "\u001b[38;2;212;183;2m│\u001b[0m \u001b[1m    \\]\u001b[0m                                                                                                          \u001b[38;2;212;183;2m│\u001b[0m\n",
       "\u001b[38;2;212;183;2m│\u001b[0m                                                                                                                 \u001b[38;2;212;183;2m│\u001b[0m\n",
       "\u001b[38;2;212;183;2m│\u001b[0m \u001b[1m    Columns:\u001b[0m                                                                                                    \u001b[38;2;212;183;2m│\u001b[0m\n",
       "\u001b[38;2;212;183;2m│\u001b[0m \u001b[1m    - patient_id: The patient ID.\u001b[0m                                                                               \u001b[38;2;212;183;2m│\u001b[0m\n",
       "\u001b[38;2;212;183;2m│\u001b[0m \u001b[1m    - medication_reference: The medication name in the document.\u001b[0m                                                \u001b[38;2;212;183;2m│\u001b[0m\n",
       "\u001b[38;2;212;183;2m│\u001b[0m \u001b[1m    - medication_name: The name of the medication in the document without dose, unit or additional information.\u001b[0m \u001b[38;2;212;183;2m│\u001b[0m\n",
       "\u001b[38;2;212;183;2m│\u001b[0m \u001b[1m    - medication_translated: The corrected name of the medication, translated to english. Use the following \u001b[0m    \u001b[38;2;212;183;2m│\u001b[0m\n",
       "\u001b[38;2;212;183;2m│\u001b[0m \u001b[1mformat \"Brand name or medication name (active ingredient)\". e.g. \"Aspirin (acetylsalicylic acid)\".\u001b[0m              \u001b[38;2;212;183;2m│\u001b[0m\n",
       "\u001b[38;2;212;183;2m│\u001b[0m \u001b[1m    - active_ingredient: The active ingredient of the medication. if not applicable, write an empty string.\u001b[0m     \u001b[38;2;212;183;2m│\u001b[0m\n",
       "\u001b[38;2;212;183;2m│\u001b[0m \u001b[1m    - dose: The dose of the medication. this sould only contain the numeric value.\u001b[0m                              \u001b[38;2;212;183;2m│\u001b[0m\n",
       "\u001b[38;2;212;183;2m│\u001b[0m \u001b[1m    - unit: The unit of the dose (e.g. ml, mg, ...). if not applicable, write an empty string.\u001b[0m                  \u001b[38;2;212;183;2m│\u001b[0m\n",
       "\u001b[38;2;212;183;2m│\u001b[0m \u001b[1m    - dosage_morning: The dose in the morning. if not applicable, write a 0.\u001b[0m                                    \u001b[38;2;212;183;2m│\u001b[0m\n",
       "\u001b[38;2;212;183;2m│\u001b[0m \u001b[1m    - dosage_noon: The dose in the noon. if not applicable, write a 0.\u001b[0m                                          \u001b[38;2;212;183;2m│\u001b[0m\n",
       "\u001b[38;2;212;183;2m│\u001b[0m \u001b[1m    - dosage_evening: The dose in the evening. if not applicable, write a 0.\u001b[0m                                    \u001b[38;2;212;183;2m│\u001b[0m\n",
       "\u001b[38;2;212;183;2m│\u001b[0m \u001b[1m    - dosage_night: The dose in the night. if not applicable, write a 0.\u001b[0m                                        \u001b[38;2;212;183;2m│\u001b[0m\n",
       "\u001b[38;2;212;183;2m│\u001b[0m \u001b[1m    - dosage_information: Additional information about the dosage. if not applicable, write an empty string.\u001b[0m    \u001b[38;2;212;183;2m│\u001b[0m\n",
       "\u001b[38;2;212;183;2m│\u001b[0m \u001b[1m    - rxcui: The RXCUI of the medication. if not applicable, write an empty string.\u001b[0m                             \u001b[38;2;212;183;2m│\u001b[0m\n",
       "\u001b[38;2;212;183;2m│\u001b[0m \u001b[1m    - atc_id: The ATC code of the medication. if not applicable, write an empty string.\u001b[0m                         \u001b[38;2;212;183;2m│\u001b[0m\n",
       "\u001b[38;2;212;183;2m│\u001b[0m \u001b[1m    - atc_name: The name of the ATC code. if not applicable, write an empty string.\u001b[0m                             \u001b[38;2;212;183;2m│\u001b[0m\n",
       "\u001b[38;2;212;183;2m│\u001b[0m \u001b[1m    - atc_type: The type of the ATC code. if not applicable, write an empty string.\u001b[0m                             \u001b[38;2;212;183;2m│\u001b[0m\n",
       "\u001b[38;2;212;183;2m│\u001b[0m                                                                                                                 \u001b[38;2;212;183;2m│\u001b[0m\n",
       "\u001b[38;2;212;183;2m│\u001b[0m                                                                                                                 \u001b[38;2;212;183;2m│\u001b[0m\n",
       "\u001b[38;2;212;183;2m│\u001b[0m \u001b[1m--------------------------------------------------------------------------------\u001b[0m                                \u001b[38;2;212;183;2m│\u001b[0m\n",
       "\u001b[38;2;212;183;2m│\u001b[0m \u001b[1mData: \u001b[0m                                                                                                          \u001b[38;2;212;183;2m│\u001b[0m\n",
       "\u001b[38;2;212;183;2m│\u001b[0m \u001b[1m    Patient: 6\u001b[0m                                                                                                  \u001b[38;2;212;183;2m│\u001b[0m\n",
       "\u001b[38;2;212;183;2m│\u001b[0m \u001b[1m    Bisoprolol 5mg\u001b[0m                                                                                              \u001b[38;2;212;183;2m│\u001b[0m\n",
       "\u001b[38;2;212;183;2m│\u001b[0m \u001b[1m    Amlodipin 5mg\u001b[0m                                                                                               \u001b[38;2;212;183;2m│\u001b[0m\n",
       "\u001b[38;2;212;183;2m│\u001b[0m \u001b[1m    Ramipril 10mg\u001b[0m                                                                                               \u001b[38;2;212;183;2m│\u001b[0m\n",
       "\u001b[38;2;212;183;2m│\u001b[0m                                                                                                                 \u001b[38;2;212;183;2m│\u001b[0m\n",
       "\u001b[38;2;212;183;2m╰─\u001b[0m\u001b[38;2;212;183;2m AzureOpenAIServerModel - gpt-4o \u001b[0m\u001b[38;2;212;183;2m──────────────────────────────────────────────────────────────────────────────\u001b[0m\u001b[38;2;212;183;2m─╯\u001b[0m\n"
      ]
     },
     "metadata": {},
     "output_type": "display_data"
    },
    {
     "data": {
      "text/html": [
       "<pre style=\"white-space:pre;overflow-x:auto;line-height:normal;font-family:Menlo,'DejaVu Sans Mono',consolas,'Courier New',monospace\"><span style=\"color: #d4b702; text-decoration-color: #d4b702\">━━━━━━━━━━━━━━━━━━━━━━━━━━━━━━━━━━━━━━━━━━━━━━━━━━━━━ </span><span style=\"font-weight: bold\">Step </span><span style=\"color: #008080; text-decoration-color: #008080; font-weight: bold\">1</span><span style=\"color: #d4b702; text-decoration-color: #d4b702\"> ━━━━━━━━━━━━━━━━━━━━━━━━━━━━━━━━━━━━━━━━━━━━━━━━━━━━━━</span>\n",
       "</pre>\n"
      ],
      "text/plain": [
       "\u001b[38;2;212;183;2m━━━━━━━━━━━━━━━━━━━━━━━━━━━━━━━━━━━━━━━━━━━━━━━━━━━━━ \u001b[0m\u001b[1mStep \u001b[0m\u001b[1;36m1\u001b[0m\u001b[38;2;212;183;2m ━━━━━━━━━━━━━━━━━━━━━━━━━━━━━━━━━━━━━━━━━━━━━━━━━━━━━━\u001b[0m\n"
      ]
     },
     "metadata": {},
     "output_type": "display_data"
    },
    {
     "data": {
      "text/html": [
       "<pre style=\"white-space:pre;overflow-x:auto;line-height:normal;font-family:Menlo,'DejaVu Sans Mono',consolas,'Courier New',monospace\">╭─────────────────────────────────────────────────────────────────────────────────────────────────────────────────╮\n",
       "│ Calling tool: 'extract_medication_data' with arguments: {'data': [{'patient_id': 6, 'medication_name':          │\n",
       "│ 'Bisoprolol', 'medication_name_corrected': 'Bisoprolol (bisoprolol)', 'dose': 5, 'unit': 'mg',                  │\n",
       "│ 'dosage_morning': 0, 'dosage_noon': 0, 'dosage_evening': 0, 'dosage_night': 0, 'dosage_information': 'schedule  │\n",
       "│ unkown'}, {'patient_id': 6, 'medication_name': 'Amlodipin', 'medication_name_corrected': 'Amlodipine            │\n",
       "│ (amlodipine)', 'dose': 5, 'unit': 'mg', 'dosage_morning': 0, 'dosage_noon': 0, 'dosage_evening': 0,             │\n",
       "│ 'dosage_night': 0, 'dosage_information': 'schedule unkown'}, {'patient_id': 6, 'medication_name': 'Ramipril',   │\n",
       "│ 'medication_name_corrected': 'Ramipril (ramipril)', 'dose': 10, 'unit': 'mg', 'dosage_morning': 0,              │\n",
       "│ 'dosage_noon': 0, 'dosage_evening': 0, 'dosage_night': 0, 'dosage_information': 'schedule unkown'}]}            │\n",
       "╰─────────────────────────────────────────────────────────────────────────────────────────────────────────────────╯\n",
       "</pre>\n"
      ],
      "text/plain": [
       "╭─────────────────────────────────────────────────────────────────────────────────────────────────────────────────╮\n",
       "│ Calling tool: 'extract_medication_data' with arguments: {'data': [{'patient_id': 6, 'medication_name':          │\n",
       "│ 'Bisoprolol', 'medication_name_corrected': 'Bisoprolol (bisoprolol)', 'dose': 5, 'unit': 'mg',                  │\n",
       "│ 'dosage_morning': 0, 'dosage_noon': 0, 'dosage_evening': 0, 'dosage_night': 0, 'dosage_information': 'schedule  │\n",
       "│ unkown'}, {'patient_id': 6, 'medication_name': 'Amlodipin', 'medication_name_corrected': 'Amlodipine            │\n",
       "│ (amlodipine)', 'dose': 5, 'unit': 'mg', 'dosage_morning': 0, 'dosage_noon': 0, 'dosage_evening': 0,             │\n",
       "│ 'dosage_night': 0, 'dosage_information': 'schedule unkown'}, {'patient_id': 6, 'medication_name': 'Ramipril',   │\n",
       "│ 'medication_name_corrected': 'Ramipril (ramipril)', 'dose': 10, 'unit': 'mg', 'dosage_morning': 0,              │\n",
       "│ 'dosage_noon': 0, 'dosage_evening': 0, 'dosage_night': 0, 'dosage_information': 'schedule unkown'}]}            │\n",
       "╰─────────────────────────────────────────────────────────────────────────────────────────────────────────────────╯\n"
      ]
     },
     "metadata": {},
     "output_type": "display_data"
    },
    {
     "data": {
      "text/html": [
       "<pre style=\"white-space:pre;overflow-x:auto;line-height:normal;font-family:Menlo,'DejaVu Sans Mono',consolas,'Courier New',monospace\">Observations: |<span style=\"font-weight: bold\">{</span><span style=\"color: #008000; text-decoration-color: #008000\">'patient_id'</span>: <span style=\"color: #008080; text-decoration-color: #008080; font-weight: bold\">6</span>, <span style=\"color: #008000; text-decoration-color: #008000\">'medication_name'</span>: <span style=\"color: #008000; text-decoration-color: #008000\">'Bisoprolol'</span>, <span style=\"color: #008000; text-decoration-color: #008000\">'medication_name_corrected'</span>: <span style=\"color: #008000; text-decoration-color: #008000\">'Bisoprolol </span>\n",
       "<span style=\"color: #008000; text-decoration-color: #008000\">(bisoprolol)'</span>, <span style=\"color: #008000; text-decoration-color: #008000\">'dose'</span>: <span style=\"color: #008080; text-decoration-color: #008080; font-weight: bold\">5</span>, <span style=\"color: #008000; text-decoration-color: #008000\">'unit'</span>: <span style=\"color: #008000; text-decoration-color: #008000\">'mg'</span>, <span style=\"color: #008000; text-decoration-color: #008000\">'dosage_morning'</span>: <span style=\"color: #008080; text-decoration-color: #008080; font-weight: bold\">0</span>, <span style=\"color: #008000; text-decoration-color: #008000\">'dosage_noon'</span>: <span style=\"color: #008080; text-decoration-color: #008080; font-weight: bold\">0</span>, <span style=\"color: #008000; text-decoration-color: #008000\">'dosage_evening'</span>: <span style=\"color: #008080; text-decoration-color: #008080; font-weight: bold\">0</span>, <span style=\"color: #008000; text-decoration-color: #008000\">'dosage_night'</span>:\n",
       "<span style=\"color: #008080; text-decoration-color: #008080; font-weight: bold\">0</span>, <span style=\"color: #008000; text-decoration-color: #008000\">'dosage_information'</span>: <span style=\"color: #008000; text-decoration-color: #008000\">'schedule unkown'</span><span style=\"font-weight: bold\">}</span>, <span style=\"font-weight: bold\">{</span><span style=\"color: #008000; text-decoration-color: #008000\">'patient_id'</span>: <span style=\"color: #008080; text-decoration-color: #008080; font-weight: bold\">6</span>, <span style=\"color: #008000; text-decoration-color: #008000\">'medication_name'</span>: <span style=\"color: #008000; text-decoration-color: #008000\">'Amlodipin'</span>, \n",
       "<span style=\"color: #008000; text-decoration-color: #008000\">'medication_name_corrected'</span>: <span style=\"color: #008000; text-decoration-color: #008000\">'Amlodipine (amlodipine)'</span>, <span style=\"color: #008000; text-decoration-color: #008000\">'dose'</span>: <span style=\"color: #008080; text-decoration-color: #008080; font-weight: bold\">5</span>, <span style=\"color: #008000; text-decoration-color: #008000\">'unit'</span>: <span style=\"color: #008000; text-decoration-color: #008000\">'mg'</span>, <span style=\"color: #008000; text-decoration-color: #008000\">'dosage_morning'</span>: <span style=\"color: #008080; text-decoration-color: #008080; font-weight: bold\">0</span>, \n",
       "<span style=\"color: #008000; text-decoration-color: #008000\">'dosage_noon'</span>: <span style=\"color: #008080; text-decoration-color: #008080; font-weight: bold\">0</span>, <span style=\"color: #008000; text-decoration-color: #008000\">'dosage_evening'</span>: <span style=\"color: #008080; text-decoration-color: #008080; font-weight: bold\">0</span>, <span style=\"color: #008000; text-decoration-color: #008000\">'dosage_night'</span>: <span style=\"color: #008080; text-decoration-color: #008080; font-weight: bold\">0</span>, <span style=\"color: #008000; text-decoration-color: #008000\">'dosage_information'</span>: <span style=\"color: #008000; text-decoration-color: #008000\">'schedule unkown'</span><span style=\"font-weight: bold\">}</span>, <span style=\"font-weight: bold\">{</span><span style=\"color: #008000; text-decoration-color: #008000\">'patient_id'</span>: \n",
       "<span style=\"color: #008080; text-decoration-color: #008080; font-weight: bold\">6</span>, <span style=\"color: #008000; text-decoration-color: #008000\">'medication_name'</span>: <span style=\"color: #008000; text-decoration-color: #008000\">'Ramipril'</span>, <span style=\"color: #008000; text-decoration-color: #008000\">'medication_name_corrected'</span>: <span style=\"color: #008000; text-decoration-color: #008000\">'Ramipril (ramipril)'</span>, <span style=\"color: #008000; text-decoration-color: #008000\">'dose'</span>: <span style=\"color: #008080; text-decoration-color: #008080; font-weight: bold\">10</span>, <span style=\"color: #008000; text-decoration-color: #008000\">'unit'</span>: <span style=\"color: #008000; text-decoration-color: #008000\">'mg'</span>, \n",
       "<span style=\"color: #008000; text-decoration-color: #008000\">'dosage_morning'</span>: <span style=\"color: #008080; text-decoration-color: #008080; font-weight: bold\">0</span>, <span style=\"color: #008000; text-decoration-color: #008000\">'dosage_noon'</span>: <span style=\"color: #008080; text-decoration-color: #008080; font-weight: bold\">0</span>, <span style=\"color: #008000; text-decoration-color: #008000\">'dosage_evening'</span>: <span style=\"color: #008080; text-decoration-color: #008080; font-weight: bold\">0</span>, <span style=\"color: #008000; text-decoration-color: #008000\">'dosage_night'</span>: <span style=\"color: #008080; text-decoration-color: #008080; font-weight: bold\">0</span>, <span style=\"color: #008000; text-decoration-color: #008000\">'dosage_information'</span>: <span style=\"color: #008000; text-decoration-color: #008000\">'schedule </span>\n",
       "<span style=\"color: #008000; text-decoration-color: #008000\">unkown'</span><span style=\"font-weight: bold\">}]</span>\n",
       "</pre>\n"
      ],
      "text/plain": [
       "Observations: |\u001b[1m{\u001b[0m\u001b[32m'patient_id'\u001b[0m: \u001b[1;36m6\u001b[0m, \u001b[32m'medication_name'\u001b[0m: \u001b[32m'Bisoprolol'\u001b[0m, \u001b[32m'medication_name_corrected'\u001b[0m: \u001b[32m'Bisoprolol \u001b[0m\n",
       "\u001b[32m(\u001b[0m\u001b[32mbisoprolol\u001b[0m\u001b[32m)\u001b[0m\u001b[32m'\u001b[0m, \u001b[32m'dose'\u001b[0m: \u001b[1;36m5\u001b[0m, \u001b[32m'unit'\u001b[0m: \u001b[32m'mg'\u001b[0m, \u001b[32m'dosage_morning'\u001b[0m: \u001b[1;36m0\u001b[0m, \u001b[32m'dosage_noon'\u001b[0m: \u001b[1;36m0\u001b[0m, \u001b[32m'dosage_evening'\u001b[0m: \u001b[1;36m0\u001b[0m, \u001b[32m'dosage_night'\u001b[0m:\n",
       "\u001b[1;36m0\u001b[0m, \u001b[32m'dosage_information'\u001b[0m: \u001b[32m'schedule unkown'\u001b[0m\u001b[1m}\u001b[0m, \u001b[1m{\u001b[0m\u001b[32m'patient_id'\u001b[0m: \u001b[1;36m6\u001b[0m, \u001b[32m'medication_name'\u001b[0m: \u001b[32m'Amlodipin'\u001b[0m, \n",
       "\u001b[32m'medication_name_corrected'\u001b[0m: \u001b[32m'Amlodipine \u001b[0m\u001b[32m(\u001b[0m\u001b[32mamlodipine\u001b[0m\u001b[32m)\u001b[0m\u001b[32m'\u001b[0m, \u001b[32m'dose'\u001b[0m: \u001b[1;36m5\u001b[0m, \u001b[32m'unit'\u001b[0m: \u001b[32m'mg'\u001b[0m, \u001b[32m'dosage_morning'\u001b[0m: \u001b[1;36m0\u001b[0m, \n",
       "\u001b[32m'dosage_noon'\u001b[0m: \u001b[1;36m0\u001b[0m, \u001b[32m'dosage_evening'\u001b[0m: \u001b[1;36m0\u001b[0m, \u001b[32m'dosage_night'\u001b[0m: \u001b[1;36m0\u001b[0m, \u001b[32m'dosage_information'\u001b[0m: \u001b[32m'schedule unkown'\u001b[0m\u001b[1m}\u001b[0m, \u001b[1m{\u001b[0m\u001b[32m'patient_id'\u001b[0m: \n",
       "\u001b[1;36m6\u001b[0m, \u001b[32m'medication_name'\u001b[0m: \u001b[32m'Ramipril'\u001b[0m, \u001b[32m'medication_name_corrected'\u001b[0m: \u001b[32m'Ramipril \u001b[0m\u001b[32m(\u001b[0m\u001b[32mramipril\u001b[0m\u001b[32m)\u001b[0m\u001b[32m'\u001b[0m, \u001b[32m'dose'\u001b[0m: \u001b[1;36m10\u001b[0m, \u001b[32m'unit'\u001b[0m: \u001b[32m'mg'\u001b[0m, \n",
       "\u001b[32m'dosage_morning'\u001b[0m: \u001b[1;36m0\u001b[0m, \u001b[32m'dosage_noon'\u001b[0m: \u001b[1;36m0\u001b[0m, \u001b[32m'dosage_evening'\u001b[0m: \u001b[1;36m0\u001b[0m, \u001b[32m'dosage_night'\u001b[0m: \u001b[1;36m0\u001b[0m, \u001b[32m'dosage_information'\u001b[0m: \u001b[32m'schedule \u001b[0m\n",
       "\u001b[32munkown'\u001b[0m\u001b[1m}\u001b[0m\u001b[1m]\u001b[0m\n"
      ]
     },
     "metadata": {},
     "output_type": "display_data"
    },
    {
     "data": {
      "text/html": [
       "<pre style=\"white-space:pre;overflow-x:auto;line-height:normal;font-family:Menlo,'DejaVu Sans Mono',consolas,'Courier New',monospace\"><span style=\"color: #7f7f7f; text-decoration-color: #7f7f7f\">[Step 1: Duration 8.76 seconds| Input tokens: 3,619 | Output tokens: 241]</span>\n",
       "</pre>\n"
      ],
      "text/plain": [
       "\u001b[2m[Step 1: Duration 8.76 seconds| Input tokens: 3,619 | Output tokens: 241]\u001b[0m\n"
      ]
     },
     "metadata": {},
     "output_type": "display_data"
    },
    {
     "data": {
      "text/html": [
       "<pre style=\"white-space:pre;overflow-x:auto;line-height:normal;font-family:Menlo,'DejaVu Sans Mono',consolas,'Courier New',monospace\"><span style=\"color: #d4b702; text-decoration-color: #d4b702\">━━━━━━━━━━━━━━━━━━━━━━━━━━━━━━━━━━━━━━━━━━━━━━━━━━━━━ </span><span style=\"font-weight: bold\">Step </span><span style=\"color: #008080; text-decoration-color: #008080; font-weight: bold\">2</span><span style=\"color: #d4b702; text-decoration-color: #d4b702\"> ━━━━━━━━━━━━━━━━━━━━━━━━━━━━━━━━━━━━━━━━━━━━━━━━━━━━━━</span>\n",
       "</pre>\n"
      ],
      "text/plain": [
       "\u001b[38;2;212;183;2m━━━━━━━━━━━━━━━━━━━━━━━━━━━━━━━━━━━━━━━━━━━━━━━━━━━━━ \u001b[0m\u001b[1mStep \u001b[0m\u001b[1;36m2\u001b[0m\u001b[38;2;212;183;2m ━━━━━━━━━━━━━━━━━━━━━━━━━━━━━━━━━━━━━━━━━━━━━━━━━━━━━━\u001b[0m\n"
      ]
     },
     "metadata": {},
     "output_type": "display_data"
    },
    {
     "data": {
      "text/html": [
       "<pre style=\"white-space:pre;overflow-x:auto;line-height:normal;font-family:Menlo,'DejaVu Sans Mono',consolas,'Courier New',monospace\">╭─────────────────────────────────────────────────────────────────────────────────────────────────────────────────╮\n",
       "│ Calling tool: 'get_rxcui' with arguments: {'medication_names': ['Bisoprolol (bisoprolol)', 'Amlodipine          │\n",
       "│ (amlodipine)', 'Ramipril (ramipril)']}                                                                          │\n",
       "╰─────────────────────────────────────────────────────────────────────────────────────────────────────────────────╯\n",
       "</pre>\n"
      ],
      "text/plain": [
       "╭─────────────────────────────────────────────────────────────────────────────────────────────────────────────────╮\n",
       "│ Calling tool: 'get_rxcui' with arguments: {'medication_names': ['Bisoprolol (bisoprolol)', 'Amlodipine          │\n",
       "│ (amlodipine)', 'Ramipril (ramipril)']}                                                                          │\n",
       "╰─────────────────────────────────────────────────────────────────────────────────────────────────────────────────╯\n"
      ]
     },
     "metadata": {},
     "output_type": "display_data"
    },
    {
     "data": {
      "text/html": [
       "<pre style=\"white-space:pre;overflow-x:auto;line-height:normal;font-family:Menlo,'DejaVu Sans Mono',consolas,'Courier New',monospace\">Observations: <span style=\"font-weight: bold\">{</span><span style=\"color: #008000; text-decoration-color: #008000\">'Bisoprolol (bisoprolol)'</span>: <span style=\"font-weight: bold\">{</span><span style=\"color: #008000; text-decoration-color: #008000\">'19484'</span>: |<span style=\"color: #008000; text-decoration-color: #008000\">'GS'</span>, <span style=\"color: #008000; text-decoration-color: #008000\">'RXNORM'</span>, <span style=\"color: #008000; text-decoration-color: #008000\">'VANDF'</span>, <span style=\"color: #008000; text-decoration-color: #008000\">'NDDF'</span>, <span style=\"color: #008000; text-decoration-color: #008000\">'ATC'</span>, <span style=\"color: #008000; text-decoration-color: #008000\">'DRUGBANK'</span><span style=\"font-weight: bold\">]}</span>, \n",
       "<span style=\"color: #008000; text-decoration-color: #008000\">'Amlodipine (amlodipine)'</span>: <span style=\"font-weight: bold\">{</span><span style=\"color: #008000; text-decoration-color: #008000\">'17767'</span>: |<span style=\"color: #008000; text-decoration-color: #008000\">'GS'</span>, <span style=\"color: #008000; text-decoration-color: #008000\">'RXNORM'</span>, <span style=\"color: #008000; text-decoration-color: #008000\">'VANDF'</span>, <span style=\"color: #008000; text-decoration-color: #008000\">'MMSL'</span>, <span style=\"color: #008000; text-decoration-color: #008000\">'NDDF'</span>, <span style=\"color: #008000; text-decoration-color: #008000\">'ATC'</span>, <span style=\"color: #008000; text-decoration-color: #008000\">'MMSL'</span>, <span style=\"color: #008000; text-decoration-color: #008000\">'DRUGBANK'</span><span style=\"font-weight: bold\">]}</span>, \n",
       "<span style=\"color: #008000; text-decoration-color: #008000\">'Ramipril (ramipril)'</span>: <span style=\"font-weight: bold\">{</span><span style=\"color: #008000; text-decoration-color: #008000\">'35296'</span>: |<span style=\"color: #008000; text-decoration-color: #008000\">'USP'</span>, <span style=\"color: #008000; text-decoration-color: #008000\">'GS'</span>, <span style=\"color: #008000; text-decoration-color: #008000\">'RXNORM'</span>, <span style=\"color: #008000; text-decoration-color: #008000\">'VANDF'</span>, <span style=\"color: #008000; text-decoration-color: #008000\">'MMSL'</span>, <span style=\"color: #008000; text-decoration-color: #008000\">'NDDF'</span>, <span style=\"color: #008000; text-decoration-color: #008000\">'MMSL'</span>, <span style=\"color: #008000; text-decoration-color: #008000\">'ATC'</span>, <span style=\"color: #008000; text-decoration-color: #008000\">'DRUGBANK'</span><span style=\"font-weight: bold\">]}}</span>\n",
       "</pre>\n"
      ],
      "text/plain": [
       "Observations: \u001b[1m{\u001b[0m\u001b[32m'Bisoprolol \u001b[0m\u001b[32m(\u001b[0m\u001b[32mbisoprolol\u001b[0m\u001b[32m)\u001b[0m\u001b[32m'\u001b[0m: \u001b[1m{\u001b[0m\u001b[32m'19484'\u001b[0m: |\u001b[32m'GS'\u001b[0m, \u001b[32m'RXNORM'\u001b[0m, \u001b[32m'VANDF'\u001b[0m, \u001b[32m'NDDF'\u001b[0m, \u001b[32m'ATC'\u001b[0m, \u001b[32m'DRUGBANK'\u001b[0m\u001b[1m]\u001b[0m\u001b[1m}\u001b[0m, \n",
       "\u001b[32m'Amlodipine \u001b[0m\u001b[32m(\u001b[0m\u001b[32mamlodipine\u001b[0m\u001b[32m)\u001b[0m\u001b[32m'\u001b[0m: \u001b[1m{\u001b[0m\u001b[32m'17767'\u001b[0m: |\u001b[32m'GS'\u001b[0m, \u001b[32m'RXNORM'\u001b[0m, \u001b[32m'VANDF'\u001b[0m, \u001b[32m'MMSL'\u001b[0m, \u001b[32m'NDDF'\u001b[0m, \u001b[32m'ATC'\u001b[0m, \u001b[32m'MMSL'\u001b[0m, \u001b[32m'DRUGBANK'\u001b[0m\u001b[1m]\u001b[0m\u001b[1m}\u001b[0m, \n",
       "\u001b[32m'Ramipril \u001b[0m\u001b[32m(\u001b[0m\u001b[32mramipril\u001b[0m\u001b[32m)\u001b[0m\u001b[32m'\u001b[0m: \u001b[1m{\u001b[0m\u001b[32m'35296'\u001b[0m: |\u001b[32m'USP'\u001b[0m, \u001b[32m'GS'\u001b[0m, \u001b[32m'RXNORM'\u001b[0m, \u001b[32m'VANDF'\u001b[0m, \u001b[32m'MMSL'\u001b[0m, \u001b[32m'NDDF'\u001b[0m, \u001b[32m'MMSL'\u001b[0m, \u001b[32m'ATC'\u001b[0m, \u001b[32m'DRUGBANK'\u001b[0m\u001b[1m]\u001b[0m\u001b[1m}\u001b[0m\u001b[1m}\u001b[0m\n"
      ]
     },
     "metadata": {},
     "output_type": "display_data"
    },
    {
     "data": {
      "text/html": [
       "<pre style=\"white-space:pre;overflow-x:auto;line-height:normal;font-family:Menlo,'DejaVu Sans Mono',consolas,'Courier New',monospace\"><span style=\"color: #7f7f7f; text-decoration-color: #7f7f7f\">[Step 2: Duration 5.13 seconds| Input tokens: 7,888 | Output tokens: 664]</span>\n",
       "</pre>\n"
      ],
      "text/plain": [
       "\u001b[2m[Step 2: Duration 5.13 seconds| Input tokens: 7,888 | Output tokens: 664]\u001b[0m\n"
      ]
     },
     "metadata": {},
     "output_type": "display_data"
    },
    {
     "data": {
      "text/html": [
       "<pre style=\"white-space:pre;overflow-x:auto;line-height:normal;font-family:Menlo,'DejaVu Sans Mono',consolas,'Courier New',monospace\"><span style=\"color: #d4b702; text-decoration-color: #d4b702\">━━━━━━━━━━━━━━━━━━━━━━━━━━━━━━━━━━━━━━━━━━━━━━━━━━━━━ </span><span style=\"font-weight: bold\">Step </span><span style=\"color: #008080; text-decoration-color: #008080; font-weight: bold\">3</span><span style=\"color: #d4b702; text-decoration-color: #d4b702\"> ━━━━━━━━━━━━━━━━━━━━━━━━━━━━━━━━━━━━━━━━━━━━━━━━━━━━━━</span>\n",
       "</pre>\n"
      ],
      "text/plain": [
       "\u001b[38;2;212;183;2m━━━━━━━━━━━━━━━━━━━━━━━━━━━━━━━━━━━━━━━━━━━━━━━━━━━━━ \u001b[0m\u001b[1mStep \u001b[0m\u001b[1;36m3\u001b[0m\u001b[38;2;212;183;2m ━━━━━━━━━━━━━━━━━━━━━━━━━━━━━━━━━━━━━━━━━━━━━━━━━━━━━━\u001b[0m\n"
      ]
     },
     "metadata": {},
     "output_type": "display_data"
    },
    {
     "data": {
      "text/html": [
       "<pre style=\"white-space:pre;overflow-x:auto;line-height:normal;font-family:Menlo,'DejaVu Sans Mono',consolas,'Courier New',monospace\">╭─────────────────────────────────────────────────────────────────────────────────────────────────────────────────╮\n",
       "│ Calling tool: 'get_atc' with arguments: {'rxcuis': ['19484']}                                                   │\n",
       "╰─────────────────────────────────────────────────────────────────────────────────────────────────────────────────╯\n",
       "</pre>\n"
      ],
      "text/plain": [
       "╭─────────────────────────────────────────────────────────────────────────────────────────────────────────────────╮\n",
       "│ Calling tool: 'get_atc' with arguments: {'rxcuis': ['19484']}                                                   │\n",
       "╰─────────────────────────────────────────────────────────────────────────────────────────────────────────────────╯\n"
      ]
     },
     "metadata": {},
     "output_type": "display_data"
    },
    {
     "data": {
      "text/html": [
       "<pre style=\"white-space:pre;overflow-x:auto;line-height:normal;font-family:Menlo,'DejaVu Sans Mono',consolas,'Courier New',monospace\">Observations: <span style=\"font-weight: bold\">{</span><span style=\"color: #008000; text-decoration-color: #008000\">'19484'</span>: <span style=\"font-weight: bold\">{</span><span style=\"color: #008000; text-decoration-color: #008000\">'atc_id'</span>: <span style=\"color: #008000; text-decoration-color: #008000\">'C07AB'</span>, <span style=\"color: #008000; text-decoration-color: #008000\">'atc_name'</span>: <span style=\"color: #008000; text-decoration-color: #008000\">'Beta blocking agents, selective'</span>, <span style=\"color: #008000; text-decoration-color: #008000\">'atc_type'</span>: <span style=\"color: #008000; text-decoration-color: #008000\">'ATC1-4'</span><span style=\"font-weight: bold\">}}</span>\n",
       "</pre>\n"
      ],
      "text/plain": [
       "Observations: \u001b[1m{\u001b[0m\u001b[32m'19484'\u001b[0m: \u001b[1m{\u001b[0m\u001b[32m'atc_id'\u001b[0m: \u001b[32m'C07AB'\u001b[0m, \u001b[32m'atc_name'\u001b[0m: \u001b[32m'Beta blocking agents, selective'\u001b[0m, \u001b[32m'atc_type'\u001b[0m: \u001b[32m'ATC1-4'\u001b[0m\u001b[1m}\u001b[0m\u001b[1m}\u001b[0m\n"
      ]
     },
     "metadata": {},
     "output_type": "display_data"
    },
    {
     "data": {
      "text/html": [
       "<pre style=\"white-space:pre;overflow-x:auto;line-height:normal;font-family:Menlo,'DejaVu Sans Mono',consolas,'Courier New',monospace\"><span style=\"color: #7f7f7f; text-decoration-color: #7f7f7f\">[Step 3: Duration 1.50 seconds| Input tokens: 12,423 | Output tokens: 738]</span>\n",
       "</pre>\n"
      ],
      "text/plain": [
       "\u001b[2m[Step 3: Duration 1.50 seconds| Input tokens: 12,423 | Output tokens: 738]\u001b[0m\n"
      ]
     },
     "metadata": {},
     "output_type": "display_data"
    },
    {
     "data": {
      "text/html": [
       "<pre style=\"white-space:pre;overflow-x:auto;line-height:normal;font-family:Menlo,'DejaVu Sans Mono',consolas,'Courier New',monospace\"><span style=\"color: #d4b702; text-decoration-color: #d4b702\">━━━━━━━━━━━━━━━━━━━━━━━━━━━━━━━━━━━━━━━━━━━━━━━━━━━━━ </span><span style=\"font-weight: bold\">Step </span><span style=\"color: #008080; text-decoration-color: #008080; font-weight: bold\">4</span><span style=\"color: #d4b702; text-decoration-color: #d4b702\"> ━━━━━━━━━━━━━━━━━━━━━━━━━━━━━━━━━━━━━━━━━━━━━━━━━━━━━━</span>\n",
       "</pre>\n"
      ],
      "text/plain": [
       "\u001b[38;2;212;183;2m━━━━━━━━━━━━━━━━━━━━━━━━━━━━━━━━━━━━━━━━━━━━━━━━━━━━━ \u001b[0m\u001b[1mStep \u001b[0m\u001b[1;36m4\u001b[0m\u001b[38;2;212;183;2m ━━━━━━━━━━━━━━━━━━━━━━━━━━━━━━━━━━━━━━━━━━━━━━━━━━━━━━\u001b[0m\n"
      ]
     },
     "metadata": {},
     "output_type": "display_data"
    },
    {
     "data": {
      "text/html": [
       "<pre style=\"white-space:pre;overflow-x:auto;line-height:normal;font-family:Menlo,'DejaVu Sans Mono',consolas,'Courier New',monospace\">╭─────────────────────────────────────────────────────────────────────────────────────────────────────────────────╮\n",
       "│ Calling tool: 'get_atc' with arguments: {'rxcuis': ['17767']}                                                   │\n",
       "╰─────────────────────────────────────────────────────────────────────────────────────────────────────────────────╯\n",
       "</pre>\n"
      ],
      "text/plain": [
       "╭─────────────────────────────────────────────────────────────────────────────────────────────────────────────────╮\n",
       "│ Calling tool: 'get_atc' with arguments: {'rxcuis': ['17767']}                                                   │\n",
       "╰─────────────────────────────────────────────────────────────────────────────────────────────────────────────────╯\n"
      ]
     },
     "metadata": {},
     "output_type": "display_data"
    },
    {
     "data": {
      "text/html": [
       "<pre style=\"white-space:pre;overflow-x:auto;line-height:normal;font-family:Menlo,'DejaVu Sans Mono',consolas,'Courier New',monospace\">Observations: <span style=\"font-weight: bold\">{</span><span style=\"color: #008000; text-decoration-color: #008000\">'17767'</span>: <span style=\"font-weight: bold\">{</span><span style=\"color: #008000; text-decoration-color: #008000\">'atc_id'</span>: <span style=\"color: #008000; text-decoration-color: #008000\">'C09DX'</span>, <span style=\"color: #008000; text-decoration-color: #008000\">'atc_name'</span>: <span style=\"color: #008000; text-decoration-color: #008000\">'Angiotensin II receptor blockers (ARBs), other </span>\n",
       "<span style=\"color: #008000; text-decoration-color: #008000\">combinations'</span>, <span style=\"color: #008000; text-decoration-color: #008000\">'atc_type'</span>: <span style=\"color: #008000; text-decoration-color: #008000\">'ATC1-4'</span><span style=\"font-weight: bold\">}}</span>\n",
       "</pre>\n"
      ],
      "text/plain": [
       "Observations: \u001b[1m{\u001b[0m\u001b[32m'17767'\u001b[0m: \u001b[1m{\u001b[0m\u001b[32m'atc_id'\u001b[0m: \u001b[32m'C09DX'\u001b[0m, \u001b[32m'atc_name'\u001b[0m: \u001b[32m'Angiotensin II receptor blockers \u001b[0m\u001b[32m(\u001b[0m\u001b[32mARBs\u001b[0m\u001b[32m)\u001b[0m\u001b[32m, other \u001b[0m\n",
       "\u001b[32mcombinations'\u001b[0m, \u001b[32m'atc_type'\u001b[0m: \u001b[32m'ATC1-4'\u001b[0m\u001b[1m}\u001b[0m\u001b[1m}\u001b[0m\n"
      ]
     },
     "metadata": {},
     "output_type": "display_data"
    },
    {
     "data": {
      "text/html": [
       "<pre style=\"white-space:pre;overflow-x:auto;line-height:normal;font-family:Menlo,'DejaVu Sans Mono',consolas,'Courier New',monospace\"><span style=\"color: #7f7f7f; text-decoration-color: #7f7f7f\">[Step 4: Duration 1.33 seconds| Input tokens: 17,086 | Output tokens: 793]</span>\n",
       "</pre>\n"
      ],
      "text/plain": [
       "\u001b[2m[Step 4: Duration 1.33 seconds| Input tokens: 17,086 | Output tokens: 793]\u001b[0m\n"
      ]
     },
     "metadata": {},
     "output_type": "display_data"
    },
    {
     "data": {
      "text/html": [
       "<pre style=\"white-space:pre;overflow-x:auto;line-height:normal;font-family:Menlo,'DejaVu Sans Mono',consolas,'Courier New',monospace\"><span style=\"color: #d4b702; text-decoration-color: #d4b702\">━━━━━━━━━━━━━━━━━━━━━━━━━━━━━━━━━━━━━━━━━━━━━━━━━━━━━ </span><span style=\"font-weight: bold\">Step </span><span style=\"color: #008080; text-decoration-color: #008080; font-weight: bold\">5</span><span style=\"color: #d4b702; text-decoration-color: #d4b702\"> ━━━━━━━━━━━━━━━━━━━━━━━━━━━━━━━━━━━━━━━━━━━━━━━━━━━━━━</span>\n",
       "</pre>\n"
      ],
      "text/plain": [
       "\u001b[38;2;212;183;2m━━━━━━━━━━━━━━━━━━━━━━━━━━━━━━━━━━━━━━━━━━━━━━━━━━━━━ \u001b[0m\u001b[1mStep \u001b[0m\u001b[1;36m5\u001b[0m\u001b[38;2;212;183;2m ━━━━━━━━━━━━━━━━━━━━━━━━━━━━━━━━━━━━━━━━━━━━━━━━━━━━━━\u001b[0m\n"
      ]
     },
     "metadata": {},
     "output_type": "display_data"
    },
    {
     "data": {
      "text/html": [
       "<pre style=\"white-space:pre;overflow-x:auto;line-height:normal;font-family:Menlo,'DejaVu Sans Mono',consolas,'Courier New',monospace\">╭─────────────────────────────────────────────────────────────────────────────────────────────────────────────────╮\n",
       "│ Calling tool: 'get_atc' with arguments: {'rxcuis': ['35296']}                                                   │\n",
       "╰─────────────────────────────────────────────────────────────────────────────────────────────────────────────────╯\n",
       "</pre>\n"
      ],
      "text/plain": [
       "╭─────────────────────────────────────────────────────────────────────────────────────────────────────────────────╮\n",
       "│ Calling tool: 'get_atc' with arguments: {'rxcuis': ['35296']}                                                   │\n",
       "╰─────────────────────────────────────────────────────────────────────────────────────────────────────────────────╯\n"
      ]
     },
     "metadata": {},
     "output_type": "display_data"
    },
    {
     "data": {
      "text/html": [
       "<pre style=\"white-space:pre;overflow-x:auto;line-height:normal;font-family:Menlo,'DejaVu Sans Mono',consolas,'Courier New',monospace\">Observations: <span style=\"font-weight: bold\">{</span><span style=\"color: #008000; text-decoration-color: #008000\">'35296'</span>: <span style=\"font-weight: bold\">{</span><span style=\"color: #008000; text-decoration-color: #008000\">'atc_id'</span>: <span style=\"color: #008000; text-decoration-color: #008000\">'C09AA'</span>, <span style=\"color: #008000; text-decoration-color: #008000\">'atc_name'</span>: <span style=\"color: #008000; text-decoration-color: #008000\">'ACE inhibitors, plain'</span>, <span style=\"color: #008000; text-decoration-color: #008000\">'atc_type'</span>: <span style=\"color: #008000; text-decoration-color: #008000\">'ATC1-4'</span><span style=\"font-weight: bold\">}}</span>\n",
       "</pre>\n"
      ],
      "text/plain": [
       "Observations: \u001b[1m{\u001b[0m\u001b[32m'35296'\u001b[0m: \u001b[1m{\u001b[0m\u001b[32m'atc_id'\u001b[0m: \u001b[32m'C09AA'\u001b[0m, \u001b[32m'atc_name'\u001b[0m: \u001b[32m'ACE inhibitors, plain'\u001b[0m, \u001b[32m'atc_type'\u001b[0m: \u001b[32m'ATC1-4'\u001b[0m\u001b[1m}\u001b[0m\u001b[1m}\u001b[0m\n"
      ]
     },
     "metadata": {},
     "output_type": "display_data"
    },
    {
     "data": {
      "text/html": [
       "<pre style=\"white-space:pre;overflow-x:auto;line-height:normal;font-family:Menlo,'DejaVu Sans Mono',consolas,'Courier New',monospace\"><span style=\"color: #7f7f7f; text-decoration-color: #7f7f7f\">[Step 5: Duration 2.99 seconds| Input tokens: 21,886 | Output tokens: 813]</span>\n",
       "</pre>\n"
      ],
      "text/plain": [
       "\u001b[2m[Step 5: Duration 2.99 seconds| Input tokens: 21,886 | Output tokens: 813]\u001b[0m\n"
      ]
     },
     "metadata": {},
     "output_type": "display_data"
    },
    {
     "data": {
      "text/html": [
       "<pre style=\"white-space:pre;overflow-x:auto;line-height:normal;font-family:Menlo,'DejaVu Sans Mono',consolas,'Courier New',monospace\"><span style=\"color: #d4b702; text-decoration-color: #d4b702\">━━━━━━━━━━━━━━━━━━━━━━━━━━━━━━━━━━━━━━━━━━━━━━━━━━━━━ </span><span style=\"font-weight: bold\">Step </span><span style=\"color: #008080; text-decoration-color: #008080; font-weight: bold\">6</span><span style=\"color: #d4b702; text-decoration-color: #d4b702\"> ━━━━━━━━━━━━━━━━━━━━━━━━━━━━━━━━━━━━━━━━━━━━━━━━━━━━━━</span>\n",
       "</pre>\n"
      ],
      "text/plain": [
       "\u001b[38;2;212;183;2m━━━━━━━━━━━━━━━━━━━━━━━━━━━━━━━━━━━━━━━━━━━━━━━━━━━━━ \u001b[0m\u001b[1mStep \u001b[0m\u001b[1;36m6\u001b[0m\u001b[38;2;212;183;2m ━━━━━━━━━━━━━━━━━━━━━━━━━━━━━━━━━━━━━━━━━━━━━━━━━━━━━━\u001b[0m\n"
      ]
     },
     "metadata": {},
     "output_type": "display_data"
    },
    {
     "data": {
      "text/html": [
       "<pre style=\"white-space:pre;overflow-x:auto;line-height:normal;font-family:Menlo,'DejaVu Sans Mono',consolas,'Courier New',monospace\">╭─────────────────────────────────────────────────────────────────────────────────────────────────────────────────╮\n",
       "│ Calling tool: 'save_csv' with arguments: {'task_name': 'medication', 'data': [{'patient_id': 6,                 │\n",
       "│ 'medication_reference': 'Bisoprolol 5mg', 'medication_name': 'Bisoprolol', 'medication_translated': 'Bisoprolol │\n",
       "│ (bisoprolol)', 'active_ingredient': 'bisoprolol', 'dose': 5, 'unit': 'mg', 'dosage_morning': 0, 'dosage_noon':  │\n",
       "│ 0, 'dosage_evening': 0, 'dosage_night': 0, 'dosage_information': 'schedule unkown', 'rxcui': '19484', 'atc_id': │\n",
       "│ 'C07AB', 'atc_name': 'Beta blocking agents, selective', 'atc_type': 'ATC1-4'}, {'patient_id': 6,                │\n",
       "│ 'medication_reference': 'Amlodipin 5mg', 'medication_name': 'Amlodipin', 'medication_translated': 'Amlodipine   │\n",
       "│ (amlodipine)', 'active_ingredient': 'amlodipine', 'dose': 5, 'unit': 'mg', 'dosage_morning': 0, 'dosage_noon':  │\n",
       "│ 0, 'dosage_evening': 0, 'dosage_night': 0, 'dosage_information': 'schedule unkown', 'rxcui': '17767', 'atc_id': │\n",
       "│ 'C09DX', 'atc_name': 'Angiotensin II receptor blockers (ARBs), other combinations', 'atc_type': 'ATC1-4'},      │\n",
       "│ {'patient_id': 6, 'medication_reference': 'Ramipril 10mg', 'medication_name': 'Ramipril',                       │\n",
       "│ 'medication_translated': 'Ramipril (ramipril)', 'active_ingredient': 'ramipril', 'dose': 10, 'unit': 'mg',      │\n",
       "│ 'dosage_morning': 0, 'dosage_noon': 0, 'dosage_evening': 0, 'dosage_night': 0, 'dosage_information': 'schedule  │\n",
       "│ unkown', 'rxcui': '35296', 'atc_id': 'C09AA', 'atc_name': 'ACE inhibitors, plain', 'atc_type': 'ATC1-4'}]}      │\n",
       "╰─────────────────────────────────────────────────────────────────────────────────────────────────────────────────╯\n",
       "</pre>\n"
      ],
      "text/plain": [
       "╭─────────────────────────────────────────────────────────────────────────────────────────────────────────────────╮\n",
       "│ Calling tool: 'save_csv' with arguments: {'task_name': 'medication', 'data': [{'patient_id': 6,                 │\n",
       "│ 'medication_reference': 'Bisoprolol 5mg', 'medication_name': 'Bisoprolol', 'medication_translated': 'Bisoprolol │\n",
       "│ (bisoprolol)', 'active_ingredient': 'bisoprolol', 'dose': 5, 'unit': 'mg', 'dosage_morning': 0, 'dosage_noon':  │\n",
       "│ 0, 'dosage_evening': 0, 'dosage_night': 0, 'dosage_information': 'schedule unkown', 'rxcui': '19484', 'atc_id': │\n",
       "│ 'C07AB', 'atc_name': 'Beta blocking agents, selective', 'atc_type': 'ATC1-4'}, {'patient_id': 6,                │\n",
       "│ 'medication_reference': 'Amlodipin 5mg', 'medication_name': 'Amlodipin', 'medication_translated': 'Amlodipine   │\n",
       "│ (amlodipine)', 'active_ingredient': 'amlodipine', 'dose': 5, 'unit': 'mg', 'dosage_morning': 0, 'dosage_noon':  │\n",
       "│ 0, 'dosage_evening': 0, 'dosage_night': 0, 'dosage_information': 'schedule unkown', 'rxcui': '17767', 'atc_id': │\n",
       "│ 'C09DX', 'atc_name': 'Angiotensin II receptor blockers (ARBs), other combinations', 'atc_type': 'ATC1-4'},      │\n",
       "│ {'patient_id': 6, 'medication_reference': 'Ramipril 10mg', 'medication_name': 'Ramipril',                       │\n",
       "│ 'medication_translated': 'Ramipril (ramipril)', 'active_ingredient': 'ramipril', 'dose': 10, 'unit': 'mg',      │\n",
       "│ 'dosage_morning': 0, 'dosage_noon': 0, 'dosage_evening': 0, 'dosage_night': 0, 'dosage_information': 'schedule  │\n",
       "│ unkown', 'rxcui': '35296', 'atc_id': 'C09AA', 'atc_name': 'ACE inhibitors, plain', 'atc_type': 'ATC1-4'}]}      │\n",
       "╰─────────────────────────────────────────────────────────────────────────────────────────────────────────────────╯\n"
      ]
     },
     "metadata": {},
     "output_type": "display_data"
    },
    {
     "data": {
      "text/html": [
       "<pre style=\"white-space:pre;overflow-x:auto;line-height:normal;font-family:Menlo,'DejaVu Sans Mono',consolas,'Courier New',monospace\">Observations: Saved data for task medication to \n",
       "<span style=\"color: #800080; text-decoration-color: #800080\">/Users/christian/Projects/aidh-ms/MedMiner/examples/result/</span><span style=\"color: #ff00ff; text-decoration-color: #ff00ff\">medication.csv</span>\n",
       "</pre>\n"
      ],
      "text/plain": [
       "Observations: Saved data for task medication to \n",
       "\u001b[35m/Users/christian/Projects/aidh-ms/MedMiner/examples/result/\u001b[0m\u001b[95mmedication.csv\u001b[0m\n"
      ]
     },
     "metadata": {},
     "output_type": "display_data"
    },
    {
     "data": {
      "text/html": [
       "<pre style=\"white-space:pre;overflow-x:auto;line-height:normal;font-family:Menlo,'DejaVu Sans Mono',consolas,'Courier New',monospace\"><span style=\"color: #7f7f7f; text-decoration-color: #7f7f7f\">[Step 6: Duration 4.36 seconds| Input tokens: 26,813 | Output tokens: 1,228]</span>\n",
       "</pre>\n"
      ],
      "text/plain": [
       "\u001b[2m[Step 6: Duration 4.36 seconds| Input tokens: 26,813 | Output tokens: 1,228]\u001b[0m\n"
      ]
     },
     "metadata": {},
     "output_type": "display_data"
    },
    {
     "data": {
      "text/html": [
       "<pre style=\"white-space:pre;overflow-x:auto;line-height:normal;font-family:Menlo,'DejaVu Sans Mono',consolas,'Courier New',monospace\"><span style=\"color: #d4b702; text-decoration-color: #d4b702\">━━━━━━━━━━━━━━━━━━━━━━━━━━━━━━━━━━━━━━━━━━━━━━━━━━━━━ </span><span style=\"font-weight: bold\">Step </span><span style=\"color: #008080; text-decoration-color: #008080; font-weight: bold\">7</span><span style=\"color: #d4b702; text-decoration-color: #d4b702\"> ━━━━━━━━━━━━━━━━━━━━━━━━━━━━━━━━━━━━━━━━━━━━━━━━━━━━━━</span>\n",
       "</pre>\n"
      ],
      "text/plain": [
       "\u001b[38;2;212;183;2m━━━━━━━━━━━━━━━━━━━━━━━━━━━━━━━━━━━━━━━━━━━━━━━━━━━━━ \u001b[0m\u001b[1mStep \u001b[0m\u001b[1;36m7\u001b[0m\u001b[38;2;212;183;2m ━━━━━━━━━━━━━━━━━━━━━━━━━━━━━━━━━━━━━━━━━━━━━━━━━━━━━━\u001b[0m\n"
      ]
     },
     "metadata": {},
     "output_type": "display_data"
    },
    {
     "data": {
      "text/html": [
       "<pre style=\"white-space:pre;overflow-x:auto;line-height:normal;font-family:Menlo,'DejaVu Sans Mono',consolas,'Courier New',monospace\">╭─────────────────────────────────────────────────────────────────────────────────────────────────────────────────╮\n",
       "│ Calling tool: 'final_answer' with arguments: {'answer': 'Data saved successfully to                             │\n",
       "│ /Users/christian/Projects/aidh-ms/MedMiner/examples/result/medication.csv'}                                     │\n",
       "╰─────────────────────────────────────────────────────────────────────────────────────────────────────────────────╯\n",
       "</pre>\n"
      ],
      "text/plain": [
       "╭─────────────────────────────────────────────────────────────────────────────────────────────────────────────────╮\n",
       "│ Calling tool: 'final_answer' with arguments: {'answer': 'Data saved successfully to                             │\n",
       "│ /Users/christian/Projects/aidh-ms/MedMiner/examples/result/medication.csv'}                                     │\n",
       "╰─────────────────────────────────────────────────────────────────────────────────────────────────────────────────╯\n"
      ]
     },
     "metadata": {},
     "output_type": "display_data"
    },
    {
     "data": {
      "text/html": [
       "<pre style=\"white-space:pre;overflow-x:auto;line-height:normal;font-family:Menlo,'DejaVu Sans Mono',consolas,'Courier New',monospace\"><span style=\"color: #d4b702; text-decoration-color: #d4b702; font-weight: bold\">Final answer: Data saved successfully to /Users/christian/Projects/aidh-ms/MedMiner/examples/result/medication.csv</span>\n",
       "</pre>\n"
      ],
      "text/plain": [
       "\u001b[1;38;2;212;183;2mFinal answer: Data saved successfully to /Users/christian/Projects/aidh-ms/MedMiner/examples/result/medication.csv\u001b[0m\n"
      ]
     },
     "metadata": {},
     "output_type": "display_data"
    },
    {
     "data": {
      "text/html": [
       "<pre style=\"white-space:pre;overflow-x:auto;line-height:normal;font-family:Menlo,'DejaVu Sans Mono',consolas,'Courier New',monospace\"><span style=\"color: #7f7f7f; text-decoration-color: #7f7f7f\">[Step 7: Duration 2.71 seconds| Input tokens: 32,344 | Output tokens: 1,265]</span>\n",
       "</pre>\n"
      ],
      "text/plain": [
       "\u001b[2m[Step 7: Duration 2.71 seconds| Input tokens: 32,344 | Output tokens: 1,265]\u001b[0m\n"
      ]
     },
     "metadata": {},
     "output_type": "display_data"
    },
    {
     "data": {
      "text/html": [
       "<pre style=\"white-space:pre;overflow-x:auto;line-height:normal;font-family:Menlo,'DejaVu Sans Mono',consolas,'Courier New',monospace\"><span style=\"color: #d4b702; text-decoration-color: #d4b702\">╭──────────────────────────────────────────────────── </span><span style=\"color: #d4b702; text-decoration-color: #d4b702; font-weight: bold\">New run</span><span style=\"color: #d4b702; text-decoration-color: #d4b702\"> ────────────────────────────────────────────────────╮</span>\n",
       "<span style=\"color: #d4b702; text-decoration-color: #d4b702\">│</span>                                                                                                                 <span style=\"color: #d4b702; text-decoration-color: #d4b702\">│</span>\n",
       "<span style=\"color: #d4b702; text-decoration-color: #d4b702\">│</span> <span style=\"font-weight: bold\">Task name: medication</span>                                                                                           <span style=\"color: #d4b702; text-decoration-color: #d4b702\">│</span>\n",
       "<span style=\"color: #d4b702; text-decoration-color: #d4b702\">│</span> <span style=\"font-weight: bold\">Prompt: </span>                                                                                                        <span style=\"color: #d4b702; text-decoration-color: #d4b702\">│</span>\n",
       "<span style=\"color: #d4b702; text-decoration-color: #d4b702\">│</span> <span style=\"font-weight: bold\">    Given a list of medications, save all medications for the patient as csv. The medications can be in any </span>    <span style=\"color: #d4b702; text-decoration-color: #d4b702\">│</span>\n",
       "<span style=\"color: #d4b702; text-decoration-color: #d4b702\">│</span> <span style=\"font-weight: bold\">language. The medications are usually in the format of a list of medications, with dosage and unit as well as </span>  <span style=\"color: #d4b702; text-decoration-color: #d4b702\">│</span>\n",
       "<span style=\"color: #d4b702; text-decoration-color: #d4b702\">│</span> <span style=\"font-weight: bold\">their dosage timings (e.g. 1-0-1-0 for moring and evening but not noon or night). Every medication should have </span> <span style=\"color: #d4b702; text-decoration-color: #d4b702\">│</span>\n",
       "<span style=\"color: #d4b702; text-decoration-color: #d4b702\">│</span> <span style=\"font-weight: bold\">a single row, if there are multiple medications that can be extracted from a single piece of text, e.g. a </span>      <span style=\"color: #d4b702; text-decoration-color: #d4b702\">│</span>\n",
       "<span style=\"color: #d4b702; text-decoration-color: #d4b702\">│</span> <span style=\"font-weight: bold\">combined medication, split them up. These are the steps you should follow to complete the task:</span>                 <span style=\"color: #d4b702; text-decoration-color: #d4b702\">│</span>\n",
       "<span style=\"color: #d4b702; text-decoration-color: #d4b702\">│</span>                                                                                                                 <span style=\"color: #d4b702; text-decoration-color: #d4b702\">│</span>\n",
       "<span style=\"color: #d4b702; text-decoration-color: #d4b702\">│</span> <span style=\"font-weight: bold\">    To complete the task make the following steps:</span>                                                              <span style=\"color: #d4b702; text-decoration-color: #d4b702\">│</span>\n",
       "<span style=\"color: #d4b702; text-decoration-color: #d4b702\">│</span> <span style=\"font-weight: bold\">    1. Extract the medications from the text. The medication can be in any language. This is the </span>               <span style=\"color: #d4b702; text-decoration-color: #d4b702\">│</span>\n",
       "<span style=\"color: #d4b702; text-decoration-color: #d4b702\">│</span> <span style=\"font-weight: bold\">medication_reference column.</span>                                                                                    <span style=\"color: #d4b702; text-decoration-color: #d4b702\">│</span>\n",
       "<span style=\"color: #d4b702; text-decoration-color: #d4b702\">│</span> <span style=\"font-weight: bold\">    2. If the medication name is not in english, translate it to english and infer the medication_translated </span>   <span style=\"color: #d4b702; text-decoration-color: #d4b702\">│</span>\n",
       "<span style=\"color: #d4b702; text-decoration-color: #d4b702\">│</span> <span style=\"font-weight: bold\">column. Correct any misspellings in the process. Use the following format \"Brand name or medication name </span>       <span style=\"color: #d4b702; text-decoration-color: #d4b702\">│</span>\n",
       "<span style=\"color: #d4b702; text-decoration-color: #d4b702\">│</span> <span style=\"font-weight: bold\">(active ingredient)\". e.g. \"Aspirin (acetylsalicylic acid)\".</span>                                                    <span style=\"color: #d4b702; text-decoration-color: #d4b702\">│</span>\n",
       "<span style=\"color: #d4b702; text-decoration-color: #d4b702\">│</span> <span style=\"font-weight: bold\">    3. Extract the active ingredient of the medication and loose everything that is not relevant. This is the </span>  <span style=\"color: #d4b702; text-decoration-color: #d4b702\">│</span>\n",
       "<span style=\"color: #d4b702; text-decoration-color: #d4b702\">│</span> <span style=\"font-weight: bold\">active_ingredient column.</span>                                                                                       <span style=\"color: #d4b702; text-decoration-color: #d4b702\">│</span>\n",
       "<span style=\"color: #d4b702; text-decoration-color: #d4b702\">│</span> <span style=\"font-weight: bold\">    4. Extract the dose of the medication. This should only contain the numeric value. This is the dose column.</span> <span style=\"color: #d4b702; text-decoration-color: #d4b702\">│</span>\n",
       "<span style=\"color: #d4b702; text-decoration-color: #d4b702\">│</span> <span style=\"font-weight: bold\">    5. Extract the unit of the dose (e.g. ml, mg, ...). If possible, use mg. If not applicable, write an empty </span> <span style=\"color: #d4b702; text-decoration-color: #d4b702\">│</span>\n",
       "<span style=\"color: #d4b702; text-decoration-color: #d4b702\">│</span> <span style=\"font-weight: bold\">string. This is the unit column.</span>                                                                                <span style=\"color: #d4b702; text-decoration-color: #d4b702\">│</span>\n",
       "<span style=\"color: #d4b702; text-decoration-color: #d4b702\">│</span> <span style=\"font-weight: bold\">    6. Extract the dosage timings of the medication. This is the dosage_morning, dosage_noon, dosage_evening </span>   <span style=\"color: #d4b702; text-decoration-color: #d4b702\">│</span>\n",
       "<span style=\"color: #d4b702; text-decoration-color: #d4b702\">│</span> <span style=\"font-weight: bold\">and dosage_night columns. If you see that the patient is not taking a medication at a certain time point, write</span> <span style=\"color: #d4b702; text-decoration-color: #d4b702\">│</span>\n",
       "<span style=\"color: #d4b702; text-decoration-color: #d4b702\">│</span> <span style=\"font-weight: bold\">a 0. If you are unsure or missing the information, leave empty.</span>                                                 <span style=\"color: #d4b702; text-decoration-color: #d4b702\">│</span>\n",
       "<span style=\"color: #d4b702; text-decoration-color: #d4b702\">│</span> <span style=\"font-weight: bold\">    7. Extract the dosage information of the medication. This is the dosage_information column. You can write </span>  <span style=\"color: #d4b702; text-decoration-color: #d4b702\">│</span>\n",
       "<span style=\"color: #d4b702; text-decoration-color: #d4b702\">│</span> <span style=\"font-weight: bold\">any further information here that does not fit the description before. If you see an indication that this might</span> <span style=\"color: #d4b702; text-decoration-color: #d4b702\">│</span>\n",
       "<span style=\"color: #d4b702; text-decoration-color: #d4b702\">│</span> <span style=\"font-weight: bold\">be a medication that is taken \"as needed\" write \"as needed\" here. If you weren't able to infer a medication </span>    <span style=\"color: #d4b702; text-decoration-color: #d4b702\">│</span>\n",
       "<span style=\"color: #d4b702; text-decoration-color: #d4b702\">│</span> <span style=\"font-weight: bold\">schedule in the task before, write \"schedule unkown\". If not applicable, write an empty string.</span>                 <span style=\"color: #d4b702; text-decoration-color: #d4b702\">│</span>\n",
       "<span style=\"color: #d4b702; text-decoration-color: #d4b702\">│</span> <span style=\"font-weight: bold\">    8. get the RXCUI for all medications. Use the active ingredient of the medications. If there are multiple </span>  <span style=\"color: #d4b702; text-decoration-color: #d4b702\">│</span>\n",
       "<span style=\"color: #d4b702; text-decoration-color: #d4b702\">│</span> <span style=\"font-weight: bold\">RXCUI codes, choose the one that fits the best to the translated medication. Usually, the first candidate with </span> <span style=\"color: #d4b702; text-decoration-color: #d4b702\">│</span>\n",
       "<span style=\"color: #d4b702; text-decoration-color: #d4b702\">│</span> <span style=\"font-weight: bold\">a score of 1 is the best choice, but you can decide otherwise if you have reasonable grounds for another </span>       <span style=\"color: #d4b702; text-decoration-color: #d4b702\">│</span>\n",
       "<span style=\"color: #d4b702; text-decoration-color: #d4b702\">│</span> <span style=\"font-weight: bold\">decision. If there are no codes, write an empty string.</span>                                                         <span style=\"color: #d4b702; text-decoration-color: #d4b702\">│</span>\n",
       "<span style=\"color: #d4b702; text-decoration-color: #d4b702\">│</span> <span style=\"font-weight: bold\">    9. get the ATC code for all medications. Use the rxcui of the medications.</span>                                  <span style=\"color: #d4b702; text-decoration-color: #d4b702\">│</span>\n",
       "<span style=\"color: #d4b702; text-decoration-color: #d4b702\">│</span> <span style=\"font-weight: bold\">    10. save the medication information as csv with the columns defined below.</span>                                  <span style=\"color: #d4b702; text-decoration-color: #d4b702\">│</span>\n",
       "<span style=\"color: #d4b702; text-decoration-color: #d4b702\">│</span>                                                                                                                 <span style=\"color: #d4b702; text-decoration-color: #d4b702\">│</span>\n",
       "<span style=\"color: #d4b702; text-decoration-color: #d4b702\">│</span> <span style=\"font-weight: bold\">    Example 1:</span>                                                                                                  <span style=\"color: #d4b702; text-decoration-color: #d4b702\">│</span>\n",
       "<span style=\"color: #d4b702; text-decoration-color: #d4b702\">│</span> <span style=\"font-weight: bold\">    Input: \"Aspirin 100mg 1-0-1-0\"</span>                                                                              <span style=\"color: #d4b702; text-decoration-color: #d4b702\">│</span>\n",
       "<span style=\"color: #d4b702; text-decoration-color: #d4b702\">│</span> <span style=\"font-weight: bold\">    Output: [</span>                                                                                                   <span style=\"color: #d4b702; text-decoration-color: #d4b702\">│</span>\n",
       "<span style=\"color: #d4b702; text-decoration-color: #d4b702\">│</span> <span style=\"font-weight: bold\">        {\"patient_id\": 1, \"medication_reference\": \"Aspirin 100mg\", \"medication_name\": \"Aspirin\", </span>               <span style=\"color: #d4b702; text-decoration-color: #d4b702\">│</span>\n",
       "<span style=\"color: #d4b702; text-decoration-color: #d4b702\">│</span> <span style=\"font-weight: bold\">\"medication_translated\": \"Aspirin (acetylsalicylic acid)\", \"active_ingredient\": \"acetylsalicylic acid\", \"dose\":</span> <span style=\"color: #d4b702; text-decoration-color: #d4b702\">│</span>\n",
       "<span style=\"color: #d4b702; text-decoration-color: #d4b702\">│</span> <span style=\"font-weight: bold\">100, \"unit\": \"mg\", \"dosage_morning\": 1, \"dosage_noon\": 0, \"dosage_evening\": 1, \"dosage_night\": 0, </span>              <span style=\"color: #d4b702; text-decoration-color: #d4b702\">│</span>\n",
       "<span style=\"color: #d4b702; text-decoration-color: #d4b702\">│</span> <span style=\"font-weight: bold\">\"dosage_information\": \"\", \"rxcui\": \"\", \"atc_id\": \"\", \"atc_name\": \"\", \"atc_type\": \"\"}</span>                            <span style=\"color: #d4b702; text-decoration-color: #d4b702\">│</span>\n",
       "<span style=\"color: #d4b702; text-decoration-color: #d4b702\">│</span> <span style=\"font-weight: bold\">    \\]</span>                                                                                                          <span style=\"color: #d4b702; text-decoration-color: #d4b702\">│</span>\n",
       "<span style=\"color: #d4b702; text-decoration-color: #d4b702\">│</span> <span style=\"font-weight: bold\">    Example 2:</span>                                                                                                  <span style=\"color: #d4b702; text-decoration-color: #d4b702\">│</span>\n",
       "<span style=\"color: #d4b702; text-decoration-color: #d4b702\">│</span> <span style=\"font-weight: bold\">    Input: \"Paracetamol 500mg 1-0-0-0\"</span>                                                                          <span style=\"color: #d4b702; text-decoration-color: #d4b702\">│</span>\n",
       "<span style=\"color: #d4b702; text-decoration-color: #d4b702\">│</span> <span style=\"font-weight: bold\">    Output: [</span>                                                                                                   <span style=\"color: #d4b702; text-decoration-color: #d4b702\">│</span>\n",
       "<span style=\"color: #d4b702; text-decoration-color: #d4b702\">│</span> <span style=\"font-weight: bold\">        {\"patient_id\": 2, \"medication_reference\": \"Paracetamol 500mg\", \"medication_name\": \"Paracetamol\", </span>       <span style=\"color: #d4b702; text-decoration-color: #d4b702\">│</span>\n",
       "<span style=\"color: #d4b702; text-decoration-color: #d4b702\">│</span> <span style=\"font-weight: bold\">\"medication_translated\": \"Paracetamol (acetaminophen)\", \"active_ingredient\": \"acetaminophen\", \"dose\": 500, </span>     <span style=\"color: #d4b702; text-decoration-color: #d4b702\">│</span>\n",
       "<span style=\"color: #d4b702; text-decoration-color: #d4b702\">│</span> <span style=\"font-weight: bold\">\"unit\": \"mg\", \"dosage_morning\": 1, \"dosage_noon\": 0, \"dosage_evening\": 0, \"dosage_night\": 0, </span>                   <span style=\"color: #d4b702; text-decoration-color: #d4b702\">│</span>\n",
       "<span style=\"color: #d4b702; text-decoration-color: #d4b702\">│</span> <span style=\"font-weight: bold\">\"dosage_information\": \"\", \"rxcui\": \"\", \"atc_id\": \"\", \"atc_name\": \"\", \"atc_type\": \"\"}</span>                            <span style=\"color: #d4b702; text-decoration-color: #d4b702\">│</span>\n",
       "<span style=\"color: #d4b702; text-decoration-color: #d4b702\">│</span> <span style=\"font-weight: bold\">    \\]</span>                                                                                                          <span style=\"color: #d4b702; text-decoration-color: #d4b702\">│</span>\n",
       "<span style=\"color: #d4b702; text-decoration-color: #d4b702\">│</span> <span style=\"font-weight: bold\">    Example 3:</span>                                                                                                  <span style=\"color: #d4b702; text-decoration-color: #d4b702\">│</span>\n",
       "<span style=\"color: #d4b702; text-decoration-color: #d4b702\">│</span> <span style=\"font-weight: bold\">    Input: \"Ibuprofen 400mg 1-1-0-0\"</span>                                                                            <span style=\"color: #d4b702; text-decoration-color: #d4b702\">│</span>\n",
       "<span style=\"color: #d4b702; text-decoration-color: #d4b702\">│</span> <span style=\"font-weight: bold\">    Output: [</span>                                                                                                   <span style=\"color: #d4b702; text-decoration-color: #d4b702\">│</span>\n",
       "<span style=\"color: #d4b702; text-decoration-color: #d4b702\">│</span> <span style=\"font-weight: bold\">        {\"patient_id\": 3, \"medication_reference\": \"Ibuprofen 400mg\", \"medication_name\": \"Ibuprofen\", </span>           <span style=\"color: #d4b702; text-decoration-color: #d4b702\">│</span>\n",
       "<span style=\"color: #d4b702; text-decoration-color: #d4b702\">│</span> <span style=\"font-weight: bold\">\"medication_translated\": \"Ibuprofen (ibuprofen)\", \"active_ingredient\": \"ibuprofen\", \"dose\": 400, \"unit\": \"mg\", </span> <span style=\"color: #d4b702; text-decoration-color: #d4b702\">│</span>\n",
       "<span style=\"color: #d4b702; text-decoration-color: #d4b702\">│</span> <span style=\"font-weight: bold\">\"dosage_morning\": 1, \"dosage_noon\": 1, \"dosage_evening\": 0, \"dosage_night\": 0, \"dosage_information\": \"\", </span>       <span style=\"color: #d4b702; text-decoration-color: #d4b702\">│</span>\n",
       "<span style=\"color: #d4b702; text-decoration-color: #d4b702\">│</span> <span style=\"font-weight: bold\">\"rxcui\": \"\", \"atc_id\": \"\", \"atc_name\": \"\", \"atc_type\": \"\"}</span>                                                      <span style=\"color: #d4b702; text-decoration-color: #d4b702\">│</span>\n",
       "<span style=\"color: #d4b702; text-decoration-color: #d4b702\">│</span> <span style=\"font-weight: bold\">    \\]</span>                                                                                                          <span style=\"color: #d4b702; text-decoration-color: #d4b702\">│</span>\n",
       "<span style=\"color: #d4b702; text-decoration-color: #d4b702\">│</span> <span style=\"font-weight: bold\">    Example 4:</span>                                                                                                  <span style=\"color: #d4b702; text-decoration-color: #d4b702\">│</span>\n",
       "<span style=\"color: #d4b702; text-decoration-color: #d4b702\">│</span> <span style=\"font-weight: bold\">    Input: \"Piperacillin/Tazobactam 1g/1g 1-0-1-0\"</span>                                                              <span style=\"color: #d4b702; text-decoration-color: #d4b702\">│</span>\n",
       "<span style=\"color: #d4b702; text-decoration-color: #d4b702\">│</span> <span style=\"font-weight: bold\">    Output: [</span>                                                                                                   <span style=\"color: #d4b702; text-decoration-color: #d4b702\">│</span>\n",
       "<span style=\"color: #d4b702; text-decoration-color: #d4b702\">│</span> <span style=\"font-weight: bold\">        {\"patient_id\": 4, \"medication_reference\": \"Piperacillin/Tazobactam 1g/1g\", \"medication_name\": </span>          <span style=\"color: #d4b702; text-decoration-color: #d4b702\">│</span>\n",
       "<span style=\"color: #d4b702; text-decoration-color: #d4b702\">│</span> <span style=\"font-weight: bold\">\"Piperacillin\", \"medication_translated\": \"Piperacillin (piperacillin)\", \"active_ingredient\": \"piperacillin\", </span>   <span style=\"color: #d4b702; text-decoration-color: #d4b702\">│</span>\n",
       "<span style=\"color: #d4b702; text-decoration-color: #d4b702\">│</span> <span style=\"font-weight: bold\">\"dose\": 1000, \"unit\": \"mg\", \"dosage_morning\": 1, \"dosage_noon\": 0, \"dosage_evening\": 1, \"dosage_night\": 0, </span>     <span style=\"color: #d4b702; text-decoration-color: #d4b702\">│</span>\n",
       "<span style=\"color: #d4b702; text-decoration-color: #d4b702\">│</span> <span style=\"font-weight: bold\">\"dosage_information\": \"\", \"rxcui\": \"\", \"atc_id\": \"\", \"atc_name\": \"\", \"atc_type\": \"\"},</span>                           <span style=\"color: #d4b702; text-decoration-color: #d4b702\">│</span>\n",
       "<span style=\"color: #d4b702; text-decoration-color: #d4b702\">│</span> <span style=\"font-weight: bold\">        {\"patient_id\": 4, \"medication_reference\": \"Piperacillin/Tazobactam 1g/1g\", \"medication_name\": </span>          <span style=\"color: #d4b702; text-decoration-color: #d4b702\">│</span>\n",
       "<span style=\"color: #d4b702; text-decoration-color: #d4b702\">│</span> <span style=\"font-weight: bold\">\"Tazobactam\", \"medication_translated\": \"Tazobactam (tazobactam)\", \"active_ingredient\": \"tazobactam\", \"dose\": </span>   <span style=\"color: #d4b702; text-decoration-color: #d4b702\">│</span>\n",
       "<span style=\"color: #d4b702; text-decoration-color: #d4b702\">│</span> <span style=\"font-weight: bold\">1000, \"unit\": \"mg\", \"dosage_morning\": 1, \"dosage_noon\": 0, \"dosage_evening\": 1, \"dosage_night\": 0, </span>             <span style=\"color: #d4b702; text-decoration-color: #d4b702\">│</span>\n",
       "<span style=\"color: #d4b702; text-decoration-color: #d4b702\">│</span> <span style=\"font-weight: bold\">\"dosage_information\": \"\", \"rxcui\": \"\", \"atc_id\": \"\", \"atc_name\": \"\", \"atc_type\": \"\"}</span>                            <span style=\"color: #d4b702; text-decoration-color: #d4b702\">│</span>\n",
       "<span style=\"color: #d4b702; text-decoration-color: #d4b702\">│</span> <span style=\"font-weight: bold\">    \\]</span>                                                                                                          <span style=\"color: #d4b702; text-decoration-color: #d4b702\">│</span>\n",
       "<span style=\"color: #d4b702; text-decoration-color: #d4b702\">│</span> <span style=\"font-weight: bold\">    Example 5:</span>                                                                                                  <span style=\"color: #d4b702; text-decoration-color: #d4b702\">│</span>\n",
       "<span style=\"color: #d4b702; text-decoration-color: #d4b702\">│</span> <span style=\"font-weight: bold\">    Input: \"Tilidin 5mg bB\"</span>                                                                                     <span style=\"color: #d4b702; text-decoration-color: #d4b702\">│</span>\n",
       "<span style=\"color: #d4b702; text-decoration-color: #d4b702\">│</span> <span style=\"font-weight: bold\">    Output: [</span>                                                                                                   <span style=\"color: #d4b702; text-decoration-color: #d4b702\">│</span>\n",
       "<span style=\"color: #d4b702; text-decoration-color: #d4b702\">│</span> <span style=\"font-weight: bold\">        {\"patient_id\": 5, \"medication_reference\": \"Tilidin 5mg bB\", \"medication_name\": \"Tilidin\", </span>              <span style=\"color: #d4b702; text-decoration-color: #d4b702\">│</span>\n",
       "<span style=\"color: #d4b702; text-decoration-color: #d4b702\">│</span> <span style=\"font-weight: bold\">\"medication_translated\": \"Tilidin (tilidine)\", \"active_ingredient\": \"tilidine\", \"dose\": 5, \"unit\": \"mg\", </span>       <span style=\"color: #d4b702; text-decoration-color: #d4b702\">│</span>\n",
       "<span style=\"color: #d4b702; text-decoration-color: #d4b702\">│</span> <span style=\"font-weight: bold\">\"dosage_morning\": 0, \"dosage_noon\": 0, \"dosage_evening\": 0, \"dosage_night\": 0, \"dosage_information\": \"as </span>       <span style=\"color: #d4b702; text-decoration-color: #d4b702\">│</span>\n",
       "<span style=\"color: #d4b702; text-decoration-color: #d4b702\">│</span> <span style=\"font-weight: bold\">needed\", \"rxcui\": \"\", \"atc_id\": \"\", \"atc_name\": \"\", \"atc_type\": \"\"}</span>                                             <span style=\"color: #d4b702; text-decoration-color: #d4b702\">│</span>\n",
       "<span style=\"color: #d4b702; text-decoration-color: #d4b702\">│</span> <span style=\"font-weight: bold\">    \\]</span>                                                                                                          <span style=\"color: #d4b702; text-decoration-color: #d4b702\">│</span>\n",
       "<span style=\"color: #d4b702; text-decoration-color: #d4b702\">│</span> <span style=\"font-weight: bold\">    Example 6:</span>                                                                                                  <span style=\"color: #d4b702; text-decoration-color: #d4b702\">│</span>\n",
       "<span style=\"color: #d4b702; text-decoration-color: #d4b702\">│</span> <span style=\"font-weight: bold\">    Input: \"Amlodipin 5mg\"</span>                                                                                      <span style=\"color: #d4b702; text-decoration-color: #d4b702\">│</span>\n",
       "<span style=\"color: #d4b702; text-decoration-color: #d4b702\">│</span> <span style=\"font-weight: bold\">    Output: [</span>                                                                                                   <span style=\"color: #d4b702; text-decoration-color: #d4b702\">│</span>\n",
       "<span style=\"color: #d4b702; text-decoration-color: #d4b702\">│</span> <span style=\"font-weight: bold\">        {\"patient_id\": 6, \"medication_reference\": \"Amlodipin 5mg\", \"medication_name\": \"Amlodipin\", </span>             <span style=\"color: #d4b702; text-decoration-color: #d4b702\">│</span>\n",
       "<span style=\"color: #d4b702; text-decoration-color: #d4b702\">│</span> <span style=\"font-weight: bold\">\"medication_translated\": \"Amlodipine (amlodipine)\", \"active_ingredient\": \"amlodipine\", \"dose\": 5, \"unit\": \"mg\",</span> <span style=\"color: #d4b702; text-decoration-color: #d4b702\">│</span>\n",
       "<span style=\"color: #d4b702; text-decoration-color: #d4b702\">│</span> <span style=\"font-weight: bold\">\"dosage_morning\": np.nan, \"dosage_noon\": np.nan, \"dosage_evening\": np.nan, \"dosage_night\": np.nan, </span>             <span style=\"color: #d4b702; text-decoration-color: #d4b702\">│</span>\n",
       "<span style=\"color: #d4b702; text-decoration-color: #d4b702\">│</span> <span style=\"font-weight: bold\">\"dosage_information\": \"schedule unkown\", \"rxcui\": \"\", \"atc_id\": \"\", \"atc_name\": \"\", \"atc_type\": \"\"}</span>             <span style=\"color: #d4b702; text-decoration-color: #d4b702\">│</span>\n",
       "<span style=\"color: #d4b702; text-decoration-color: #d4b702\">│</span> <span style=\"font-weight: bold\">    \\]</span>                                                                                                          <span style=\"color: #d4b702; text-decoration-color: #d4b702\">│</span>\n",
       "<span style=\"color: #d4b702; text-decoration-color: #d4b702\">│</span>                                                                                                                 <span style=\"color: #d4b702; text-decoration-color: #d4b702\">│</span>\n",
       "<span style=\"color: #d4b702; text-decoration-color: #d4b702\">│</span> <span style=\"font-weight: bold\">    Columns:</span>                                                                                                    <span style=\"color: #d4b702; text-decoration-color: #d4b702\">│</span>\n",
       "<span style=\"color: #d4b702; text-decoration-color: #d4b702\">│</span> <span style=\"font-weight: bold\">    - patient_id: The patient ID.</span>                                                                               <span style=\"color: #d4b702; text-decoration-color: #d4b702\">│</span>\n",
       "<span style=\"color: #d4b702; text-decoration-color: #d4b702\">│</span> <span style=\"font-weight: bold\">    - medication_reference: The medication name in the document.</span>                                                <span style=\"color: #d4b702; text-decoration-color: #d4b702\">│</span>\n",
       "<span style=\"color: #d4b702; text-decoration-color: #d4b702\">│</span> <span style=\"font-weight: bold\">    - medication_name: The name of the medication in the document without dose, unit or additional information.</span> <span style=\"color: #d4b702; text-decoration-color: #d4b702\">│</span>\n",
       "<span style=\"color: #d4b702; text-decoration-color: #d4b702\">│</span> <span style=\"font-weight: bold\">    - medication_translated: The corrected name of the medication, translated to english. Use the following </span>    <span style=\"color: #d4b702; text-decoration-color: #d4b702\">│</span>\n",
       "<span style=\"color: #d4b702; text-decoration-color: #d4b702\">│</span> <span style=\"font-weight: bold\">format \"Brand name or medication name (active ingredient)\". e.g. \"Aspirin (acetylsalicylic acid)\".</span>              <span style=\"color: #d4b702; text-decoration-color: #d4b702\">│</span>\n",
       "<span style=\"color: #d4b702; text-decoration-color: #d4b702\">│</span> <span style=\"font-weight: bold\">    - active_ingredient: The active ingredient of the medication. if not applicable, write an empty string.</span>     <span style=\"color: #d4b702; text-decoration-color: #d4b702\">│</span>\n",
       "<span style=\"color: #d4b702; text-decoration-color: #d4b702\">│</span> <span style=\"font-weight: bold\">    - dose: The dose of the medication. this sould only contain the numeric value.</span>                              <span style=\"color: #d4b702; text-decoration-color: #d4b702\">│</span>\n",
       "<span style=\"color: #d4b702; text-decoration-color: #d4b702\">│</span> <span style=\"font-weight: bold\">    - unit: The unit of the dose (e.g. ml, mg, ...). if not applicable, write an empty string.</span>                  <span style=\"color: #d4b702; text-decoration-color: #d4b702\">│</span>\n",
       "<span style=\"color: #d4b702; text-decoration-color: #d4b702\">│</span> <span style=\"font-weight: bold\">    - dosage_morning: The dose in the morning. if not applicable, write a 0.</span>                                    <span style=\"color: #d4b702; text-decoration-color: #d4b702\">│</span>\n",
       "<span style=\"color: #d4b702; text-decoration-color: #d4b702\">│</span> <span style=\"font-weight: bold\">    - dosage_noon: The dose in the noon. if not applicable, write a 0.</span>                                          <span style=\"color: #d4b702; text-decoration-color: #d4b702\">│</span>\n",
       "<span style=\"color: #d4b702; text-decoration-color: #d4b702\">│</span> <span style=\"font-weight: bold\">    - dosage_evening: The dose in the evening. if not applicable, write a 0.</span>                                    <span style=\"color: #d4b702; text-decoration-color: #d4b702\">│</span>\n",
       "<span style=\"color: #d4b702; text-decoration-color: #d4b702\">│</span> <span style=\"font-weight: bold\">    - dosage_night: The dose in the night. if not applicable, write a 0.</span>                                        <span style=\"color: #d4b702; text-decoration-color: #d4b702\">│</span>\n",
       "<span style=\"color: #d4b702; text-decoration-color: #d4b702\">│</span> <span style=\"font-weight: bold\">    - dosage_information: Additional information about the dosage. if not applicable, write an empty string.</span>    <span style=\"color: #d4b702; text-decoration-color: #d4b702\">│</span>\n",
       "<span style=\"color: #d4b702; text-decoration-color: #d4b702\">│</span> <span style=\"font-weight: bold\">    - rxcui: The RXCUI of the medication. if not applicable, write an empty string.</span>                             <span style=\"color: #d4b702; text-decoration-color: #d4b702\">│</span>\n",
       "<span style=\"color: #d4b702; text-decoration-color: #d4b702\">│</span> <span style=\"font-weight: bold\">    - atc_id: The ATC code of the medication. if not applicable, write an empty string.</span>                         <span style=\"color: #d4b702; text-decoration-color: #d4b702\">│</span>\n",
       "<span style=\"color: #d4b702; text-decoration-color: #d4b702\">│</span> <span style=\"font-weight: bold\">    - atc_name: The name of the ATC code. if not applicable, write an empty string.</span>                             <span style=\"color: #d4b702; text-decoration-color: #d4b702\">│</span>\n",
       "<span style=\"color: #d4b702; text-decoration-color: #d4b702\">│</span> <span style=\"font-weight: bold\">    - atc_type: The type of the ATC code. if not applicable, write an empty string.</span>                             <span style=\"color: #d4b702; text-decoration-color: #d4b702\">│</span>\n",
       "<span style=\"color: #d4b702; text-decoration-color: #d4b702\">│</span>                                                                                                                 <span style=\"color: #d4b702; text-decoration-color: #d4b702\">│</span>\n",
       "<span style=\"color: #d4b702; text-decoration-color: #d4b702\">│</span>                                                                                                                 <span style=\"color: #d4b702; text-decoration-color: #d4b702\">│</span>\n",
       "<span style=\"color: #d4b702; text-decoration-color: #d4b702\">│</span> <span style=\"font-weight: bold\">--------------------------------------------------------------------------------</span>                                <span style=\"color: #d4b702; text-decoration-color: #d4b702\">│</span>\n",
       "<span style=\"color: #d4b702; text-decoration-color: #d4b702\">│</span> <span style=\"font-weight: bold\">Data: </span>                                                                                                          <span style=\"color: #d4b702; text-decoration-color: #d4b702\">│</span>\n",
       "<span style=\"color: #d4b702; text-decoration-color: #d4b702\">│</span> <span style=\"font-weight: bold\">    Patient: 3</span>                                                                                                  <span style=\"color: #d4b702; text-decoration-color: #d4b702\">│</span>\n",
       "<span style=\"color: #d4b702; text-decoration-color: #d4b702\">│</span> <span style=\"font-weight: bold\">    \"</span>                                                                                                           <span style=\"color: #d4b702; text-decoration-color: #d4b702\">│</span>\n",
       "<span style=\"color: #d4b702; text-decoration-color: #d4b702\">│</span> <span style=\"font-weight: bold\">    Ticagrelor 15 mg  1-0-0 (prÃ¤OP pausiert)</span>                                                                   <span style=\"color: #d4b702; text-decoration-color: #d4b702\">│</span>\n",
       "<span style=\"color: #d4b702; text-decoration-color: #d4b702\">│</span> <span style=\"font-weight: bold\">    \\</span>                                                                                                           <span style=\"color: #d4b702; text-decoration-color: #d4b702\">│</span>\n",
       "<span style=\"color: #d4b702; text-decoration-color: #d4b702\">│</span> <span style=\"font-weight: bold\">    Bisoprolol 5 mg             1-0-1</span>                                                                           <span style=\"color: #d4b702; text-decoration-color: #d4b702\">│</span>\n",
       "<span style=\"color: #d4b702; text-decoration-color: #d4b702\">│</span> <span style=\"font-weight: bold\">    \\</span>                                                                                                           <span style=\"color: #d4b702; text-decoration-color: #d4b702\">│</span>\n",
       "<span style=\"color: #d4b702; text-decoration-color: #d4b702\">│</span> <span style=\"font-weight: bold\">    L-Thyroxin 75               1-0-0</span>                                                                           <span style=\"color: #d4b702; text-decoration-color: #d4b702\">│</span>\n",
       "<span style=\"color: #d4b702; text-decoration-color: #d4b702\">│</span> <span style=\"font-weight: bold\">    \\</span>                                                                                                           <span style=\"color: #d4b702; text-decoration-color: #d4b702\">│</span>\n",
       "<span style=\"color: #d4b702; text-decoration-color: #d4b702\">│</span> <span style=\"font-weight: bold\">    Ibuprofen 400 mg            1-0-1</span>                                                                           <span style=\"color: #d4b702; text-decoration-color: #d4b702\">│</span>\n",
       "<span style=\"color: #d4b702; text-decoration-color: #d4b702\">│</span> <span style=\"font-weight: bold\">    \\</span>                                                                                                           <span style=\"color: #d4b702; text-decoration-color: #d4b702\">│</span>\n",
       "<span style=\"color: #d4b702; text-decoration-color: #d4b702\">│</span> <span style=\"font-weight: bold\">    Pantozol 40 mg              0-1-0</span>                                                                           <span style=\"color: #d4b702; text-decoration-color: #d4b702\">│</span>\n",
       "<span style=\"color: #d4b702; text-decoration-color: #d4b702\">│</span> <span style=\"font-weight: bold\">    \\</span>                                                                                                           <span style=\"color: #d4b702; text-decoration-color: #d4b702\">│</span>\n",
       "<span style=\"color: #d4b702; text-decoration-color: #d4b702\">│</span> <span style=\"font-weight: bold\">    Torem 5 mg          1-0-0</span>                                                                                   <span style=\"color: #d4b702; text-decoration-color: #d4b702\">│</span>\n",
       "<span style=\"color: #d4b702; text-decoration-color: #d4b702\">│</span> <span style=\"font-weight: bold\">    \\</span>                                                                                                           <span style=\"color: #d4b702; text-decoration-color: #d4b702\">│</span>\n",
       "<span style=\"color: #d4b702; text-decoration-color: #d4b702\">│</span> <span style=\"font-weight: bold\">    Metformin 1000mg 1-0-1</span>                                                                                      <span style=\"color: #d4b702; text-decoration-color: #d4b702\">│</span>\n",
       "<span style=\"color: #d4b702; text-decoration-color: #d4b702\">│</span> <span style=\"font-weight: bold\">    \\</span>                                                                                                           <span style=\"color: #d4b702; text-decoration-color: #d4b702\">│</span>\n",
       "<span style=\"color: #d4b702; text-decoration-color: #d4b702\">│</span> <span style=\"font-weight: bold\">    Pantozol 40mg 0-1-0\"</span>                                                                                        <span style=\"color: #d4b702; text-decoration-color: #d4b702\">│</span>\n",
       "<span style=\"color: #d4b702; text-decoration-color: #d4b702\">│</span>                                                                                                                 <span style=\"color: #d4b702; text-decoration-color: #d4b702\">│</span>\n",
       "<span style=\"color: #d4b702; text-decoration-color: #d4b702\">╰─ AzureOpenAIServerModel - gpt-4o ───────────────────────────────────────────────────────────────────────────────╯</span>\n",
       "</pre>\n"
      ],
      "text/plain": [
       "\u001b[38;2;212;183;2m╭─\u001b[0m\u001b[38;2;212;183;2m───────────────────────────────────────────────────\u001b[0m\u001b[38;2;212;183;2m \u001b[0m\u001b[1;38;2;212;183;2mNew run\u001b[0m\u001b[38;2;212;183;2m \u001b[0m\u001b[38;2;212;183;2m───────────────────────────────────────────────────\u001b[0m\u001b[38;2;212;183;2m─╮\u001b[0m\n",
       "\u001b[38;2;212;183;2m│\u001b[0m                                                                                                                 \u001b[38;2;212;183;2m│\u001b[0m\n",
       "\u001b[38;2;212;183;2m│\u001b[0m \u001b[1mTask name: medication\u001b[0m                                                                                           \u001b[38;2;212;183;2m│\u001b[0m\n",
       "\u001b[38;2;212;183;2m│\u001b[0m \u001b[1mPrompt: \u001b[0m                                                                                                        \u001b[38;2;212;183;2m│\u001b[0m\n",
       "\u001b[38;2;212;183;2m│\u001b[0m \u001b[1m    Given a list of medications, save all medications for the patient as csv. The medications can be in any \u001b[0m    \u001b[38;2;212;183;2m│\u001b[0m\n",
       "\u001b[38;2;212;183;2m│\u001b[0m \u001b[1mlanguage. The medications are usually in the format of a list of medications, with dosage and unit as well as \u001b[0m  \u001b[38;2;212;183;2m│\u001b[0m\n",
       "\u001b[38;2;212;183;2m│\u001b[0m \u001b[1mtheir dosage timings (e.g. 1-0-1-0 for moring and evening but not noon or night). Every medication should have \u001b[0m \u001b[38;2;212;183;2m│\u001b[0m\n",
       "\u001b[38;2;212;183;2m│\u001b[0m \u001b[1ma single row, if there are multiple medications that can be extracted from a single piece of text, e.g. a \u001b[0m      \u001b[38;2;212;183;2m│\u001b[0m\n",
       "\u001b[38;2;212;183;2m│\u001b[0m \u001b[1mcombined medication, split them up. These are the steps you should follow to complete the task:\u001b[0m                 \u001b[38;2;212;183;2m│\u001b[0m\n",
       "\u001b[38;2;212;183;2m│\u001b[0m                                                                                                                 \u001b[38;2;212;183;2m│\u001b[0m\n",
       "\u001b[38;2;212;183;2m│\u001b[0m \u001b[1m    To complete the task make the following steps:\u001b[0m                                                              \u001b[38;2;212;183;2m│\u001b[0m\n",
       "\u001b[38;2;212;183;2m│\u001b[0m \u001b[1m    1. Extract the medications from the text. The medication can be in any language. This is the \u001b[0m               \u001b[38;2;212;183;2m│\u001b[0m\n",
       "\u001b[38;2;212;183;2m│\u001b[0m \u001b[1mmedication_reference column.\u001b[0m                                                                                    \u001b[38;2;212;183;2m│\u001b[0m\n",
       "\u001b[38;2;212;183;2m│\u001b[0m \u001b[1m    2. If the medication name is not in english, translate it to english and infer the medication_translated \u001b[0m   \u001b[38;2;212;183;2m│\u001b[0m\n",
       "\u001b[38;2;212;183;2m│\u001b[0m \u001b[1mcolumn. Correct any misspellings in the process. Use the following format \"Brand name or medication name \u001b[0m       \u001b[38;2;212;183;2m│\u001b[0m\n",
       "\u001b[38;2;212;183;2m│\u001b[0m \u001b[1m(active ingredient)\". e.g. \"Aspirin (acetylsalicylic acid)\".\u001b[0m                                                    \u001b[38;2;212;183;2m│\u001b[0m\n",
       "\u001b[38;2;212;183;2m│\u001b[0m \u001b[1m    3. Extract the active ingredient of the medication and loose everything that is not relevant. This is the \u001b[0m  \u001b[38;2;212;183;2m│\u001b[0m\n",
       "\u001b[38;2;212;183;2m│\u001b[0m \u001b[1mactive_ingredient column.\u001b[0m                                                                                       \u001b[38;2;212;183;2m│\u001b[0m\n",
       "\u001b[38;2;212;183;2m│\u001b[0m \u001b[1m    4. Extract the dose of the medication. This should only contain the numeric value. This is the dose column.\u001b[0m \u001b[38;2;212;183;2m│\u001b[0m\n",
       "\u001b[38;2;212;183;2m│\u001b[0m \u001b[1m    5. Extract the unit of the dose (e.g. ml, mg, ...). If possible, use mg. If not applicable, write an empty \u001b[0m \u001b[38;2;212;183;2m│\u001b[0m\n",
       "\u001b[38;2;212;183;2m│\u001b[0m \u001b[1mstring. This is the unit column.\u001b[0m                                                                                \u001b[38;2;212;183;2m│\u001b[0m\n",
       "\u001b[38;2;212;183;2m│\u001b[0m \u001b[1m    6. Extract the dosage timings of the medication. This is the dosage_morning, dosage_noon, dosage_evening \u001b[0m   \u001b[38;2;212;183;2m│\u001b[0m\n",
       "\u001b[38;2;212;183;2m│\u001b[0m \u001b[1mand dosage_night columns. If you see that the patient is not taking a medication at a certain time point, write\u001b[0m \u001b[38;2;212;183;2m│\u001b[0m\n",
       "\u001b[38;2;212;183;2m│\u001b[0m \u001b[1ma 0. If you are unsure or missing the information, leave empty.\u001b[0m                                                 \u001b[38;2;212;183;2m│\u001b[0m\n",
       "\u001b[38;2;212;183;2m│\u001b[0m \u001b[1m    7. Extract the dosage information of the medication. This is the dosage_information column. You can write \u001b[0m  \u001b[38;2;212;183;2m│\u001b[0m\n",
       "\u001b[38;2;212;183;2m│\u001b[0m \u001b[1many further information here that does not fit the description before. If you see an indication that this might\u001b[0m \u001b[38;2;212;183;2m│\u001b[0m\n",
       "\u001b[38;2;212;183;2m│\u001b[0m \u001b[1mbe a medication that is taken \"as needed\" write \"as needed\" here. If you weren't able to infer a medication \u001b[0m    \u001b[38;2;212;183;2m│\u001b[0m\n",
       "\u001b[38;2;212;183;2m│\u001b[0m \u001b[1mschedule in the task before, write \"schedule unkown\". If not applicable, write an empty string.\u001b[0m                 \u001b[38;2;212;183;2m│\u001b[0m\n",
       "\u001b[38;2;212;183;2m│\u001b[0m \u001b[1m    8. get the RXCUI for all medications. Use the active ingredient of the medications. If there are multiple \u001b[0m  \u001b[38;2;212;183;2m│\u001b[0m\n",
       "\u001b[38;2;212;183;2m│\u001b[0m \u001b[1mRXCUI codes, choose the one that fits the best to the translated medication. Usually, the first candidate with \u001b[0m \u001b[38;2;212;183;2m│\u001b[0m\n",
       "\u001b[38;2;212;183;2m│\u001b[0m \u001b[1ma score of 1 is the best choice, but you can decide otherwise if you have reasonable grounds for another \u001b[0m       \u001b[38;2;212;183;2m│\u001b[0m\n",
       "\u001b[38;2;212;183;2m│\u001b[0m \u001b[1mdecision. If there are no codes, write an empty string.\u001b[0m                                                         \u001b[38;2;212;183;2m│\u001b[0m\n",
       "\u001b[38;2;212;183;2m│\u001b[0m \u001b[1m    9. get the ATC code for all medications. Use the rxcui of the medications.\u001b[0m                                  \u001b[38;2;212;183;2m│\u001b[0m\n",
       "\u001b[38;2;212;183;2m│\u001b[0m \u001b[1m    10. save the medication information as csv with the columns defined below.\u001b[0m                                  \u001b[38;2;212;183;2m│\u001b[0m\n",
       "\u001b[38;2;212;183;2m│\u001b[0m                                                                                                                 \u001b[38;2;212;183;2m│\u001b[0m\n",
       "\u001b[38;2;212;183;2m│\u001b[0m \u001b[1m    Example 1:\u001b[0m                                                                                                  \u001b[38;2;212;183;2m│\u001b[0m\n",
       "\u001b[38;2;212;183;2m│\u001b[0m \u001b[1m    Input: \"Aspirin 100mg 1-0-1-0\"\u001b[0m                                                                              \u001b[38;2;212;183;2m│\u001b[0m\n",
       "\u001b[38;2;212;183;2m│\u001b[0m \u001b[1m    Output: [\u001b[0m                                                                                                   \u001b[38;2;212;183;2m│\u001b[0m\n",
       "\u001b[38;2;212;183;2m│\u001b[0m \u001b[1m        {\"patient_id\": 1, \"medication_reference\": \"Aspirin 100mg\", \"medication_name\": \"Aspirin\", \u001b[0m               \u001b[38;2;212;183;2m│\u001b[0m\n",
       "\u001b[38;2;212;183;2m│\u001b[0m \u001b[1m\"medication_translated\": \"Aspirin (acetylsalicylic acid)\", \"active_ingredient\": \"acetylsalicylic acid\", \"dose\":\u001b[0m \u001b[38;2;212;183;2m│\u001b[0m\n",
       "\u001b[38;2;212;183;2m│\u001b[0m \u001b[1m100, \"unit\": \"mg\", \"dosage_morning\": 1, \"dosage_noon\": 0, \"dosage_evening\": 1, \"dosage_night\": 0, \u001b[0m              \u001b[38;2;212;183;2m│\u001b[0m\n",
       "\u001b[38;2;212;183;2m│\u001b[0m \u001b[1m\"dosage_information\": \"\", \"rxcui\": \"\", \"atc_id\": \"\", \"atc_name\": \"\", \"atc_type\": \"\"}\u001b[0m                            \u001b[38;2;212;183;2m│\u001b[0m\n",
       "\u001b[38;2;212;183;2m│\u001b[0m \u001b[1m    \\]\u001b[0m                                                                                                          \u001b[38;2;212;183;2m│\u001b[0m\n",
       "\u001b[38;2;212;183;2m│\u001b[0m \u001b[1m    Example 2:\u001b[0m                                                                                                  \u001b[38;2;212;183;2m│\u001b[0m\n",
       "\u001b[38;2;212;183;2m│\u001b[0m \u001b[1m    Input: \"Paracetamol 500mg 1-0-0-0\"\u001b[0m                                                                          \u001b[38;2;212;183;2m│\u001b[0m\n",
       "\u001b[38;2;212;183;2m│\u001b[0m \u001b[1m    Output: [\u001b[0m                                                                                                   \u001b[38;2;212;183;2m│\u001b[0m\n",
       "\u001b[38;2;212;183;2m│\u001b[0m \u001b[1m        {\"patient_id\": 2, \"medication_reference\": \"Paracetamol 500mg\", \"medication_name\": \"Paracetamol\", \u001b[0m       \u001b[38;2;212;183;2m│\u001b[0m\n",
       "\u001b[38;2;212;183;2m│\u001b[0m \u001b[1m\"medication_translated\": \"Paracetamol (acetaminophen)\", \"active_ingredient\": \"acetaminophen\", \"dose\": 500, \u001b[0m     \u001b[38;2;212;183;2m│\u001b[0m\n",
       "\u001b[38;2;212;183;2m│\u001b[0m \u001b[1m\"unit\": \"mg\", \"dosage_morning\": 1, \"dosage_noon\": 0, \"dosage_evening\": 0, \"dosage_night\": 0, \u001b[0m                   \u001b[38;2;212;183;2m│\u001b[0m\n",
       "\u001b[38;2;212;183;2m│\u001b[0m \u001b[1m\"dosage_information\": \"\", \"rxcui\": \"\", \"atc_id\": \"\", \"atc_name\": \"\", \"atc_type\": \"\"}\u001b[0m                            \u001b[38;2;212;183;2m│\u001b[0m\n",
       "\u001b[38;2;212;183;2m│\u001b[0m \u001b[1m    \\]\u001b[0m                                                                                                          \u001b[38;2;212;183;2m│\u001b[0m\n",
       "\u001b[38;2;212;183;2m│\u001b[0m \u001b[1m    Example 3:\u001b[0m                                                                                                  \u001b[38;2;212;183;2m│\u001b[0m\n",
       "\u001b[38;2;212;183;2m│\u001b[0m \u001b[1m    Input: \"Ibuprofen 400mg 1-1-0-0\"\u001b[0m                                                                            \u001b[38;2;212;183;2m│\u001b[0m\n",
       "\u001b[38;2;212;183;2m│\u001b[0m \u001b[1m    Output: [\u001b[0m                                                                                                   \u001b[38;2;212;183;2m│\u001b[0m\n",
       "\u001b[38;2;212;183;2m│\u001b[0m \u001b[1m        {\"patient_id\": 3, \"medication_reference\": \"Ibuprofen 400mg\", \"medication_name\": \"Ibuprofen\", \u001b[0m           \u001b[38;2;212;183;2m│\u001b[0m\n",
       "\u001b[38;2;212;183;2m│\u001b[0m \u001b[1m\"medication_translated\": \"Ibuprofen (ibuprofen)\", \"active_ingredient\": \"ibuprofen\", \"dose\": 400, \"unit\": \"mg\", \u001b[0m \u001b[38;2;212;183;2m│\u001b[0m\n",
       "\u001b[38;2;212;183;2m│\u001b[0m \u001b[1m\"dosage_morning\": 1, \"dosage_noon\": 1, \"dosage_evening\": 0, \"dosage_night\": 0, \"dosage_information\": \"\", \u001b[0m       \u001b[38;2;212;183;2m│\u001b[0m\n",
       "\u001b[38;2;212;183;2m│\u001b[0m \u001b[1m\"rxcui\": \"\", \"atc_id\": \"\", \"atc_name\": \"\", \"atc_type\": \"\"}\u001b[0m                                                      \u001b[38;2;212;183;2m│\u001b[0m\n",
       "\u001b[38;2;212;183;2m│\u001b[0m \u001b[1m    \\]\u001b[0m                                                                                                          \u001b[38;2;212;183;2m│\u001b[0m\n",
       "\u001b[38;2;212;183;2m│\u001b[0m \u001b[1m    Example 4:\u001b[0m                                                                                                  \u001b[38;2;212;183;2m│\u001b[0m\n",
       "\u001b[38;2;212;183;2m│\u001b[0m \u001b[1m    Input: \"Piperacillin/Tazobactam 1g/1g 1-0-1-0\"\u001b[0m                                                              \u001b[38;2;212;183;2m│\u001b[0m\n",
       "\u001b[38;2;212;183;2m│\u001b[0m \u001b[1m    Output: [\u001b[0m                                                                                                   \u001b[38;2;212;183;2m│\u001b[0m\n",
       "\u001b[38;2;212;183;2m│\u001b[0m \u001b[1m        {\"patient_id\": 4, \"medication_reference\": \"Piperacillin/Tazobactam 1g/1g\", \"medication_name\": \u001b[0m          \u001b[38;2;212;183;2m│\u001b[0m\n",
       "\u001b[38;2;212;183;2m│\u001b[0m \u001b[1m\"Piperacillin\", \"medication_translated\": \"Piperacillin (piperacillin)\", \"active_ingredient\": \"piperacillin\", \u001b[0m   \u001b[38;2;212;183;2m│\u001b[0m\n",
       "\u001b[38;2;212;183;2m│\u001b[0m \u001b[1m\"dose\": 1000, \"unit\": \"mg\", \"dosage_morning\": 1, \"dosage_noon\": 0, \"dosage_evening\": 1, \"dosage_night\": 0, \u001b[0m     \u001b[38;2;212;183;2m│\u001b[0m\n",
       "\u001b[38;2;212;183;2m│\u001b[0m \u001b[1m\"dosage_information\": \"\", \"rxcui\": \"\", \"atc_id\": \"\", \"atc_name\": \"\", \"atc_type\": \"\"},\u001b[0m                           \u001b[38;2;212;183;2m│\u001b[0m\n",
       "\u001b[38;2;212;183;2m│\u001b[0m \u001b[1m        {\"patient_id\": 4, \"medication_reference\": \"Piperacillin/Tazobactam 1g/1g\", \"medication_name\": \u001b[0m          \u001b[38;2;212;183;2m│\u001b[0m\n",
       "\u001b[38;2;212;183;2m│\u001b[0m \u001b[1m\"Tazobactam\", \"medication_translated\": \"Tazobactam (tazobactam)\", \"active_ingredient\": \"tazobactam\", \"dose\": \u001b[0m   \u001b[38;2;212;183;2m│\u001b[0m\n",
       "\u001b[38;2;212;183;2m│\u001b[0m \u001b[1m1000, \"unit\": \"mg\", \"dosage_morning\": 1, \"dosage_noon\": 0, \"dosage_evening\": 1, \"dosage_night\": 0, \u001b[0m             \u001b[38;2;212;183;2m│\u001b[0m\n",
       "\u001b[38;2;212;183;2m│\u001b[0m \u001b[1m\"dosage_information\": \"\", \"rxcui\": \"\", \"atc_id\": \"\", \"atc_name\": \"\", \"atc_type\": \"\"}\u001b[0m                            \u001b[38;2;212;183;2m│\u001b[0m\n",
       "\u001b[38;2;212;183;2m│\u001b[0m \u001b[1m    \\]\u001b[0m                                                                                                          \u001b[38;2;212;183;2m│\u001b[0m\n",
       "\u001b[38;2;212;183;2m│\u001b[0m \u001b[1m    Example 5:\u001b[0m                                                                                                  \u001b[38;2;212;183;2m│\u001b[0m\n",
       "\u001b[38;2;212;183;2m│\u001b[0m \u001b[1m    Input: \"Tilidin 5mg bB\"\u001b[0m                                                                                     \u001b[38;2;212;183;2m│\u001b[0m\n",
       "\u001b[38;2;212;183;2m│\u001b[0m \u001b[1m    Output: [\u001b[0m                                                                                                   \u001b[38;2;212;183;2m│\u001b[0m\n",
       "\u001b[38;2;212;183;2m│\u001b[0m \u001b[1m        {\"patient_id\": 5, \"medication_reference\": \"Tilidin 5mg bB\", \"medication_name\": \"Tilidin\", \u001b[0m              \u001b[38;2;212;183;2m│\u001b[0m\n",
       "\u001b[38;2;212;183;2m│\u001b[0m \u001b[1m\"medication_translated\": \"Tilidin (tilidine)\", \"active_ingredient\": \"tilidine\", \"dose\": 5, \"unit\": \"mg\", \u001b[0m       \u001b[38;2;212;183;2m│\u001b[0m\n",
       "\u001b[38;2;212;183;2m│\u001b[0m \u001b[1m\"dosage_morning\": 0, \"dosage_noon\": 0, \"dosage_evening\": 0, \"dosage_night\": 0, \"dosage_information\": \"as \u001b[0m       \u001b[38;2;212;183;2m│\u001b[0m\n",
       "\u001b[38;2;212;183;2m│\u001b[0m \u001b[1mneeded\", \"rxcui\": \"\", \"atc_id\": \"\", \"atc_name\": \"\", \"atc_type\": \"\"}\u001b[0m                                             \u001b[38;2;212;183;2m│\u001b[0m\n",
       "\u001b[38;2;212;183;2m│\u001b[0m \u001b[1m    \\]\u001b[0m                                                                                                          \u001b[38;2;212;183;2m│\u001b[0m\n",
       "\u001b[38;2;212;183;2m│\u001b[0m \u001b[1m    Example 6:\u001b[0m                                                                                                  \u001b[38;2;212;183;2m│\u001b[0m\n",
       "\u001b[38;2;212;183;2m│\u001b[0m \u001b[1m    Input: \"Amlodipin 5mg\"\u001b[0m                                                                                      \u001b[38;2;212;183;2m│\u001b[0m\n",
       "\u001b[38;2;212;183;2m│\u001b[0m \u001b[1m    Output: [\u001b[0m                                                                                                   \u001b[38;2;212;183;2m│\u001b[0m\n",
       "\u001b[38;2;212;183;2m│\u001b[0m \u001b[1m        {\"patient_id\": 6, \"medication_reference\": \"Amlodipin 5mg\", \"medication_name\": \"Amlodipin\", \u001b[0m             \u001b[38;2;212;183;2m│\u001b[0m\n",
       "\u001b[38;2;212;183;2m│\u001b[0m \u001b[1m\"medication_translated\": \"Amlodipine (amlodipine)\", \"active_ingredient\": \"amlodipine\", \"dose\": 5, \"unit\": \"mg\",\u001b[0m \u001b[38;2;212;183;2m│\u001b[0m\n",
       "\u001b[38;2;212;183;2m│\u001b[0m \u001b[1m\"dosage_morning\": np.nan, \"dosage_noon\": np.nan, \"dosage_evening\": np.nan, \"dosage_night\": np.nan, \u001b[0m             \u001b[38;2;212;183;2m│\u001b[0m\n",
       "\u001b[38;2;212;183;2m│\u001b[0m \u001b[1m\"dosage_information\": \"schedule unkown\", \"rxcui\": \"\", \"atc_id\": \"\", \"atc_name\": \"\", \"atc_type\": \"\"}\u001b[0m             \u001b[38;2;212;183;2m│\u001b[0m\n",
       "\u001b[38;2;212;183;2m│\u001b[0m \u001b[1m    \\]\u001b[0m                                                                                                          \u001b[38;2;212;183;2m│\u001b[0m\n",
       "\u001b[38;2;212;183;2m│\u001b[0m                                                                                                                 \u001b[38;2;212;183;2m│\u001b[0m\n",
       "\u001b[38;2;212;183;2m│\u001b[0m \u001b[1m    Columns:\u001b[0m                                                                                                    \u001b[38;2;212;183;2m│\u001b[0m\n",
       "\u001b[38;2;212;183;2m│\u001b[0m \u001b[1m    - patient_id: The patient ID.\u001b[0m                                                                               \u001b[38;2;212;183;2m│\u001b[0m\n",
       "\u001b[38;2;212;183;2m│\u001b[0m \u001b[1m    - medication_reference: The medication name in the document.\u001b[0m                                                \u001b[38;2;212;183;2m│\u001b[0m\n",
       "\u001b[38;2;212;183;2m│\u001b[0m \u001b[1m    - medication_name: The name of the medication in the document without dose, unit or additional information.\u001b[0m \u001b[38;2;212;183;2m│\u001b[0m\n",
       "\u001b[38;2;212;183;2m│\u001b[0m \u001b[1m    - medication_translated: The corrected name of the medication, translated to english. Use the following \u001b[0m    \u001b[38;2;212;183;2m│\u001b[0m\n",
       "\u001b[38;2;212;183;2m│\u001b[0m \u001b[1mformat \"Brand name or medication name (active ingredient)\". e.g. \"Aspirin (acetylsalicylic acid)\".\u001b[0m              \u001b[38;2;212;183;2m│\u001b[0m\n",
       "\u001b[38;2;212;183;2m│\u001b[0m \u001b[1m    - active_ingredient: The active ingredient of the medication. if not applicable, write an empty string.\u001b[0m     \u001b[38;2;212;183;2m│\u001b[0m\n",
       "\u001b[38;2;212;183;2m│\u001b[0m \u001b[1m    - dose: The dose of the medication. this sould only contain the numeric value.\u001b[0m                              \u001b[38;2;212;183;2m│\u001b[0m\n",
       "\u001b[38;2;212;183;2m│\u001b[0m \u001b[1m    - unit: The unit of the dose (e.g. ml, mg, ...). if not applicable, write an empty string.\u001b[0m                  \u001b[38;2;212;183;2m│\u001b[0m\n",
       "\u001b[38;2;212;183;2m│\u001b[0m \u001b[1m    - dosage_morning: The dose in the morning. if not applicable, write a 0.\u001b[0m                                    \u001b[38;2;212;183;2m│\u001b[0m\n",
       "\u001b[38;2;212;183;2m│\u001b[0m \u001b[1m    - dosage_noon: The dose in the noon. if not applicable, write a 0.\u001b[0m                                          \u001b[38;2;212;183;2m│\u001b[0m\n",
       "\u001b[38;2;212;183;2m│\u001b[0m \u001b[1m    - dosage_evening: The dose in the evening. if not applicable, write a 0.\u001b[0m                                    \u001b[38;2;212;183;2m│\u001b[0m\n",
       "\u001b[38;2;212;183;2m│\u001b[0m \u001b[1m    - dosage_night: The dose in the night. if not applicable, write a 0.\u001b[0m                                        \u001b[38;2;212;183;2m│\u001b[0m\n",
       "\u001b[38;2;212;183;2m│\u001b[0m \u001b[1m    - dosage_information: Additional information about the dosage. if not applicable, write an empty string.\u001b[0m    \u001b[38;2;212;183;2m│\u001b[0m\n",
       "\u001b[38;2;212;183;2m│\u001b[0m \u001b[1m    - rxcui: The RXCUI of the medication. if not applicable, write an empty string.\u001b[0m                             \u001b[38;2;212;183;2m│\u001b[0m\n",
       "\u001b[38;2;212;183;2m│\u001b[0m \u001b[1m    - atc_id: The ATC code of the medication. if not applicable, write an empty string.\u001b[0m                         \u001b[38;2;212;183;2m│\u001b[0m\n",
       "\u001b[38;2;212;183;2m│\u001b[0m \u001b[1m    - atc_name: The name of the ATC code. if not applicable, write an empty string.\u001b[0m                             \u001b[38;2;212;183;2m│\u001b[0m\n",
       "\u001b[38;2;212;183;2m│\u001b[0m \u001b[1m    - atc_type: The type of the ATC code. if not applicable, write an empty string.\u001b[0m                             \u001b[38;2;212;183;2m│\u001b[0m\n",
       "\u001b[38;2;212;183;2m│\u001b[0m                                                                                                                 \u001b[38;2;212;183;2m│\u001b[0m\n",
       "\u001b[38;2;212;183;2m│\u001b[0m                                                                                                                 \u001b[38;2;212;183;2m│\u001b[0m\n",
       "\u001b[38;2;212;183;2m│\u001b[0m \u001b[1m--------------------------------------------------------------------------------\u001b[0m                                \u001b[38;2;212;183;2m│\u001b[0m\n",
       "\u001b[38;2;212;183;2m│\u001b[0m \u001b[1mData: \u001b[0m                                                                                                          \u001b[38;2;212;183;2m│\u001b[0m\n",
       "\u001b[38;2;212;183;2m│\u001b[0m \u001b[1m    Patient: 3\u001b[0m                                                                                                  \u001b[38;2;212;183;2m│\u001b[0m\n",
       "\u001b[38;2;212;183;2m│\u001b[0m \u001b[1m    \"\u001b[0m                                                                                                           \u001b[38;2;212;183;2m│\u001b[0m\n",
       "\u001b[38;2;212;183;2m│\u001b[0m \u001b[1m    Ticagrelor 15 mg  1-0-0 (prÃ¤OP pausiert)\u001b[0m                                                                   \u001b[38;2;212;183;2m│\u001b[0m\n",
       "\u001b[38;2;212;183;2m│\u001b[0m \u001b[1m    \\\u001b[0m                                                                                                           \u001b[38;2;212;183;2m│\u001b[0m\n",
       "\u001b[38;2;212;183;2m│\u001b[0m \u001b[1m    Bisoprolol 5 mg     \u001b[0m\u001b[1m        \u001b[0m\u001b[1m1-0-1\u001b[0m                                                                           \u001b[38;2;212;183;2m│\u001b[0m\n",
       "\u001b[38;2;212;183;2m│\u001b[0m \u001b[1m    \\\u001b[0m                                                                                                           \u001b[38;2;212;183;2m│\u001b[0m\n",
       "\u001b[38;2;212;183;2m│\u001b[0m \u001b[1m    L-Thyroxin 75       \u001b[0m\u001b[1m        \u001b[0m\u001b[1m1-0-0\u001b[0m                                                                           \u001b[38;2;212;183;2m│\u001b[0m\n",
       "\u001b[38;2;212;183;2m│\u001b[0m \u001b[1m    \\\u001b[0m                                                                                                           \u001b[38;2;212;183;2m│\u001b[0m\n",
       "\u001b[38;2;212;183;2m│\u001b[0m \u001b[1m    Ibuprofen 400 mg    \u001b[0m\u001b[1m        \u001b[0m\u001b[1m1-0-1\u001b[0m                                                                           \u001b[38;2;212;183;2m│\u001b[0m\n",
       "\u001b[38;2;212;183;2m│\u001b[0m \u001b[1m    \\\u001b[0m                                                                                                           \u001b[38;2;212;183;2m│\u001b[0m\n",
       "\u001b[38;2;212;183;2m│\u001b[0m \u001b[1m    Pantozol 40 mg      \u001b[0m\u001b[1m        \u001b[0m\u001b[1m0-1-0\u001b[0m                                                                           \u001b[38;2;212;183;2m│\u001b[0m\n",
       "\u001b[38;2;212;183;2m│\u001b[0m \u001b[1m    \\\u001b[0m                                                                                                           \u001b[38;2;212;183;2m│\u001b[0m\n",
       "\u001b[38;2;212;183;2m│\u001b[0m \u001b[1m    Torem 5 mg  \u001b[0m\u001b[1m        \u001b[0m\u001b[1m1-0-0\u001b[0m                                                                                   \u001b[38;2;212;183;2m│\u001b[0m\n",
       "\u001b[38;2;212;183;2m│\u001b[0m \u001b[1m    \\\u001b[0m                                                                                                           \u001b[38;2;212;183;2m│\u001b[0m\n",
       "\u001b[38;2;212;183;2m│\u001b[0m \u001b[1m    Metformin 1000mg 1-0-1\u001b[0m                                                                                      \u001b[38;2;212;183;2m│\u001b[0m\n",
       "\u001b[38;2;212;183;2m│\u001b[0m \u001b[1m    \\\u001b[0m                                                                                                           \u001b[38;2;212;183;2m│\u001b[0m\n",
       "\u001b[38;2;212;183;2m│\u001b[0m \u001b[1m    Pantozol 40mg 0-1-0\"\u001b[0m                                                                                        \u001b[38;2;212;183;2m│\u001b[0m\n",
       "\u001b[38;2;212;183;2m│\u001b[0m                                                                                                                 \u001b[38;2;212;183;2m│\u001b[0m\n",
       "\u001b[38;2;212;183;2m╰─\u001b[0m\u001b[38;2;212;183;2m AzureOpenAIServerModel - gpt-4o \u001b[0m\u001b[38;2;212;183;2m──────────────────────────────────────────────────────────────────────────────\u001b[0m\u001b[38;2;212;183;2m─╯\u001b[0m\n"
      ]
     },
     "metadata": {},
     "output_type": "display_data"
    },
    {
     "data": {
      "text/html": [
       "<pre style=\"white-space:pre;overflow-x:auto;line-height:normal;font-family:Menlo,'DejaVu Sans Mono',consolas,'Courier New',monospace\"><span style=\"color: #d4b702; text-decoration-color: #d4b702\">━━━━━━━━━━━━━━━━━━━━━━━━━━━━━━━━━━━━━━━━━━━━━━━━━━━━━ </span><span style=\"font-weight: bold\">Step </span><span style=\"color: #008080; text-decoration-color: #008080; font-weight: bold\">1</span><span style=\"color: #d4b702; text-decoration-color: #d4b702\"> ━━━━━━━━━━━━━━━━━━━━━━━━━━━━━━━━━━━━━━━━━━━━━━━━━━━━━━</span>\n",
       "</pre>\n"
      ],
      "text/plain": [
       "\u001b[38;2;212;183;2m━━━━━━━━━━━━━━━━━━━━━━━━━━━━━━━━━━━━━━━━━━━━━━━━━━━━━ \u001b[0m\u001b[1mStep \u001b[0m\u001b[1;36m1\u001b[0m\u001b[38;2;212;183;2m ━━━━━━━━━━━━━━━━━━━━━━━━━━━━━━━━━━━━━━━━━━━━━━━━━━━━━━\u001b[0m\n"
      ]
     },
     "metadata": {},
     "output_type": "display_data"
    },
    {
     "data": {
      "text/html": [
       "<pre style=\"white-space:pre;overflow-x:auto;line-height:normal;font-family:Menlo,'DejaVu Sans Mono',consolas,'Courier New',monospace\">╭─────────────────────────────────────────────────────────────────────────────────────────────────────────────────╮\n",
       "│ Calling tool: 'extract_medication_data' with arguments: {'data': [{'patient_id': 3, 'medication_name':          │\n",
       "│ 'Ticagrelor', 'medication_name_corrected': 'Ticagrelor (ticagrelor)', 'dose': 15, 'unit': 'mg',                 │\n",
       "│ 'dosage_morning': 1, 'dosage_noon': 0, 'dosage_evening': 0, 'dosage_night': 0, 'dosage_information': 'prÃ¤OP    │\n",
       "│ pausiert'}, {'patient_id': 3, 'medication_name': 'Bisoprolol', 'medication_name_corrected': 'Bisoprolol         │\n",
       "│ (bisoprolol)', 'dose': 5, 'unit': 'mg', 'dosage_morning': 1, 'dosage_noon': 0, 'dosage_evening': 1,             │\n",
       "│ 'dosage_night': 0, 'dosage_information': ''}, {'patient_id': 3, 'medication_name': 'L-Thyroxin',                │\n",
       "│ 'medication_name_corrected': 'L-Thyroxin (levothyroxine)', 'dose': 75, 'unit': 'mcg', 'dosage_morning': 1,      │\n",
       "│ 'dosage_noon': 0, 'dosage_evening': 0, 'dosage_night': 0, 'dosage_information': ''}, {'patient_id': 3,          │\n",
       "│ 'medication_name': 'Ibuprofen', 'medication_name_corrected': 'Ibuprofen (ibuprofen)', 'dose': 400, 'unit':      │\n",
       "│ 'mg', 'dosage_morning': 1, 'dosage_noon': 0, 'dosage_evening': 1, 'dosage_night': 0, 'dosage_information': ''}, │\n",
       "│ {'patient_id': 3, 'medication_name': 'Pantozol', 'medication_name_corrected': 'Pantozol (pantoprazole)',        │\n",
       "│ 'dose': 40, 'unit': 'mg', 'dosage_morning': 0, 'dosage_noon': 1, 'dosage_evening': 0, 'dosage_night': 0,        │\n",
       "│ 'dosage_information': ''}, {'patient_id': 3, 'medication_name': 'Torem', 'medication_name_corrected': 'Torem    │\n",
       "│ (torasemide)', 'dose': 5, 'unit': 'mg', 'dosage_morning': 1, 'dosage_noon': 0, 'dosage_evening': 0,             │\n",
       "│ 'dosage_night': 0, 'dosage_information': ''}, {'patient_id': 3, 'medication_name': 'Metformin',                 │\n",
       "│ 'medication_name_corrected': 'Metformin (metformin)', 'dose': 1000, 'unit': 'mg', 'dosage_morning': 1,          │\n",
       "│ 'dosage_noon': 0, 'dosage_evening': 1, 'dosage_night': 0, 'dosage_information': ''}]}                           │\n",
       "╰─────────────────────────────────────────────────────────────────────────────────────────────────────────────────╯\n",
       "</pre>\n"
      ],
      "text/plain": [
       "╭─────────────────────────────────────────────────────────────────────────────────────────────────────────────────╮\n",
       "│ Calling tool: 'extract_medication_data' with arguments: {'data': [{'patient_id': 3, 'medication_name':          │\n",
       "│ 'Ticagrelor', 'medication_name_corrected': 'Ticagrelor (ticagrelor)', 'dose': 15, 'unit': 'mg',                 │\n",
       "│ 'dosage_morning': 1, 'dosage_noon': 0, 'dosage_evening': 0, 'dosage_night': 0, 'dosage_information': 'prÃ¤OP    │\n",
       "│ pausiert'}, {'patient_id': 3, 'medication_name': 'Bisoprolol', 'medication_name_corrected': 'Bisoprolol         │\n",
       "│ (bisoprolol)', 'dose': 5, 'unit': 'mg', 'dosage_morning': 1, 'dosage_noon': 0, 'dosage_evening': 1,             │\n",
       "│ 'dosage_night': 0, 'dosage_information': ''}, {'patient_id': 3, 'medication_name': 'L-Thyroxin',                │\n",
       "│ 'medication_name_corrected': 'L-Thyroxin (levothyroxine)', 'dose': 75, 'unit': 'mcg', 'dosage_morning': 1,      │\n",
       "│ 'dosage_noon': 0, 'dosage_evening': 0, 'dosage_night': 0, 'dosage_information': ''}, {'patient_id': 3,          │\n",
       "│ 'medication_name': 'Ibuprofen', 'medication_name_corrected': 'Ibuprofen (ibuprofen)', 'dose': 400, 'unit':      │\n",
       "│ 'mg', 'dosage_morning': 1, 'dosage_noon': 0, 'dosage_evening': 1, 'dosage_night': 0, 'dosage_information': ''}, │\n",
       "│ {'patient_id': 3, 'medication_name': 'Pantozol', 'medication_name_corrected': 'Pantozol (pantoprazole)',        │\n",
       "│ 'dose': 40, 'unit': 'mg', 'dosage_morning': 0, 'dosage_noon': 1, 'dosage_evening': 0, 'dosage_night': 0,        │\n",
       "│ 'dosage_information': ''}, {'patient_id': 3, 'medication_name': 'Torem', 'medication_name_corrected': 'Torem    │\n",
       "│ (torasemide)', 'dose': 5, 'unit': 'mg', 'dosage_morning': 1, 'dosage_noon': 0, 'dosage_evening': 0,             │\n",
       "│ 'dosage_night': 0, 'dosage_information': ''}, {'patient_id': 3, 'medication_name': 'Metformin',                 │\n",
       "│ 'medication_name_corrected': 'Metformin (metformin)', 'dose': 1000, 'unit': 'mg', 'dosage_morning': 1,          │\n",
       "│ 'dosage_noon': 0, 'dosage_evening': 1, 'dosage_night': 0, 'dosage_information': ''}]}                           │\n",
       "╰─────────────────────────────────────────────────────────────────────────────────────────────────────────────────╯\n"
      ]
     },
     "metadata": {},
     "output_type": "display_data"
    },
    {
     "data": {
      "text/html": [
       "<pre style=\"white-space:pre;overflow-x:auto;line-height:normal;font-family:Menlo,'DejaVu Sans Mono',consolas,'Courier New',monospace\">Observations: |<span style=\"font-weight: bold\">{</span><span style=\"color: #008000; text-decoration-color: #008000\">'patient_id'</span>: <span style=\"color: #008080; text-decoration-color: #008080; font-weight: bold\">3</span>, <span style=\"color: #008000; text-decoration-color: #008000\">'medication_name'</span>: <span style=\"color: #008000; text-decoration-color: #008000\">'Ticagrelor'</span>, <span style=\"color: #008000; text-decoration-color: #008000\">'medication_name_corrected'</span>: <span style=\"color: #008000; text-decoration-color: #008000\">'Ticagrelor </span>\n",
       "<span style=\"color: #008000; text-decoration-color: #008000\">(ticagrelor)'</span>, <span style=\"color: #008000; text-decoration-color: #008000\">'dose'</span>: <span style=\"color: #008080; text-decoration-color: #008080; font-weight: bold\">15</span>, <span style=\"color: #008000; text-decoration-color: #008000\">'unit'</span>: <span style=\"color: #008000; text-decoration-color: #008000\">'mg'</span>, <span style=\"color: #008000; text-decoration-color: #008000\">'dosage_morning'</span>: <span style=\"color: #008080; text-decoration-color: #008080; font-weight: bold\">1</span>, <span style=\"color: #008000; text-decoration-color: #008000\">'dosage_noon'</span>: <span style=\"color: #008080; text-decoration-color: #008080; font-weight: bold\">0</span>, <span style=\"color: #008000; text-decoration-color: #008000\">'dosage_evening'</span>: <span style=\"color: #008080; text-decoration-color: #008080; font-weight: bold\">0</span>, \n",
       "<span style=\"color: #008000; text-decoration-color: #008000\">'dosage_night'</span>: <span style=\"color: #008080; text-decoration-color: #008080; font-weight: bold\">0</span>, <span style=\"color: #008000; text-decoration-color: #008000\">'dosage_information'</span>: <span style=\"color: #008000; text-decoration-color: #008000\">'prÃ¤OP pausiert'</span><span style=\"font-weight: bold\">}</span>, <span style=\"font-weight: bold\">{</span><span style=\"color: #008000; text-decoration-color: #008000\">'patient_id'</span>: <span style=\"color: #008080; text-decoration-color: #008080; font-weight: bold\">3</span>, <span style=\"color: #008000; text-decoration-color: #008000\">'medication_name'</span>: <span style=\"color: #008000; text-decoration-color: #008000\">'Bisoprolol'</span>, \n",
       "<span style=\"color: #008000; text-decoration-color: #008000\">'medication_name_corrected'</span>: <span style=\"color: #008000; text-decoration-color: #008000\">'Bisoprolol (bisoprolol)'</span>, <span style=\"color: #008000; text-decoration-color: #008000\">'dose'</span>: <span style=\"color: #008080; text-decoration-color: #008080; font-weight: bold\">5</span>, <span style=\"color: #008000; text-decoration-color: #008000\">'unit'</span>: <span style=\"color: #008000; text-decoration-color: #008000\">'mg'</span>, <span style=\"color: #008000; text-decoration-color: #008000\">'dosage_morning'</span>: <span style=\"color: #008080; text-decoration-color: #008080; font-weight: bold\">1</span>, \n",
       "<span style=\"color: #008000; text-decoration-color: #008000\">'dosage_noon'</span>: <span style=\"color: #008080; text-decoration-color: #008080; font-weight: bold\">0</span>, <span style=\"color: #008000; text-decoration-color: #008000\">'dosage_evening'</span>: <span style=\"color: #008080; text-decoration-color: #008080; font-weight: bold\">1</span>, <span style=\"color: #008000; text-decoration-color: #008000\">'dosage_night'</span>: <span style=\"color: #008080; text-decoration-color: #008080; font-weight: bold\">0</span>, <span style=\"color: #008000; text-decoration-color: #008000\">'dosage_information'</span>: <span style=\"color: #008000; text-decoration-color: #008000\">''</span><span style=\"font-weight: bold\">}</span>, <span style=\"font-weight: bold\">{</span><span style=\"color: #008000; text-decoration-color: #008000\">'patient_id'</span>: <span style=\"color: #008080; text-decoration-color: #008080; font-weight: bold\">3</span>, \n",
       "<span style=\"color: #008000; text-decoration-color: #008000\">'medication_name'</span>: <span style=\"color: #008000; text-decoration-color: #008000\">'L-Thyroxin'</span>, <span style=\"color: #008000; text-decoration-color: #008000\">'medication_name_corrected'</span>: <span style=\"color: #008000; text-decoration-color: #008000\">'L-Thyroxin (levothyroxine)'</span>, <span style=\"color: #008000; text-decoration-color: #008000\">'dose'</span>: <span style=\"color: #008080; text-decoration-color: #008080; font-weight: bold\">75</span>, <span style=\"color: #008000; text-decoration-color: #008000\">'unit'</span>: \n",
       "<span style=\"color: #008000; text-decoration-color: #008000\">'mcg'</span>, <span style=\"color: #008000; text-decoration-color: #008000\">'dosage_morning'</span>: <span style=\"color: #008080; text-decoration-color: #008080; font-weight: bold\">1</span>, <span style=\"color: #008000; text-decoration-color: #008000\">'dosage_noon'</span>: <span style=\"color: #008080; text-decoration-color: #008080; font-weight: bold\">0</span>, <span style=\"color: #008000; text-decoration-color: #008000\">'dosage_evening'</span>: <span style=\"color: #008080; text-decoration-color: #008080; font-weight: bold\">0</span>, <span style=\"color: #008000; text-decoration-color: #008000\">'dosage_night'</span>: <span style=\"color: #008080; text-decoration-color: #008080; font-weight: bold\">0</span>, <span style=\"color: #008000; text-decoration-color: #008000\">'dosage_information'</span>: <span style=\"color: #008000; text-decoration-color: #008000\">''</span><span style=\"font-weight: bold\">}</span>, \n",
       "<span style=\"font-weight: bold\">{</span><span style=\"color: #008000; text-decoration-color: #008000\">'patient_id'</span>: <span style=\"color: #008080; text-decoration-color: #008080; font-weight: bold\">3</span>, <span style=\"color: #008000; text-decoration-color: #008000\">'medication_name'</span>: <span style=\"color: #008000; text-decoration-color: #008000\">'Ibuprofen'</span>, <span style=\"color: #008000; text-decoration-color: #008000\">'medication_name_corrected'</span>: <span style=\"color: #008000; text-decoration-color: #008000\">'Ibuprofen (ibuprofen)'</span>, <span style=\"color: #008000; text-decoration-color: #008000\">'dose'</span>: \n",
       "<span style=\"color: #008080; text-decoration-color: #008080; font-weight: bold\">400</span>, <span style=\"color: #008000; text-decoration-color: #008000\">'unit'</span>: <span style=\"color: #008000; text-decoration-color: #008000\">'mg'</span>, <span style=\"color: #008000; text-decoration-color: #008000\">'dosage_morning'</span>: <span style=\"color: #008080; text-decoration-color: #008080; font-weight: bold\">1</span>, <span style=\"color: #008000; text-decoration-color: #008000\">'dosage_noon'</span>: <span style=\"color: #008080; text-decoration-color: #008080; font-weight: bold\">0</span>, <span style=\"color: #008000; text-decoration-color: #008000\">'dosage_evening'</span>: <span style=\"color: #008080; text-decoration-color: #008080; font-weight: bold\">1</span>, <span style=\"color: #008000; text-decoration-color: #008000\">'dosage_night'</span>: <span style=\"color: #008080; text-decoration-color: #008080; font-weight: bold\">0</span>, \n",
       "<span style=\"color: #008000; text-decoration-color: #008000\">'dosage_information'</span>: <span style=\"color: #008000; text-decoration-color: #008000\">''</span><span style=\"font-weight: bold\">}</span>, <span style=\"font-weight: bold\">{</span><span style=\"color: #008000; text-decoration-color: #008000\">'patient_id'</span>: <span style=\"color: #008080; text-decoration-color: #008080; font-weight: bold\">3</span>, <span style=\"color: #008000; text-decoration-color: #008000\">'medication_name'</span>: <span style=\"color: #008000; text-decoration-color: #008000\">'Pantozol'</span>, <span style=\"color: #008000; text-decoration-color: #008000\">'medication_name_corrected'</span>: <span style=\"color: #008000; text-decoration-color: #008000\">'Pantozol </span>\n",
       "<span style=\"color: #008000; text-decoration-color: #008000\">(pantoprazole)'</span>, <span style=\"color: #008000; text-decoration-color: #008000\">'dose'</span>: <span style=\"color: #008080; text-decoration-color: #008080; font-weight: bold\">40</span>, <span style=\"color: #008000; text-decoration-color: #008000\">'unit'</span>: <span style=\"color: #008000; text-decoration-color: #008000\">'mg'</span>, <span style=\"color: #008000; text-decoration-color: #008000\">'dosage_morning'</span>: <span style=\"color: #008080; text-decoration-color: #008080; font-weight: bold\">0</span>, <span style=\"color: #008000; text-decoration-color: #008000\">'dosage_noon'</span>: <span style=\"color: #008080; text-decoration-color: #008080; font-weight: bold\">1</span>, <span style=\"color: #008000; text-decoration-color: #008000\">'dosage_evening'</span>: <span style=\"color: #008080; text-decoration-color: #008080; font-weight: bold\">0</span>, \n",
       "<span style=\"color: #008000; text-decoration-color: #008000\">'dosage_night'</span>: <span style=\"color: #008080; text-decoration-color: #008080; font-weight: bold\">0</span>, <span style=\"color: #008000; text-decoration-color: #008000\">'dosage_information'</span>: <span style=\"color: #008000; text-decoration-color: #008000\">''</span><span style=\"font-weight: bold\">}</span>, <span style=\"font-weight: bold\">{</span><span style=\"color: #008000; text-decoration-color: #008000\">'patient_id'</span>: <span style=\"color: #008080; text-decoration-color: #008080; font-weight: bold\">3</span>, <span style=\"color: #008000; text-decoration-color: #008000\">'medication_name'</span>: <span style=\"color: #008000; text-decoration-color: #008000\">'Torem'</span>, \n",
       "<span style=\"color: #008000; text-decoration-color: #008000\">'medication_name_corrected'</span>: <span style=\"color: #008000; text-decoration-color: #008000\">'Torem (torasemide)'</span>, <span style=\"color: #008000; text-decoration-color: #008000\">'dose'</span>: <span style=\"color: #008080; text-decoration-color: #008080; font-weight: bold\">5</span>, <span style=\"color: #008000; text-decoration-color: #008000\">'unit'</span>: <span style=\"color: #008000; text-decoration-color: #008000\">'mg'</span>, <span style=\"color: #008000; text-decoration-color: #008000\">'dosage_morning'</span>: <span style=\"color: #008080; text-decoration-color: #008080; font-weight: bold\">1</span>, <span style=\"color: #008000; text-decoration-color: #008000\">'dosage_noon'</span>: <span style=\"color: #008080; text-decoration-color: #008080; font-weight: bold\">0</span>, \n",
       "<span style=\"color: #008000; text-decoration-color: #008000\">'dosage_evening'</span>: <span style=\"color: #008080; text-decoration-color: #008080; font-weight: bold\">0</span>, <span style=\"color: #008000; text-decoration-color: #008000\">'dosage_night'</span>: <span style=\"color: #008080; text-decoration-color: #008080; font-weight: bold\">0</span>, <span style=\"color: #008000; text-decoration-color: #008000\">'dosage_information'</span>: <span style=\"color: #008000; text-decoration-color: #008000\">''</span><span style=\"font-weight: bold\">}</span>, <span style=\"font-weight: bold\">{</span><span style=\"color: #008000; text-decoration-color: #008000\">'patient_id'</span>: <span style=\"color: #008080; text-decoration-color: #008080; font-weight: bold\">3</span>, <span style=\"color: #008000; text-decoration-color: #008000\">'medication_name'</span>: \n",
       "<span style=\"color: #008000; text-decoration-color: #008000\">'Metformin'</span>, <span style=\"color: #008000; text-decoration-color: #008000\">'medication_name_corrected'</span>: <span style=\"color: #008000; text-decoration-color: #008000\">'Metformin (metformin)'</span>, <span style=\"color: #008000; text-decoration-color: #008000\">'dose'</span>: <span style=\"color: #008080; text-decoration-color: #008080; font-weight: bold\">1000</span>, <span style=\"color: #008000; text-decoration-color: #008000\">'unit'</span>: <span style=\"color: #008000; text-decoration-color: #008000\">'mg'</span>, <span style=\"color: #008000; text-decoration-color: #008000\">'dosage_morning'</span>: <span style=\"color: #008080; text-decoration-color: #008080; font-weight: bold\">1</span>,\n",
       "<span style=\"color: #008000; text-decoration-color: #008000\">'dosage_noon'</span>: <span style=\"color: #008080; text-decoration-color: #008080; font-weight: bold\">0</span>, <span style=\"color: #008000; text-decoration-color: #008000\">'dosage_evening'</span>: <span style=\"color: #008080; text-decoration-color: #008080; font-weight: bold\">1</span>, <span style=\"color: #008000; text-decoration-color: #008000\">'dosage_night'</span>: <span style=\"color: #008080; text-decoration-color: #008080; font-weight: bold\">0</span>, <span style=\"color: #008000; text-decoration-color: #008000\">'dosage_information'</span>: <span style=\"color: #008000; text-decoration-color: #008000\">''</span><span style=\"font-weight: bold\">}]</span>\n",
       "</pre>\n"
      ],
      "text/plain": [
       "Observations: |\u001b[1m{\u001b[0m\u001b[32m'patient_id'\u001b[0m: \u001b[1;36m3\u001b[0m, \u001b[32m'medication_name'\u001b[0m: \u001b[32m'Ticagrelor'\u001b[0m, \u001b[32m'medication_name_corrected'\u001b[0m: \u001b[32m'Ticagrelor \u001b[0m\n",
       "\u001b[32m(\u001b[0m\u001b[32mticagrelor\u001b[0m\u001b[32m)\u001b[0m\u001b[32m'\u001b[0m, \u001b[32m'dose'\u001b[0m: \u001b[1;36m15\u001b[0m, \u001b[32m'unit'\u001b[0m: \u001b[32m'mg'\u001b[0m, \u001b[32m'dosage_morning'\u001b[0m: \u001b[1;36m1\u001b[0m, \u001b[32m'dosage_noon'\u001b[0m: \u001b[1;36m0\u001b[0m, \u001b[32m'dosage_evening'\u001b[0m: \u001b[1;36m0\u001b[0m, \n",
       "\u001b[32m'dosage_night'\u001b[0m: \u001b[1;36m0\u001b[0m, \u001b[32m'dosage_information'\u001b[0m: \u001b[32m'prÃ¤OP pausiert'\u001b[0m\u001b[1m}\u001b[0m, \u001b[1m{\u001b[0m\u001b[32m'patient_id'\u001b[0m: \u001b[1;36m3\u001b[0m, \u001b[32m'medication_name'\u001b[0m: \u001b[32m'Bisoprolol'\u001b[0m, \n",
       "\u001b[32m'medication_name_corrected'\u001b[0m: \u001b[32m'Bisoprolol \u001b[0m\u001b[32m(\u001b[0m\u001b[32mbisoprolol\u001b[0m\u001b[32m)\u001b[0m\u001b[32m'\u001b[0m, \u001b[32m'dose'\u001b[0m: \u001b[1;36m5\u001b[0m, \u001b[32m'unit'\u001b[0m: \u001b[32m'mg'\u001b[0m, \u001b[32m'dosage_morning'\u001b[0m: \u001b[1;36m1\u001b[0m, \n",
       "\u001b[32m'dosage_noon'\u001b[0m: \u001b[1;36m0\u001b[0m, \u001b[32m'dosage_evening'\u001b[0m: \u001b[1;36m1\u001b[0m, \u001b[32m'dosage_night'\u001b[0m: \u001b[1;36m0\u001b[0m, \u001b[32m'dosage_information'\u001b[0m: \u001b[32m''\u001b[0m\u001b[1m}\u001b[0m, \u001b[1m{\u001b[0m\u001b[32m'patient_id'\u001b[0m: \u001b[1;36m3\u001b[0m, \n",
       "\u001b[32m'medication_name'\u001b[0m: \u001b[32m'L-Thyroxin'\u001b[0m, \u001b[32m'medication_name_corrected'\u001b[0m: \u001b[32m'L-Thyroxin \u001b[0m\u001b[32m(\u001b[0m\u001b[32mlevothyroxine\u001b[0m\u001b[32m)\u001b[0m\u001b[32m'\u001b[0m, \u001b[32m'dose'\u001b[0m: \u001b[1;36m75\u001b[0m, \u001b[32m'unit'\u001b[0m: \n",
       "\u001b[32m'mcg'\u001b[0m, \u001b[32m'dosage_morning'\u001b[0m: \u001b[1;36m1\u001b[0m, \u001b[32m'dosage_noon'\u001b[0m: \u001b[1;36m0\u001b[0m, \u001b[32m'dosage_evening'\u001b[0m: \u001b[1;36m0\u001b[0m, \u001b[32m'dosage_night'\u001b[0m: \u001b[1;36m0\u001b[0m, \u001b[32m'dosage_information'\u001b[0m: \u001b[32m''\u001b[0m\u001b[1m}\u001b[0m, \n",
       "\u001b[1m{\u001b[0m\u001b[32m'patient_id'\u001b[0m: \u001b[1;36m3\u001b[0m, \u001b[32m'medication_name'\u001b[0m: \u001b[32m'Ibuprofen'\u001b[0m, \u001b[32m'medication_name_corrected'\u001b[0m: \u001b[32m'Ibuprofen \u001b[0m\u001b[32m(\u001b[0m\u001b[32mibuprofen\u001b[0m\u001b[32m)\u001b[0m\u001b[32m'\u001b[0m, \u001b[32m'dose'\u001b[0m: \n",
       "\u001b[1;36m400\u001b[0m, \u001b[32m'unit'\u001b[0m: \u001b[32m'mg'\u001b[0m, \u001b[32m'dosage_morning'\u001b[0m: \u001b[1;36m1\u001b[0m, \u001b[32m'dosage_noon'\u001b[0m: \u001b[1;36m0\u001b[0m, \u001b[32m'dosage_evening'\u001b[0m: \u001b[1;36m1\u001b[0m, \u001b[32m'dosage_night'\u001b[0m: \u001b[1;36m0\u001b[0m, \n",
       "\u001b[32m'dosage_information'\u001b[0m: \u001b[32m''\u001b[0m\u001b[1m}\u001b[0m, \u001b[1m{\u001b[0m\u001b[32m'patient_id'\u001b[0m: \u001b[1;36m3\u001b[0m, \u001b[32m'medication_name'\u001b[0m: \u001b[32m'Pantozol'\u001b[0m, \u001b[32m'medication_name_corrected'\u001b[0m: \u001b[32m'Pantozol \u001b[0m\n",
       "\u001b[32m(\u001b[0m\u001b[32mpantoprazole\u001b[0m\u001b[32m)\u001b[0m\u001b[32m'\u001b[0m, \u001b[32m'dose'\u001b[0m: \u001b[1;36m40\u001b[0m, \u001b[32m'unit'\u001b[0m: \u001b[32m'mg'\u001b[0m, \u001b[32m'dosage_morning'\u001b[0m: \u001b[1;36m0\u001b[0m, \u001b[32m'dosage_noon'\u001b[0m: \u001b[1;36m1\u001b[0m, \u001b[32m'dosage_evening'\u001b[0m: \u001b[1;36m0\u001b[0m, \n",
       "\u001b[32m'dosage_night'\u001b[0m: \u001b[1;36m0\u001b[0m, \u001b[32m'dosage_information'\u001b[0m: \u001b[32m''\u001b[0m\u001b[1m}\u001b[0m, \u001b[1m{\u001b[0m\u001b[32m'patient_id'\u001b[0m: \u001b[1;36m3\u001b[0m, \u001b[32m'medication_name'\u001b[0m: \u001b[32m'Torem'\u001b[0m, \n",
       "\u001b[32m'medication_name_corrected'\u001b[0m: \u001b[32m'Torem \u001b[0m\u001b[32m(\u001b[0m\u001b[32mtorasemide\u001b[0m\u001b[32m)\u001b[0m\u001b[32m'\u001b[0m, \u001b[32m'dose'\u001b[0m: \u001b[1;36m5\u001b[0m, \u001b[32m'unit'\u001b[0m: \u001b[32m'mg'\u001b[0m, \u001b[32m'dosage_morning'\u001b[0m: \u001b[1;36m1\u001b[0m, \u001b[32m'dosage_noon'\u001b[0m: \u001b[1;36m0\u001b[0m, \n",
       "\u001b[32m'dosage_evening'\u001b[0m: \u001b[1;36m0\u001b[0m, \u001b[32m'dosage_night'\u001b[0m: \u001b[1;36m0\u001b[0m, \u001b[32m'dosage_information'\u001b[0m: \u001b[32m''\u001b[0m\u001b[1m}\u001b[0m, \u001b[1m{\u001b[0m\u001b[32m'patient_id'\u001b[0m: \u001b[1;36m3\u001b[0m, \u001b[32m'medication_name'\u001b[0m: \n",
       "\u001b[32m'Metformin'\u001b[0m, \u001b[32m'medication_name_corrected'\u001b[0m: \u001b[32m'Metformin \u001b[0m\u001b[32m(\u001b[0m\u001b[32mmetformin\u001b[0m\u001b[32m)\u001b[0m\u001b[32m'\u001b[0m, \u001b[32m'dose'\u001b[0m: \u001b[1;36m1000\u001b[0m, \u001b[32m'unit'\u001b[0m: \u001b[32m'mg'\u001b[0m, \u001b[32m'dosage_morning'\u001b[0m: \u001b[1;36m1\u001b[0m,\n",
       "\u001b[32m'dosage_noon'\u001b[0m: \u001b[1;36m0\u001b[0m, \u001b[32m'dosage_evening'\u001b[0m: \u001b[1;36m1\u001b[0m, \u001b[32m'dosage_night'\u001b[0m: \u001b[1;36m0\u001b[0m, \u001b[32m'dosage_information'\u001b[0m: \u001b[32m''\u001b[0m\u001b[1m}\u001b[0m\u001b[1m]\u001b[0m\n"
      ]
     },
     "metadata": {},
     "output_type": "display_data"
    },
    {
     "data": {
      "text/html": [
       "<pre style=\"white-space:pre;overflow-x:auto;line-height:normal;font-family:Menlo,'DejaVu Sans Mono',consolas,'Courier New',monospace\"><span style=\"color: #7f7f7f; text-decoration-color: #7f7f7f\">[Step 1: Duration 7.30 seconds| Input tokens: 3,734 | Output tokens: 520]</span>\n",
       "</pre>\n"
      ],
      "text/plain": [
       "\u001b[2m[Step 1: Duration 7.30 seconds| Input tokens: 3,734 | Output tokens: 520]\u001b[0m\n"
      ]
     },
     "metadata": {},
     "output_type": "display_data"
    },
    {
     "data": {
      "text/html": [
       "<pre style=\"white-space:pre;overflow-x:auto;line-height:normal;font-family:Menlo,'DejaVu Sans Mono',consolas,'Courier New',monospace\"><span style=\"color: #d4b702; text-decoration-color: #d4b702\">━━━━━━━━━━━━━━━━━━━━━━━━━━━━━━━━━━━━━━━━━━━━━━━━━━━━━ </span><span style=\"font-weight: bold\">Step </span><span style=\"color: #008080; text-decoration-color: #008080; font-weight: bold\">2</span><span style=\"color: #d4b702; text-decoration-color: #d4b702\"> ━━━━━━━━━━━━━━━━━━━━━━━━━━━━━━━━━━━━━━━━━━━━━━━━━━━━━━</span>\n",
       "</pre>\n"
      ],
      "text/plain": [
       "\u001b[38;2;212;183;2m━━━━━━━━━━━━━━━━━━━━━━━━━━━━━━━━━━━━━━━━━━━━━━━━━━━━━ \u001b[0m\u001b[1mStep \u001b[0m\u001b[1;36m2\u001b[0m\u001b[38;2;212;183;2m ━━━━━━━━━━━━━━━━━━━━━━━━━━━━━━━━━━━━━━━━━━━━━━━━━━━━━━\u001b[0m\n"
      ]
     },
     "metadata": {},
     "output_type": "display_data"
    },
    {
     "data": {
      "text/html": [
       "<pre style=\"white-space:pre;overflow-x:auto;line-height:normal;font-family:Menlo,'DejaVu Sans Mono',consolas,'Courier New',monospace\">╭─────────────────────────────────────────────────────────────────────────────────────────────────────────────────╮\n",
       "│ Calling tool: 'get_rxcui' with arguments: {'medication_names': ['Ticagrelor (ticagrelor)', 'Bisoprolol          │\n",
       "│ (bisoprolol)', 'L-Thyroxin (levothyroxine)', 'Ibuprofen (ibuprofen)', 'Pantozol (pantoprazole)', 'Torem         │\n",
       "│ (torasemide)', 'Metformin (metformin)']}                                                                        │\n",
       "╰─────────────────────────────────────────────────────────────────────────────────────────────────────────────────╯\n",
       "</pre>\n"
      ],
      "text/plain": [
       "╭─────────────────────────────────────────────────────────────────────────────────────────────────────────────────╮\n",
       "│ Calling tool: 'get_rxcui' with arguments: {'medication_names': ['Ticagrelor (ticagrelor)', 'Bisoprolol          │\n",
       "│ (bisoprolol)', 'L-Thyroxin (levothyroxine)', 'Ibuprofen (ibuprofen)', 'Pantozol (pantoprazole)', 'Torem         │\n",
       "│ (torasemide)', 'Metformin (metformin)']}                                                                        │\n",
       "╰─────────────────────────────────────────────────────────────────────────────────────────────────────────────────╯\n"
      ]
     },
     "metadata": {},
     "output_type": "display_data"
    },
    {
     "data": {
      "text/html": [
       "<pre style=\"white-space:pre;overflow-x:auto;line-height:normal;font-family:Menlo,'DejaVu Sans Mono',consolas,'Courier New',monospace\">Observations: <span style=\"font-weight: bold\">{</span><span style=\"color: #008000; text-decoration-color: #008000\">'Ticagrelor (ticagrelor)'</span>: <span style=\"font-weight: bold\">{</span><span style=\"color: #008000; text-decoration-color: #008000\">'1116632'</span>: |<span style=\"color: #008000; text-decoration-color: #008000\">'USP'</span>, <span style=\"color: #008000; text-decoration-color: #008000\">'GS'</span>, <span style=\"color: #008000; text-decoration-color: #008000\">'RXNORM'</span>, <span style=\"color: #008000; text-decoration-color: #008000\">'NDDF'</span>, <span style=\"color: #008000; text-decoration-color: #008000\">'VANDF'</span>, <span style=\"color: #008000; text-decoration-color: #008000\">'MMSL'</span>, <span style=\"color: #008000; text-decoration-color: #008000\">'ATC'</span>, \n",
       "<span style=\"color: #008000; text-decoration-color: #008000\">'DRUGBANK'</span><span style=\"font-weight: bold\">]}</span>, <span style=\"color: #008000; text-decoration-color: #008000\">'Bisoprolol (bisoprolol)'</span>: <span style=\"font-weight: bold\">{</span><span style=\"color: #008000; text-decoration-color: #008000\">'19484'</span>: |<span style=\"color: #008000; text-decoration-color: #008000\">'GS'</span>, <span style=\"color: #008000; text-decoration-color: #008000\">'RXNORM'</span>, <span style=\"color: #008000; text-decoration-color: #008000\">'VANDF'</span>, <span style=\"color: #008000; text-decoration-color: #008000\">'NDDF'</span>, <span style=\"color: #008000; text-decoration-color: #008000\">'ATC'</span>, <span style=\"color: #008000; text-decoration-color: #008000\">'DRUGBANK'</span><span style=\"font-weight: bold\">]}</span>, \n",
       "<span style=\"color: #008000; text-decoration-color: #008000\">'L-Thyroxin (levothyroxine)'</span>: <span style=\"font-weight: bold\">{</span><span style=\"color: #008000; text-decoration-color: #008000\">'470262'</span>: |<span style=\"color: #008000; text-decoration-color: #008000\">'MMSL'</span><span style=\"font-weight: bold\">]}</span>, <span style=\"color: #008000; text-decoration-color: #008000\">'Ibuprofen (ibuprofen)'</span>: <span style=\"font-weight: bold\">{</span><span style=\"color: #008000; text-decoration-color: #008000\">'5640'</span>: |<span style=\"color: #008000; text-decoration-color: #008000\">'USP'</span>, <span style=\"color: #008000; text-decoration-color: #008000\">'GS'</span>, <span style=\"color: #008000; text-decoration-color: #008000\">'RXNORM'</span>, \n",
       "<span style=\"color: #008000; text-decoration-color: #008000\">'MMSL'</span>, <span style=\"color: #008000; text-decoration-color: #008000\">'MMSL'</span>, <span style=\"color: #008000; text-decoration-color: #008000\">'VANDF'</span>, <span style=\"color: #008000; text-decoration-color: #008000\">'NDDF'</span>, <span style=\"color: #008000; text-decoration-color: #008000\">'ATC'</span>, <span style=\"color: #008000; text-decoration-color: #008000\">'ATC'</span>, <span style=\"color: #008000; text-decoration-color: #008000\">'ATC'</span>, <span style=\"color: #008000; text-decoration-color: #008000\">'ATC'</span>, <span style=\"color: #008000; text-decoration-color: #008000\">'ATC'</span>, <span style=\"color: #008000; text-decoration-color: #008000\">'DRUGBANK'</span><span style=\"font-weight: bold\">]}</span>, <span style=\"color: #008000; text-decoration-color: #008000\">'Pantozol (pantoprazole)'</span>: \n",
       "<span style=\"font-weight: bold\">{</span><span style=\"color: #008000; text-decoration-color: #008000\">'40790'</span>: |<span style=\"color: #008000; text-decoration-color: #008000\">'GS'</span>, <span style=\"color: #008000; text-decoration-color: #008000\">'VANDF'</span>, <span style=\"color: #008000; text-decoration-color: #008000\">'MMSL'</span>, <span style=\"color: #008000; text-decoration-color: #008000\">'NDDF'</span>, <span style=\"color: #008000; text-decoration-color: #008000\">'RXNORM'</span>, <span style=\"color: #008000; text-decoration-color: #008000\">'ATC'</span>, <span style=\"color: #008000; text-decoration-color: #008000\">'DRUGBANK'</span><span style=\"font-weight: bold\">]}</span>, <span style=\"color: #008000; text-decoration-color: #008000\">'Torem (torasemide)'</span>: <span style=\"font-weight: bold\">{</span><span style=\"color: #008000; text-decoration-color: #008000\">'381001'</span>: \n",
       "|<span style=\"color: #008000; text-decoration-color: #008000\">'RXNORM'</span><span style=\"font-weight: bold\">]</span>, <span style=\"color: #008000; text-decoration-color: #008000\">'381002'</span>: |<span style=\"color: #008000; text-decoration-color: #008000\">'RXNORM'</span><span style=\"font-weight: bold\">]}</span>, <span style=\"color: #008000; text-decoration-color: #008000\">'Metformin (metformin)'</span>: <span style=\"font-weight: bold\">{</span><span style=\"color: #008000; text-decoration-color: #008000\">'6809'</span>: |<span style=\"color: #008000; text-decoration-color: #008000\">'GS'</span>, <span style=\"color: #008000; text-decoration-color: #008000\">'RXNORM'</span>, <span style=\"color: #008000; text-decoration-color: #008000\">'VANDF'</span>, <span style=\"color: #008000; text-decoration-color: #008000\">'NDDF'</span>, <span style=\"color: #008000; text-decoration-color: #008000\">'ATC'</span>, \n",
       "<span style=\"color: #008000; text-decoration-color: #008000\">'DRUGBANK'</span><span style=\"font-weight: bold\">]}}</span>\n",
       "</pre>\n"
      ],
      "text/plain": [
       "Observations: \u001b[1m{\u001b[0m\u001b[32m'Ticagrelor \u001b[0m\u001b[32m(\u001b[0m\u001b[32mticagrelor\u001b[0m\u001b[32m)\u001b[0m\u001b[32m'\u001b[0m: \u001b[1m{\u001b[0m\u001b[32m'1116632'\u001b[0m: |\u001b[32m'USP'\u001b[0m, \u001b[32m'GS'\u001b[0m, \u001b[32m'RXNORM'\u001b[0m, \u001b[32m'NDDF'\u001b[0m, \u001b[32m'VANDF'\u001b[0m, \u001b[32m'MMSL'\u001b[0m, \u001b[32m'ATC'\u001b[0m, \n",
       "\u001b[32m'DRUGBANK'\u001b[0m\u001b[1m]\u001b[0m\u001b[1m}\u001b[0m, \u001b[32m'Bisoprolol \u001b[0m\u001b[32m(\u001b[0m\u001b[32mbisoprolol\u001b[0m\u001b[32m)\u001b[0m\u001b[32m'\u001b[0m: \u001b[1m{\u001b[0m\u001b[32m'19484'\u001b[0m: |\u001b[32m'GS'\u001b[0m, \u001b[32m'RXNORM'\u001b[0m, \u001b[32m'VANDF'\u001b[0m, \u001b[32m'NDDF'\u001b[0m, \u001b[32m'ATC'\u001b[0m, \u001b[32m'DRUGBANK'\u001b[0m\u001b[1m]\u001b[0m\u001b[1m}\u001b[0m, \n",
       "\u001b[32m'L-Thyroxin \u001b[0m\u001b[32m(\u001b[0m\u001b[32mlevothyroxine\u001b[0m\u001b[32m)\u001b[0m\u001b[32m'\u001b[0m: \u001b[1m{\u001b[0m\u001b[32m'470262'\u001b[0m: |\u001b[32m'MMSL'\u001b[0m\u001b[1m]\u001b[0m\u001b[1m}\u001b[0m, \u001b[32m'Ibuprofen \u001b[0m\u001b[32m(\u001b[0m\u001b[32mibuprofen\u001b[0m\u001b[32m)\u001b[0m\u001b[32m'\u001b[0m: \u001b[1m{\u001b[0m\u001b[32m'5640'\u001b[0m: |\u001b[32m'USP'\u001b[0m, \u001b[32m'GS'\u001b[0m, \u001b[32m'RXNORM'\u001b[0m, \n",
       "\u001b[32m'MMSL'\u001b[0m, \u001b[32m'MMSL'\u001b[0m, \u001b[32m'VANDF'\u001b[0m, \u001b[32m'NDDF'\u001b[0m, \u001b[32m'ATC'\u001b[0m, \u001b[32m'ATC'\u001b[0m, \u001b[32m'ATC'\u001b[0m, \u001b[32m'ATC'\u001b[0m, \u001b[32m'ATC'\u001b[0m, \u001b[32m'DRUGBANK'\u001b[0m\u001b[1m]\u001b[0m\u001b[1m}\u001b[0m, \u001b[32m'Pantozol \u001b[0m\u001b[32m(\u001b[0m\u001b[32mpantoprazole\u001b[0m\u001b[32m)\u001b[0m\u001b[32m'\u001b[0m: \n",
       "\u001b[1m{\u001b[0m\u001b[32m'40790'\u001b[0m: |\u001b[32m'GS'\u001b[0m, \u001b[32m'VANDF'\u001b[0m, \u001b[32m'MMSL'\u001b[0m, \u001b[32m'NDDF'\u001b[0m, \u001b[32m'RXNORM'\u001b[0m, \u001b[32m'ATC'\u001b[0m, \u001b[32m'DRUGBANK'\u001b[0m\u001b[1m]\u001b[0m\u001b[1m}\u001b[0m, \u001b[32m'Torem \u001b[0m\u001b[32m(\u001b[0m\u001b[32mtorasemide\u001b[0m\u001b[32m)\u001b[0m\u001b[32m'\u001b[0m: \u001b[1m{\u001b[0m\u001b[32m'381001'\u001b[0m: \n",
       "|\u001b[32m'RXNORM'\u001b[0m\u001b[1m]\u001b[0m, \u001b[32m'381002'\u001b[0m: |\u001b[32m'RXNORM'\u001b[0m\u001b[1m]\u001b[0m\u001b[1m}\u001b[0m, \u001b[32m'Metformin \u001b[0m\u001b[32m(\u001b[0m\u001b[32mmetformin\u001b[0m\u001b[32m)\u001b[0m\u001b[32m'\u001b[0m: \u001b[1m{\u001b[0m\u001b[32m'6809'\u001b[0m: |\u001b[32m'GS'\u001b[0m, \u001b[32m'RXNORM'\u001b[0m, \u001b[32m'VANDF'\u001b[0m, \u001b[32m'NDDF'\u001b[0m, \u001b[32m'ATC'\u001b[0m, \n",
       "\u001b[32m'DRUGBANK'\u001b[0m\u001b[1m]\u001b[0m\u001b[1m}\u001b[0m\u001b[1m}\u001b[0m\n"
      ]
     },
     "metadata": {},
     "output_type": "display_data"
    },
    {
     "data": {
      "text/html": [
       "<pre style=\"white-space:pre;overflow-x:auto;line-height:normal;font-family:Menlo,'DejaVu Sans Mono',consolas,'Courier New',monospace\"><span style=\"color: #7f7f7f; text-decoration-color: #7f7f7f\">[Step 2: Duration 3.41 seconds| Input tokens: 8,818 | Output tokens: 637]</span>\n",
       "</pre>\n"
      ],
      "text/plain": [
       "\u001b[2m[Step 2: Duration 3.41 seconds| Input tokens: 8,818 | Output tokens: 637]\u001b[0m\n"
      ]
     },
     "metadata": {},
     "output_type": "display_data"
    },
    {
     "data": {
      "text/html": [
       "<pre style=\"white-space:pre;overflow-x:auto;line-height:normal;font-family:Menlo,'DejaVu Sans Mono',consolas,'Courier New',monospace\"><span style=\"color: #d4b702; text-decoration-color: #d4b702\">━━━━━━━━━━━━━━━━━━━━━━━━━━━━━━━━━━━━━━━━━━━━━━━━━━━━━ </span><span style=\"font-weight: bold\">Step </span><span style=\"color: #008080; text-decoration-color: #008080; font-weight: bold\">3</span><span style=\"color: #d4b702; text-decoration-color: #d4b702\"> ━━━━━━━━━━━━━━━━━━━━━━━━━━━━━━━━━━━━━━━━━━━━━━━━━━━━━━</span>\n",
       "</pre>\n"
      ],
      "text/plain": [
       "\u001b[38;2;212;183;2m━━━━━━━━━━━━━━━━━━━━━━━━━━━━━━━━━━━━━━━━━━━━━━━━━━━━━ \u001b[0m\u001b[1mStep \u001b[0m\u001b[1;36m3\u001b[0m\u001b[38;2;212;183;2m ━━━━━━━━━━━━━━━━━━━━━━━━━━━━━━━━━━━━━━━━━━━━━━━━━━━━━━\u001b[0m\n"
      ]
     },
     "metadata": {},
     "output_type": "display_data"
    },
    {
     "data": {
      "text/html": [
       "<pre style=\"white-space:pre;overflow-x:auto;line-height:normal;font-family:Menlo,'DejaVu Sans Mono',consolas,'Courier New',monospace\">╭─────────────────────────────────────────────────────────────────────────────────────────────────────────────────╮\n",
       "│ Calling tool: 'get_atc' with arguments: {'rxcuis': ['1116632']}                                                 │\n",
       "╰─────────────────────────────────────────────────────────────────────────────────────────────────────────────────╯\n",
       "</pre>\n"
      ],
      "text/plain": [
       "╭─────────────────────────────────────────────────────────────────────────────────────────────────────────────────╮\n",
       "│ Calling tool: 'get_atc' with arguments: {'rxcuis': ['1116632']}                                                 │\n",
       "╰─────────────────────────────────────────────────────────────────────────────────────────────────────────────────╯\n"
      ]
     },
     "metadata": {},
     "output_type": "display_data"
    },
    {
     "data": {
      "text/html": [
       "<pre style=\"white-space:pre;overflow-x:auto;line-height:normal;font-family:Menlo,'DejaVu Sans Mono',consolas,'Courier New',monospace\">Observations: <span style=\"font-weight: bold\">{</span><span style=\"color: #008000; text-decoration-color: #008000\">'1116632'</span>: <span style=\"font-weight: bold\">{</span><span style=\"color: #008000; text-decoration-color: #008000\">'atc_id'</span>: <span style=\"color: #008000; text-decoration-color: #008000\">'B01AC'</span>, <span style=\"color: #008000; text-decoration-color: #008000\">'atc_name'</span>: <span style=\"color: #008000; text-decoration-color: #008000\">'Platelet aggregation inhibitors excl. heparin'</span>, \n",
       "<span style=\"color: #008000; text-decoration-color: #008000\">'atc_type'</span>: <span style=\"color: #008000; text-decoration-color: #008000\">'ATC1-4'</span><span style=\"font-weight: bold\">}}</span>\n",
       "</pre>\n"
      ],
      "text/plain": [
       "Observations: \u001b[1m{\u001b[0m\u001b[32m'1116632'\u001b[0m: \u001b[1m{\u001b[0m\u001b[32m'atc_id'\u001b[0m: \u001b[32m'B01AC'\u001b[0m, \u001b[32m'atc_name'\u001b[0m: \u001b[32m'Platelet aggregation inhibitors excl. heparin'\u001b[0m, \n",
       "\u001b[32m'atc_type'\u001b[0m: \u001b[32m'ATC1-4'\u001b[0m\u001b[1m}\u001b[0m\u001b[1m}\u001b[0m\n"
      ]
     },
     "metadata": {},
     "output_type": "display_data"
    },
    {
     "data": {
      "text/html": [
       "<pre style=\"white-space:pre;overflow-x:auto;line-height:normal;font-family:Menlo,'DejaVu Sans Mono',consolas,'Courier New',monospace\"><span style=\"color: #7f7f7f; text-decoration-color: #7f7f7f\">[Step 3: Duration 24.75 seconds| Input tokens: 14,351 | Output tokens: 788]</span>\n",
       "</pre>\n"
      ],
      "text/plain": [
       "\u001b[2m[Step 3: Duration 24.75 seconds| Input tokens: 14,351 | Output tokens: 788]\u001b[0m\n"
      ]
     },
     "metadata": {},
     "output_type": "display_data"
    },
    {
     "data": {
      "text/html": [
       "<pre style=\"white-space:pre;overflow-x:auto;line-height:normal;font-family:Menlo,'DejaVu Sans Mono',consolas,'Courier New',monospace\"><span style=\"color: #d4b702; text-decoration-color: #d4b702\">━━━━━━━━━━━━━━━━━━━━━━━━━━━━━━━━━━━━━━━━━━━━━━━━━━━━━ </span><span style=\"font-weight: bold\">Step </span><span style=\"color: #008080; text-decoration-color: #008080; font-weight: bold\">4</span><span style=\"color: #d4b702; text-decoration-color: #d4b702\"> ━━━━━━━━━━━━━━━━━━━━━━━━━━━━━━━━━━━━━━━━━━━━━━━━━━━━━━</span>\n",
       "</pre>\n"
      ],
      "text/plain": [
       "\u001b[38;2;212;183;2m━━━━━━━━━━━━━━━━━━━━━━━━━━━━━━━━━━━━━━━━━━━━━━━━━━━━━ \u001b[0m\u001b[1mStep \u001b[0m\u001b[1;36m4\u001b[0m\u001b[38;2;212;183;2m ━━━━━━━━━━━━━━━━━━━━━━━━━━━━━━━━━━━━━━━━━━━━━━━━━━━━━━\u001b[0m\n"
      ]
     },
     "metadata": {},
     "output_type": "display_data"
    },
    {
     "data": {
      "text/html": [
       "<pre style=\"white-space:pre;overflow-x:auto;line-height:normal;font-family:Menlo,'DejaVu Sans Mono',consolas,'Courier New',monospace\">╭─────────────────────────────────────────────────────────────────────────────────────────────────────────────────╮\n",
       "│ Calling tool: 'get_atc' with arguments: {'rxcuis': ['19484']}                                                   │\n",
       "╰─────────────────────────────────────────────────────────────────────────────────────────────────────────────────╯\n",
       "</pre>\n"
      ],
      "text/plain": [
       "╭─────────────────────────────────────────────────────────────────────────────────────────────────────────────────╮\n",
       "│ Calling tool: 'get_atc' with arguments: {'rxcuis': ['19484']}                                                   │\n",
       "╰─────────────────────────────────────────────────────────────────────────────────────────────────────────────────╯\n"
      ]
     },
     "metadata": {},
     "output_type": "display_data"
    },
    {
     "data": {
      "text/html": [
       "<pre style=\"white-space:pre;overflow-x:auto;line-height:normal;font-family:Menlo,'DejaVu Sans Mono',consolas,'Courier New',monospace\">Observations: <span style=\"font-weight: bold\">{</span><span style=\"color: #008000; text-decoration-color: #008000\">'19484'</span>: <span style=\"font-weight: bold\">{</span><span style=\"color: #008000; text-decoration-color: #008000\">'atc_id'</span>: <span style=\"color: #008000; text-decoration-color: #008000\">'C07AB'</span>, <span style=\"color: #008000; text-decoration-color: #008000\">'atc_name'</span>: <span style=\"color: #008000; text-decoration-color: #008000\">'Beta blocking agents, selective'</span>, <span style=\"color: #008000; text-decoration-color: #008000\">'atc_type'</span>: <span style=\"color: #008000; text-decoration-color: #008000\">'ATC1-4'</span><span style=\"font-weight: bold\">}}</span>\n",
       "</pre>\n"
      ],
      "text/plain": [
       "Observations: \u001b[1m{\u001b[0m\u001b[32m'19484'\u001b[0m: \u001b[1m{\u001b[0m\u001b[32m'atc_id'\u001b[0m: \u001b[32m'C07AB'\u001b[0m, \u001b[32m'atc_name'\u001b[0m: \u001b[32m'Beta blocking agents, selective'\u001b[0m, \u001b[32m'atc_type'\u001b[0m: \u001b[32m'ATC1-4'\u001b[0m\u001b[1m}\u001b[0m\u001b[1m}\u001b[0m\n"
      ]
     },
     "metadata": {},
     "output_type": "display_data"
    },
    {
     "data": {
      "text/html": [
       "<pre style=\"white-space:pre;overflow-x:auto;line-height:normal;font-family:Menlo,'DejaVu Sans Mono',consolas,'Courier New',monospace\"><span style=\"color: #7f7f7f; text-decoration-color: #7f7f7f\">[Step 4: Duration 2.21 seconds| Input tokens: 20,020 | Output tokens: 919]</span>\n",
       "</pre>\n"
      ],
      "text/plain": [
       "\u001b[2m[Step 4: Duration 2.21 seconds| Input tokens: 20,020 | Output tokens: 919]\u001b[0m\n"
      ]
     },
     "metadata": {},
     "output_type": "display_data"
    },
    {
     "data": {
      "text/html": [
       "<pre style=\"white-space:pre;overflow-x:auto;line-height:normal;font-family:Menlo,'DejaVu Sans Mono',consolas,'Courier New',monospace\"><span style=\"color: #d4b702; text-decoration-color: #d4b702\">━━━━━━━━━━━━━━━━━━━━━━━━━━━━━━━━━━━━━━━━━━━━━━━━━━━━━ </span><span style=\"font-weight: bold\">Step </span><span style=\"color: #008080; text-decoration-color: #008080; font-weight: bold\">5</span><span style=\"color: #d4b702; text-decoration-color: #d4b702\"> ━━━━━━━━━━━━━━━━━━━━━━━━━━━━━━━━━━━━━━━━━━━━━━━━━━━━━━</span>\n",
       "</pre>\n"
      ],
      "text/plain": [
       "\u001b[38;2;212;183;2m━━━━━━━━━━━━━━━━━━━━━━━━━━━━━━━━━━━━━━━━━━━━━━━━━━━━━ \u001b[0m\u001b[1mStep \u001b[0m\u001b[1;36m5\u001b[0m\u001b[38;2;212;183;2m ━━━━━━━━━━━━━━━━━━━━━━━━━━━━━━━━━━━━━━━━━━━━━━━━━━━━━━\u001b[0m\n"
      ]
     },
     "metadata": {},
     "output_type": "display_data"
    },
    {
     "data": {
      "text/html": [
       "<pre style=\"white-space:pre;overflow-x:auto;line-height:normal;font-family:Menlo,'DejaVu Sans Mono',consolas,'Courier New',monospace\">╭─────────────────────────────────────────────────────────────────────────────────────────────────────────────────╮\n",
       "│ Calling tool: 'get_atc' with arguments: {'rxcuis': ['5640']}                                                    │\n",
       "╰─────────────────────────────────────────────────────────────────────────────────────────────────────────────────╯\n",
       "</pre>\n"
      ],
      "text/plain": [
       "╭─────────────────────────────────────────────────────────────────────────────────────────────────────────────────╮\n",
       "│ Calling tool: 'get_atc' with arguments: {'rxcuis': ['5640']}                                                    │\n",
       "╰─────────────────────────────────────────────────────────────────────────────────────────────────────────────────╯\n"
      ]
     },
     "metadata": {},
     "output_type": "display_data"
    },
    {
     "data": {
      "text/html": [
       "<pre style=\"white-space:pre;overflow-x:auto;line-height:normal;font-family:Menlo,'DejaVu Sans Mono',consolas,'Courier New',monospace\">Observations: <span style=\"font-weight: bold\">{</span><span style=\"color: #008000; text-decoration-color: #008000\">'5640'</span>: <span style=\"font-weight: bold\">{</span><span style=\"color: #008000; text-decoration-color: #008000\">'atc_id'</span>: <span style=\"color: #008000; text-decoration-color: #008000\">'N02AJ'</span>, <span style=\"color: #008000; text-decoration-color: #008000\">'atc_name'</span>: <span style=\"color: #008000; text-decoration-color: #008000\">'Opioids in combination with non-opioid analgesics'</span>, \n",
       "<span style=\"color: #008000; text-decoration-color: #008000\">'atc_type'</span>: <span style=\"color: #008000; text-decoration-color: #008000\">'ATC1-4'</span><span style=\"font-weight: bold\">}}</span>\n",
       "</pre>\n"
      ],
      "text/plain": [
       "Observations: \u001b[1m{\u001b[0m\u001b[32m'5640'\u001b[0m: \u001b[1m{\u001b[0m\u001b[32m'atc_id'\u001b[0m: \u001b[32m'N02AJ'\u001b[0m, \u001b[32m'atc_name'\u001b[0m: \u001b[32m'Opioids in combination with non-opioid analgesics'\u001b[0m, \n",
       "\u001b[32m'atc_type'\u001b[0m: \u001b[32m'ATC1-4'\u001b[0m\u001b[1m}\u001b[0m\u001b[1m}\u001b[0m\n"
      ]
     },
     "metadata": {},
     "output_type": "display_data"
    },
    {
     "data": {
      "text/html": [
       "<pre style=\"white-space:pre;overflow-x:auto;line-height:normal;font-family:Menlo,'DejaVu Sans Mono',consolas,'Courier New',monospace\"><span style=\"color: #7f7f7f; text-decoration-color: #7f7f7f\">[Step 5: Duration 6.90 seconds| Input tokens: 25,815 | Output tokens: 1,012]</span>\n",
       "</pre>\n"
      ],
      "text/plain": [
       "\u001b[2m[Step 5: Duration 6.90 seconds| Input tokens: 25,815 | Output tokens: 1,012]\u001b[0m\n"
      ]
     },
     "metadata": {},
     "output_type": "display_data"
    },
    {
     "data": {
      "text/html": [
       "<pre style=\"white-space:pre;overflow-x:auto;line-height:normal;font-family:Menlo,'DejaVu Sans Mono',consolas,'Courier New',monospace\"><span style=\"color: #d4b702; text-decoration-color: #d4b702\">━━━━━━━━━━━━━━━━━━━━━━━━━━━━━━━━━━━━━━━━━━━━━━━━━━━━━ </span><span style=\"font-weight: bold\">Step </span><span style=\"color: #008080; text-decoration-color: #008080; font-weight: bold\">6</span><span style=\"color: #d4b702; text-decoration-color: #d4b702\"> ━━━━━━━━━━━━━━━━━━━━━━━━━━━━━━━━━━━━━━━━━━━━━━━━━━━━━━</span>\n",
       "</pre>\n"
      ],
      "text/plain": [
       "\u001b[38;2;212;183;2m━━━━━━━━━━━━━━━━━━━━━━━━━━━━━━━━━━━━━━━━━━━━━━━━━━━━━ \u001b[0m\u001b[1mStep \u001b[0m\u001b[1;36m6\u001b[0m\u001b[38;2;212;183;2m ━━━━━━━━━━━━━━━━━━━━━━━━━━━━━━━━━━━━━━━━━━━━━━━━━━━━━━\u001b[0m\n"
      ]
     },
     "metadata": {},
     "output_type": "display_data"
    },
    {
     "data": {
      "text/html": [
       "<pre style=\"white-space:pre;overflow-x:auto;line-height:normal;font-family:Menlo,'DejaVu Sans Mono',consolas,'Courier New',monospace\">╭─────────────────────────────────────────────────────────────────────────────────────────────────────────────────╮\n",
       "│ Calling tool: 'get_atc' with arguments: {'rxcuis': ['40790']}                                                   │\n",
       "╰─────────────────────────────────────────────────────────────────────────────────────────────────────────────────╯\n",
       "</pre>\n"
      ],
      "text/plain": [
       "╭─────────────────────────────────────────────────────────────────────────────────────────────────────────────────╮\n",
       "│ Calling tool: 'get_atc' with arguments: {'rxcuis': ['40790']}                                                   │\n",
       "╰─────────────────────────────────────────────────────────────────────────────────────────────────────────────────╯\n"
      ]
     },
     "metadata": {},
     "output_type": "display_data"
    },
    {
     "data": {
      "text/html": [
       "<pre style=\"white-space:pre;overflow-x:auto;line-height:normal;font-family:Menlo,'DejaVu Sans Mono',consolas,'Courier New',monospace\">Observations: <span style=\"font-weight: bold\">{</span><span style=\"color: #008000; text-decoration-color: #008000\">'40790'</span>: <span style=\"font-weight: bold\">{</span><span style=\"color: #008000; text-decoration-color: #008000\">'atc_id'</span>: <span style=\"color: #008000; text-decoration-color: #008000\">'A02BC'</span>, <span style=\"color: #008000; text-decoration-color: #008000\">'atc_name'</span>: <span style=\"color: #008000; text-decoration-color: #008000\">'Proton pump inhibitors'</span>, <span style=\"color: #008000; text-decoration-color: #008000\">'atc_type'</span>: <span style=\"color: #008000; text-decoration-color: #008000\">'ATC1-4'</span><span style=\"font-weight: bold\">}}</span>\n",
       "</pre>\n"
      ],
      "text/plain": [
       "Observations: \u001b[1m{\u001b[0m\u001b[32m'40790'\u001b[0m: \u001b[1m{\u001b[0m\u001b[32m'atc_id'\u001b[0m: \u001b[32m'A02BC'\u001b[0m, \u001b[32m'atc_name'\u001b[0m: \u001b[32m'Proton pump inhibitors'\u001b[0m, \u001b[32m'atc_type'\u001b[0m: \u001b[32m'ATC1-4'\u001b[0m\u001b[1m}\u001b[0m\u001b[1m}\u001b[0m\n"
      ]
     },
     "metadata": {},
     "output_type": "display_data"
    },
    {
     "data": {
      "text/html": [
       "<pre style=\"white-space:pre;overflow-x:auto;line-height:normal;font-family:Menlo,'DejaVu Sans Mono',consolas,'Courier New',monospace\"><span style=\"color: #7f7f7f; text-decoration-color: #7f7f7f\">[Step 6: Duration 4.55 seconds| Input tokens: 31,743 | Output tokens: 1,067]</span>\n",
       "</pre>\n"
      ],
      "text/plain": [
       "\u001b[2m[Step 6: Duration 4.55 seconds| Input tokens: 31,743 | Output tokens: 1,067]\u001b[0m\n"
      ]
     },
     "metadata": {},
     "output_type": "display_data"
    },
    {
     "data": {
      "text/html": [
       "<pre style=\"white-space:pre;overflow-x:auto;line-height:normal;font-family:Menlo,'DejaVu Sans Mono',consolas,'Courier New',monospace\"><span style=\"color: #d4b702; text-decoration-color: #d4b702\">━━━━━━━━━━━━━━━━━━━━━━━━━━━━━━━━━━━━━━━━━━━━━━━━━━━━━ </span><span style=\"font-weight: bold\">Step </span><span style=\"color: #008080; text-decoration-color: #008080; font-weight: bold\">7</span><span style=\"color: #d4b702; text-decoration-color: #d4b702\"> ━━━━━━━━━━━━━━━━━━━━━━━━━━━━━━━━━━━━━━━━━━━━━━━━━━━━━━</span>\n",
       "</pre>\n"
      ],
      "text/plain": [
       "\u001b[38;2;212;183;2m━━━━━━━━━━━━━━━━━━━━━━━━━━━━━━━━━━━━━━━━━━━━━━━━━━━━━ \u001b[0m\u001b[1mStep \u001b[0m\u001b[1;36m7\u001b[0m\u001b[38;2;212;183;2m ━━━━━━━━━━━━━━━━━━━━━━━━━━━━━━━━━━━━━━━━━━━━━━━━━━━━━━\u001b[0m\n"
      ]
     },
     "metadata": {},
     "output_type": "display_data"
    },
    {
     "data": {
      "text/html": [
       "<pre style=\"white-space:pre;overflow-x:auto;line-height:normal;font-family:Menlo,'DejaVu Sans Mono',consolas,'Courier New',monospace\">╭─────────────────────────────────────────────────────────────────────────────────────────────────────────────────╮\n",
       "│ Calling tool: 'get_atc' with arguments: {'rxcuis': ['381001']}                                                  │\n",
       "╰─────────────────────────────────────────────────────────────────────────────────────────────────────────────────╯\n",
       "</pre>\n"
      ],
      "text/plain": [
       "╭─────────────────────────────────────────────────────────────────────────────────────────────────────────────────╮\n",
       "│ Calling tool: 'get_atc' with arguments: {'rxcuis': ['381001']}                                                  │\n",
       "╰─────────────────────────────────────────────────────────────────────────────────────────────────────────────────╯\n"
      ]
     },
     "metadata": {},
     "output_type": "display_data"
    },
    {
     "data": {
      "text/html": [
       "<pre style=\"white-space:pre;overflow-x:auto;line-height:normal;font-family:Menlo,'DejaVu Sans Mono',consolas,'Courier New',monospace\">Observations: <span style=\"font-weight: bold\">{</span><span style=\"color: #008000; text-decoration-color: #008000\">'381001'</span>: <span style=\"font-weight: bold\">{}}</span>\n",
       "</pre>\n"
      ],
      "text/plain": [
       "Observations: \u001b[1m{\u001b[0m\u001b[32m'381001'\u001b[0m: \u001b[1m{\u001b[0m\u001b[1m}\u001b[0m\u001b[1m}\u001b[0m\n"
      ]
     },
     "metadata": {},
     "output_type": "display_data"
    },
    {
     "data": {
      "text/html": [
       "<pre style=\"white-space:pre;overflow-x:auto;line-height:normal;font-family:Menlo,'DejaVu Sans Mono',consolas,'Courier New',monospace\"><span style=\"color: #7f7f7f; text-decoration-color: #7f7f7f\">[Step 7: Duration 1.52 seconds| Input tokens: 37,800 | Output tokens: 1,122]</span>\n",
       "</pre>\n"
      ],
      "text/plain": [
       "\u001b[2m[Step 7: Duration 1.52 seconds| Input tokens: 37,800 | Output tokens: 1,122]\u001b[0m\n"
      ]
     },
     "metadata": {},
     "output_type": "display_data"
    },
    {
     "data": {
      "text/html": [
       "<pre style=\"white-space:pre;overflow-x:auto;line-height:normal;font-family:Menlo,'DejaVu Sans Mono',consolas,'Courier New',monospace\"><span style=\"color: #d4b702; text-decoration-color: #d4b702\">━━━━━━━━━━━━━━━━━━━━━━━━━━━━━━━━━━━━━━━━━━━━━━━━━━━━━ </span><span style=\"font-weight: bold\">Step </span><span style=\"color: #008080; text-decoration-color: #008080; font-weight: bold\">8</span><span style=\"color: #d4b702; text-decoration-color: #d4b702\"> ━━━━━━━━━━━━━━━━━━━━━━━━━━━━━━━━━━━━━━━━━━━━━━━━━━━━━━</span>\n",
       "</pre>\n"
      ],
      "text/plain": [
       "\u001b[38;2;212;183;2m━━━━━━━━━━━━━━━━━━━━━━━━━━━━━━━━━━━━━━━━━━━━━━━━━━━━━ \u001b[0m\u001b[1mStep \u001b[0m\u001b[1;36m8\u001b[0m\u001b[38;2;212;183;2m ━━━━━━━━━━━━━━━━━━━━━━━━━━━━━━━━━━━━━━━━━━━━━━━━━━━━━━\u001b[0m\n"
      ]
     },
     "metadata": {},
     "output_type": "display_data"
    }
   ],
   "source": [
    "from medminer.task.medication import medication_task\n",
    "\n",
    "for doc in docs:\n",
    "    medication_task.run(model, doc.content)"
   ]
  }
 ],
 "metadata": {
  "kernelspec": {
   "display_name": ".venv",
   "language": "python",
   "name": "python3"
  },
  "language_info": {
   "codemirror_mode": {
    "name": "ipython",
    "version": 3
   },
   "file_extension": ".py",
   "mimetype": "text/x-python",
   "name": "python",
   "nbconvert_exporter": "python",
   "pygments_lexer": "ipython3",
   "version": "3.13.0"
  }
 },
 "nbformat": 4,
 "nbformat_minor": 2
}
