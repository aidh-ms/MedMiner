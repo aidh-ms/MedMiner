{
 "cells": [
  {
   "cell_type": "code",
   "execution_count": 7,
   "metadata": {},
   "outputs": [],
   "source": [
    "import os\n",
    "from smolagents import AzureOpenAIServerModel, TransformersModel\n",
    "\n",
    "MODE = 'azure'  # or 'azure'\n",
    "if MODE == 'azure':\n",
    "    model = AzureOpenAIServerModel(\n",
    "        model_id=os.environ.get(\"AZURE_OPENAI_MODEL\", \"\"),\n",
    "        azure_endpoint=os.environ.get(\"AZURE_OPENAI_ENDPOINT\", \"\"),\n",
    "        api_key=os.environ.get(\"AZURE_OPENAI_API_KEY\", \"\"),\n",
    "        api_version=os.environ.get(\"OPENAI_API_VERSION\", \"\")\n",
    "    )\n",
    "if MODE == 'local':\n",
    "    model = TransformersModel(\n",
    "        model_id=\"Qwen/Qwen2.5-Coder-32B-Instruct\",\n",
    "    )"
   ]
  },
  {
   "cell_type": "code",
   "execution_count": 8,
   "metadata": {},
   "outputs": [],
   "source": [
    "from pathlib import Path\n",
    "from medminer.data import Document\n",
    "\n",
    "docs = []\n",
    "for file in (Path.cwd().parent / \"data\" / \"pre_medications\").glob(\"*.txt\"):\n",
    "    with open(file, \"r\") as f:\n",
    "        docs.append(Document(file.stem, f.read()))"
   ]
  },
  {
   "cell_type": "code",
   "execution_count": 9,
   "metadata": {},
   "outputs": [
    {
     "data": {
      "text/html": [
       "<pre style=\"white-space:pre;overflow-x:auto;line-height:normal;font-family:Menlo,'DejaVu Sans Mono',consolas,'Courier New',monospace\"><span style=\"color: #d4b702; text-decoration-color: #d4b702\">╭──────────────────────────────────────────────────── </span><span style=\"color: #d4b702; text-decoration-color: #d4b702; font-weight: bold\">New run</span><span style=\"color: #d4b702; text-decoration-color: #d4b702\"> ────────────────────────────────────────────────────╮</span>\n",
       "<span style=\"color: #d4b702; text-decoration-color: #d4b702\">│</span>                                                                                                                 <span style=\"color: #d4b702; text-decoration-color: #d4b702\">│</span>\n",
       "<span style=\"color: #d4b702; text-decoration-color: #d4b702\">│</span> <span style=\"font-weight: bold\">Task name: medication</span>                                                                                           <span style=\"color: #d4b702; text-decoration-color: #d4b702\">│</span>\n",
       "<span style=\"color: #d4b702; text-decoration-color: #d4b702\">│</span> <span style=\"font-weight: bold\">Prompt: </span>                                                                                                        <span style=\"color: #d4b702; text-decoration-color: #d4b702\">│</span>\n",
       "<span style=\"color: #d4b702; text-decoration-color: #d4b702\">│</span> <span style=\"font-weight: bold\">    Given a list of medications, save all medications for the patient as csv.</span>                                   <span style=\"color: #d4b702; text-decoration-color: #d4b702\">│</span>\n",
       "<span style=\"color: #d4b702; text-decoration-color: #d4b702\">│</span> <span style=\"font-weight: bold\">    To complete the task make the following steps:</span>                                                              <span style=\"color: #d4b702; text-decoration-color: #d4b702\">│</span>\n",
       "<span style=\"color: #d4b702; text-decoration-color: #d4b702\">│</span> <span style=\"font-weight: bold\">    1. extract all information defined in the columns below from the document. Infer the </span>                       <span style=\"color: #d4b702; text-decoration-color: #d4b702\">│</span>\n",
       "<span style=\"color: #d4b702; text-decoration-color: #d4b702\">│</span> <span style=\"font-weight: bold\">medication_name_corrected column.</span>                                                                               <span style=\"color: #d4b702; text-decoration-color: #d4b702\">│</span>\n",
       "<span style=\"color: #d4b702; text-decoration-color: #d4b702\">│</span> <span style=\"font-weight: bold\">    2. get the RXCUI for all medications. Use the corrected name of the medications.</span>                            <span style=\"color: #d4b702; text-decoration-color: #d4b702\">│</span>\n",
       "<span style=\"color: #d4b702; text-decoration-color: #d4b702\">│</span> <span style=\"font-weight: bold\">    3. get the ATC code for all medications. Use the rxcui of the medications.</span>                                  <span style=\"color: #d4b702; text-decoration-color: #d4b702\">│</span>\n",
       "<span style=\"color: #d4b702; text-decoration-color: #d4b702\">│</span> <span style=\"font-weight: bold\">    4. save the medication information as csv with the columns defined below.</span>                                   <span style=\"color: #d4b702; text-decoration-color: #d4b702\">│</span>\n",
       "<span style=\"color: #d4b702; text-decoration-color: #d4b702\">│</span>                                                                                                                 <span style=\"color: #d4b702; text-decoration-color: #d4b702\">│</span>\n",
       "<span style=\"color: #d4b702; text-decoration-color: #d4b702\">│</span> <span style=\"font-weight: bold\">    Columns:</span>                                                                                                    <span style=\"color: #d4b702; text-decoration-color: #d4b702\">│</span>\n",
       "<span style=\"color: #d4b702; text-decoration-color: #d4b702\">│</span> <span style=\"font-weight: bold\">    - patient_id: The patient ID.</span>                                                                               <span style=\"color: #d4b702; text-decoration-color: #d4b702\">│</span>\n",
       "<span style=\"color: #d4b702; text-decoration-color: #d4b702\">│</span> <span style=\"font-weight: bold\">    - medication_name: The name of the medication in the document without dose, unit or additional information.</span> <span style=\"color: #d4b702; text-decoration-color: #d4b702\">│</span>\n",
       "<span style=\"color: #d4b702; text-decoration-color: #d4b702\">│</span> <span style=\"font-weight: bold\">    - medication_name_corrected: Use the following format \"Brand name or medication name (active ingredient)\". </span> <span style=\"color: #d4b702; text-decoration-color: #d4b702\">│</span>\n",
       "<span style=\"color: #d4b702; text-decoration-color: #d4b702\">│</span> <span style=\"font-weight: bold\">e.g. \"Aspirin (acetylsalicylic acid)\".</span>                                                                          <span style=\"color: #d4b702; text-decoration-color: #d4b702\">│</span>\n",
       "<span style=\"color: #d4b702; text-decoration-color: #d4b702\">│</span> <span style=\"font-weight: bold\">    - dose: The dose of the medication. this sould only contain the numeric value.</span>                              <span style=\"color: #d4b702; text-decoration-color: #d4b702\">│</span>\n",
       "<span style=\"color: #d4b702; text-decoration-color: #d4b702\">│</span> <span style=\"font-weight: bold\">    - unit: The unit of the dose (e.g. ml, mg, ...). if not applicable, write an empty string.</span>                  <span style=\"color: #d4b702; text-decoration-color: #d4b702\">│</span>\n",
       "<span style=\"color: #d4b702; text-decoration-color: #d4b702\">│</span> <span style=\"font-weight: bold\">    - dosage_morning: The dose in the morning. if not applicable, write a 0.</span>                                    <span style=\"color: #d4b702; text-decoration-color: #d4b702\">│</span>\n",
       "<span style=\"color: #d4b702; text-decoration-color: #d4b702\">│</span> <span style=\"font-weight: bold\">    - dosage_noon: The dose in the noon. if not applicable, write a 0.</span>                                          <span style=\"color: #d4b702; text-decoration-color: #d4b702\">│</span>\n",
       "<span style=\"color: #d4b702; text-decoration-color: #d4b702\">│</span> <span style=\"font-weight: bold\">    - dosage_evening: The dose in the evening. if not applicable, write a 0.</span>                                    <span style=\"color: #d4b702; text-decoration-color: #d4b702\">│</span>\n",
       "<span style=\"color: #d4b702; text-decoration-color: #d4b702\">│</span> <span style=\"font-weight: bold\">    - dosage_night: The dose in the night. if not applicable, write a 0.</span>                                        <span style=\"color: #d4b702; text-decoration-color: #d4b702\">│</span>\n",
       "<span style=\"color: #d4b702; text-decoration-color: #d4b702\">│</span> <span style=\"font-weight: bold\">    - dosage_information: Additional information about the dosage. if not applicable, write an empty string.</span>    <span style=\"color: #d4b702; text-decoration-color: #d4b702\">│</span>\n",
       "<span style=\"color: #d4b702; text-decoration-color: #d4b702\">│</span> <span style=\"font-weight: bold\">    - rxcui: The RXCUI of the medication. if not applicable, write an empty string.</span>                             <span style=\"color: #d4b702; text-decoration-color: #d4b702\">│</span>\n",
       "<span style=\"color: #d4b702; text-decoration-color: #d4b702\">│</span> <span style=\"font-weight: bold\">    - atc_id: The ATC code of the medication. if not applicable, write an empty string.</span>                         <span style=\"color: #d4b702; text-decoration-color: #d4b702\">│</span>\n",
       "<span style=\"color: #d4b702; text-decoration-color: #d4b702\">│</span> <span style=\"font-weight: bold\">    - atc_name: The name of the ATC code. if not applicable, write an empty string.</span>                             <span style=\"color: #d4b702; text-decoration-color: #d4b702\">│</span>\n",
       "<span style=\"color: #d4b702; text-decoration-color: #d4b702\">│</span> <span style=\"font-weight: bold\">    - atc_type: The type of the ATC code. if not applicable, write an empty string.</span>                             <span style=\"color: #d4b702; text-decoration-color: #d4b702\">│</span>\n",
       "<span style=\"color: #d4b702; text-decoration-color: #d4b702\">│</span>                                                                                                                 <span style=\"color: #d4b702; text-decoration-color: #d4b702\">│</span>\n",
       "<span style=\"color: #d4b702; text-decoration-color: #d4b702\">│</span>                                                                                                                 <span style=\"color: #d4b702; text-decoration-color: #d4b702\">│</span>\n",
       "<span style=\"color: #d4b702; text-decoration-color: #d4b702\">│</span> <span style=\"font-weight: bold\">--------------------------------------------------------------------------------</span>                                <span style=\"color: #d4b702; text-decoration-color: #d4b702\">│</span>\n",
       "<span style=\"color: #d4b702; text-decoration-color: #d4b702\">│</span> <span style=\"font-weight: bold\">Data: </span>                                                                                                          <span style=\"color: #d4b702; text-decoration-color: #d4b702\">│</span>\n",
       "<span style=\"color: #d4b702; text-decoration-color: #d4b702\">│</span> <span style=\"font-weight: bold\">    Patient: 5</span>                                                                                                  <span style=\"color: #d4b702; text-decoration-color: #d4b702\">│</span>\n",
       "<span style=\"color: #d4b702; text-decoration-color: #d4b702\">│</span> <span style=\"font-weight: bold\">    \"Amlodipin 10mg   1-0-0</span>                                                                                     <span style=\"color: #d4b702; text-decoration-color: #d4b702\">│</span>\n",
       "<span style=\"color: #d4b702; text-decoration-color: #d4b702\">│</span> <span style=\"font-weight: bold\">    \\</span>                                                                                                           <span style=\"color: #d4b702; text-decoration-color: #d4b702\">│</span>\n",
       "<span style=\"color: #d4b702; text-decoration-color: #d4b702\">│</span> <span style=\"font-weight: bold\">    Bisoprolol 10mg   1-0-0</span>                                                                                     <span style=\"color: #d4b702; text-decoration-color: #d4b702\">│</span>\n",
       "<span style=\"color: #d4b702; text-decoration-color: #d4b702\">│</span> <span style=\"font-weight: bold\">    \\</span>                                                                                                           <span style=\"color: #d4b702; text-decoration-color: #d4b702\">│</span>\n",
       "<span style=\"color: #d4b702; text-decoration-color: #d4b702\">│</span> <span style=\"font-weight: bold\">    Lisinopril 30mg     1-0-0</span>                                                                                   <span style=\"color: #d4b702; text-decoration-color: #d4b702\">│</span>\n",
       "<span style=\"color: #d4b702; text-decoration-color: #d4b702\">│</span> <span style=\"font-weight: bold\">    \\</span>                                                                                                           <span style=\"color: #d4b702; text-decoration-color: #d4b702\">│</span>\n",
       "<span style=\"color: #d4b702; text-decoration-color: #d4b702\">│</span> <span style=\"font-weight: bold\">    Torasemid 10mg   1-0-0</span>                                                                                      <span style=\"color: #d4b702; text-decoration-color: #d4b702\">│</span>\n",
       "<span style=\"color: #d4b702; text-decoration-color: #d4b702\">│</span> <span style=\"font-weight: bold\">    \\</span>                                                                                                           <span style=\"color: #d4b702; text-decoration-color: #d4b702\">│</span>\n",
       "<span style=\"color: #d4b702; text-decoration-color: #d4b702\">│</span> <span style=\"font-weight: bold\">    Midazolam b.B.</span>                                                                                              <span style=\"color: #d4b702; text-decoration-color: #d4b702\">│</span>\n",
       "<span style=\"color: #d4b702; text-decoration-color: #d4b702\">│</span> <span style=\"font-weight: bold\">    \\</span>                                                                                                           <span style=\"color: #d4b702; text-decoration-color: #d4b702\">│</span>\n",
       "<span style=\"color: #d4b702; text-decoration-color: #d4b702\">│</span> <span style=\"font-weight: bold\">    Simvastatin 20mg  0-0-1</span>                                                                                     <span style=\"color: #d4b702; text-decoration-color: #d4b702\">│</span>\n",
       "<span style=\"color: #d4b702; text-decoration-color: #d4b702\">│</span> <span style=\"font-weight: bold\">    \\</span>                                                                                                           <span style=\"color: #d4b702; text-decoration-color: #d4b702\">│</span>\n",
       "<span style=\"color: #d4b702; text-decoration-color: #d4b702\">│</span> <span style=\"font-weight: bold\">    PipTaz 4,5g 1-1-1-1\"</span>                                                                                        <span style=\"color: #d4b702; text-decoration-color: #d4b702\">│</span>\n",
       "<span style=\"color: #d4b702; text-decoration-color: #d4b702\">│</span>                                                                                                                 <span style=\"color: #d4b702; text-decoration-color: #d4b702\">│</span>\n",
       "<span style=\"color: #d4b702; text-decoration-color: #d4b702\">╰─ AzureOpenAIServerModel - gpt-4o ───────────────────────────────────────────────────────────────────────────────╯</span>\n",
       "</pre>\n"
      ],
      "text/plain": [
       "\u001b[38;2;212;183;2m╭─\u001b[0m\u001b[38;2;212;183;2m───────────────────────────────────────────────────\u001b[0m\u001b[38;2;212;183;2m \u001b[0m\u001b[1;38;2;212;183;2mNew run\u001b[0m\u001b[38;2;212;183;2m \u001b[0m\u001b[38;2;212;183;2m───────────────────────────────────────────────────\u001b[0m\u001b[38;2;212;183;2m─╮\u001b[0m\n",
       "\u001b[38;2;212;183;2m│\u001b[0m                                                                                                                 \u001b[38;2;212;183;2m│\u001b[0m\n",
       "\u001b[38;2;212;183;2m│\u001b[0m \u001b[1mTask name: medication\u001b[0m                                                                                           \u001b[38;2;212;183;2m│\u001b[0m\n",
       "\u001b[38;2;212;183;2m│\u001b[0m \u001b[1mPrompt: \u001b[0m                                                                                                        \u001b[38;2;212;183;2m│\u001b[0m\n",
       "\u001b[38;2;212;183;2m│\u001b[0m \u001b[1m    Given a list of medications, save all medications for the patient as csv.\u001b[0m                                   \u001b[38;2;212;183;2m│\u001b[0m\n",
       "\u001b[38;2;212;183;2m│\u001b[0m \u001b[1m    To complete the task make the following steps:\u001b[0m                                                              \u001b[38;2;212;183;2m│\u001b[0m\n",
       "\u001b[38;2;212;183;2m│\u001b[0m \u001b[1m    1. extract all information defined in the columns below from the document. Infer the \u001b[0m                       \u001b[38;2;212;183;2m│\u001b[0m\n",
       "\u001b[38;2;212;183;2m│\u001b[0m \u001b[1mmedication_name_corrected column.\u001b[0m                                                                               \u001b[38;2;212;183;2m│\u001b[0m\n",
       "\u001b[38;2;212;183;2m│\u001b[0m \u001b[1m    2. get the RXCUI for all medications. Use the corrected name of the medications.\u001b[0m                            \u001b[38;2;212;183;2m│\u001b[0m\n",
       "\u001b[38;2;212;183;2m│\u001b[0m \u001b[1m    3. get the ATC code for all medications. Use the rxcui of the medications.\u001b[0m                                  \u001b[38;2;212;183;2m│\u001b[0m\n",
       "\u001b[38;2;212;183;2m│\u001b[0m \u001b[1m    4. save the medication information as csv with the columns defined below.\u001b[0m                                   \u001b[38;2;212;183;2m│\u001b[0m\n",
       "\u001b[38;2;212;183;2m│\u001b[0m                                                                                                                 \u001b[38;2;212;183;2m│\u001b[0m\n",
       "\u001b[38;2;212;183;2m│\u001b[0m \u001b[1m    Columns:\u001b[0m                                                                                                    \u001b[38;2;212;183;2m│\u001b[0m\n",
       "\u001b[38;2;212;183;2m│\u001b[0m \u001b[1m    - patient_id: The patient ID.\u001b[0m                                                                               \u001b[38;2;212;183;2m│\u001b[0m\n",
       "\u001b[38;2;212;183;2m│\u001b[0m \u001b[1m    - medication_name: The name of the medication in the document without dose, unit or additional information.\u001b[0m \u001b[38;2;212;183;2m│\u001b[0m\n",
       "\u001b[38;2;212;183;2m│\u001b[0m \u001b[1m    - medication_name_corrected: Use the following format \"Brand name or medication name (active ingredient)\". \u001b[0m \u001b[38;2;212;183;2m│\u001b[0m\n",
       "\u001b[38;2;212;183;2m│\u001b[0m \u001b[1me.g. \"Aspirin (acetylsalicylic acid)\".\u001b[0m                                                                          \u001b[38;2;212;183;2m│\u001b[0m\n",
       "\u001b[38;2;212;183;2m│\u001b[0m \u001b[1m    - dose: The dose of the medication. this sould only contain the numeric value.\u001b[0m                              \u001b[38;2;212;183;2m│\u001b[0m\n",
       "\u001b[38;2;212;183;2m│\u001b[0m \u001b[1m    - unit: The unit of the dose (e.g. ml, mg, ...). if not applicable, write an empty string.\u001b[0m                  \u001b[38;2;212;183;2m│\u001b[0m\n",
       "\u001b[38;2;212;183;2m│\u001b[0m \u001b[1m    - dosage_morning: The dose in the morning. if not applicable, write a 0.\u001b[0m                                    \u001b[38;2;212;183;2m│\u001b[0m\n",
       "\u001b[38;2;212;183;2m│\u001b[0m \u001b[1m    - dosage_noon: The dose in the noon. if not applicable, write a 0.\u001b[0m                                          \u001b[38;2;212;183;2m│\u001b[0m\n",
       "\u001b[38;2;212;183;2m│\u001b[0m \u001b[1m    - dosage_evening: The dose in the evening. if not applicable, write a 0.\u001b[0m                                    \u001b[38;2;212;183;2m│\u001b[0m\n",
       "\u001b[38;2;212;183;2m│\u001b[0m \u001b[1m    - dosage_night: The dose in the night. if not applicable, write a 0.\u001b[0m                                        \u001b[38;2;212;183;2m│\u001b[0m\n",
       "\u001b[38;2;212;183;2m│\u001b[0m \u001b[1m    - dosage_information: Additional information about the dosage. if not applicable, write an empty string.\u001b[0m    \u001b[38;2;212;183;2m│\u001b[0m\n",
       "\u001b[38;2;212;183;2m│\u001b[0m \u001b[1m    - rxcui: The RXCUI of the medication. if not applicable, write an empty string.\u001b[0m                             \u001b[38;2;212;183;2m│\u001b[0m\n",
       "\u001b[38;2;212;183;2m│\u001b[0m \u001b[1m    - atc_id: The ATC code of the medication. if not applicable, write an empty string.\u001b[0m                         \u001b[38;2;212;183;2m│\u001b[0m\n",
       "\u001b[38;2;212;183;2m│\u001b[0m \u001b[1m    - atc_name: The name of the ATC code. if not applicable, write an empty string.\u001b[0m                             \u001b[38;2;212;183;2m│\u001b[0m\n",
       "\u001b[38;2;212;183;2m│\u001b[0m \u001b[1m    - atc_type: The type of the ATC code. if not applicable, write an empty string.\u001b[0m                             \u001b[38;2;212;183;2m│\u001b[0m\n",
       "\u001b[38;2;212;183;2m│\u001b[0m                                                                                                                 \u001b[38;2;212;183;2m│\u001b[0m\n",
       "\u001b[38;2;212;183;2m│\u001b[0m                                                                                                                 \u001b[38;2;212;183;2m│\u001b[0m\n",
       "\u001b[38;2;212;183;2m│\u001b[0m \u001b[1m--------------------------------------------------------------------------------\u001b[0m                                \u001b[38;2;212;183;2m│\u001b[0m\n",
       "\u001b[38;2;212;183;2m│\u001b[0m \u001b[1mData: \u001b[0m                                                                                                          \u001b[38;2;212;183;2m│\u001b[0m\n",
       "\u001b[38;2;212;183;2m│\u001b[0m \u001b[1m    Patient: 5\u001b[0m                                                                                                  \u001b[38;2;212;183;2m│\u001b[0m\n",
       "\u001b[38;2;212;183;2m│\u001b[0m \u001b[1m    \"Amlodipin 10mg   1-0-0\u001b[0m                                                                                     \u001b[38;2;212;183;2m│\u001b[0m\n",
       "\u001b[38;2;212;183;2m│\u001b[0m \u001b[1m    \\\u001b[0m                                                                                                           \u001b[38;2;212;183;2m│\u001b[0m\n",
       "\u001b[38;2;212;183;2m│\u001b[0m \u001b[1m    Bisoprolol 10mg   1-0-0\u001b[0m                                                                                     \u001b[38;2;212;183;2m│\u001b[0m\n",
       "\u001b[38;2;212;183;2m│\u001b[0m \u001b[1m    \\\u001b[0m                                                                                                           \u001b[38;2;212;183;2m│\u001b[0m\n",
       "\u001b[38;2;212;183;2m│\u001b[0m \u001b[1m    Lisinopril 30mg     1-0-0\u001b[0m                                                                                   \u001b[38;2;212;183;2m│\u001b[0m\n",
       "\u001b[38;2;212;183;2m│\u001b[0m \u001b[1m    \\\u001b[0m                                                                                                           \u001b[38;2;212;183;2m│\u001b[0m\n",
       "\u001b[38;2;212;183;2m│\u001b[0m \u001b[1m    Torasemid 10mg   1-0-0\u001b[0m                                                                                      \u001b[38;2;212;183;2m│\u001b[0m\n",
       "\u001b[38;2;212;183;2m│\u001b[0m \u001b[1m    \\\u001b[0m                                                                                                           \u001b[38;2;212;183;2m│\u001b[0m\n",
       "\u001b[38;2;212;183;2m│\u001b[0m \u001b[1m    Midazolam b.B.\u001b[0m                                                                                              \u001b[38;2;212;183;2m│\u001b[0m\n",
       "\u001b[38;2;212;183;2m│\u001b[0m \u001b[1m    \\\u001b[0m                                                                                                           \u001b[38;2;212;183;2m│\u001b[0m\n",
       "\u001b[38;2;212;183;2m│\u001b[0m \u001b[1m    Simvastatin 20mg  0-0-1\u001b[0m                                                                                     \u001b[38;2;212;183;2m│\u001b[0m\n",
       "\u001b[38;2;212;183;2m│\u001b[0m \u001b[1m    \\\u001b[0m                                                                                                           \u001b[38;2;212;183;2m│\u001b[0m\n",
       "\u001b[38;2;212;183;2m│\u001b[0m \u001b[1m    PipTaz 4,5g 1-1-1-1\"\u001b[0m                                                                                        \u001b[38;2;212;183;2m│\u001b[0m\n",
       "\u001b[38;2;212;183;2m│\u001b[0m                                                                                                                 \u001b[38;2;212;183;2m│\u001b[0m\n",
       "\u001b[38;2;212;183;2m╰─\u001b[0m\u001b[38;2;212;183;2m AzureOpenAIServerModel - gpt-4o \u001b[0m\u001b[38;2;212;183;2m──────────────────────────────────────────────────────────────────────────────\u001b[0m\u001b[38;2;212;183;2m─╯\u001b[0m\n"
      ]
     },
     "metadata": {},
     "output_type": "display_data"
    },
    {
     "data": {
      "text/html": [
       "<pre style=\"white-space:pre;overflow-x:auto;line-height:normal;font-family:Menlo,'DejaVu Sans Mono',consolas,'Courier New',monospace\"><span style=\"color: #d4b702; text-decoration-color: #d4b702\">━━━━━━━━━━━━━━━━━━━━━━━━━━━━━━━━━━━━━━━━━━━━━━━━━━━━━ </span><span style=\"font-weight: bold\">Step </span><span style=\"color: #008080; text-decoration-color: #008080; font-weight: bold\">1</span><span style=\"color: #d4b702; text-decoration-color: #d4b702\"> ━━━━━━━━━━━━━━━━━━━━━━━━━━━━━━━━━━━━━━━━━━━━━━━━━━━━━━</span>\n",
       "</pre>\n"
      ],
      "text/plain": [
       "\u001b[38;2;212;183;2m━━━━━━━━━━━━━━━━━━━━━━━━━━━━━━━━━━━━━━━━━━━━━━━━━━━━━ \u001b[0m\u001b[1mStep \u001b[0m\u001b[1;36m1\u001b[0m\u001b[38;2;212;183;2m ━━━━━━━━━━━━━━━━━━━━━━━━━━━━━━━━━━━━━━━━━━━━━━━━━━━━━━\u001b[0m\n"
      ]
     },
     "metadata": {},
     "output_type": "display_data"
    },
    {
     "data": {
      "text/html": [
       "<pre style=\"white-space:pre;overflow-x:auto;line-height:normal;font-family:Menlo,'DejaVu Sans Mono',consolas,'Courier New',monospace\">╭─────────────────────────────────────────────────────────────────────────────────────────────────────────────────╮\n",
       "│ Calling tool: 'extract_medication_data' with arguments: {'data': [{'patient_id': '5', 'medication_name':        │\n",
       "│ 'Amlodipin', 'medication_name_corrected': 'Amlodipin (amlodipine)', 'dose': '10', 'unit': 'mg',                 │\n",
       "│ 'dosage_morning': '1', 'dosage_noon': '0', 'dosage_evening': '0', 'dosage_night': '0', 'dosage_information':    │\n",
       "│ ''}, {'patient_id': '5', 'medication_name': 'Bisoprolol', 'medication_name_corrected': 'Bisoprolol              │\n",
       "│ (bisoprolol)', 'dose': '10', 'unit': 'mg', 'dosage_morning': '1', 'dosage_noon': '0', 'dosage_evening': '0',    │\n",
       "│ 'dosage_night': '0', 'dosage_information': ''}, {'patient_id': '5', 'medication_name': 'Lisinopril',            │\n",
       "│ 'medication_name_corrected': 'Lisinopril (lisinopril)', 'dose': '30', 'unit': 'mg', 'dosage_morning': '1',      │\n",
       "│ 'dosage_noon': '0', 'dosage_evening': '0', 'dosage_night': '0', 'dosage_information': ''}, {'patient_id': '5',  │\n",
       "│ 'medication_name': 'Torasemid', 'medication_name_corrected': 'Torasemid (torasemide)', 'dose': '10', 'unit':    │\n",
       "│ 'mg', 'dosage_morning': '1', 'dosage_noon': '0', 'dosage_evening': '0', 'dosage_night': '0',                    │\n",
       "│ 'dosage_information': ''}, {'patient_id': '5', 'medication_name': 'Midazolam', 'medication_name_corrected':     │\n",
       "│ 'Midazolam (midazolam)', 'dose': '', 'unit': '', 'dosage_morning': '0', 'dosage_noon': '0', 'dosage_evening':   │\n",
       "│ '0', 'dosage_night': '0', 'dosage_information': 'b.B.'}, {'patient_id': '5', 'medication_name': 'Simvastatin',  │\n",
       "│ 'medication_name_corrected': 'Simvastatin (simvastatin)', 'dose': '20', 'unit': 'mg', 'dosage_morning': '0',    │\n",
       "│ 'dosage_noon': '0', 'dosage_evening': '1', 'dosage_night': '0', 'dosage_information': ''}, {'patient_id': '5',  │\n",
       "│ 'medication_name': 'PipTaz', 'medication_name_corrected': 'PipTaz (piperacillin/tazobactam)', 'dose': '4.5',    │\n",
       "│ 'unit': 'g', 'dosage_morning': '1', 'dosage_noon': '1', 'dosage_evening': '1', 'dosage_night': '1',             │\n",
       "│ 'dosage_information': ''}]}                                                                                     │\n",
       "╰─────────────────────────────────────────────────────────────────────────────────────────────────────────────────╯\n",
       "</pre>\n"
      ],
      "text/plain": [
       "╭─────────────────────────────────────────────────────────────────────────────────────────────────────────────────╮\n",
       "│ Calling tool: 'extract_medication_data' with arguments: {'data': [{'patient_id': '5', 'medication_name':        │\n",
       "│ 'Amlodipin', 'medication_name_corrected': 'Amlodipin (amlodipine)', 'dose': '10', 'unit': 'mg',                 │\n",
       "│ 'dosage_morning': '1', 'dosage_noon': '0', 'dosage_evening': '0', 'dosage_night': '0', 'dosage_information':    │\n",
       "│ ''}, {'patient_id': '5', 'medication_name': 'Bisoprolol', 'medication_name_corrected': 'Bisoprolol              │\n",
       "│ (bisoprolol)', 'dose': '10', 'unit': 'mg', 'dosage_morning': '1', 'dosage_noon': '0', 'dosage_evening': '0',    │\n",
       "│ 'dosage_night': '0', 'dosage_information': ''}, {'patient_id': '5', 'medication_name': 'Lisinopril',            │\n",
       "│ 'medication_name_corrected': 'Lisinopril (lisinopril)', 'dose': '30', 'unit': 'mg', 'dosage_morning': '1',      │\n",
       "│ 'dosage_noon': '0', 'dosage_evening': '0', 'dosage_night': '0', 'dosage_information': ''}, {'patient_id': '5',  │\n",
       "│ 'medication_name': 'Torasemid', 'medication_name_corrected': 'Torasemid (torasemide)', 'dose': '10', 'unit':    │\n",
       "│ 'mg', 'dosage_morning': '1', 'dosage_noon': '0', 'dosage_evening': '0', 'dosage_night': '0',                    │\n",
       "│ 'dosage_information': ''}, {'patient_id': '5', 'medication_name': 'Midazolam', 'medication_name_corrected':     │\n",
       "│ 'Midazolam (midazolam)', 'dose': '', 'unit': '', 'dosage_morning': '0', 'dosage_noon': '0', 'dosage_evening':   │\n",
       "│ '0', 'dosage_night': '0', 'dosage_information': 'b.B.'}, {'patient_id': '5', 'medication_name': 'Simvastatin',  │\n",
       "│ 'medication_name_corrected': 'Simvastatin (simvastatin)', 'dose': '20', 'unit': 'mg', 'dosage_morning': '0',    │\n",
       "│ 'dosage_noon': '0', 'dosage_evening': '1', 'dosage_night': '0', 'dosage_information': ''}, {'patient_id': '5',  │\n",
       "│ 'medication_name': 'PipTaz', 'medication_name_corrected': 'PipTaz (piperacillin/tazobactam)', 'dose': '4.5',    │\n",
       "│ 'unit': 'g', 'dosage_morning': '1', 'dosage_noon': '1', 'dosage_evening': '1', 'dosage_night': '1',             │\n",
       "│ 'dosage_information': ''}]}                                                                                     │\n",
       "╰─────────────────────────────────────────────────────────────────────────────────────────────────────────────────╯\n"
      ]
     },
     "metadata": {},
     "output_type": "display_data"
    },
    {
     "data": {
      "text/html": [
       "<pre style=\"white-space:pre;overflow-x:auto;line-height:normal;font-family:Menlo,'DejaVu Sans Mono',consolas,'Courier New',monospace\">Observations: |<span style=\"font-weight: bold\">{</span><span style=\"color: #008000; text-decoration-color: #008000\">'patient_id'</span>: <span style=\"color: #008000; text-decoration-color: #008000\">'5'</span>, <span style=\"color: #008000; text-decoration-color: #008000\">'medication_name'</span>: <span style=\"color: #008000; text-decoration-color: #008000\">'Amlodipin'</span>, <span style=\"color: #008000; text-decoration-color: #008000\">'medication_name_corrected'</span>: <span style=\"color: #008000; text-decoration-color: #008000\">'Amlodipin </span>\n",
       "<span style=\"color: #008000; text-decoration-color: #008000\">(amlodipine)'</span>, <span style=\"color: #008000; text-decoration-color: #008000\">'dose'</span>: <span style=\"color: #008000; text-decoration-color: #008000\">'10'</span>, <span style=\"color: #008000; text-decoration-color: #008000\">'unit'</span>: <span style=\"color: #008000; text-decoration-color: #008000\">'mg'</span>, <span style=\"color: #008000; text-decoration-color: #008000\">'dosage_morning'</span>: <span style=\"color: #008000; text-decoration-color: #008000\">'1'</span>, <span style=\"color: #008000; text-decoration-color: #008000\">'dosage_noon'</span>: <span style=\"color: #008000; text-decoration-color: #008000\">'0'</span>, <span style=\"color: #008000; text-decoration-color: #008000\">'dosage_evening'</span>: <span style=\"color: #008000; text-decoration-color: #008000\">'0'</span>, \n",
       "<span style=\"color: #008000; text-decoration-color: #008000\">'dosage_night'</span>: <span style=\"color: #008000; text-decoration-color: #008000\">'0'</span>, <span style=\"color: #008000; text-decoration-color: #008000\">'dosage_information'</span>: <span style=\"color: #008000; text-decoration-color: #008000\">''</span><span style=\"font-weight: bold\">}</span>, <span style=\"font-weight: bold\">{</span><span style=\"color: #008000; text-decoration-color: #008000\">'patient_id'</span>: <span style=\"color: #008000; text-decoration-color: #008000\">'5'</span>, <span style=\"color: #008000; text-decoration-color: #008000\">'medication_name'</span>: <span style=\"color: #008000; text-decoration-color: #008000\">'Bisoprolol'</span>, \n",
       "<span style=\"color: #008000; text-decoration-color: #008000\">'medication_name_corrected'</span>: <span style=\"color: #008000; text-decoration-color: #008000\">'Bisoprolol (bisoprolol)'</span>, <span style=\"color: #008000; text-decoration-color: #008000\">'dose'</span>: <span style=\"color: #008000; text-decoration-color: #008000\">'10'</span>, <span style=\"color: #008000; text-decoration-color: #008000\">'unit'</span>: <span style=\"color: #008000; text-decoration-color: #008000\">'mg'</span>, <span style=\"color: #008000; text-decoration-color: #008000\">'dosage_morning'</span>: <span style=\"color: #008000; text-decoration-color: #008000\">'1'</span>, \n",
       "<span style=\"color: #008000; text-decoration-color: #008000\">'dosage_noon'</span>: <span style=\"color: #008000; text-decoration-color: #008000\">'0'</span>, <span style=\"color: #008000; text-decoration-color: #008000\">'dosage_evening'</span>: <span style=\"color: #008000; text-decoration-color: #008000\">'0'</span>, <span style=\"color: #008000; text-decoration-color: #008000\">'dosage_night'</span>: <span style=\"color: #008000; text-decoration-color: #008000\">'0'</span>, <span style=\"color: #008000; text-decoration-color: #008000\">'dosage_information'</span>: <span style=\"color: #008000; text-decoration-color: #008000\">''</span><span style=\"font-weight: bold\">}</span>, <span style=\"font-weight: bold\">{</span><span style=\"color: #008000; text-decoration-color: #008000\">'patient_id'</span>: <span style=\"color: #008000; text-decoration-color: #008000\">'5'</span>, \n",
       "<span style=\"color: #008000; text-decoration-color: #008000\">'medication_name'</span>: <span style=\"color: #008000; text-decoration-color: #008000\">'Lisinopril'</span>, <span style=\"color: #008000; text-decoration-color: #008000\">'medication_name_corrected'</span>: <span style=\"color: #008000; text-decoration-color: #008000\">'Lisinopril (lisinopril)'</span>, <span style=\"color: #008000; text-decoration-color: #008000\">'dose'</span>: <span style=\"color: #008000; text-decoration-color: #008000\">'30'</span>, <span style=\"color: #008000; text-decoration-color: #008000\">'unit'</span>: \n",
       "<span style=\"color: #008000; text-decoration-color: #008000\">'mg'</span>, <span style=\"color: #008000; text-decoration-color: #008000\">'dosage_morning'</span>: <span style=\"color: #008000; text-decoration-color: #008000\">'1'</span>, <span style=\"color: #008000; text-decoration-color: #008000\">'dosage_noon'</span>: <span style=\"color: #008000; text-decoration-color: #008000\">'0'</span>, <span style=\"color: #008000; text-decoration-color: #008000\">'dosage_evening'</span>: <span style=\"color: #008000; text-decoration-color: #008000\">'0'</span>, <span style=\"color: #008000; text-decoration-color: #008000\">'dosage_night'</span>: <span style=\"color: #008000; text-decoration-color: #008000\">'0'</span>, <span style=\"color: #008000; text-decoration-color: #008000\">'dosage_information'</span>: \n",
       "<span style=\"color: #008000; text-decoration-color: #008000\">''</span><span style=\"font-weight: bold\">}</span>, <span style=\"font-weight: bold\">{</span><span style=\"color: #008000; text-decoration-color: #008000\">'patient_id'</span>: <span style=\"color: #008000; text-decoration-color: #008000\">'5'</span>, <span style=\"color: #008000; text-decoration-color: #008000\">'medication_name'</span>: <span style=\"color: #008000; text-decoration-color: #008000\">'Torasemid'</span>, <span style=\"color: #008000; text-decoration-color: #008000\">'medication_name_corrected'</span>: <span style=\"color: #008000; text-decoration-color: #008000\">'Torasemid (torasemide)'</span>, \n",
       "<span style=\"color: #008000; text-decoration-color: #008000\">'dose'</span>: <span style=\"color: #008000; text-decoration-color: #008000\">'10'</span>, <span style=\"color: #008000; text-decoration-color: #008000\">'unit'</span>: <span style=\"color: #008000; text-decoration-color: #008000\">'mg'</span>, <span style=\"color: #008000; text-decoration-color: #008000\">'dosage_morning'</span>: <span style=\"color: #008000; text-decoration-color: #008000\">'1'</span>, <span style=\"color: #008000; text-decoration-color: #008000\">'dosage_noon'</span>: <span style=\"color: #008000; text-decoration-color: #008000\">'0'</span>, <span style=\"color: #008000; text-decoration-color: #008000\">'dosage_evening'</span>: <span style=\"color: #008000; text-decoration-color: #008000\">'0'</span>, <span style=\"color: #008000; text-decoration-color: #008000\">'dosage_night'</span>: <span style=\"color: #008000; text-decoration-color: #008000\">'0'</span>, \n",
       "<span style=\"color: #008000; text-decoration-color: #008000\">'dosage_information'</span>: <span style=\"color: #008000; text-decoration-color: #008000\">''</span><span style=\"font-weight: bold\">}</span>, <span style=\"font-weight: bold\">{</span><span style=\"color: #008000; text-decoration-color: #008000\">'patient_id'</span>: <span style=\"color: #008000; text-decoration-color: #008000\">'5'</span>, <span style=\"color: #008000; text-decoration-color: #008000\">'medication_name'</span>: <span style=\"color: #008000; text-decoration-color: #008000\">'Midazolam'</span>, <span style=\"color: #008000; text-decoration-color: #008000\">'medication_name_corrected'</span>: \n",
       "<span style=\"color: #008000; text-decoration-color: #008000\">'Midazolam (midazolam)'</span>, <span style=\"color: #008000; text-decoration-color: #008000\">'dose'</span>: <span style=\"color: #008000; text-decoration-color: #008000\">''</span>, <span style=\"color: #008000; text-decoration-color: #008000\">'unit'</span>: <span style=\"color: #008000; text-decoration-color: #008000\">''</span>, <span style=\"color: #008000; text-decoration-color: #008000\">'dosage_morning'</span>: <span style=\"color: #008000; text-decoration-color: #008000\">'0'</span>, <span style=\"color: #008000; text-decoration-color: #008000\">'dosage_noon'</span>: <span style=\"color: #008000; text-decoration-color: #008000\">'0'</span>, <span style=\"color: #008000; text-decoration-color: #008000\">'dosage_evening'</span>: <span style=\"color: #008000; text-decoration-color: #008000\">'0'</span>, \n",
       "<span style=\"color: #008000; text-decoration-color: #008000\">'dosage_night'</span>: <span style=\"color: #008000; text-decoration-color: #008000\">'0'</span>, <span style=\"color: #008000; text-decoration-color: #008000\">'dosage_information'</span>: <span style=\"color: #008000; text-decoration-color: #008000\">'b.B.'</span><span style=\"font-weight: bold\">}</span>, <span style=\"font-weight: bold\">{</span><span style=\"color: #008000; text-decoration-color: #008000\">'patient_id'</span>: <span style=\"color: #008000; text-decoration-color: #008000\">'5'</span>, <span style=\"color: #008000; text-decoration-color: #008000\">'medication_name'</span>: <span style=\"color: #008000; text-decoration-color: #008000\">'Simvastatin'</span>, \n",
       "<span style=\"color: #008000; text-decoration-color: #008000\">'medication_name_corrected'</span>: <span style=\"color: #008000; text-decoration-color: #008000\">'Simvastatin (simvastatin)'</span>, <span style=\"color: #008000; text-decoration-color: #008000\">'dose'</span>: <span style=\"color: #008000; text-decoration-color: #008000\">'20'</span>, <span style=\"color: #008000; text-decoration-color: #008000\">'unit'</span>: <span style=\"color: #008000; text-decoration-color: #008000\">'mg'</span>, <span style=\"color: #008000; text-decoration-color: #008000\">'dosage_morning'</span>: <span style=\"color: #008000; text-decoration-color: #008000\">'0'</span>, \n",
       "<span style=\"color: #008000; text-decoration-color: #008000\">'dosage_noon'</span>: <span style=\"color: #008000; text-decoration-color: #008000\">'0'</span>, <span style=\"color: #008000; text-decoration-color: #008000\">'dosage_evening'</span>: <span style=\"color: #008000; text-decoration-color: #008000\">'1'</span>, <span style=\"color: #008000; text-decoration-color: #008000\">'dosage_night'</span>: <span style=\"color: #008000; text-decoration-color: #008000\">'0'</span>, <span style=\"color: #008000; text-decoration-color: #008000\">'dosage_information'</span>: <span style=\"color: #008000; text-decoration-color: #008000\">''</span><span style=\"font-weight: bold\">}</span>, <span style=\"font-weight: bold\">{</span><span style=\"color: #008000; text-decoration-color: #008000\">'patient_id'</span>: <span style=\"color: #008000; text-decoration-color: #008000\">'5'</span>, \n",
       "<span style=\"color: #008000; text-decoration-color: #008000\">'medication_name'</span>: <span style=\"color: #008000; text-decoration-color: #008000\">'PipTaz'</span>, <span style=\"color: #008000; text-decoration-color: #008000\">'medication_name_corrected'</span>: <span style=\"color: #008000; text-decoration-color: #008000\">'PipTaz (piperacillin/tazobactam)'</span>, <span style=\"color: #008000; text-decoration-color: #008000\">'dose'</span>: <span style=\"color: #008000; text-decoration-color: #008000\">'4.5'</span>, \n",
       "<span style=\"color: #008000; text-decoration-color: #008000\">'unit'</span>: <span style=\"color: #008000; text-decoration-color: #008000\">'g'</span>, <span style=\"color: #008000; text-decoration-color: #008000\">'dosage_morning'</span>: <span style=\"color: #008000; text-decoration-color: #008000\">'1'</span>, <span style=\"color: #008000; text-decoration-color: #008000\">'dosage_noon'</span>: <span style=\"color: #008000; text-decoration-color: #008000\">'1'</span>, <span style=\"color: #008000; text-decoration-color: #008000\">'dosage_evening'</span>: <span style=\"color: #008000; text-decoration-color: #008000\">'1'</span>, <span style=\"color: #008000; text-decoration-color: #008000\">'dosage_night'</span>: <span style=\"color: #008000; text-decoration-color: #008000\">'1'</span>, \n",
       "<span style=\"color: #008000; text-decoration-color: #008000\">'dosage_information'</span>: <span style=\"color: #008000; text-decoration-color: #008000\">''</span><span style=\"font-weight: bold\">}]</span>\n",
       "</pre>\n"
      ],
      "text/plain": [
       "Observations: |\u001b[1m{\u001b[0m\u001b[32m'patient_id'\u001b[0m: \u001b[32m'5'\u001b[0m, \u001b[32m'medication_name'\u001b[0m: \u001b[32m'Amlodipin'\u001b[0m, \u001b[32m'medication_name_corrected'\u001b[0m: \u001b[32m'Amlodipin \u001b[0m\n",
       "\u001b[32m(\u001b[0m\u001b[32mamlodipine\u001b[0m\u001b[32m)\u001b[0m\u001b[32m'\u001b[0m, \u001b[32m'dose'\u001b[0m: \u001b[32m'10'\u001b[0m, \u001b[32m'unit'\u001b[0m: \u001b[32m'mg'\u001b[0m, \u001b[32m'dosage_morning'\u001b[0m: \u001b[32m'1'\u001b[0m, \u001b[32m'dosage_noon'\u001b[0m: \u001b[32m'0'\u001b[0m, \u001b[32m'dosage_evening'\u001b[0m: \u001b[32m'0'\u001b[0m, \n",
       "\u001b[32m'dosage_night'\u001b[0m: \u001b[32m'0'\u001b[0m, \u001b[32m'dosage_information'\u001b[0m: \u001b[32m''\u001b[0m\u001b[1m}\u001b[0m, \u001b[1m{\u001b[0m\u001b[32m'patient_id'\u001b[0m: \u001b[32m'5'\u001b[0m, \u001b[32m'medication_name'\u001b[0m: \u001b[32m'Bisoprolol'\u001b[0m, \n",
       "\u001b[32m'medication_name_corrected'\u001b[0m: \u001b[32m'Bisoprolol \u001b[0m\u001b[32m(\u001b[0m\u001b[32mbisoprolol\u001b[0m\u001b[32m)\u001b[0m\u001b[32m'\u001b[0m, \u001b[32m'dose'\u001b[0m: \u001b[32m'10'\u001b[0m, \u001b[32m'unit'\u001b[0m: \u001b[32m'mg'\u001b[0m, \u001b[32m'dosage_morning'\u001b[0m: \u001b[32m'1'\u001b[0m, \n",
       "\u001b[32m'dosage_noon'\u001b[0m: \u001b[32m'0'\u001b[0m, \u001b[32m'dosage_evening'\u001b[0m: \u001b[32m'0'\u001b[0m, \u001b[32m'dosage_night'\u001b[0m: \u001b[32m'0'\u001b[0m, \u001b[32m'dosage_information'\u001b[0m: \u001b[32m''\u001b[0m\u001b[1m}\u001b[0m, \u001b[1m{\u001b[0m\u001b[32m'patient_id'\u001b[0m: \u001b[32m'5'\u001b[0m, \n",
       "\u001b[32m'medication_name'\u001b[0m: \u001b[32m'Lisinopril'\u001b[0m, \u001b[32m'medication_name_corrected'\u001b[0m: \u001b[32m'Lisinopril \u001b[0m\u001b[32m(\u001b[0m\u001b[32mlisinopril\u001b[0m\u001b[32m)\u001b[0m\u001b[32m'\u001b[0m, \u001b[32m'dose'\u001b[0m: \u001b[32m'30'\u001b[0m, \u001b[32m'unit'\u001b[0m: \n",
       "\u001b[32m'mg'\u001b[0m, \u001b[32m'dosage_morning'\u001b[0m: \u001b[32m'1'\u001b[0m, \u001b[32m'dosage_noon'\u001b[0m: \u001b[32m'0'\u001b[0m, \u001b[32m'dosage_evening'\u001b[0m: \u001b[32m'0'\u001b[0m, \u001b[32m'dosage_night'\u001b[0m: \u001b[32m'0'\u001b[0m, \u001b[32m'dosage_information'\u001b[0m: \n",
       "\u001b[32m''\u001b[0m\u001b[1m}\u001b[0m, \u001b[1m{\u001b[0m\u001b[32m'patient_id'\u001b[0m: \u001b[32m'5'\u001b[0m, \u001b[32m'medication_name'\u001b[0m: \u001b[32m'Torasemid'\u001b[0m, \u001b[32m'medication_name_corrected'\u001b[0m: \u001b[32m'Torasemid \u001b[0m\u001b[32m(\u001b[0m\u001b[32mtorasemide\u001b[0m\u001b[32m)\u001b[0m\u001b[32m'\u001b[0m, \n",
       "\u001b[32m'dose'\u001b[0m: \u001b[32m'10'\u001b[0m, \u001b[32m'unit'\u001b[0m: \u001b[32m'mg'\u001b[0m, \u001b[32m'dosage_morning'\u001b[0m: \u001b[32m'1'\u001b[0m, \u001b[32m'dosage_noon'\u001b[0m: \u001b[32m'0'\u001b[0m, \u001b[32m'dosage_evening'\u001b[0m: \u001b[32m'0'\u001b[0m, \u001b[32m'dosage_night'\u001b[0m: \u001b[32m'0'\u001b[0m, \n",
       "\u001b[32m'dosage_information'\u001b[0m: \u001b[32m''\u001b[0m\u001b[1m}\u001b[0m, \u001b[1m{\u001b[0m\u001b[32m'patient_id'\u001b[0m: \u001b[32m'5'\u001b[0m, \u001b[32m'medication_name'\u001b[0m: \u001b[32m'Midazolam'\u001b[0m, \u001b[32m'medication_name_corrected'\u001b[0m: \n",
       "\u001b[32m'Midazolam \u001b[0m\u001b[32m(\u001b[0m\u001b[32mmidazolam\u001b[0m\u001b[32m)\u001b[0m\u001b[32m'\u001b[0m, \u001b[32m'dose'\u001b[0m: \u001b[32m''\u001b[0m, \u001b[32m'unit'\u001b[0m: \u001b[32m''\u001b[0m, \u001b[32m'dosage_morning'\u001b[0m: \u001b[32m'0'\u001b[0m, \u001b[32m'dosage_noon'\u001b[0m: \u001b[32m'0'\u001b[0m, \u001b[32m'dosage_evening'\u001b[0m: \u001b[32m'0'\u001b[0m, \n",
       "\u001b[32m'dosage_night'\u001b[0m: \u001b[32m'0'\u001b[0m, \u001b[32m'dosage_information'\u001b[0m: \u001b[32m'b.B.'\u001b[0m\u001b[1m}\u001b[0m, \u001b[1m{\u001b[0m\u001b[32m'patient_id'\u001b[0m: \u001b[32m'5'\u001b[0m, \u001b[32m'medication_name'\u001b[0m: \u001b[32m'Simvastatin'\u001b[0m, \n",
       "\u001b[32m'medication_name_corrected'\u001b[0m: \u001b[32m'Simvastatin \u001b[0m\u001b[32m(\u001b[0m\u001b[32msimvastatin\u001b[0m\u001b[32m)\u001b[0m\u001b[32m'\u001b[0m, \u001b[32m'dose'\u001b[0m: \u001b[32m'20'\u001b[0m, \u001b[32m'unit'\u001b[0m: \u001b[32m'mg'\u001b[0m, \u001b[32m'dosage_morning'\u001b[0m: \u001b[32m'0'\u001b[0m, \n",
       "\u001b[32m'dosage_noon'\u001b[0m: \u001b[32m'0'\u001b[0m, \u001b[32m'dosage_evening'\u001b[0m: \u001b[32m'1'\u001b[0m, \u001b[32m'dosage_night'\u001b[0m: \u001b[32m'0'\u001b[0m, \u001b[32m'dosage_information'\u001b[0m: \u001b[32m''\u001b[0m\u001b[1m}\u001b[0m, \u001b[1m{\u001b[0m\u001b[32m'patient_id'\u001b[0m: \u001b[32m'5'\u001b[0m, \n",
       "\u001b[32m'medication_name'\u001b[0m: \u001b[32m'PipTaz'\u001b[0m, \u001b[32m'medication_name_corrected'\u001b[0m: \u001b[32m'PipTaz \u001b[0m\u001b[32m(\u001b[0m\u001b[32mpiperacillin/tazobactam\u001b[0m\u001b[32m)\u001b[0m\u001b[32m'\u001b[0m, \u001b[32m'dose'\u001b[0m: \u001b[32m'4.5'\u001b[0m, \n",
       "\u001b[32m'unit'\u001b[0m: \u001b[32m'g'\u001b[0m, \u001b[32m'dosage_morning'\u001b[0m: \u001b[32m'1'\u001b[0m, \u001b[32m'dosage_noon'\u001b[0m: \u001b[32m'1'\u001b[0m, \u001b[32m'dosage_evening'\u001b[0m: \u001b[32m'1'\u001b[0m, \u001b[32m'dosage_night'\u001b[0m: \u001b[32m'1'\u001b[0m, \n",
       "\u001b[32m'dosage_information'\u001b[0m: \u001b[32m''\u001b[0m\u001b[1m}\u001b[0m\u001b[1m]\u001b[0m\n"
      ]
     },
     "metadata": {},
     "output_type": "display_data"
    },
    {
     "data": {
      "text/html": [
       "<pre style=\"white-space:pre;overflow-x:auto;line-height:normal;font-family:Menlo,'DejaVu Sans Mono',consolas,'Courier New',monospace\"><span style=\"color: #7f7f7f; text-decoration-color: #7f7f7f\">[Step 1: Duration 5.26 seconds| Input tokens: 2,030 | Output tokens: 528]</span>\n",
       "</pre>\n"
      ],
      "text/plain": [
       "\u001b[2m[Step 1: Duration 5.26 seconds| Input tokens: 2,030 | Output tokens: 528]\u001b[0m\n"
      ]
     },
     "metadata": {},
     "output_type": "display_data"
    },
    {
     "data": {
      "text/html": [
       "<pre style=\"white-space:pre;overflow-x:auto;line-height:normal;font-family:Menlo,'DejaVu Sans Mono',consolas,'Courier New',monospace\"><span style=\"color: #d4b702; text-decoration-color: #d4b702\">━━━━━━━━━━━━━━━━━━━━━━━━━━━━━━━━━━━━━━━━━━━━━━━━━━━━━ </span><span style=\"font-weight: bold\">Step </span><span style=\"color: #008080; text-decoration-color: #008080; font-weight: bold\">2</span><span style=\"color: #d4b702; text-decoration-color: #d4b702\"> ━━━━━━━━━━━━━━━━━━━━━━━━━━━━━━━━━━━━━━━━━━━━━━━━━━━━━━</span>\n",
       "</pre>\n"
      ],
      "text/plain": [
       "\u001b[38;2;212;183;2m━━━━━━━━━━━━━━━━━━━━━━━━━━━━━━━━━━━━━━━━━━━━━━━━━━━━━ \u001b[0m\u001b[1mStep \u001b[0m\u001b[1;36m2\u001b[0m\u001b[38;2;212;183;2m ━━━━━━━━━━━━━━━━━━━━━━━━━━━━━━━━━━━━━━━━━━━━━━━━━━━━━━\u001b[0m\n"
      ]
     },
     "metadata": {},
     "output_type": "display_data"
    },
    {
     "data": {
      "text/html": [
       "<pre style=\"white-space:pre;overflow-x:auto;line-height:normal;font-family:Menlo,'DejaVu Sans Mono',consolas,'Courier New',monospace\">╭─────────────────────────────────────────────────────────────────────────────────────────────────────────────────╮\n",
       "│ Calling tool: 'get_rxcui' with arguments: {'medication_names': ['Amlodipin (amlodipine)', 'Bisoprolol           │\n",
       "│ (bisoprolol)', 'Lisinopril (lisinopril)', 'Torasemid (torasemide)', 'Midazolam (midazolam)', 'Simvastatin       │\n",
       "│ (simvastatin)', 'PipTaz (piperacillin/tazobactam)']}                                                            │\n",
       "╰─────────────────────────────────────────────────────────────────────────────────────────────────────────────────╯\n",
       "</pre>\n"
      ],
      "text/plain": [
       "╭─────────────────────────────────────────────────────────────────────────────────────────────────────────────────╮\n",
       "│ Calling tool: 'get_rxcui' with arguments: {'medication_names': ['Amlodipin (amlodipine)', 'Bisoprolol           │\n",
       "│ (bisoprolol)', 'Lisinopril (lisinopril)', 'Torasemid (torasemide)', 'Midazolam (midazolam)', 'Simvastatin       │\n",
       "│ (simvastatin)', 'PipTaz (piperacillin/tazobactam)']}                                                            │\n",
       "╰─────────────────────────────────────────────────────────────────────────────────────────────────────────────────╯\n"
      ]
     },
     "metadata": {},
     "output_type": "display_data"
    },
    {
     "data": {
      "text/html": [
       "<pre style=\"white-space:pre;overflow-x:auto;line-height:normal;font-family:Menlo,'DejaVu Sans Mono',consolas,'Courier New',monospace\">Observations: <span style=\"font-weight: bold\">{</span><span style=\"color: #008000; text-decoration-color: #008000\">'Amlodipin (amlodipine)'</span>: <span style=\"font-weight: bold\">{</span><span style=\"color: #008000; text-decoration-color: #008000\">'17767'</span>: |<span style=\"color: #008000; text-decoration-color: #008000\">'GS'</span>, <span style=\"color: #008000; text-decoration-color: #008000\">'RXNORM'</span>, <span style=\"color: #008000; text-decoration-color: #008000\">'VANDF'</span>, <span style=\"color: #008000; text-decoration-color: #008000\">'MMSL'</span>, <span style=\"color: #008000; text-decoration-color: #008000\">'NDDF'</span>, <span style=\"color: #008000; text-decoration-color: #008000\">'ATC'</span>, <span style=\"color: #008000; text-decoration-color: #008000\">'MMSL'</span>, \n",
       "<span style=\"color: #008000; text-decoration-color: #008000\">'DRUGBANK'</span><span style=\"font-weight: bold\">]}</span>, <span style=\"color: #008000; text-decoration-color: #008000\">'Bisoprolol (bisoprolol)'</span>: <span style=\"font-weight: bold\">{</span><span style=\"color: #008000; text-decoration-color: #008000\">'19484'</span>: |<span style=\"color: #008000; text-decoration-color: #008000\">'GS'</span>, <span style=\"color: #008000; text-decoration-color: #008000\">'RXNORM'</span>, <span style=\"color: #008000; text-decoration-color: #008000\">'VANDF'</span>, <span style=\"color: #008000; text-decoration-color: #008000\">'NDDF'</span>, <span style=\"color: #008000; text-decoration-color: #008000\">'ATC'</span>, <span style=\"color: #008000; text-decoration-color: #008000\">'DRUGBANK'</span><span style=\"font-weight: bold\">]}</span>, \n",
       "<span style=\"color: #008000; text-decoration-color: #008000\">'Lisinopril (lisinopril)'</span>: <span style=\"font-weight: bold\">{</span><span style=\"color: #008000; text-decoration-color: #008000\">'29046'</span>: |<span style=\"color: #008000; text-decoration-color: #008000\">'USP'</span>, <span style=\"color: #008000; text-decoration-color: #008000\">'GS'</span>, <span style=\"color: #008000; text-decoration-color: #008000\">'RXNORM'</span>, <span style=\"color: #008000; text-decoration-color: #008000\">'VANDF'</span>, <span style=\"color: #008000; text-decoration-color: #008000\">'NDDF'</span>, <span style=\"color: #008000; text-decoration-color: #008000\">'MMSL'</span>, <span style=\"color: #008000; text-decoration-color: #008000\">'MMSL'</span>, <span style=\"color: #008000; text-decoration-color: #008000\">'ATC'</span>, <span style=\"color: #008000; text-decoration-color: #008000\">'DRUGBANK'</span><span style=\"font-weight: bold\">]}</span>, \n",
       "<span style=\"color: #008000; text-decoration-color: #008000\">'Torasemid (torasemide)'</span>: <span style=\"font-weight: bold\">{</span><span style=\"color: #008000; text-decoration-color: #008000\">'38413'</span>: |<span style=\"color: #008000; text-decoration-color: #008000\">'ATC'</span>, <span style=\"color: #008000; text-decoration-color: #008000\">'DRUGBANK'</span><span style=\"font-weight: bold\">]}</span>, <span style=\"color: #008000; text-decoration-color: #008000\">'Midazolam (midazolam)'</span>: <span style=\"font-weight: bold\">{</span><span style=\"color: #008000; text-decoration-color: #008000\">'6960'</span>: |<span style=\"color: #008000; text-decoration-color: #008000\">'USP'</span>, <span style=\"color: #008000; text-decoration-color: #008000\">'GS'</span>, <span style=\"color: #008000; text-decoration-color: #008000\">'RXNORM'</span>,\n",
       "<span style=\"color: #008000; text-decoration-color: #008000\">'VANDF'</span>, <span style=\"color: #008000; text-decoration-color: #008000\">'MMSL'</span>, <span style=\"color: #008000; text-decoration-color: #008000\">'MMSL'</span>, <span style=\"color: #008000; text-decoration-color: #008000\">'NDDF'</span>, <span style=\"color: #008000; text-decoration-color: #008000\">'ATC'</span>, <span style=\"color: #008000; text-decoration-color: #008000\">'DRUGBANK'</span><span style=\"font-weight: bold\">]}</span>, <span style=\"color: #008000; text-decoration-color: #008000\">'Simvastatin (simvastatin)'</span>: <span style=\"font-weight: bold\">{</span><span style=\"color: #008000; text-decoration-color: #008000\">'36567'</span>: |<span style=\"color: #008000; text-decoration-color: #008000\">'USP'</span>, <span style=\"color: #008000; text-decoration-color: #008000\">'GS'</span>, \n",
       "<span style=\"color: #008000; text-decoration-color: #008000\">'RXNORM'</span>, <span style=\"color: #008000; text-decoration-color: #008000\">'VANDF'</span>, <span style=\"color: #008000; text-decoration-color: #008000\">'MMSL'</span>, <span style=\"color: #008000; text-decoration-color: #008000\">'NDDF'</span>, <span style=\"color: #008000; text-decoration-color: #008000\">'MMSL'</span>, <span style=\"color: #008000; text-decoration-color: #008000\">'ATC'</span>, <span style=\"color: #008000; text-decoration-color: #008000\">'DRUGBANK'</span><span style=\"font-weight: bold\">]}</span>, <span style=\"color: #008000; text-decoration-color: #008000\">'PipTaz (piperacillin/tazobactam)'</span>: <span style=\"font-weight: bold\">{</span><span style=\"color: #008000; text-decoration-color: #008000\">'74169'</span>: \n",
       "|<span style=\"color: #008000; text-decoration-color: #008000\">'RXNORM'</span>, <span style=\"color: #008000; text-decoration-color: #008000\">'VANDF'</span>, <span style=\"color: #008000; text-decoration-color: #008000\">'MMSL'</span><span style=\"font-weight: bold\">]}}</span>\n",
       "</pre>\n"
      ],
      "text/plain": [
       "Observations: \u001b[1m{\u001b[0m\u001b[32m'Amlodipin \u001b[0m\u001b[32m(\u001b[0m\u001b[32mamlodipine\u001b[0m\u001b[32m)\u001b[0m\u001b[32m'\u001b[0m: \u001b[1m{\u001b[0m\u001b[32m'17767'\u001b[0m: |\u001b[32m'GS'\u001b[0m, \u001b[32m'RXNORM'\u001b[0m, \u001b[32m'VANDF'\u001b[0m, \u001b[32m'MMSL'\u001b[0m, \u001b[32m'NDDF'\u001b[0m, \u001b[32m'ATC'\u001b[0m, \u001b[32m'MMSL'\u001b[0m, \n",
       "\u001b[32m'DRUGBANK'\u001b[0m\u001b[1m]\u001b[0m\u001b[1m}\u001b[0m, \u001b[32m'Bisoprolol \u001b[0m\u001b[32m(\u001b[0m\u001b[32mbisoprolol\u001b[0m\u001b[32m)\u001b[0m\u001b[32m'\u001b[0m: \u001b[1m{\u001b[0m\u001b[32m'19484'\u001b[0m: |\u001b[32m'GS'\u001b[0m, \u001b[32m'RXNORM'\u001b[0m, \u001b[32m'VANDF'\u001b[0m, \u001b[32m'NDDF'\u001b[0m, \u001b[32m'ATC'\u001b[0m, \u001b[32m'DRUGBANK'\u001b[0m\u001b[1m]\u001b[0m\u001b[1m}\u001b[0m, \n",
       "\u001b[32m'Lisinopril \u001b[0m\u001b[32m(\u001b[0m\u001b[32mlisinopril\u001b[0m\u001b[32m)\u001b[0m\u001b[32m'\u001b[0m: \u001b[1m{\u001b[0m\u001b[32m'29046'\u001b[0m: |\u001b[32m'USP'\u001b[0m, \u001b[32m'GS'\u001b[0m, \u001b[32m'RXNORM'\u001b[0m, \u001b[32m'VANDF'\u001b[0m, \u001b[32m'NDDF'\u001b[0m, \u001b[32m'MMSL'\u001b[0m, \u001b[32m'MMSL'\u001b[0m, \u001b[32m'ATC'\u001b[0m, \u001b[32m'DRUGBANK'\u001b[0m\u001b[1m]\u001b[0m\u001b[1m}\u001b[0m, \n",
       "\u001b[32m'Torasemid \u001b[0m\u001b[32m(\u001b[0m\u001b[32mtorasemide\u001b[0m\u001b[32m)\u001b[0m\u001b[32m'\u001b[0m: \u001b[1m{\u001b[0m\u001b[32m'38413'\u001b[0m: |\u001b[32m'ATC'\u001b[0m, \u001b[32m'DRUGBANK'\u001b[0m\u001b[1m]\u001b[0m\u001b[1m}\u001b[0m, \u001b[32m'Midazolam \u001b[0m\u001b[32m(\u001b[0m\u001b[32mmidazolam\u001b[0m\u001b[32m)\u001b[0m\u001b[32m'\u001b[0m: \u001b[1m{\u001b[0m\u001b[32m'6960'\u001b[0m: |\u001b[32m'USP'\u001b[0m, \u001b[32m'GS'\u001b[0m, \u001b[32m'RXNORM'\u001b[0m,\n",
       "\u001b[32m'VANDF'\u001b[0m, \u001b[32m'MMSL'\u001b[0m, \u001b[32m'MMSL'\u001b[0m, \u001b[32m'NDDF'\u001b[0m, \u001b[32m'ATC'\u001b[0m, \u001b[32m'DRUGBANK'\u001b[0m\u001b[1m]\u001b[0m\u001b[1m}\u001b[0m, \u001b[32m'Simvastatin \u001b[0m\u001b[32m(\u001b[0m\u001b[32msimvastatin\u001b[0m\u001b[32m)\u001b[0m\u001b[32m'\u001b[0m: \u001b[1m{\u001b[0m\u001b[32m'36567'\u001b[0m: |\u001b[32m'USP'\u001b[0m, \u001b[32m'GS'\u001b[0m, \n",
       "\u001b[32m'RXNORM'\u001b[0m, \u001b[32m'VANDF'\u001b[0m, \u001b[32m'MMSL'\u001b[0m, \u001b[32m'NDDF'\u001b[0m, \u001b[32m'MMSL'\u001b[0m, \u001b[32m'ATC'\u001b[0m, \u001b[32m'DRUGBANK'\u001b[0m\u001b[1m]\u001b[0m\u001b[1m}\u001b[0m, \u001b[32m'PipTaz \u001b[0m\u001b[32m(\u001b[0m\u001b[32mpiperacillin/tazobactam\u001b[0m\u001b[32m)\u001b[0m\u001b[32m'\u001b[0m: \u001b[1m{\u001b[0m\u001b[32m'74169'\u001b[0m: \n",
       "|\u001b[32m'RXNORM'\u001b[0m, \u001b[32m'VANDF'\u001b[0m, \u001b[32m'MMSL'\u001b[0m\u001b[1m]\u001b[0m\u001b[1m}\u001b[0m\u001b[1m}\u001b[0m\n"
      ]
     },
     "metadata": {},
     "output_type": "display_data"
    },
    {
     "data": {
      "text/html": [
       "<pre style=\"white-space:pre;overflow-x:auto;line-height:normal;font-family:Menlo,'DejaVu Sans Mono',consolas,'Courier New',monospace\"><span style=\"color: #7f7f7f; text-decoration-color: #7f7f7f\">[Step 2: Duration 2.94 seconds| Input tokens: 5,422 | Output tokens: 624]</span>\n",
       "</pre>\n"
      ],
      "text/plain": [
       "\u001b[2m[Step 2: Duration 2.94 seconds| Input tokens: 5,422 | Output tokens: 624]\u001b[0m\n"
      ]
     },
     "metadata": {},
     "output_type": "display_data"
    },
    {
     "data": {
      "text/html": [
       "<pre style=\"white-space:pre;overflow-x:auto;line-height:normal;font-family:Menlo,'DejaVu Sans Mono',consolas,'Courier New',monospace\"><span style=\"color: #d4b702; text-decoration-color: #d4b702\">━━━━━━━━━━━━━━━━━━━━━━━━━━━━━━━━━━━━━━━━━━━━━━━━━━━━━ </span><span style=\"font-weight: bold\">Step </span><span style=\"color: #008080; text-decoration-color: #008080; font-weight: bold\">3</span><span style=\"color: #d4b702; text-decoration-color: #d4b702\"> ━━━━━━━━━━━━━━━━━━━━━━━━━━━━━━━━━━━━━━━━━━━━━━━━━━━━━━</span>\n",
       "</pre>\n"
      ],
      "text/plain": [
       "\u001b[38;2;212;183;2m━━━━━━━━━━━━━━━━━━━━━━━━━━━━━━━━━━━━━━━━━━━━━━━━━━━━━ \u001b[0m\u001b[1mStep \u001b[0m\u001b[1;36m3\u001b[0m\u001b[38;2;212;183;2m ━━━━━━━━━━━━━━━━━━━━━━━━━━━━━━━━━━━━━━━━━━━━━━━━━━━━━━\u001b[0m\n"
      ]
     },
     "metadata": {},
     "output_type": "display_data"
    },
    {
     "data": {
      "text/html": [
       "<pre style=\"white-space:pre;overflow-x:auto;line-height:normal;font-family:Menlo,'DejaVu Sans Mono',consolas,'Courier New',monospace\">╭─────────────────────────────────────────────────────────────────────────────────────────────────────────────────╮\n",
       "│ Calling tool: 'get_atc' with arguments: {'rxcuis': ['17767']}                                                   │\n",
       "╰─────────────────────────────────────────────────────────────────────────────────────────────────────────────────╯\n",
       "</pre>\n"
      ],
      "text/plain": [
       "╭─────────────────────────────────────────────────────────────────────────────────────────────────────────────────╮\n",
       "│ Calling tool: 'get_atc' with arguments: {'rxcuis': ['17767']}                                                   │\n",
       "╰─────────────────────────────────────────────────────────────────────────────────────────────────────────────────╯\n"
      ]
     },
     "metadata": {},
     "output_type": "display_data"
    },
    {
     "data": {
      "text/html": [
       "<pre style=\"white-space:pre;overflow-x:auto;line-height:normal;font-family:Menlo,'DejaVu Sans Mono',consolas,'Courier New',monospace\">Observations: <span style=\"font-weight: bold\">{</span><span style=\"color: #008000; text-decoration-color: #008000\">'17767'</span>: <span style=\"font-weight: bold\">{</span><span style=\"color: #008000; text-decoration-color: #008000\">'atc_id'</span>: <span style=\"color: #008000; text-decoration-color: #008000\">'C09DX'</span>, <span style=\"color: #008000; text-decoration-color: #008000\">'atc_name'</span>: <span style=\"color: #008000; text-decoration-color: #008000\">'Angiotensin II receptor blockers (ARBs), other </span>\n",
       "<span style=\"color: #008000; text-decoration-color: #008000\">combinations'</span>, <span style=\"color: #008000; text-decoration-color: #008000\">'atc_type'</span>: <span style=\"color: #008000; text-decoration-color: #008000\">'ATC1-4'</span><span style=\"font-weight: bold\">}}</span>\n",
       "</pre>\n"
      ],
      "text/plain": [
       "Observations: \u001b[1m{\u001b[0m\u001b[32m'17767'\u001b[0m: \u001b[1m{\u001b[0m\u001b[32m'atc_id'\u001b[0m: \u001b[32m'C09DX'\u001b[0m, \u001b[32m'atc_name'\u001b[0m: \u001b[32m'Angiotensin II receptor blockers \u001b[0m\u001b[32m(\u001b[0m\u001b[32mARBs\u001b[0m\u001b[32m)\u001b[0m\u001b[32m, other \u001b[0m\n",
       "\u001b[32mcombinations'\u001b[0m, \u001b[32m'atc_type'\u001b[0m: \u001b[32m'ATC1-4'\u001b[0m\u001b[1m}\u001b[0m\u001b[1m}\u001b[0m\n"
      ]
     },
     "metadata": {},
     "output_type": "display_data"
    },
    {
     "data": {
      "text/html": [
       "<pre style=\"white-space:pre;overflow-x:auto;line-height:normal;font-family:Menlo,'DejaVu Sans Mono',consolas,'Courier New',monospace\"><span style=\"color: #7f7f7f; text-decoration-color: #7f7f7f\">[Step 3: Duration 2.74 seconds| Input tokens: 9,300 | Output tokens: 774]</span>\n",
       "</pre>\n"
      ],
      "text/plain": [
       "\u001b[2m[Step 3: Duration 2.74 seconds| Input tokens: 9,300 | Output tokens: 774]\u001b[0m\n"
      ]
     },
     "metadata": {},
     "output_type": "display_data"
    },
    {
     "data": {
      "text/html": [
       "<pre style=\"white-space:pre;overflow-x:auto;line-height:normal;font-family:Menlo,'DejaVu Sans Mono',consolas,'Courier New',monospace\"><span style=\"color: #d4b702; text-decoration-color: #d4b702\">━━━━━━━━━━━━━━━━━━━━━━━━━━━━━━━━━━━━━━━━━━━━━━━━━━━━━ </span><span style=\"font-weight: bold\">Step </span><span style=\"color: #008080; text-decoration-color: #008080; font-weight: bold\">4</span><span style=\"color: #d4b702; text-decoration-color: #d4b702\"> ━━━━━━━━━━━━━━━━━━━━━━━━━━━━━━━━━━━━━━━━━━━━━━━━━━━━━━</span>\n",
       "</pre>\n"
      ],
      "text/plain": [
       "\u001b[38;2;212;183;2m━━━━━━━━━━━━━━━━━━━━━━━━━━━━━━━━━━━━━━━━━━━━━━━━━━━━━ \u001b[0m\u001b[1mStep \u001b[0m\u001b[1;36m4\u001b[0m\u001b[38;2;212;183;2m ━━━━━━━━━━━━━━━━━━━━━━━━━━━━━━━━━━━━━━━━━━━━━━━━━━━━━━\u001b[0m\n"
      ]
     },
     "metadata": {},
     "output_type": "display_data"
    },
    {
     "data": {
      "text/html": [
       "<pre style=\"white-space:pre;overflow-x:auto;line-height:normal;font-family:Menlo,'DejaVu Sans Mono',consolas,'Courier New',monospace\">╭─────────────────────────────────────────────────────────────────────────────────────────────────────────────────╮\n",
       "│ Calling tool: 'get_atc' with arguments: {'rxcuis': ['19484']}                                                   │\n",
       "╰─────────────────────────────────────────────────────────────────────────────────────────────────────────────────╯\n",
       "</pre>\n"
      ],
      "text/plain": [
       "╭─────────────────────────────────────────────────────────────────────────────────────────────────────────────────╮\n",
       "│ Calling tool: 'get_atc' with arguments: {'rxcuis': ['19484']}                                                   │\n",
       "╰─────────────────────────────────────────────────────────────────────────────────────────────────────────────────╯\n"
      ]
     },
     "metadata": {},
     "output_type": "display_data"
    },
    {
     "data": {
      "text/html": [
       "<pre style=\"white-space:pre;overflow-x:auto;line-height:normal;font-family:Menlo,'DejaVu Sans Mono',consolas,'Courier New',monospace\">Observations: <span style=\"font-weight: bold\">{</span><span style=\"color: #008000; text-decoration-color: #008000\">'19484'</span>: <span style=\"font-weight: bold\">{</span><span style=\"color: #008000; text-decoration-color: #008000\">'atc_id'</span>: <span style=\"color: #008000; text-decoration-color: #008000\">'C07AB'</span>, <span style=\"color: #008000; text-decoration-color: #008000\">'atc_name'</span>: <span style=\"color: #008000; text-decoration-color: #008000\">'Beta blocking agents, selective'</span>, <span style=\"color: #008000; text-decoration-color: #008000\">'atc_type'</span>: <span style=\"color: #008000; text-decoration-color: #008000\">'ATC1-4'</span><span style=\"font-weight: bold\">}}</span>\n",
       "</pre>\n"
      ],
      "text/plain": [
       "Observations: \u001b[1m{\u001b[0m\u001b[32m'19484'\u001b[0m: \u001b[1m{\u001b[0m\u001b[32m'atc_id'\u001b[0m: \u001b[32m'C07AB'\u001b[0m, \u001b[32m'atc_name'\u001b[0m: \u001b[32m'Beta blocking agents, selective'\u001b[0m, \u001b[32m'atc_type'\u001b[0m: \u001b[32m'ATC1-4'\u001b[0m\u001b[1m}\u001b[0m\u001b[1m}\u001b[0m\n"
      ]
     },
     "metadata": {},
     "output_type": "display_data"
    },
    {
     "data": {
      "text/html": [
       "<pre style=\"white-space:pre;overflow-x:auto;line-height:normal;font-family:Menlo,'DejaVu Sans Mono',consolas,'Courier New',monospace\"><span style=\"color: #7f7f7f; text-decoration-color: #7f7f7f\">[Step 4: Duration 2.46 seconds| Input tokens: 13,311 | Output tokens: 905]</span>\n",
       "</pre>\n"
      ],
      "text/plain": [
       "\u001b[2m[Step 4: Duration 2.46 seconds| Input tokens: 13,311 | Output tokens: 905]\u001b[0m\n"
      ]
     },
     "metadata": {},
     "output_type": "display_data"
    },
    {
     "data": {
      "text/html": [
       "<pre style=\"white-space:pre;overflow-x:auto;line-height:normal;font-family:Menlo,'DejaVu Sans Mono',consolas,'Courier New',monospace\"><span style=\"color: #d4b702; text-decoration-color: #d4b702\">━━━━━━━━━━━━━━━━━━━━━━━━━━━━━━━━━━━━━━━━━━━━━━━━━━━━━ </span><span style=\"font-weight: bold\">Step </span><span style=\"color: #008080; text-decoration-color: #008080; font-weight: bold\">5</span><span style=\"color: #d4b702; text-decoration-color: #d4b702\"> ━━━━━━━━━━━━━━━━━━━━━━━━━━━━━━━━━━━━━━━━━━━━━━━━━━━━━━</span>\n",
       "</pre>\n"
      ],
      "text/plain": [
       "\u001b[38;2;212;183;2m━━━━━━━━━━━━━━━━━━━━━━━━━━━━━━━━━━━━━━━━━━━━━━━━━━━━━ \u001b[0m\u001b[1mStep \u001b[0m\u001b[1;36m5\u001b[0m\u001b[38;2;212;183;2m ━━━━━━━━━━━━━━━━━━━━━━━━━━━━━━━━━━━━━━━━━━━━━━━━━━━━━━\u001b[0m\n"
      ]
     },
     "metadata": {},
     "output_type": "display_data"
    },
    {
     "data": {
      "text/html": [
       "<pre style=\"white-space:pre;overflow-x:auto;line-height:normal;font-family:Menlo,'DejaVu Sans Mono',consolas,'Courier New',monospace\">╭─────────────────────────────────────────────────────────────────────────────────────────────────────────────────╮\n",
       "│ Calling tool: 'get_atc' with arguments: {'rxcuis': ['29046']}                                                   │\n",
       "╰─────────────────────────────────────────────────────────────────────────────────────────────────────────────────╯\n",
       "</pre>\n"
      ],
      "text/plain": [
       "╭─────────────────────────────────────────────────────────────────────────────────────────────────────────────────╮\n",
       "│ Calling tool: 'get_atc' with arguments: {'rxcuis': ['29046']}                                                   │\n",
       "╰─────────────────────────────────────────────────────────────────────────────────────────────────────────────────╯\n"
      ]
     },
     "metadata": {},
     "output_type": "display_data"
    },
    {
     "data": {
      "text/html": [
       "<pre style=\"white-space:pre;overflow-x:auto;line-height:normal;font-family:Menlo,'DejaVu Sans Mono',consolas,'Courier New',monospace\">Observations: <span style=\"font-weight: bold\">{</span><span style=\"color: #008000; text-decoration-color: #008000\">'29046'</span>: <span style=\"font-weight: bold\">{</span><span style=\"color: #008000; text-decoration-color: #008000\">'atc_id'</span>: <span style=\"color: #008000; text-decoration-color: #008000\">'C09AA'</span>, <span style=\"color: #008000; text-decoration-color: #008000\">'atc_name'</span>: <span style=\"color: #008000; text-decoration-color: #008000\">'ACE inhibitors, plain'</span>, <span style=\"color: #008000; text-decoration-color: #008000\">'atc_type'</span>: <span style=\"color: #008000; text-decoration-color: #008000\">'ATC1-4'</span><span style=\"font-weight: bold\">}}</span>\n",
       "</pre>\n"
      ],
      "text/plain": [
       "Observations: \u001b[1m{\u001b[0m\u001b[32m'29046'\u001b[0m: \u001b[1m{\u001b[0m\u001b[32m'atc_id'\u001b[0m: \u001b[32m'C09AA'\u001b[0m, \u001b[32m'atc_name'\u001b[0m: \u001b[32m'ACE inhibitors, plain'\u001b[0m, \u001b[32m'atc_type'\u001b[0m: \u001b[32m'ATC1-4'\u001b[0m\u001b[1m}\u001b[0m\u001b[1m}\u001b[0m\n"
      ]
     },
     "metadata": {},
     "output_type": "display_data"
    },
    {
     "data": {
      "text/html": [
       "<pre style=\"white-space:pre;overflow-x:auto;line-height:normal;font-family:Menlo,'DejaVu Sans Mono',consolas,'Courier New',monospace\"><span style=\"color: #7f7f7f; text-decoration-color: #7f7f7f\">[Step 5: Duration 1.66 seconds| Input tokens: 17,446 | Output tokens: 1,017]</span>\n",
       "</pre>\n"
      ],
      "text/plain": [
       "\u001b[2m[Step 5: Duration 1.66 seconds| Input tokens: 17,446 | Output tokens: 1,017]\u001b[0m\n"
      ]
     },
     "metadata": {},
     "output_type": "display_data"
    },
    {
     "data": {
      "text/html": [
       "<pre style=\"white-space:pre;overflow-x:auto;line-height:normal;font-family:Menlo,'DejaVu Sans Mono',consolas,'Courier New',monospace\"><span style=\"color: #d4b702; text-decoration-color: #d4b702\">━━━━━━━━━━━━━━━━━━━━━━━━━━━━━━━━━━━━━━━━━━━━━━━━━━━━━ </span><span style=\"font-weight: bold\">Step </span><span style=\"color: #008080; text-decoration-color: #008080; font-weight: bold\">6</span><span style=\"color: #d4b702; text-decoration-color: #d4b702\"> ━━━━━━━━━━━━━━━━━━━━━━━━━━━━━━━━━━━━━━━━━━━━━━━━━━━━━━</span>\n",
       "</pre>\n"
      ],
      "text/plain": [
       "\u001b[38;2;212;183;2m━━━━━━━━━━━━━━━━━━━━━━━━━━━━━━━━━━━━━━━━━━━━━━━━━━━━━ \u001b[0m\u001b[1mStep \u001b[0m\u001b[1;36m6\u001b[0m\u001b[38;2;212;183;2m ━━━━━━━━━━━━━━━━━━━━━━━━━━━━━━━━━━━━━━━━━━━━━━━━━━━━━━\u001b[0m\n"
      ]
     },
     "metadata": {},
     "output_type": "display_data"
    },
    {
     "data": {
      "text/html": [
       "<pre style=\"white-space:pre;overflow-x:auto;line-height:normal;font-family:Menlo,'DejaVu Sans Mono',consolas,'Courier New',monospace\">╭─────────────────────────────────────────────────────────────────────────────────────────────────────────────────╮\n",
       "│ Calling tool: 'get_atc' with arguments: {'rxcuis': ['38413']}                                                   │\n",
       "╰─────────────────────────────────────────────────────────────────────────────────────────────────────────────────╯\n",
       "</pre>\n"
      ],
      "text/plain": [
       "╭─────────────────────────────────────────────────────────────────────────────────────────────────────────────────╮\n",
       "│ Calling tool: 'get_atc' with arguments: {'rxcuis': ['38413']}                                                   │\n",
       "╰─────────────────────────────────────────────────────────────────────────────────────────────────────────────────╯\n"
      ]
     },
     "metadata": {},
     "output_type": "display_data"
    },
    {
     "data": {
      "text/html": [
       "<pre style=\"white-space:pre;overflow-x:auto;line-height:normal;font-family:Menlo,'DejaVu Sans Mono',consolas,'Courier New',monospace\">Observations: <span style=\"font-weight: bold\">{</span><span style=\"color: #008000; text-decoration-color: #008000\">'38413'</span>: <span style=\"font-weight: bold\">{</span><span style=\"color: #008000; text-decoration-color: #008000\">'atc_id'</span>: <span style=\"color: #008000; text-decoration-color: #008000\">'C03CA'</span>, <span style=\"color: #008000; text-decoration-color: #008000\">'atc_name'</span>: <span style=\"color: #008000; text-decoration-color: #008000\">'Sulfonamides, plain'</span>, <span style=\"color: #008000; text-decoration-color: #008000\">'atc_type'</span>: <span style=\"color: #008000; text-decoration-color: #008000\">'ATC1-4'</span><span style=\"font-weight: bold\">}}</span>\n",
       "</pre>\n"
      ],
      "text/plain": [
       "Observations: \u001b[1m{\u001b[0m\u001b[32m'38413'\u001b[0m: \u001b[1m{\u001b[0m\u001b[32m'atc_id'\u001b[0m: \u001b[32m'C03CA'\u001b[0m, \u001b[32m'atc_name'\u001b[0m: \u001b[32m'Sulfonamides, plain'\u001b[0m, \u001b[32m'atc_type'\u001b[0m: \u001b[32m'ATC1-4'\u001b[0m\u001b[1m}\u001b[0m\u001b[1m}\u001b[0m\n"
      ]
     },
     "metadata": {},
     "output_type": "display_data"
    },
    {
     "data": {
      "text/html": [
       "<pre style=\"white-space:pre;overflow-x:auto;line-height:normal;font-family:Menlo,'DejaVu Sans Mono',consolas,'Courier New',monospace\"><span style=\"color: #7f7f7f; text-decoration-color: #7f7f7f\">[Step 6: Duration 1.97 seconds| Input tokens: 21,710 | Output tokens: 1,110]</span>\n",
       "</pre>\n"
      ],
      "text/plain": [
       "\u001b[2m[Step 6: Duration 1.97 seconds| Input tokens: 21,710 | Output tokens: 1,110]\u001b[0m\n"
      ]
     },
     "metadata": {},
     "output_type": "display_data"
    },
    {
     "data": {
      "text/html": [
       "<pre style=\"white-space:pre;overflow-x:auto;line-height:normal;font-family:Menlo,'DejaVu Sans Mono',consolas,'Courier New',monospace\"><span style=\"color: #d4b702; text-decoration-color: #d4b702\">━━━━━━━━━━━━━━━━━━━━━━━━━━━━━━━━━━━━━━━━━━━━━━━━━━━━━ </span><span style=\"font-weight: bold\">Step </span><span style=\"color: #008080; text-decoration-color: #008080; font-weight: bold\">7</span><span style=\"color: #d4b702; text-decoration-color: #d4b702\"> ━━━━━━━━━━━━━━━━━━━━━━━━━━━━━━━━━━━━━━━━━━━━━━━━━━━━━━</span>\n",
       "</pre>\n"
      ],
      "text/plain": [
       "\u001b[38;2;212;183;2m━━━━━━━━━━━━━━━━━━━━━━━━━━━━━━━━━━━━━━━━━━━━━━━━━━━━━ \u001b[0m\u001b[1mStep \u001b[0m\u001b[1;36m7\u001b[0m\u001b[38;2;212;183;2m ━━━━━━━━━━━━━━━━━━━━━━━━━━━━━━━━━━━━━━━━━━━━━━━━━━━━━━\u001b[0m\n"
      ]
     },
     "metadata": {},
     "output_type": "display_data"
    },
    {
     "data": {
      "text/html": [
       "<pre style=\"white-space:pre;overflow-x:auto;line-height:normal;font-family:Menlo,'DejaVu Sans Mono',consolas,'Courier New',monospace\">╭─────────────────────────────────────────────────────────────────────────────────────────────────────────────────╮\n",
       "│ Calling tool: 'get_atc' with arguments: {'rxcuis': ['6960']}                                                    │\n",
       "╰─────────────────────────────────────────────────────────────────────────────────────────────────────────────────╯\n",
       "</pre>\n"
      ],
      "text/plain": [
       "╭─────────────────────────────────────────────────────────────────────────────────────────────────────────────────╮\n",
       "│ Calling tool: 'get_atc' with arguments: {'rxcuis': ['6960']}                                                    │\n",
       "╰─────────────────────────────────────────────────────────────────────────────────────────────────────────────────╯\n"
      ]
     },
     "metadata": {},
     "output_type": "display_data"
    },
    {
     "data": {
      "text/html": [
       "<pre style=\"white-space:pre;overflow-x:auto;line-height:normal;font-family:Menlo,'DejaVu Sans Mono',consolas,'Courier New',monospace\">Observations: <span style=\"font-weight: bold\">{</span><span style=\"color: #008000; text-decoration-color: #008000\">'6960'</span>: <span style=\"font-weight: bold\">{</span><span style=\"color: #008000; text-decoration-color: #008000\">'atc_id'</span>: <span style=\"color: #008000; text-decoration-color: #008000\">'N05CD'</span>, <span style=\"color: #008000; text-decoration-color: #008000\">'atc_name'</span>: <span style=\"color: #008000; text-decoration-color: #008000\">'Benzodiazepine derivatives'</span>, <span style=\"color: #008000; text-decoration-color: #008000\">'atc_type'</span>: <span style=\"color: #008000; text-decoration-color: #008000\">'ATC1-4'</span><span style=\"font-weight: bold\">}}</span>\n",
       "</pre>\n"
      ],
      "text/plain": [
       "Observations: \u001b[1m{\u001b[0m\u001b[32m'6960'\u001b[0m: \u001b[1m{\u001b[0m\u001b[32m'atc_id'\u001b[0m: \u001b[32m'N05CD'\u001b[0m, \u001b[32m'atc_name'\u001b[0m: \u001b[32m'Benzodiazepine derivatives'\u001b[0m, \u001b[32m'atc_type'\u001b[0m: \u001b[32m'ATC1-4'\u001b[0m\u001b[1m}\u001b[0m\u001b[1m}\u001b[0m\n"
      ]
     },
     "metadata": {},
     "output_type": "display_data"
    },
    {
     "data": {
      "text/html": [
       "<pre style=\"white-space:pre;overflow-x:auto;line-height:normal;font-family:Menlo,'DejaVu Sans Mono',consolas,'Courier New',monospace\"><span style=\"color: #7f7f7f; text-decoration-color: #7f7f7f\">[Step 7: Duration 46.09 seconds| Input tokens: 26,105 | Output tokens: 1,184]</span>\n",
       "</pre>\n"
      ],
      "text/plain": [
       "\u001b[2m[Step 7: Duration 46.09 seconds| Input tokens: 26,105 | Output tokens: 1,184]\u001b[0m\n"
      ]
     },
     "metadata": {},
     "output_type": "display_data"
    },
    {
     "data": {
      "text/html": [
       "<pre style=\"white-space:pre;overflow-x:auto;line-height:normal;font-family:Menlo,'DejaVu Sans Mono',consolas,'Courier New',monospace\"><span style=\"color: #d4b702; text-decoration-color: #d4b702\">━━━━━━━━━━━━━━━━━━━━━━━━━━━━━━━━━━━━━━━━━━━━━━━━━━━━━ </span><span style=\"font-weight: bold\">Step </span><span style=\"color: #008080; text-decoration-color: #008080; font-weight: bold\">8</span><span style=\"color: #d4b702; text-decoration-color: #d4b702\"> ━━━━━━━━━━━━━━━━━━━━━━━━━━━━━━━━━━━━━━━━━━━━━━━━━━━━━━</span>\n",
       "</pre>\n"
      ],
      "text/plain": [
       "\u001b[38;2;212;183;2m━━━━━━━━━━━━━━━━━━━━━━━━━━━━━━━━━━━━━━━━━━━━━━━━━━━━━ \u001b[0m\u001b[1mStep \u001b[0m\u001b[1;36m8\u001b[0m\u001b[38;2;212;183;2m ━━━━━━━━━━━━━━━━━━━━━━━━━━━━━━━━━━━━━━━━━━━━━━━━━━━━━━\u001b[0m\n"
      ]
     },
     "metadata": {},
     "output_type": "display_data"
    },
    {
     "data": {
      "text/html": [
       "<pre style=\"white-space:pre;overflow-x:auto;line-height:normal;font-family:Menlo,'DejaVu Sans Mono',consolas,'Courier New',monospace\">╭─────────────────────────────────────────────────────────────────────────────────────────────────────────────────╮\n",
       "│ Calling tool: 'get_atc' with arguments: {'rxcuis': ['36567']}                                                   │\n",
       "╰─────────────────────────────────────────────────────────────────────────────────────────────────────────────────╯\n",
       "</pre>\n"
      ],
      "text/plain": [
       "╭─────────────────────────────────────────────────────────────────────────────────────────────────────────────────╮\n",
       "│ Calling tool: 'get_atc' with arguments: {'rxcuis': ['36567']}                                                   │\n",
       "╰─────────────────────────────────────────────────────────────────────────────────────────────────────────────────╯\n"
      ]
     },
     "metadata": {},
     "output_type": "display_data"
    },
    {
     "data": {
      "text/html": [
       "<pre style=\"white-space:pre;overflow-x:auto;line-height:normal;font-family:Menlo,'DejaVu Sans Mono',consolas,'Courier New',monospace\">Observations: <span style=\"font-weight: bold\">{</span><span style=\"color: #008000; text-decoration-color: #008000\">'36567'</span>: <span style=\"font-weight: bold\">{</span><span style=\"color: #008000; text-decoration-color: #008000\">'atc_id'</span>: <span style=\"color: #008000; text-decoration-color: #008000\">'C10AA'</span>, <span style=\"color: #008000; text-decoration-color: #008000\">'atc_name'</span>: <span style=\"color: #008000; text-decoration-color: #008000\">'HMG CoA reductase inhibitors'</span>, <span style=\"color: #008000; text-decoration-color: #008000\">'atc_type'</span>: <span style=\"color: #008000; text-decoration-color: #008000\">'ATC1-4'</span><span style=\"font-weight: bold\">}}</span>\n",
       "</pre>\n"
      ],
      "text/plain": [
       "Observations: \u001b[1m{\u001b[0m\u001b[32m'36567'\u001b[0m: \u001b[1m{\u001b[0m\u001b[32m'atc_id'\u001b[0m: \u001b[32m'C10AA'\u001b[0m, \u001b[32m'atc_name'\u001b[0m: \u001b[32m'HMG CoA reductase inhibitors'\u001b[0m, \u001b[32m'atc_type'\u001b[0m: \u001b[32m'ATC1-4'\u001b[0m\u001b[1m}\u001b[0m\u001b[1m}\u001b[0m\n"
      ]
     },
     "metadata": {},
     "output_type": "display_data"
    },
    {
     "data": {
      "text/html": [
       "<pre style=\"white-space:pre;overflow-x:auto;line-height:normal;font-family:Menlo,'DejaVu Sans Mono',consolas,'Courier New',monospace\"><span style=\"color: #7f7f7f; text-decoration-color: #7f7f7f\">[Step 8: Duration 1.25 seconds| Input tokens: 30,629 | Output tokens: 1,239]</span>\n",
       "</pre>\n"
      ],
      "text/plain": [
       "\u001b[2m[Step 8: Duration 1.25 seconds| Input tokens: 30,629 | Output tokens: 1,239]\u001b[0m\n"
      ]
     },
     "metadata": {},
     "output_type": "display_data"
    },
    {
     "data": {
      "text/html": [
       "<pre style=\"white-space:pre;overflow-x:auto;line-height:normal;font-family:Menlo,'DejaVu Sans Mono',consolas,'Courier New',monospace\"><span style=\"color: #d4b702; text-decoration-color: #d4b702\">━━━━━━━━━━━━━━━━━━━━━━━━━━━━━━━━━━━━━━━━━━━━━━━━━━━━━ </span><span style=\"font-weight: bold\">Step </span><span style=\"color: #008080; text-decoration-color: #008080; font-weight: bold\">9</span><span style=\"color: #d4b702; text-decoration-color: #d4b702\"> ━━━━━━━━━━━━━━━━━━━━━━━━━━━━━━━━━━━━━━━━━━━━━━━━━━━━━━</span>\n",
       "</pre>\n"
      ],
      "text/plain": [
       "\u001b[38;2;212;183;2m━━━━━━━━━━━━━━━━━━━━━━━━━━━━━━━━━━━━━━━━━━━━━━━━━━━━━ \u001b[0m\u001b[1mStep \u001b[0m\u001b[1;36m9\u001b[0m\u001b[38;2;212;183;2m ━━━━━━━━━━━━━━━━━━━━━━━━━━━━━━━━━━━━━━━━━━━━━━━━━━━━━━\u001b[0m\n"
      ]
     },
     "metadata": {},
     "output_type": "display_data"
    },
    {
     "data": {
      "text/html": [
       "<pre style=\"white-space:pre;overflow-x:auto;line-height:normal;font-family:Menlo,'DejaVu Sans Mono',consolas,'Courier New',monospace\">╭─────────────────────────────────────────────────────────────────────────────────────────────────────────────────╮\n",
       "│ Calling tool: 'get_atc' with arguments: {'rxcuis': ['74169']}                                                   │\n",
       "╰─────────────────────────────────────────────────────────────────────────────────────────────────────────────────╯\n",
       "</pre>\n"
      ],
      "text/plain": [
       "╭─────────────────────────────────────────────────────────────────────────────────────────────────────────────────╮\n",
       "│ Calling tool: 'get_atc' with arguments: {'rxcuis': ['74169']}                                                   │\n",
       "╰─────────────────────────────────────────────────────────────────────────────────────────────────────────────────╯\n"
      ]
     },
     "metadata": {},
     "output_type": "display_data"
    },
    {
     "data": {
      "text/html": [
       "<pre style=\"white-space:pre;overflow-x:auto;line-height:normal;font-family:Menlo,'DejaVu Sans Mono',consolas,'Courier New',monospace\">Observations: <span style=\"font-weight: bold\">{</span><span style=\"color: #008000; text-decoration-color: #008000\">'74169'</span>: <span style=\"font-weight: bold\">{</span><span style=\"color: #008000; text-decoration-color: #008000\">'atc_id'</span>: <span style=\"color: #008000; text-decoration-color: #008000\">'J01CR'</span>, <span style=\"color: #008000; text-decoration-color: #008000\">'atc_name'</span>: <span style=\"color: #008000; text-decoration-color: #008000\">'Combinations of penicillins, incl. beta-lactamase </span>\n",
       "<span style=\"color: #008000; text-decoration-color: #008000\">inhibitors'</span>, <span style=\"color: #008000; text-decoration-color: #008000\">'atc_type'</span>: <span style=\"color: #008000; text-decoration-color: #008000\">'ATC1-4'</span><span style=\"font-weight: bold\">}}</span>\n",
       "</pre>\n"
      ],
      "text/plain": [
       "Observations: \u001b[1m{\u001b[0m\u001b[32m'74169'\u001b[0m: \u001b[1m{\u001b[0m\u001b[32m'atc_id'\u001b[0m: \u001b[32m'J01CR'\u001b[0m, \u001b[32m'atc_name'\u001b[0m: \u001b[32m'Combinations of penicillins, incl. beta-lactamase \u001b[0m\n",
       "\u001b[32minhibitors'\u001b[0m, \u001b[32m'atc_type'\u001b[0m: \u001b[32m'ATC1-4'\u001b[0m\u001b[1m}\u001b[0m\u001b[1m}\u001b[0m\n"
      ]
     },
     "metadata": {},
     "output_type": "display_data"
    },
    {
     "data": {
      "text/html": [
       "<pre style=\"white-space:pre;overflow-x:auto;line-height:normal;font-family:Menlo,'DejaVu Sans Mono',consolas,'Courier New',monospace\"><span style=\"color: #7f7f7f; text-decoration-color: #7f7f7f\">[Step 9: Duration 3.08 seconds| Input tokens: 35,283 | Output tokens: 1,259]</span>\n",
       "</pre>\n"
      ],
      "text/plain": [
       "\u001b[2m[Step 9: Duration 3.08 seconds| Input tokens: 35,283 | Output tokens: 1,259]\u001b[0m\n"
      ]
     },
     "metadata": {},
     "output_type": "display_data"
    },
    {
     "data": {
      "text/html": [
       "<pre style=\"white-space:pre;overflow-x:auto;line-height:normal;font-family:Menlo,'DejaVu Sans Mono',consolas,'Courier New',monospace\"><span style=\"color: #d4b702; text-decoration-color: #d4b702\">━━━━━━━━━━━━━━━━━━━━━━━━━━━━━━━━━━━━━━━━━━━━━━━━━━━━━ </span><span style=\"font-weight: bold\">Step </span><span style=\"color: #008080; text-decoration-color: #008080; font-weight: bold\">10</span><span style=\"color: #d4b702; text-decoration-color: #d4b702\"> ━━━━━━━━━━━━━━━━━━━━━━━━━━━━━━━━━━━━━━━━━━━━━━━━━━━━━</span>\n",
       "</pre>\n"
      ],
      "text/plain": [
       "\u001b[38;2;212;183;2m━━━━━━━━━━━━━━━━━━━━━━━━━━━━━━━━━━━━━━━━━━━━━━━━━━━━━ \u001b[0m\u001b[1mStep \u001b[0m\u001b[1;36m10\u001b[0m\u001b[38;2;212;183;2m ━━━━━━━━━━━━━━━━━━━━━━━━━━━━━━━━━━━━━━━━━━━━━━━━━━━━━\u001b[0m\n"
      ]
     },
     "metadata": {},
     "output_type": "display_data"
    },
    {
     "data": {
      "text/html": [
       "<pre style=\"white-space:pre;overflow-x:auto;line-height:normal;font-family:Menlo,'DejaVu Sans Mono',consolas,'Courier New',monospace\">╭─────────────────────────────────────────────────────────────────────────────────────────────────────────────────╮\n",
       "│ Calling tool: 'save_csv' with arguments: {'task_name': 'medication', 'data': [{'patient_id': '5',               │\n",
       "│ 'medication_name': 'Amlodipin', 'medication_name_corrected': 'Amlodipin (amlodipine)', 'dose': '10', 'unit':    │\n",
       "│ 'mg', 'dosage_morning': '1', 'dosage_noon': '0', 'dosage_evening': '0', 'dosage_night': '0',                    │\n",
       "│ 'dosage_information': '', 'rxcui': '17767', 'atc_id': 'C09DX', 'atc_name': 'Angiotensin II receptor blockers    │\n",
       "│ (ARBs), other combinations', 'atc_type': 'ATC1-4'}, {'patient_id': '5', 'medication_name': 'Bisoprolol',        │\n",
       "│ 'medication_name_corrected': 'Bisoprolol (bisoprolol)', 'dose': '10', 'unit': 'mg', 'dosage_morning': '1',      │\n",
       "│ 'dosage_noon': '0', 'dosage_evening': '0', 'dosage_night': '0', 'dosage_information': '', 'rxcui': '19484',     │\n",
       "│ 'atc_id': 'C07AB', 'atc_name': 'Beta blocking agents, selective', 'atc_type': 'ATC1-4'}, {'patient_id': '5',    │\n",
       "│ 'medication_name': 'Lisinopril', 'medication_name_corrected': 'Lisinopril (lisinopril)', 'dose': '30', 'unit':  │\n",
       "│ 'mg', 'dosage_morning': '1', 'dosage_noon': '0', 'dosage_evening': '0', 'dosage_night': '0',                    │\n",
       "│ 'dosage_information': '', 'rxcui': '29046', 'atc_id': 'C09AA', 'atc_name': 'ACE inhibitors, plain', 'atc_type': │\n",
       "│ 'ATC1-4'}, {'patient_id': '5', 'medication_name': 'Torasemid', 'medication_name_corrected': 'Torasemid          │\n",
       "│ (torasemide)', 'dose': '10', 'unit': 'mg', 'dosage_morning': '1', 'dosage_noon': '0', 'dosage_evening': '0',    │\n",
       "│ 'dosage_night': '0', 'dosage_information': '', 'rxcui': '38413', 'atc_id': 'C03CA', 'atc_name': 'Sulfonamides,  │\n",
       "│ plain', 'atc_type': 'ATC1-4'}, {'patient_id': '5', 'medication_name': 'Midazolam', 'medication_name_corrected': │\n",
       "│ 'Midazolam (midazolam)', 'dose': '', 'unit': '', 'dosage_morning': '0', 'dosage_noon': '0', 'dosage_evening':   │\n",
       "│ '0', 'dosage_night': '0', 'dosage_information': 'b.B.', 'rxcui': '6960', 'atc_id': 'N05CD', 'atc_name':         │\n",
       "│ 'Benzodiazepine derivatives', 'atc_type': 'ATC1-4'}, {'patient_id': '5', 'medication_name': 'Simvastatin',      │\n",
       "│ 'medication_name_corrected': 'Simvastatin (simvastatin)', 'dose': '20', 'unit': 'mg', 'dosage_morning': '0',    │\n",
       "│ 'dosage_noon': '0', 'dosage_evening': '1', 'dosage_night': '0', 'dosage_information': '', 'rxcui': '36567',     │\n",
       "│ 'atc_id': 'C10AA', 'atc_name': 'HMG CoA reductase inhibitors', 'atc_type': 'ATC1-4'}, {'patient_id': '5',       │\n",
       "│ 'medication_name': 'PipTaz', 'medication_name_corrected': 'PipTaz (piperacillin/tazobactam)', 'dose': '4.5',    │\n",
       "│ 'unit': 'g', 'dosage_morning': '1', 'dosage_noon': '1', 'dosage_evening': '1', 'dosage_night': '1',             │\n",
       "│ 'dosage_information': '', 'rxcui': '74169', 'atc_id': 'J01CR', 'atc_name': 'Combinations of penicillins, incl.  │\n",
       "│ beta-lactamase inhibitors', 'atc_type': 'ATC1-4'}]}                                                             │\n",
       "╰─────────────────────────────────────────────────────────────────────────────────────────────────────────────────╯\n",
       "</pre>\n"
      ],
      "text/plain": [
       "╭─────────────────────────────────────────────────────────────────────────────────────────────────────────────────╮\n",
       "│ Calling tool: 'save_csv' with arguments: {'task_name': 'medication', 'data': [{'patient_id': '5',               │\n",
       "│ 'medication_name': 'Amlodipin', 'medication_name_corrected': 'Amlodipin (amlodipine)', 'dose': '10', 'unit':    │\n",
       "│ 'mg', 'dosage_morning': '1', 'dosage_noon': '0', 'dosage_evening': '0', 'dosage_night': '0',                    │\n",
       "│ 'dosage_information': '', 'rxcui': '17767', 'atc_id': 'C09DX', 'atc_name': 'Angiotensin II receptor blockers    │\n",
       "│ (ARBs), other combinations', 'atc_type': 'ATC1-4'}, {'patient_id': '5', 'medication_name': 'Bisoprolol',        │\n",
       "│ 'medication_name_corrected': 'Bisoprolol (bisoprolol)', 'dose': '10', 'unit': 'mg', 'dosage_morning': '1',      │\n",
       "│ 'dosage_noon': '0', 'dosage_evening': '0', 'dosage_night': '0', 'dosage_information': '', 'rxcui': '19484',     │\n",
       "│ 'atc_id': 'C07AB', 'atc_name': 'Beta blocking agents, selective', 'atc_type': 'ATC1-4'}, {'patient_id': '5',    │\n",
       "│ 'medication_name': 'Lisinopril', 'medication_name_corrected': 'Lisinopril (lisinopril)', 'dose': '30', 'unit':  │\n",
       "│ 'mg', 'dosage_morning': '1', 'dosage_noon': '0', 'dosage_evening': '0', 'dosage_night': '0',                    │\n",
       "│ 'dosage_information': '', 'rxcui': '29046', 'atc_id': 'C09AA', 'atc_name': 'ACE inhibitors, plain', 'atc_type': │\n",
       "│ 'ATC1-4'}, {'patient_id': '5', 'medication_name': 'Torasemid', 'medication_name_corrected': 'Torasemid          │\n",
       "│ (torasemide)', 'dose': '10', 'unit': 'mg', 'dosage_morning': '1', 'dosage_noon': '0', 'dosage_evening': '0',    │\n",
       "│ 'dosage_night': '0', 'dosage_information': '', 'rxcui': '38413', 'atc_id': 'C03CA', 'atc_name': 'Sulfonamides,  │\n",
       "│ plain', 'atc_type': 'ATC1-4'}, {'patient_id': '5', 'medication_name': 'Midazolam', 'medication_name_corrected': │\n",
       "│ 'Midazolam (midazolam)', 'dose': '', 'unit': '', 'dosage_morning': '0', 'dosage_noon': '0', 'dosage_evening':   │\n",
       "│ '0', 'dosage_night': '0', 'dosage_information': 'b.B.', 'rxcui': '6960', 'atc_id': 'N05CD', 'atc_name':         │\n",
       "│ 'Benzodiazepine derivatives', 'atc_type': 'ATC1-4'}, {'patient_id': '5', 'medication_name': 'Simvastatin',      │\n",
       "│ 'medication_name_corrected': 'Simvastatin (simvastatin)', 'dose': '20', 'unit': 'mg', 'dosage_morning': '0',    │\n",
       "│ 'dosage_noon': '0', 'dosage_evening': '1', 'dosage_night': '0', 'dosage_information': '', 'rxcui': '36567',     │\n",
       "│ 'atc_id': 'C10AA', 'atc_name': 'HMG CoA reductase inhibitors', 'atc_type': 'ATC1-4'}, {'patient_id': '5',       │\n",
       "│ 'medication_name': 'PipTaz', 'medication_name_corrected': 'PipTaz (piperacillin/tazobactam)', 'dose': '4.5',    │\n",
       "│ 'unit': 'g', 'dosage_morning': '1', 'dosage_noon': '1', 'dosage_evening': '1', 'dosage_night': '1',             │\n",
       "│ 'dosage_information': '', 'rxcui': '74169', 'atc_id': 'J01CR', 'atc_name': 'Combinations of penicillins, incl.  │\n",
       "│ beta-lactamase inhibitors', 'atc_type': 'ATC1-4'}]}                                                             │\n",
       "╰─────────────────────────────────────────────────────────────────────────────────────────────────────────────────╯\n"
      ]
     },
     "metadata": {},
     "output_type": "display_data"
    },
    {
     "data": {
      "text/html": [
       "<pre style=\"white-space:pre;overflow-x:auto;line-height:normal;font-family:Menlo,'DejaVu Sans Mono',consolas,'Courier New',monospace\">Observations: Saved data for task medication to \n",
       "<span style=\"color: #800080; text-decoration-color: #800080\">/Users/christian/Projects/aidh-ms/MedMiner/examples/result/</span><span style=\"color: #ff00ff; text-decoration-color: #ff00ff\">medication.csv</span>\n",
       "</pre>\n"
      ],
      "text/plain": [
       "Observations: Saved data for task medication to \n",
       "\u001b[35m/Users/christian/Projects/aidh-ms/MedMiner/examples/result/\u001b[0m\u001b[95mmedication.csv\u001b[0m\n"
      ]
     },
     "metadata": {},
     "output_type": "display_data"
    },
    {
     "data": {
      "text/html": [
       "<pre style=\"white-space:pre;overflow-x:auto;line-height:normal;font-family:Menlo,'DejaVu Sans Mono',consolas,'Courier New',monospace\"><span style=\"color: #7f7f7f; text-decoration-color: #7f7f7f\">[Step 10: Duration 9.63 seconds| Input tokens: 40,070 | Output tokens: 2,044]</span>\n",
       "</pre>\n"
      ],
      "text/plain": [
       "\u001b[2m[Step 10: Duration 9.63 seconds| Input tokens: 40,070 | Output tokens: 2,044]\u001b[0m\n"
      ]
     },
     "metadata": {},
     "output_type": "display_data"
    },
    {
     "data": {
      "text/html": [
       "<pre style=\"white-space:pre;overflow-x:auto;line-height:normal;font-family:Menlo,'DejaVu Sans Mono',consolas,'Courier New',monospace\"><span style=\"color: #d4b702; text-decoration-color: #d4b702\">━━━━━━━━━━━━━━━━━━━━━━━━━━━━━━━━━━━━━━━━━━━━━━━━━━━━━ </span><span style=\"font-weight: bold\">Step </span><span style=\"color: #008080; text-decoration-color: #008080; font-weight: bold\">11</span><span style=\"color: #d4b702; text-decoration-color: #d4b702\"> ━━━━━━━━━━━━━━━━━━━━━━━━━━━━━━━━━━━━━━━━━━━━━━━━━━━━━</span>\n",
       "</pre>\n"
      ],
      "text/plain": [
       "\u001b[38;2;212;183;2m━━━━━━━━━━━━━━━━━━━━━━━━━━━━━━━━━━━━━━━━━━━━━━━━━━━━━ \u001b[0m\u001b[1mStep \u001b[0m\u001b[1;36m11\u001b[0m\u001b[38;2;212;183;2m ━━━━━━━━━━━━━━━━━━━━━━━━━━━━━━━━━━━━━━━━━━━━━━━━━━━━━\u001b[0m\n"
      ]
     },
     "metadata": {},
     "output_type": "display_data"
    },
    {
     "data": {
      "text/html": [
       "<pre style=\"white-space:pre;overflow-x:auto;line-height:normal;font-family:Menlo,'DejaVu Sans Mono',consolas,'Courier New',monospace\">╭─────────────────────────────────────────────────────────────────────────────────────────────────────────────────╮\n",
       "│ Calling tool: 'final_answer' with arguments: {'answer': 'The medication information for patient 5 has been      │\n",
       "│ successfully saved to /Users/christian/Projects/aidh-ms/MedMiner/examples/result/medication.csv.'}              │\n",
       "╰─────────────────────────────────────────────────────────────────────────────────────────────────────────────────╯\n",
       "</pre>\n"
      ],
      "text/plain": [
       "╭─────────────────────────────────────────────────────────────────────────────────────────────────────────────────╮\n",
       "│ Calling tool: 'final_answer' with arguments: {'answer': 'The medication information for patient 5 has been      │\n",
       "│ successfully saved to /Users/christian/Projects/aidh-ms/MedMiner/examples/result/medication.csv.'}              │\n",
       "╰─────────────────────────────────────────────────────────────────────────────────────────────────────────────────╯\n"
      ]
     },
     "metadata": {},
     "output_type": "display_data"
    },
    {
     "data": {
      "text/html": [
       "<pre style=\"white-space:pre;overflow-x:auto;line-height:normal;font-family:Menlo,'DejaVu Sans Mono',consolas,'Courier New',monospace\"><span style=\"color: #d4b702; text-decoration-color: #d4b702; font-weight: bold\">Final answer: The medication information for patient 5 has been successfully saved to </span>\n",
       "<span style=\"color: #d4b702; text-decoration-color: #d4b702; font-weight: bold\">/Users/christian/Projects/aidh-ms/MedMiner/examples/result/medication.csv.</span>\n",
       "</pre>\n"
      ],
      "text/plain": [
       "\u001b[1;38;2;212;183;2mFinal answer: The medication information for patient 5 has been successfully saved to \u001b[0m\n",
       "\u001b[1;38;2;212;183;2m/Users/christian/Projects/aidh-ms/MedMiner/examples/result/medication.csv.\u001b[0m\n"
      ]
     },
     "metadata": {},
     "output_type": "display_data"
    },
    {
     "data": {
      "text/html": [
       "<pre style=\"white-space:pre;overflow-x:auto;line-height:normal;font-family:Menlo,'DejaVu Sans Mono',consolas,'Courier New',monospace\"><span style=\"color: #7f7f7f; text-decoration-color: #7f7f7f\">[Step 11: Duration 1.18 seconds| Input tokens: 45,927 | Output tokens: 2,090]</span>\n",
       "</pre>\n"
      ],
      "text/plain": [
       "\u001b[2m[Step 11: Duration 1.18 seconds| Input tokens: 45,927 | Output tokens: 2,090]\u001b[0m\n"
      ]
     },
     "metadata": {},
     "output_type": "display_data"
    }
   ],
   "source": [
    "from medminer.task.medication import medication_task\n",
    "\n",
    "for doc in docs[:1]:\n",
    "    medication_task.run(model, doc.content)"
   ]
  }
 ],
 "metadata": {
  "kernelspec": {
   "display_name": ".venv",
   "language": "python",
   "name": "python3"
  },
  "language_info": {
   "codemirror_mode": {
    "name": "ipython",
    "version": 3
   },
   "file_extension": ".py",
   "mimetype": "text/x-python",
   "name": "python",
   "nbconvert_exporter": "python",
   "pygments_lexer": "ipython3",
   "version": "3.13.0"
  }
 },
 "nbformat": 4,
 "nbformat_minor": 2
}
