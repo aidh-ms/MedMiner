{
 "cells": [
  {
   "cell_type": "code",
   "execution_count": 1,
   "metadata": {},
   "outputs": [],
   "source": [
    "from pathlib import Path\n",
    "from medminer.utils.data import Document\n",
    "\n",
    "base_path = Path.cwd().parent\n",
    "\n",
    "docs = []\n",
    "for file in (base_path / \"data\" / \"pre_medications\").glob(\"*.txt\"):\n",
    "    with open(file, \"r\") as f:\n",
    "        docs.append(Document(file.stem, f.read()))"
   ]
  },
  {
   "cell_type": "code",
   "execution_count": 2,
   "metadata": {},
   "outputs": [
    {
     "data": {
      "text/html": [
       "<pre style=\"white-space:pre;overflow-x:auto;line-height:normal;font-family:Menlo,'DejaVu Sans Mono',consolas,'Courier New',monospace\"><span style=\"color: #d4b702; text-decoration-color: #d4b702\">╭───────────────────────────────────────────── </span><span style=\"color: #d4b702; text-decoration-color: #d4b702; font-weight: bold\">New run - medication</span><span style=\"color: #d4b702; text-decoration-color: #d4b702\"> ──────────────────────────────────────────────╮</span>\n",
       "<span style=\"color: #d4b702; text-decoration-color: #d4b702\">│</span>                                                                                                                 <span style=\"color: #d4b702; text-decoration-color: #d4b702\">│</span>\n",
       "<span style=\"color: #d4b702; text-decoration-color: #d4b702\">│</span> <span style=\"font-weight: bold\">Task name: medication</span>                                                                                           <span style=\"color: #d4b702; text-decoration-color: #d4b702\">│</span>\n",
       "<span style=\"color: #d4b702; text-decoration-color: #d4b702\">│</span> <span style=\"font-weight: bold\">Prompt: </span>                                                                                                        <span style=\"color: #d4b702; text-decoration-color: #d4b702\">│</span>\n",
       "<span style=\"color: #d4b702; text-decoration-color: #d4b702\">│</span> <span style=\"font-weight: bold\">        Given a list of medications, save all medications for the patient as csv. The medications can be in any</span> <span style=\"color: #d4b702; text-decoration-color: #d4b702\">│</span>\n",
       "<span style=\"color: #d4b702; text-decoration-color: #d4b702\">│</span> <span style=\"font-weight: bold\">language. The medications are usually in the format of a list of medications, with dosage and unit as well as </span>  <span style=\"color: #d4b702; text-decoration-color: #d4b702\">│</span>\n",
       "<span style=\"color: #d4b702; text-decoration-color: #d4b702\">│</span> <span style=\"font-weight: bold\">their dosage timings (e.g. 1-0-1-0 for moring and evening but not noon or night). Every medication should have </span> <span style=\"color: #d4b702; text-decoration-color: #d4b702\">│</span>\n",
       "<span style=\"color: #d4b702; text-decoration-color: #d4b702\">│</span> <span style=\"font-weight: bold\">a single row, if there are multiple medications that can be extracted from a single piece of text, e.g. a </span>      <span style=\"color: #d4b702; text-decoration-color: #d4b702\">│</span>\n",
       "<span style=\"color: #d4b702; text-decoration-color: #d4b702\">│</span> <span style=\"font-weight: bold\">combined medication, split them up. These are the steps you should follow to complete the task:</span>                 <span style=\"color: #d4b702; text-decoration-color: #d4b702\">│</span>\n",
       "<span style=\"color: #d4b702; text-decoration-color: #d4b702\">│</span>                                                                                                                 <span style=\"color: #d4b702; text-decoration-color: #d4b702\">│</span>\n",
       "<span style=\"color: #d4b702; text-decoration-color: #d4b702\">│</span> <span style=\"font-weight: bold\">        To complete the task make the following steps:</span>                                                          <span style=\"color: #d4b702; text-decoration-color: #d4b702\">│</span>\n",
       "<span style=\"color: #d4b702; text-decoration-color: #d4b702\">│</span> <span style=\"font-weight: bold\">        1. Extract the medications from the text. The medication can be in any language. This is the </span>           <span style=\"color: #d4b702; text-decoration-color: #d4b702\">│</span>\n",
       "<span style=\"color: #d4b702; text-decoration-color: #d4b702\">│</span> <span style=\"font-weight: bold\">medication_reference column.</span>                                                                                    <span style=\"color: #d4b702; text-decoration-color: #d4b702\">│</span>\n",
       "<span style=\"color: #d4b702; text-decoration-color: #d4b702\">│</span> <span style=\"font-weight: bold\">        2. If the medication name is not in english, translate it to english and infer the </span>                     <span style=\"color: #d4b702; text-decoration-color: #d4b702\">│</span>\n",
       "<span style=\"color: #d4b702; text-decoration-color: #d4b702\">│</span> <span style=\"font-weight: bold\">medication_translated column. Correct any misspellings in the process. Use the following format \"Brand name or </span> <span style=\"color: #d4b702; text-decoration-color: #d4b702\">│</span>\n",
       "<span style=\"color: #d4b702; text-decoration-color: #d4b702\">│</span> <span style=\"font-weight: bold\">medication name (active ingredient)\". e.g. \"Aspirin (acetylsalicylic acid)\".</span>                                    <span style=\"color: #d4b702; text-decoration-color: #d4b702\">│</span>\n",
       "<span style=\"color: #d4b702; text-decoration-color: #d4b702\">│</span> <span style=\"font-weight: bold\">        3. Extract the active ingredient of the medication and loose everything that is not relevant. This is </span>  <span style=\"color: #d4b702; text-decoration-color: #d4b702\">│</span>\n",
       "<span style=\"color: #d4b702; text-decoration-color: #d4b702\">│</span> <span style=\"font-weight: bold\">the active_ingredient column.</span>                                                                                   <span style=\"color: #d4b702; text-decoration-color: #d4b702\">│</span>\n",
       "<span style=\"color: #d4b702; text-decoration-color: #d4b702\">│</span> <span style=\"font-weight: bold\">        4. Extract the dose of the medication. This should only contain the numeric value. This is the dose </span>    <span style=\"color: #d4b702; text-decoration-color: #d4b702\">│</span>\n",
       "<span style=\"color: #d4b702; text-decoration-color: #d4b702\">│</span> <span style=\"font-weight: bold\">column.</span>                                                                                                         <span style=\"color: #d4b702; text-decoration-color: #d4b702\">│</span>\n",
       "<span style=\"color: #d4b702; text-decoration-color: #d4b702\">│</span> <span style=\"font-weight: bold\">        5. Extract the unit of the dose (e.g. ml, mg, ...). If possible, use mg. If not applicable, write an </span>   <span style=\"color: #d4b702; text-decoration-color: #d4b702\">│</span>\n",
       "<span style=\"color: #d4b702; text-decoration-color: #d4b702\">│</span> <span style=\"font-weight: bold\">empty string. This is the unit column.</span>                                                                          <span style=\"color: #d4b702; text-decoration-color: #d4b702\">│</span>\n",
       "<span style=\"color: #d4b702; text-decoration-color: #d4b702\">│</span> <span style=\"font-weight: bold\">        6. Extract the route (e.g. oral) of administration of the medication. If not applicable, write an empty</span> <span style=\"color: #d4b702; text-decoration-color: #d4b702\">│</span>\n",
       "<span style=\"color: #d4b702; text-decoration-color: #d4b702\">│</span> <span style=\"font-weight: bold\">string. This is the route column.</span>                                                                               <span style=\"color: #d4b702; text-decoration-color: #d4b702\">│</span>\n",
       "<span style=\"color: #d4b702; text-decoration-color: #d4b702\">│</span> <span style=\"font-weight: bold\">        7. Extract the frequency of the medication. This is the frequency column. If not applicable, write an </span>  <span style=\"color: #d4b702; text-decoration-color: #d4b702\">│</span>\n",
       "<span style=\"color: #d4b702; text-decoration-color: #d4b702\">│</span> <span style=\"font-weight: bold\">empty string. The frequency can be in the format of \"1-0-1-0\" for morning and evening but not noon or night. If</span> <span style=\"color: #d4b702; text-decoration-color: #d4b702\">│</span>\n",
       "<span style=\"color: #d4b702; text-decoration-color: #d4b702\">│</span> <span style=\"font-weight: bold\">needed translate to english (e.g. b.B. translate to \"as needed\"). If the medication is taken \"as needed\", write</span> <span style=\"color: #d4b702; text-decoration-color: #d4b702\">│</span>\n",
       "<span style=\"color: #d4b702; text-decoration-color: #d4b702\">│</span> <span style=\"font-weight: bold\">\"as needed\".</span>                                                                                                    <span style=\"color: #d4b702; text-decoration-color: #d4b702\">│</span>\n",
       "<span style=\"color: #d4b702; text-decoration-color: #d4b702\">│</span> <span style=\"font-weight: bold\">        8. Extract the frequency code of the medication. This is the frequency_code column. If not applicable, </span> <span style=\"color: #d4b702; text-decoration-color: #d4b702\">│</span>\n",
       "<span style=\"color: #d4b702; text-decoration-color: #d4b702\">│</span> <span style=\"font-weight: bold\">write an empty string. Use only the following codes:</span>                                                            <span style=\"color: #d4b702; text-decoration-color: #d4b702\">│</span>\n",
       "<span style=\"color: #d4b702; text-decoration-color: #d4b702\">│</span> <span style=\"font-weight: bold\">            - Q&lt;int:hours&gt;H: Every &lt;int&gt; hours (e.g. Q8H: Every 8 hours)</span>                                        <span style=\"color: #d4b702; text-decoration-color: #d4b702\">│</span>\n",
       "<span style=\"color: #d4b702; text-decoration-color: #d4b702\">│</span> <span style=\"font-weight: bold\">            - Q&lt;int:days&gt;D: Every &lt;int&gt; days (e.g. Q1D: Every 1 day)</span>                                            <span style=\"color: #d4b702; text-decoration-color: #d4b702\">│</span>\n",
       "<span style=\"color: #d4b702; text-decoration-color: #d4b702\">│</span> <span style=\"font-weight: bold\">            - Q&lt;int:weeks&gt;W: Every &lt;int&gt; weeks (e.g. Q1W: Every 1 week)</span>                                         <span style=\"color: #d4b702; text-decoration-color: #d4b702\">│</span>\n",
       "<span style=\"color: #d4b702; text-decoration-color: #d4b702\">│</span> <span style=\"font-weight: bold\">            - BID: Twice a day (e.g. 1-0-1-0)</span>                                                                   <span style=\"color: #d4b702; text-decoration-color: #d4b702\">│</span>\n",
       "<span style=\"color: #d4b702; text-decoration-color: #d4b702\">│</span> <span style=\"font-weight: bold\">            - TID: Three times a day (e.g. 1-1-1-0)</span>                                                             <span style=\"color: #d4b702; text-decoration-color: #d4b702\">│</span>\n",
       "<span style=\"color: #d4b702; text-decoration-color: #d4b702\">│</span> <span style=\"font-weight: bold\">            - QID: Four times a day (e.g. 1-1-1-1)</span>                                                              <span style=\"color: #d4b702; text-decoration-color: #d4b702\">│</span>\n",
       "<span style=\"color: #d4b702; text-decoration-color: #d4b702\">│</span> <span style=\"font-weight: bold\">            - QD: Once a day (used for medications that are taken once a day, e.g. 0-1-0 and doesn't fit AM/PM)</span> <span style=\"color: #d4b702; text-decoration-color: #d4b702\">│</span>\n",
       "<span style=\"color: #d4b702; text-decoration-color: #d4b702\">│</span> <span style=\"font-weight: bold\">            - AM: In the morning (1-0-0-0)</span>                                                                      <span style=\"color: #d4b702; text-decoration-color: #d4b702\">│</span>\n",
       "<span style=\"color: #d4b702; text-decoration-color: #d4b702\">│</span> <span style=\"font-weight: bold\">            - PM: In the evening (0-0-1-0)</span>                                                                      <span style=\"color: #d4b702; text-decoration-color: #d4b702\">│</span>\n",
       "<span style=\"color: #d4b702; text-decoration-color: #d4b702\">│</span> <span style=\"font-weight: bold\">            - PRN: As needed</span>                                                                                    <span style=\"color: #d4b702; text-decoration-color: #d4b702\">│</span>\n",
       "<span style=\"color: #d4b702; text-decoration-color: #d4b702\">│</span> <span style=\"font-weight: bold\">            - NaF: Not a frequency (e.g. for medications that are not taken regularly)</span>                          <span style=\"color: #d4b702; text-decoration-color: #d4b702\">│</span>\n",
       "<span style=\"color: #d4b702; text-decoration-color: #d4b702\">│</span> <span style=\"font-weight: bold\">        9. get the RXCUI for all medications. Use the active ingredient of the medications. If there are </span>       <span style=\"color: #d4b702; text-decoration-color: #d4b702\">│</span>\n",
       "<span style=\"color: #d4b702; text-decoration-color: #d4b702\">│</span> <span style=\"font-weight: bold\">multiple RXCUI codes, choose the one that fits the best to the translated medication. Usually, the first </span>       <span style=\"color: #d4b702; text-decoration-color: #d4b702\">│</span>\n",
       "<span style=\"color: #d4b702; text-decoration-color: #d4b702\">│</span> <span style=\"font-weight: bold\">candidate with a score of 1 is the best choice, but you can decide otherwise if you have reasonable grounds for</span> <span style=\"color: #d4b702; text-decoration-color: #d4b702\">│</span>\n",
       "<span style=\"color: #d4b702; text-decoration-color: #d4b702\">│</span> <span style=\"font-weight: bold\">another decision. If there are no codes, write an empty string.</span>                                                 <span style=\"color: #d4b702; text-decoration-color: #d4b702\">│</span>\n",
       "<span style=\"color: #d4b702; text-decoration-color: #d4b702\">│</span> <span style=\"font-weight: bold\">        10. get the ATC code for all medications. Use the rxcui of the medications.</span>                             <span style=\"color: #d4b702; text-decoration-color: #d4b702\">│</span>\n",
       "<span style=\"color: #d4b702; text-decoration-color: #d4b702\">│</span> <span style=\"font-weight: bold\">        11. save the medication information as csv with the columns defined below.</span>                              <span style=\"color: #d4b702; text-decoration-color: #d4b702\">│</span>\n",
       "<span style=\"color: #d4b702; text-decoration-color: #d4b702\">│</span>                                                                                                                 <span style=\"color: #d4b702; text-decoration-color: #d4b702\">│</span>\n",
       "<span style=\"color: #d4b702; text-decoration-color: #d4b702\">│</span> <span style=\"font-weight: bold\">        ---</span>                                                                                                     <span style=\"color: #d4b702; text-decoration-color: #d4b702\">│</span>\n",
       "<span style=\"color: #d4b702; text-decoration-color: #d4b702\">│</span> <span style=\"font-weight: bold\">        Example 1:</span>                                                                                              <span style=\"color: #d4b702; text-decoration-color: #d4b702\">│</span>\n",
       "<span style=\"color: #d4b702; text-decoration-color: #d4b702\">│</span> <span style=\"font-weight: bold\">        Input: \"Aspirin 100mg 1-0-1-0\"</span>                                                                          <span style=\"color: #d4b702; text-decoration-color: #d4b702\">│</span>\n",
       "<span style=\"color: #d4b702; text-decoration-color: #d4b702\">│</span> <span style=\"font-weight: bold\">        Output: [</span>                                                                                               <span style=\"color: #d4b702; text-decoration-color: #d4b702\">│</span>\n",
       "<span style=\"color: #d4b702; text-decoration-color: #d4b702\">│</span> <span style=\"font-weight: bold\">            {</span>                                                                                                   <span style=\"color: #d4b702; text-decoration-color: #d4b702\">│</span>\n",
       "<span style=\"color: #d4b702; text-decoration-color: #d4b702\">│</span> <span style=\"font-weight: bold\">                \"patient_id\": 1, </span>                                                                               <span style=\"color: #d4b702; text-decoration-color: #d4b702\">│</span>\n",
       "<span style=\"color: #d4b702; text-decoration-color: #d4b702\">│</span> <span style=\"font-weight: bold\">                \"medication_reference\": </span>                                                                        <span style=\"color: #d4b702; text-decoration-color: #d4b702\">│</span>\n",
       "<span style=\"color: #d4b702; text-decoration-color: #d4b702\">│</span> <span style=\"font-weight: bold\">                \"Aspirin 100mg\", </span>                                                                               <span style=\"color: #d4b702; text-decoration-color: #d4b702\">│</span>\n",
       "<span style=\"color: #d4b702; text-decoration-color: #d4b702\">│</span> <span style=\"font-weight: bold\">                \"medication_name\": \"Aspirin\", </span>                                                                  <span style=\"color: #d4b702; text-decoration-color: #d4b702\">│</span>\n",
       "<span style=\"color: #d4b702; text-decoration-color: #d4b702\">│</span> <span style=\"font-weight: bold\">                \"medication_translated\": \"Aspirin (acetylsalicylic acid)\", </span>                                     <span style=\"color: #d4b702; text-decoration-color: #d4b702\">│</span>\n",
       "<span style=\"color: #d4b702; text-decoration-color: #d4b702\">│</span> <span style=\"font-weight: bold\">                \"active_ingredient\": \"acetylsalicylic acid\", </span>                                                   <span style=\"color: #d4b702; text-decoration-color: #d4b702\">│</span>\n",
       "<span style=\"color: #d4b702; text-decoration-color: #d4b702\">│</span> <span style=\"font-weight: bold\">                \"dose\": 100, </span>                                                                                   <span style=\"color: #d4b702; text-decoration-color: #d4b702\">│</span>\n",
       "<span style=\"color: #d4b702; text-decoration-color: #d4b702\">│</span> <span style=\"font-weight: bold\">                \"unit\": \"mg\", </span>                                                                                  <span style=\"color: #d4b702; text-decoration-color: #d4b702\">│</span>\n",
       "<span style=\"color: #d4b702; text-decoration-color: #d4b702\">│</span> <span style=\"font-weight: bold\">                \"route\": \"\", </span>                                                                                   <span style=\"color: #d4b702; text-decoration-color: #d4b702\">│</span>\n",
       "<span style=\"color: #d4b702; text-decoration-color: #d4b702\">│</span> <span style=\"font-weight: bold\">                \"frequency\": \"1-0-1-0\", </span>                                                                        <span style=\"color: #d4b702; text-decoration-color: #d4b702\">│</span>\n",
       "<span style=\"color: #d4b702; text-decoration-color: #d4b702\">│</span> <span style=\"font-weight: bold\">                \"frequency_code\": \"BID\",</span>                                                                        <span style=\"color: #d4b702; text-decoration-color: #d4b702\">│</span>\n",
       "<span style=\"color: #d4b702; text-decoration-color: #d4b702\">│</span> <span style=\"font-weight: bold\">                \"rxcui\": \"\", </span>                                                                                   <span style=\"color: #d4b702; text-decoration-color: #d4b702\">│</span>\n",
       "<span style=\"color: #d4b702; text-decoration-color: #d4b702\">│</span> <span style=\"font-weight: bold\">                \"atc_id\": \"\", </span>                                                                                  <span style=\"color: #d4b702; text-decoration-color: #d4b702\">│</span>\n",
       "<span style=\"color: #d4b702; text-decoration-color: #d4b702\">│</span> <span style=\"font-weight: bold\">                \"atc_name\": \"\", </span>                                                                                <span style=\"color: #d4b702; text-decoration-color: #d4b702\">│</span>\n",
       "<span style=\"color: #d4b702; text-decoration-color: #d4b702\">│</span> <span style=\"font-weight: bold\">                \"atc_type\": \"\"</span>                                                                                  <span style=\"color: #d4b702; text-decoration-color: #d4b702\">│</span>\n",
       "<span style=\"color: #d4b702; text-decoration-color: #d4b702\">│</span> <span style=\"font-weight: bold\">            }</span>                                                                                                   <span style=\"color: #d4b702; text-decoration-color: #d4b702\">│</span>\n",
       "<span style=\"color: #d4b702; text-decoration-color: #d4b702\">│</span> <span style=\"font-weight: bold\">        \\]</span>                                                                                                      <span style=\"color: #d4b702; text-decoration-color: #d4b702\">│</span>\n",
       "<span style=\"color: #d4b702; text-decoration-color: #d4b702\">│</span> <span style=\"font-weight: bold\">        Example 2:</span>                                                                                              <span style=\"color: #d4b702; text-decoration-color: #d4b702\">│</span>\n",
       "<span style=\"color: #d4b702; text-decoration-color: #d4b702\">│</span> <span style=\"font-weight: bold\">        Input: \"Paracetamol 500mg 1-0-0-0\"</span>                                                                      <span style=\"color: #d4b702; text-decoration-color: #d4b702\">│</span>\n",
       "<span style=\"color: #d4b702; text-decoration-color: #d4b702\">│</span> <span style=\"font-weight: bold\">        Output: [</span>                                                                                               <span style=\"color: #d4b702; text-decoration-color: #d4b702\">│</span>\n",
       "<span style=\"color: #d4b702; text-decoration-color: #d4b702\">│</span> <span style=\"font-weight: bold\">            {</span>                                                                                                   <span style=\"color: #d4b702; text-decoration-color: #d4b702\">│</span>\n",
       "<span style=\"color: #d4b702; text-decoration-color: #d4b702\">│</span> <span style=\"font-weight: bold\">                \"patient_id\": 2, </span>                                                                               <span style=\"color: #d4b702; text-decoration-color: #d4b702\">│</span>\n",
       "<span style=\"color: #d4b702; text-decoration-color: #d4b702\">│</span> <span style=\"font-weight: bold\">                \"medication_reference\": \"Paracetamol 500mg\", </span>                                                   <span style=\"color: #d4b702; text-decoration-color: #d4b702\">│</span>\n",
       "<span style=\"color: #d4b702; text-decoration-color: #d4b702\">│</span> <span style=\"font-weight: bold\">                \"medication_name\": \"Paracetamol\", </span>                                                              <span style=\"color: #d4b702; text-decoration-color: #d4b702\">│</span>\n",
       "<span style=\"color: #d4b702; text-decoration-color: #d4b702\">│</span> <span style=\"font-weight: bold\">                \"medication_translated\": \"Paracetamol (acetaminophen)\", </span>                                        <span style=\"color: #d4b702; text-decoration-color: #d4b702\">│</span>\n",
       "<span style=\"color: #d4b702; text-decoration-color: #d4b702\">│</span> <span style=\"font-weight: bold\">                \"active_ingredient\": \"acetaminophen\", </span>                                                          <span style=\"color: #d4b702; text-decoration-color: #d4b702\">│</span>\n",
       "<span style=\"color: #d4b702; text-decoration-color: #d4b702\">│</span> <span style=\"font-weight: bold\">                \"dose\": 500, </span>                                                                                   <span style=\"color: #d4b702; text-decoration-color: #d4b702\">│</span>\n",
       "<span style=\"color: #d4b702; text-decoration-color: #d4b702\">│</span> <span style=\"font-weight: bold\">                \"unit\": \"mg\", </span>                                                                                  <span style=\"color: #d4b702; text-decoration-color: #d4b702\">│</span>\n",
       "<span style=\"color: #d4b702; text-decoration-color: #d4b702\">│</span> <span style=\"font-weight: bold\">                \"route\": \"\", </span>                                                                                   <span style=\"color: #d4b702; text-decoration-color: #d4b702\">│</span>\n",
       "<span style=\"color: #d4b702; text-decoration-color: #d4b702\">│</span> <span style=\"font-weight: bold\">                \"frequency\": \"1-0-0-0\", </span>                                                                        <span style=\"color: #d4b702; text-decoration-color: #d4b702\">│</span>\n",
       "<span style=\"color: #d4b702; text-decoration-color: #d4b702\">│</span> <span style=\"font-weight: bold\">                \"frequency_code\": \"AM\",</span>                                                                         <span style=\"color: #d4b702; text-decoration-color: #d4b702\">│</span>\n",
       "<span style=\"color: #d4b702; text-decoration-color: #d4b702\">│</span> <span style=\"font-weight: bold\">                \"rxcui\": \"\", </span>                                                                                   <span style=\"color: #d4b702; text-decoration-color: #d4b702\">│</span>\n",
       "<span style=\"color: #d4b702; text-decoration-color: #d4b702\">│</span> <span style=\"font-weight: bold\">                \"atc_id\": \"\", </span>                                                                                  <span style=\"color: #d4b702; text-decoration-color: #d4b702\">│</span>\n",
       "<span style=\"color: #d4b702; text-decoration-color: #d4b702\">│</span> <span style=\"font-weight: bold\">                \"atc_name\": \"\", </span>                                                                                <span style=\"color: #d4b702; text-decoration-color: #d4b702\">│</span>\n",
       "<span style=\"color: #d4b702; text-decoration-color: #d4b702\">│</span> <span style=\"font-weight: bold\">                \"atc_type\": \"\"</span>                                                                                  <span style=\"color: #d4b702; text-decoration-color: #d4b702\">│</span>\n",
       "<span style=\"color: #d4b702; text-decoration-color: #d4b702\">│</span> <span style=\"font-weight: bold\">            }</span>                                                                                                   <span style=\"color: #d4b702; text-decoration-color: #d4b702\">│</span>\n",
       "<span style=\"color: #d4b702; text-decoration-color: #d4b702\">│</span> <span style=\"font-weight: bold\">        \\]</span>                                                                                                      <span style=\"color: #d4b702; text-decoration-color: #d4b702\">│</span>\n",
       "<span style=\"color: #d4b702; text-decoration-color: #d4b702\">│</span> <span style=\"font-weight: bold\">        Example 3:</span>                                                                                              <span style=\"color: #d4b702; text-decoration-color: #d4b702\">│</span>\n",
       "<span style=\"color: #d4b702; text-decoration-color: #d4b702\">│</span> <span style=\"font-weight: bold\">        Input: \"Ibuprofen 400mg 1-1-0-0 (Oral)\"</span>                                                                 <span style=\"color: #d4b702; text-decoration-color: #d4b702\">│</span>\n",
       "<span style=\"color: #d4b702; text-decoration-color: #d4b702\">│</span> <span style=\"font-weight: bold\">        Output: [</span>                                                                                               <span style=\"color: #d4b702; text-decoration-color: #d4b702\">│</span>\n",
       "<span style=\"color: #d4b702; text-decoration-color: #d4b702\">│</span> <span style=\"font-weight: bold\">            {</span>                                                                                                   <span style=\"color: #d4b702; text-decoration-color: #d4b702\">│</span>\n",
       "<span style=\"color: #d4b702; text-decoration-color: #d4b702\">│</span> <span style=\"font-weight: bold\">                \"patient_id\": 3, </span>                                                                               <span style=\"color: #d4b702; text-decoration-color: #d4b702\">│</span>\n",
       "<span style=\"color: #d4b702; text-decoration-color: #d4b702\">│</span> <span style=\"font-weight: bold\">                \"medication_reference\": \"Ibuprofen 400mg\", </span>                                                     <span style=\"color: #d4b702; text-decoration-color: #d4b702\">│</span>\n",
       "<span style=\"color: #d4b702; text-decoration-color: #d4b702\">│</span> <span style=\"font-weight: bold\">                \"medication_name\": \"Ibuprofen\", </span>                                                                <span style=\"color: #d4b702; text-decoration-color: #d4b702\">│</span>\n",
       "<span style=\"color: #d4b702; text-decoration-color: #d4b702\">│</span> <span style=\"font-weight: bold\">                \"medication_translated\": \"Ibuprofen (ibuprofen)\", </span>                                              <span style=\"color: #d4b702; text-decoration-color: #d4b702\">│</span>\n",
       "<span style=\"color: #d4b702; text-decoration-color: #d4b702\">│</span> <span style=\"font-weight: bold\">                \"active_ingredient\": \"ibuprofen\", </span>                                                              <span style=\"color: #d4b702; text-decoration-color: #d4b702\">│</span>\n",
       "<span style=\"color: #d4b702; text-decoration-color: #d4b702\">│</span> <span style=\"font-weight: bold\">                \"dose\": 400, </span>                                                                                   <span style=\"color: #d4b702; text-decoration-color: #d4b702\">│</span>\n",
       "<span style=\"color: #d4b702; text-decoration-color: #d4b702\">│</span> <span style=\"font-weight: bold\">                \"unit\": \"mg\", </span>                                                                                  <span style=\"color: #d4b702; text-decoration-color: #d4b702\">│</span>\n",
       "<span style=\"color: #d4b702; text-decoration-color: #d4b702\">│</span> <span style=\"font-weight: bold\">                \"route\": \"Oral\", </span>                                                                               <span style=\"color: #d4b702; text-decoration-color: #d4b702\">│</span>\n",
       "<span style=\"color: #d4b702; text-decoration-color: #d4b702\">│</span> <span style=\"font-weight: bold\">                \"frequency\": \"1-1-0-0\", </span>                                                                        <span style=\"color: #d4b702; text-decoration-color: #d4b702\">│</span>\n",
       "<span style=\"color: #d4b702; text-decoration-color: #d4b702\">│</span> <span style=\"font-weight: bold\">                \"frequency_code\": \"BID\",</span>                                                                        <span style=\"color: #d4b702; text-decoration-color: #d4b702\">│</span>\n",
       "<span style=\"color: #d4b702; text-decoration-color: #d4b702\">│</span> <span style=\"font-weight: bold\">                \"rxcui\": \"\", </span>                                                                                   <span style=\"color: #d4b702; text-decoration-color: #d4b702\">│</span>\n",
       "<span style=\"color: #d4b702; text-decoration-color: #d4b702\">│</span> <span style=\"font-weight: bold\">                \"atc_id\": \"\", </span>                                                                                  <span style=\"color: #d4b702; text-decoration-color: #d4b702\">│</span>\n",
       "<span style=\"color: #d4b702; text-decoration-color: #d4b702\">│</span> <span style=\"font-weight: bold\">                \"atc_name\": \"\", </span>                                                                                <span style=\"color: #d4b702; text-decoration-color: #d4b702\">│</span>\n",
       "<span style=\"color: #d4b702; text-decoration-color: #d4b702\">│</span> <span style=\"font-weight: bold\">                \"atc_type\": \"\"</span>                                                                                  <span style=\"color: #d4b702; text-decoration-color: #d4b702\">│</span>\n",
       "<span style=\"color: #d4b702; text-decoration-color: #d4b702\">│</span> <span style=\"font-weight: bold\">            }</span>                                                                                                   <span style=\"color: #d4b702; text-decoration-color: #d4b702\">│</span>\n",
       "<span style=\"color: #d4b702; text-decoration-color: #d4b702\">│</span> <span style=\"font-weight: bold\">        \\]</span>                                                                                                      <span style=\"color: #d4b702; text-decoration-color: #d4b702\">│</span>\n",
       "<span style=\"color: #d4b702; text-decoration-color: #d4b702\">│</span> <span style=\"font-weight: bold\">        Example 4:</span>                                                                                              <span style=\"color: #d4b702; text-decoration-color: #d4b702\">│</span>\n",
       "<span style=\"color: #d4b702; text-decoration-color: #d4b702\">│</span> <span style=\"font-weight: bold\">        Input: \"Piperacillin/Tazobactam 1g/1g 1-0-1-0\"</span>                                                          <span style=\"color: #d4b702; text-decoration-color: #d4b702\">│</span>\n",
       "<span style=\"color: #d4b702; text-decoration-color: #d4b702\">│</span> <span style=\"font-weight: bold\">        Output: [</span>                                                                                               <span style=\"color: #d4b702; text-decoration-color: #d4b702\">│</span>\n",
       "<span style=\"color: #d4b702; text-decoration-color: #d4b702\">│</span> <span style=\"font-weight: bold\">            {</span>                                                                                                   <span style=\"color: #d4b702; text-decoration-color: #d4b702\">│</span>\n",
       "<span style=\"color: #d4b702; text-decoration-color: #d4b702\">│</span> <span style=\"font-weight: bold\">                \"patient_id\": 4, </span>                                                                               <span style=\"color: #d4b702; text-decoration-color: #d4b702\">│</span>\n",
       "<span style=\"color: #d4b702; text-decoration-color: #d4b702\">│</span> <span style=\"font-weight: bold\">                \"medication_reference\": \"Piperacillin/Tazobactam 1g/1g\", </span>                                       <span style=\"color: #d4b702; text-decoration-color: #d4b702\">│</span>\n",
       "<span style=\"color: #d4b702; text-decoration-color: #d4b702\">│</span> <span style=\"font-weight: bold\">                \"medication_name\": \"Piperacillin\", </span>                                                             <span style=\"color: #d4b702; text-decoration-color: #d4b702\">│</span>\n",
       "<span style=\"color: #d4b702; text-decoration-color: #d4b702\">│</span> <span style=\"font-weight: bold\">                \"medication_translated\": \"Piperacillin (piperacillin)\", </span>                                        <span style=\"color: #d4b702; text-decoration-color: #d4b702\">│</span>\n",
       "<span style=\"color: #d4b702; text-decoration-color: #d4b702\">│</span> <span style=\"font-weight: bold\">                \"active_ingredient\": \"piperacillin\", </span>                                                           <span style=\"color: #d4b702; text-decoration-color: #d4b702\">│</span>\n",
       "<span style=\"color: #d4b702; text-decoration-color: #d4b702\">│</span> <span style=\"font-weight: bold\">                \"dose\": 1000, </span>                                                                                  <span style=\"color: #d4b702; text-decoration-color: #d4b702\">│</span>\n",
       "<span style=\"color: #d4b702; text-decoration-color: #d4b702\">│</span> <span style=\"font-weight: bold\">                \"unit\": \"mg\", </span>                                                                                  <span style=\"color: #d4b702; text-decoration-color: #d4b702\">│</span>\n",
       "<span style=\"color: #d4b702; text-decoration-color: #d4b702\">│</span> <span style=\"font-weight: bold\">                \"route\": \"\", </span>                                                                                   <span style=\"color: #d4b702; text-decoration-color: #d4b702\">│</span>\n",
       "<span style=\"color: #d4b702; text-decoration-color: #d4b702\">│</span> <span style=\"font-weight: bold\">                \"frequency\": \"1-0-1-0\", </span>                                                                        <span style=\"color: #d4b702; text-decoration-color: #d4b702\">│</span>\n",
       "<span style=\"color: #d4b702; text-decoration-color: #d4b702\">│</span> <span style=\"font-weight: bold\">                \"frequency_code\": \"BID\",</span>                                                                        <span style=\"color: #d4b702; text-decoration-color: #d4b702\">│</span>\n",
       "<span style=\"color: #d4b702; text-decoration-color: #d4b702\">│</span> <span style=\"font-weight: bold\">                \"rxcui\": \"\", </span>                                                                                   <span style=\"color: #d4b702; text-decoration-color: #d4b702\">│</span>\n",
       "<span style=\"color: #d4b702; text-decoration-color: #d4b702\">│</span> <span style=\"font-weight: bold\">                \"atc_id\": \"\", </span>                                                                                  <span style=\"color: #d4b702; text-decoration-color: #d4b702\">│</span>\n",
       "<span style=\"color: #d4b702; text-decoration-color: #d4b702\">│</span> <span style=\"font-weight: bold\">                \"atc_name\": \"\", </span>                                                                                <span style=\"color: #d4b702; text-decoration-color: #d4b702\">│</span>\n",
       "<span style=\"color: #d4b702; text-decoration-color: #d4b702\">│</span> <span style=\"font-weight: bold\">                \"atc_type\": \"\"</span>                                                                                  <span style=\"color: #d4b702; text-decoration-color: #d4b702\">│</span>\n",
       "<span style=\"color: #d4b702; text-decoration-color: #d4b702\">│</span> <span style=\"font-weight: bold\">            },</span>                                                                                                  <span style=\"color: #d4b702; text-decoration-color: #d4b702\">│</span>\n",
       "<span style=\"color: #d4b702; text-decoration-color: #d4b702\">│</span> <span style=\"font-weight: bold\">            {</span>                                                                                                   <span style=\"color: #d4b702; text-decoration-color: #d4b702\">│</span>\n",
       "<span style=\"color: #d4b702; text-decoration-color: #d4b702\">│</span> <span style=\"font-weight: bold\">                \"patient_id\": 4, </span>                                                                               <span style=\"color: #d4b702; text-decoration-color: #d4b702\">│</span>\n",
       "<span style=\"color: #d4b702; text-decoration-color: #d4b702\">│</span> <span style=\"font-weight: bold\">                \"medication_reference\": \"Piperacillin/Tazobactam 1g/1g\", </span>                                       <span style=\"color: #d4b702; text-decoration-color: #d4b702\">│</span>\n",
       "<span style=\"color: #d4b702; text-decoration-color: #d4b702\">│</span> <span style=\"font-weight: bold\">                \"medication_name\": \"Tazobactam\", </span>                                                               <span style=\"color: #d4b702; text-decoration-color: #d4b702\">│</span>\n",
       "<span style=\"color: #d4b702; text-decoration-color: #d4b702\">│</span> <span style=\"font-weight: bold\">                \"medication_translated\": \"Tazobactam (tazobactam)\", </span>                                            <span style=\"color: #d4b702; text-decoration-color: #d4b702\">│</span>\n",
       "<span style=\"color: #d4b702; text-decoration-color: #d4b702\">│</span> <span style=\"font-weight: bold\">                \"active_ingredient\": \"tazobactam\", </span>                                                             <span style=\"color: #d4b702; text-decoration-color: #d4b702\">│</span>\n",
       "<span style=\"color: #d4b702; text-decoration-color: #d4b702\">│</span> <span style=\"font-weight: bold\">                \"dose\": 1000, </span>                                                                                  <span style=\"color: #d4b702; text-decoration-color: #d4b702\">│</span>\n",
       "<span style=\"color: #d4b702; text-decoration-color: #d4b702\">│</span> <span style=\"font-weight: bold\">                \"unit\": \"mg\", </span>                                                                                  <span style=\"color: #d4b702; text-decoration-color: #d4b702\">│</span>\n",
       "<span style=\"color: #d4b702; text-decoration-color: #d4b702\">│</span> <span style=\"font-weight: bold\">                \"route\": \"\", </span>                                                                                   <span style=\"color: #d4b702; text-decoration-color: #d4b702\">│</span>\n",
       "<span style=\"color: #d4b702; text-decoration-color: #d4b702\">│</span> <span style=\"font-weight: bold\">                \"frequency\": \"1-0-1-0\", </span>                                                                        <span style=\"color: #d4b702; text-decoration-color: #d4b702\">│</span>\n",
       "<span style=\"color: #d4b702; text-decoration-color: #d4b702\">│</span> <span style=\"font-weight: bold\">                \"frequency_code\": \"BID\",</span>                                                                        <span style=\"color: #d4b702; text-decoration-color: #d4b702\">│</span>\n",
       "<span style=\"color: #d4b702; text-decoration-color: #d4b702\">│</span> <span style=\"font-weight: bold\">                \"rxcui\": \"\", </span>                                                                                   <span style=\"color: #d4b702; text-decoration-color: #d4b702\">│</span>\n",
       "<span style=\"color: #d4b702; text-decoration-color: #d4b702\">│</span> <span style=\"font-weight: bold\">                \"atc_id\": \"\", </span>                                                                                  <span style=\"color: #d4b702; text-decoration-color: #d4b702\">│</span>\n",
       "<span style=\"color: #d4b702; text-decoration-color: #d4b702\">│</span> <span style=\"font-weight: bold\">                \"atc_name\": \"\", </span>                                                                                <span style=\"color: #d4b702; text-decoration-color: #d4b702\">│</span>\n",
       "<span style=\"color: #d4b702; text-decoration-color: #d4b702\">│</span> <span style=\"font-weight: bold\">                \"atc_type\": \"\"</span>                                                                                  <span style=\"color: #d4b702; text-decoration-color: #d4b702\">│</span>\n",
       "<span style=\"color: #d4b702; text-decoration-color: #d4b702\">│</span> <span style=\"font-weight: bold\">            }</span>                                                                                                   <span style=\"color: #d4b702; text-decoration-color: #d4b702\">│</span>\n",
       "<span style=\"color: #d4b702; text-decoration-color: #d4b702\">│</span> <span style=\"font-weight: bold\">        \\]</span>                                                                                                      <span style=\"color: #d4b702; text-decoration-color: #d4b702\">│</span>\n",
       "<span style=\"color: #d4b702; text-decoration-color: #d4b702\">│</span> <span style=\"font-weight: bold\">        Example 5:</span>                                                                                              <span style=\"color: #d4b702; text-decoration-color: #d4b702\">│</span>\n",
       "<span style=\"color: #d4b702; text-decoration-color: #d4b702\">│</span> <span style=\"font-weight: bold\">        Input: \"Tilidin 5mg bB\"</span>                                                                                 <span style=\"color: #d4b702; text-decoration-color: #d4b702\">│</span>\n",
       "<span style=\"color: #d4b702; text-decoration-color: #d4b702\">│</span> <span style=\"font-weight: bold\">        Output: [</span>                                                                                               <span style=\"color: #d4b702; text-decoration-color: #d4b702\">│</span>\n",
       "<span style=\"color: #d4b702; text-decoration-color: #d4b702\">│</span> <span style=\"font-weight: bold\">            {</span>                                                                                                   <span style=\"color: #d4b702; text-decoration-color: #d4b702\">│</span>\n",
       "<span style=\"color: #d4b702; text-decoration-color: #d4b702\">│</span> <span style=\"font-weight: bold\">                \"patient_id\": 5, </span>                                                                               <span style=\"color: #d4b702; text-decoration-color: #d4b702\">│</span>\n",
       "<span style=\"color: #d4b702; text-decoration-color: #d4b702\">│</span> <span style=\"font-weight: bold\">                \"medication_reference\": \"Tilidin 5mg bB\", </span>                                                      <span style=\"color: #d4b702; text-decoration-color: #d4b702\">│</span>\n",
       "<span style=\"color: #d4b702; text-decoration-color: #d4b702\">│</span> <span style=\"font-weight: bold\">                \"medication_name\": \"Tilidin\", </span>                                                                  <span style=\"color: #d4b702; text-decoration-color: #d4b702\">│</span>\n",
       "<span style=\"color: #d4b702; text-decoration-color: #d4b702\">│</span> <span style=\"font-weight: bold\">                \"medication_translated\": \"Tilidin (tilidine)\", </span>                                                 <span style=\"color: #d4b702; text-decoration-color: #d4b702\">│</span>\n",
       "<span style=\"color: #d4b702; text-decoration-color: #d4b702\">│</span> <span style=\"font-weight: bold\">                \"active_ingredient\": \"tilidine\", </span>                                                               <span style=\"color: #d4b702; text-decoration-color: #d4b702\">│</span>\n",
       "<span style=\"color: #d4b702; text-decoration-color: #d4b702\">│</span> <span style=\"font-weight: bold\">                \"dose\": 5, </span>                                                                                     <span style=\"color: #d4b702; text-decoration-color: #d4b702\">│</span>\n",
       "<span style=\"color: #d4b702; text-decoration-color: #d4b702\">│</span> <span style=\"font-weight: bold\">                \"unit\": \"mg\", </span>                                                                                  <span style=\"color: #d4b702; text-decoration-color: #d4b702\">│</span>\n",
       "<span style=\"color: #d4b702; text-decoration-color: #d4b702\">│</span> <span style=\"font-weight: bold\">                \"route\": \"\", </span>                                                                                   <span style=\"color: #d4b702; text-decoration-color: #d4b702\">│</span>\n",
       "<span style=\"color: #d4b702; text-decoration-color: #d4b702\">│</span> <span style=\"font-weight: bold\">                \"frequency\": \"\", </span>                                                                               <span style=\"color: #d4b702; text-decoration-color: #d4b702\">│</span>\n",
       "<span style=\"color: #d4b702; text-decoration-color: #d4b702\">│</span> <span style=\"font-weight: bold\">                \"frequency_code\": \"NaF\",</span>                                                                        <span style=\"color: #d4b702; text-decoration-color: #d4b702\">│</span>\n",
       "<span style=\"color: #d4b702; text-decoration-color: #d4b702\">│</span> <span style=\"font-weight: bold\">                \"rxcui\": \"\", </span>                                                                                   <span style=\"color: #d4b702; text-decoration-color: #d4b702\">│</span>\n",
       "<span style=\"color: #d4b702; text-decoration-color: #d4b702\">│</span> <span style=\"font-weight: bold\">                \"atc_id\": \"\", </span>                                                                                  <span style=\"color: #d4b702; text-decoration-color: #d4b702\">│</span>\n",
       "<span style=\"color: #d4b702; text-decoration-color: #d4b702\">│</span> <span style=\"font-weight: bold\">                \"atc_name\": \"\", </span>                                                                                <span style=\"color: #d4b702; text-decoration-color: #d4b702\">│</span>\n",
       "<span style=\"color: #d4b702; text-decoration-color: #d4b702\">│</span> <span style=\"font-weight: bold\">                \"atc_type\": \"\"</span>                                                                                  <span style=\"color: #d4b702; text-decoration-color: #d4b702\">│</span>\n",
       "<span style=\"color: #d4b702; text-decoration-color: #d4b702\">│</span> <span style=\"font-weight: bold\">            }</span>                                                                                                   <span style=\"color: #d4b702; text-decoration-color: #d4b702\">│</span>\n",
       "<span style=\"color: #d4b702; text-decoration-color: #d4b702\">│</span> <span style=\"font-weight: bold\">        \\]</span>                                                                                                      <span style=\"color: #d4b702; text-decoration-color: #d4b702\">│</span>\n",
       "<span style=\"color: #d4b702; text-decoration-color: #d4b702\">│</span> <span style=\"font-weight: bold\">        Example 6:</span>                                                                                              <span style=\"color: #d4b702; text-decoration-color: #d4b702\">│</span>\n",
       "<span style=\"color: #d4b702; text-decoration-color: #d4b702\">│</span> <span style=\"font-weight: bold\">        Input: \"Amlodipin 5mg\"</span>                                                                                  <span style=\"color: #d4b702; text-decoration-color: #d4b702\">│</span>\n",
       "<span style=\"color: #d4b702; text-decoration-color: #d4b702\">│</span> <span style=\"font-weight: bold\">        Output: [</span>                                                                                               <span style=\"color: #d4b702; text-decoration-color: #d4b702\">│</span>\n",
       "<span style=\"color: #d4b702; text-decoration-color: #d4b702\">│</span> <span style=\"font-weight: bold\">            {</span>                                                                                                   <span style=\"color: #d4b702; text-decoration-color: #d4b702\">│</span>\n",
       "<span style=\"color: #d4b702; text-decoration-color: #d4b702\">│</span> <span style=\"font-weight: bold\">                \"patient_id\": 6, </span>                                                                               <span style=\"color: #d4b702; text-decoration-color: #d4b702\">│</span>\n",
       "<span style=\"color: #d4b702; text-decoration-color: #d4b702\">│</span> <span style=\"font-weight: bold\">                \"medication_reference\": \"Amlodipin 5mg\", </span>                                                       <span style=\"color: #d4b702; text-decoration-color: #d4b702\">│</span>\n",
       "<span style=\"color: #d4b702; text-decoration-color: #d4b702\">│</span> <span style=\"font-weight: bold\">                \"medication_name\": \"Amlodipin\", </span>                                                                <span style=\"color: #d4b702; text-decoration-color: #d4b702\">│</span>\n",
       "<span style=\"color: #d4b702; text-decoration-color: #d4b702\">│</span> <span style=\"font-weight: bold\">                \"medication_translated\": \"Amlodipine (amlodipine)\", </span>                                            <span style=\"color: #d4b702; text-decoration-color: #d4b702\">│</span>\n",
       "<span style=\"color: #d4b702; text-decoration-color: #d4b702\">│</span> <span style=\"font-weight: bold\">                \"active_ingredient\": \"amlodipine\", </span>                                                             <span style=\"color: #d4b702; text-decoration-color: #d4b702\">│</span>\n",
       "<span style=\"color: #d4b702; text-decoration-color: #d4b702\">│</span> <span style=\"font-weight: bold\">                \"dose\": 5, </span>                                                                                     <span style=\"color: #d4b702; text-decoration-color: #d4b702\">│</span>\n",
       "<span style=\"color: #d4b702; text-decoration-color: #d4b702\">│</span> <span style=\"font-weight: bold\">                \"unit\": \"mg\", </span>                                                                                  <span style=\"color: #d4b702; text-decoration-color: #d4b702\">│</span>\n",
       "<span style=\"color: #d4b702; text-decoration-color: #d4b702\">│</span> <span style=\"font-weight: bold\">                \"route\": \"\", </span>                                                                                   <span style=\"color: #d4b702; text-decoration-color: #d4b702\">│</span>\n",
       "<span style=\"color: #d4b702; text-decoration-color: #d4b702\">│</span> <span style=\"font-weight: bold\">                \"frequency\": \"\", </span>                                                                               <span style=\"color: #d4b702; text-decoration-color: #d4b702\">│</span>\n",
       "<span style=\"color: #d4b702; text-decoration-color: #d4b702\">│</span> <span style=\"font-weight: bold\">                \"frequency_code\": \"NaF\",</span>                                                                        <span style=\"color: #d4b702; text-decoration-color: #d4b702\">│</span>\n",
       "<span style=\"color: #d4b702; text-decoration-color: #d4b702\">│</span> <span style=\"font-weight: bold\">                \"rxcui\": \"\", </span>                                                                                   <span style=\"color: #d4b702; text-decoration-color: #d4b702\">│</span>\n",
       "<span style=\"color: #d4b702; text-decoration-color: #d4b702\">│</span> <span style=\"font-weight: bold\">                \"atc_id\": \"\", </span>                                                                                  <span style=\"color: #d4b702; text-decoration-color: #d4b702\">│</span>\n",
       "<span style=\"color: #d4b702; text-decoration-color: #d4b702\">│</span> <span style=\"font-weight: bold\">                \"atc_name\": \"\", </span>                                                                                <span style=\"color: #d4b702; text-decoration-color: #d4b702\">│</span>\n",
       "<span style=\"color: #d4b702; text-decoration-color: #d4b702\">│</span> <span style=\"font-weight: bold\">                \"atc_type\": \"\"</span>                                                                                  <span style=\"color: #d4b702; text-decoration-color: #d4b702\">│</span>\n",
       "<span style=\"color: #d4b702; text-decoration-color: #d4b702\">│</span> <span style=\"font-weight: bold\">            }</span>                                                                                                   <span style=\"color: #d4b702; text-decoration-color: #d4b702\">│</span>\n",
       "<span style=\"color: #d4b702; text-decoration-color: #d4b702\">│</span> <span style=\"font-weight: bold\">        \\]</span>                                                                                                      <span style=\"color: #d4b702; text-decoration-color: #d4b702\">│</span>\n",
       "<span style=\"color: #d4b702; text-decoration-color: #d4b702\">│</span> <span style=\"font-weight: bold\">        ---</span>                                                                                                     <span style=\"color: #d4b702; text-decoration-color: #d4b702\">│</span>\n",
       "<span style=\"color: #d4b702; text-decoration-color: #d4b702\">│</span>                                                                                                                 <span style=\"color: #d4b702; text-decoration-color: #d4b702\">│</span>\n",
       "<span style=\"color: #d4b702; text-decoration-color: #d4b702\">│</span> <span style=\"font-weight: bold\">        Columns:</span>                                                                                                <span style=\"color: #d4b702; text-decoration-color: #d4b702\">│</span>\n",
       "<span style=\"color: #d4b702; text-decoration-color: #d4b702\">│</span> <span style=\"font-weight: bold\">        - patient_id: The patient ID.</span>                                                                           <span style=\"color: #d4b702; text-decoration-color: #d4b702\">│</span>\n",
       "<span style=\"color: #d4b702; text-decoration-color: #d4b702\">│</span> <span style=\"font-weight: bold\">        - medication_reference: The medication name in the document.</span>                                            <span style=\"color: #d4b702; text-decoration-color: #d4b702\">│</span>\n",
       "<span style=\"color: #d4b702; text-decoration-color: #d4b702\">│</span> <span style=\"font-weight: bold\">        - medication_name: The name of the medication in the document without dose, unit or additional </span>         <span style=\"color: #d4b702; text-decoration-color: #d4b702\">│</span>\n",
       "<span style=\"color: #d4b702; text-decoration-color: #d4b702\">│</span> <span style=\"font-weight: bold\">information.</span>                                                                                                    <span style=\"color: #d4b702; text-decoration-color: #d4b702\">│</span>\n",
       "<span style=\"color: #d4b702; text-decoration-color: #d4b702\">│</span> <span style=\"font-weight: bold\">        - medication_translated: The corrected name of the medication, translated to english. Use the following</span> <span style=\"color: #d4b702; text-decoration-color: #d4b702\">│</span>\n",
       "<span style=\"color: #d4b702; text-decoration-color: #d4b702\">│</span> <span style=\"font-weight: bold\">format \"Brand name or medication name (active ingredient)\". e.g. \"Aspirin (acetylsalicylic acid)\".</span>              <span style=\"color: #d4b702; text-decoration-color: #d4b702\">│</span>\n",
       "<span style=\"color: #d4b702; text-decoration-color: #d4b702\">│</span> <span style=\"font-weight: bold\">        - active_ingredient: The active ingredient of the medication. if not applicable, write an empty string.</span> <span style=\"color: #d4b702; text-decoration-color: #d4b702\">│</span>\n",
       "<span style=\"color: #d4b702; text-decoration-color: #d4b702\">│</span> <span style=\"font-weight: bold\">        - dose: The dose of the medication. this sould only contain the numeric value.</span>                          <span style=\"color: #d4b702; text-decoration-color: #d4b702\">│</span>\n",
       "<span style=\"color: #d4b702; text-decoration-color: #d4b702\">│</span> <span style=\"font-weight: bold\">        - unit: The unit of the dose (e.g. ml, mg, ...). if not applicable, write an empty string.</span>              <span style=\"color: #d4b702; text-decoration-color: #d4b702\">│</span>\n",
       "<span style=\"color: #d4b702; text-decoration-color: #d4b702\">│</span> <span style=\"font-weight: bold\">        - route: The route of administration of the medication. if not applicable, write an empty string.</span>       <span style=\"color: #d4b702; text-decoration-color: #d4b702\">│</span>\n",
       "<span style=\"color: #d4b702; text-decoration-color: #d4b702\">│</span> <span style=\"font-weight: bold\">        - frequency: The raw frequency text of the medication. if not applicable, write an empty string.</span>        <span style=\"color: #d4b702; text-decoration-color: #d4b702\">│</span>\n",
       "<span style=\"color: #d4b702; text-decoration-color: #d4b702\">│</span> <span style=\"font-weight: bold\">        - frequency_code: The frequency code of the medication. if not applicable, write an empty string. </span>      <span style=\"color: #d4b702; text-decoration-color: #d4b702\">│</span>\n",
       "<span style=\"color: #d4b702; text-decoration-color: #d4b702\">│</span> <span style=\"font-weight: bold\">        - rxcui: The RXCUI of the medication. if not applicable, write an empty string.</span>                         <span style=\"color: #d4b702; text-decoration-color: #d4b702\">│</span>\n",
       "<span style=\"color: #d4b702; text-decoration-color: #d4b702\">│</span> <span style=\"font-weight: bold\">        - atc_id: The ATC code of the medication. if not applicable, write an empty string.</span>                     <span style=\"color: #d4b702; text-decoration-color: #d4b702\">│</span>\n",
       "<span style=\"color: #d4b702; text-decoration-color: #d4b702\">│</span> <span style=\"font-weight: bold\">        - atc_name: The name of the ATC code. if not applicable, write an empty string.</span>                         <span style=\"color: #d4b702; text-decoration-color: #d4b702\">│</span>\n",
       "<span style=\"color: #d4b702; text-decoration-color: #d4b702\">│</span> <span style=\"font-weight: bold\">        - atc_type: The type of the ATC code. if not applicable, write an empty string.</span>                         <span style=\"color: #d4b702; text-decoration-color: #d4b702\">│</span>\n",
       "<span style=\"color: #d4b702; text-decoration-color: #d4b702\">│</span>                                                                                                                 <span style=\"color: #d4b702; text-decoration-color: #d4b702\">│</span>\n",
       "<span style=\"color: #d4b702; text-decoration-color: #d4b702\">│</span>                                                                                                                 <span style=\"color: #d4b702; text-decoration-color: #d4b702\">│</span>\n",
       "<span style=\"color: #d4b702; text-decoration-color: #d4b702\">│</span> <span style=\"font-weight: bold\">--------------------------------------------------------------------------------</span>                                <span style=\"color: #d4b702; text-decoration-color: #d4b702\">│</span>\n",
       "<span style=\"color: #d4b702; text-decoration-color: #d4b702\">│</span> <span style=\"font-weight: bold\">Data: </span>                                                                                                          <span style=\"color: #d4b702; text-decoration-color: #d4b702\">│</span>\n",
       "<span style=\"color: #d4b702; text-decoration-color: #d4b702\">│</span> <span style=\"font-weight: bold\">        Patient: 5</span>                                                                                              <span style=\"color: #d4b702; text-decoration-color: #d4b702\">│</span>\n",
       "<span style=\"color: #d4b702; text-decoration-color: #d4b702\">│</span> <span style=\"font-weight: bold\">        \"Amlodipin 10mg   1-0-0</span>                                                                                 <span style=\"color: #d4b702; text-decoration-color: #d4b702\">│</span>\n",
       "<span style=\"color: #d4b702; text-decoration-color: #d4b702\">│</span> <span style=\"font-weight: bold\">        \\</span>                                                                                                       <span style=\"color: #d4b702; text-decoration-color: #d4b702\">│</span>\n",
       "<span style=\"color: #d4b702; text-decoration-color: #d4b702\">│</span> <span style=\"font-weight: bold\">        Bisoprolol 10mg   1-0-0</span>                                                                                 <span style=\"color: #d4b702; text-decoration-color: #d4b702\">│</span>\n",
       "<span style=\"color: #d4b702; text-decoration-color: #d4b702\">│</span> <span style=\"font-weight: bold\">        \\</span>                                                                                                       <span style=\"color: #d4b702; text-decoration-color: #d4b702\">│</span>\n",
       "<span style=\"color: #d4b702; text-decoration-color: #d4b702\">│</span> <span style=\"font-weight: bold\">        Lisinopril 30mg     1-0-0</span>                                                                               <span style=\"color: #d4b702; text-decoration-color: #d4b702\">│</span>\n",
       "<span style=\"color: #d4b702; text-decoration-color: #d4b702\">│</span> <span style=\"font-weight: bold\">        \\</span>                                                                                                       <span style=\"color: #d4b702; text-decoration-color: #d4b702\">│</span>\n",
       "<span style=\"color: #d4b702; text-decoration-color: #d4b702\">│</span> <span style=\"font-weight: bold\">        Torasemid 10mg   1-0-0</span>                                                                                  <span style=\"color: #d4b702; text-decoration-color: #d4b702\">│</span>\n",
       "<span style=\"color: #d4b702; text-decoration-color: #d4b702\">│</span> <span style=\"font-weight: bold\">        \\</span>                                                                                                       <span style=\"color: #d4b702; text-decoration-color: #d4b702\">│</span>\n",
       "<span style=\"color: #d4b702; text-decoration-color: #d4b702\">│</span> <span style=\"font-weight: bold\">        Midazolam b.B.</span>                                                                                          <span style=\"color: #d4b702; text-decoration-color: #d4b702\">│</span>\n",
       "<span style=\"color: #d4b702; text-decoration-color: #d4b702\">│</span> <span style=\"font-weight: bold\">        \\</span>                                                                                                       <span style=\"color: #d4b702; text-decoration-color: #d4b702\">│</span>\n",
       "<span style=\"color: #d4b702; text-decoration-color: #d4b702\">│</span> <span style=\"font-weight: bold\">        Simvastatin 20mg  0-0-1</span>                                                                                 <span style=\"color: #d4b702; text-decoration-color: #d4b702\">│</span>\n",
       "<span style=\"color: #d4b702; text-decoration-color: #d4b702\">│</span> <span style=\"font-weight: bold\">        \\</span>                                                                                                       <span style=\"color: #d4b702; text-decoration-color: #d4b702\">│</span>\n",
       "<span style=\"color: #d4b702; text-decoration-color: #d4b702\">│</span> <span style=\"font-weight: bold\">        Ampicillin 4,5g 1-1-1-1</span>                                                                                 <span style=\"color: #d4b702; text-decoration-color: #d4b702\">│</span>\n",
       "<span style=\"color: #d4b702; text-decoration-color: #d4b702\">│</span> <span style=\"font-weight: bold\">        \\</span>                                                                                                       <span style=\"color: #d4b702; text-decoration-color: #d4b702\">│</span>\n",
       "<span style=\"color: #d4b702; text-decoration-color: #d4b702\">│</span> <span style=\"font-weight: bold\">        Doxycyclin 200 mg  0-1-0\"</span>                                                                               <span style=\"color: #d4b702; text-decoration-color: #d4b702\">│</span>\n",
       "<span style=\"color: #d4b702; text-decoration-color: #d4b702\">│</span>                                                                                                                 <span style=\"color: #d4b702; text-decoration-color: #d4b702\">│</span>\n",
       "<span style=\"color: #d4b702; text-decoration-color: #d4b702\">╰─ AzureOpenAIServerModel - gpt-4o ───────────────────────────────────────────────────────────────────────────────╯</span>\n",
       "</pre>\n"
      ],
      "text/plain": [
       "\u001b[38;2;212;183;2m╭─\u001b[0m\u001b[38;2;212;183;2m────────────────────────────────────────────\u001b[0m\u001b[38;2;212;183;2m \u001b[0m\u001b[1;38;2;212;183;2mNew run - medication\u001b[0m\u001b[38;2;212;183;2m \u001b[0m\u001b[38;2;212;183;2m─────────────────────────────────────────────\u001b[0m\u001b[38;2;212;183;2m─╮\u001b[0m\n",
       "\u001b[38;2;212;183;2m│\u001b[0m                                                                                                                 \u001b[38;2;212;183;2m│\u001b[0m\n",
       "\u001b[38;2;212;183;2m│\u001b[0m \u001b[1mTask name: medication\u001b[0m                                                                                           \u001b[38;2;212;183;2m│\u001b[0m\n",
       "\u001b[38;2;212;183;2m│\u001b[0m \u001b[1mPrompt: \u001b[0m                                                                                                        \u001b[38;2;212;183;2m│\u001b[0m\n",
       "\u001b[38;2;212;183;2m│\u001b[0m \u001b[1m        Given a list of medications, save all medications for the patient as csv. The medications can be in any\u001b[0m \u001b[38;2;212;183;2m│\u001b[0m\n",
       "\u001b[38;2;212;183;2m│\u001b[0m \u001b[1mlanguage. The medications are usually in the format of a list of medications, with dosage and unit as well as \u001b[0m  \u001b[38;2;212;183;2m│\u001b[0m\n",
       "\u001b[38;2;212;183;2m│\u001b[0m \u001b[1mtheir dosage timings (e.g. 1-0-1-0 for moring and evening but not noon or night). Every medication should have \u001b[0m \u001b[38;2;212;183;2m│\u001b[0m\n",
       "\u001b[38;2;212;183;2m│\u001b[0m \u001b[1ma single row, if there are multiple medications that can be extracted from a single piece of text, e.g. a \u001b[0m      \u001b[38;2;212;183;2m│\u001b[0m\n",
       "\u001b[38;2;212;183;2m│\u001b[0m \u001b[1mcombined medication, split them up. These are the steps you should follow to complete the task:\u001b[0m                 \u001b[38;2;212;183;2m│\u001b[0m\n",
       "\u001b[38;2;212;183;2m│\u001b[0m                                                                                                                 \u001b[38;2;212;183;2m│\u001b[0m\n",
       "\u001b[38;2;212;183;2m│\u001b[0m \u001b[1m        To complete the task make the following steps:\u001b[0m                                                          \u001b[38;2;212;183;2m│\u001b[0m\n",
       "\u001b[38;2;212;183;2m│\u001b[0m \u001b[1m        1. Extract the medications from the text. The medication can be in any language. This is the \u001b[0m           \u001b[38;2;212;183;2m│\u001b[0m\n",
       "\u001b[38;2;212;183;2m│\u001b[0m \u001b[1mmedication_reference column.\u001b[0m                                                                                    \u001b[38;2;212;183;2m│\u001b[0m\n",
       "\u001b[38;2;212;183;2m│\u001b[0m \u001b[1m        2. If the medication name is not in english, translate it to english and infer the \u001b[0m                     \u001b[38;2;212;183;2m│\u001b[0m\n",
       "\u001b[38;2;212;183;2m│\u001b[0m \u001b[1mmedication_translated column. Correct any misspellings in the process. Use the following format \"Brand name or \u001b[0m \u001b[38;2;212;183;2m│\u001b[0m\n",
       "\u001b[38;2;212;183;2m│\u001b[0m \u001b[1mmedication name (active ingredient)\". e.g. \"Aspirin (acetylsalicylic acid)\".\u001b[0m                                    \u001b[38;2;212;183;2m│\u001b[0m\n",
       "\u001b[38;2;212;183;2m│\u001b[0m \u001b[1m        3. Extract the active ingredient of the medication and loose everything that is not relevant. This is \u001b[0m  \u001b[38;2;212;183;2m│\u001b[0m\n",
       "\u001b[38;2;212;183;2m│\u001b[0m \u001b[1mthe active_ingredient column.\u001b[0m                                                                                   \u001b[38;2;212;183;2m│\u001b[0m\n",
       "\u001b[38;2;212;183;2m│\u001b[0m \u001b[1m        4. Extract the dose of the medication. This should only contain the numeric value. This is the dose \u001b[0m    \u001b[38;2;212;183;2m│\u001b[0m\n",
       "\u001b[38;2;212;183;2m│\u001b[0m \u001b[1mcolumn.\u001b[0m                                                                                                         \u001b[38;2;212;183;2m│\u001b[0m\n",
       "\u001b[38;2;212;183;2m│\u001b[0m \u001b[1m        5. Extract the unit of the dose (e.g. ml, mg, ...). If possible, use mg. If not applicable, write an \u001b[0m   \u001b[38;2;212;183;2m│\u001b[0m\n",
       "\u001b[38;2;212;183;2m│\u001b[0m \u001b[1mempty string. This is the unit column.\u001b[0m                                                                          \u001b[38;2;212;183;2m│\u001b[0m\n",
       "\u001b[38;2;212;183;2m│\u001b[0m \u001b[1m        6. Extract the route (e.g. oral) of administration of the medication. If not applicable, write an empty\u001b[0m \u001b[38;2;212;183;2m│\u001b[0m\n",
       "\u001b[38;2;212;183;2m│\u001b[0m \u001b[1mstring. This is the route column.\u001b[0m                                                                               \u001b[38;2;212;183;2m│\u001b[0m\n",
       "\u001b[38;2;212;183;2m│\u001b[0m \u001b[1m        7. Extract the frequency of the medication. This is the frequency column. If not applicable, write an \u001b[0m  \u001b[38;2;212;183;2m│\u001b[0m\n",
       "\u001b[38;2;212;183;2m│\u001b[0m \u001b[1mempty string. The frequency can be in the format of \"1-0-1-0\" for morning and evening but not noon or night. If\u001b[0m \u001b[38;2;212;183;2m│\u001b[0m\n",
       "\u001b[38;2;212;183;2m│\u001b[0m \u001b[1mneeded translate to english (e.g. b.B. translate to \"as needed\"). If the medication is taken \"as needed\", write\u001b[0m \u001b[38;2;212;183;2m│\u001b[0m\n",
       "\u001b[38;2;212;183;2m│\u001b[0m \u001b[1m\"as needed\".\u001b[0m                                                                                                    \u001b[38;2;212;183;2m│\u001b[0m\n",
       "\u001b[38;2;212;183;2m│\u001b[0m \u001b[1m        8. Extract the frequency code of the medication. This is the frequency_code column. If not applicable, \u001b[0m \u001b[38;2;212;183;2m│\u001b[0m\n",
       "\u001b[38;2;212;183;2m│\u001b[0m \u001b[1mwrite an empty string. Use only the following codes:\u001b[0m                                                            \u001b[38;2;212;183;2m│\u001b[0m\n",
       "\u001b[38;2;212;183;2m│\u001b[0m \u001b[1m            - Q<int:hours>H: Every <int> hours (e.g. Q8H: Every 8 hours)\u001b[0m                                        \u001b[38;2;212;183;2m│\u001b[0m\n",
       "\u001b[38;2;212;183;2m│\u001b[0m \u001b[1m            - Q<int:days>D: Every <int> days (e.g. Q1D: Every 1 day)\u001b[0m                                            \u001b[38;2;212;183;2m│\u001b[0m\n",
       "\u001b[38;2;212;183;2m│\u001b[0m \u001b[1m            - Q<int:weeks>W: Every <int> weeks (e.g. Q1W: Every 1 week)\u001b[0m                                         \u001b[38;2;212;183;2m│\u001b[0m\n",
       "\u001b[38;2;212;183;2m│\u001b[0m \u001b[1m            - BID: Twice a day (e.g. 1-0-1-0)\u001b[0m                                                                   \u001b[38;2;212;183;2m│\u001b[0m\n",
       "\u001b[38;2;212;183;2m│\u001b[0m \u001b[1m            - TID: Three times a day (e.g. 1-1-1-0)\u001b[0m                                                             \u001b[38;2;212;183;2m│\u001b[0m\n",
       "\u001b[38;2;212;183;2m│\u001b[0m \u001b[1m            - QID: Four times a day (e.g. 1-1-1-1)\u001b[0m                                                              \u001b[38;2;212;183;2m│\u001b[0m\n",
       "\u001b[38;2;212;183;2m│\u001b[0m \u001b[1m            - QD: Once a day (used for medications that are taken once a day, e.g. 0-1-0 and doesn't fit AM/PM)\u001b[0m \u001b[38;2;212;183;2m│\u001b[0m\n",
       "\u001b[38;2;212;183;2m│\u001b[0m \u001b[1m            - AM: In the morning (1-0-0-0)\u001b[0m                                                                      \u001b[38;2;212;183;2m│\u001b[0m\n",
       "\u001b[38;2;212;183;2m│\u001b[0m \u001b[1m            - PM: In the evening (0-0-1-0)\u001b[0m                                                                      \u001b[38;2;212;183;2m│\u001b[0m\n",
       "\u001b[38;2;212;183;2m│\u001b[0m \u001b[1m            - PRN: As needed\u001b[0m                                                                                    \u001b[38;2;212;183;2m│\u001b[0m\n",
       "\u001b[38;2;212;183;2m│\u001b[0m \u001b[1m            - NaF: Not a frequency (e.g. for medications that are not taken regularly)\u001b[0m                          \u001b[38;2;212;183;2m│\u001b[0m\n",
       "\u001b[38;2;212;183;2m│\u001b[0m \u001b[1m        9. get the RXCUI for all medications. Use the active ingredient of the medications. If there are \u001b[0m       \u001b[38;2;212;183;2m│\u001b[0m\n",
       "\u001b[38;2;212;183;2m│\u001b[0m \u001b[1mmultiple RXCUI codes, choose the one that fits the best to the translated medication. Usually, the first \u001b[0m       \u001b[38;2;212;183;2m│\u001b[0m\n",
       "\u001b[38;2;212;183;2m│\u001b[0m \u001b[1mcandidate with a score of 1 is the best choice, but you can decide otherwise if you have reasonable grounds for\u001b[0m \u001b[38;2;212;183;2m│\u001b[0m\n",
       "\u001b[38;2;212;183;2m│\u001b[0m \u001b[1manother decision. If there are no codes, write an empty string.\u001b[0m                                                 \u001b[38;2;212;183;2m│\u001b[0m\n",
       "\u001b[38;2;212;183;2m│\u001b[0m \u001b[1m        10. get the ATC code for all medications. Use the rxcui of the medications.\u001b[0m                             \u001b[38;2;212;183;2m│\u001b[0m\n",
       "\u001b[38;2;212;183;2m│\u001b[0m \u001b[1m        11. save the medication information as csv with the columns defined below.\u001b[0m                              \u001b[38;2;212;183;2m│\u001b[0m\n",
       "\u001b[38;2;212;183;2m│\u001b[0m                                                                                                                 \u001b[38;2;212;183;2m│\u001b[0m\n",
       "\u001b[38;2;212;183;2m│\u001b[0m \u001b[1m        ---\u001b[0m                                                                                                     \u001b[38;2;212;183;2m│\u001b[0m\n",
       "\u001b[38;2;212;183;2m│\u001b[0m \u001b[1m        Example 1:\u001b[0m                                                                                              \u001b[38;2;212;183;2m│\u001b[0m\n",
       "\u001b[38;2;212;183;2m│\u001b[0m \u001b[1m        Input: \"Aspirin 100mg 1-0-1-0\"\u001b[0m                                                                          \u001b[38;2;212;183;2m│\u001b[0m\n",
       "\u001b[38;2;212;183;2m│\u001b[0m \u001b[1m        Output: [\u001b[0m                                                                                               \u001b[38;2;212;183;2m│\u001b[0m\n",
       "\u001b[38;2;212;183;2m│\u001b[0m \u001b[1m            {\u001b[0m                                                                                                   \u001b[38;2;212;183;2m│\u001b[0m\n",
       "\u001b[38;2;212;183;2m│\u001b[0m \u001b[1m                \"patient_id\": 1, \u001b[0m                                                                               \u001b[38;2;212;183;2m│\u001b[0m\n",
       "\u001b[38;2;212;183;2m│\u001b[0m \u001b[1m                \"medication_reference\": \u001b[0m                                                                        \u001b[38;2;212;183;2m│\u001b[0m\n",
       "\u001b[38;2;212;183;2m│\u001b[0m \u001b[1m                \"Aspirin 100mg\", \u001b[0m                                                                               \u001b[38;2;212;183;2m│\u001b[0m\n",
       "\u001b[38;2;212;183;2m│\u001b[0m \u001b[1m                \"medication_name\": \"Aspirin\", \u001b[0m                                                                  \u001b[38;2;212;183;2m│\u001b[0m\n",
       "\u001b[38;2;212;183;2m│\u001b[0m \u001b[1m                \"medication_translated\": \"Aspirin (acetylsalicylic acid)\", \u001b[0m                                     \u001b[38;2;212;183;2m│\u001b[0m\n",
       "\u001b[38;2;212;183;2m│\u001b[0m \u001b[1m                \"active_ingredient\": \"acetylsalicylic acid\", \u001b[0m                                                   \u001b[38;2;212;183;2m│\u001b[0m\n",
       "\u001b[38;2;212;183;2m│\u001b[0m \u001b[1m                \"dose\": 100, \u001b[0m                                                                                   \u001b[38;2;212;183;2m│\u001b[0m\n",
       "\u001b[38;2;212;183;2m│\u001b[0m \u001b[1m                \"unit\": \"mg\", \u001b[0m                                                                                  \u001b[38;2;212;183;2m│\u001b[0m\n",
       "\u001b[38;2;212;183;2m│\u001b[0m \u001b[1m                \"route\": \"\", \u001b[0m                                                                                   \u001b[38;2;212;183;2m│\u001b[0m\n",
       "\u001b[38;2;212;183;2m│\u001b[0m \u001b[1m                \"frequency\": \"1-0-1-0\", \u001b[0m                                                                        \u001b[38;2;212;183;2m│\u001b[0m\n",
       "\u001b[38;2;212;183;2m│\u001b[0m \u001b[1m                \"frequency_code\": \"BID\",\u001b[0m                                                                        \u001b[38;2;212;183;2m│\u001b[0m\n",
       "\u001b[38;2;212;183;2m│\u001b[0m \u001b[1m                \"rxcui\": \"\", \u001b[0m                                                                                   \u001b[38;2;212;183;2m│\u001b[0m\n",
       "\u001b[38;2;212;183;2m│\u001b[0m \u001b[1m                \"atc_id\": \"\", \u001b[0m                                                                                  \u001b[38;2;212;183;2m│\u001b[0m\n",
       "\u001b[38;2;212;183;2m│\u001b[0m \u001b[1m                \"atc_name\": \"\", \u001b[0m                                                                                \u001b[38;2;212;183;2m│\u001b[0m\n",
       "\u001b[38;2;212;183;2m│\u001b[0m \u001b[1m                \"atc_type\": \"\"\u001b[0m                                                                                  \u001b[38;2;212;183;2m│\u001b[0m\n",
       "\u001b[38;2;212;183;2m│\u001b[0m \u001b[1m            }\u001b[0m                                                                                                   \u001b[38;2;212;183;2m│\u001b[0m\n",
       "\u001b[38;2;212;183;2m│\u001b[0m \u001b[1m        \\]\u001b[0m                                                                                                      \u001b[38;2;212;183;2m│\u001b[0m\n",
       "\u001b[38;2;212;183;2m│\u001b[0m \u001b[1m        Example 2:\u001b[0m                                                                                              \u001b[38;2;212;183;2m│\u001b[0m\n",
       "\u001b[38;2;212;183;2m│\u001b[0m \u001b[1m        Input: \"Paracetamol 500mg 1-0-0-0\"\u001b[0m                                                                      \u001b[38;2;212;183;2m│\u001b[0m\n",
       "\u001b[38;2;212;183;2m│\u001b[0m \u001b[1m        Output: [\u001b[0m                                                                                               \u001b[38;2;212;183;2m│\u001b[0m\n",
       "\u001b[38;2;212;183;2m│\u001b[0m \u001b[1m            {\u001b[0m                                                                                                   \u001b[38;2;212;183;2m│\u001b[0m\n",
       "\u001b[38;2;212;183;2m│\u001b[0m \u001b[1m                \"patient_id\": 2, \u001b[0m                                                                               \u001b[38;2;212;183;2m│\u001b[0m\n",
       "\u001b[38;2;212;183;2m│\u001b[0m \u001b[1m                \"medication_reference\": \"Paracetamol 500mg\", \u001b[0m                                                   \u001b[38;2;212;183;2m│\u001b[0m\n",
       "\u001b[38;2;212;183;2m│\u001b[0m \u001b[1m                \"medication_name\": \"Paracetamol\", \u001b[0m                                                              \u001b[38;2;212;183;2m│\u001b[0m\n",
       "\u001b[38;2;212;183;2m│\u001b[0m \u001b[1m                \"medication_translated\": \"Paracetamol (acetaminophen)\", \u001b[0m                                        \u001b[38;2;212;183;2m│\u001b[0m\n",
       "\u001b[38;2;212;183;2m│\u001b[0m \u001b[1m                \"active_ingredient\": \"acetaminophen\", \u001b[0m                                                          \u001b[38;2;212;183;2m│\u001b[0m\n",
       "\u001b[38;2;212;183;2m│\u001b[0m \u001b[1m                \"dose\": 500, \u001b[0m                                                                                   \u001b[38;2;212;183;2m│\u001b[0m\n",
       "\u001b[38;2;212;183;2m│\u001b[0m \u001b[1m                \"unit\": \"mg\", \u001b[0m                                                                                  \u001b[38;2;212;183;2m│\u001b[0m\n",
       "\u001b[38;2;212;183;2m│\u001b[0m \u001b[1m                \"route\": \"\", \u001b[0m                                                                                   \u001b[38;2;212;183;2m│\u001b[0m\n",
       "\u001b[38;2;212;183;2m│\u001b[0m \u001b[1m                \"frequency\": \"1-0-0-0\", \u001b[0m                                                                        \u001b[38;2;212;183;2m│\u001b[0m\n",
       "\u001b[38;2;212;183;2m│\u001b[0m \u001b[1m                \"frequency_code\": \"AM\",\u001b[0m                                                                         \u001b[38;2;212;183;2m│\u001b[0m\n",
       "\u001b[38;2;212;183;2m│\u001b[0m \u001b[1m                \"rxcui\": \"\", \u001b[0m                                                                                   \u001b[38;2;212;183;2m│\u001b[0m\n",
       "\u001b[38;2;212;183;2m│\u001b[0m \u001b[1m                \"atc_id\": \"\", \u001b[0m                                                                                  \u001b[38;2;212;183;2m│\u001b[0m\n",
       "\u001b[38;2;212;183;2m│\u001b[0m \u001b[1m                \"atc_name\": \"\", \u001b[0m                                                                                \u001b[38;2;212;183;2m│\u001b[0m\n",
       "\u001b[38;2;212;183;2m│\u001b[0m \u001b[1m                \"atc_type\": \"\"\u001b[0m                                                                                  \u001b[38;2;212;183;2m│\u001b[0m\n",
       "\u001b[38;2;212;183;2m│\u001b[0m \u001b[1m            }\u001b[0m                                                                                                   \u001b[38;2;212;183;2m│\u001b[0m\n",
       "\u001b[38;2;212;183;2m│\u001b[0m \u001b[1m        \\]\u001b[0m                                                                                                      \u001b[38;2;212;183;2m│\u001b[0m\n",
       "\u001b[38;2;212;183;2m│\u001b[0m \u001b[1m        Example 3:\u001b[0m                                                                                              \u001b[38;2;212;183;2m│\u001b[0m\n",
       "\u001b[38;2;212;183;2m│\u001b[0m \u001b[1m        Input: \"Ibuprofen 400mg 1-1-0-0 (Oral)\"\u001b[0m                                                                 \u001b[38;2;212;183;2m│\u001b[0m\n",
       "\u001b[38;2;212;183;2m│\u001b[0m \u001b[1m        Output: [\u001b[0m                                                                                               \u001b[38;2;212;183;2m│\u001b[0m\n",
       "\u001b[38;2;212;183;2m│\u001b[0m \u001b[1m            {\u001b[0m                                                                                                   \u001b[38;2;212;183;2m│\u001b[0m\n",
       "\u001b[38;2;212;183;2m│\u001b[0m \u001b[1m                \"patient_id\": 3, \u001b[0m                                                                               \u001b[38;2;212;183;2m│\u001b[0m\n",
       "\u001b[38;2;212;183;2m│\u001b[0m \u001b[1m                \"medication_reference\": \"Ibuprofen 400mg\", \u001b[0m                                                     \u001b[38;2;212;183;2m│\u001b[0m\n",
       "\u001b[38;2;212;183;2m│\u001b[0m \u001b[1m                \"medication_name\": \"Ibuprofen\", \u001b[0m                                                                \u001b[38;2;212;183;2m│\u001b[0m\n",
       "\u001b[38;2;212;183;2m│\u001b[0m \u001b[1m                \"medication_translated\": \"Ibuprofen (ibuprofen)\", \u001b[0m                                              \u001b[38;2;212;183;2m│\u001b[0m\n",
       "\u001b[38;2;212;183;2m│\u001b[0m \u001b[1m                \"active_ingredient\": \"ibuprofen\", \u001b[0m                                                              \u001b[38;2;212;183;2m│\u001b[0m\n",
       "\u001b[38;2;212;183;2m│\u001b[0m \u001b[1m                \"dose\": 400, \u001b[0m                                                                                   \u001b[38;2;212;183;2m│\u001b[0m\n",
       "\u001b[38;2;212;183;2m│\u001b[0m \u001b[1m                \"unit\": \"mg\", \u001b[0m                                                                                  \u001b[38;2;212;183;2m│\u001b[0m\n",
       "\u001b[38;2;212;183;2m│\u001b[0m \u001b[1m                \"route\": \"Oral\", \u001b[0m                                                                               \u001b[38;2;212;183;2m│\u001b[0m\n",
       "\u001b[38;2;212;183;2m│\u001b[0m \u001b[1m                \"frequency\": \"1-1-0-0\", \u001b[0m                                                                        \u001b[38;2;212;183;2m│\u001b[0m\n",
       "\u001b[38;2;212;183;2m│\u001b[0m \u001b[1m                \"frequency_code\": \"BID\",\u001b[0m                                                                        \u001b[38;2;212;183;2m│\u001b[0m\n",
       "\u001b[38;2;212;183;2m│\u001b[0m \u001b[1m                \"rxcui\": \"\", \u001b[0m                                                                                   \u001b[38;2;212;183;2m│\u001b[0m\n",
       "\u001b[38;2;212;183;2m│\u001b[0m \u001b[1m                \"atc_id\": \"\", \u001b[0m                                                                                  \u001b[38;2;212;183;2m│\u001b[0m\n",
       "\u001b[38;2;212;183;2m│\u001b[0m \u001b[1m                \"atc_name\": \"\", \u001b[0m                                                                                \u001b[38;2;212;183;2m│\u001b[0m\n",
       "\u001b[38;2;212;183;2m│\u001b[0m \u001b[1m                \"atc_type\": \"\"\u001b[0m                                                                                  \u001b[38;2;212;183;2m│\u001b[0m\n",
       "\u001b[38;2;212;183;2m│\u001b[0m \u001b[1m            }\u001b[0m                                                                                                   \u001b[38;2;212;183;2m│\u001b[0m\n",
       "\u001b[38;2;212;183;2m│\u001b[0m \u001b[1m        \\]\u001b[0m                                                                                                      \u001b[38;2;212;183;2m│\u001b[0m\n",
       "\u001b[38;2;212;183;2m│\u001b[0m \u001b[1m        Example 4:\u001b[0m                                                                                              \u001b[38;2;212;183;2m│\u001b[0m\n",
       "\u001b[38;2;212;183;2m│\u001b[0m \u001b[1m        Input: \"Piperacillin/Tazobactam 1g/1g 1-0-1-0\"\u001b[0m                                                          \u001b[38;2;212;183;2m│\u001b[0m\n",
       "\u001b[38;2;212;183;2m│\u001b[0m \u001b[1m        Output: [\u001b[0m                                                                                               \u001b[38;2;212;183;2m│\u001b[0m\n",
       "\u001b[38;2;212;183;2m│\u001b[0m \u001b[1m            {\u001b[0m                                                                                                   \u001b[38;2;212;183;2m│\u001b[0m\n",
       "\u001b[38;2;212;183;2m│\u001b[0m \u001b[1m                \"patient_id\": 4, \u001b[0m                                                                               \u001b[38;2;212;183;2m│\u001b[0m\n",
       "\u001b[38;2;212;183;2m│\u001b[0m \u001b[1m                \"medication_reference\": \"Piperacillin/Tazobactam 1g/1g\", \u001b[0m                                       \u001b[38;2;212;183;2m│\u001b[0m\n",
       "\u001b[38;2;212;183;2m│\u001b[0m \u001b[1m                \"medication_name\": \"Piperacillin\", \u001b[0m                                                             \u001b[38;2;212;183;2m│\u001b[0m\n",
       "\u001b[38;2;212;183;2m│\u001b[0m \u001b[1m                \"medication_translated\": \"Piperacillin (piperacillin)\", \u001b[0m                                        \u001b[38;2;212;183;2m│\u001b[0m\n",
       "\u001b[38;2;212;183;2m│\u001b[0m \u001b[1m                \"active_ingredient\": \"piperacillin\", \u001b[0m                                                           \u001b[38;2;212;183;2m│\u001b[0m\n",
       "\u001b[38;2;212;183;2m│\u001b[0m \u001b[1m                \"dose\": 1000, \u001b[0m                                                                                  \u001b[38;2;212;183;2m│\u001b[0m\n",
       "\u001b[38;2;212;183;2m│\u001b[0m \u001b[1m                \"unit\": \"mg\", \u001b[0m                                                                                  \u001b[38;2;212;183;2m│\u001b[0m\n",
       "\u001b[38;2;212;183;2m│\u001b[0m \u001b[1m                \"route\": \"\", \u001b[0m                                                                                   \u001b[38;2;212;183;2m│\u001b[0m\n",
       "\u001b[38;2;212;183;2m│\u001b[0m \u001b[1m                \"frequency\": \"1-0-1-0\", \u001b[0m                                                                        \u001b[38;2;212;183;2m│\u001b[0m\n",
       "\u001b[38;2;212;183;2m│\u001b[0m \u001b[1m                \"frequency_code\": \"BID\",\u001b[0m                                                                        \u001b[38;2;212;183;2m│\u001b[0m\n",
       "\u001b[38;2;212;183;2m│\u001b[0m \u001b[1m                \"rxcui\": \"\", \u001b[0m                                                                                   \u001b[38;2;212;183;2m│\u001b[0m\n",
       "\u001b[38;2;212;183;2m│\u001b[0m \u001b[1m                \"atc_id\": \"\", \u001b[0m                                                                                  \u001b[38;2;212;183;2m│\u001b[0m\n",
       "\u001b[38;2;212;183;2m│\u001b[0m \u001b[1m                \"atc_name\": \"\", \u001b[0m                                                                                \u001b[38;2;212;183;2m│\u001b[0m\n",
       "\u001b[38;2;212;183;2m│\u001b[0m \u001b[1m                \"atc_type\": \"\"\u001b[0m                                                                                  \u001b[38;2;212;183;2m│\u001b[0m\n",
       "\u001b[38;2;212;183;2m│\u001b[0m \u001b[1m            },\u001b[0m                                                                                                  \u001b[38;2;212;183;2m│\u001b[0m\n",
       "\u001b[38;2;212;183;2m│\u001b[0m \u001b[1m            {\u001b[0m                                                                                                   \u001b[38;2;212;183;2m│\u001b[0m\n",
       "\u001b[38;2;212;183;2m│\u001b[0m \u001b[1m                \"patient_id\": 4, \u001b[0m                                                                               \u001b[38;2;212;183;2m│\u001b[0m\n",
       "\u001b[38;2;212;183;2m│\u001b[0m \u001b[1m                \"medication_reference\": \"Piperacillin/Tazobactam 1g/1g\", \u001b[0m                                       \u001b[38;2;212;183;2m│\u001b[0m\n",
       "\u001b[38;2;212;183;2m│\u001b[0m \u001b[1m                \"medication_name\": \"Tazobactam\", \u001b[0m                                                               \u001b[38;2;212;183;2m│\u001b[0m\n",
       "\u001b[38;2;212;183;2m│\u001b[0m \u001b[1m                \"medication_translated\": \"Tazobactam (tazobactam)\", \u001b[0m                                            \u001b[38;2;212;183;2m│\u001b[0m\n",
       "\u001b[38;2;212;183;2m│\u001b[0m \u001b[1m                \"active_ingredient\": \"tazobactam\", \u001b[0m                                                             \u001b[38;2;212;183;2m│\u001b[0m\n",
       "\u001b[38;2;212;183;2m│\u001b[0m \u001b[1m                \"dose\": 1000, \u001b[0m                                                                                  \u001b[38;2;212;183;2m│\u001b[0m\n",
       "\u001b[38;2;212;183;2m│\u001b[0m \u001b[1m                \"unit\": \"mg\", \u001b[0m                                                                                  \u001b[38;2;212;183;2m│\u001b[0m\n",
       "\u001b[38;2;212;183;2m│\u001b[0m \u001b[1m                \"route\": \"\", \u001b[0m                                                                                   \u001b[38;2;212;183;2m│\u001b[0m\n",
       "\u001b[38;2;212;183;2m│\u001b[0m \u001b[1m                \"frequency\": \"1-0-1-0\", \u001b[0m                                                                        \u001b[38;2;212;183;2m│\u001b[0m\n",
       "\u001b[38;2;212;183;2m│\u001b[0m \u001b[1m                \"frequency_code\": \"BID\",\u001b[0m                                                                        \u001b[38;2;212;183;2m│\u001b[0m\n",
       "\u001b[38;2;212;183;2m│\u001b[0m \u001b[1m                \"rxcui\": \"\", \u001b[0m                                                                                   \u001b[38;2;212;183;2m│\u001b[0m\n",
       "\u001b[38;2;212;183;2m│\u001b[0m \u001b[1m                \"atc_id\": \"\", \u001b[0m                                                                                  \u001b[38;2;212;183;2m│\u001b[0m\n",
       "\u001b[38;2;212;183;2m│\u001b[0m \u001b[1m                \"atc_name\": \"\", \u001b[0m                                                                                \u001b[38;2;212;183;2m│\u001b[0m\n",
       "\u001b[38;2;212;183;2m│\u001b[0m \u001b[1m                \"atc_type\": \"\"\u001b[0m                                                                                  \u001b[38;2;212;183;2m│\u001b[0m\n",
       "\u001b[38;2;212;183;2m│\u001b[0m \u001b[1m            }\u001b[0m                                                                                                   \u001b[38;2;212;183;2m│\u001b[0m\n",
       "\u001b[38;2;212;183;2m│\u001b[0m \u001b[1m        \\]\u001b[0m                                                                                                      \u001b[38;2;212;183;2m│\u001b[0m\n",
       "\u001b[38;2;212;183;2m│\u001b[0m \u001b[1m        Example 5:\u001b[0m                                                                                              \u001b[38;2;212;183;2m│\u001b[0m\n",
       "\u001b[38;2;212;183;2m│\u001b[0m \u001b[1m        Input: \"Tilidin 5mg bB\"\u001b[0m                                                                                 \u001b[38;2;212;183;2m│\u001b[0m\n",
       "\u001b[38;2;212;183;2m│\u001b[0m \u001b[1m        Output: [\u001b[0m                                                                                               \u001b[38;2;212;183;2m│\u001b[0m\n",
       "\u001b[38;2;212;183;2m│\u001b[0m \u001b[1m            {\u001b[0m                                                                                                   \u001b[38;2;212;183;2m│\u001b[0m\n",
       "\u001b[38;2;212;183;2m│\u001b[0m \u001b[1m                \"patient_id\": 5, \u001b[0m                                                                               \u001b[38;2;212;183;2m│\u001b[0m\n",
       "\u001b[38;2;212;183;2m│\u001b[0m \u001b[1m                \"medication_reference\": \"Tilidin 5mg bB\", \u001b[0m                                                      \u001b[38;2;212;183;2m│\u001b[0m\n",
       "\u001b[38;2;212;183;2m│\u001b[0m \u001b[1m                \"medication_name\": \"Tilidin\", \u001b[0m                                                                  \u001b[38;2;212;183;2m│\u001b[0m\n",
       "\u001b[38;2;212;183;2m│\u001b[0m \u001b[1m                \"medication_translated\": \"Tilidin (tilidine)\", \u001b[0m                                                 \u001b[38;2;212;183;2m│\u001b[0m\n",
       "\u001b[38;2;212;183;2m│\u001b[0m \u001b[1m                \"active_ingredient\": \"tilidine\", \u001b[0m                                                               \u001b[38;2;212;183;2m│\u001b[0m\n",
       "\u001b[38;2;212;183;2m│\u001b[0m \u001b[1m                \"dose\": 5, \u001b[0m                                                                                     \u001b[38;2;212;183;2m│\u001b[0m\n",
       "\u001b[38;2;212;183;2m│\u001b[0m \u001b[1m                \"unit\": \"mg\", \u001b[0m                                                                                  \u001b[38;2;212;183;2m│\u001b[0m\n",
       "\u001b[38;2;212;183;2m│\u001b[0m \u001b[1m                \"route\": \"\", \u001b[0m                                                                                   \u001b[38;2;212;183;2m│\u001b[0m\n",
       "\u001b[38;2;212;183;2m│\u001b[0m \u001b[1m                \"frequency\": \"\", \u001b[0m                                                                               \u001b[38;2;212;183;2m│\u001b[0m\n",
       "\u001b[38;2;212;183;2m│\u001b[0m \u001b[1m                \"frequency_code\": \"NaF\",\u001b[0m                                                                        \u001b[38;2;212;183;2m│\u001b[0m\n",
       "\u001b[38;2;212;183;2m│\u001b[0m \u001b[1m                \"rxcui\": \"\", \u001b[0m                                                                                   \u001b[38;2;212;183;2m│\u001b[0m\n",
       "\u001b[38;2;212;183;2m│\u001b[0m \u001b[1m                \"atc_id\": \"\", \u001b[0m                                                                                  \u001b[38;2;212;183;2m│\u001b[0m\n",
       "\u001b[38;2;212;183;2m│\u001b[0m \u001b[1m                \"atc_name\": \"\", \u001b[0m                                                                                \u001b[38;2;212;183;2m│\u001b[0m\n",
       "\u001b[38;2;212;183;2m│\u001b[0m \u001b[1m                \"atc_type\": \"\"\u001b[0m                                                                                  \u001b[38;2;212;183;2m│\u001b[0m\n",
       "\u001b[38;2;212;183;2m│\u001b[0m \u001b[1m            }\u001b[0m                                                                                                   \u001b[38;2;212;183;2m│\u001b[0m\n",
       "\u001b[38;2;212;183;2m│\u001b[0m \u001b[1m        \\]\u001b[0m                                                                                                      \u001b[38;2;212;183;2m│\u001b[0m\n",
       "\u001b[38;2;212;183;2m│\u001b[0m \u001b[1m        Example 6:\u001b[0m                                                                                              \u001b[38;2;212;183;2m│\u001b[0m\n",
       "\u001b[38;2;212;183;2m│\u001b[0m \u001b[1m        Input: \"Amlodipin 5mg\"\u001b[0m                                                                                  \u001b[38;2;212;183;2m│\u001b[0m\n",
       "\u001b[38;2;212;183;2m│\u001b[0m \u001b[1m        Output: [\u001b[0m                                                                                               \u001b[38;2;212;183;2m│\u001b[0m\n",
       "\u001b[38;2;212;183;2m│\u001b[0m \u001b[1m            {\u001b[0m                                                                                                   \u001b[38;2;212;183;2m│\u001b[0m\n",
       "\u001b[38;2;212;183;2m│\u001b[0m \u001b[1m                \"patient_id\": 6, \u001b[0m                                                                               \u001b[38;2;212;183;2m│\u001b[0m\n",
       "\u001b[38;2;212;183;2m│\u001b[0m \u001b[1m                \"medication_reference\": \"Amlodipin 5mg\", \u001b[0m                                                       \u001b[38;2;212;183;2m│\u001b[0m\n",
       "\u001b[38;2;212;183;2m│\u001b[0m \u001b[1m                \"medication_name\": \"Amlodipin\", \u001b[0m                                                                \u001b[38;2;212;183;2m│\u001b[0m\n",
       "\u001b[38;2;212;183;2m│\u001b[0m \u001b[1m                \"medication_translated\": \"Amlodipine (amlodipine)\", \u001b[0m                                            \u001b[38;2;212;183;2m│\u001b[0m\n",
       "\u001b[38;2;212;183;2m│\u001b[0m \u001b[1m                \"active_ingredient\": \"amlodipine\", \u001b[0m                                                             \u001b[38;2;212;183;2m│\u001b[0m\n",
       "\u001b[38;2;212;183;2m│\u001b[0m \u001b[1m                \"dose\": 5, \u001b[0m                                                                                     \u001b[38;2;212;183;2m│\u001b[0m\n",
       "\u001b[38;2;212;183;2m│\u001b[0m \u001b[1m                \"unit\": \"mg\", \u001b[0m                                                                                  \u001b[38;2;212;183;2m│\u001b[0m\n",
       "\u001b[38;2;212;183;2m│\u001b[0m \u001b[1m                \"route\": \"\", \u001b[0m                                                                                   \u001b[38;2;212;183;2m│\u001b[0m\n",
       "\u001b[38;2;212;183;2m│\u001b[0m \u001b[1m                \"frequency\": \"\", \u001b[0m                                                                               \u001b[38;2;212;183;2m│\u001b[0m\n",
       "\u001b[38;2;212;183;2m│\u001b[0m \u001b[1m                \"frequency_code\": \"NaF\",\u001b[0m                                                                        \u001b[38;2;212;183;2m│\u001b[0m\n",
       "\u001b[38;2;212;183;2m│\u001b[0m \u001b[1m                \"rxcui\": \"\", \u001b[0m                                                                                   \u001b[38;2;212;183;2m│\u001b[0m\n",
       "\u001b[38;2;212;183;2m│\u001b[0m \u001b[1m                \"atc_id\": \"\", \u001b[0m                                                                                  \u001b[38;2;212;183;2m│\u001b[0m\n",
       "\u001b[38;2;212;183;2m│\u001b[0m \u001b[1m                \"atc_name\": \"\", \u001b[0m                                                                                \u001b[38;2;212;183;2m│\u001b[0m\n",
       "\u001b[38;2;212;183;2m│\u001b[0m \u001b[1m                \"atc_type\": \"\"\u001b[0m                                                                                  \u001b[38;2;212;183;2m│\u001b[0m\n",
       "\u001b[38;2;212;183;2m│\u001b[0m \u001b[1m            }\u001b[0m                                                                                                   \u001b[38;2;212;183;2m│\u001b[0m\n",
       "\u001b[38;2;212;183;2m│\u001b[0m \u001b[1m        \\]\u001b[0m                                                                                                      \u001b[38;2;212;183;2m│\u001b[0m\n",
       "\u001b[38;2;212;183;2m│\u001b[0m \u001b[1m        ---\u001b[0m                                                                                                     \u001b[38;2;212;183;2m│\u001b[0m\n",
       "\u001b[38;2;212;183;2m│\u001b[0m                                                                                                                 \u001b[38;2;212;183;2m│\u001b[0m\n",
       "\u001b[38;2;212;183;2m│\u001b[0m \u001b[1m        Columns:\u001b[0m                                                                                                \u001b[38;2;212;183;2m│\u001b[0m\n",
       "\u001b[38;2;212;183;2m│\u001b[0m \u001b[1m        - patient_id: The patient ID.\u001b[0m                                                                           \u001b[38;2;212;183;2m│\u001b[0m\n",
       "\u001b[38;2;212;183;2m│\u001b[0m \u001b[1m        - medication_reference: The medication name in the document.\u001b[0m                                            \u001b[38;2;212;183;2m│\u001b[0m\n",
       "\u001b[38;2;212;183;2m│\u001b[0m \u001b[1m        - medication_name: The name of the medication in the document without dose, unit or additional \u001b[0m         \u001b[38;2;212;183;2m│\u001b[0m\n",
       "\u001b[38;2;212;183;2m│\u001b[0m \u001b[1minformation.\u001b[0m                                                                                                    \u001b[38;2;212;183;2m│\u001b[0m\n",
       "\u001b[38;2;212;183;2m│\u001b[0m \u001b[1m        - medication_translated: The corrected name of the medication, translated to english. Use the following\u001b[0m \u001b[38;2;212;183;2m│\u001b[0m\n",
       "\u001b[38;2;212;183;2m│\u001b[0m \u001b[1mformat \"Brand name or medication name (active ingredient)\". e.g. \"Aspirin (acetylsalicylic acid)\".\u001b[0m              \u001b[38;2;212;183;2m│\u001b[0m\n",
       "\u001b[38;2;212;183;2m│\u001b[0m \u001b[1m        - active_ingredient: The active ingredient of the medication. if not applicable, write an empty string.\u001b[0m \u001b[38;2;212;183;2m│\u001b[0m\n",
       "\u001b[38;2;212;183;2m│\u001b[0m \u001b[1m        - dose: The dose of the medication. this sould only contain the numeric value.\u001b[0m                          \u001b[38;2;212;183;2m│\u001b[0m\n",
       "\u001b[38;2;212;183;2m│\u001b[0m \u001b[1m        - unit: The unit of the dose (e.g. ml, mg, ...). if not applicable, write an empty string.\u001b[0m              \u001b[38;2;212;183;2m│\u001b[0m\n",
       "\u001b[38;2;212;183;2m│\u001b[0m \u001b[1m        - route: The route of administration of the medication. if not applicable, write an empty string.\u001b[0m       \u001b[38;2;212;183;2m│\u001b[0m\n",
       "\u001b[38;2;212;183;2m│\u001b[0m \u001b[1m        - frequency: The raw frequency text of the medication. if not applicable, write an empty string.\u001b[0m        \u001b[38;2;212;183;2m│\u001b[0m\n",
       "\u001b[38;2;212;183;2m│\u001b[0m \u001b[1m        - frequency_code: The frequency code of the medication. if not applicable, write an empty string. \u001b[0m      \u001b[38;2;212;183;2m│\u001b[0m\n",
       "\u001b[38;2;212;183;2m│\u001b[0m \u001b[1m        - rxcui: The RXCUI of the medication. if not applicable, write an empty string.\u001b[0m                         \u001b[38;2;212;183;2m│\u001b[0m\n",
       "\u001b[38;2;212;183;2m│\u001b[0m \u001b[1m        - atc_id: The ATC code of the medication. if not applicable, write an empty string.\u001b[0m                     \u001b[38;2;212;183;2m│\u001b[0m\n",
       "\u001b[38;2;212;183;2m│\u001b[0m \u001b[1m        - atc_name: The name of the ATC code. if not applicable, write an empty string.\u001b[0m                         \u001b[38;2;212;183;2m│\u001b[0m\n",
       "\u001b[38;2;212;183;2m│\u001b[0m \u001b[1m        - atc_type: The type of the ATC code. if not applicable, write an empty string.\u001b[0m                         \u001b[38;2;212;183;2m│\u001b[0m\n",
       "\u001b[38;2;212;183;2m│\u001b[0m                                                                                                                 \u001b[38;2;212;183;2m│\u001b[0m\n",
       "\u001b[38;2;212;183;2m│\u001b[0m                                                                                                                 \u001b[38;2;212;183;2m│\u001b[0m\n",
       "\u001b[38;2;212;183;2m│\u001b[0m \u001b[1m--------------------------------------------------------------------------------\u001b[0m                                \u001b[38;2;212;183;2m│\u001b[0m\n",
       "\u001b[38;2;212;183;2m│\u001b[0m \u001b[1mData: \u001b[0m                                                                                                          \u001b[38;2;212;183;2m│\u001b[0m\n",
       "\u001b[38;2;212;183;2m│\u001b[0m \u001b[1m        Patient: 5\u001b[0m                                                                                              \u001b[38;2;212;183;2m│\u001b[0m\n",
       "\u001b[38;2;212;183;2m│\u001b[0m \u001b[1m        \"Amlodipin 10mg   1-0-0\u001b[0m                                                                                 \u001b[38;2;212;183;2m│\u001b[0m\n",
       "\u001b[38;2;212;183;2m│\u001b[0m \u001b[1m        \\\u001b[0m                                                                                                       \u001b[38;2;212;183;2m│\u001b[0m\n",
       "\u001b[38;2;212;183;2m│\u001b[0m \u001b[1m        Bisoprolol 10mg   1-0-0\u001b[0m                                                                                 \u001b[38;2;212;183;2m│\u001b[0m\n",
       "\u001b[38;2;212;183;2m│\u001b[0m \u001b[1m        \\\u001b[0m                                                                                                       \u001b[38;2;212;183;2m│\u001b[0m\n",
       "\u001b[38;2;212;183;2m│\u001b[0m \u001b[1m        Lisinopril 30mg     1-0-0\u001b[0m                                                                               \u001b[38;2;212;183;2m│\u001b[0m\n",
       "\u001b[38;2;212;183;2m│\u001b[0m \u001b[1m        \\\u001b[0m                                                                                                       \u001b[38;2;212;183;2m│\u001b[0m\n",
       "\u001b[38;2;212;183;2m│\u001b[0m \u001b[1m        Torasemid 10mg   1-0-0\u001b[0m                                                                                  \u001b[38;2;212;183;2m│\u001b[0m\n",
       "\u001b[38;2;212;183;2m│\u001b[0m \u001b[1m        \\\u001b[0m                                                                                                       \u001b[38;2;212;183;2m│\u001b[0m\n",
       "\u001b[38;2;212;183;2m│\u001b[0m \u001b[1m        Midazolam b.B.\u001b[0m                                                                                          \u001b[38;2;212;183;2m│\u001b[0m\n",
       "\u001b[38;2;212;183;2m│\u001b[0m \u001b[1m        \\\u001b[0m                                                                                                       \u001b[38;2;212;183;2m│\u001b[0m\n",
       "\u001b[38;2;212;183;2m│\u001b[0m \u001b[1m        Simvastatin 20mg  0-0-1\u001b[0m                                                                                 \u001b[38;2;212;183;2m│\u001b[0m\n",
       "\u001b[38;2;212;183;2m│\u001b[0m \u001b[1m        \\\u001b[0m                                                                                                       \u001b[38;2;212;183;2m│\u001b[0m\n",
       "\u001b[38;2;212;183;2m│\u001b[0m \u001b[1m        Ampicillin 4,5g 1-1-1-1\u001b[0m                                                                                 \u001b[38;2;212;183;2m│\u001b[0m\n",
       "\u001b[38;2;212;183;2m│\u001b[0m \u001b[1m        \\\u001b[0m                                                                                                       \u001b[38;2;212;183;2m│\u001b[0m\n",
       "\u001b[38;2;212;183;2m│\u001b[0m \u001b[1m        Doxycyclin 200 mg  0-1-0\"\u001b[0m                                                                               \u001b[38;2;212;183;2m│\u001b[0m\n",
       "\u001b[38;2;212;183;2m│\u001b[0m                                                                                                                 \u001b[38;2;212;183;2m│\u001b[0m\n",
       "\u001b[38;2;212;183;2m╰─\u001b[0m\u001b[38;2;212;183;2m AzureOpenAIServerModel - gpt-4o \u001b[0m\u001b[38;2;212;183;2m──────────────────────────────────────────────────────────────────────────────\u001b[0m\u001b[38;2;212;183;2m─╯\u001b[0m\n"
      ]
     },
     "metadata": {},
     "output_type": "display_data"
    },
    {
     "data": {
      "text/html": [
       "<pre style=\"white-space:pre;overflow-x:auto;line-height:normal;font-family:Menlo,'DejaVu Sans Mono',consolas,'Courier New',monospace\"><span style=\"color: #d4b702; text-decoration-color: #d4b702\">━━━━━━━━━━━━━━━━━━━━━━━━━━━━━━━━━━━━━━━━━━━━━━━━━━━━━ </span><span style=\"font-weight: bold\">Step </span><span style=\"color: #008080; text-decoration-color: #008080; font-weight: bold\">1</span><span style=\"color: #d4b702; text-decoration-color: #d4b702\"> ━━━━━━━━━━━━━━━━━━━━━━━━━━━━━━━━━━━━━━━━━━━━━━━━━━━━━━</span>\n",
       "</pre>\n"
      ],
      "text/plain": [
       "\u001b[38;2;212;183;2m━━━━━━━━━━━━━━━━━━━━━━━━━━━━━━━━━━━━━━━━━━━━━━━━━━━━━ \u001b[0m\u001b[1mStep \u001b[0m\u001b[1;36m1\u001b[0m\u001b[38;2;212;183;2m ━━━━━━━━━━━━━━━━━━━━━━━━━━━━━━━━━━━━━━━━━━━━━━━━━━━━━━\u001b[0m\n"
      ]
     },
     "metadata": {},
     "output_type": "display_data"
    },
    {
     "data": {
      "text/html": [
       "<pre style=\"white-space:pre;overflow-x:auto;line-height:normal;font-family:Menlo,'DejaVu Sans Mono',consolas,'Courier New',monospace\">╭─────────────────────────────────────────────────────────────────────────────────────────────────────────────────╮\n",
       "│ Calling tool: 'extract_medication_data' with arguments: {'data': [{'patient_id': 5, 'medication_reference':     │\n",
       "│ 'Amlodipin 10mg 1-0-0', 'medication_name': 'Amlodipin', 'medication_name_corrected': 'Amlodipine (amlodipine)', │\n",
       "│ 'dose': 10, 'unit': 'mg', 'route': '', 'frequency': '1-0-0', 'frequency_code': 'AM'}, {'patient_id': 5,         │\n",
       "│ 'medication_reference': 'Bisoprolol 10mg 1-0-0', 'medication_name': 'Bisoprolol', 'medication_name_corrected':  │\n",
       "│ 'Bisoprolol (bisoprolol)', 'dose': 10, 'unit': 'mg', 'route': '', 'frequency': '1-0-0', 'frequency_code':       │\n",
       "│ 'AM'}, {'patient_id': 5, 'medication_reference': 'Lisinopril 30mg 1-0-0', 'medication_name': 'Lisinopril',      │\n",
       "│ 'medication_name_corrected': 'Lisinopril (lisinopril)', 'dose': 30, 'unit': 'mg', 'route': '', 'frequency':     │\n",
       "│ '1-0-0', 'frequency_code': 'AM'}, {'patient_id': 5, 'medication_reference': 'Torasemid 10mg 1-0-0',             │\n",
       "│ 'medication_name': 'Torasemid', 'medication_name_corrected': 'Torasemide (torasemide)', 'dose': 10, 'unit':     │\n",
       "│ 'mg', 'route': '', 'frequency': '1-0-0', 'frequency_code': 'AM'}, {'patient_id': 5, 'medication_reference':     │\n",
       "│ 'Midazolam b.B.', 'medication_name': 'Midazolam', 'medication_name_corrected': 'Midazolam (midazolam)', 'dose': │\n",
       "│ 0, 'unit': '', 'route': '', 'frequency': 'b.B.', 'frequency_code': 'PRN'}, {'patient_id': 5,                    │\n",
       "│ 'medication_reference': 'Simvastatin 20mg 0-0-1', 'medication_name': 'Simvastatin',                             │\n",
       "│ 'medication_name_corrected': 'Simvastatin (simvastatin)', 'dose': 20, 'unit': 'mg', 'route': '', 'frequency':   │\n",
       "│ '0-0-1', 'frequency_code': 'PM'}, {'patient_id': 5, 'medication_reference': 'Ampicillin 4.5g 1-1-1-1',          │\n",
       "│ 'medication_name': 'Ampicillin', 'medication_name_corrected': 'Ampicillin (ampicillin)', 'dose': 4500, 'unit':  │\n",
       "│ 'mg', 'route': '', 'frequency': '1-1-1-1', 'frequency_code': 'QID'}, {'patient_id': 5, 'medication_reference':  │\n",
       "│ 'Doxycyclin 200 mg 0-1-0', 'medication_name': 'Doxycyclin', 'medication_name_corrected': 'Doxycycline           │\n",
       "│ (doxycycline)', 'dose': 200, 'unit': 'mg', 'route': '', 'frequency': '0-1-0', 'frequency_code': 'QD'}]}         │\n",
       "╰─────────────────────────────────────────────────────────────────────────────────────────────────────────────────╯\n",
       "</pre>\n"
      ],
      "text/plain": [
       "╭─────────────────────────────────────────────────────────────────────────────────────────────────────────────────╮\n",
       "│ Calling tool: 'extract_medication_data' with arguments: {'data': [{'patient_id': 5, 'medication_reference':     │\n",
       "│ 'Amlodipin 10mg 1-0-0', 'medication_name': 'Amlodipin', 'medication_name_corrected': 'Amlodipine (amlodipine)', │\n",
       "│ 'dose': 10, 'unit': 'mg', 'route': '', 'frequency': '1-0-0', 'frequency_code': 'AM'}, {'patient_id': 5,         │\n",
       "│ 'medication_reference': 'Bisoprolol 10mg 1-0-0', 'medication_name': 'Bisoprolol', 'medication_name_corrected':  │\n",
       "│ 'Bisoprolol (bisoprolol)', 'dose': 10, 'unit': 'mg', 'route': '', 'frequency': '1-0-0', 'frequency_code':       │\n",
       "│ 'AM'}, {'patient_id': 5, 'medication_reference': 'Lisinopril 30mg 1-0-0', 'medication_name': 'Lisinopril',      │\n",
       "│ 'medication_name_corrected': 'Lisinopril (lisinopril)', 'dose': 30, 'unit': 'mg', 'route': '', 'frequency':     │\n",
       "│ '1-0-0', 'frequency_code': 'AM'}, {'patient_id': 5, 'medication_reference': 'Torasemid 10mg 1-0-0',             │\n",
       "│ 'medication_name': 'Torasemid', 'medication_name_corrected': 'Torasemide (torasemide)', 'dose': 10, 'unit':     │\n",
       "│ 'mg', 'route': '', 'frequency': '1-0-0', 'frequency_code': 'AM'}, {'patient_id': 5, 'medication_reference':     │\n",
       "│ 'Midazolam b.B.', 'medication_name': 'Midazolam', 'medication_name_corrected': 'Midazolam (midazolam)', 'dose': │\n",
       "│ 0, 'unit': '', 'route': '', 'frequency': 'b.B.', 'frequency_code': 'PRN'}, {'patient_id': 5,                    │\n",
       "│ 'medication_reference': 'Simvastatin 20mg 0-0-1', 'medication_name': 'Simvastatin',                             │\n",
       "│ 'medication_name_corrected': 'Simvastatin (simvastatin)', 'dose': 20, 'unit': 'mg', 'route': '', 'frequency':   │\n",
       "│ '0-0-1', 'frequency_code': 'PM'}, {'patient_id': 5, 'medication_reference': 'Ampicillin 4.5g 1-1-1-1',          │\n",
       "│ 'medication_name': 'Ampicillin', 'medication_name_corrected': 'Ampicillin (ampicillin)', 'dose': 4500, 'unit':  │\n",
       "│ 'mg', 'route': '', 'frequency': '1-1-1-1', 'frequency_code': 'QID'}, {'patient_id': 5, 'medication_reference':  │\n",
       "│ 'Doxycyclin 200 mg 0-1-0', 'medication_name': 'Doxycyclin', 'medication_name_corrected': 'Doxycycline           │\n",
       "│ (doxycycline)', 'dose': 200, 'unit': 'mg', 'route': '', 'frequency': '0-1-0', 'frequency_code': 'QD'}]}         │\n",
       "╰─────────────────────────────────────────────────────────────────────────────────────────────────────────────────╯\n"
      ]
     },
     "metadata": {},
     "output_type": "display_data"
    },
    {
     "data": {
      "text/html": [
       "<pre style=\"white-space:pre;overflow-x:auto;line-height:normal;font-family:Menlo,'DejaVu Sans Mono',consolas,'Courier New',monospace\">Observations: |<span style=\"font-weight: bold\">{</span><span style=\"color: #008000; text-decoration-color: #008000\">'patient_id'</span>: <span style=\"color: #008080; text-decoration-color: #008080; font-weight: bold\">5</span>, <span style=\"color: #008000; text-decoration-color: #008000\">'medication_reference'</span>: <span style=\"color: #008000; text-decoration-color: #008000\">'Amlodipin 10mg 1-0-0'</span>, <span style=\"color: #008000; text-decoration-color: #008000\">'medication_name'</span>: <span style=\"color: #008000; text-decoration-color: #008000\">'Amlodipin'</span>, \n",
       "<span style=\"color: #008000; text-decoration-color: #008000\">'medication_name_corrected'</span>: <span style=\"color: #008000; text-decoration-color: #008000\">'Amlodipine (amlodipine)'</span>, <span style=\"color: #008000; text-decoration-color: #008000\">'dose'</span>: <span style=\"color: #008080; text-decoration-color: #008080; font-weight: bold\">10</span>, <span style=\"color: #008000; text-decoration-color: #008000\">'unit'</span>: <span style=\"color: #008000; text-decoration-color: #008000\">'mg'</span>, <span style=\"color: #008000; text-decoration-color: #008000\">'route'</span>: <span style=\"color: #008000; text-decoration-color: #008000\">''</span>, <span style=\"color: #008000; text-decoration-color: #008000\">'frequency'</span>: \n",
       "<span style=\"color: #008000; text-decoration-color: #008000\">'1-0-0'</span>, <span style=\"color: #008000; text-decoration-color: #008000\">'frequency_code'</span>: <span style=\"color: #008000; text-decoration-color: #008000\">'AM'</span><span style=\"font-weight: bold\">}</span>, <span style=\"font-weight: bold\">{</span><span style=\"color: #008000; text-decoration-color: #008000\">'patient_id'</span>: <span style=\"color: #008080; text-decoration-color: #008080; font-weight: bold\">5</span>, <span style=\"color: #008000; text-decoration-color: #008000\">'medication_reference'</span>: <span style=\"color: #008000; text-decoration-color: #008000\">'Bisoprolol 10mg 1-0-0'</span>, \n",
       "<span style=\"color: #008000; text-decoration-color: #008000\">'medication_name'</span>: <span style=\"color: #008000; text-decoration-color: #008000\">'Bisoprolol'</span>, <span style=\"color: #008000; text-decoration-color: #008000\">'medication_name_corrected'</span>: <span style=\"color: #008000; text-decoration-color: #008000\">'Bisoprolol (bisoprolol)'</span>, <span style=\"color: #008000; text-decoration-color: #008000\">'dose'</span>: <span style=\"color: #008080; text-decoration-color: #008080; font-weight: bold\">10</span>, <span style=\"color: #008000; text-decoration-color: #008000\">'unit'</span>: <span style=\"color: #008000; text-decoration-color: #008000\">'mg'</span>, \n",
       "<span style=\"color: #008000; text-decoration-color: #008000\">'route'</span>: <span style=\"color: #008000; text-decoration-color: #008000\">''</span>, <span style=\"color: #008000; text-decoration-color: #008000\">'frequency'</span>: <span style=\"color: #008000; text-decoration-color: #008000\">'1-0-0'</span>, <span style=\"color: #008000; text-decoration-color: #008000\">'frequency_code'</span>: <span style=\"color: #008000; text-decoration-color: #008000\">'AM'</span><span style=\"font-weight: bold\">}</span>, <span style=\"font-weight: bold\">{</span><span style=\"color: #008000; text-decoration-color: #008000\">'patient_id'</span>: <span style=\"color: #008080; text-decoration-color: #008080; font-weight: bold\">5</span>, <span style=\"color: #008000; text-decoration-color: #008000\">'medication_reference'</span>: <span style=\"color: #008000; text-decoration-color: #008000\">'Lisinopril </span>\n",
       "<span style=\"color: #008000; text-decoration-color: #008000\">30mg 1-0-0'</span>, <span style=\"color: #008000; text-decoration-color: #008000\">'medication_name'</span>: <span style=\"color: #008000; text-decoration-color: #008000\">'Lisinopril'</span>, <span style=\"color: #008000; text-decoration-color: #008000\">'medication_name_corrected'</span>: <span style=\"color: #008000; text-decoration-color: #008000\">'Lisinopril (lisinopril)'</span>, <span style=\"color: #008000; text-decoration-color: #008000\">'dose'</span>: <span style=\"color: #008080; text-decoration-color: #008080; font-weight: bold\">30</span>, \n",
       "<span style=\"color: #008000; text-decoration-color: #008000\">'unit'</span>: <span style=\"color: #008000; text-decoration-color: #008000\">'mg'</span>, <span style=\"color: #008000; text-decoration-color: #008000\">'route'</span>: <span style=\"color: #008000; text-decoration-color: #008000\">''</span>, <span style=\"color: #008000; text-decoration-color: #008000\">'frequency'</span>: <span style=\"color: #008000; text-decoration-color: #008000\">'1-0-0'</span>, <span style=\"color: #008000; text-decoration-color: #008000\">'frequency_code'</span>: <span style=\"color: #008000; text-decoration-color: #008000\">'AM'</span><span style=\"font-weight: bold\">}</span>, <span style=\"font-weight: bold\">{</span><span style=\"color: #008000; text-decoration-color: #008000\">'patient_id'</span>: <span style=\"color: #008080; text-decoration-color: #008080; font-weight: bold\">5</span>, <span style=\"color: #008000; text-decoration-color: #008000\">'medication_reference'</span>:\n",
       "<span style=\"color: #008000; text-decoration-color: #008000\">'Torasemid 10mg 1-0-0'</span>, <span style=\"color: #008000; text-decoration-color: #008000\">'medication_name'</span>: <span style=\"color: #008000; text-decoration-color: #008000\">'Torasemid'</span>, <span style=\"color: #008000; text-decoration-color: #008000\">'medication_name_corrected'</span>: <span style=\"color: #008000; text-decoration-color: #008000\">'Torasemide (torasemide)'</span>, \n",
       "<span style=\"color: #008000; text-decoration-color: #008000\">'dose'</span>: <span style=\"color: #008080; text-decoration-color: #008080; font-weight: bold\">10</span>, <span style=\"color: #008000; text-decoration-color: #008000\">'unit'</span>: <span style=\"color: #008000; text-decoration-color: #008000\">'mg'</span>, <span style=\"color: #008000; text-decoration-color: #008000\">'route'</span>: <span style=\"color: #008000; text-decoration-color: #008000\">''</span>, <span style=\"color: #008000; text-decoration-color: #008000\">'frequency'</span>: <span style=\"color: #008000; text-decoration-color: #008000\">'1-0-0'</span>, <span style=\"color: #008000; text-decoration-color: #008000\">'frequency_code'</span>: <span style=\"color: #008000; text-decoration-color: #008000\">'AM'</span><span style=\"font-weight: bold\">}</span>, <span style=\"font-weight: bold\">{</span><span style=\"color: #008000; text-decoration-color: #008000\">'patient_id'</span>: <span style=\"color: #008080; text-decoration-color: #008080; font-weight: bold\">5</span>, \n",
       "<span style=\"color: #008000; text-decoration-color: #008000\">'medication_reference'</span>: <span style=\"color: #008000; text-decoration-color: #008000\">'Midazolam b.B.'</span>, <span style=\"color: #008000; text-decoration-color: #008000\">'medication_name'</span>: <span style=\"color: #008000; text-decoration-color: #008000\">'Midazolam'</span>, <span style=\"color: #008000; text-decoration-color: #008000\">'medication_name_corrected'</span>: <span style=\"color: #008000; text-decoration-color: #008000\">'Midazolam </span>\n",
       "<span style=\"color: #008000; text-decoration-color: #008000\">(midazolam)'</span>, <span style=\"color: #008000; text-decoration-color: #008000\">'dose'</span>: <span style=\"color: #008080; text-decoration-color: #008080; font-weight: bold\">0</span>, <span style=\"color: #008000; text-decoration-color: #008000\">'unit'</span>: <span style=\"color: #008000; text-decoration-color: #008000\">''</span>, <span style=\"color: #008000; text-decoration-color: #008000\">'route'</span>: <span style=\"color: #008000; text-decoration-color: #008000\">''</span>, <span style=\"color: #008000; text-decoration-color: #008000\">'frequency'</span>: <span style=\"color: #008000; text-decoration-color: #008000\">'b.B.'</span>, <span style=\"color: #008000; text-decoration-color: #008000\">'frequency_code'</span>: <span style=\"color: #008000; text-decoration-color: #008000\">'PRN'</span><span style=\"font-weight: bold\">}</span>, <span style=\"font-weight: bold\">{</span><span style=\"color: #008000; text-decoration-color: #008000\">'patient_id'</span>: <span style=\"color: #008080; text-decoration-color: #008080; font-weight: bold\">5</span>, \n",
       "<span style=\"color: #008000; text-decoration-color: #008000\">'medication_reference'</span>: <span style=\"color: #008000; text-decoration-color: #008000\">'Simvastatin 20mg 0-0-1'</span>, <span style=\"color: #008000; text-decoration-color: #008000\">'medication_name'</span>: <span style=\"color: #008000; text-decoration-color: #008000\">'Simvastatin'</span>, <span style=\"color: #008000; text-decoration-color: #008000\">'medication_name_corrected'</span>: \n",
       "<span style=\"color: #008000; text-decoration-color: #008000\">'Simvastatin (simvastatin)'</span>, <span style=\"color: #008000; text-decoration-color: #008000\">'dose'</span>: <span style=\"color: #008080; text-decoration-color: #008080; font-weight: bold\">20</span>, <span style=\"color: #008000; text-decoration-color: #008000\">'unit'</span>: <span style=\"color: #008000; text-decoration-color: #008000\">'mg'</span>, <span style=\"color: #008000; text-decoration-color: #008000\">'route'</span>: <span style=\"color: #008000; text-decoration-color: #008000\">''</span>, <span style=\"color: #008000; text-decoration-color: #008000\">'frequency'</span>: <span style=\"color: #008000; text-decoration-color: #008000\">'0-0-1'</span>, <span style=\"color: #008000; text-decoration-color: #008000\">'frequency_code'</span>: <span style=\"color: #008000; text-decoration-color: #008000\">'PM'</span><span style=\"font-weight: bold\">}</span>, \n",
       "<span style=\"font-weight: bold\">{</span><span style=\"color: #008000; text-decoration-color: #008000\">'patient_id'</span>: <span style=\"color: #008080; text-decoration-color: #008080; font-weight: bold\">5</span>, <span style=\"color: #008000; text-decoration-color: #008000\">'medication_reference'</span>: <span style=\"color: #008000; text-decoration-color: #008000\">'Ampicillin 4.5g 1-1-1-1'</span>, <span style=\"color: #008000; text-decoration-color: #008000\">'medication_name'</span>: <span style=\"color: #008000; text-decoration-color: #008000\">'Ampicillin'</span>, \n",
       "<span style=\"color: #008000; text-decoration-color: #008000\">'medication_name_corrected'</span>: <span style=\"color: #008000; text-decoration-color: #008000\">'Ampicillin (ampicillin)'</span>, <span style=\"color: #008000; text-decoration-color: #008000\">'dose'</span>: <span style=\"color: #008080; text-decoration-color: #008080; font-weight: bold\">4500</span>, <span style=\"color: #008000; text-decoration-color: #008000\">'unit'</span>: <span style=\"color: #008000; text-decoration-color: #008000\">'mg'</span>, <span style=\"color: #008000; text-decoration-color: #008000\">'route'</span>: <span style=\"color: #008000; text-decoration-color: #008000\">''</span>, <span style=\"color: #008000; text-decoration-color: #008000\">'frequency'</span>: \n",
       "<span style=\"color: #008000; text-decoration-color: #008000\">'1-1-1-1'</span>, <span style=\"color: #008000; text-decoration-color: #008000\">'frequency_code'</span>: <span style=\"color: #008000; text-decoration-color: #008000\">'QID'</span><span style=\"font-weight: bold\">}</span>, <span style=\"font-weight: bold\">{</span><span style=\"color: #008000; text-decoration-color: #008000\">'patient_id'</span>: <span style=\"color: #008080; text-decoration-color: #008080; font-weight: bold\">5</span>, <span style=\"color: #008000; text-decoration-color: #008000\">'medication_reference'</span>: <span style=\"color: #008000; text-decoration-color: #008000\">'Doxycyclin 200 mg 0-1-0'</span>, \n",
       "<span style=\"color: #008000; text-decoration-color: #008000\">'medication_name'</span>: <span style=\"color: #008000; text-decoration-color: #008000\">'Doxycyclin'</span>, <span style=\"color: #008000; text-decoration-color: #008000\">'medication_name_corrected'</span>: <span style=\"color: #008000; text-decoration-color: #008000\">'Doxycycline (doxycycline)'</span>, <span style=\"color: #008000; text-decoration-color: #008000\">'dose'</span>: <span style=\"color: #008080; text-decoration-color: #008080; font-weight: bold\">200</span>, <span style=\"color: #008000; text-decoration-color: #008000\">'unit'</span>: \n",
       "<span style=\"color: #008000; text-decoration-color: #008000\">'mg'</span>, <span style=\"color: #008000; text-decoration-color: #008000\">'route'</span>: <span style=\"color: #008000; text-decoration-color: #008000\">''</span>, <span style=\"color: #008000; text-decoration-color: #008000\">'frequency'</span>: <span style=\"color: #008000; text-decoration-color: #008000\">'0-1-0'</span>, <span style=\"color: #008000; text-decoration-color: #008000\">'frequency_code'</span>: <span style=\"color: #008000; text-decoration-color: #008000\">'QD'</span><span style=\"font-weight: bold\">}]</span>\n",
       "</pre>\n"
      ],
      "text/plain": [
       "Observations: |\u001b[1m{\u001b[0m\u001b[32m'patient_id'\u001b[0m: \u001b[1;36m5\u001b[0m, \u001b[32m'medication_reference'\u001b[0m: \u001b[32m'Amlodipin 10mg 1-0-0'\u001b[0m, \u001b[32m'medication_name'\u001b[0m: \u001b[32m'Amlodipin'\u001b[0m, \n",
       "\u001b[32m'medication_name_corrected'\u001b[0m: \u001b[32m'Amlodipine \u001b[0m\u001b[32m(\u001b[0m\u001b[32mamlodipine\u001b[0m\u001b[32m)\u001b[0m\u001b[32m'\u001b[0m, \u001b[32m'dose'\u001b[0m: \u001b[1;36m10\u001b[0m, \u001b[32m'unit'\u001b[0m: \u001b[32m'mg'\u001b[0m, \u001b[32m'route'\u001b[0m: \u001b[32m''\u001b[0m, \u001b[32m'frequency'\u001b[0m: \n",
       "\u001b[32m'1-0-0'\u001b[0m, \u001b[32m'frequency_code'\u001b[0m: \u001b[32m'AM'\u001b[0m\u001b[1m}\u001b[0m, \u001b[1m{\u001b[0m\u001b[32m'patient_id'\u001b[0m: \u001b[1;36m5\u001b[0m, \u001b[32m'medication_reference'\u001b[0m: \u001b[32m'Bisoprolol 10mg 1-0-0'\u001b[0m, \n",
       "\u001b[32m'medication_name'\u001b[0m: \u001b[32m'Bisoprolol'\u001b[0m, \u001b[32m'medication_name_corrected'\u001b[0m: \u001b[32m'Bisoprolol \u001b[0m\u001b[32m(\u001b[0m\u001b[32mbisoprolol\u001b[0m\u001b[32m)\u001b[0m\u001b[32m'\u001b[0m, \u001b[32m'dose'\u001b[0m: \u001b[1;36m10\u001b[0m, \u001b[32m'unit'\u001b[0m: \u001b[32m'mg'\u001b[0m, \n",
       "\u001b[32m'route'\u001b[0m: \u001b[32m''\u001b[0m, \u001b[32m'frequency'\u001b[0m: \u001b[32m'1-0-0'\u001b[0m, \u001b[32m'frequency_code'\u001b[0m: \u001b[32m'AM'\u001b[0m\u001b[1m}\u001b[0m, \u001b[1m{\u001b[0m\u001b[32m'patient_id'\u001b[0m: \u001b[1;36m5\u001b[0m, \u001b[32m'medication_reference'\u001b[0m: \u001b[32m'Lisinopril \u001b[0m\n",
       "\u001b[32m30mg 1-0-0'\u001b[0m, \u001b[32m'medication_name'\u001b[0m: \u001b[32m'Lisinopril'\u001b[0m, \u001b[32m'medication_name_corrected'\u001b[0m: \u001b[32m'Lisinopril \u001b[0m\u001b[32m(\u001b[0m\u001b[32mlisinopril\u001b[0m\u001b[32m)\u001b[0m\u001b[32m'\u001b[0m, \u001b[32m'dose'\u001b[0m: \u001b[1;36m30\u001b[0m, \n",
       "\u001b[32m'unit'\u001b[0m: \u001b[32m'mg'\u001b[0m, \u001b[32m'route'\u001b[0m: \u001b[32m''\u001b[0m, \u001b[32m'frequency'\u001b[0m: \u001b[32m'1-0-0'\u001b[0m, \u001b[32m'frequency_code'\u001b[0m: \u001b[32m'AM'\u001b[0m\u001b[1m}\u001b[0m, \u001b[1m{\u001b[0m\u001b[32m'patient_id'\u001b[0m: \u001b[1;36m5\u001b[0m, \u001b[32m'medication_reference'\u001b[0m:\n",
       "\u001b[32m'Torasemid 10mg 1-0-0'\u001b[0m, \u001b[32m'medication_name'\u001b[0m: \u001b[32m'Torasemid'\u001b[0m, \u001b[32m'medication_name_corrected'\u001b[0m: \u001b[32m'Torasemide \u001b[0m\u001b[32m(\u001b[0m\u001b[32mtorasemide\u001b[0m\u001b[32m)\u001b[0m\u001b[32m'\u001b[0m, \n",
       "\u001b[32m'dose'\u001b[0m: \u001b[1;36m10\u001b[0m, \u001b[32m'unit'\u001b[0m: \u001b[32m'mg'\u001b[0m, \u001b[32m'route'\u001b[0m: \u001b[32m''\u001b[0m, \u001b[32m'frequency'\u001b[0m: \u001b[32m'1-0-0'\u001b[0m, \u001b[32m'frequency_code'\u001b[0m: \u001b[32m'AM'\u001b[0m\u001b[1m}\u001b[0m, \u001b[1m{\u001b[0m\u001b[32m'patient_id'\u001b[0m: \u001b[1;36m5\u001b[0m, \n",
       "\u001b[32m'medication_reference'\u001b[0m: \u001b[32m'Midazolam b.B.'\u001b[0m, \u001b[32m'medication_name'\u001b[0m: \u001b[32m'Midazolam'\u001b[0m, \u001b[32m'medication_name_corrected'\u001b[0m: \u001b[32m'Midazolam \u001b[0m\n",
       "\u001b[32m(\u001b[0m\u001b[32mmidazolam\u001b[0m\u001b[32m)\u001b[0m\u001b[32m'\u001b[0m, \u001b[32m'dose'\u001b[0m: \u001b[1;36m0\u001b[0m, \u001b[32m'unit'\u001b[0m: \u001b[32m''\u001b[0m, \u001b[32m'route'\u001b[0m: \u001b[32m''\u001b[0m, \u001b[32m'frequency'\u001b[0m: \u001b[32m'b.B.'\u001b[0m, \u001b[32m'frequency_code'\u001b[0m: \u001b[32m'PRN'\u001b[0m\u001b[1m}\u001b[0m, \u001b[1m{\u001b[0m\u001b[32m'patient_id'\u001b[0m: \u001b[1;36m5\u001b[0m, \n",
       "\u001b[32m'medication_reference'\u001b[0m: \u001b[32m'Simvastatin 20mg 0-0-1'\u001b[0m, \u001b[32m'medication_name'\u001b[0m: \u001b[32m'Simvastatin'\u001b[0m, \u001b[32m'medication_name_corrected'\u001b[0m: \n",
       "\u001b[32m'Simvastatin \u001b[0m\u001b[32m(\u001b[0m\u001b[32msimvastatin\u001b[0m\u001b[32m)\u001b[0m\u001b[32m'\u001b[0m, \u001b[32m'dose'\u001b[0m: \u001b[1;36m20\u001b[0m, \u001b[32m'unit'\u001b[0m: \u001b[32m'mg'\u001b[0m, \u001b[32m'route'\u001b[0m: \u001b[32m''\u001b[0m, \u001b[32m'frequency'\u001b[0m: \u001b[32m'0-0-1'\u001b[0m, \u001b[32m'frequency_code'\u001b[0m: \u001b[32m'PM'\u001b[0m\u001b[1m}\u001b[0m, \n",
       "\u001b[1m{\u001b[0m\u001b[32m'patient_id'\u001b[0m: \u001b[1;36m5\u001b[0m, \u001b[32m'medication_reference'\u001b[0m: \u001b[32m'Ampicillin 4.5g 1-1-1-1'\u001b[0m, \u001b[32m'medication_name'\u001b[0m: \u001b[32m'Ampicillin'\u001b[0m, \n",
       "\u001b[32m'medication_name_corrected'\u001b[0m: \u001b[32m'Ampicillin \u001b[0m\u001b[32m(\u001b[0m\u001b[32mampicillin\u001b[0m\u001b[32m)\u001b[0m\u001b[32m'\u001b[0m, \u001b[32m'dose'\u001b[0m: \u001b[1;36m4500\u001b[0m, \u001b[32m'unit'\u001b[0m: \u001b[32m'mg'\u001b[0m, \u001b[32m'route'\u001b[0m: \u001b[32m''\u001b[0m, \u001b[32m'frequency'\u001b[0m: \n",
       "\u001b[32m'1-1-1-1'\u001b[0m, \u001b[32m'frequency_code'\u001b[0m: \u001b[32m'QID'\u001b[0m\u001b[1m}\u001b[0m, \u001b[1m{\u001b[0m\u001b[32m'patient_id'\u001b[0m: \u001b[1;36m5\u001b[0m, \u001b[32m'medication_reference'\u001b[0m: \u001b[32m'Doxycyclin 200 mg 0-1-0'\u001b[0m, \n",
       "\u001b[32m'medication_name'\u001b[0m: \u001b[32m'Doxycyclin'\u001b[0m, \u001b[32m'medication_name_corrected'\u001b[0m: \u001b[32m'Doxycycline \u001b[0m\u001b[32m(\u001b[0m\u001b[32mdoxycycline\u001b[0m\u001b[32m)\u001b[0m\u001b[32m'\u001b[0m, \u001b[32m'dose'\u001b[0m: \u001b[1;36m200\u001b[0m, \u001b[32m'unit'\u001b[0m: \n",
       "\u001b[32m'mg'\u001b[0m, \u001b[32m'route'\u001b[0m: \u001b[32m''\u001b[0m, \u001b[32m'frequency'\u001b[0m: \u001b[32m'0-1-0'\u001b[0m, \u001b[32m'frequency_code'\u001b[0m: \u001b[32m'QD'\u001b[0m\u001b[1m}\u001b[0m\u001b[1m]\u001b[0m\n"
      ]
     },
     "metadata": {},
     "output_type": "display_data"
    },
    {
     "data": {
      "text/html": [
       "<pre style=\"white-space:pre;overflow-x:auto;line-height:normal;font-family:Menlo,'DejaVu Sans Mono',consolas,'Courier New',monospace\"><span style=\"color: #7f7f7f; text-decoration-color: #7f7f7f\">[Step 1: Duration 4.24 seconds| Input tokens: 4,180 | Output tokens: 574]</span>\n",
       "</pre>\n"
      ],
      "text/plain": [
       "\u001b[2m[Step 1: Duration 4.24 seconds| Input tokens: 4,180 | Output tokens: 574]\u001b[0m\n"
      ]
     },
     "metadata": {},
     "output_type": "display_data"
    },
    {
     "data": {
      "text/html": [
       "<pre style=\"white-space:pre;overflow-x:auto;line-height:normal;font-family:Menlo,'DejaVu Sans Mono',consolas,'Courier New',monospace\"><span style=\"color: #d4b702; text-decoration-color: #d4b702\">━━━━━━━━━━━━━━━━━━━━━━━━━━━━━━━━━━━━━━━━━━━━━━━━━━━━━ </span><span style=\"font-weight: bold\">Step </span><span style=\"color: #008080; text-decoration-color: #008080; font-weight: bold\">2</span><span style=\"color: #d4b702; text-decoration-color: #d4b702\"> ━━━━━━━━━━━━━━━━━━━━━━━━━━━━━━━━━━━━━━━━━━━━━━━━━━━━━━</span>\n",
       "</pre>\n"
      ],
      "text/plain": [
       "\u001b[38;2;212;183;2m━━━━━━━━━━━━━━━━━━━━━━━━━━━━━━━━━━━━━━━━━━━━━━━━━━━━━ \u001b[0m\u001b[1mStep \u001b[0m\u001b[1;36m2\u001b[0m\u001b[38;2;212;183;2m ━━━━━━━━━━━━━━━━━━━━━━━━━━━━━━━━━━━━━━━━━━━━━━━━━━━━━━\u001b[0m\n"
      ]
     },
     "metadata": {},
     "output_type": "display_data"
    },
    {
     "data": {
      "text/html": [
       "<pre style=\"white-space:pre;overflow-x:auto;line-height:normal;font-family:Menlo,'DejaVu Sans Mono',consolas,'Courier New',monospace\">╭─────────────────────────────────────────────────────────────────────────────────────────────────────────────────╮\n",
       "│ Calling tool: 'get_rxcui' with arguments: {'medication_names': ['Amlodipine (amlodipine)', 'Bisoprolol          │\n",
       "│ (bisoprolol)', 'Lisinopril (lisinopril)', 'Torasemide (torasemide)', 'Midazolam (midazolam)', 'Simvastatin      │\n",
       "│ (simvastatin)', 'Ampicillin (ampicillin)', 'Doxycycline (doxycycline)']}                                        │\n",
       "╰─────────────────────────────────────────────────────────────────────────────────────────────────────────────────╯\n",
       "</pre>\n"
      ],
      "text/plain": [
       "╭─────────────────────────────────────────────────────────────────────────────────────────────────────────────────╮\n",
       "│ Calling tool: 'get_rxcui' with arguments: {'medication_names': ['Amlodipine (amlodipine)', 'Bisoprolol          │\n",
       "│ (bisoprolol)', 'Lisinopril (lisinopril)', 'Torasemide (torasemide)', 'Midazolam (midazolam)', 'Simvastatin      │\n",
       "│ (simvastatin)', 'Ampicillin (ampicillin)', 'Doxycycline (doxycycline)']}                                        │\n",
       "╰─────────────────────────────────────────────────────────────────────────────────────────────────────────────────╯\n"
      ]
     },
     "metadata": {},
     "output_type": "display_data"
    },
    {
     "data": {
      "text/html": [
       "<pre style=\"white-space:pre;overflow-x:auto;line-height:normal;font-family:Menlo,'DejaVu Sans Mono',consolas,'Courier New',monospace\">Observations: <span style=\"font-weight: bold\">{</span><span style=\"color: #008000; text-decoration-color: #008000\">'Amlodipine (amlodipine)'</span>: <span style=\"font-weight: bold\">{</span><span style=\"color: #008000; text-decoration-color: #008000\">'17767'</span>: |<span style=\"color: #008000; text-decoration-color: #008000\">'GS'</span>, <span style=\"color: #008000; text-decoration-color: #008000\">'RXNORM'</span>, <span style=\"color: #008000; text-decoration-color: #008000\">'VANDF'</span>, <span style=\"color: #008000; text-decoration-color: #008000\">'MMSL'</span>, <span style=\"color: #008000; text-decoration-color: #008000\">'NDDF'</span>, <span style=\"color: #008000; text-decoration-color: #008000\">'ATC'</span>, <span style=\"color: #008000; text-decoration-color: #008000\">'MMSL'</span>, \n",
       "<span style=\"color: #008000; text-decoration-color: #008000\">'DRUGBANK'</span><span style=\"font-weight: bold\">]}</span>, <span style=\"color: #008000; text-decoration-color: #008000\">'Bisoprolol (bisoprolol)'</span>: <span style=\"font-weight: bold\">{</span><span style=\"color: #008000; text-decoration-color: #008000\">'19484'</span>: |<span style=\"color: #008000; text-decoration-color: #008000\">'GS'</span>, <span style=\"color: #008000; text-decoration-color: #008000\">'RXNORM'</span>, <span style=\"color: #008000; text-decoration-color: #008000\">'VANDF'</span>, <span style=\"color: #008000; text-decoration-color: #008000\">'NDDF'</span>, <span style=\"color: #008000; text-decoration-color: #008000\">'ATC'</span>, <span style=\"color: #008000; text-decoration-color: #008000\">'DRUGBANK'</span><span style=\"font-weight: bold\">]}</span>, \n",
       "<span style=\"color: #008000; text-decoration-color: #008000\">'Lisinopril (lisinopril)'</span>: <span style=\"font-weight: bold\">{</span><span style=\"color: #008000; text-decoration-color: #008000\">'29046'</span>: |<span style=\"color: #008000; text-decoration-color: #008000\">'USP'</span>, <span style=\"color: #008000; text-decoration-color: #008000\">'GS'</span>, <span style=\"color: #008000; text-decoration-color: #008000\">'RXNORM'</span>, <span style=\"color: #008000; text-decoration-color: #008000\">'VANDF'</span>, <span style=\"color: #008000; text-decoration-color: #008000\">'NDDF'</span>, <span style=\"color: #008000; text-decoration-color: #008000\">'MMSL'</span>, <span style=\"color: #008000; text-decoration-color: #008000\">'MMSL'</span>, <span style=\"color: #008000; text-decoration-color: #008000\">'ATC'</span>, <span style=\"color: #008000; text-decoration-color: #008000\">'DRUGBANK'</span><span style=\"font-weight: bold\">]}</span>, \n",
       "<span style=\"color: #008000; text-decoration-color: #008000\">'Torasemide (torasemide)'</span>: <span style=\"font-weight: bold\">{</span><span style=\"color: #008000; text-decoration-color: #008000\">'38413'</span>: |<span style=\"color: #008000; text-decoration-color: #008000\">'ATC'</span>, <span style=\"color: #008000; text-decoration-color: #008000\">'DRUGBANK'</span><span style=\"font-weight: bold\">]}</span>, <span style=\"color: #008000; text-decoration-color: #008000\">'Midazolam (midazolam)'</span>: <span style=\"font-weight: bold\">{</span><span style=\"color: #008000; text-decoration-color: #008000\">'6960'</span>: |<span style=\"color: #008000; text-decoration-color: #008000\">'USP'</span>, <span style=\"color: #008000; text-decoration-color: #008000\">'GS'</span>, \n",
       "<span style=\"color: #008000; text-decoration-color: #008000\">'RXNORM'</span>, <span style=\"color: #008000; text-decoration-color: #008000\">'VANDF'</span>, <span style=\"color: #008000; text-decoration-color: #008000\">'MMSL'</span>, <span style=\"color: #008000; text-decoration-color: #008000\">'MMSL'</span>, <span style=\"color: #008000; text-decoration-color: #008000\">'NDDF'</span>, <span style=\"color: #008000; text-decoration-color: #008000\">'ATC'</span>, <span style=\"color: #008000; text-decoration-color: #008000\">'DRUGBANK'</span><span style=\"font-weight: bold\">]}</span>, <span style=\"color: #008000; text-decoration-color: #008000\">'Simvastatin (simvastatin)'</span>: <span style=\"font-weight: bold\">{</span><span style=\"color: #008000; text-decoration-color: #008000\">'36567'</span>: |<span style=\"color: #008000; text-decoration-color: #008000\">'USP'</span>, \n",
       "<span style=\"color: #008000; text-decoration-color: #008000\">'GS'</span>, <span style=\"color: #008000; text-decoration-color: #008000\">'RXNORM'</span>, <span style=\"color: #008000; text-decoration-color: #008000\">'VANDF'</span>, <span style=\"color: #008000; text-decoration-color: #008000\">'MMSL'</span>, <span style=\"color: #008000; text-decoration-color: #008000\">'NDDF'</span>, <span style=\"color: #008000; text-decoration-color: #008000\">'MMSL'</span>, <span style=\"color: #008000; text-decoration-color: #008000\">'ATC'</span>, <span style=\"color: #008000; text-decoration-color: #008000\">'DRUGBANK'</span><span style=\"font-weight: bold\">]}</span>, <span style=\"color: #008000; text-decoration-color: #008000\">'Ampicillin (ampicillin)'</span>: <span style=\"font-weight: bold\">{</span><span style=\"color: #008000; text-decoration-color: #008000\">'733'</span>: |<span style=\"color: #008000; text-decoration-color: #008000\">'USP'</span>, \n",
       "<span style=\"color: #008000; text-decoration-color: #008000\">'GS'</span>, <span style=\"color: #008000; text-decoration-color: #008000\">'RXNORM'</span>, <span style=\"color: #008000; text-decoration-color: #008000\">'VANDF'</span>, <span style=\"color: #008000; text-decoration-color: #008000\">'MMSL'</span>, <span style=\"color: #008000; text-decoration-color: #008000\">'NDDF'</span>, <span style=\"color: #008000; text-decoration-color: #008000\">'ATC'</span>, <span style=\"color: #008000; text-decoration-color: #008000\">'ATC'</span>, <span style=\"color: #008000; text-decoration-color: #008000\">'DRUGBANK'</span><span style=\"font-weight: bold\">]}</span>, <span style=\"color: #008000; text-decoration-color: #008000\">'Doxycycline (doxycycline)'</span>: <span style=\"font-weight: bold\">{</span><span style=\"color: #008000; text-decoration-color: #008000\">'3640'</span>: |<span style=\"color: #008000; text-decoration-color: #008000\">'USP'</span>, \n",
       "<span style=\"color: #008000; text-decoration-color: #008000\">'RXNORM'</span>, <span style=\"color: #008000; text-decoration-color: #008000\">'VANDF'</span>, <span style=\"color: #008000; text-decoration-color: #008000\">'MMSL'</span>, <span style=\"color: #008000; text-decoration-color: #008000\">'NDDF'</span>, <span style=\"color: #008000; text-decoration-color: #008000\">'ATC'</span>, <span style=\"color: #008000; text-decoration-color: #008000\">'ATC'</span>, <span style=\"color: #008000; text-decoration-color: #008000\">'MMSL'</span>, <span style=\"color: #008000; text-decoration-color: #008000\">'DRUGBANK'</span><span style=\"font-weight: bold\">]}}</span>\n",
       "</pre>\n"
      ],
      "text/plain": [
       "Observations: \u001b[1m{\u001b[0m\u001b[32m'Amlodipine \u001b[0m\u001b[32m(\u001b[0m\u001b[32mamlodipine\u001b[0m\u001b[32m)\u001b[0m\u001b[32m'\u001b[0m: \u001b[1m{\u001b[0m\u001b[32m'17767'\u001b[0m: |\u001b[32m'GS'\u001b[0m, \u001b[32m'RXNORM'\u001b[0m, \u001b[32m'VANDF'\u001b[0m, \u001b[32m'MMSL'\u001b[0m, \u001b[32m'NDDF'\u001b[0m, \u001b[32m'ATC'\u001b[0m, \u001b[32m'MMSL'\u001b[0m, \n",
       "\u001b[32m'DRUGBANK'\u001b[0m\u001b[1m]\u001b[0m\u001b[1m}\u001b[0m, \u001b[32m'Bisoprolol \u001b[0m\u001b[32m(\u001b[0m\u001b[32mbisoprolol\u001b[0m\u001b[32m)\u001b[0m\u001b[32m'\u001b[0m: \u001b[1m{\u001b[0m\u001b[32m'19484'\u001b[0m: |\u001b[32m'GS'\u001b[0m, \u001b[32m'RXNORM'\u001b[0m, \u001b[32m'VANDF'\u001b[0m, \u001b[32m'NDDF'\u001b[0m, \u001b[32m'ATC'\u001b[0m, \u001b[32m'DRUGBANK'\u001b[0m\u001b[1m]\u001b[0m\u001b[1m}\u001b[0m, \n",
       "\u001b[32m'Lisinopril \u001b[0m\u001b[32m(\u001b[0m\u001b[32mlisinopril\u001b[0m\u001b[32m)\u001b[0m\u001b[32m'\u001b[0m: \u001b[1m{\u001b[0m\u001b[32m'29046'\u001b[0m: |\u001b[32m'USP'\u001b[0m, \u001b[32m'GS'\u001b[0m, \u001b[32m'RXNORM'\u001b[0m, \u001b[32m'VANDF'\u001b[0m, \u001b[32m'NDDF'\u001b[0m, \u001b[32m'MMSL'\u001b[0m, \u001b[32m'MMSL'\u001b[0m, \u001b[32m'ATC'\u001b[0m, \u001b[32m'DRUGBANK'\u001b[0m\u001b[1m]\u001b[0m\u001b[1m}\u001b[0m, \n",
       "\u001b[32m'Torasemide \u001b[0m\u001b[32m(\u001b[0m\u001b[32mtorasemide\u001b[0m\u001b[32m)\u001b[0m\u001b[32m'\u001b[0m: \u001b[1m{\u001b[0m\u001b[32m'38413'\u001b[0m: |\u001b[32m'ATC'\u001b[0m, \u001b[32m'DRUGBANK'\u001b[0m\u001b[1m]\u001b[0m\u001b[1m}\u001b[0m, \u001b[32m'Midazolam \u001b[0m\u001b[32m(\u001b[0m\u001b[32mmidazolam\u001b[0m\u001b[32m)\u001b[0m\u001b[32m'\u001b[0m: \u001b[1m{\u001b[0m\u001b[32m'6960'\u001b[0m: |\u001b[32m'USP'\u001b[0m, \u001b[32m'GS'\u001b[0m, \n",
       "\u001b[32m'RXNORM'\u001b[0m, \u001b[32m'VANDF'\u001b[0m, \u001b[32m'MMSL'\u001b[0m, \u001b[32m'MMSL'\u001b[0m, \u001b[32m'NDDF'\u001b[0m, \u001b[32m'ATC'\u001b[0m, \u001b[32m'DRUGBANK'\u001b[0m\u001b[1m]\u001b[0m\u001b[1m}\u001b[0m, \u001b[32m'Simvastatin \u001b[0m\u001b[32m(\u001b[0m\u001b[32msimvastatin\u001b[0m\u001b[32m)\u001b[0m\u001b[32m'\u001b[0m: \u001b[1m{\u001b[0m\u001b[32m'36567'\u001b[0m: |\u001b[32m'USP'\u001b[0m, \n",
       "\u001b[32m'GS'\u001b[0m, \u001b[32m'RXNORM'\u001b[0m, \u001b[32m'VANDF'\u001b[0m, \u001b[32m'MMSL'\u001b[0m, \u001b[32m'NDDF'\u001b[0m, \u001b[32m'MMSL'\u001b[0m, \u001b[32m'ATC'\u001b[0m, \u001b[32m'DRUGBANK'\u001b[0m\u001b[1m]\u001b[0m\u001b[1m}\u001b[0m, \u001b[32m'Ampicillin \u001b[0m\u001b[32m(\u001b[0m\u001b[32mampicillin\u001b[0m\u001b[32m)\u001b[0m\u001b[32m'\u001b[0m: \u001b[1m{\u001b[0m\u001b[32m'733'\u001b[0m: |\u001b[32m'USP'\u001b[0m, \n",
       "\u001b[32m'GS'\u001b[0m, \u001b[32m'RXNORM'\u001b[0m, \u001b[32m'VANDF'\u001b[0m, \u001b[32m'MMSL'\u001b[0m, \u001b[32m'NDDF'\u001b[0m, \u001b[32m'ATC'\u001b[0m, \u001b[32m'ATC'\u001b[0m, \u001b[32m'DRUGBANK'\u001b[0m\u001b[1m]\u001b[0m\u001b[1m}\u001b[0m, \u001b[32m'Doxycycline \u001b[0m\u001b[32m(\u001b[0m\u001b[32mdoxycycline\u001b[0m\u001b[32m)\u001b[0m\u001b[32m'\u001b[0m: \u001b[1m{\u001b[0m\u001b[32m'3640'\u001b[0m: |\u001b[32m'USP'\u001b[0m, \n",
       "\u001b[32m'RXNORM'\u001b[0m, \u001b[32m'VANDF'\u001b[0m, \u001b[32m'MMSL'\u001b[0m, \u001b[32m'NDDF'\u001b[0m, \u001b[32m'ATC'\u001b[0m, \u001b[32m'ATC'\u001b[0m, \u001b[32m'MMSL'\u001b[0m, \u001b[32m'DRUGBANK'\u001b[0m\u001b[1m]\u001b[0m\u001b[1m}\u001b[0m\u001b[1m}\u001b[0m\n"
      ]
     },
     "metadata": {},
     "output_type": "display_data"
    },
    {
     "data": {
      "text/html": [
       "<pre style=\"white-space:pre;overflow-x:auto;line-height:normal;font-family:Menlo,'DejaVu Sans Mono',consolas,'Courier New',monospace\"><span style=\"color: #7f7f7f; text-decoration-color: #7f7f7f\">[Step 2: Duration 2.26 seconds| Input tokens: 10,542 | Output tokens: 670]</span>\n",
       "</pre>\n"
      ],
      "text/plain": [
       "\u001b[2m[Step 2: Duration 2.26 seconds| Input tokens: 10,542 | Output tokens: 670]\u001b[0m\n"
      ]
     },
     "metadata": {},
     "output_type": "display_data"
    },
    {
     "data": {
      "text/html": [
       "<pre style=\"white-space:pre;overflow-x:auto;line-height:normal;font-family:Menlo,'DejaVu Sans Mono',consolas,'Courier New',monospace\"><span style=\"color: #d4b702; text-decoration-color: #d4b702\">━━━━━━━━━━━━━━━━━━━━━━━━━━━━━━━━━━━━━━━━━━━━━━━━━━━━━ </span><span style=\"font-weight: bold\">Step </span><span style=\"color: #008080; text-decoration-color: #008080; font-weight: bold\">3</span><span style=\"color: #d4b702; text-decoration-color: #d4b702\"> ━━━━━━━━━━━━━━━━━━━━━━━━━━━━━━━━━━━━━━━━━━━━━━━━━━━━━━</span>\n",
       "</pre>\n"
      ],
      "text/plain": [
       "\u001b[38;2;212;183;2m━━━━━━━━━━━━━━━━━━━━━━━━━━━━━━━━━━━━━━━━━━━━━━━━━━━━━ \u001b[0m\u001b[1mStep \u001b[0m\u001b[1;36m3\u001b[0m\u001b[38;2;212;183;2m ━━━━━━━━━━━━━━━━━━━━━━━━━━━━━━━━━━━━━━━━━━━━━━━━━━━━━━\u001b[0m\n"
      ]
     },
     "metadata": {},
     "output_type": "display_data"
    },
    {
     "data": {
      "text/html": [
       "<pre style=\"white-space:pre;overflow-x:auto;line-height:normal;font-family:Menlo,'DejaVu Sans Mono',consolas,'Courier New',monospace\">╭─────────────────────────────────────────────────────────────────────────────────────────────────────────────────╮\n",
       "│ Calling tool: 'get_atc' with arguments: {'rxcuis': ['17767', '19484', '29046', '38413', '6960', '36567', '733', │\n",
       "│ '3640']}                                                                                                        │\n",
       "╰─────────────────────────────────────────────────────────────────────────────────────────────────────────────────╯\n",
       "</pre>\n"
      ],
      "text/plain": [
       "╭─────────────────────────────────────────────────────────────────────────────────────────────────────────────────╮\n",
       "│ Calling tool: 'get_atc' with arguments: {'rxcuis': ['17767', '19484', '29046', '38413', '6960', '36567', '733', │\n",
       "│ '3640']}                                                                                                        │\n",
       "╰─────────────────────────────────────────────────────────────────────────────────────────────────────────────────╯\n"
      ]
     },
     "metadata": {},
     "output_type": "display_data"
    },
    {
     "data": {
      "text/html": [
       "<pre style=\"white-space:pre;overflow-x:auto;line-height:normal;font-family:Menlo,'DejaVu Sans Mono',consolas,'Courier New',monospace\">Observations: <span style=\"font-weight: bold\">{</span><span style=\"color: #008000; text-decoration-color: #008000\">'17767'</span>: <span style=\"font-weight: bold\">{</span><span style=\"color: #008000; text-decoration-color: #008000\">'atc_id'</span>: <span style=\"color: #008000; text-decoration-color: #008000\">'C09DX'</span>, <span style=\"color: #008000; text-decoration-color: #008000\">'atc_name'</span>: <span style=\"color: #008000; text-decoration-color: #008000\">'Angiotensin II receptor blockers (ARBs), other </span>\n",
       "<span style=\"color: #008000; text-decoration-color: #008000\">combinations'</span>, <span style=\"color: #008000; text-decoration-color: #008000\">'atc_type'</span>: <span style=\"color: #008000; text-decoration-color: #008000\">'ATC1-4'</span><span style=\"font-weight: bold\">}</span>, <span style=\"color: #008000; text-decoration-color: #008000\">'19484'</span>: <span style=\"font-weight: bold\">{</span><span style=\"color: #008000; text-decoration-color: #008000\">'atc_id'</span>: <span style=\"color: #008000; text-decoration-color: #008000\">'C07AB'</span>, <span style=\"color: #008000; text-decoration-color: #008000\">'atc_name'</span>: <span style=\"color: #008000; text-decoration-color: #008000\">'Beta blocking agents, selective'</span>, \n",
       "<span style=\"color: #008000; text-decoration-color: #008000\">'atc_type'</span>: <span style=\"color: #008000; text-decoration-color: #008000\">'ATC1-4'</span><span style=\"font-weight: bold\">}</span>, <span style=\"color: #008000; text-decoration-color: #008000\">'29046'</span>: <span style=\"font-weight: bold\">{</span><span style=\"color: #008000; text-decoration-color: #008000\">'atc_id'</span>: <span style=\"color: #008000; text-decoration-color: #008000\">'C09AA'</span>, <span style=\"color: #008000; text-decoration-color: #008000\">'atc_name'</span>: <span style=\"color: #008000; text-decoration-color: #008000\">'ACE inhibitors, plain'</span>, <span style=\"color: #008000; text-decoration-color: #008000\">'atc_type'</span>: <span style=\"color: #008000; text-decoration-color: #008000\">'ATC1-4'</span><span style=\"font-weight: bold\">}</span>, \n",
       "<span style=\"color: #008000; text-decoration-color: #008000\">'38413'</span>: <span style=\"font-weight: bold\">{</span><span style=\"color: #008000; text-decoration-color: #008000\">'atc_id'</span>: <span style=\"color: #008000; text-decoration-color: #008000\">'C03CA'</span>, <span style=\"color: #008000; text-decoration-color: #008000\">'atc_name'</span>: <span style=\"color: #008000; text-decoration-color: #008000\">'Sulfonamides, plain'</span>, <span style=\"color: #008000; text-decoration-color: #008000\">'atc_type'</span>: <span style=\"color: #008000; text-decoration-color: #008000\">'ATC1-4'</span><span style=\"font-weight: bold\">}</span>, <span style=\"color: #008000; text-decoration-color: #008000\">'6960'</span>: <span style=\"font-weight: bold\">{</span><span style=\"color: #008000; text-decoration-color: #008000\">'atc_id'</span>: <span style=\"color: #008000; text-decoration-color: #008000\">'N05CD'</span>, \n",
       "<span style=\"color: #008000; text-decoration-color: #008000\">'atc_name'</span>: <span style=\"color: #008000; text-decoration-color: #008000\">'Benzodiazepine derivatives'</span>, <span style=\"color: #008000; text-decoration-color: #008000\">'atc_type'</span>: <span style=\"color: #008000; text-decoration-color: #008000\">'ATC1-4'</span><span style=\"font-weight: bold\">}</span>, <span style=\"color: #008000; text-decoration-color: #008000\">'36567'</span>: <span style=\"font-weight: bold\">{</span><span style=\"color: #008000; text-decoration-color: #008000\">'atc_id'</span>: <span style=\"color: #008000; text-decoration-color: #008000\">'C10AA'</span>, <span style=\"color: #008000; text-decoration-color: #008000\">'atc_name'</span>: <span style=\"color: #008000; text-decoration-color: #008000\">'HMG CoA </span>\n",
       "<span style=\"color: #008000; text-decoration-color: #008000\">reductase inhibitors'</span>, <span style=\"color: #008000; text-decoration-color: #008000\">'atc_type'</span>: <span style=\"color: #008000; text-decoration-color: #008000\">'ATC1-4'</span><span style=\"font-weight: bold\">}</span>, <span style=\"color: #008000; text-decoration-color: #008000\">'733'</span>: <span style=\"font-weight: bold\">{</span><span style=\"color: #008000; text-decoration-color: #008000\">'atc_id'</span>: <span style=\"color: #008000; text-decoration-color: #008000\">'J01CR'</span>, <span style=\"color: #008000; text-decoration-color: #008000\">'atc_name'</span>: <span style=\"color: #008000; text-decoration-color: #008000\">'Combinations of penicillins, </span>\n",
       "<span style=\"color: #008000; text-decoration-color: #008000\">incl. beta-lactamase inhibitors'</span>, <span style=\"color: #008000; text-decoration-color: #008000\">'atc_type'</span>: <span style=\"color: #008000; text-decoration-color: #008000\">'ATC1-4'</span><span style=\"font-weight: bold\">}</span>, <span style=\"color: #008000; text-decoration-color: #008000\">'3640'</span>: <span style=\"font-weight: bold\">{</span><span style=\"color: #008000; text-decoration-color: #008000\">'atc_id'</span>: <span style=\"color: #008000; text-decoration-color: #008000\">'J01AA'</span>, <span style=\"color: #008000; text-decoration-color: #008000\">'atc_name'</span>: <span style=\"color: #008000; text-decoration-color: #008000\">'Tetracyclines'</span>, \n",
       "<span style=\"color: #008000; text-decoration-color: #008000\">'atc_type'</span>: <span style=\"color: #008000; text-decoration-color: #008000\">'ATC1-4'</span><span style=\"font-weight: bold\">}}</span>\n",
       "</pre>\n"
      ],
      "text/plain": [
       "Observations: \u001b[1m{\u001b[0m\u001b[32m'17767'\u001b[0m: \u001b[1m{\u001b[0m\u001b[32m'atc_id'\u001b[0m: \u001b[32m'C09DX'\u001b[0m, \u001b[32m'atc_name'\u001b[0m: \u001b[32m'Angiotensin II receptor blockers \u001b[0m\u001b[32m(\u001b[0m\u001b[32mARBs\u001b[0m\u001b[32m)\u001b[0m\u001b[32m, other \u001b[0m\n",
       "\u001b[32mcombinations'\u001b[0m, \u001b[32m'atc_type'\u001b[0m: \u001b[32m'ATC1-4'\u001b[0m\u001b[1m}\u001b[0m, \u001b[32m'19484'\u001b[0m: \u001b[1m{\u001b[0m\u001b[32m'atc_id'\u001b[0m: \u001b[32m'C07AB'\u001b[0m, \u001b[32m'atc_name'\u001b[0m: \u001b[32m'Beta blocking agents, selective'\u001b[0m, \n",
       "\u001b[32m'atc_type'\u001b[0m: \u001b[32m'ATC1-4'\u001b[0m\u001b[1m}\u001b[0m, \u001b[32m'29046'\u001b[0m: \u001b[1m{\u001b[0m\u001b[32m'atc_id'\u001b[0m: \u001b[32m'C09AA'\u001b[0m, \u001b[32m'atc_name'\u001b[0m: \u001b[32m'ACE inhibitors, plain'\u001b[0m, \u001b[32m'atc_type'\u001b[0m: \u001b[32m'ATC1-4'\u001b[0m\u001b[1m}\u001b[0m, \n",
       "\u001b[32m'38413'\u001b[0m: \u001b[1m{\u001b[0m\u001b[32m'atc_id'\u001b[0m: \u001b[32m'C03CA'\u001b[0m, \u001b[32m'atc_name'\u001b[0m: \u001b[32m'Sulfonamides, plain'\u001b[0m, \u001b[32m'atc_type'\u001b[0m: \u001b[32m'ATC1-4'\u001b[0m\u001b[1m}\u001b[0m, \u001b[32m'6960'\u001b[0m: \u001b[1m{\u001b[0m\u001b[32m'atc_id'\u001b[0m: \u001b[32m'N05CD'\u001b[0m, \n",
       "\u001b[32m'atc_name'\u001b[0m: \u001b[32m'Benzodiazepine derivatives'\u001b[0m, \u001b[32m'atc_type'\u001b[0m: \u001b[32m'ATC1-4'\u001b[0m\u001b[1m}\u001b[0m, \u001b[32m'36567'\u001b[0m: \u001b[1m{\u001b[0m\u001b[32m'atc_id'\u001b[0m: \u001b[32m'C10AA'\u001b[0m, \u001b[32m'atc_name'\u001b[0m: \u001b[32m'HMG CoA \u001b[0m\n",
       "\u001b[32mreductase inhibitors'\u001b[0m, \u001b[32m'atc_type'\u001b[0m: \u001b[32m'ATC1-4'\u001b[0m\u001b[1m}\u001b[0m, \u001b[32m'733'\u001b[0m: \u001b[1m{\u001b[0m\u001b[32m'atc_id'\u001b[0m: \u001b[32m'J01CR'\u001b[0m, \u001b[32m'atc_name'\u001b[0m: \u001b[32m'Combinations of penicillins, \u001b[0m\n",
       "\u001b[32mincl. beta-lactamase inhibitors'\u001b[0m, \u001b[32m'atc_type'\u001b[0m: \u001b[32m'ATC1-4'\u001b[0m\u001b[1m}\u001b[0m, \u001b[32m'3640'\u001b[0m: \u001b[1m{\u001b[0m\u001b[32m'atc_id'\u001b[0m: \u001b[32m'J01AA'\u001b[0m, \u001b[32m'atc_name'\u001b[0m: \u001b[32m'Tetracyclines'\u001b[0m, \n",
       "\u001b[32m'atc_type'\u001b[0m: \u001b[32m'ATC1-4'\u001b[0m\u001b[1m}\u001b[0m\u001b[1m}\u001b[0m\n"
      ]
     },
     "metadata": {},
     "output_type": "display_data"
    },
    {
     "data": {
      "text/html": [
       "<pre style=\"white-space:pre;overflow-x:auto;line-height:normal;font-family:Menlo,'DejaVu Sans Mono',consolas,'Courier New',monospace\"><span style=\"color: #7f7f7f; text-decoration-color: #7f7f7f\">[Step 3: Duration 1.69 seconds| Input tokens: 17,546 | Output tokens: 710]</span>\n",
       "</pre>\n"
      ],
      "text/plain": [
       "\u001b[2m[Step 3: Duration 1.69 seconds| Input tokens: 17,546 | Output tokens: 710]\u001b[0m\n"
      ]
     },
     "metadata": {},
     "output_type": "display_data"
    },
    {
     "data": {
      "text/html": [
       "<pre style=\"white-space:pre;overflow-x:auto;line-height:normal;font-family:Menlo,'DejaVu Sans Mono',consolas,'Courier New',monospace\"><span style=\"color: #d4b702; text-decoration-color: #d4b702\">━━━━━━━━━━━━━━━━━━━━━━━━━━━━━━━━━━━━━━━━━━━━━━━━━━━━━ </span><span style=\"font-weight: bold\">Step </span><span style=\"color: #008080; text-decoration-color: #008080; font-weight: bold\">4</span><span style=\"color: #d4b702; text-decoration-color: #d4b702\"> ━━━━━━━━━━━━━━━━━━━━━━━━━━━━━━━━━━━━━━━━━━━━━━━━━━━━━━</span>\n",
       "</pre>\n"
      ],
      "text/plain": [
       "\u001b[38;2;212;183;2m━━━━━━━━━━━━━━━━━━━━━━━━━━━━━━━━━━━━━━━━━━━━━━━━━━━━━ \u001b[0m\u001b[1mStep \u001b[0m\u001b[1;36m4\u001b[0m\u001b[38;2;212;183;2m ━━━━━━━━━━━━━━━━━━━━━━━━━━━━━━━━━━━━━━━━━━━━━━━━━━━━━━\u001b[0m\n"
      ]
     },
     "metadata": {},
     "output_type": "display_data"
    },
    {
     "data": {
      "text/html": [
       "<pre style=\"white-space:pre;overflow-x:auto;line-height:normal;font-family:Menlo,'DejaVu Sans Mono',consolas,'Courier New',monospace\">╭─────────────────────────────────────────────────────────────────────────────────────────────────────────────────╮\n",
       "│ Calling tool: 'save_csv' with arguments: {'task_name': 'medication', 'data': [{'patient_id': 5,                 │\n",
       "│ 'medication_reference': 'Amlodipin 10mg 1-0-0', 'medication_name': 'Amlodipin', 'medication_name_corrected':    │\n",
       "│ 'Amlodipine (amlodipine)', 'dose': 10, 'unit': 'mg', 'route': '', 'frequency': '1-0-0', 'frequency_code': 'AM', │\n",
       "│ 'rxcui': '17767', 'atc_id': 'C09DX', 'atc_name': 'Angiotensin II receptor blockers (ARBs), other combinations', │\n",
       "│ 'atc_type': 'ATC1-4'}, {'patient_id': 5, 'medication_reference': 'Bisoprolol 10mg 1-0-0', 'medication_name':    │\n",
       "│ 'Bisoprolol', 'medication_name_corrected': 'Bisoprolol (bisoprolol)', 'dose': 10, 'unit': 'mg', 'route': '',    │\n",
       "│ 'frequency': '1-0-0', 'frequency_code': 'AM', 'rxcui': '19484', 'atc_id': 'C07AB', 'atc_name': 'Beta blocking   │\n",
       "│ agents, selective', 'atc_type': 'ATC1-4'}, {'patient_id': 5, 'medication_reference': 'Lisinopril 30mg 1-0-0',   │\n",
       "│ 'medication_name': 'Lisinopril', 'medication_name_corrected': 'Lisinopril (lisinopril)', 'dose': 30, 'unit':    │\n",
       "│ 'mg', 'route': '', 'frequency': '1-0-0', 'frequency_code': 'AM', 'rxcui': '29046', 'atc_id': 'C09AA',           │\n",
       "│ 'atc_name': 'ACE inhibitors, plain', 'atc_type': 'ATC1-4'}, {'patient_id': 5, 'medication_reference':           │\n",
       "│ 'Torasemid 10mg 1-0-0', 'medication_name': 'Torasemid', 'medication_name_corrected': 'Torasemide (torasemide)', │\n",
       "│ 'dose': 10, 'unit': 'mg', 'route': '', 'frequency': '1-0-0', 'frequency_code': 'AM', 'rxcui': '38413',          │\n",
       "│ 'atc_id': 'C03CA', 'atc_name': 'Sulfonamides, plain', 'atc_type': 'ATC1-4'}, {'patient_id': 5,                  │\n",
       "│ 'medication_reference': 'Midazolam b.B.', 'medication_name': 'Midazolam', 'medication_name_corrected':          │\n",
       "│ 'Midazolam (midazolam)', 'dose': 0, 'unit': '', 'route': '', 'frequency': 'b.B.', 'frequency_code': 'PRN',      │\n",
       "│ 'rxcui': '6960', 'atc_id': 'N05CD', 'atc_name': 'Benzodiazepine derivatives', 'atc_type': 'ATC1-4'},            │\n",
       "│ {'patient_id': 5, 'medication_reference': 'Simvastatin 20mg 0-0-1', 'medication_name': 'Simvastatin',           │\n",
       "│ 'medication_name_corrected': 'Simvastatin (simvastatin)', 'dose': 20, 'unit': 'mg', 'route': '', 'frequency':   │\n",
       "│ '0-0-1', 'frequency_code': 'PM', 'rxcui': '36567', 'atc_id': 'C10AA', 'atc_name': 'HMG CoA reductase            │\n",
       "│ inhibitors', 'atc_type': 'ATC1-4'}, {'patient_id': 5, 'medication_reference': 'Ampicillin 4.5g 1-1-1-1',        │\n",
       "│ 'medication_name': 'Ampicillin', 'medication_name_corrected': 'Ampicillin (ampicillin)', 'dose': 4500, 'unit':  │\n",
       "│ 'mg', 'route': '', 'frequency': '1-1-1-1', 'frequency_code': 'QID', 'rxcui': '733', 'atc_id': 'J01CR',          │\n",
       "│ 'atc_name': 'Combinations of penicillins, incl. beta-lactamase inhibitors', 'atc_type': 'ATC1-4'},              │\n",
       "│ {'patient_id': 5, 'medication_reference': 'Doxycyclin 200 mg 0-1-0', 'medication_name': 'Doxycyclin',           │\n",
       "│ 'medication_name_corrected': 'Doxycycline (doxycycline)', 'dose': 200, 'unit': 'mg', 'route': '', 'frequency':  │\n",
       "│ '0-1-0', 'frequency_code': 'QD', 'rxcui': '3640', 'atc_id': 'J01AA', 'atc_name': 'Tetracyclines', 'atc_type':   │\n",
       "│ 'ATC1-4'}]}                                                                                                     │\n",
       "╰─────────────────────────────────────────────────────────────────────────────────────────────────────────────────╯\n",
       "</pre>\n"
      ],
      "text/plain": [
       "╭─────────────────────────────────────────────────────────────────────────────────────────────────────────────────╮\n",
       "│ Calling tool: 'save_csv' with arguments: {'task_name': 'medication', 'data': [{'patient_id': 5,                 │\n",
       "│ 'medication_reference': 'Amlodipin 10mg 1-0-0', 'medication_name': 'Amlodipin', 'medication_name_corrected':    │\n",
       "│ 'Amlodipine (amlodipine)', 'dose': 10, 'unit': 'mg', 'route': '', 'frequency': '1-0-0', 'frequency_code': 'AM', │\n",
       "│ 'rxcui': '17767', 'atc_id': 'C09DX', 'atc_name': 'Angiotensin II receptor blockers (ARBs), other combinations', │\n",
       "│ 'atc_type': 'ATC1-4'}, {'patient_id': 5, 'medication_reference': 'Bisoprolol 10mg 1-0-0', 'medication_name':    │\n",
       "│ 'Bisoprolol', 'medication_name_corrected': 'Bisoprolol (bisoprolol)', 'dose': 10, 'unit': 'mg', 'route': '',    │\n",
       "│ 'frequency': '1-0-0', 'frequency_code': 'AM', 'rxcui': '19484', 'atc_id': 'C07AB', 'atc_name': 'Beta blocking   │\n",
       "│ agents, selective', 'atc_type': 'ATC1-4'}, {'patient_id': 5, 'medication_reference': 'Lisinopril 30mg 1-0-0',   │\n",
       "│ 'medication_name': 'Lisinopril', 'medication_name_corrected': 'Lisinopril (lisinopril)', 'dose': 30, 'unit':    │\n",
       "│ 'mg', 'route': '', 'frequency': '1-0-0', 'frequency_code': 'AM', 'rxcui': '29046', 'atc_id': 'C09AA',           │\n",
       "│ 'atc_name': 'ACE inhibitors, plain', 'atc_type': 'ATC1-4'}, {'patient_id': 5, 'medication_reference':           │\n",
       "│ 'Torasemid 10mg 1-0-0', 'medication_name': 'Torasemid', 'medication_name_corrected': 'Torasemide (torasemide)', │\n",
       "│ 'dose': 10, 'unit': 'mg', 'route': '', 'frequency': '1-0-0', 'frequency_code': 'AM', 'rxcui': '38413',          │\n",
       "│ 'atc_id': 'C03CA', 'atc_name': 'Sulfonamides, plain', 'atc_type': 'ATC1-4'}, {'patient_id': 5,                  │\n",
       "│ 'medication_reference': 'Midazolam b.B.', 'medication_name': 'Midazolam', 'medication_name_corrected':          │\n",
       "│ 'Midazolam (midazolam)', 'dose': 0, 'unit': '', 'route': '', 'frequency': 'b.B.', 'frequency_code': 'PRN',      │\n",
       "│ 'rxcui': '6960', 'atc_id': 'N05CD', 'atc_name': 'Benzodiazepine derivatives', 'atc_type': 'ATC1-4'},            │\n",
       "│ {'patient_id': 5, 'medication_reference': 'Simvastatin 20mg 0-0-1', 'medication_name': 'Simvastatin',           │\n",
       "│ 'medication_name_corrected': 'Simvastatin (simvastatin)', 'dose': 20, 'unit': 'mg', 'route': '', 'frequency':   │\n",
       "│ '0-0-1', 'frequency_code': 'PM', 'rxcui': '36567', 'atc_id': 'C10AA', 'atc_name': 'HMG CoA reductase            │\n",
       "│ inhibitors', 'atc_type': 'ATC1-4'}, {'patient_id': 5, 'medication_reference': 'Ampicillin 4.5g 1-1-1-1',        │\n",
       "│ 'medication_name': 'Ampicillin', 'medication_name_corrected': 'Ampicillin (ampicillin)', 'dose': 4500, 'unit':  │\n",
       "│ 'mg', 'route': '', 'frequency': '1-1-1-1', 'frequency_code': 'QID', 'rxcui': '733', 'atc_id': 'J01CR',          │\n",
       "│ 'atc_name': 'Combinations of penicillins, incl. beta-lactamase inhibitors', 'atc_type': 'ATC1-4'},              │\n",
       "│ {'patient_id': 5, 'medication_reference': 'Doxycyclin 200 mg 0-1-0', 'medication_name': 'Doxycyclin',           │\n",
       "│ 'medication_name_corrected': 'Doxycycline (doxycycline)', 'dose': 200, 'unit': 'mg', 'route': '', 'frequency':  │\n",
       "│ '0-1-0', 'frequency_code': 'QD', 'rxcui': '3640', 'atc_id': 'J01AA', 'atc_name': 'Tetracyclines', 'atc_type':   │\n",
       "│ 'ATC1-4'}]}                                                                                                     │\n",
       "╰─────────────────────────────────────────────────────────────────────────────────────────────────────────────────╯\n"
      ]
     },
     "metadata": {},
     "output_type": "display_data"
    },
    {
     "data": {
      "text/html": [
       "<pre style=\"white-space:pre;overflow-x:auto;line-height:normal;font-family:Menlo,'DejaVu Sans Mono',consolas,'Courier New',monospace\">Observations: Saved data for task medication to \n",
       "<span style=\"color: #800080; text-decoration-color: #800080\">/workspaces/examples/results/0cb005dfd3a1424ea95226d6e6530312/</span><span style=\"color: #ff00ff; text-decoration-color: #ff00ff\">medication.csv</span>\n",
       "</pre>\n"
      ],
      "text/plain": [
       "Observations: Saved data for task medication to \n",
       "\u001b[35m/workspaces/examples/results/0cb005dfd3a1424ea95226d6e6530312/\u001b[0m\u001b[95mmedication.csv\u001b[0m\n"
      ]
     },
     "metadata": {},
     "output_type": "display_data"
    },
    {
     "data": {
      "text/html": [
       "<pre style=\"white-space:pre;overflow-x:auto;line-height:normal;font-family:Menlo,'DejaVu Sans Mono',consolas,'Courier New',monospace\"><span style=\"color: #7f7f7f; text-decoration-color: #7f7f7f\">[Step 4: Duration 7.04 seconds| Input tokens: 25,031 | Output tokens: 1,588]</span>\n",
       "</pre>\n"
      ],
      "text/plain": [
       "\u001b[2m[Step 4: Duration 7.04 seconds| Input tokens: 25,031 | Output tokens: 1,588]\u001b[0m\n"
      ]
     },
     "metadata": {},
     "output_type": "display_data"
    },
    {
     "data": {
      "text/html": [
       "<pre style=\"white-space:pre;overflow-x:auto;line-height:normal;font-family:Menlo,'DejaVu Sans Mono',consolas,'Courier New',monospace\"><span style=\"color: #d4b702; text-decoration-color: #d4b702\">━━━━━━━━━━━━━━━━━━━━━━━━━━━━━━━━━━━━━━━━━━━━━━━━━━━━━ </span><span style=\"font-weight: bold\">Step </span><span style=\"color: #008080; text-decoration-color: #008080; font-weight: bold\">5</span><span style=\"color: #d4b702; text-decoration-color: #d4b702\"> ━━━━━━━━━━━━━━━━━━━━━━━━━━━━━━━━━━━━━━━━━━━━━━━━━━━━━━</span>\n",
       "</pre>\n"
      ],
      "text/plain": [
       "\u001b[38;2;212;183;2m━━━━━━━━━━━━━━━━━━━━━━━━━━━━━━━━━━━━━━━━━━━━━━━━━━━━━ \u001b[0m\u001b[1mStep \u001b[0m\u001b[1;36m5\u001b[0m\u001b[38;2;212;183;2m ━━━━━━━━━━━━━━━━━━━━━━━━━━━━━━━━━━━━━━━━━━━━━━━━━━━━━━\u001b[0m\n"
      ]
     },
     "metadata": {},
     "output_type": "display_data"
    },
    {
     "data": {
      "text/html": [
       "<pre style=\"white-space:pre;overflow-x:auto;line-height:normal;font-family:Menlo,'DejaVu Sans Mono',consolas,'Courier New',monospace\">╭─────────────────────────────────────────────────────────────────────────────────────────────────────────────────╮\n",
       "│ Calling tool: 'final_answer' with arguments: {'answer': 'The medications for patient 5 have been successfully   │\n",
       "│ extracted and saved as a CSV file at                                                                            │\n",
       "│ /workspaces/examples/results/0cb005dfd3a1424ea95226d6e6530312/medication.csv'}                                  │\n",
       "╰─────────────────────────────────────────────────────────────────────────────────────────────────────────────────╯\n",
       "</pre>\n"
      ],
      "text/plain": [
       "╭─────────────────────────────────────────────────────────────────────────────────────────────────────────────────╮\n",
       "│ Calling tool: 'final_answer' with arguments: {'answer': 'The medications for patient 5 have been successfully   │\n",
       "│ extracted and saved as a CSV file at                                                                            │\n",
       "│ /workspaces/examples/results/0cb005dfd3a1424ea95226d6e6530312/medication.csv'}                                  │\n",
       "╰─────────────────────────────────────────────────────────────────────────────────────────────────────────────────╯\n"
      ]
     },
     "metadata": {},
     "output_type": "display_data"
    },
    {
     "data": {
      "text/html": [
       "<pre style=\"white-space:pre;overflow-x:auto;line-height:normal;font-family:Menlo,'DejaVu Sans Mono',consolas,'Courier New',monospace\">Observations: The medications for patient <span style=\"color: #008080; text-decoration-color: #008080; font-weight: bold\">5</span> have been successfully extracted and saved as a CSV file at \n",
       "<span style=\"color: #800080; text-decoration-color: #800080\">/workspaces/examples/results/0cb005dfd3a1424ea95226d6e6530312/</span><span style=\"color: #ff00ff; text-decoration-color: #ff00ff\">medication.csv</span>\n",
       "</pre>\n"
      ],
      "text/plain": [
       "Observations: The medications for patient \u001b[1;36m5\u001b[0m have been successfully extracted and saved as a CSV file at \n",
       "\u001b[35m/workspaces/examples/results/0cb005dfd3a1424ea95226d6e6530312/\u001b[0m\u001b[95mmedication.csv\u001b[0m\n"
      ]
     },
     "metadata": {},
     "output_type": "display_data"
    },
    {
     "data": {
      "text/html": [
       "<pre style=\"white-space:pre;overflow-x:auto;line-height:normal;font-family:Menlo,'DejaVu Sans Mono',consolas,'Courier New',monospace\"><span style=\"color: #d4b702; text-decoration-color: #d4b702; font-weight: bold\">Final answer: The medications for patient 5 have been successfully extracted and saved as a CSV file at </span>\n",
       "<span style=\"color: #d4b702; text-decoration-color: #d4b702; font-weight: bold\">/workspaces/examples/results/0cb005dfd3a1424ea95226d6e6530312/medication.csv</span>\n",
       "</pre>\n"
      ],
      "text/plain": [
       "\u001b[1;38;2;212;183;2mFinal answer: The medications for patient 5 have been successfully extracted and saved as a CSV file at \u001b[0m\n",
       "\u001b[1;38;2;212;183;2m/workspaces/examples/results/0cb005dfd3a1424ea95226d6e6530312/medication.csv\u001b[0m\n"
      ]
     },
     "metadata": {},
     "output_type": "display_data"
    },
    {
     "data": {
      "text/html": [
       "<pre style=\"white-space:pre;overflow-x:auto;line-height:normal;font-family:Menlo,'DejaVu Sans Mono',consolas,'Courier New',monospace\"><span style=\"color: #7f7f7f; text-decoration-color: #7f7f7f\">[Step 5: Duration 0.85 seconds| Input tokens: 34,777 | Output tokens: 1,647]</span>\n",
       "</pre>\n"
      ],
      "text/plain": [
       "\u001b[2m[Step 5: Duration 0.85 seconds| Input tokens: 34,777 | Output tokens: 1,647]\u001b[0m\n"
      ]
     },
     "metadata": {},
     "output_type": "display_data"
    }
   ],
   "source": [
    "from medminer.utils.models import DefaultModel\n",
    "from medminer.task.medication import MedicationTask\n",
    "\n",
    "task = MedicationTask(DefaultModel().model, base_dir=base_path / \"examples\" / \"results\")\n",
    "\n",
    "for doc in docs[:1]:\n",
    "    task.run(doc.content)"
   ]
  },
  {
   "cell_type": "code",
   "execution_count": null,
   "metadata": {},
   "outputs": [],
   "source": []
  }
 ],
 "metadata": {
  "kernelspec": {
   "display_name": ".venv",
   "language": "python",
   "name": "python3"
  },
  "language_info": {
   "codemirror_mode": {
    "name": "ipython",
    "version": 3
   },
   "file_extension": ".py",
   "mimetype": "text/x-python",
   "name": "python",
   "nbconvert_exporter": "python",
   "pygments_lexer": "ipython3",
   "version": "3.13.3"
  }
 },
 "nbformat": 4,
 "nbformat_minor": 2
}
