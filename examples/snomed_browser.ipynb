{
 "cells": [
  {
   "cell_type": "code",
   "execution_count": null,
   "id": "fd684853",
   "metadata": {},
   "outputs": [],
   "source": [
    "import httpx"
   ]
  },
  {
   "cell_type": "code",
   "execution_count": null,
   "id": "f83a4a31",
   "metadata": {},
   "outputs": [],
   "source": [
    "def snomed_browser(term: str, limit: int = 100, semanticTag: str = \"procedure\") -> list[dict]:\n",
    "    \"\"\"\n",
    "    Search SNOMED CT for concepts matching the given term.\n",
    "    \"\"\"\n",
    "    base_url = \"http://snowstorm:8080\"\n",
    "    edition = \"MAIN\"\n",
    "\n",
    "    url = f\"{base_url}/{edition}/concepts\"\n",
    "\n",
    "    params = {\n",
    "        # \"term\": term,\n",
    "        \"activeFilter\": \"true\",  # recommended filter by SNOMED CT\n",
    "        \"termActive\": \"true\",  # recommended filter by SNOMED CT\n",
    "        \"ecl\": f'< 71388002|Procedure| {{{{ term = (\"{term}\") }}}}',\n",
    "    }\n",
    "\n",
    "    print(params)\n",
    "    with httpx.Client() as client:\n",
    "        response = client.get(url, params=params)\n",
    "        response.raise_for_status()\n",
    "        items = response.json().get(\"items\", [])\n",
    "        filtered_matches = [\n",
    "            match\n",
    "            for match in items\n",
    "            # if match[\"definitionStatus\"] == \"FULLY_DEFINED\"\n",
    "        ]\n",
    "        filtered_matches = sorted(\n",
    "            filtered_matches,\n",
    "            key=lambda x: len(x[\"fsn\"][\"term\"]),\n",
    "        )\n",
    "        return filtered_matches[:limit]"
   ]
  },
  {
   "cell_type": "code",
   "execution_count": null,
   "id": "70d8c986",
   "metadata": {},
   "outputs": [],
   "source": [
    "search_term = \"Electroencephalogram\"\n",
    "matches = snomed_browser(search_term)\n",
    "\n",
    "matches"
   ]
  },
  {
   "cell_type": "code",
   "execution_count": null,
   "id": "e814f5a9",
   "metadata": {},
   "outputs": [],
   "source": [
    "from medminer.tools.procedure import SNOMEDTool, SNOMEDQueryMethod\n",
    "\n",
    "\n",
    "tool = SNOMEDTool(base_url=\"http://snowstorm:8080\", edition=\"MAIN\")\n",
    "tool.forward(\"Computed Cranial Tomography\")"
   ]
  },
  {
   "cell_type": "code",
   "execution_count": null,
   "id": "4391eeb3",
   "metadata": {},
   "outputs": [],
   "source": [
    "tool._build_ecl_query(\"Computed Cranial Tomography\", method=SNOMEDQueryMethod.ANY)"
   ]
  },
  {
   "cell_type": "code",
   "execution_count": null,
   "id": "4e7ac9bc",
   "metadata": {},
   "outputs": [],
   "source": []
  }
 ],
 "metadata": {
  "kernelspec": {
   "display_name": ".venv",
   "language": "python",
   "name": "python3"
  },
  "language_info": {
   "codemirror_mode": {
    "name": "ipython",
    "version": 3
   },
   "file_extension": ".py",
   "mimetype": "text/x-python",
   "name": "python",
   "nbconvert_exporter": "python",
   "pygments_lexer": "ipython3",
   "version": "3.13.3"
  }
 },
 "nbformat": 4,
 "nbformat_minor": 5
}
