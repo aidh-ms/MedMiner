{
 "cells": [
  {
   "cell_type": "code",
   "execution_count": null,
   "id": "fd684853",
   "metadata": {},
   "outputs": [],
   "source": [
    "import httpx"
   ]
  },
  {
   "cell_type": "code",
   "execution_count": null,
   "id": "f83a4a31",
   "metadata": {},
   "outputs": [],
   "source": [
    "def snomed_browser(term: str, limit: int = 100, semanticTag: str = \"procedure\") -> list[dict]:\n",
    "    \"\"\"\n",
    "    Search SNOMED CT for concepts matching the given term.\n",
    "    \"\"\"\n",
    "    base_url = \"https://snowstorm.snomedtools.org/snowstorm/snomed-ct\"\n",
    "    edition = \"MAIN\"\n",
    "    version = \"\"\n",
    "\n",
    "    url = f\"{base_url}/browser/{edition}/{version}/descriptions\"\n",
    "\n",
    "    params = {\n",
    "        \"term\": term,\n",
    "        \"conceptActive\": \"true\",\n",
    "        \"lang\": \"english\",\n",
    "        \"limit\": limit,\n",
    "    }\n",
    "    if semanticTag:\n",
    "        params[\"semanticTag\"] = semanticTag\n",
    "\n",
    "    with httpx.Client() as client:\n",
    "        response = client.get(url, params=params)\n",
    "        response.raise_for_status()\n",
    "        items = response.json().get(\"items\", [])\n",
    "\n",
    "    return items"
   ]
  },
  {
   "cell_type": "code",
   "execution_count": null,
   "id": "70d8c986",
   "metadata": {},
   "outputs": [
    {
     "ename": "HTTPStatusError",
     "evalue": "Client error '429 Too Many Requests' for url 'https://snowstorm.snomedtools.org/snowstorm/snomed-ct/browser/MAIN//descriptions?term=colonoscopy&conceptActive=true&lang=english&limit=100&semanticTag=procedure'\nFor more information check: https://developer.mozilla.org/en-US/docs/Web/HTTP/Status/429",
     "output_type": "error",
     "traceback": [
      "\u001b[31m---------------------------------------------------------------------------\u001b[39m",
      "\u001b[31mHTTPStatusError\u001b[39m                           Traceback (most recent call last)",
      "\u001b[36mCell\u001b[39m\u001b[36m \u001b[39m\u001b[32mIn[6]\u001b[39m\u001b[32m, line 2\u001b[39m\n\u001b[32m      1\u001b[39m search_term = \u001b[33m\"\u001b[39m\u001b[33mcolonoscopy\u001b[39m\u001b[33m\"\u001b[39m\n\u001b[32m----> \u001b[39m\u001b[32m2\u001b[39m matches = \u001b[43msnomed_browser\u001b[49m\u001b[43m(\u001b[49m\u001b[43msearch_term\u001b[49m\u001b[43m)\u001b[49m\n",
      "\u001b[36mCell\u001b[39m\u001b[36m \u001b[39m\u001b[32mIn[5]\u001b[39m\u001b[32m, line 22\u001b[39m, in \u001b[36msnomed_browser\u001b[39m\u001b[34m(term, limit, semanticTag)\u001b[39m\n\u001b[32m     20\u001b[39m \u001b[38;5;28;01mwith\u001b[39;00m httpx.Client() \u001b[38;5;28;01mas\u001b[39;00m client:\n\u001b[32m     21\u001b[39m     response = client.get(url, params=params)\n\u001b[32m---> \u001b[39m\u001b[32m22\u001b[39m     \u001b[43mresponse\u001b[49m\u001b[43m.\u001b[49m\u001b[43mraise_for_status\u001b[49m\u001b[43m(\u001b[49m\u001b[43m)\u001b[49m\n\u001b[32m     23\u001b[39m     items = response.json().get(\u001b[33m\"\u001b[39m\u001b[33mitems\u001b[39m\u001b[33m\"\u001b[39m, [])\n\u001b[32m     25\u001b[39m \u001b[38;5;28;01mreturn\u001b[39;00m items\n",
      "\u001b[36mFile \u001b[39m\u001b[32m~/Projects/aidh-ms/MedMiner/.venv/lib/python3.13/site-packages/httpx/_models.py:829\u001b[39m, in \u001b[36mResponse.raise_for_status\u001b[39m\u001b[34m(self)\u001b[39m\n\u001b[32m    827\u001b[39m error_type = error_types.get(status_class, \u001b[33m\"\u001b[39m\u001b[33mInvalid status code\u001b[39m\u001b[33m\"\u001b[39m)\n\u001b[32m    828\u001b[39m message = message.format(\u001b[38;5;28mself\u001b[39m, error_type=error_type)\n\u001b[32m--> \u001b[39m\u001b[32m829\u001b[39m \u001b[38;5;28;01mraise\u001b[39;00m HTTPStatusError(message, request=request, response=\u001b[38;5;28mself\u001b[39m)\n",
      "\u001b[31mHTTPStatusError\u001b[39m: Client error '429 Too Many Requests' for url 'https://snowstorm.snomedtools.org/snowstorm/snomed-ct/browser/MAIN//descriptions?term=colonoscopy&conceptActive=true&lang=english&limit=100&semanticTag=procedure'\nFor more information check: https://developer.mozilla.org/en-US/docs/Web/HTTP/Status/429"
     ]
    }
   ],
   "source": [
    "search_term = \"colonoscopy\"\n",
    "matches = snomed_browser(search_term)"
   ]
  }
 ],
 "metadata": {
  "kernelspec": {
   "display_name": ".venv",
   "language": "python",
   "name": "python3"
  },
  "language_info": {
   "codemirror_mode": {
    "name": "ipython",
    "version": 3
   },
   "file_extension": ".py",
   "mimetype": "text/x-python",
   "name": "python",
   "nbconvert_exporter": "python",
   "pygments_lexer": "ipython3",
   "version": "3.13.0"
  }
 },
 "nbformat": 4,
 "nbformat_minor": 5
}
