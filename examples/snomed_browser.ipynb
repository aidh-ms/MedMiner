{
 "cells": [
  {
   "cell_type": "code",
   "execution_count": null,
   "id": "fd684853",
   "metadata": {},
   "outputs": [],
   "source": [
    "import httpx"
   ]
  },
  {
   "cell_type": "code",
   "execution_count": null,
   "id": "f83a4a31",
   "metadata": {},
   "outputs": [],
   "source": [
    "def snomed_browser(term: str, limit: int = 100, semanticTag: str = \"procedure\") -> list[dict]:\n",
    "    \"\"\"\n",
    "    Search SNOMED CT for concepts matching the given term.\n",
    "    \"\"\"\n",
    "    base_url = \"http://snowstorm:8080\"\n",
    "    edition = \"MAIN\"\n",
    "\n",
    "    url = f\"{base_url}/{edition}/concepts\"\n",
    "\n",
    "    params = {\n",
    "        \"term\": term,\n",
    "        \"activeFilter\": \"true\",  # recommended filter by SNOMED CT\n",
    "        \"termActive\": \"true\",  # recommended filter by SNOMED CT\n",
    "    }\n",
    "\n",
    "    print(semanticTag)\n",
    "    with httpx.Client() as client:\n",
    "        response = client.get(url, params=params)\n",
    "        response.raise_for_status()\n",
    "        items = response.json().get(\"items\", [])\n",
    "        filtered_matches = [\n",
    "            {\n",
    "                \"id\": match[\"conceptId\"],\n",
    "                \"term\": match[\"pt\"][\"term\"],\n",
    "                \"fsn\": match[\"fsn\"][\"term\"],\n",
    "            }\n",
    "            for match in items\n",
    "            if match[\"definitionStatus\"] == \"FULLY_DEFINED\"\n",
    "            and (semanticTag is None or semanticTag in match[\"fsn\"][\"term\"])\n",
    "        ]\n",
    "        return filtered_matches[:limit]"
   ]
  },
  {
   "cell_type": "code",
   "execution_count": null,
   "id": "70d8c986",
   "metadata": {},
   "outputs": [],
   "source": [
    "search_term = \"colonoscopy\"\n",
    "matches = snomed_browser(search_term)"
   ]
  },
  {
   "cell_type": "code",
   "execution_count": null,
   "id": "6e63c877",
   "metadata": {},
   "outputs": [],
   "source": [
    "matches"
   ]
  }
 ],
 "metadata": {
  "kernelspec": {
   "display_name": ".venv",
   "language": "python",
   "name": "python3"
  },
  "language_info": {
   "codemirror_mode": {
    "name": "ipython",
    "version": 3
   },
   "file_extension": ".py",
   "mimetype": "text/x-python",
   "name": "python",
   "nbconvert_exporter": "python",
   "pygments_lexer": "ipython3",
   "version": "3.13.3"
  }
 },
 "nbformat": 4,
 "nbformat_minor": 5
}
