{
 "cells": [
  {
   "cell_type": "code",
   "execution_count": 16,
   "id": "fd684853",
   "metadata": {},
   "outputs": [],
   "source": [
    "import httpx"
   ]
  },
  {
   "cell_type": "code",
   "execution_count": 17,
   "id": "f83a4a31",
   "metadata": {},
   "outputs": [],
   "source": [
    "def snomed_browser(term: str, limit: int = 100, semanticTag: str = \"procedure\") -> list[dict]:\n",
    "    \"\"\"\n",
    "    Search SNOMED CT for concepts matching the given term.\n",
    "    \"\"\"\n",
    "    base_url = \"http://localhost:8080\"\n",
    "    edition = \"MAIN\"\n",
    "\n",
    "    url = f\"{base_url}/{edition}/concepts\"\n",
    "\n",
    "    params = {\n",
    "        \"term\": term,\n",
    "        \"activeFilter\": \"true\",  # recommended filter by SNOMED CT\n",
    "        \"termActive\": \"true\",  # recommended filter by SNOMED CT\n",
    "    }\n",
    "\n",
    "    print(semanticTag)\n",
    "    with httpx.Client() as client:\n",
    "        response = client.get(url, params=params)\n",
    "        response.raise_for_status()\n",
    "        items = response.json().get(\"items\", [])\n",
    "        filtered_matches = [\n",
    "            {\n",
    "                \"id\": match[\"conceptId\"],\n",
    "                \"term\": match[\"pt\"][\"term\"],\n",
    "                \"fsn\": match[\"fsn\"][\"term\"],\n",
    "            }\n",
    "            for match in items\n",
    "            if match[\"definitionStatus\"] == \"FULLY_DEFINED\"\n",
    "            and (semanticTag is None or semanticTag in match[\"fsn\"][\"term\"])\n",
    "        ]\n",
    "        return filtered_matches[:limit]"
   ]
  },
  {
   "cell_type": "code",
   "execution_count": 18,
   "id": "70d8c986",
   "metadata": {},
   "outputs": [
    {
     "name": "stdout",
     "output_type": "stream",
     "text": [
      "procedure\n"
     ]
    }
   ],
   "source": [
    "search_term = \"colonoscopy\"\n",
    "matches = snomed_browser(search_term)"
   ]
  },
  {
   "cell_type": "code",
   "execution_count": 19,
   "id": "6e63c877",
   "metadata": {},
   "outputs": [
    {
     "data": {
      "text/plain": [
       "[{'id': '73761001', 'term': 'Colonoscopy', 'fsn': 'Colonoscopy (procedure)'},\n",
       " {'id': '235150006',\n",
       "  'term': 'Total colonoscopy',\n",
       "  'fsn': 'Total colonoscopy (procedure)'},\n",
       " {'id': '444783004',\n",
       "  'term': 'Screening colonoscopy',\n",
       "  'fsn': 'Screening colonoscopy (procedure)'},\n",
       " {'id': '447021001',\n",
       "  'term': 'Colonoscopy and tattooing',\n",
       "  'fsn': 'Colonoscopy and tattooing (procedure)'},\n",
       " {'id': '710293001',\n",
       "  'term': 'Fluoroscopy guided colonoscopy',\n",
       "  'fsn': 'Colonoscopy using fluoroscopic guidance (procedure)'},\n",
       " {'id': '711307001',\n",
       "  'term': 'Plain X-ray guided colonoscopy',\n",
       "  'fsn': 'Colonoscopy using plain X-ray guidance (procedure)'},\n",
       " {'id': '446745002',\n",
       "  'term': 'Colonoscopy and biopsy of colon',\n",
       "  'fsn': 'Colonoscopy and biopsy of colon (procedure)'},\n",
       " {'id': '1204476003',\n",
       "  'term': 'Capsule endoscopy of large intestine',\n",
       "  'fsn': 'Endoscopy of large intestine using video capsule endoscopy system (procedure)'},\n",
       " {'id': '1304043009',\n",
       "  'term': 'Colonoscopy and suturing of colon',\n",
       "  'fsn': 'Colonoscopy and suturing of colon (procedure)'},\n",
       " {'id': '1304042004',\n",
       "  'term': 'Colonoscopic suturing of rectum',\n",
       "  'fsn': 'Colonoscopy and suturing of rectum (procedure)'},\n",
       " {'id': '446521004',\n",
       "  'term': 'Colonoscopy and excision of mucosa of colon',\n",
       "  'fsn': 'Colonoscopy and excision of mucosa of colon (procedure)'},\n",
       " {'id': '698409004',\n",
       "  'term': 'Colonoscopic control of bleeding',\n",
       "  'fsn': 'Colonoscopic control of bleeding (procedure)'},\n",
       " {'id': '1260482004',\n",
       "  'term': 'Colonoscopic stent insertion',\n",
       "  'fsn': 'Insertion of stent into colon using colonoscope (procedure)'},\n",
       " {'id': '1304044003',\n",
       "  'term': 'Colonoscopy and suturing of small intestine',\n",
       "  'fsn': 'Colonoscopy and suturing of small intestine (procedure)'},\n",
       " {'id': '235343002',\n",
       "  'term': 'Colonoscopy and extirpation of lesion of colon',\n",
       "  'fsn': 'Colonoscopy and extirpation of lesion of colon (procedure)'},\n",
       " {'id': '709421007',\n",
       "  'term': 'Colonoscopy and dilation of stricture of colon',\n",
       "  'fsn': 'Colonoscopy and dilation of stricture of colon (procedure)'},\n",
       " {'id': '789778002',\n",
       "  'term': 'Colonoscopy and fecal microbiota transplantation',\n",
       "  'fsn': 'Colonoscopy and fecal microbiota transplantation (procedure)'},\n",
       " {'id': '1304049008',\n",
       "  'term': 'Colonoscopy and full thickness resection of colon',\n",
       "  'fsn': 'Colonoscopy and full thickness resection of colon (procedure)'},\n",
       " {'id': '1304045002',\n",
       "  'term': 'Colonoscopy and full thickness resection of rectum',\n",
       "  'fsn': 'Colonoscopy and full thickness resection of rectum (procedure)'},\n",
       " {'id': '1209098000',\n",
       "  'term': 'Fiberoptic colonoscopy with biopsy of lesion of colon',\n",
       "  'fsn': 'Fiberoptic colonoscopy with biopsy of lesion of colon (procedure)'},\n",
       " {'id': '288122006',\n",
       "  'term': 'Lower bowel endoscopy - removal of object',\n",
       "  'fsn': 'Colonoscopy and removal of foreign body from lower bowel (procedure)'},\n",
       " {'id': '1304050008',\n",
       "  'term': 'Colonoscopy and full thickness resection of small intestine',\n",
       "  'fsn': 'Colonoscopy and full thickness resection of small intestine (procedure)'}]"
      ]
     },
     "execution_count": 19,
     "metadata": {},
     "output_type": "execute_result"
    }
   ],
   "source": [
    "matches"
   ]
  }
 ],
 "metadata": {
  "kernelspec": {
   "display_name": ".venv",
   "language": "python",
   "name": "python3"
  },
  "language_info": {
   "codemirror_mode": {
    "name": "ipython",
    "version": 3
   },
   "file_extension": ".py",
   "mimetype": "text/x-python",
   "name": "python",
   "nbconvert_exporter": "python",
   "pygments_lexer": "ipython3",
   "version": "3.13.0"
  }
 },
 "nbformat": 4,
 "nbformat_minor": 5
}
