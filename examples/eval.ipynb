{
 "cells": [
  {
   "cell_type": "code",
   "execution_count": null,
   "id": "045a50b7",
   "metadata": {},
   "outputs": [],
   "source": [
    "from pathlib import Path\n",
    "\n",
    "import pandas as pd\n",
    "\n",
    "base_path = Path.cwd().parent / \"data\""
   ]
  },
  {
   "cell_type": "code",
   "execution_count": null,
   "id": "dd488c8b",
   "metadata": {},
   "outputs": [],
   "source": [
    "from medminer.utils.data import Document\n",
    "\n",
    "df = pd.read_excel(base_path / \"eval\" / \"freetext_vormedikation_subset.xlsx\")\n",
    "\n",
    "docs = []\n",
    "for _, row in df.iterrows():\n",
    "    docs.append(Document(row[\"PID\"], row[\"textvalue\"]))"
   ]
  },
  {
   "cell_type": "code",
   "execution_count": null,
   "id": "e77938d3",
   "metadata": {},
   "outputs": [],
   "source": [
    "from medminer.utils.models import DefaultModel\n",
    "from medminer.task.medication import MedicationTask\n",
    "\n",
    "task = MedicationTask(DefaultModel().model, base_dir=base_path / \"examples\" / \"results\")\n",
    "\n",
    "for doc in docs:\n",
    "    task.run(doc.content)"
   ]
  },
  {
   "cell_type": "code",
   "execution_count": null,
   "id": "528b38c4",
   "metadata": {},
   "outputs": [],
   "source": [
    "pred_df = pd.read_csv(base_path / \"examples\" / \"results\" / task._settings.get(\"session_id\") / \"medication.csv\")\n",
    "pred_df"
   ]
  },
  {
   "cell_type": "code",
   "execution_count": null,
   "id": "f51344c6",
   "metadata": {},
   "outputs": [],
   "source": [
    "# pred_df = pd.read_csv(base_path / \"examples\" / \"results\" / \"1d66d073f8f345f693d48eda5bc2485c\" / \"medication.csv\")"
   ]
  },
  {
   "cell_type": "code",
   "execution_count": null,
   "id": "4cf1ee57",
   "metadata": {},
   "outputs": [],
   "source": [
    "true_df = pd.read_excel(base_path / \"eval\" / \"medication.xlsx\")\n",
    "true_df = df[[\"PID\"]].merge(true_df, left_on=\"PID\", right_on=\"patient_id\")\n",
    "true_df = true_df.drop(columns=[\"PID\", \"Unnamed: 15\", \"Unnamed: 16\"])\n",
    "true_df[\"atc_id\"] = true_df[\"atc_id\"].astype(str)\n",
    "true_df.loc[true_df[\"atc_id\"].isin([\"nan\", \"0\"]), \"atc_id\"] = None"
   ]
  },
  {
   "cell_type": "code",
   "execution_count": null,
   "id": "6a3ad74e",
   "metadata": {},
   "outputs": [],
   "source": [
    "mapping = {}\n",
    "for patient_id, _true_df in true_df.groupby(\"patient_id\"):\n",
    "    _pred_df = pred_df[pred_df[\"patient_id\"] == patient_id]    \n",
    "    _mapping = {\n",
    "        idx: None\n",
    "        for idx in _pred_df.index\n",
    "    }\n",
    "\n",
    "    def _get_unmapped(mapping):\n",
    "        return (\n",
    "            list(set(_true_df.index.values.tolist()) - set(mapping.values())),\n",
    "            list(set(_pred_df.index.values.tolist()) - {k for k, v in mapping.items() if v is not None})\n",
    "        )\n",
    "\n",
    "    pred_atc = _pred_df[\"atc_id\"].str[:5].dropna().drop_duplicates(keep=False)\n",
    "    for true_idx, atc_id in _true_df[\"atc_id\"].str[:5].dropna().drop_duplicates(keep=False).items():\n",
    "        pred_idx = pred_atc[pred_atc.str.startswith(atc_id)].index.values\n",
    "\n",
    "        if len(pred_idx) == 1:\n",
    "            _mapping[pred_idx[0]] = true_idx\n",
    "\n",
    "    _not_mapped_true, _not_mapped_pred = _get_unmapped(_mapping)\n",
    "    for true_idx, true_name in _true_df.loc[_not_mapped_true, \"medication_name\"].str.strip().str.lower().items():\n",
    "        pred_idx = _pred_df.loc[_not_mapped_pred][\n",
    "            _pred_df.loc[_not_mapped_pred, \"medication_name\"].str.strip().str.lower() == true_name\n",
    "        ].index.values\n",
    "\n",
    "        if len(pred_idx) == 1:\n",
    "            _mapping[pred_idx[0]] = true_idx\n",
    "            _not_mapped_true, _not_mapped_pred = _get_unmapped(_mapping)\n",
    "\n",
    "    _not_mapped_true, _not_mapped_pred = _get_unmapped(_mapping)\n",
    "    if _not_mapped_true and _not_mapped_pred:\n",
    "        print(\"true\\n\", _true_df.loc[_not_mapped_true])\n",
    "        print(\"pred\\n\", _pred_df.loc[_not_mapped_pred])\n",
    "\n",
    "    mapping.update(_mapping)"
   ]
  },
  {
   "cell_type": "code",
   "execution_count": null,
   "id": "6d3d7007",
   "metadata": {},
   "outputs": [],
   "source": [
    "pred_df_copy = pred_df.copy()\n",
    "pred_df_copy.index = pred_df.index.map(mapping)\n",
    "pred_df_copy"
   ]
  },
  {
   "cell_type": "code",
   "execution_count": null,
   "id": "511efd9c",
   "metadata": {},
   "outputs": [],
   "source": [
    "res_df = true_df.join(pred_df_copy, lsuffix=\"_true\", rsuffix=\"_pred\", how=\"outer\")\n",
    "res_df[\"patient_id\"] = res_df[\"patient_id_true\"].fillna(res_df[\"patient_id_pred\"])\n",
    "res_df = res_df.sort_values([\"patient_id\", \"atc_id_true\", \"medication_name_true\"]).reset_index(drop=True)\n",
    "res_df\n"
   ]
  },
  {
   "cell_type": "code",
   "execution_count": null,
   "id": "74307a86",
   "metadata": {},
   "outputs": [],
   "source": []
  }
 ],
 "metadata": {
  "kernelspec": {
   "display_name": "medminer-py3.13 (3.13.7)",
   "language": "python",
   "name": "python3"
  },
  "language_info": {
   "codemirror_mode": {
    "name": "ipython",
    "version": 3
   },
   "file_extension": ".py",
   "mimetype": "text/x-python",
   "name": "python",
   "nbconvert_exporter": "python",
   "pygments_lexer": "ipython3",
   "version": "3.13.7"
  }
 },
 "nbformat": 4,
 "nbformat_minor": 5
}
