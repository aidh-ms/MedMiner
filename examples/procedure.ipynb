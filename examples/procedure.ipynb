{
 "cells": [
  {
   "cell_type": "code",
   "execution_count": null,
   "metadata": {},
   "outputs": [],
   "source": [
    "from pathlib import Path\n",
    "from medminer.data import Document\n",
    "\n",
    "base_path = Path.cwd().parent\n",
    "\n",
    "docs = []\n",
    "for file in (base_path / \"data\" / \"icu_course\").glob(\"*.txt\"):\n",
    "    with open(file, \"r\") as f:\n",
    "        docs.append(Document(file.stem, f.read()))"
   ]
  },
  {
   "cell_type": "code",
   "execution_count": null,
   "metadata": {},
   "outputs": [],
   "source": [
    "from medminer.utils.models import DefaultModel\n",
    "from medminer.task.procedure import ProcedureTask\n",
    "\n",
    "task = ProcedureTask(\n",
    "    DefaultModel().model, \n",
    "    base_dir=base_path / \"examples\" / \"results\",\n",
    "    base_url=\"http://snowstorm:8080\",\n",
    "    edition=\"MAIN\",\n",
    ")\n",
    "\n",
    "for doc in docs[:1]:\n",
    "    task.run(doc.content)"
   ]
  },
  {
   "cell_type": "code",
   "execution_count": null,
   "metadata": {},
   "outputs": [],
   "source": []
  }
 ],
 "metadata": {
  "kernelspec": {
   "display_name": ".venv",
   "language": "python",
   "name": "python3"
  },
  "language_info": {
   "codemirror_mode": {
    "name": "ipython",
    "version": 3
   },
   "file_extension": ".py",
   "mimetype": "text/x-python",
   "name": "python",
   "nbconvert_exporter": "python",
   "pygments_lexer": "ipython3",
   "version": "3.13.3"
  }
 },
 "nbformat": 4,
 "nbformat_minor": 2
}
